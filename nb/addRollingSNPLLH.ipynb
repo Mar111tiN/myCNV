{
 "cells": [
  {
   "cell_type": "code",
   "execution_count": null,
   "metadata": {
    "ExecuteTime": {
     "end_time": "2020-11-12T10:36:08.102079Z",
     "start_time": "2020-11-12T10:36:08.049531Z"
    }
   },
   "outputs": [],
   "source": [
    "# HOME\n",
    "import os\n",
    "import matplotlib as mpl\n",
    "import matplotlib.pyplot as plt\n",
    "# use seaborn plotting defaults\n",
    "import seaborn as sns; sns.set()\n",
    "\n",
    "# get the code\n",
    "import sys\n",
    "sys.path.append('../scripts')\n",
    "from codeCNV.plot import plot_snp, plot_2d, plot_3d\n",
    "from codeCNV.rollingCNV import apply_rolling_SNP, llh\n",
    "\n",
    "home = '/Users/mahtin'\n",
    "home = '/Users/martinscience'\n",
    "# standard paths\n",
    "testdata = os.path.join(home,\"Dropbox/Icke/Work/somVar/testdata\")\n",
    "static_path = os.path.join(home, \"Dropbox/Icke/Work/static\")\n",
    "cluster_path = os.path.join(home, \"mount\")\n",
    "tooldata = os.path.join(home, \"Dropbox/Icke/Work/somVar/tooldata\")\n",
    "\n",
    "# load the config\n",
    "# edit config directly in yaml file\n",
    "import yaml\n",
    "config_file = '../config/config_devel.yaml'\n",
    "def get_config(config_file, param):\n",
    "        with open(config_file) as file:\n",
    "        # The FullLoader parameter handles the conversion from YAML\n",
    "        # scalar values to Python the dictionary format\n",
    "            config = yaml.load(file, Loader=yaml.FullLoader)['CNV'][param]\n",
    "        return config\n",
    "config = get_config(config_file, 'combine')\n",
    "\n",
    "\n",
    "cnvdata = os.path.join(tooldata, \"myCNVdata\")\n",
    "output_path = os.path.join(cnvdata, \"output\")\n",
    "\n",
    "# the path to the input data\n",
    "cnv_path = os.path.join(cnvdata, \"cnv\")\n",
    "cnvPON_path = cnv_path = os.path.join(cnvdata, \"chromCov\")\n",
    "cnv_path = os.path.join(cluster_path, \"scratch/develop/PONcoverage/cnv\")\n",
    "cnvPON_path = os.path.join(cluster_path, \"scratch/develop/PONcoverage/chromCov\")"
   ]
  },
  {
   "cell_type": "markdown",
   "metadata": {},
   "source": [
    "## get the SNP data with FullExonPos"
   ]
  },
  {
   "cell_type": "code",
   "execution_count": null,
   "metadata": {
    "ExecuteTime": {
     "end_time": "2020-11-12T12:16:48.757699Z",
     "start_time": "2020-11-12T12:16:47.837055Z"
    }
   },
   "outputs": [],
   "source": [
    "sample = \"02_A\"\n",
    "snp_df = pd.read_csv(os.path.join(output_path, f'tmp/{sample}.snpcov.gz'), sep='\\t', compression='gzip')"
   ]
  },
  {
   "cell_type": "code",
   "execution_count": null,
   "metadata": {
    "ExecuteTime": {
     "end_time": "2020-11-12T12:17:00.964603Z",
     "start_time": "2020-11-12T12:17:00.071041Z"
    }
   },
   "outputs": [],
   "source": [
    "log2 = dict(\n",
    "        title='log2ratio',\n",
    "        plot_type='scatter',   # ['line', 'scatter']\n",
    "        data='log2ratio',\n",
    "        plot_args=dict(\n",
    "            linewidth=0.3,\n",
    "            color='black',\n",
    "            s=0.2,\n",
    "            alpha=.7\n",
    "        )\n",
    "    )\n",
    "\n",
    "log2mean = dict(\n",
    "        title='rollinglog2ratio',\n",
    "        plot_type='line',   # ['line', 'scatter']\n",
    "        data='log2ratiomean',\n",
    "        plot_args=dict(\n",
    "            linewidth=1,\n",
    "            color='yellow',\n",
    "            alpha=.7\n",
    "        )\n",
    "    )\n",
    "\n",
    "vaf = dict(\n",
    "        title='VAF',\n",
    "        plot_type='scatter',  # ['line', 'scatter']\n",
    "        data='VAF',\n",
    "        plot_args=dict(\n",
    "            s=2,\n",
    "            color='black',\n",
    "            alpha=1\n",
    "        )\n",
    "    )\n",
    "\n",
    "fig_params = dict(\n",
    "    figsize=(24,8),\n",
    "    colormap='coolwarm_r',\n",
    "    color_chroms=True,\n",
    "    ylim=(0,1),\n",
    "    cov_offset=.1,  # how much log2ratio=0 is shifted above SNP-data\n",
    "    cov_height=.5,\n",
    "    label_size=13\n",
    ")\n",
    "chroms = ['chr5', 'chr7','chr8', 'chr11', 'chr17']\n",
    "r1 = 'chr17:3Mb-9Mb'\n",
    "\n",
    "fig, ax, df, chrom_df = plot_snp(snp_df, snp_plots=[vaf], cov_plots=[log2, log2mean], chroms='all', region='', **fig_params)"
   ]
  },
  {
   "cell_type": "markdown",
   "metadata": {},
   "source": [
    "### strategy for finding cluster\n",
    "+ look at one chrom\n",
    "+ get the mean from the middle range (0.4 < VAF < 0.6)\n",
    "+ compute loglikelihood for samples\n",
    "+ compute rolling sum "
   ]
  },
  {
   "cell_type": "code",
   "execution_count": null,
   "metadata": {
    "ExecuteTime": {
     "end_time": "2020-11-12T10:36:18.415455Z",
     "start_time": "2020-11-12T10:36:17.883978Z"
    }
   },
   "outputs": [],
   "source": [
    "import numpy.random as rnd\n",
    "\n",
    "\n",
    "# chr17 only\n",
    "df = snp_df.query('Chr == \"chr17\"')\n",
    "\n",
    "sigma = 0.02\n",
    "# get the mean of the center band\n",
    "mean = df.query('0.4 < VAF < 0.6')['VAF'].mean()\n",
    "mean\n",
    "\n",
    "df2 = df.query('@mean - 0.1 < VAF < @mean + 0.1')\n",
    "def llh(data, mean, sigma):\n",
    "    s = np.sqrt(2 * np.pi) * sigma\n",
    "    return np.exp((data - mean)**2 / (-2*(sigma**2))) / s\n",
    "r = np.linspace(0,1,1000000)\n",
    "plt.scatter(r, llh(r, mean, sigma), s=.01, alpha=0.1);\n",
    "plt.scatter(r, llh(r, 1, 0.02), s=.01, alpha=0.1);\n",
    "plt.scatter(df.iloc[:1000,:]['VAF'], rnd.random(1000)*10, s=1)\n",
    "df2.loc[:, 'llh'] = llh(df2['VAF'], mean, sigma)\n",
    "\n",
    "\n",
    "df2.loc[:, 'LLH'] = df2['llh'].rolling(50).sum()\n",
    "df2.loc[:, 'LLH'] = df2['LLH'] / df2['LLH'].max()\n",
    "df2.loc[:, 'absVAF'] = np.abs(df2['VAF'] - mean) * 2"
   ]
  },
  {
   "cell_type": "code",
   "execution_count": null,
   "metadata": {
    "ExecuteTime": {
     "end_time": "2020-11-12T10:29:38.807797Z",
     "start_time": "2020-11-12T10:29:38.783751Z"
    }
   },
   "outputs": [],
   "source": [
    "center_vaf = snp_df.query('0.4 < VAF < 0.6')['VAF']\n",
    "print(f\"std={center_vaf.std()}\")\n",
    "print(f\"mean={center_vaf.mean()}\")"
   ]
  },
  {
   "cell_type": "code",
   "execution_count": null,
   "metadata": {
    "ExecuteTime": {
     "end_time": "2020-11-12T10:51:28.229706Z",
     "start_time": "2020-11-12T10:51:28.224385Z"
    }
   },
   "outputs": [],
   "source": [
    "def compute_snp_llh(df, config):\n",
    "    '''\n",
    "    computes the local log-likelihood of belonging to the center gaussian\n",
    "    '''\n",
    "    \n",
    "    # get config params\n",
    "    params = config['snp']['LLH']\n",
    "    \n",
    "    # get sigma and mean for llh computation\n",
    "    minVAF, maxVAF = params['center_range']\n",
    "    # get the sigma and mean of the center band VAF (extracted as pd.Series center_vafs)\n",
    "    center_vafs = df.query('@minVAF < VAF < @maxVAF')['VAF']\n",
    "    # get width of gaussian from std * sigma_factor\n",
    "    sigma = center_vafs.std() * params['sigma_factor']\n",
    "    mean = center_vafs.mean()\n",
    "    print(f\"Computing log-likelihood of VAF belonging to center gaussian [mean:{round(mean, 3)}, sigma:{round(sigma,3)}]\")\n",
    "    df.loc[:, 'snpLLH'] = llh(df['VAF'], mean, sigma)\n",
    "    print(f\"Computing log-likelihood of VAF belonging to purity100  [mean:1, sigma:{round(sigma,3)}]\")\n",
    "    # these are called hsnp\n",
    "    df.loc[:, 'hsnpLLH'] = llh(df['VAF'], 1, sigma)\n",
    "    return df, mean"
   ]
  },
  {
   "cell_type": "code",
   "execution_count": null,
   "metadata": {
    "ExecuteTime": {
     "end_time": "2020-11-12T10:52:20.086174Z",
     "start_time": "2020-11-12T10:52:20.006456Z"
    }
   },
   "outputs": [],
   "source": [
    "df, mean = compute_snp_llh(snp_df, config)\n",
    "df"
   ]
  },
  {
   "cell_type": "code",
   "execution_count": null,
   "metadata": {
    "ExecuteTime": {
     "end_time": "2020-11-12T10:35:59.764974Z",
     "start_time": "2020-11-12T10:35:59.355252Z"
    }
   },
   "outputs": [],
   "source": [
    "absvaf = dict(\n",
    "        title='absVAF',\n",
    "        plot_type='scatter',  # ['line', 'scatter']\n",
    "        data='absVAF',\n",
    "        plot_args=dict(\n",
    "            s=2,\n",
    "            color='blue',\n",
    "            alpha=.7\n",
    "        )\n",
    "    )\n",
    "\n",
    "\n",
    "LLH = dict(\n",
    "        title='log2ratio',\n",
    "        plot_type='line',   # ['line', 'scatter']\n",
    "        data='LLH',\n",
    "        plot_args=dict(\n",
    "            linewidth=1,\n",
    "            color='yellow',\n",
    "            alpha=.7\n",
    "        )\n",
    "    )\n",
    "\n",
    "_ = plot_snp(df2, snp_plots=[absvaf, LLH], chroms='all', region='', **fig_params)"
   ]
  },
  {
   "cell_type": "code",
   "execution_count": null,
   "metadata": {
    "ExecuteTime": {
     "end_time": "2020-11-07T13:01:47.463812Z",
     "start_time": "2020-11-07T13:01:47.148688Z"
    }
   },
   "outputs": [],
   "source": [
    "from sklearn.mixture import GaussianMixture as GMM\n",
    "from sklearn.metrics import silhouette_score as ssc\n",
    "\n",
    "xcol = 'VAF'\n",
    "ycol = \"log2ratiomean\"\n",
    "df = snp_df.query('Chr == \"chr17\" and VAF > 0.02').iloc[:500,:]\n",
    "select_cols = ['VAF']\n",
    "X = df[select_cols]\n",
    "\n",
    "model = GMM(n_components=4, covariance_type='diag', n_init=20).fit(X)\n",
    "labels = model.predict(X)\n",
    "fig, ax = plt.subplots()\n",
    "\n",
    "_ = ax.scatter(df[xcol], df[ycol], c=labels, s=1, cmap='rainbow')\n",
    "_ = ax.set_xlabel(xcol, fontsize=10)\n",
    "_ = ax.set_ylabel(ycol, fontsize=10)\n",
    "ssc(X, labels, metric='euclidean')"
   ]
  },
  {
   "cell_type": "code",
   "execution_count": null,
   "metadata": {
    "ExecuteTime": {
     "end_time": "2020-11-07T13:01:51.571537Z",
     "start_time": "2020-11-07T13:01:51.566816Z"
    }
   },
   "outputs": [],
   "source": [
    "model.means_"
   ]
  },
  {
   "cell_type": "code",
   "execution_count": null,
   "metadata": {
    "ExecuteTime": {
     "end_time": "2020-11-07T13:01:56.715310Z",
     "start_time": "2020-11-07T13:01:56.710669Z"
    }
   },
   "outputs": [],
   "source": [
    "model.covariances_"
   ]
  }
 ],
 "metadata": {
  "kernelspec": {
   "display_name": "Python 3",
   "language": "python",
   "name": "python3"
  },
  "language_info": {
   "codemirror_mode": {
    "name": "ipython",
    "version": 3
   },
   "file_extension": ".py",
   "mimetype": "text/x-python",
   "name": "python",
   "nbconvert_exporter": "python",
   "pygments_lexer": "ipython3",
   "version": "3.8.6"
  },
  "varInspector": {
   "cols": {
    "lenName": 16,
    "lenType": 16,
    "lenVar": 40
   },
   "kernels_config": {
    "python": {
     "delete_cmd_postfix": "",
     "delete_cmd_prefix": "del ",
     "library": "var_list.py",
     "varRefreshCmd": "print(var_dic_list())"
    },
    "r": {
     "delete_cmd_postfix": ") ",
     "delete_cmd_prefix": "rm(",
     "library": "var_list.r",
     "varRefreshCmd": "cat(var_dic_list()) "
    }
   },
   "types_to_exclude": [
    "module",
    "function",
    "builtin_function_or_method",
    "instance",
    "_Feature"
   ],
   "window_display": false
  }
 },
 "nbformat": 4,
 "nbformat_minor": 4
}
