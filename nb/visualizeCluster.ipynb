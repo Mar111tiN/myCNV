{
 "cells": [
  {
   "cell_type": "code",
   "execution_count": null,
   "metadata": {
    "ExecuteTime": {
     "end_time": "2020-12-08T14:22:07.172487Z",
     "start_time": "2020-12-08T14:22:07.128520Z"
    }
   },
   "outputs": [],
   "source": [
    "# HOME\n",
    "home = '/Users/mahtin'\n",
    "home = '/Users/martinscience'\n",
    "\n",
    "import os\n",
    "import scipy\n",
    "\n",
    "# standard paths\n",
    "testdata = os.path.join(home,\"Dropbox/Icke/Work/somVar/testdata\")\n",
    "static_path = os.path.join(home, \"Dropbox/Icke/Work/static\")\n",
    "cluster_path = os.path.join(home, \"mount\")\n",
    "tooldata = os.path.join(home, \"Dropbox/Icke/Work/somVar/tooldata\")\n",
    "# get the code\n",
    "import sys\n",
    "sys.path.append('../scripts')\n",
    "from codeCNV.rollingSNP import apply_rolling_SNP\n",
    "from codeCNV.plot import add_chrom_labels, set_ticks, make_color_chroms, sort_df, get_chrom_df\n",
    "from script_utils import show_output\n",
    "\n",
    "# load the config\n",
    "# edit config directly in yaml file\n",
    "import yaml\n",
    "config_file = '../config/config_devel.yaml'\n",
    "def get_config(config_file, param):\n",
    "        with open(config_file) as file:\n",
    "        # The FullLoader parameter handles the conversion from YAML\n",
    "        # scalar values to Python the dictionary format\n",
    "            config = yaml.load(file, Loader=yaml.FullLoader)['CNV'][param]\n",
    "        return config\n",
    "config = get_config(config_file, 'combine')\n",
    "\n",
    "cnvdata = os.path.join(tooldata, \"myCNVdata\")\n",
    "output_path = os.path.join(cnvdata, \"output\")\n",
    "plot_path = f'{home}/Dropbox/Icke/Work/myLabmeeting/figures/matplotlib'"
   ]
  },
  {
   "cell_type": "markdown",
   "metadata": {},
   "source": [
    "### visualize the data"
   ]
  },
  {
   "cell_type": "code",
   "execution_count": null,
   "metadata": {
    "ExecuteTime": {
     "end_time": "2020-12-08T14:22:19.928142Z",
     "start_time": "2020-12-08T14:22:08.010979Z"
    }
   },
   "outputs": [],
   "source": [
    "sample = \"08_A\"\n",
    "snp_df = pd.read_csv(os.path.join(output_path, f'tmp/{sample}.snpcov.gz'), sep='\\t', compression='gzip')\n",
    "rsnp_df, cluster_df = apply_rolling_SNP(snp_df, config)"
   ]
  },
  {
   "cell_type": "code",
   "execution_count": null,
   "metadata": {
    "ExecuteTime": {
     "end_time": "2020-12-08T14:23:04.178481Z",
     "start_time": "2020-12-08T14:23:03.547610Z"
    }
   },
   "outputs": [],
   "source": [
    "log2 = dict(\n",
    "        title='log2ratio',\n",
    "        plot_type='scatter',   # ['line', 'scatter']\n",
    "        data='log2ratio',\n",
    "        plot_args=dict(\n",
    "            linewidth=0.50,\n",
    "            color='black',\n",
    "            s=1,\n",
    "            alpha=.9\n",
    "        )\n",
    "    )\n",
    "\n",
    "log2mean = dict(\n",
    "        title='rollinglog2ratio',\n",
    "        plot_type='line',   # ['line', 'scatter']\n",
    "        data='log2ratiomean',\n",
    "        plot_args=dict(\n",
    "            linewidth=.5,\n",
    "            color='yellow',\n",
    "            alpha=.7\n",
    "        )\n",
    "    )\n",
    "\n",
    "vaf = dict(\n",
    "        title='VAF',\n",
    "        plot_type='scatter',  # ['line', 'scatter']\n",
    "        data='VAF',\n",
    "        plot_args=dict(\n",
    "            s=.5,\n",
    "            color='black',\n",
    "            alpha=.7\n",
    "        )\n",
    "    )\n",
    "\n",
    "vafC = dict(\n",
    "        title='VAF',\n",
    "        plot_type='scatter',  # ['line', 'scatter']\n",
    "        data='VAF',\n",
    "        plot_args=dict(\n",
    "            s=1,\n",
    "            c='snpCNVcore',\n",
    "            cmap=\"seismic\",\n",
    "            alpha=.7\n",
    "        )\n",
    "    )\n",
    "absvaf = dict(\n",
    "        title='absVAF',\n",
    "        plot_type='scatter',  # ['line', 'scatter']\n",
    "        data='absVAF',\n",
    "        plot_args=dict(\n",
    "            s=1,\n",
    "            c='dbscan',\n",
    "            alpha=.7\n",
    "        )\n",
    "    )\n",
    "\n",
    "absvafmean = dict(\n",
    "        title='deltaVAFvar',\n",
    "        plot_type='line',   # ['line', 'scatter']\n",
    "        data='deltaVAFvar',\n",
    "        plot_args=dict(\n",
    "            linewidth=1,\n",
    "            color='blue',\n",
    "            alpha=.7\n",
    "        )\n",
    "    )\n",
    "\n",
    "snpllhsum = dict(\n",
    "        title='snpLLHsum',\n",
    "        plot_type='line',   # ['line', 'scatter']\n",
    "        data='snpLLHsum',\n",
    "        plot_args=dict(\n",
    "            linewidth=.5,\n",
    "            color='red',\n",
    "            alpha=.7\n",
    "        )\n",
    "    )\n",
    "\n",
    "fig_params = dict(\n",
    "    figsize=(24,8),\n",
    "    colormap='coolwarm_r',\n",
    "    color_chroms=True,\n",
    "    ylim=(0,1),\n",
    "    cov_offset=.1,  # how much log2ratio=0 is shifted above SNP-data\n",
    "    cov_height=.5,\n",
    "    label_size=13\n",
    ")\n",
    "\n",
    "fig, _, _, _ = plot_snp2(cluster_df, snp_plots=[vaf, snpllhsum], cov_plots=[log2,log2mean], chroms='all', region='', **fig_params)"
   ]
  },
  {
   "cell_type": "markdown",
   "metadata": {},
   "source": [
    "### expand plot_snp functionality to showing clusters"
   ]
  },
  {
   "cell_type": "code",
   "execution_count": null,
   "metadata": {
    "ExecuteTime": {
     "end_time": "2020-12-08T14:22:57.969908Z",
     "start_time": "2020-12-08T14:22:57.955016Z"
    }
   },
   "outputs": [],
   "source": [
    "def plot_snp2(df, snp_plots=[], cov_plots=[], chroms='all', cov_offset=.25, cov_height=0.5, color_chroms=True, colormap='coolwarm_r', region='', label_size=12, figsize=(20, 4), ylim=(-1, 1)):\n",
    "\n",
    "    MAXLOG2RATIO = 2.5\n",
    "    #### DATA MANGELING ##########\n",
    "    # get cols for rearranging\n",
    "    org_cols = list(df.columns)\n",
    "\n",
    "    # sort the df\n",
    "    df = sort_df(df)\n",
    "    # reduce the df to the selected chromosomes\n",
    "    if region:\n",
    "        chrom, start, end = extract_pos(region)\n",
    "        df = df.query('Chr == @chrom and @start <= Pos <= @end')\n",
    "    elif chroms != 'all':\n",
    "        df = df.query('Chr in @chroms')\n",
    "\n",
    "    # get the chrom_df for collapsing the\n",
    "    chrom_df = get_chrom_df(df)\n",
    "    df = df.merge(chrom_df.loc[:, 'dif'], on='Chr')\n",
    "    df['PlotPos'] = df['FullExonPos'] - df['dif']\n",
    "    # rearrange the df as return value\n",
    "    new_cols = org_cols[:4] + ['PlotPos'] + org_cols[4:]\n",
    "    df = df.loc[:, new_cols]\n",
    "\n",
    "    #########################\n",
    "    ######## PLOTTING #######\n",
    "    # plot the figure\n",
    "    fig, ax = plt.subplots(figsize=figsize)\n",
    "\n",
    "    # set the x-axis limits\n",
    "    _ = ax.set_xlim(0, df['PlotPos'].max())\n",
    "\n",
    "    # PLOT COV Data\n",
    "    if len(cov_plots):\n",
    "        scale_factor = cov_height / (MAXLOG2RATIO + 1)\n",
    "        offset = 1 + scale_factor + cov_offset\n",
    "\n",
    "        ylim = (ylim[0], ylim[1] + cov_offset + cov_height)\n",
    "\n",
    "        for plot in cov_plots:\n",
    "            # normalize the coverage data:\n",
    "            # 2.5 is the approx max log2ratio (LOH to 8N)\n",
    "\n",
    "            df[plot['data']] = df[plot['data']] * scale_factor + offset\n",
    "            \n",
    "            minus, zero, one = [c * scale_factor + offset for c in [-1, 0, 1]]\n",
    "            if plot['plot_type'] == 'line':\n",
    "                plot = ax.plot(df['PlotPos'], df[plot['data']],\n",
    "                               **plot['plot_args'])\n",
    "            elif plot['plot_type'] == 'scatter':\n",
    "                # highjack plot_args\n",
    "                pa = plot['plot_args']\n",
    "                if \"c\" in pa:\n",
    "                    pa['c'] = df[pa['c']]\n",
    "                if \"s\" in pa:\n",
    "                    if isinstance(pa['s'], str):\n",
    "                        pa['s'] = df[pa['s']] * 20 + 1\n",
    "                plot = ax.scatter(df['PlotPos'], df[plot['data']], **pa)\n",
    "\n",
    "    ######## plot the SNP graphs #######\n",
    "    for plot in snp_plots:\n",
    "        if plot['plot_type'] == 'line':\n",
    "            plot = ax.plot(df['PlotPos'], df[plot['data']],\n",
    "                           **plot['plot_args'])\n",
    "        elif plot['plot_type'] == 'scatter':\n",
    "            # highjack plot_args with\n",
    "            pa = plot['plot_args']\n",
    "            if \"c\" in pa:\n",
    "                pa['c'] = df[pa['c']]\n",
    "            if \"s\" in pa:\n",
    "                if isinstance(pa['s'], str):\n",
    "                    pa['s'] = df[pa['s']] * 20 + 1\n",
    "            plot = ax.scatter(df['PlotPos'], df[plot['data']], **pa)\n",
    "\n",
    "    _ = ax.set_ylim(ylim)\n",
    "    # add the color chroms\n",
    "    _ = make_color_chroms(ax, chrom_df, color_chroms,\n",
    "                          ylimits=ax.get_ylim(), colormap=colormap)\n",
    "\n",
    "    ######## LABELS ###################\n",
    "    # set the axis labels\n",
    "    _ = ax.set_xlabel('genomic coords', fontsize=1.25*label_size)\n",
    "    # quick fix for one y-label\n",
    "    _ = ax.set_ylabel(' / '.join([plot['title']\n",
    "                                  for plot in snp_plots]), fontsize=1.25*label_size)\n",
    "\n",
    "    ######## CHROM LABELS #############\n",
    "    add_chrom_labels(ax, chrom_df, ax.get_ylim())\n",
    "\n",
    "    ####### X-AXIS ####################\n",
    "    # set major ticks and grid for chrom\n",
    "\n",
    "    ax = set_ticks(ax, df, chrom_df, label_size=label_size)\n",
    "        # set helper lines\n",
    "    _ = ax.axhline(y=1, c='k', lw=3, ls=\"-\")\n",
    "    _ = ax.axhline(y=.5, c='k', lw=1.5, alpha=0.5, ls=\"--\")\n",
    "    \n",
    "    _ = ax.axhline(y=minus, c='k', lw=1.5, alpha=0.5, ls=\"--\")\n",
    "    _ = ax.axhline(y=zero, c='k', lw=1.5, alpha=0.5, ls=\"-\")\n",
    "    _ = ax.axhline(y=one, c='k', lw=1.5, alpha=0.5, ls=\"--\")\n",
    "    # return fig and ax for further plotting and return edited dataframe\n",
    "    return fig, ax, df, chrom_df"
   ]
  },
  {
   "cell_type": "code",
   "execution_count": null,
   "metadata": {
    "ExecuteTime": {
     "end_time": "2020-12-08T14:21:50.043982Z",
     "start_time": "2020-12-08T14:21:45.742Z"
    }
   },
   "outputs": [],
   "source": [
    "_ = plot_snp(df, snp_plots=[absvaf, absvafmean], cov_plots=[log2, log2mean], chroms=chroms, region='chr17', **fig_params)"
   ]
  }
 ],
 "metadata": {
  "kernelspec": {
   "display_name": "Python 3",
   "language": "python",
   "name": "python3"
  },
  "language_info": {
   "codemirror_mode": {
    "name": "ipython",
    "version": 3
   },
   "file_extension": ".py",
   "mimetype": "text/x-python",
   "name": "python",
   "nbconvert_exporter": "python",
   "pygments_lexer": "ipython3",
   "version": "3.8.6"
  },
  "varInspector": {
   "cols": {
    "lenName": 16,
    "lenType": 16,
    "lenVar": 40
   },
   "kernels_config": {
    "python": {
     "delete_cmd_postfix": "",
     "delete_cmd_prefix": "del ",
     "library": "var_list.py",
     "varRefreshCmd": "print(var_dic_list())"
    },
    "r": {
     "delete_cmd_postfix": ") ",
     "delete_cmd_prefix": "rm(",
     "library": "var_list.r",
     "varRefreshCmd": "cat(var_dic_list()) "
    }
   },
   "types_to_exclude": [
    "module",
    "function",
    "builtin_function_or_method",
    "instance",
    "_Feature"
   ],
   "window_display": false
  }
 },
 "nbformat": 4,
 "nbformat_minor": 4
}
