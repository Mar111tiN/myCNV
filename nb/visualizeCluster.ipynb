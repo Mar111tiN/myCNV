{
 "cells": [
  {
   "cell_type": "code",
   "execution_count": null,
   "metadata": {
    "ExecuteTime": {
     "end_time": "2020-12-16T06:33:05.699918Z",
     "start_time": "2020-12-16T06:33:05.644946Z"
    }
   },
   "outputs": [],
   "source": [
    "# HOME\n",
    "home = '/Users/mahtin'\n",
    "home = '/Users/martinscience'\n",
    "\n",
    "import os\n",
    "import matplotlib as mpl\n",
    "import matplotlib.pyplot as plt\n",
    "# use seaborn plotting defaults\n",
    "import seaborn as sns; sns.set()\n",
    "\n",
    "# get the code\n",
    "import sys\n",
    "sys.path.append('../scripts')\n",
    "from codeCNV.plot import plot_genomic, plot_snp2, plot_snp, plot_2d, plot_3d, add_chrom_labels, set_ticks, make_color_chroms, sort_df, get_chrom_df\n",
    "from script_utils import show_output\n",
    "\n",
    "# load the config\n",
    "# edit config directly in yaml file\n",
    "import yaml\n",
    "config_file = '../config/config_devel.yaml'\n",
    "def get_config(config_file, param):\n",
    "        with open(config_file) as file:\n",
    "        # The FullLoader parameter handles the conversion from YAML\n",
    "        # scalar values to Python the dictionary format\n",
    "            config = yaml.load(file, Loader=yaml.FullLoader)['CNV'][param]\n",
    "        return config\n",
    "config = get_config(config_file, 'cluster')\n",
    "\n",
    "# load the paths\n",
    "wes_path = f\"{home}/Dropbox/Icke/Work/somVar/AMLMono7/WESData\"\n",
    "plot_path = f'{wes_path}/CNVplots/cluster'"
   ]
  },
  {
   "cell_type": "markdown",
   "metadata": {},
   "source": [
    "###  get the sample\n",
    "+ from the sample_df### visualize the data"
   ]
  },
  {
   "cell_type": "code",
   "execution_count": null,
   "metadata": {
    "ExecuteTime": {
     "end_time": "2020-12-16T06:33:06.680612Z",
     "start_time": "2020-12-16T06:33:06.656450Z"
    }
   },
   "outputs": [],
   "source": [
    "def get_sample(sample):\n",
    "    s = sample.replace(\"_\", \"\")\n",
    "    sample_df = pd.read_excel(os.path.join(wes_path, \"cluster_samples.xlsx\")).set_index('sample')\n",
    "    return sample_df.loc[s, \"file\"]\n",
    "\n",
    "get_sample(\"04A\")"
   ]
  },
  {
   "cell_type": "code",
   "execution_count": null,
   "metadata": {
    "ExecuteTime": {
     "end_time": "2020-12-16T06:33:13.580354Z",
     "start_time": "2020-12-16T06:33:13.508240Z"
    }
   },
   "outputs": [],
   "source": [
    "sample = \"04A\"\n",
    "cluster_df = pd.read_csv(get_sample(sample), sep='\\t')\n",
    "cluster_df"
   ]
  },
  {
   "cell_type": "code",
   "execution_count": null,
   "metadata": {
    "ExecuteTime": {
     "end_time": "2020-12-16T06:49:08.800680Z",
     "start_time": "2020-12-16T06:49:08.380853Z"
    }
   },
   "outputs": [],
   "source": [
    "log2 = dict(\n",
    "        title='log2ratio',\n",
    "        plot_type='scatter',   # ['line', 'scatter']\n",
    "        data='log2ratio',\n",
    "        plot_args=dict(\n",
    "            linewidth=0.50,\n",
    "            color='black',\n",
    "            s=1,\n",
    "            alpha=.9\n",
    "        )\n",
    "    )\n",
    "\n",
    "log2mean = dict(\n",
    "        title='rollinglog2ratio',\n",
    "        plot_type='line',   # ['line', 'scatter']\n",
    "        data='log2ratiomean',\n",
    "        plot_args=dict(\n",
    "            linewidth=.5,\n",
    "            color='yellow',\n",
    "            alpha=.7\n",
    "        )\n",
    "    )\n",
    "\n",
    "vaf = dict(\n",
    "        title='VAF',\n",
    "        plot_type='scatter',  # ['line', 'scatter']\n",
    "        data='VAF',\n",
    "        plot_args=dict(\n",
    "            s=.5,\n",
    "            color='black',\n",
    "            alpha=.7\n",
    "        )\n",
    "    )\n",
    "\n",
    "vafC = dict(\n",
    "        title='VAF',\n",
    "        plot_type='scatter',  # ['line', 'scatter']\n",
    "        data='VAF',\n",
    "        plot_args=dict(\n",
    "            s=1,\n",
    "            c='snpCNVcore',\n",
    "            cmap=\"seismic\",\n",
    "            alpha=.7\n",
    "        )\n",
    "    )\n",
    "absvaf = dict(\n",
    "        title='absVAF',\n",
    "        plot_type='scatter',  # ['line', 'scatter']\n",
    "        data='absVAF',\n",
    "        plot_args=dict(\n",
    "            s=1,\n",
    "            c='dbscan',\n",
    "            alpha=.7\n",
    "        )\n",
    "    )\n",
    "\n",
    "fig_params = dict(\n",
    "    figsize=(24,8),\n",
    "    colormap='coolwarm_r',\n",
    "    color_chroms=True,\n",
    "    ylim=(0,1),\n",
    "    cov_offset=.1,  # how much log2ratio=0 is shifted above SNP-data\n",
    "    cov_height=.5,\n",
    "    label_size=13\n",
    ")\n",
    "\n",
    "fig, _, _, _ = plot_snp2(cluster_df, snp_plots=[vaf], cov_plots=[log2,log2mean], blocks=[\"snpCNV\"], chroms='all', region='', **fig_params)"
   ]
  },
  {
   "cell_type": "markdown",
   "metadata": {},
   "source": [
    "### expand plot_snp functionality to showing clusters"
   ]
  },
  {
   "cell_type": "code",
   "execution_count": null,
   "metadata": {
    "ExecuteTime": {
     "end_time": "2020-12-16T06:58:06.481838Z",
     "start_time": "2020-12-16T06:58:06.464040Z"
    }
   },
   "outputs": [],
   "source": [
    "def plot_snp2(df, snp_plots=[], cov_plots=[], blocks=[], chroms='all', cov_offset=.25, cov_height=0.5, color_chroms=True, colormap='coolwarm_r', region='', label_size=12, figsize=(20, 4), ylim=(-1, 1)):\n",
    "\n",
    "    MAXLOG2RATIO = 2.5\n",
    "    #### DATA MANGELING ##########\n",
    "    # get cols for rearranging\n",
    "    org_cols = list(df.columns)\n",
    "\n",
    "    # sort the df\n",
    "    df = sort_df(df)\n",
    "    # reduce the df to the selected chromosomes\n",
    "    if region:\n",
    "        chrom, start, end = extract_pos(region)\n",
    "        df = df.query('Chr == @chrom and @start <= Pos <= @end')\n",
    "    elif chroms != 'all':\n",
    "        df = df.query('Chr in @chroms')\n",
    "\n",
    "    # get the chrom_df for collapsing the\n",
    "    chrom_df = get_chrom_df(df)\n",
    "    df = df.merge(chrom_df.loc[:, 'dif'], on='Chr')\n",
    "    df['PlotPos'] = df['FullExonPos'] - df['dif']\n",
    "    # rearrange the df as return value\n",
    "    new_cols = org_cols[:4] + ['PlotPos'] + org_cols[4:]\n",
    "    df = df.loc[:, new_cols]\n",
    "\n",
    "    #########################\n",
    "    ######## PLOTTING #######\n",
    "    # plot the figure\n",
    "    fig, ax = plt.subplots(figsize=figsize)\n",
    "\n",
    "    # set the x-axis limits\n",
    "    _ = ax.set_xlim(0, df['PlotPos'].max())\n",
    "\n",
    "    # PLOT COV Data\n",
    "    if len(cov_plots):\n",
    "        scale_factor = cov_height / (MAXLOG2RATIO + 1)\n",
    "        offset = 1 + scale_factor + cov_offset\n",
    "\n",
    "        ylim = (ylim[0], ylim[1] + cov_offset + cov_height)\n",
    "\n",
    "        for plot in cov_plots:\n",
    "            # normalize the coverage data:\n",
    "            # 2.5 is the approx max log2ratio (LOH to 8N)\n",
    "\n",
    "            df[plot['data']] = df[plot['data']] * scale_factor + offset\n",
    "            \n",
    "            minus, zero, one = [c * scale_factor + offset for c in [-1, 0, 1]]\n",
    "            if plot['plot_type'] == 'line':\n",
    "                plot = ax.plot(df['PlotPos'], df[plot['data']],\n",
    "                               **plot['plot_args'])\n",
    "            elif plot['plot_type'] == 'scatter':\n",
    "                # highjack plot_args\n",
    "                pa = plot['plot_args']\n",
    "                if \"c\" in pa:\n",
    "                    pa['c'] = df[pa['c']]\n",
    "                if \"s\" in pa:\n",
    "                    if isinstance(pa['s'], str):\n",
    "                        pa['s'] = df[pa['s']] * 20 + 1\n",
    "                plot = ax.scatter(df['PlotPos'], df[plot['data']], **pa)\n",
    "\n",
    "    ######## plot the SNP graphs #######\n",
    "    for plot in snp_plots:\n",
    "        if plot['plot_type'] == 'line':\n",
    "            plot = ax.plot(df['PlotPos'], df[plot['data']],\n",
    "                           **plot['plot_args'])\n",
    "        elif plot['plot_type'] == 'scatter':\n",
    "            # highjack plot_args with\n",
    "            pa = plot['plot_args']\n",
    "            if \"c\" in pa:\n",
    "                pa['c'] = df[pa['c']]\n",
    "            if \"s\" in pa:\n",
    "                if isinstance(pa['s'], str):\n",
    "                    pa['s'] = df[pa['s']] * 20 + 1\n",
    "            plot = ax.scatter(df['PlotPos'], df[plot['data']], **pa)\n",
    "\n",
    "    _ = ax.set_ylim(ylim)\n",
    "    # add the color chroms\n",
    "    _ = make_color_chroms(ax, chrom_df, color_chroms,\n",
    "                          ylimits=ax.get_ylim(), colormap=colormap)\n",
    "\n",
    "    ######## LABELS ###################\n",
    "    # set the axis labels\n",
    "    _ = ax.set_xlabel('genomic coords', fontsize=1.25*label_size)\n",
    "    # quick fix for one y-label\n",
    "    _ = ax.set_ylabel(' / '.join([plot['title']\n",
    "                                  for plot in snp_plots]), fontsize=1.25*label_size)\n",
    "    \n",
    "    ######## BLOCKS ##################\n",
    "    for col in blocks:\n",
    "        if col.startswith(\"snp\"):\n",
    "            df.loc[df[col] > 0, col] = 0.5\n",
    "            df.loc[df[col] == 0, col] = -10\n",
    "            plot = ax.scatter(df['PlotPos'], df[col], s=20, color='green')\n",
    "    if col.startswith(\"cov\"):\n",
    "            df.loc[df[col] > 0, col] = offset\n",
    "            df.loc[df[col] == 0, col] = -10\n",
    "            plot = ax.scatter(df['PlotPos'], df[col], s=20, color='blue')\n",
    "\n",
    "    ######## CHROM LABELS #############\n",
    "    add_chrom_labels(ax, chrom_df, ax.get_ylim())\n",
    "\n",
    "    ####### X-AXIS ####################\n",
    "    # set major ticks and grid for chrom\n",
    "\n",
    "    ax = set_ticks(ax, df, chrom_df, label_size=label_size)\n",
    "        # set helper lines\n",
    "    _ = ax.axhline(y=1, c='k', lw=2, ls=\"-\")\n",
    "    _ = ax.axhline(y=.5, c='k', lw=1.5, alpha=0.5, ls=\"--\")\n",
    "    \n",
    "    _ = ax.axhline(y=minus, c='k', lw=1.5, alpha=0.5, ls=\"--\")\n",
    "    _ = ax.axhline(y=zero, c='k', lw=1.5, alpha=0.5, ls=\"-\")\n",
    "    _ = ax.axhline(y=one, c='k', lw=1.5, alpha=0.5, ls=\"--\")\n",
    "    # return fig and ax for further plotting and return edited dataframe\n",
    "    return fig, ax, df, chrom_df"
   ]
  },
  {
   "cell_type": "code",
   "execution_count": null,
   "metadata": {
    "ExecuteTime": {
     "end_time": "2020-12-16T06:58:07.604299Z",
     "start_time": "2020-12-16T06:58:07.194602Z"
    }
   },
   "outputs": [],
   "source": [
    "fig, _, _, _ = plot_snp2(cluster_df, snp_plots=[vaf], cov_plots=[log2,log2mean], blocks=[\"snpCNVcore\", \"covCNVcore\"], chroms='all', region='', **fig_params)"
   ]
  },
  {
   "cell_type": "code",
   "execution_count": null,
   "metadata": {
    "ExecuteTime": {
     "end_time": "2020-12-16T06:53:02.242598Z",
     "start_time": "2020-12-16T06:53:02.235097Z"
    }
   },
   "outputs": [],
   "source": [
    "cluster_df.query(\"covCNV >0\")['Chr'].unique()"
   ]
  },
  {
   "cell_type": "code",
   "execution_count": null,
   "metadata": {},
   "outputs": [],
   "source": []
  }
 ],
 "metadata": {
  "kernelspec": {
   "display_name": "Python 3",
   "language": "python",
   "name": "python3"
  },
  "language_info": {
   "codemirror_mode": {
    "name": "ipython",
    "version": 3
   },
   "file_extension": ".py",
   "mimetype": "text/x-python",
   "name": "python",
   "nbconvert_exporter": "python",
   "pygments_lexer": "ipython3",
   "version": "3.8.6"
  },
  "varInspector": {
   "cols": {
    "lenName": 16,
    "lenType": 16,
    "lenVar": 40
   },
   "kernels_config": {
    "python": {
     "delete_cmd_postfix": "",
     "delete_cmd_prefix": "del ",
     "library": "var_list.py",
     "varRefreshCmd": "print(var_dic_list())"
    },
    "r": {
     "delete_cmd_postfix": ") ",
     "delete_cmd_prefix": "rm(",
     "library": "var_list.r",
     "varRefreshCmd": "cat(var_dic_list()) "
    }
   },
   "types_to_exclude": [
    "module",
    "function",
    "builtin_function_or_method",
    "instance",
    "_Feature"
   ],
   "window_display": false
  }
 },
 "nbformat": 4,
 "nbformat_minor": 4
}
