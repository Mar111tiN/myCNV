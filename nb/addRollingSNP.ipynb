{
 "cells": [
  {
   "cell_type": "code",
   "execution_count": 1,
   "metadata": {
    "ExecuteTime": {
     "end_time": "2020-11-06T12:39:19.123885Z",
     "start_time": "2020-11-06T12:39:19.111970Z"
    }
   },
   "outputs": [],
   "source": [
    "# HOME\n",
    "import os\n",
    "import matplotlib as mpl\n",
    "import matplotlib.pyplot as plt\n",
    "# use seaborn plotting defaults\n",
    "import seaborn as sns; sns.set()\n",
    "\n",
    "# get the code\n",
    "import sys\n",
    "sys.path.append('../codeCNV')\n",
    "from plot import plot_snp, plot_2d, plot_3d\n",
    "from rollingCNV import apply_rolling_SNP\n",
    "\n",
    "home = '/Users/mahtin'\n",
    "home = '/Users/martinscience'\n",
    "# standard paths\n",
    "testdata = os.path.join(home,\"Dropbox/Icke/Work/somVar/testdata\")\n",
    "static_path = os.path.join(home, \"Dropbox/Icke/Work/static\")\n",
    "cluster_path = os.path.join(home, \"mount\")\n",
    "tooldata = os.path.join(home, \"Dropbox/Icke/Work/somVar/tooldata\")\n",
    "\n",
    "# tool-specific paths\n",
    "shell_path = \"../shell\"\n",
    "# \n",
    "cnvdata = os.path.join(tooldata, \"myCNVdata\")\n",
    "output_path = os.path.join(cnvdata, \"output\")\n",
    "\n",
    "# the path to the input data\n",
    "cnv_path = os.path.join(cnvdata, \"cnv\")\n",
    "cnvPON_path = cnv_path = os.path.join(cnvdata, \"chromCov\")\n",
    "cnv_path = os.path.join(cluster_path, \"scratch/develop/PONcoverage/cnv\")\n",
    "cnvPON_path = os.path.join(cluster_path, \"scratch/develop/PONcoverage/chromCov\")"
   ]
  },
  {
   "cell_type": "markdown",
   "metadata": {},
   "source": [
    "## get the SNP data with FullExonPos"
   ]
  },
  {
   "cell_type": "code",
   "execution_count": 2,
   "metadata": {
    "ExecuteTime": {
     "end_time": "2020-11-06T12:39:20.819767Z",
     "start_time": "2020-11-06T12:39:19.807607Z"
    }
   },
   "outputs": [],
   "source": [
    "sample = \"02_B\"\n",
    "snp_df = pd.read_csv(os.path.join(output_path, f'tmp/{sample}.snpcov.csv'), sep='\\t')\n"
   ]
  },
  {
   "cell_type": "markdown",
   "metadata": {},
   "source": [
    "### run the code"
   ]
  },
  {
   "cell_type": "code",
   "execution_count": null,
   "metadata": {},
   "outputs": [],
   "source": []
  },
  {
   "cell_type": "code",
   "execution_count": null,
   "metadata": {},
   "outputs": [],
   "source": []
  },
  {
   "cell_type": "code",
   "execution_count": null,
   "metadata": {},
   "outputs": [],
   "source": []
  },
  {
   "cell_type": "code",
   "execution_count": null,
   "metadata": {},
   "outputs": [],
   "source": []
  },
  {
   "cell_type": "code",
   "execution_count": null,
   "metadata": {
    "ExecuteTime": {
     "end_time": "2020-11-06T12:30:29.547260Z",
     "start_time": "2020-11-06T12:30:29.542086Z"
    }
   },
   "outputs": [],
   "source": [
    "config = {\n",
    "    'debug': False, # also export the left and right rolling window values (L/R)\n",
    "    'diff_exp': 4, # the exponent for the diff function --> higher values make steeper peaks\n",
    "    'coverage': {\n",
    "        'filter': dict(\n",
    "            min_cov = 30,\n",
    "            min_PON_cov = 50,\n",
    "            max_PON_std = 100,\n",
    "        ),\n",
    "        'normalize':False,\n",
    "        'center': True,\n",
    "        'expand':0.2, # after interpolation of rolling data from filtered df into full df, interpolate missing data within this fraction of window size, set 0 if no interpolation is wanted\n",
    "        'data': {\n",
    "            'log2ratio': {\n",
    "                'mean':100\n",
    "            }\n",
    "        }\n",
    "    },\n",
    "    'heteroSNP': {\n",
    "        'filter': dict(\n",
    "            VAF=(0.05,0.95),\n",
    "            minDepth=30,\n",
    "            minEB=0.5\n",
    "        ),\n",
    "        'normalize': True,\n",
    "        'center':False,\n",
    "        'expand': 0.5,\n",
    "        'data': {\n",
    "            'absVAF': {\n",
    "                'mean': 20\n",
    "            },\n",
    "            'VAF': {\n",
    "                'std': 20\n",
    "            },\n",
    "            'deltaVAF': {\n",
    "                'var': 20,\n",
    "                'std': 20\n",
    "            }\n",
    "        }\n",
    "    }\n",
    "}"
   ]
  },
  {
   "cell_type": "code",
   "execution_count": null,
   "metadata": {
    "ExecuteTime": {
     "end_time": "2020-11-06T12:30:34.640382Z",
     "start_time": "2020-11-06T12:30:34.461536Z"
    }
   },
   "outputs": [],
   "source": [
    "snp2_df = apply_rolling_SNP(snp_df, config)\n",
    "snp2_df.to_csv(os.path.join(output_path, f'rollingCNV/{sample}.snp.csv'), sep='\\t', index=False)"
   ]
  },
  {
   "cell_type": "code",
   "execution_count": null,
   "metadata": {
    "ExecuteTime": {
     "end_time": "2020-11-03T07:17:06.116344Z",
     "start_time": "2020-11-03T07:17:06.092137Z"
    }
   },
   "outputs": [],
   "source": [
    "snp_df"
   ]
  },
  {
   "cell_type": "markdown",
   "metadata": {},
   "source": [
    "### visualize the data"
   ]
  },
  {
   "cell_type": "code",
   "execution_count": null,
   "metadata": {
    "ExecuteTime": {
     "end_time": "2020-10-29T14:18:40.292398Z",
     "start_time": "2020-10-29T14:18:39.547507Z"
    }
   },
   "outputs": [],
   "source": [
    "log2 = dict(\n",
    "        title='log2ratio',\n",
    "        plot_type='scatter',   # ['line', 'scatter']\n",
    "        data='log2ratio',\n",
    "        plot_args=dict(\n",
    "            linewidth=0.3,\n",
    "            color='black',\n",
    "            s=0.2,\n",
    "            alpha=.7\n",
    "        )\n",
    "    )\n",
    "\n",
    "log2mean = dict(\n",
    "        title='rollinglog2ratio',\n",
    "        plot_type='line',   # ['line', 'scatter']\n",
    "        data='log2ratiomean',\n",
    "        plot_args=dict(\n",
    "            linewidth=1,\n",
    "            color='yellow',\n",
    "            alpha=.7\n",
    "        )\n",
    "    )\n",
    "\n",
    "vaf = dict(\n",
    "        title='VAF',\n",
    "        plot_type='scatter',  # ['line', 'scatter']\n",
    "        data='VAF',\n",
    "        plot_args=dict(\n",
    "            s=.2,\n",
    "            color='black',\n",
    "            alpha=.7\n",
    "        )\n",
    "    )\n",
    "\n",
    "fig_params = dict(\n",
    "    figsize=(24,8),\n",
    "    colormap='coolwarm_r',\n",
    "    color_chroms=True,\n",
    "    ylim=(0,1),\n",
    "    cov_offset=.1,  # how much log2ratio=0 is shifted above SNP-data\n",
    "    cov_height=.5,\n",
    "    label_size=13\n",
    ")\n",
    "chroms = ['chr5', 'chr7','chr8', 'chr11', 'chr17']\n",
    "r1 = 'chr17:3Mb-9Mb'\n",
    "\n",
    "fig, ax, df, chrom_df = plot_snp(snp_df, snp_plots=[vaf], cov_plots=[log2, log2mean], chroms='all', region='', **fig_params)"
   ]
  },
  {
   "cell_type": "markdown",
   "metadata": {},
   "source": [
    "## heteroSNP rolling window\n",
    "+ #### first, the center cluster has to be fitted via clustering to identify the centers for mean correction"
   ]
  },
  {
   "cell_type": "code",
   "execution_count": null,
   "metadata": {
    "ExecuteTime": {
     "end_time": "2020-10-29T14:19:58.214326Z",
     "start_time": "2020-10-29T14:19:56.812340Z"
    }
   },
   "outputs": [],
   "source": [
    "config = {\n",
    "    'debug': True, # also export the left and right rolling window values (L/R)\n",
    "    'coverage': {\n",
    "        'filter': dict(\n",
    "            min_cov = 30,\n",
    "            min_PON_cov = 50,\n",
    "            max_PON_std = 100,\n",
    "        ),\n",
    "        'normalize':False,\n",
    "        'center': True,\n",
    "        'expand':0.2, # after interpolation of rolling data from filtered df into full df, interpolate missing data within this fraction of window size, set 0 if no interpolation is wanted\n",
    "        'data': {\n",
    "            'log2ratio': {\n",
    "                'mean':100\n",
    "            }\n",
    "        }\n",
    "    },\n",
    "    'heteroSNP': {\n",
    "        'filter': dict(\n",
    "            VAF=(0.05,0.95),\n",
    "            minDepth=30,\n",
    "            minEB=0.5\n",
    "        ),\n",
    "        'normalize': True,\n",
    "        'center':False,\n",
    "        'expand': 0.5,\n",
    "        'data': {\n",
    "            'absVAF': {\n",
    "                'mean': 20\n",
    "            },\n",
    "            'VAF': {\n",
    "                'std': 20\n",
    "            },\n",
    "            'deltaVAF': {\n",
    "                'var': 20,\n",
    "                'std': 20\n",
    "            }\n",
    "        }\n",
    "    }\n",
    "}\n",
    "\n",
    "from cluster import center_data\n",
    "\n",
    "snp_df = center_data(snp_df, config)"
   ]
  },
  {
   "cell_type": "markdown",
   "metadata": {},
   "source": [
    "### extract important features from SNPdata\n",
    "+ absVAF is distance of heteroSNP to 0.5\n",
    "+ deltaVAF is difference between adjacent SNPs"
   ]
  },
  {
   "cell_type": "code",
   "execution_count": null,
   "metadata": {
    "ExecuteTime": {
     "end_time": "2020-10-29T14:20:00.970888Z",
     "start_time": "2020-10-29T14:20:00.966488Z"
    }
   },
   "outputs": [],
   "source": [
    "def expand_SNPdata(snp_df, config):\n",
    "    '''\n",
    "    retrieve a few data columns locally to use rolling windows on\n",
    "    this needs to be done chromosome-wise in order to avoid gap effects\n",
    "    VAF limits are also applied here\n",
    "    '''\n",
    "\n",
    "    # split the params dict for easier access\n",
    "    params = config['heteroSNP']\n",
    "    filter_params = params['filter']\n",
    "    data_params = params['data']\n",
    "    # reduce the snp_df using config limits\n",
    "    VAFmin, VAFmax = filter_params['VAF']\n",
    "    snp_df = snp_df.query('@VAFmin < VAF < @VAFmax')\n",
    "    \n",
    "    # get the new features from VAFs\n",
    "    snp_df.loc[:,'absVAF'] = np.abs(snp_df['VAF'] - 0.5) * 2\n",
    "    # get the local VAF difference chrom based\n",
    "    dfs = []\n",
    "    for chrom in snp_df['Chr'].unique():\n",
    "        chrom_df = snp_df.query('Chr == @chrom')\n",
    "        chrom_df.loc[:, 'deltaVAF'] = np.abs(chrom_df['VAF'] - chrom_df.shift(1)['VAF']).fillna(0)\n",
    "        dfs.append(chrom_df)\n",
    "    snp_df = pd.concat(dfs).sort_values('FullExonPos')\n",
    "    return snp_df.reset_index(drop=True)"
   ]
  },
  {
   "cell_type": "code",
   "execution_count": null,
   "metadata": {
    "ExecuteTime": {
     "end_time": "2020-10-29T14:20:01.865190Z",
     "start_time": "2020-10-29T14:20:01.747711Z"
    }
   },
   "outputs": [],
   "source": [
    "snp2_df = expand_SNPdata(snp_df, config)\n",
    "snp2_df"
   ]
  },
  {
   "cell_type": "code",
   "execution_count": null,
   "metadata": {
    "ExecuteTime": {
     "end_time": "2020-10-29T14:20:03.064122Z",
     "start_time": "2020-10-29T14:20:02.602186Z"
    }
   },
   "outputs": [],
   "source": [
    "fig_params = dict(\n",
    "    figsize=(24,8),\n",
    "    colormap='coolwarm_r',\n",
    "    color_chroms=True,\n",
    "    ylim=(-0.02,1.05),\n",
    "    cov_offset=.1,  # how much log2ratio=0 is shifted above SNP-data\n",
    "    cov_height=.5,\n",
    "    label_size=13\n",
    ")\n",
    "\n",
    "\n",
    "absvaf = dict(\n",
    "        title='absVAF',\n",
    "        plot_type='scatter',   # ['line', 'scatter']\n",
    "        data='absVAF',\n",
    "        plot_args=dict(\n",
    "            linewidth=0.5,\n",
    "            color='blue',\n",
    "            s=1,\n",
    "            alpha=1\n",
    "        ))\n",
    "deltavaf = dict(\n",
    "        title='deltaVAF',\n",
    "        plot_type='scatter',   # ['line', 'scatter']\n",
    "        data='deltaVAF',\n",
    "        plot_args=dict(\n",
    "            linewidth=0.5,\n",
    "            color='green',\n",
    "            s=5,\n",
    "            alpha=1\n",
    "        ))\n",
    "\n",
    "chroms = ['chr5', 'chr7','chr8', 'chr11', 'chr17']\n",
    "r1 = 'chr17:3Mb-9Mb'\n",
    "\n",
    "fig, ax, df, chrom_df = plot_snp(snp2_df, snp_plots=[deltavaf, absvaf], cov_plots=[log2, log2mean], chroms=chroms, region='', **fig_params)"
   ]
  },
  {
   "cell_type": "markdown",
   "metadata": {},
   "source": [
    "## Rolling SNPdata"
   ]
  },
  {
   "cell_type": "code",
   "execution_count": null,
   "metadata": {
    "ExecuteTime": {
     "end_time": "2020-10-29T14:20:08.172073Z",
     "start_time": "2020-10-29T14:20:08.167171Z"
    }
   },
   "outputs": [],
   "source": [
    "from rollingCNV import one_col_rolling\n",
    "\n",
    "def rolling_SNP(snp_df, config):\n",
    "    '''\n",
    "    cycle through the chroms and perform rolling window computations of snp data set in config\n",
    "    '''\n",
    "    \n",
    "    # split the params dict for easier access\n",
    "    params = config['heteroSNP']\n",
    "    filter_params = params['filter']\n",
    "    data_params = params['data']\n",
    "    # reduce the snp_df using config limits\n",
    "    VAFmin, VAFmax = filter_params['VAF'] \n",
    "    minDepth = filter_params['minDepth']\n",
    "    minEBscore = filter_params['minEB']\n",
    "    \n",
    "    # cycle through chroms for \n",
    "    chrom_dfs = []\n",
    "    for chrom in snp_df['Chr'].unique():\n",
    "        # restrict to chrom\n",
    "        chrom_df = snp_df.query('Chr == @chrom').sort_values('FullExonPos')        \n",
    "        # filter df\n",
    "        filter_df = snp_df.query('Depth >= @minDepth and EBscore > @minEBscore') #.query('@VAFmin < VAF < @VAFmax and \n",
    "        for data_col in data_params.keys():\n",
    "            for agg in data_params[data_col].keys():\n",
    "                window_size = data_params[data_col][agg]\n",
    "                expand_limit = int(params['expand'] * window_size)\n",
    "                # print(f\"Computing rolling window for {agg} of {data_col} with window size {window_size} on {chrom}\")\n",
    "                chrom_df = one_col_rolling(chrom_df, filter_df, data_col, agg, window_size=window_size, expand_limit=expand_limit, normalize=params['normalize'], debug=config['debug'])\n",
    "        chrom_dfs.append(chrom_df)\n",
    "    df = pd.concat(chrom_dfs).sort_values('FullExonPos')\n",
    "    return df"
   ]
  },
  {
   "cell_type": "markdown",
   "metadata": {},
   "source": [
    "### test rolling windows"
   ]
  },
  {
   "cell_type": "code",
   "execution_count": null,
   "metadata": {
    "ExecuteTime": {
     "end_time": "2020-10-29T14:20:12.588263Z",
     "start_time": "2020-10-29T14:20:12.157744Z"
    }
   },
   "outputs": [],
   "source": [
    "snp_config = {\n",
    "    'heteroSNP': {\n",
    "        'filter': dict(\n",
    "            VAF=(0.05,0.95),\n",
    "            minDepth=10,\n",
    "            minEB=0.5\n",
    "        ),\n",
    "        'normalize': True,\n",
    "        'center':False,\n",
    "        'expand': .75,\n",
    "        'data': {\n",
    "            'absVAF': {\n",
    "                'mean': 20\n",
    "            }\n",
    "        }\n",
    "    }   \n",
    "}\n",
    "\n",
    "config.update(snp_config)\n",
    "snp3_df = rolling_SNP(snp2_df, config)\n",
    "snp3_df[:10]"
   ]
  },
  {
   "cell_type": "markdown",
   "metadata": {},
   "source": [
    "## optimizing rolling windows"
   ]
  },
  {
   "cell_type": "markdown",
   "metadata": {
    "ExecuteTime": {
     "end_time": "2020-10-28T20:52:34.184064Z",
     "start_time": "2020-10-28T20:52:34.176055Z"
    }
   },
   "source": [
    "### VAF\n",
    "+ std  (20)\n",
    "+ var"
   ]
  },
  {
   "cell_type": "code",
   "execution_count": null,
   "metadata": {
    "ExecuteTime": {
     "end_time": "2020-10-29T14:20:16.177285Z",
     "start_time": "2020-10-29T14:20:15.005793Z"
    }
   },
   "outputs": [],
   "source": [
    "vaf = dict(\n",
    "        title='VAF',\n",
    "        plot_type='scatter',   # ['line', 'scatter']\n",
    "        data='VAF',\n",
    "        plot_args=dict(\n",
    "            linewidth=0.5,\n",
    "            color='blue',\n",
    "            s=5,\n",
    "            alpha=1\n",
    "        ))\n",
    "vafvar = dict(\n",
    "        title='VAFstd',\n",
    "        plot_type='line',   # ['line', 'scatter']\n",
    "        data='VAFvar',\n",
    "        plot_args=dict(\n",
    "            linewidth=1,\n",
    "            color='yellow',\n",
    "            alpha=.7\n",
    "        )\n",
    "    )\n",
    "\n",
    "vafvardiff = dict(\n",
    "        title='VAFstdDiff',\n",
    "        plot_type='line',   # ['line', 'scatter']\n",
    "        data='VAFvarDiff',\n",
    "        plot_args=dict(\n",
    "            linewidth=1,\n",
    "            color='blue',\n",
    "            alpha=.7\n",
    "        )\n",
    "    )\n",
    "\n",
    "vafstd = dict(\n",
    "        title='VAFstd',\n",
    "        plot_type='line',   # ['line', 'scatter']\n",
    "        data='VAFstd',\n",
    "        plot_args=dict(\n",
    "            linewidth=1,\n",
    "            color='yellow',\n",
    "            alpha=.7\n",
    "        )\n",
    "    )\n",
    "\n",
    "vafstddiff = dict(\n",
    "        title='VAFstdDiff',\n",
    "        plot_type='line',   # ['line', 'scatter']\n",
    "        data='VAFstdDiff',\n",
    "        plot_args=dict(\n",
    "            linewidth=1,\n",
    "            color='blue',\n",
    "            alpha=.7\n",
    "        )\n",
    "    )\n",
    "\n",
    "snp_config = {\n",
    "    'heteroSNP': {\n",
    "        'filter': dict(\n",
    "            VAF=(0.05,0.95),\n",
    "            minDepth=10,\n",
    "            minEB=0.5\n",
    "        ),\n",
    "        'normalize': True,\n",
    "        'center':False,\n",
    "        'expand': .75,\n",
    "        'data': {\n",
    "            'VAF': {\n",
    "                'var': 20,\n",
    "                'std': 20\n",
    "            }\n",
    "        }\n",
    "    }   \n",
    "}\n",
    "\n",
    "config.update(snp_config)\n",
    "snp3_df = rolling_SNP(snp2_df, config)\n",
    "\n",
    "chroms = ['chr5', 'chr7','chr8', 'chr11', 'chr17']\n",
    "r1 = 'chr17:3Mb-9Mb'\n",
    "\n",
    "std_plots = [vaf,vafstd, vafstddiff]\n",
    "var_plots = [vaf,vafvar, vafvardiff]\n",
    "fig, ax, df, chrom_df = plot_snp(snp3_df, snp_plots=std_plots, chroms=chroms, region='', **fig_params)"
   ]
  },
  {
   "cell_type": "markdown",
   "metadata": {},
   "source": [
    "### absVAF\n",
    "+ mean (20)\n",
    "+ std"
   ]
  },
  {
   "cell_type": "code",
   "execution_count": null,
   "metadata": {
    "ExecuteTime": {
     "end_time": "2020-10-29T14:20:51.003076Z",
     "start_time": "2020-10-29T14:20:49.823912Z"
    }
   },
   "outputs": [],
   "source": [
    "absvafstd = dict(\n",
    "        title='absVAFstd',\n",
    "        plot_type='line',   # ['line', 'scatter']\n",
    "        data='absVAFstd',\n",
    "        plot_args=dict(\n",
    "            linewidth=1,\n",
    "            color='yellow',\n",
    "            alpha=.7\n",
    "        )\n",
    "    )\n",
    "\n",
    "absvafstddiff = dict(\n",
    "        title='absVAFstddiff',\n",
    "        plot_type='line',   # ['line', 'scatter']\n",
    "        data='absVAFstdDiff',\n",
    "        plot_args=dict(\n",
    "            linewidth=1,\n",
    "            color='blue',\n",
    "            alpha=.7\n",
    "        )\n",
    "    )\n",
    "\n",
    "absvaf = dict(\n",
    "        title='absVAF',\n",
    "        plot_type='scatter',   # ['line', 'scatter']\n",
    "        data='absVAF',\n",
    "        plot_args=dict(\n",
    "            linewidth=0.5,\n",
    "            color='blue',\n",
    "            s=5,\n",
    "            alpha=1\n",
    "        ))\n",
    "absvafmean = dict(\n",
    "        title='absVAFmean',\n",
    "        plot_type='line',   # ['line', 'scatter']\n",
    "        data='absVAFmean',\n",
    "        plot_args=dict(\n",
    "            linewidth=1,\n",
    "            color='yellow',\n",
    "            alpha=.7\n",
    "        )\n",
    "    )\n",
    "\n",
    "absvafmeandiff = dict(\n",
    "        title='absVAFdiff',\n",
    "        plot_type='line',   # ['line', 'scatter']\n",
    "        data='absVAFmeanDiff',\n",
    "        plot_args=dict(\n",
    "            linewidth=1,\n",
    "            color='blue',\n",
    "            alpha=.7\n",
    "        )\n",
    "    )\n",
    "\n",
    "snp_config = {\n",
    "    'heteroSNP': {\n",
    "        'filter': dict(\n",
    "            VAF=(0.05,0.95),\n",
    "            minDepth=10,\n",
    "            minEB=0.5\n",
    "        ),\n",
    "        'normalize': True,\n",
    "        'center':False,\n",
    "        'expand': .75,\n",
    "        'data': {\n",
    "            'absVAF': {\n",
    "                'mean': 20,\n",
    "                'std': 20\n",
    "            }\n",
    "        }\n",
    "    }   \n",
    "}\n",
    "\n",
    "config.update(snp_config)\n",
    "snp3_df = rolling_SNP(snp2_df, config)\n",
    "\n",
    "chroms = ['chr5', 'chr7','chr8', 'chr11', 'chr17']\n",
    "r1 = 'chr17:3Mb-9Mb'\n",
    "mean_plots = [absvaf,absvafmean, absvafmeandiff]\n",
    "std_plots = [absvaf,absvafstd, absvafstddiff]\n",
    "fig, ax, df, chrom_df = plot_snp(snp3_df, snp_plots=mean_plots, chroms=chroms, region=r1, **fig_params)"
   ]
  },
  {
   "cell_type": "markdown",
   "metadata": {
    "ExecuteTime": {
     "end_time": "2020-10-28T20:28:04.650273Z",
     "start_time": "2020-10-28T20:28:04.199939Z"
    }
   },
   "source": [
    "### deltaVAF\n",
    "+ mean\n",
    "+ var (20)\n",
    "+ std "
   ]
  },
  {
   "cell_type": "code",
   "execution_count": null,
   "metadata": {
    "ExecuteTime": {
     "end_time": "2020-10-29T14:21:07.600327Z",
     "start_time": "2020-10-29T14:21:06.428871Z"
    }
   },
   "outputs": [],
   "source": [
    "deltavafstd = dict(\n",
    "        title='deltaVAFstd',\n",
    "        plot_type='line',   # ['line', 'scatter']\n",
    "        data='deltaVAFstd',\n",
    "        plot_args=dict(\n",
    "            linewidth=1,\n",
    "            color='yellow',\n",
    "            alpha=.7\n",
    "        )\n",
    "    )\n",
    "\n",
    "deltavafstddiff = dict(\n",
    "        title='deltaVAFstddiff',\n",
    "        plot_type='line',   # ['line', 'scatter']\n",
    "        data='deltaVAFstdDiff',\n",
    "        plot_args=dict(\n",
    "            linewidth=1,\n",
    "            color='blue',\n",
    "            alpha=.7\n",
    "        )\n",
    "    )\n",
    "\n",
    "deltavaf = dict(\n",
    "        title='deltaVAF',\n",
    "        plot_type='scatter',   # ['line', 'scatter']\n",
    "        data='deltaVAF',\n",
    "        plot_args=dict(\n",
    "            linewidth=0.5,\n",
    "            color='blue',\n",
    "            s=5,\n",
    "            alpha=1\n",
    "        ))\n",
    "deltavafmean = dict(\n",
    "        title='deltaVAFmean',\n",
    "        plot_type='line',   # ['line', 'scatter']\n",
    "        data='deltaVAFmean',\n",
    "        plot_args=dict(\n",
    "            linewidth=1,\n",
    "            color='yellow',\n",
    "            alpha=.7\n",
    "        )\n",
    "    )\n",
    "\n",
    "deltavafmeandiff = dict(\n",
    "        title='deltaVAFmeandiff',\n",
    "        plot_type='line',   # ['line', 'scatter']\n",
    "        data='deltaVAFmeanDiff',\n",
    "        plot_args=dict(\n",
    "            linewidth=1,\n",
    "            color='blue',\n",
    "            alpha=.7\n",
    "        )\n",
    "    )\n",
    "\n",
    "deltavafvar = dict(\n",
    "        title='deltaVAFvar',\n",
    "        plot_type='line',   # ['line', 'scatter']\n",
    "        data='deltaVAFvar',\n",
    "        plot_args=dict(\n",
    "            linewidth=1,\n",
    "            color='yellow',\n",
    "            alpha=.7\n",
    "        )\n",
    "    )\n",
    "\n",
    "deltavafvardiff = dict(\n",
    "        title='deltaVAFvardiff',\n",
    "        plot_type='line',   # ['line', 'scatter']\n",
    "        data='deltaVAFvarDiff',\n",
    "        plot_args=dict(\n",
    "            linewidth=1,\n",
    "            color='blue',\n",
    "            alpha=.7\n",
    "        )\n",
    "    )\n",
    "\n",
    "snp_config = {\n",
    "    'heteroSNP': {\n",
    "        'filter': dict(\n",
    "            VAF=(0.05,0.95),\n",
    "            minDepth=10,\n",
    "            minEB=0.5\n",
    "        ),\n",
    "        'normalize': True,\n",
    "        'center':False,\n",
    "        'expand': .75,\n",
    "        'data': {\n",
    "            'deltaVAF': {\n",
    "                'var': 20,\n",
    "                'std': 20\n",
    "            }\n",
    "        }\n",
    "    }   \n",
    "}\n",
    "\n",
    "config.update(snp_config)\n",
    "snp3_df = rolling_SNP(snp2_df, config)\n",
    "\n",
    "mean_plots = [deltavaf,deltavafmean, deltavafmeandiff]\n",
    "std_plots = [deltavaf,deltavafstd, deltavafstddiff]\n",
    "var_plots = [deltavaf,deltavafvar, deltavafvardiff]\n",
    "fig, ax, df, chrom_df = plot_snp(snp3_df, snp_plots=var_plots, chroms=chroms, region='', **fig_params)"
   ]
  },
  {
   "cell_type": "markdown",
   "metadata": {},
   "source": [
    "## bring all together\n",
    "+ center snp_df\n",
    "+ get extra data\n",
    "+ do the rolling"
   ]
  },
  {
   "cell_type": "code",
   "execution_count": null,
   "metadata": {
    "ExecuteTime": {
     "end_time": "2020-10-28T21:16:57.293522Z",
     "start_time": "2020-10-28T21:16:57.290508Z"
    }
   },
   "outputs": [],
   "source": [
    "def apply_rolling_SNP(snp_df, config):\n",
    "    # center the data\n",
    "    snp_df = center_data(snp_df, config)\n",
    "    # get extra data\n",
    "    snp_df = expand_SNPdata(snp_df, config)\n",
    "    # do the rolling\n",
    "    snp_df = rolling_SNP(snp2_df, config)\n",
    "    return snp_df"
   ]
  },
  {
   "cell_type": "code",
   "execution_count": null,
   "metadata": {
    "ExecuteTime": {
     "end_time": "2020-10-28T21:17:45.716114Z",
     "start_time": "2020-10-28T21:17:42.986909Z"
    }
   },
   "outputs": [],
   "source": [
    "config = {\n",
    "    'debug': False, # also export the left and right rolling window values (L/R)\n",
    "    'coverage': {\n",
    "        'filter': dict(\n",
    "            min_cov = 30,\n",
    "            min_PON_cov = 50,\n",
    "            max_PON_std = 100,\n",
    "        ),\n",
    "        'normalize':False,\n",
    "        'center': True,\n",
    "        'expand':0.2, # after interpolation of rolling data from filtered df into full df, interpolate missing data within this fraction of window size, set 0 if no interpolation is wanted\n",
    "        'data': {\n",
    "            'log2ratio': {\n",
    "                'mean':100\n",
    "            }\n",
    "        }\n",
    "    },\n",
    "    'heteroSNP': {\n",
    "        'filter': dict(\n",
    "            VAF=(0.05,0.95),\n",
    "            minDepth=30,\n",
    "            minEB=0.5\n",
    "        ),\n",
    "        'normalize': True,\n",
    "        'center':False,\n",
    "        'expand': 0.5,\n",
    "        'data': {\n",
    "            'absVAF': {\n",
    "                'mean': 20\n",
    "            },\n",
    "            'VAF': {\n",
    "                'std': 20\n",
    "            },\n",
    "            'deltaVAF': {\n",
    "                'var': 20,\n",
    "                'std': 20\n",
    "            }\n",
    "        }\n",
    "    }\n",
    "}\n",
    "\n",
    "rSNP_df = apply_rolling_SNP(snp_df, config)"
   ]
  },
  {
   "cell_type": "code",
   "execution_count": null,
   "metadata": {
    "ExecuteTime": {
     "end_time": "2020-10-28T21:17:45.996324Z",
     "start_time": "2020-10-28T21:17:45.971666Z"
    }
   },
   "outputs": [],
   "source": [
    "rSNP_df"
   ]
  },
  {
   "cell_type": "code",
   "execution_count": null,
   "metadata": {},
   "outputs": [],
   "source": []
  }
 ],
 "metadata": {
  "kernelspec": {
   "display_name": "Python 3",
   "language": "python",
   "name": "python3"
  },
  "language_info": {
   "codemirror_mode": {
    "name": "ipython",
    "version": 3
   },
   "file_extension": ".py",
   "mimetype": "text/x-python",
   "name": "python",
   "nbconvert_exporter": "python",
   "pygments_lexer": "ipython3",
   "version": "3.8.6"
  },
  "varInspector": {
   "cols": {
    "lenName": 16,
    "lenType": 16,
    "lenVar": 40
   },
   "kernels_config": {
    "python": {
     "delete_cmd_postfix": "",
     "delete_cmd_prefix": "del ",
     "library": "var_list.py",
     "varRefreshCmd": "print(var_dic_list())"
    },
    "r": {
     "delete_cmd_postfix": ") ",
     "delete_cmd_prefix": "rm(",
     "library": "var_list.r",
     "varRefreshCmd": "cat(var_dic_list()) "
    }
   },
   "types_to_exclude": [
    "module",
    "function",
    "builtin_function_or_method",
    "instance",
    "_Feature"
   ],
   "window_display": false
  }
 },
 "nbformat": 4,
 "nbformat_minor": 4
}
