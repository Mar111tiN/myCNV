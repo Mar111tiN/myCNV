{
 "cells": [
  {
   "cell_type": "markdown",
   "metadata": {},
   "source": [
    "## combining chromosome SNP data per sample into WES SNP data\n",
    "### also add EB data if available to filter out bad SNPs"
   ]
  },
  {
   "cell_type": "code",
   "execution_count": null,
   "metadata": {},
   "outputs": [],
   "source": [
    "# get the code\n",
    "import sys\n",
    "sys.path.append('../code')\n",
    "from combineCNVdata import get_covNsnp"
   ]
  },
  {
   "cell_type": "code",
   "execution_count": null,
   "metadata": {
    "ExecuteTime": {
     "end_time": "2020-10-02T16:09:33.924333Z",
     "start_time": "2020-10-02T16:09:33.920187Z"
    }
   },
   "outputs": [],
   "source": [
    "# HOME\n",
    "home = '/Users/mahtin'\n",
    "home = '/Users/martinscience'\n",
    "# standard paths\n",
    "testdata = os.path.join(home,\"Dropbox/Icke/Work/somVar/testdata\")\n",
    "static_path = os.path.join(home, \"Dropbox/Icke/Work/static\")\n",
    "cluster_path = os.path.join(home, \"/Users/martinscience/mount\")\n",
    "tooldata = os.path.join(home, \"Dropbox/Icke/Work/somVar/tooldata\")\n",
    "\n",
    "# tool-specific paths\n",
    "shell_path = \"../shell\"\n",
    "# \n",
    "cnvdata = os.path.join(tooldata, \"myCNVdata\")\n",
    "output_path = os.path.join(cnvdata, \"output\")\n",
    "\n",
    "# the path to the input data\n",
    "cnv_path = os.path.join(cnvdata, \"cnv\")\n",
    "cnvPON_path = cnv_path = os.path.join(cnvdata, \"chromCov\")\n",
    "cnv_path = os.path.join(cluster_path, \"scratch/develop/PONcoverage/cnv\")\n",
    "cnvPON_path = os.path.join(cluster_path, \"scratch/develop/PONcoverage/chromCov\")"
   ]
  },
  {
   "cell_type": "code",
   "execution_count": null,
   "metadata": {
    "ExecuteTime": {
     "end_time": "2020-10-02T16:09:34.012107Z",
     "start_time": "2020-10-02T16:09:34.008173Z"
    }
   },
   "outputs": [],
   "source": [
    "cnvPON_path"
   ]
  },
  {
   "cell_type": "code",
   "execution_count": null,
   "metadata": {},
   "outputs": [],
   "source": [
    "sample = \"01_A\"\n",
    "snp_df, cov_df = get_covNsnp(sample, sample_cnv_path=cnv_path, PON_cnv_path=cnvPON_path, verbose=False)"
   ]
  },
  {
   "cell_type": "code",
   "execution_count": null,
   "metadata": {},
   "outputs": [],
   "source": [
    "snp_df[:10]"
   ]
  },
  {
   "cell_type": "code",
   "execution_count": null,
   "metadata": {},
   "outputs": [],
   "source": [
    "cov_df[:10]"
   ]
  },
  {
   "cell_type": "markdown",
   "metadata": {},
   "source": [
    "## rolling window metrices"
   ]
  },
  {
   "cell_type": "code",
   "execution_count": null,
   "metadata": {},
   "outputs": [],
   "source": [
    "def rolling_SNP_metrix(snp_df, chrom='',window_size=20, center=0.5):\n",
    "    '''\n",
    "    creates metrices to define heteroSNP gaps\n",
    "    '''\n",
    "    \n",
    "    # reduce to hetero_SNPs\n",
    "    df = snp_df.query('Chr == @chrom')\n",
    "    # compute the heteroSNP center as the mean of all VAFs\n",
    "\n",
    "    df.loc[:,'offCenter'] = np.abs(df['VAF'] - center)\n",
    "    df.loc[:,'stdL'] = df.rolling(window_size)['VAF'].std()\n",
    "    df.loc[:,'stdR'] = df.shift(-window_size + 1)['stdL']\n",
    "    df.loc[:,'sumL'] = df.rolling(window_size)['offCenter'].sum()\n",
    "    df.loc[:,'sumR'] = df.shift(-window_size + 1)['sumL']\n",
    "    df.loc[:,'dVAFL'] = df.rolling(window_size)['deltaVAF'].sum()\n",
    "    df.loc[:,'dVAFR'] = df.shift(-window_size + 1)['dVAFL']\n",
    "    # fill up the margins\n",
    "    for col in ['stdL', 'sumL', 'dVAFL']:\n",
    "        df[col] = df[col].fillna(method='bfill')\n",
    "    for col in ['stdR', 'sumR', 'dVAFR']:\n",
    "        df[col] = df[col].fillna(method='ffill')\n",
    "    df.loc[:,'scoreL'] = df['sumL'] + df['dVAFL']\n",
    "    df.loc[:,'scoreR'] = df['sumR'] + df['dVAFL']\n",
    "    return df"
   ]
  },
  {
   "cell_type": "code",
   "execution_count": null,
   "metadata": {},
   "outputs": [],
   "source": [
    "def mark_heteroSNP(snp_df, config={}):\n",
    "    '''\n",
    "    creates the heteroSNP metrices for the entire exome\n",
    "    '''\n",
    "    # reduce the snp_df\n",
    "    VAFmin = config['VAFlimits'][0]\n",
    "    VAFmax = config['VAFlimits'][1]\n",
    "    minDepth = config['minDepth']\n",
    "    minEBscore = config['minEBscore']\n",
    "    df = snp_df.query('@VAFmin < VAF < @VAFmax').query('Depth >= @minDepth and EBscore > @minEBscore')\n",
    "    # find the center\n",
    "    center = df['VAF'].mean()\n",
    "    print(\"heteroSNP centered around\", center)\n",
    "    # get the local VAF difference\n",
    "    df['deltaVAF'] = np.abs(df['VAF'] - df.shift(1)['VAF']).fillna(0)\n",
    "    \n",
    "    # get the \n",
    "    std_dfs = []\n",
    "    for chrom in df['Chr'].unique():\n",
    "        std_df = rolling_SNP_metrix(df, chrom=chrom, window_size=config['windowSize'], center=center)\n",
    "        std_dfs.append(std_df)\n",
    "    std_df = pd.concat(std_dfs)\n",
    "    \n",
    "    # normalize the values globally\n",
    "    std_df.loc[:,'scoreL'] = std_df['scoreL'] / std_df['scoreL'].max()\n",
    "    std_df.loc[:,'scoreR'] = std_df['scoreR'] / std_df['scoreR'].max()\n",
    "    # maximum of scoreDiff marks the breakpoints\n",
    "    std_df.loc[:,'scoreDiff'] = std_df['scoreR'] - std_df['scoreL']\n",
    "    std_df.loc[:,'scoreDiff'] = (std_df['scoreDiff'] / std_df['scoreDiff'].max() / 2) + center\n",
    "    return std_df"
   ]
  },
  {
   "cell_type": "code",
   "execution_count": null,
   "metadata": {},
   "outputs": [],
   "source": [
    "config = {\n",
    "    'VAFlimits':[0.05,0.95],\n",
    "    'windowSize': 50,\n",
    "    'minEBscore':0.5,\n",
    "    'minDepth': 30\n",
    "    \n",
    "}\n",
    "std_df = mark_heteroSNP(snp_df, config=config)\n",
    "std_df"
   ]
  },
  {
   "cell_type": "markdown",
   "metadata": {},
   "source": [
    "### find the CNV regions"
   ]
  },
  {
   "cell_type": "markdown",
   "metadata": {},
   "source": [
    "### expand the regions according to leftCNV and rightCNV"
   ]
  },
  {
   "cell_type": "code",
   "execution_count": null,
   "metadata": {},
   "outputs": [],
   "source": [
    "df = std_df.query('Chr == \"chr17\"')"
   ]
  },
  {
   "cell_type": "code",
   "execution_count": null,
   "metadata": {},
   "outputs": [],
   "source": [
    "df['cnvL'] = (df['scoreL'] > 0.4).astype(int)\n",
    "df['cnvR'] = (df['scoreR'] > 0.4).astype(int)\n",
    "df[40:90]"
   ]
  },
  {
   "cell_type": "markdown",
   "metadata": {},
   "source": [
    "### now do a rolling scan for more than x zeros and fill that up \n",
    "#### increases the "
   ]
  },
  {
   "cell_type": "markdown",
   "metadata": {},
   "source": [
    "## OUTPUT"
   ]
  },
  {
   "cell_type": "code",
   "execution_count": null,
   "metadata": {},
   "outputs": [],
   "source": [
    "std_df.to_csv(os.path.join(output_path, 'heteroSNP/01_A.snp'), sep='\\t', index=False)\n",
    "cov_df.to_csv(os.path.join(output_path, 'covDif/01_A.snp'), sep='\\t', index=False)"
   ]
  },
  {
   "cell_type": "code",
   "execution_count": null,
   "metadata": {},
   "outputs": [],
   "source": [
    "snp_df"
   ]
  },
  {
   "cell_type": "markdown",
   "metadata": {},
   "source": [
    "### combine SNP with local coverage info"
   ]
  },
  {
   "cell_type": "code",
   "execution_count": null,
   "metadata": {},
   "outputs": [],
   "source": [
    "std_df"
   ]
  }
 ],
 "metadata": {
  "kernelspec": {
   "display_name": "Python 3",
   "language": "python",
   "name": "python3"
  },
  "language_info": {
   "codemirror_mode": {
    "name": "ipython",
    "version": 3
   },
   "file_extension": ".py",
   "mimetype": "text/x-python",
   "name": "python",
   "nbconvert_exporter": "python",
   "pygments_lexer": "ipython3",
   "version": "3.8.5"
  },
  "varInspector": {
   "cols": {
    "lenName": 16,
    "lenType": 16,
    "lenVar": 40
   },
   "kernels_config": {
    "python": {
     "delete_cmd_postfix": "",
     "delete_cmd_prefix": "del ",
     "library": "var_list.py",
     "varRefreshCmd": "print(var_dic_list())"
    },
    "r": {
     "delete_cmd_postfix": ") ",
     "delete_cmd_prefix": "rm(",
     "library": "var_list.r",
     "varRefreshCmd": "cat(var_dic_list()) "
    }
   },
   "types_to_exclude": [
    "module",
    "function",
    "builtin_function_or_method",
    "instance",
    "_Feature"
   ],
   "window_display": false
  }
 },
 "nbformat": 4,
 "nbformat_minor": 4
}
