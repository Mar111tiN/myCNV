{
 "cells": [
  {
   "cell_type": "markdown",
   "metadata": {},
   "source": [
    "## combining chromosome SNP data per sample into WES SNP data\n",
    "### also add EB data if available to filter out bad SNPs"
   ]
  },
  {
   "cell_type": "code",
   "execution_count": 1,
   "metadata": {
    "ExecuteTime": {
     "end_time": "2020-10-02T16:09:33.924333Z",
     "start_time": "2020-10-02T16:09:33.920187Z"
    }
   },
   "outputs": [],
   "source": [
    "# set the paths\n",
    "home = '/Users/mahtin'\n",
    "home = '/Users/martinscience'\n",
    "testdata = os.path.join(home,\"Dropbox/Icke/Work/somVar/testdata\")\n",
    "tooldata = os.path.join(home, \"Dropbox/Icke/Work/somVar/tooldata\")\n",
    "cnvdata = os.path.join(tooldata, \"myCNVdata\")\n",
    "shell_path = \"../shell\"\n",
    "static_path = os.path.join(home, \"Dropbox/Icke/Work/static\")\n",
    "output_path = os.path.join(cnvdata, \"output\")\n",
    "\n",
    "cnv_path = os.path.join(cnvdata, \"cnv\")"
   ]
  },
  {
   "cell_type": "code",
   "execution_count": 2,
   "metadata": {
    "ExecuteTime": {
     "end_time": "2020-10-02T16:09:34.012107Z",
     "start_time": "2020-10-02T16:09:34.008173Z"
    }
   },
   "outputs": [
    {
     "data": {
      "text/plain": [
       "'/Users/martinscience/Dropbox/Icke/Work/somVar/tooldata/myCNVdata/cnv'"
      ]
     },
     "execution_count": 2,
     "metadata": {},
     "output_type": "execute_result"
    }
   ],
   "source": [
    "cnv_path"
   ]
  },
  {
   "cell_type": "code",
   "execution_count": 3,
   "metadata": {
    "ExecuteTime": {
     "end_time": "2020-10-02T16:18:02.611695Z",
     "start_time": "2020-10-02T16:18:02.519797Z"
    }
   },
   "outputs": [
    {
     "data": {
      "text/html": [
       "<div>\n",
       "<style scoped>\n",
       "    .dataframe tbody tr th:only-of-type {\n",
       "        vertical-align: middle;\n",
       "    }\n",
       "\n",
       "    .dataframe tbody tr th {\n",
       "        vertical-align: top;\n",
       "    }\n",
       "\n",
       "    .dataframe thead th {\n",
       "        text-align: right;\n",
       "    }\n",
       "</style>\n",
       "<table border=\"1\" class=\"dataframe\">\n",
       "  <thead>\n",
       "    <tr style=\"text-align: right;\">\n",
       "      <th></th>\n",
       "      <th>Chr</th>\n",
       "      <th>Start</th>\n",
       "      <th>ExonPos</th>\n",
       "      <th>Ref</th>\n",
       "      <th>Depth</th>\n",
       "      <th>Alt</th>\n",
       "      <th>VAF</th>\n",
       "    </tr>\n",
       "  </thead>\n",
       "  <tbody>\n",
       "    <tr>\n",
       "      <th>0</th>\n",
       "      <td>chr3</td>\n",
       "      <td>197596</td>\n",
       "      <td>50</td>\n",
       "      <td>T</td>\n",
       "      <td>112</td>\n",
       "      <td>C1</td>\n",
       "      <td>0.008929</td>\n",
       "    </tr>\n",
       "    <tr>\n",
       "      <th>1</th>\n",
       "      <td>chr3</td>\n",
       "      <td>197682</td>\n",
       "      <td>136</td>\n",
       "      <td>T</td>\n",
       "      <td>197</td>\n",
       "      <td>G2</td>\n",
       "      <td>0.010152</td>\n",
       "    </tr>\n",
       "    <tr>\n",
       "      <th>2</th>\n",
       "      <td>chr3</td>\n",
       "      <td>328224</td>\n",
       "      <td>768</td>\n",
       "      <td>A</td>\n",
       "      <td>188</td>\n",
       "      <td>T1</td>\n",
       "      <td>0.005319</td>\n",
       "    </tr>\n",
       "    <tr>\n",
       "      <th>3</th>\n",
       "      <td>chr3</td>\n",
       "      <td>340795</td>\n",
       "      <td>950</td>\n",
       "      <td>T</td>\n",
       "      <td>348</td>\n",
       "      <td>A1</td>\n",
       "      <td>0.002874</td>\n",
       "    </tr>\n",
       "    <tr>\n",
       "      <th>4</th>\n",
       "      <td>chr3</td>\n",
       "      <td>340862</td>\n",
       "      <td>1017</td>\n",
       "      <td>C</td>\n",
       "      <td>536</td>\n",
       "      <td>G1</td>\n",
       "      <td>0.001866</td>\n",
       "    </tr>\n",
       "    <tr>\n",
       "      <th>5</th>\n",
       "      <td>chr3</td>\n",
       "      <td>342011</td>\n",
       "      <td>1209</td>\n",
       "      <td>G</td>\n",
       "      <td>160</td>\n",
       "      <td>A1</td>\n",
       "      <td>0.006250</td>\n",
       "    </tr>\n",
       "    <tr>\n",
       "      <th>6</th>\n",
       "      <td>chr3</td>\n",
       "      <td>342964</td>\n",
       "      <td>1360</td>\n",
       "      <td>C</td>\n",
       "      <td>179</td>\n",
       "      <td>A1</td>\n",
       "      <td>0.005587</td>\n",
       "    </tr>\n",
       "    <tr>\n",
       "      <th>7</th>\n",
       "      <td>chr3</td>\n",
       "      <td>343057</td>\n",
       "      <td>1453</td>\n",
       "      <td>G</td>\n",
       "      <td>236</td>\n",
       "      <td>T1</td>\n",
       "      <td>0.004237</td>\n",
       "    </tr>\n",
       "    <tr>\n",
       "      <th>8</th>\n",
       "      <td>chr3</td>\n",
       "      <td>344564</td>\n",
       "      <td>1484</td>\n",
       "      <td>C</td>\n",
       "      <td>119</td>\n",
       "      <td>T60</td>\n",
       "      <td>0.504202</td>\n",
       "    </tr>\n",
       "    <tr>\n",
       "      <th>9</th>\n",
       "      <td>chr3</td>\n",
       "      <td>344607</td>\n",
       "      <td>1527</td>\n",
       "      <td>G</td>\n",
       "      <td>192</td>\n",
       "      <td>T1</td>\n",
       "      <td>0.005208</td>\n",
       "    </tr>\n",
       "    <tr>\n",
       "      <th>10</th>\n",
       "      <td>chr3</td>\n",
       "      <td>344621</td>\n",
       "      <td>1541</td>\n",
       "      <td>C</td>\n",
       "      <td>206</td>\n",
       "      <td>A1</td>\n",
       "      <td>0.004854</td>\n",
       "    </tr>\n",
       "    <tr>\n",
       "      <th>11</th>\n",
       "      <td>chr3</td>\n",
       "      <td>349417</td>\n",
       "      <td>1662</td>\n",
       "      <td>A</td>\n",
       "      <td>127</td>\n",
       "      <td>G127</td>\n",
       "      <td>1.000000</td>\n",
       "    </tr>\n",
       "    <tr>\n",
       "      <th>12</th>\n",
       "      <td>chr3</td>\n",
       "      <td>354637</td>\n",
       "      <td>1838</td>\n",
       "      <td>C</td>\n",
       "      <td>161</td>\n",
       "      <td>A1</td>\n",
       "      <td>0.006211</td>\n",
       "    </tr>\n",
       "  </tbody>\n",
       "</table>\n",
       "</div>"
      ],
      "text/plain": [
       "     Chr   Start  ExonPos Ref  Depth   Alt       VAF\n",
       "0   chr3  197596       50   T    112    C1  0.008929\n",
       "1   chr3  197682      136   T    197    G2  0.010152\n",
       "2   chr3  328224      768   A    188    T1  0.005319\n",
       "3   chr3  340795      950   T    348    A1  0.002874\n",
       "4   chr3  340862     1017   C    536    G1  0.001866\n",
       "5   chr3  342011     1209   G    160    A1  0.006250\n",
       "6   chr3  342964     1360   C    179    A1  0.005587\n",
       "7   chr3  343057     1453   G    236    T1  0.004237\n",
       "8   chr3  344564     1484   C    119   T60  0.504202\n",
       "9   chr3  344607     1527   G    192    T1  0.005208\n",
       "10  chr3  344621     1541   C    206    A1  0.004854\n",
       "11  chr3  349417     1662   A    127  G127  1.000000\n",
       "12  chr3  354637     1838   C    161    A1  0.006211"
      ]
     },
     "execution_count": 3,
     "metadata": {},
     "output_type": "execute_result"
    }
   ],
   "source": [
    "test = pd.read_csv(f'{cnv_path}/01_A.chr3.snpEB', sep='\\t').loc[:,['Chr', 'Start', 'Ref','EBscore', 'PoN-Alt']]\n",
    "test[:13]\n",
    "test = pd.read_csv(f'{cnv_path}/01_A.chr3.snp', sep='\\t')\n",
    "test[:13]"
   ]
  },
  {
   "cell_type": "markdown",
   "metadata": {},
   "source": [
    "### combine all snp for a sample into one df with corresponding EBscores"
   ]
  },
  {
   "cell_type": "code",
   "execution_count": 6,
   "metadata": {
    "ExecuteTime": {
     "end_time": "2020-10-02T16:29:05.117448Z",
     "start_time": "2020-10-02T16:29:05.110089Z"
    }
   },
   "outputs": [],
   "source": [
    "# try with pd merge\n",
    "import os\n",
    "chrom_list = [f\"chr{chrom + 1}\" for chrom in range(22)] + ['chrX']\n",
    "\n",
    "\n",
    "def combine_SNPdata(sample, cnv_path):\n",
    "    snp_dfs = []\n",
    "    file_base = os.path.join(cnv_path, sample)\n",
    "    for chrom in chrom_list:\n",
    "        # reading SNP\n",
    "        file = f\"{file_base}.{chrom}.snp\"\n",
    "        if not os.path.isfile(file):\n",
    "            continue\n",
    "        print(f\"Reading SNP VAF from {chrom} of sample {sample} from {file}.\")\n",
    "        snp_df = pd.read_csv(file, sep='\\t')\n",
    "        snp_df[['Alt', 'AltDepth']] = snp_df['Alt'].str.extract(r\"([AGCT])([0-9]+)\")\n",
    "        \n",
    "        #reading snpEB\n",
    "        file = f\"{file_base}.{chrom}.snpEB\"\n",
    "        if not os.path.isfile(file):\n",
    "            continue\n",
    "        print(f\"Reading SNP EBscores from {chrom} of sample {sample} from {file}.\")\n",
    "        snpEB_df = pd.read_csv(file, sep='\\t').loc[:,['Chr', 'Start', 'Ref','Alt', 'EBscore', 'PoN-Alt']]\n",
    "        snp_df = snp_df.merge(snpEB_df, on=['Chr', 'Start', 'Ref', 'Alt'])\n",
    "        \n",
    "        snp_dfs.append(snp_df)\n",
    "    snp_df = pd.concat(snp_dfs)\n",
    "    return snp_df.loc[:, [\"Chr\", \"Start\", \"ExonPos\", \"Ref\", \"Depth\", \"Alt\", \"VAF\", \"EBscore\", \"PoN-Alt\"]]"
   ]
  },
  {
   "cell_type": "code",
   "execution_count": 10,
   "metadata": {
    "ExecuteTime": {
     "end_time": "2020-10-02T16:30:07.677734Z",
     "start_time": "2020-10-02T16:30:05.358029Z"
    }
   },
   "outputs": [
    {
     "name": "stdout",
     "output_type": "stream",
     "text": [
      "Reading SNP VAF from chr1 of sample 01_A from /Users/martinscience/Dropbox/Icke/Work/somVar/tooldata/myCNVdata/cnv/01_A.chr1.snp.\n",
      "Reading SNP EBscores from chr1 of sample 01_A from /Users/martinscience/Dropbox/Icke/Work/somVar/tooldata/myCNVdata/cnv/01_A.chr1.snpEB.\n",
      "Reading SNP VAF from chr2 of sample 01_A from /Users/martinscience/Dropbox/Icke/Work/somVar/tooldata/myCNVdata/cnv/01_A.chr2.snp.\n",
      "Reading SNP EBscores from chr2 of sample 01_A from /Users/martinscience/Dropbox/Icke/Work/somVar/tooldata/myCNVdata/cnv/01_A.chr2.snpEB.\n",
      "Reading SNP VAF from chr3 of sample 01_A from /Users/martinscience/Dropbox/Icke/Work/somVar/tooldata/myCNVdata/cnv/01_A.chr3.snp.\n",
      "Reading SNP EBscores from chr3 of sample 01_A from /Users/martinscience/Dropbox/Icke/Work/somVar/tooldata/myCNVdata/cnv/01_A.chr3.snpEB.\n",
      "Reading SNP VAF from chr4 of sample 01_A from /Users/martinscience/Dropbox/Icke/Work/somVar/tooldata/myCNVdata/cnv/01_A.chr4.snp.\n",
      "Reading SNP EBscores from chr4 of sample 01_A from /Users/martinscience/Dropbox/Icke/Work/somVar/tooldata/myCNVdata/cnv/01_A.chr4.snpEB.\n",
      "Reading SNP VAF from chr5 of sample 01_A from /Users/martinscience/Dropbox/Icke/Work/somVar/tooldata/myCNVdata/cnv/01_A.chr5.snp.\n",
      "Reading SNP EBscores from chr5 of sample 01_A from /Users/martinscience/Dropbox/Icke/Work/somVar/tooldata/myCNVdata/cnv/01_A.chr5.snpEB.\n",
      "Reading SNP VAF from chr6 of sample 01_A from /Users/martinscience/Dropbox/Icke/Work/somVar/tooldata/myCNVdata/cnv/01_A.chr6.snp.\n",
      "Reading SNP EBscores from chr6 of sample 01_A from /Users/martinscience/Dropbox/Icke/Work/somVar/tooldata/myCNVdata/cnv/01_A.chr6.snpEB.\n",
      "Reading SNP VAF from chr7 of sample 01_A from /Users/martinscience/Dropbox/Icke/Work/somVar/tooldata/myCNVdata/cnv/01_A.chr7.snp.\n",
      "Reading SNP EBscores from chr7 of sample 01_A from /Users/martinscience/Dropbox/Icke/Work/somVar/tooldata/myCNVdata/cnv/01_A.chr7.snpEB.\n",
      "Reading SNP VAF from chr8 of sample 01_A from /Users/martinscience/Dropbox/Icke/Work/somVar/tooldata/myCNVdata/cnv/01_A.chr8.snp.\n",
      "Reading SNP EBscores from chr8 of sample 01_A from /Users/martinscience/Dropbox/Icke/Work/somVar/tooldata/myCNVdata/cnv/01_A.chr8.snpEB.\n",
      "Reading SNP VAF from chr9 of sample 01_A from /Users/martinscience/Dropbox/Icke/Work/somVar/tooldata/myCNVdata/cnv/01_A.chr9.snp.\n",
      "Reading SNP EBscores from chr9 of sample 01_A from /Users/martinscience/Dropbox/Icke/Work/somVar/tooldata/myCNVdata/cnv/01_A.chr9.snpEB.\n",
      "Reading SNP VAF from chr10 of sample 01_A from /Users/martinscience/Dropbox/Icke/Work/somVar/tooldata/myCNVdata/cnv/01_A.chr10.snp.\n",
      "Reading SNP EBscores from chr10 of sample 01_A from /Users/martinscience/Dropbox/Icke/Work/somVar/tooldata/myCNVdata/cnv/01_A.chr10.snpEB.\n",
      "Reading SNP VAF from chr11 of sample 01_A from /Users/martinscience/Dropbox/Icke/Work/somVar/tooldata/myCNVdata/cnv/01_A.chr11.snp.\n",
      "Reading SNP EBscores from chr11 of sample 01_A from /Users/martinscience/Dropbox/Icke/Work/somVar/tooldata/myCNVdata/cnv/01_A.chr11.snpEB.\n",
      "Reading SNP VAF from chr12 of sample 01_A from /Users/martinscience/Dropbox/Icke/Work/somVar/tooldata/myCNVdata/cnv/01_A.chr12.snp.\n",
      "Reading SNP EBscores from chr12 of sample 01_A from /Users/martinscience/Dropbox/Icke/Work/somVar/tooldata/myCNVdata/cnv/01_A.chr12.snpEB.\n",
      "Reading SNP VAF from chr13 of sample 01_A from /Users/martinscience/Dropbox/Icke/Work/somVar/tooldata/myCNVdata/cnv/01_A.chr13.snp.\n",
      "Reading SNP EBscores from chr13 of sample 01_A from /Users/martinscience/Dropbox/Icke/Work/somVar/tooldata/myCNVdata/cnv/01_A.chr13.snpEB.\n",
      "Reading SNP VAF from chr14 of sample 01_A from /Users/martinscience/Dropbox/Icke/Work/somVar/tooldata/myCNVdata/cnv/01_A.chr14.snp.\n",
      "Reading SNP EBscores from chr14 of sample 01_A from /Users/martinscience/Dropbox/Icke/Work/somVar/tooldata/myCNVdata/cnv/01_A.chr14.snpEB.\n",
      "Reading SNP VAF from chr15 of sample 01_A from /Users/martinscience/Dropbox/Icke/Work/somVar/tooldata/myCNVdata/cnv/01_A.chr15.snp.\n",
      "Reading SNP EBscores from chr15 of sample 01_A from /Users/martinscience/Dropbox/Icke/Work/somVar/tooldata/myCNVdata/cnv/01_A.chr15.snpEB.\n",
      "Reading SNP VAF from chr16 of sample 01_A from /Users/martinscience/Dropbox/Icke/Work/somVar/tooldata/myCNVdata/cnv/01_A.chr16.snp.\n",
      "Reading SNP EBscores from chr16 of sample 01_A from /Users/martinscience/Dropbox/Icke/Work/somVar/tooldata/myCNVdata/cnv/01_A.chr16.snpEB.\n",
      "Reading SNP VAF from chr17 of sample 01_A from /Users/martinscience/Dropbox/Icke/Work/somVar/tooldata/myCNVdata/cnv/01_A.chr17.snp.\n",
      "Reading SNP EBscores from chr17 of sample 01_A from /Users/martinscience/Dropbox/Icke/Work/somVar/tooldata/myCNVdata/cnv/01_A.chr17.snpEB.\n",
      "Reading SNP VAF from chr18 of sample 01_A from /Users/martinscience/Dropbox/Icke/Work/somVar/tooldata/myCNVdata/cnv/01_A.chr18.snp.\n",
      "Reading SNP EBscores from chr18 of sample 01_A from /Users/martinscience/Dropbox/Icke/Work/somVar/tooldata/myCNVdata/cnv/01_A.chr18.snpEB.\n",
      "Reading SNP VAF from chr19 of sample 01_A from /Users/martinscience/Dropbox/Icke/Work/somVar/tooldata/myCNVdata/cnv/01_A.chr19.snp.\n",
      "Reading SNP EBscores from chr19 of sample 01_A from /Users/martinscience/Dropbox/Icke/Work/somVar/tooldata/myCNVdata/cnv/01_A.chr19.snpEB.\n",
      "Reading SNP VAF from chr20 of sample 01_A from /Users/martinscience/Dropbox/Icke/Work/somVar/tooldata/myCNVdata/cnv/01_A.chr20.snp.\n",
      "Reading SNP EBscores from chr20 of sample 01_A from /Users/martinscience/Dropbox/Icke/Work/somVar/tooldata/myCNVdata/cnv/01_A.chr20.snpEB.\n",
      "Reading SNP VAF from chr21 of sample 01_A from /Users/martinscience/Dropbox/Icke/Work/somVar/tooldata/myCNVdata/cnv/01_A.chr21.snp.\n",
      "Reading SNP EBscores from chr21 of sample 01_A from /Users/martinscience/Dropbox/Icke/Work/somVar/tooldata/myCNVdata/cnv/01_A.chr21.snpEB.\n",
      "Reading SNP VAF from chr22 of sample 01_A from /Users/martinscience/Dropbox/Icke/Work/somVar/tooldata/myCNVdata/cnv/01_A.chr22.snp.\n",
      "Reading SNP EBscores from chr22 of sample 01_A from /Users/martinscience/Dropbox/Icke/Work/somVar/tooldata/myCNVdata/cnv/01_A.chr22.snpEB.\n",
      "Reading SNP VAF from chrX of sample 01_A from /Users/martinscience/Dropbox/Icke/Work/somVar/tooldata/myCNVdata/cnv/01_A.chrX.snp.\n",
      "Reading SNP EBscores from chrX of sample 01_A from /Users/martinscience/Dropbox/Icke/Work/somVar/tooldata/myCNVdata/cnv/01_A.chrX.snpEB.\n"
     ]
    }
   ],
   "source": [
    "sample = \"01_A\"\n",
    "snp_df = combine_SNPdata(sample, cnv_path)"
   ]
  },
  {
   "cell_type": "code",
   "execution_count": 12,
   "metadata": {},
   "outputs": [
    {
     "data": {
      "text/html": [
       "<div>\n",
       "<style scoped>\n",
       "    .dataframe tbody tr th:only-of-type {\n",
       "        vertical-align: middle;\n",
       "    }\n",
       "\n",
       "    .dataframe tbody tr th {\n",
       "        vertical-align: top;\n",
       "    }\n",
       "\n",
       "    .dataframe thead th {\n",
       "        text-align: right;\n",
       "    }\n",
       "</style>\n",
       "<table border=\"1\" class=\"dataframe\">\n",
       "  <thead>\n",
       "    <tr style=\"text-align: right;\">\n",
       "      <th></th>\n",
       "      <th>Chr</th>\n",
       "      <th>Start</th>\n",
       "      <th>ExonPos</th>\n",
       "      <th>Ref</th>\n",
       "      <th>Depth</th>\n",
       "      <th>Alt</th>\n",
       "      <th>VAF</th>\n",
       "      <th>EBscore</th>\n",
       "      <th>PoN-Alt</th>\n",
       "    </tr>\n",
       "  </thead>\n",
       "  <tbody>\n",
       "    <tr>\n",
       "      <th>1426</th>\n",
       "      <td>chr1</td>\n",
       "      <td>1968667</td>\n",
       "      <td>128857</td>\n",
       "      <td>T</td>\n",
       "      <td>70</td>\n",
       "      <td>C</td>\n",
       "      <td>1.85714</td>\n",
       "      <td>0.000</td>\n",
       "      <td>0|0|0|0|0|0|0|0|0|0|0|0|0|0|0|0|0|0|0-0|0|0|0|...</td>\n",
       "    </tr>\n",
       "    <tr>\n",
       "      <th>5386</th>\n",
       "      <td>chr1</td>\n",
       "      <td>16986749</td>\n",
       "      <td>596763</td>\n",
       "      <td>C</td>\n",
       "      <td>68</td>\n",
       "      <td>C</td>\n",
       "      <td>1.05882</td>\n",
       "      <td>0.001</td>\n",
       "      <td>39|118|95|106|58|31|35|30|21|34|41|19|8|15|18|...</td>\n",
       "    </tr>\n",
       "    <tr>\n",
       "      <th>6045</th>\n",
       "      <td>chr1</td>\n",
       "      <td>19312149</td>\n",
       "      <td>674448</td>\n",
       "      <td>G</td>\n",
       "      <td>44</td>\n",
       "      <td>G</td>\n",
       "      <td>1.02273</td>\n",
       "      <td>0.001</td>\n",
       "      <td>9|22|38|9|6|15|16|26|8|10|4|13|6|15|3|10|1|6|1...</td>\n",
       "    </tr>\n",
       "    <tr>\n",
       "      <th>6432</th>\n",
       "      <td>chr1</td>\n",
       "      <td>21449920</td>\n",
       "      <td>727347</td>\n",
       "      <td>C</td>\n",
       "      <td>180</td>\n",
       "      <td>T</td>\n",
       "      <td>1.31111</td>\n",
       "      <td>0.000</td>\n",
       "      <td>0|0|0|0|0|0|0|0|0|0|0|0|0|0|0|0|0|0|0-0|0|0|0|...</td>\n",
       "    </tr>\n",
       "    <tr>\n",
       "      <th>7204</th>\n",
       "      <td>chr1</td>\n",
       "      <td>23967960</td>\n",
       "      <td>824609</td>\n",
       "      <td>C</td>\n",
       "      <td>129</td>\n",
       "      <td>A</td>\n",
       "      <td>1.03101</td>\n",
       "      <td>0.000</td>\n",
       "      <td>1|0|0|0|0|0|0|0|0|0|0|0|0|0|0|0|0|0|0-0|0|0|0|...</td>\n",
       "    </tr>\n",
       "    <tr>\n",
       "      <th>...</th>\n",
       "      <td>...</td>\n",
       "      <td>...</td>\n",
       "      <td>...</td>\n",
       "      <td>...</td>\n",
       "      <td>...</td>\n",
       "      <td>...</td>\n",
       "      <td>...</td>\n",
       "      <td>...</td>\n",
       "      <td>...</td>\n",
       "    </tr>\n",
       "    <tr>\n",
       "      <th>7028</th>\n",
       "      <td>chr22</td>\n",
       "      <td>44862611</td>\n",
       "      <td>910792</td>\n",
       "      <td>G</td>\n",
       "      <td>121</td>\n",
       "      <td>A</td>\n",
       "      <td>1.70248</td>\n",
       "      <td>0.000</td>\n",
       "      <td>0|0|0|0|0|0|0|0|0|0|0|0|0|0|0|0|0|0|0-0|0|0|1|...</td>\n",
       "    </tr>\n",
       "    <tr>\n",
       "      <th>58</th>\n",
       "      <td>chrX</td>\n",
       "      <td>312722</td>\n",
       "      <td>2009</td>\n",
       "      <td>G</td>\n",
       "      <td>208</td>\n",
       "      <td>C</td>\n",
       "      <td>1.59615</td>\n",
       "      <td>0.000</td>\n",
       "      <td>0|0|0|0|0|0|0|0|0|0|0|0|0|0|0|0|0|0|0-0|0|0|0|...</td>\n",
       "    </tr>\n",
       "    <tr>\n",
       "      <th>2631</th>\n",
       "      <td>chrX</td>\n",
       "      <td>45076679</td>\n",
       "      <td>427780</td>\n",
       "      <td>C</td>\n",
       "      <td>262</td>\n",
       "      <td>T</td>\n",
       "      <td>1.50000</td>\n",
       "      <td>0.000</td>\n",
       "      <td>0|0|0|0|0|0|0|0|0|0|0|0|0|0|0|0|0|0|0-0|0|0|0|...</td>\n",
       "    </tr>\n",
       "    <tr>\n",
       "      <th>6040</th>\n",
       "      <td>chrX</td>\n",
       "      <td>106849220</td>\n",
       "      <td>1172552</td>\n",
       "      <td>a</td>\n",
       "      <td>184</td>\n",
       "      <td>T</td>\n",
       "      <td>1.16304</td>\n",
       "      <td>0.022</td>\n",
       "      <td>0|0|0|0|0|0|0|0|0|0|0|0|0|0|0|0|0|0|0-1|4|0|2|...</td>\n",
       "    </tr>\n",
       "    <tr>\n",
       "      <th>6485</th>\n",
       "      <td>chrX</td>\n",
       "      <td>115190618</td>\n",
       "      <td>1274240</td>\n",
       "      <td>A</td>\n",
       "      <td>195</td>\n",
       "      <td>C</td>\n",
       "      <td>7.86667</td>\n",
       "      <td>0.639</td>\n",
       "      <td>0|0|0|0|0|0|0|0|0|0|0|0|0|0|0|0|0|0|0-1|0|0|0|...</td>\n",
       "    </tr>\n",
       "  </tbody>\n",
       "</table>\n",
       "<p>232 rows × 9 columns</p>\n",
       "</div>"
      ],
      "text/plain": [
       "        Chr      Start  ExonPos Ref  Depth Alt      VAF  EBscore  \\\n",
       "1426   chr1    1968667   128857   T     70   C  1.85714    0.000   \n",
       "5386   chr1   16986749   596763   C     68   C  1.05882    0.001   \n",
       "6045   chr1   19312149   674448   G     44   G  1.02273    0.001   \n",
       "6432   chr1   21449920   727347   C    180   T  1.31111    0.000   \n",
       "7204   chr1   23967960   824609   C    129   A  1.03101    0.000   \n",
       "...     ...        ...      ...  ..    ...  ..      ...      ...   \n",
       "7028  chr22   44862611   910792   G    121   A  1.70248    0.000   \n",
       "58     chrX     312722     2009   G    208   C  1.59615    0.000   \n",
       "2631   chrX   45076679   427780   C    262   T  1.50000    0.000   \n",
       "6040   chrX  106849220  1172552   a    184   T  1.16304    0.022   \n",
       "6485   chrX  115190618  1274240   A    195   C  7.86667    0.639   \n",
       "\n",
       "                                                PoN-Alt  \n",
       "1426  0|0|0|0|0|0|0|0|0|0|0|0|0|0|0|0|0|0|0-0|0|0|0|...  \n",
       "5386  39|118|95|106|58|31|35|30|21|34|41|19|8|15|18|...  \n",
       "6045  9|22|38|9|6|15|16|26|8|10|4|13|6|15|3|10|1|6|1...  \n",
       "6432  0|0|0|0|0|0|0|0|0|0|0|0|0|0|0|0|0|0|0-0|0|0|0|...  \n",
       "7204  1|0|0|0|0|0|0|0|0|0|0|0|0|0|0|0|0|0|0-0|0|0|0|...  \n",
       "...                                                 ...  \n",
       "7028  0|0|0|0|0|0|0|0|0|0|0|0|0|0|0|0|0|0|0-0|0|0|1|...  \n",
       "58    0|0|0|0|0|0|0|0|0|0|0|0|0|0|0|0|0|0|0-0|0|0|0|...  \n",
       "2631  0|0|0|0|0|0|0|0|0|0|0|0|0|0|0|0|0|0|0-0|0|0|0|...  \n",
       "6040  0|0|0|0|0|0|0|0|0|0|0|0|0|0|0|0|0|0|0-1|4|0|2|...  \n",
       "6485  0|0|0|0|0|0|0|0|0|0|0|0|0|0|0|0|0|0|0-1|0|0|0|...  \n",
       "\n",
       "[232 rows x 9 columns]"
      ]
     },
     "execution_count": 12,
     "metadata": {},
     "output_type": "execute_result"
    }
   ],
   "source": [
    "snp_df.query('VAF > 1')"
   ]
  },
  {
   "cell_type": "markdown",
   "metadata": {},
   "source": [
    "### merge sample coverage with Pon coverage"
   ]
  },
  {
   "cell_type": "code",
   "execution_count": null,
   "metadata": {
    "ExecuteTime": {
     "end_time": "2020-10-02T16:45:06.048591Z",
     "start_time": "2020-10-02T16:45:06.042068Z"
    }
   },
   "outputs": [],
   "source": [
    "def combine_Covdata(sample, cnv_data_path):\n",
    "    \n",
    "    cover_dfs = []\n",
    "\n",
    "    for chrom in chrom_list:\n",
    "        # reading sampleCoverage\n",
    "        sample_cov_file = os.path.join(cnv_data_path, f\"cnv/{sample}.{chrom}.cov\")\n",
    "        if not os.path.isfile(sample_cov_file):\n",
    "            continue\n",
    "        print(f\"Reading coverage from {chrom} of sample {sample} from {sample_cov_file}.\")\n",
    "        cov_df = pd.read_csv(sample_cov_file, sep='\\t', compression=\"gzip\")\n",
    "        \n",
    "        \n",
    "        #reading PONcoverage\n",
    "        pon_cov_file = os.path.join(cnv_data_path, f\"chromCov/{chrom}.filtered.csv.gz\")\n",
    "        if not os.path.isfile(pon_cov_file):\n",
    "            continue\n",
    "        print(f\"Reading PON coverage of {chrom} from file {pon_cov_file}.\")\n",
    "        pon_df = pd.read_csv(pon_cov_file, sep='\\t', compression=\"gzip\").loc[:,['Chr', 'Pos', 'ExonPos', 'meanCov', 'medianCov', 'std']]\n",
    "        # column rename\n",
    "        trans_dict = {col:f\"PON{col}\" for col in pon_df.columns[3:]}\n",
    "        pon_df = pon_df.rename(columns=trans_dict)\n",
    "        # merge sample with PON coverage\n",
    "        sample_df = cov_df.merge(pon_df, on=['Chr', 'Pos', 'ExonPos'], how=\"inner\").loc[:,['Chr', 'Pos', 'ExonPos', 'Coverage','PONmeanCov', 'PONmedianCov', 'PONstd']]\n",
    "        \n",
    "        # normalize the coverage\n",
    "        sample_df['Coverage'] = sample_df['Coverage'] / sample_df['Coverage'].mean() * 100\n",
    "        cover_dfs.append(sample_df)   \n",
    "    cover_df = pd.concat(cover_dfs)\n",
    "    cover_df['log2ratio'] = np.log2(covere_df['Coverage'] / cover_df['PONmeanCov'])\n",
    "    cover_df['rr100'] = cover_df['log2ratio'].rolling(100).mean()\n",
    "    cover_df['rr200'] = cover_df['log2ratio'].rolling(200).mean()\n",
    "    cover_df['rr500'] = cover_df['log2ratio'].rolling(500).mean()\n",
    "    \n",
    "    return cover_df"
   ]
  },
  {
   "cell_type": "code",
   "execution_count": null,
   "metadata": {
    "ExecuteTime": {
     "end_time": "2020-10-02T16:45:14.560721Z",
     "start_time": "2020-10-02T16:45:07.214652Z"
    }
   },
   "outputs": [],
   "source": [
    "sample = \"01_A\"\n",
    "combine_Covdata(sample, cnvdata)"
   ]
  },
  {
   "cell_type": "code",
   "execution_count": null,
   "metadata": {},
   "outputs": [],
   "source": [
    "snp_df = combine_heteroSNP(\"03_A\")\n",
    "snp_df.to_csv(f\"{output_path}/03_A.snp.csv\", sep='\\t', index=False)\n",
    "snp_df"
   ]
  },
  {
   "cell_type": "markdown",
   "metadata": {},
   "source": [
    "### make a stacked \"tidy version\" of the coverage df for vizualisation in tidyverse"
   ]
  },
  {
   "cell_type": "code",
   "execution_count": null,
   "metadata": {},
   "outputs": [],
   "source": [
    "def tidy_df(df):\n",
    "    return df.drop(columns=['Chr', 'Pos']).set_index('ExonPos').stack().reset_index().rename(columns={'level_1':'sample', 0:'Coverage'})\n",
    "\n",
    "tidy_df(cov_df).to_csv(f\"{output_path}/PON_coverage_tidy.csv\", sep='\\t', index=False)"
   ]
  },
  {
   "cell_type": "markdown",
   "metadata": {},
   "source": [
    "### normalize the coverage to coverage 100"
   ]
  },
  {
   "cell_type": "code",
   "execution_count": null,
   "metadata": {},
   "outputs": [],
   "source": [
    "def normalize_coverage(cov_df):\n",
    "    norm_df = cov_df.set_index(['Chr','Pos','ExonPos'])\n",
    "    norm_df = norm_df / norm_df.mean() * 100\n",
    "    return norm_df.reset_index()"
   ]
  },
  {
   "cell_type": "code",
   "execution_count": null,
   "metadata": {},
   "outputs": [],
   "source": [
    "norm_df = normalize_coverage(cov_df)\n",
    "norm_df"
   ]
  },
  {
   "cell_type": "code",
   "execution_count": null,
   "metadata": {},
   "outputs": [],
   "source": [
    "tidy_df(norm_df).to_csv(f\"{output_path}/PON_coverage_normtidy.csv\", sep='\\t', index=False)"
   ]
  },
  {
   "cell_type": "markdown",
   "metadata": {},
   "source": [
    "### compute the mean of all the coverages"
   ]
  },
  {
   "cell_type": "code",
   "execution_count": null,
   "metadata": {},
   "outputs": [],
   "source": [
    "def add_mean(norm_df):\n",
    "    norm_df = norm_df.set_index(['Chr', 'Pos', 'ExonPos'])\n",
    "    norm_df['meanCov'] = norm_df.mean(axis=1)\n",
    "    norm_df['medianCov'] = norm_df.median(axis=1)\n",
    "    norm_df['std'] = norm_df.std(axis=1)\n",
    "    return norm_df.reset_index()\n",
    "mean_df = add_mean(norm_df)\n",
    "tidy_df(mean_df).to_csv(f\"{output_path}/PON_coverage_mean.csv\", sep='\\t', index=False)\n",
    "mean_df"
   ]
  },
  {
   "cell_type": "markdown",
   "metadata": {},
   "source": [
    "### filter the coverage"
   ]
  },
  {
   "cell_type": "code",
   "execution_count": null,
   "metadata": {},
   "outputs": [],
   "source": [
    "mean_df['std'].max()"
   ]
  },
  {
   "cell_type": "code",
   "execution_count": null,
   "metadata": {},
   "outputs": [],
   "source": [
    "def filter_coverage(df, mincov, maxstd):\n",
    "    filter_df = df.query('meanCov > @mincov and std < @maxstd')\n",
    "    return filter_df"
   ]
  },
  {
   "cell_type": "code",
   "execution_count": null,
   "metadata": {},
   "outputs": [],
   "source": [
    "filter_df = filter_coverage(mean_df, mincov=20, maxstd=50)\n",
    "tidy_df(filter_df).to_csv(f\"{output_path}/PON_coverage_filter.csv\", sep='\\t', index=False)"
   ]
  }
 ],
 "metadata": {
  "kernelspec": {
   "display_name": "Python 3",
   "language": "python",
   "name": "python3"
  },
  "language_info": {
   "codemirror_mode": {
    "name": "ipython",
    "version": 3
   },
   "file_extension": ".py",
   "mimetype": "text/x-python",
   "name": "python",
   "nbconvert_exporter": "python",
   "pygments_lexer": "ipython3",
   "version": "3.8.5"
  },
  "varInspector": {
   "cols": {
    "lenName": 16,
    "lenType": 16,
    "lenVar": 40
   },
   "kernels_config": {
    "python": {
     "delete_cmd_postfix": "",
     "delete_cmd_prefix": "del ",
     "library": "var_list.py",
     "varRefreshCmd": "print(var_dic_list())"
    },
    "r": {
     "delete_cmd_postfix": ") ",
     "delete_cmd_prefix": "rm(",
     "library": "var_list.r",
     "varRefreshCmd": "cat(var_dic_list()) "
    }
   },
   "types_to_exclude": [
    "module",
    "function",
    "builtin_function_or_method",
    "instance",
    "_Feature"
   ],
   "window_display": false
  }
 },
 "nbformat": 4,
 "nbformat_minor": 4
}
