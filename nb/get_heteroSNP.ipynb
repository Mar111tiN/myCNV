{
 "cells": [
  {
   "cell_type": "code",
   "execution_count": 1,
   "metadata": {
    "ExecuteTime": {
     "end_time": "2020-09-25T08:29:00.757996Z",
     "start_time": "2020-09-25T08:29:00.753081Z"
    }
   },
   "outputs": [],
   "source": [
    "# get the code\n",
    "import sys\n",
    "sys.path.append('../code')\n",
    "from heteroSNP import get_heteroSNP"
   ]
  },
  {
   "cell_type": "markdown",
   "metadata": {},
   "source": [
    "### prepare the files"
   ]
  },
  {
   "cell_type": "code",
   "execution_count": 2,
   "metadata": {
    "ExecuteTime": {
     "end_time": "2020-09-25T11:03:15.196908Z",
     "start_time": "2020-09-25T11:03:15.193504Z"
    }
   },
   "outputs": [],
   "source": [
    "# set the paths\n",
    "home = '/Users/mahtin'\n",
    "home = '/Users/martinscience'\n",
    "testdata = f\"{home}/Dropbox/Icke/Work/somVar/testdata\"\n",
    "tooldata = f\"{home}/Dropbox/Icke/Work/somVar/tooldata\"\n",
    "shell_path = \"../shell\"\n",
    "static_path = f\"{home}/Dropbox/Icke/Work/static\"\n",
    "bed_path = f\"{static_path}/bed_files/SureSelect/hg38\"\n",
    "outpath = f\"{tooldata}/myCNVdata/output\""
   ]
  },
  {
   "cell_type": "markdown",
   "metadata": {},
   "source": [
    "### make the config"
   ]
  },
  {
   "cell_type": "code",
   "execution_count": 3,
   "metadata": {
    "ExecuteTime": {
     "end_time": "2020-09-25T11:07:19.701561Z",
     "start_time": "2020-09-25T11:07:19.695459Z"
    }
   },
   "outputs": [
    {
     "data": {
      "text/plain": [
       "{'q': 20,\n",
       " 'Q': 25,\n",
       " 'minVAF': 0.0001,\n",
       " 'minDepth': 10,\n",
       " 'bedfile': '/Users/martinscience/Dropbox/Icke/Work/static/bed_files/SureSelect/hg38/SS_HAEv7_hg38_Covered.bed',\n",
       " 'SNPdb_path': '/Users/martinscience/Dropbox/Icke/Work/somVar/tooldata/myCNVdata/output/SNPdb',\n",
       " 'genome_split_path': '/Users/martinscience/Dropbox/Icke/Work/static/genome/gatk/hg38/split',\n",
       " 'cleanSNP': '../shell/cleanSNP.mawk',\n",
       " 'snpVAF': '../shell/snpVAF.mawk',\n",
       " 'filterBed': '../shell/filterBed.mawk'}"
      ]
     },
     "execution_count": 3,
     "metadata": {},
     "output_type": "execute_result"
    }
   ],
   "source": [
    "# shell paths\n",
    "import os\n",
    "mawk_tools = ['cleanSNP', 'snpVAF', 'filterBed']\n",
    "mawk_tool_dict = {tool:f\"{shell_path}/{tool}.mawk\" for tool in mawk_tools}\n",
    "config = {\n",
    "    'q': 20,\n",
    "    'Q': 25,\n",
    "    'minVAF': 0.0001,\n",
    "    'minDepth': 10,\n",
    "    'bedfile': os.path.join(bed_path, \"SS_HAEv7_hg38_Covered.bed\"),\n",
    "    'SNPdb_path': os.path.join(outpath, \"SNPdb\"),\n",
    "    'genome_split_path': os.path.join(static_path, \"genome/gatk/hg38/split\")\n",
    "}\n",
    "config.update(mawk_tool_dict)"
   ]
  },
  {
   "cell_type": "code",
   "execution_count": null,
   "metadata": {},
   "outputs": [
    {
     "name": "stdout",
     "output_type": "stream",
     "text": [
      "\u001b[1m$ samtools mpileup -f /Users/martinscience/Dropbox/Icke/Work/static/genome/gatk/hg38/split/chr7.fa -q 20 -Q 25 -r chr7 -l /Users/martinscience/Dropbox/Icke/Work/somVar/tooldata/myCNVdata/output/SNPdb/db153.chr7.snp /Users/martinscience/Dropbox/Icke/Work/somVar/testdata/bam/003_A.chr7.bam | ../shell/cleanSNP.mawk | ../shell/snpVAF.mawk 0.0001 | ../shell/filterBed.mawk /Users/martinscience/Dropbox/Icke/Work/static/bed_files/SureSelect/hg38/SS_HAEv7_hg38_Covered.bed chr7 1\u001b[0m\n"
     ]
    }
   ],
   "source": [
    "bam_file = f\"{testdata}/bam/003_A.chr7.bam\"\n",
    "chrom = \"chr7\"\n",
    "\n",
    "snp_df = get_heteroSNP(bam_file, chrom, config)"
   ]
  },
  {
   "cell_type": "code",
   "execution_count": null,
   "metadata": {},
   "outputs": [],
   "source": [
    "snp_df.loc[snp_df['Depth'] > config['minDepth'],['Chr', 'Start', 'ExonPos', 'Ref', 'Depth', 'Alt', 'VAF']]"
   ]
  },
  {
   "cell_type": "code",
   "execution_count": null,
   "metadata": {},
   "outputs": [],
   "source": []
  }
 ],
 "metadata": {
  "kernelspec": {
   "display_name": "Python 3",
   "language": "python",
   "name": "python3"
  },
  "language_info": {
   "codemirror_mode": {
    "name": "ipython",
    "version": 3
   },
   "file_extension": ".py",
   "mimetype": "text/x-python",
   "name": "python",
   "nbconvert_exporter": "python",
   "pygments_lexer": "ipython3",
   "version": "3.8.5"
  },
  "varInspector": {
   "cols": {
    "lenName": 16,
    "lenType": 16,
    "lenVar": 40
   },
   "kernels_config": {
    "python": {
     "delete_cmd_postfix": "",
     "delete_cmd_prefix": "del ",
     "library": "var_list.py",
     "varRefreshCmd": "print(var_dic_list())"
    },
    "r": {
     "delete_cmd_postfix": ") ",
     "delete_cmd_prefix": "rm(",
     "library": "var_list.r",
     "varRefreshCmd": "cat(var_dic_list()) "
    }
   },
   "types_to_exclude": [
    "module",
    "function",
    "builtin_function_or_method",
    "instance",
    "_Feature"
   ],
   "window_display": false
  }
 },
 "nbformat": 4,
 "nbformat_minor": 4
}
