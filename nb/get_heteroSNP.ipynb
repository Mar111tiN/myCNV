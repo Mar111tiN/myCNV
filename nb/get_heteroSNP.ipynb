{
 "cells": [
  {
   "cell_type": "markdown",
   "metadata": {},
   "source": [
    "## python wrapper around shell tools to compute heteroSNP VAFs"
   ]
  },
  {
   "cell_type": "code",
   "execution_count": 1,
   "metadata": {
    "ExecuteTime": {
     "end_time": "2020-09-25T08:29:00.757996Z",
     "start_time": "2020-09-25T08:29:00.753081Z"
    }
   },
   "outputs": [],
   "source": [
    "# get the code\n",
    "import sys\n",
    "sys.path.append('../code')\n",
    "from heteroSNP import get_heteroSNP"
   ]
  },
  {
   "cell_type": "markdown",
   "metadata": {},
   "source": [
    "### prepare the files"
   ]
  },
  {
   "cell_type": "code",
   "execution_count": 2,
   "metadata": {
    "ExecuteTime": {
     "end_time": "2020-09-25T11:03:15.196908Z",
     "start_time": "2020-09-25T11:03:15.193504Z"
    }
   },
   "outputs": [],
   "source": [
    "# set the paths\n",
    "home = '/Users/mahtin'\n",
    "home = '/Users/martinscience'\n",
    "testdata = os.path.join(home,\"Dropbox/Icke/Work/somVar/testdata\")\n",
    "tooldata = os.path.join(home, \"Dropbox/Icke/Work/somVar/tooldata\")\n",
    "cnvdata = os.path.join(tooldata, \"myCNVdata\")\n",
    "shell_path = \"../shell\"\n",
    "static_path = os.path.join(home, \"Dropbox/Icke/Work/static\")\n",
    "\n",
    "bed_path = os.path.join(static_path, \"bed_files/SureSelect/hg38\")\n",
    "outpath = os.path.join(tooldata, \"myCNVdata/output\")"
   ]
  },
  {
   "cell_type": "markdown",
   "metadata": {},
   "source": [
    "### make the config"
   ]
  },
  {
   "cell_type": "code",
   "execution_count": 3,
   "metadata": {
    "ExecuteTime": {
     "end_time": "2020-09-25T11:07:19.701561Z",
     "start_time": "2020-09-25T11:07:19.695459Z"
    }
   },
   "outputs": [],
   "source": [
    "# shell paths\n",
    "import os\n",
    "mawk_tools = ['cleanSNP', 'snpVAF', 'filterBed']\n",
    "mawk_tool_dict = {tool:f\"{shell_path}/{tool}.mawk\" for tool in mawk_tools}\n",
    "config = {\n",
    "    'q': 20,\n",
    "    'Q': 25,\n",
    "    'minVAF': 0.0001,\n",
    "    'minDepth': 10,\n",
    "    'bedfile': os.path.join(bed_path, \"SS_HAEv7_hg38_Covered.bed\"),\n",
    "    'SNPdb_path': os.path.join(cnvdata, \"SNPdb\"),\n",
    "    'genome_split_path': os.path.join(static_path, \"genome/gatk/hg38/split\")\n",
    "}\n",
    "config.update(mawk_tool_dict)"
   ]
  },
  {
   "cell_type": "code",
   "execution_count": 4,
   "metadata": {},
   "outputs": [
    {
     "name": "stdout",
     "output_type": "stream",
     "text": [
      "\u001b[1m$ samtools mpileup -f /Users/martinscience/Dropbox/Icke/Work/static/genome/gatk/hg38/split/chr7.fa -q 20 -Q 25 -r chr7 -l /Users/martinscience/Dropbox/Icke/Work/somVar/tooldata/myCNVdata/SNPdb/db153.chr7.snp /Users/martinscience/Dropbox/Icke/Work/somVar/testdata/bam/003_A.chr7.bam | ../shell/cleanSNP.mawk | ../shell/snpVAF.mawk 0.0001 | ../shell/filterBed.mawk /Users/martinscience/Dropbox/Icke/Work/static/bed_files/SureSelect/hg38/SS_HAEv7_hg38_Covered.bed chr7 1\u001b[0m\n"
     ]
    }
   ],
   "source": [
    "bam_file = f\"{testdata}/bam/003_A.chr7.bam\"\n",
    "chrom = \"chr7\"\n",
    "\n",
    "snp_df = get_heteroSNP(bam_file, chrom, config)"
   ]
  },
  {
   "cell_type": "code",
   "execution_count": 6,
   "metadata": {},
   "outputs": [
    {
     "data": {
      "text/html": [
       "<div>\n",
       "<style scoped>\n",
       "    .dataframe tbody tr th:only-of-type {\n",
       "        vertical-align: middle;\n",
       "    }\n",
       "\n",
       "    .dataframe tbody tr th {\n",
       "        vertical-align: top;\n",
       "    }\n",
       "\n",
       "    .dataframe thead th {\n",
       "        text-align: right;\n",
       "    }\n",
       "</style>\n",
       "<table border=\"1\" class=\"dataframe\">\n",
       "  <thead>\n",
       "    <tr style=\"text-align: right;\">\n",
       "      <th></th>\n",
       "      <th>Chr</th>\n",
       "      <th>Start</th>\n",
       "      <th>ExonPos</th>\n",
       "      <th>Ref</th>\n",
       "      <th>Depth</th>\n",
       "      <th>Alt</th>\n",
       "      <th>VAF</th>\n",
       "    </tr>\n",
       "  </thead>\n",
       "  <tbody>\n",
       "    <tr>\n",
       "      <th>1046</th>\n",
       "      <td>chr7</td>\n",
       "      <td>5297224</td>\n",
       "      <td>111709</td>\n",
       "      <td>t</td>\n",
       "      <td>206</td>\n",
       "      <td>C312</td>\n",
       "      <td>1.51456</td>\n",
       "    </tr>\n",
       "    <tr>\n",
       "      <th>1081</th>\n",
       "      <td>chr7</td>\n",
       "      <td>5313034</td>\n",
       "      <td>113938</td>\n",
       "      <td>t</td>\n",
       "      <td>39</td>\n",
       "      <td>G130</td>\n",
       "      <td>3.33333</td>\n",
       "    </tr>\n",
       "    <tr>\n",
       "      <th>2111</th>\n",
       "      <td>chr7</td>\n",
       "      <td>21902243</td>\n",
       "      <td>303624</td>\n",
       "      <td>A</td>\n",
       "      <td>258</td>\n",
       "      <td>T756</td>\n",
       "      <td>2.93023</td>\n",
       "    </tr>\n",
       "    <tr>\n",
       "      <th>5699</th>\n",
       "      <td>chr7</td>\n",
       "      <td>77377400</td>\n",
       "      <td>980614</td>\n",
       "      <td>c</td>\n",
       "      <td>169</td>\n",
       "      <td>A194</td>\n",
       "      <td>1.14793</td>\n",
       "    </tr>\n",
       "    <tr>\n",
       "      <th>6195</th>\n",
       "      <td>chr7</td>\n",
       "      <td>91265144</td>\n",
       "      <td>1103723</td>\n",
       "      <td>a</td>\n",
       "      <td>202</td>\n",
       "      <td>C356</td>\n",
       "      <td>1.76238</td>\n",
       "    </tr>\n",
       "    <tr>\n",
       "      <th>6512</th>\n",
       "      <td>chr7</td>\n",
       "      <td>96189552</td>\n",
       "      <td>1205153</td>\n",
       "      <td>C</td>\n",
       "      <td>286</td>\n",
       "      <td>A315</td>\n",
       "      <td>1.10140</td>\n",
       "    </tr>\n",
       "    <tr>\n",
       "      <th>7571</th>\n",
       "      <td>chr7</td>\n",
       "      <td>100787939</td>\n",
       "      <td>1383337</td>\n",
       "      <td>G</td>\n",
       "      <td>72</td>\n",
       "      <td>C372</td>\n",
       "      <td>5.16667</td>\n",
       "    </tr>\n",
       "    <tr>\n",
       "      <th>9012</th>\n",
       "      <td>chr7</td>\n",
       "      <td>103561959</td>\n",
       "      <td>1534690</td>\n",
       "      <td>C</td>\n",
       "      <td>259</td>\n",
       "      <td>A428</td>\n",
       "      <td>1.65251</td>\n",
       "    </tr>\n",
       "    <tr>\n",
       "      <th>10586</th>\n",
       "      <td>chr7</td>\n",
       "      <td>138769147</td>\n",
       "      <td>1953309</td>\n",
       "      <td>g</td>\n",
       "      <td>86</td>\n",
       "      <td>A100</td>\n",
       "      <td>1.16279</td>\n",
       "    </tr>\n",
       "    <tr>\n",
       "      <th>10830</th>\n",
       "      <td>chr7</td>\n",
       "      <td>142352943</td>\n",
       "      <td>2056418</td>\n",
       "      <td>T</td>\n",
       "      <td>11</td>\n",
       "      <td>G36</td>\n",
       "      <td>3.27273</td>\n",
       "    </tr>\n",
       "  </tbody>\n",
       "</table>\n",
       "</div>"
      ],
      "text/plain": [
       "        Chr      Start  ExonPos Ref  Depth   Alt      VAF\n",
       "1046   chr7    5297224   111709   t    206  C312  1.51456\n",
       "1081   chr7    5313034   113938   t     39  G130  3.33333\n",
       "2111   chr7   21902243   303624   A    258  T756  2.93023\n",
       "5699   chr7   77377400   980614   c    169  A194  1.14793\n",
       "6195   chr7   91265144  1103723   a    202  C356  1.76238\n",
       "6512   chr7   96189552  1205153   C    286  A315  1.10140\n",
       "7571   chr7  100787939  1383337   G     72  C372  5.16667\n",
       "9012   chr7  103561959  1534690   C    259  A428  1.65251\n",
       "10586  chr7  138769147  1953309   g     86  A100  1.16279\n",
       "10830  chr7  142352943  2056418   T     11   G36  3.27273"
      ]
     },
     "execution_count": 6,
     "metadata": {},
     "output_type": "execute_result"
    }
   ],
   "source": [
    "snp_df.query('VAF > 1')"
   ]
  },
  {
   "cell_type": "code",
   "execution_count": null,
   "metadata": {},
   "outputs": [],
   "source": []
  },
  {
   "cell_type": "code",
   "execution_count": null,
   "metadata": {},
   "outputs": [],
   "source": [
    "snp_df.loc[snp_df['Depth'] > config['minDepth'],['Chr', 'Start', 'ExonPos', 'Ref', 'Depth', 'Alt', 'VAF']]"
   ]
  },
  {
   "cell_type": "code",
   "execution_count": null,
   "metadata": {},
   "outputs": [],
   "source": []
  }
 ],
 "metadata": {
  "kernelspec": {
   "display_name": "Python 3",
   "language": "python",
   "name": "python3"
  },
  "language_info": {
   "codemirror_mode": {
    "name": "ipython",
    "version": 3
   },
   "file_extension": ".py",
   "mimetype": "text/x-python",
   "name": "python",
   "nbconvert_exporter": "python",
   "pygments_lexer": "ipython3",
   "version": "3.8.5"
  },
  "varInspector": {
   "cols": {
    "lenName": 16,
    "lenType": 16,
    "lenVar": 40
   },
   "kernels_config": {
    "python": {
     "delete_cmd_postfix": "",
     "delete_cmd_prefix": "del ",
     "library": "var_list.py",
     "varRefreshCmd": "print(var_dic_list())"
    },
    "r": {
     "delete_cmd_postfix": ") ",
     "delete_cmd_prefix": "rm(",
     "library": "var_list.r",
     "varRefreshCmd": "cat(var_dic_list()) "
    }
   },
   "types_to_exclude": [
    "module",
    "function",
    "builtin_function_or_method",
    "instance",
    "_Feature"
   ],
   "window_display": false
  }
 },
 "nbformat": 4,
 "nbformat_minor": 4
}
