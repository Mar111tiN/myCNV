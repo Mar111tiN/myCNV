{
 "cells": [
  {
   "cell_type": "code",
   "execution_count": null,
   "metadata": {
    "ExecuteTime": {
     "end_time": "2021-06-06T07:16:15.884695Z",
     "start_time": "2021-06-06T07:16:15.849476Z"
    }
   },
   "outputs": [],
   "source": [
    "# get the code\n",
    "import sys\n",
    "import os\n",
    "import re\n",
    "import matplotlib.pyplot as plt\n",
    "# use seaborn plotting defaults\n",
    "import seaborn as sns; sns.set()\n",
    "sys.path.append('../code')\n",
    "\n",
    "# import package functions\n",
    "from script_utils_CNV import get_CNVconfig, show_output\n",
    "from rollingCNV import interpolate, one_col_rolling, llh, rolling_data\n",
    "from rollingCov import rolling_coverage\n",
    "from combineCNV import filter_snp\n",
    "from plot import plot_cov, plot_snp\n",
    "\n",
    "######## need to find the chained assignment!!!\n",
    "pd.set_option('mode.chained_assignment', None)\n",
    "\n",
    "# HOME\n",
    "home = '/Users/mahtin'\n",
    "home = '/Users/martinscience'\n",
    "\n",
    "\n",
    "# standard paths\n",
    "static = os.path.join(home, \"Dropbox/Icke/Work/static\")\n",
    "tooldata = os.path.join(home, \"Dropbox/Icke/Work/somVar/tooldata\")\n",
    "testdata = os.path.join(home,\"Dropbox/Icke/Work/somVar/testdata\")\n",
    "PON_path = os.path.join(static, \"PON/HAEv7_hg38_NovaSeq\")\n",
    "\n",
    "\n",
    "cnvdata = os.path.join(tooldata, \"myCNVdata\")\n",
    "output_path = os.path.join(cnvdata, \"output\")\n",
    "plot_path = os.path.join(cnvdata, \"plot\")\n",
    "fig_path = os.path.join(cnvdata, \"figures\")"
   ]
  },
  {
   "cell_type": "markdown",
   "metadata": {},
   "source": [
    "# config\n",
    "+ use the get_CNVconfig util function to update the general configs with the appropriate paths"
   ]
  },
  {
   "cell_type": "code",
   "execution_count": null,
   "metadata": {
    "ExecuteTime": {
     "end_time": "2021-06-06T07:16:16.746703Z",
     "start_time": "2021-06-06T07:16:16.740459Z"
    }
   },
   "outputs": [],
   "source": [
    "path_config = dict(\n",
    "        mawk_path=\"../shell\",\n",
    "        cov_path=os.path.join(output_path, \"pile2CNV\"),   # path containing rawcov.gz files for this sample\n",
    "        snp_path=os.path.join(output_path, \"pile2CNV\"),   # path containing snp files for this sample\n",
    "        bed_file=os.path.join(static, \"bed_files/SureSelect/hg38/SS_HAEv7_hg38_Padded.bed\"),\n",
    "        genome_split_path=os.path.join(static, \"genome/gatk/hg38/split\"),\n",
    "        gc_split_path=os.path.join(static, \"genome/gatk/hg38/split\"),\n",
    "        genmap_split_path=os.path.join(static, \"annotation/genmap/hg38/split\"),\n",
    "        PON_path = PON_path,\n",
    "    )\n",
    "CNVconfig = get_CNVconfig(\n",
    "    \"../config/config_CNV.yaml\", \n",
    "    local_config=path_config)"
   ]
  },
  {
   "cell_type": "markdown",
   "metadata": {},
   "source": [
    "# load raw combined snp data and visualize"
   ]
  },
  {
   "cell_type": "code",
   "execution_count": null,
   "metadata": {
    "ExecuteTime": {
     "end_time": "2021-06-06T07:16:55.827182Z",
     "start_time": "2021-06-06T07:16:53.956473Z"
    }
   },
   "outputs": [],
   "source": [
    "sample = \"03_A-B\"\n",
    "snp_df = pd.read_csv(os.path.join(output_path, f\"snp/{sample}.snp.gz\"), sep=\"\\t\", compression=\"gzip\")\n",
    "\n",
    "fig_params = dict(\n",
    "    figsize=(32,3),\n",
    "    colormap='coolwarm_r',\n",
    "    color_chroms=True,\n",
    "    ylim=(-0,1),\n",
    "    label_size=13\n",
    ")\n",
    "\n",
    "vaf = dict(\n",
    "        title='BAF',\n",
    "        plot_type='scatter',  # ['line', 'scatter']\n",
    "        data='VAF2',\n",
    "        plot_args=dict(\n",
    "            s=3,\n",
    "            color='black',\n",
    "            cmap='viridis',\n",
    "            alpha=1\n",
    "        )\n",
    "    )\n",
    "chroms = ['chr3', 'chr4', 'chr5', 'chr6','chr7', 'chr9', 'chr12', 'chr17']\n",
    "r20 = 'chr20:20.7Mb-34.5Mb'\n",
    "r7 = 'chr7:95.8Mb-111Mb'\n",
    "r17 = 'chr17:18.2Mb-25Mb'\n",
    "fig1, _, _, _ = plot_snp(snp_df, plots=[vaf], chroms=\"all\", region='', **fig_params)\n",
    "fig, _, df20, _ = plot_snp(snp_df, plots=[vaf], chroms=\"all\", region=r20, **fig_params)\n",
    "fig2, _, df7, _ = plot_snp(snp_df, plots=[vaf], chroms=\"all\", region=r7, **fig_params)\n",
    "fig, _, df17, _ = plot_snp(snp_df, plots=[vaf], chroms=\"all\", region=r17, **fig_params)\n",
    "#fig, ax, df, chrom_df"
   ]
  },
  {
   "cell_type": "code",
   "execution_count": null,
   "metadata": {
    "ExecuteTime": {
     "end_time": "2021-06-06T07:17:24.730436Z",
     "start_time": "2021-06-06T07:17:24.537343Z"
    }
   },
   "outputs": [],
   "source": [
    "fig1.savefig(os.path.join(cnvdata, \"figures/03A_snp_raw.jpeg\"))\n",
    "fig2.savefig(os.path.join(cnvdata, \"figures/03A_snp_raw.chr7.jpeg\"))"
   ]
  },
  {
   "cell_type": "markdown",
   "metadata": {},
   "source": [
    "# run the code"
   ]
  },
  {
   "cell_type": "code",
   "execution_count": null,
   "metadata": {
    "ExecuteTime": {
     "end_time": "2021-06-06T07:19:06.221853Z",
     "start_time": "2021-06-06T07:17:38.991250Z"
    }
   },
   "outputs": [],
   "source": [
    "from rollingSNP import rolling_snp, remergeCNV\n",
    "\n",
    "#### load coverage data\n",
    "roll_cov_df = pd.read_csv(os.path.join(output_path, f\"cov/{sample}.roll.cov.gz\"), sep=\"\\t\", compression=\"gzip\")\n",
    "\n",
    "# run code \n",
    "rsnp_df = rolling_snp(snp_df, roll_cov_df, config=CNVconfig)\n",
    "\n",
    "# visualize\n",
    "fig, _, _, _ = plot_snp(rsnp_df, plots=[vaf], chroms=\"all\", region='', **fig_params)\n",
    "fig, _, _, _ = plot_snp(rsnp_df, plots=[vaf], chroms=\"all\", region=r20, **fig_params)\n",
    "fig, _, _, _ = plot_snp(rsnp_df, plots=[vaf], chroms=\"all\", region=r7, **fig_params)\n",
    "fig, _, _, _ = plot_snp(rsnp_df, plots=[vaf], chroms=\"all\", region=r17, **fig_params)\n",
    "# cnv_df = remergeCNV(rsnp_df, roll_cov_df)"
   ]
  },
  {
   "cell_type": "code",
   "execution_count": null,
   "metadata": {
    "ExecuteTime": {
     "end_time": "2021-06-06T07:19:25.974024Z",
     "start_time": "2021-06-06T07:19:24.131465Z"
    }
   },
   "outputs": [],
   "source": [
    "fig1, _, _, _ = plot_snp(rsnp_df, plots=[vaf], chroms=\"all\", region='', **fig_params)\n",
    "fig, _, _, _ = plot_snp(rsnp_df, plots=[vaf], chroms=\"all\", region=r20, **fig_params)\n",
    "fig2, _, _, _ = plot_snp(rsnp_df, plots=[vaf], chroms=\"all\", region=r7, **fig_params)\n",
    "fig, _, _, _ = plot_snp(rsnp_df, plots=[vaf], chroms=\"all\", region=r17, **fig_params)\n",
    "fig1.savefig(os.path.join(cnvdata, \"figures/03A_snp_clean.jpeg\"))\n",
    "fig2.savefig(os.path.join(cnvdata, \"figures/03A_snp_clean.chr7.jpeg\"))"
   ]
  },
  {
   "cell_type": "code",
   "execution_count": null,
   "metadata": {
    "ExecuteTime": {
     "end_time": "2021-06-06T06:21:43.982891Z",
     "start_time": "2021-06-06T06:21:41.963669Z"
    }
   },
   "outputs": [],
   "source": [
    "cnv_df = remergeCNV(rsnp_df, roll_cov_df)\n",
    "cnv_df"
   ]
  },
  {
   "cell_type": "code",
   "execution_count": null,
   "metadata": {
    "ExecuteTime": {
     "end_time": "2021-06-06T06:21:44.979479Z",
     "start_time": "2021-06-06T06:21:44.913333Z"
    }
   },
   "outputs": [],
   "source": [
    "cnv_df.query(\"VAF1 == VAF1\")"
   ]
  },
  {
   "cell_type": "markdown",
   "metadata": {
    "ExecuteTime": {
     "end_time": "2021-06-04T13:24:48.466396Z",
     "start_time": "2021-06-04T13:24:48.460978Z"
    }
   },
   "source": [
    "### save the data"
   ]
  },
  {
   "cell_type": "code",
   "execution_count": null,
   "metadata": {
    "ExecuteTime": {
     "end_time": "2021-06-06T06:25:18.191773Z",
     "start_time": "2021-06-06T06:22:39.496226Z"
    }
   },
   "outputs": [],
   "source": [
    "rsnp_df.to_csv(os.path.join(output_path, f\"CNV/{sample}.cnv.snp.gz\"), sep=\"\\t\", index=False, compression=\"gzip\")\n",
    "cnv_df.to_csv(os.path.join(output_path, f\"CNV/{sample}.cnv.full.gz\"), sep=\"\\t\", index=False, compression=\"gzip\")"
   ]
  },
  {
   "cell_type": "markdown",
   "metadata": {},
   "source": [
    "# combined functions"
   ]
  },
  {
   "cell_type": "code",
   "execution_count": null,
   "metadata": {
    "ExecuteTime": {
     "end_time": "2021-06-06T06:03:47.231641Z",
     "start_time": "2021-06-06T06:03:10.158395Z"
    }
   },
   "outputs": [],
   "source": [
    "path_config = dict(\n",
    "        mawk_path=\"../shell\",\n",
    "        cov_path=os.path.join(output_path, \"pile2CNV\"),   # path containing rawcov.gz files for this sample\n",
    "        snp_path=os.path.join(output_path, \"pile2CNV\"),   # path containing snp files for this sample\n",
    "        bed_file=os.path.join(static, \"bed_files/SureSelect/hg38/SS_HAEv7_hg38_Padded.bed\"),\n",
    "        genome_split_path=os.path.join(static, \"genome/gatk/hg38/split\"),\n",
    "        gc_split_path=os.path.join(static, \"genome/gatk/hg38/split\"),\n",
    "        genmap_split_path=os.path.join(static, \"annotation/genmap/hg38/split\"),\n",
    "        PON_path = PON_path,\n",
    "    )\n",
    "CNVconfig = get_CNVconfig(\n",
    "    \"../config/config_CNV.yaml\", \n",
    "    local_config=path_config)\n",
    "\n",
    "# load data\n",
    "sample = \"03_A-B\"\n",
    "snp_df = pd.read_csv(os.path.join(output_path, f\"snp/{sample}.snp.gz\"), sep=\"\\t\", compression=\"gzip\")\n",
    "roll_cov_df = pd.read_csv(os.path.join(output_path, f\"cov/{sample}.roll.cov.gz\"), sep=\"\\t\", compression=\"gzip\")"
   ]
  },
  {
   "cell_type": "code",
   "execution_count": null,
   "metadata": {
    "ExecuteTime": {
     "end_time": "2021-06-06T06:03:49.259072Z",
     "start_time": "2021-06-06T06:03:49.241052Z"
    }
   },
   "outputs": [],
   "source": [
    "def mergeCov2SNP(snp_df, cov_df):\n",
    "    '''\n",
    "    merge the columns to get all the coverage data from the rolling_coverage\n",
    "    '''\n",
    "\n",
    "    # get the columns\n",
    "    snp_cols = list(snp_df.columns)\n",
    "    base_cols = snp_cols[:4]\n",
    "    \n",
    "    log2_pat = re.compile(r\"log2ratio[0-9]+(_mean)?$\")\n",
    "    cov_cols = [\n",
    "        col\n",
    "        for col in cov_df.columns\n",
    "        if col.startswith(\"PON\") or re.match(log2_pat, col)\n",
    "    ] + ['GCratio']\n",
    "    # reduce cols of cov_df\n",
    "    cov_df = cov_df.loc[:, base_cols + cov_cols]\n",
    "    # PONVAF and PONDepth have to be filled to zero\n",
    "    for col in [\"PONVAF\", \"PONDepth\"]:\n",
    "        snp_df.loc[:, col] = snp_df[col].fillna(0)\n",
    "\n",
    "    snp_df = (\n",
    "        snp_df.merge(cov_df, how=\"outer\")\n",
    "        .sort_values(\"FullExonPos\")\n",
    "        .reset_index(drop=True)\n",
    "    )\n",
    "\n",
    "    # interpolate the data\n",
    "    for col in cov_cols:\n",
    "        show_output(f\"Interpolating {col}\")\n",
    "        snp_df = interpolate(snp_df, col, expand_limit=200)\n",
    "\n",
    "    # reduce to VAF values\n",
    "    snp_df = snp_df.query(\"PONVAF == PONVAF\")\n",
    "    return snp_df\n",
    "\n",
    "\n",
    "def center_vaf(snp_df):\n",
    "    '''\n",
    "    adjusts VAFs to 0.5\n",
    "    also includes the off-center VAF offVAF and\n",
    "    absVAF\n",
    "    '''\n",
    "    \n",
    "    df = snp_df.copy()\n",
    "    cols = list(df.columns)\n",
    "    \n",
    "    for col in df.columns:\n",
    "        if col.startswith(\"VAF\"):\n",
    "            cols = list(df.columns)\n",
    "            insert_index = df.columns.get_loc(col) + 1\n",
    "            df.loc[:, col] = df[col] + 0.5 - df[col].mean()\n",
    "            # get additional features from VAFs\n",
    "            # get offVAF as measure of straighing from center\n",
    "            df.loc[:, f'off{col}'] = (df[col] - 0.5) * 2\n",
    "            # get absVAF as absolute measure of straighing from center\n",
    "            df.loc[:, f'abs{col}'] = np.abs(df[f'off{col}'])\n",
    "            out_cols = cols[:insert_index] + [f'abs{col}',f'off{col}'] + cols[insert_index:]\n",
    "            df = df.loc[:, out_cols]\n",
    "    return df\n",
    "\n",
    "\n",
    "# get the density computer for rolling\n",
    "def make_get_density(window_size=20):\n",
    "    '''\n",
    "    helper for returning a density computer for given window_size\n",
    "    '''\n",
    "    \n",
    "    def SNPdensity(data):\n",
    "        return window_size / (data.max() - data.min())\n",
    "    return SNPdensity\n",
    "\n",
    "\n",
    "def get_fallSNP(snp_df, config={}):\n",
    "    '''\n",
    "    computes snpDensity and cumulative metrix snpFall (SNPdensity * PONVAF)\n",
    "    '''\n",
    "    df = snp_df.copy()\n",
    "    \n",
    "    c = config['rolling']['snp']\n",
    "    \n",
    "    window = c['data']['SNPdensity']\n",
    "    # create the callback for rolling window computation\n",
    "    get_SNPdensity = make_get_density(window)\n",
    "    \n",
    "    # make params for rolling_data function and roll custom function\n",
    "    fallSNP_params = {\"FullExonPos\": {get_SNPdensity: window}}\n",
    "    df = rolling_data(df, data_params=fallSNP_params, roll_config=c)\n",
    "    # compute fallSNP from density\n",
    "    df.loc[:, 'fallSNP'] = df['SNPdensity'] * df['PONVAF']\n",
    "    # normalize\n",
    "    df.loc[:, 'fallSNP'] = df['fallSNP'] / df['fallSNP'].max()\n",
    "    return df\n",
    "\n",
    "\n",
    "def filter_snp(snp_df, config={}):\n",
    "    \"\"\"\n",
    "    takes the config and applies pre-filtering for rolling computation\n",
    "    \"\"\"\n",
    "\n",
    "    df = snp_df.copy()\n",
    "    c = config[\"filter\"][\"snp\"]\n",
    "\n",
    "    # ### build the query\n",
    "\n",
    "    # minDepth = csnp['minDepth']\n",
    "    # minVAF = csnp['minVAF']\n",
    "\n",
    "    # PONVAF and PONDepth have to be filled to zero\n",
    "    for col in [\"PONVAF\", \"PONDepth\"]:\n",
    "        df.loc[:, col] = df[col].fillna(0)\n",
    "    # pon query\n",
    "    # minoffVAF = c[\"minoffVAF\"]\n",
    "    PON_query = f\"PONVAF < {c['maxPONVAF']}\"\n",
    "    # Fall_query = f\"(Fall2 < {maxFall} and offVAF2_sum > {minoffVAF})\"\n",
    "    Fall_query = f\"fallSNP < {c['maxFallSNP']} and SNPdensity < {c['maxSNPdensity']}\"\n",
    "    # map query\n",
    "    # extract map query from filter config\n",
    "    # 'map30_0 > 0.1 and map50_0 > 0.1 and map75_1 > 0.1 and map100_2 > 0.1'\n",
    "    map_query = \" and \".join(\n",
    "        [f\"{m} >= {c[m]}\" for m in c.keys() if m.startswith(\"map\")]\n",
    "    )\n",
    "\n",
    "    snp_query = f\"{PON_query} and {map_query} and {Fall_query}\"\n",
    "    show_output(f'Filtering SNP data using {snp_query.replace(\"@\", \"\")}')\n",
    "    df = df.query(snp_query).reset_index(drop=True)\n",
    "\n",
    "    return df\n",
    "\n",
    "def rolling_snp(snp_df, roll_cov_df, config={}):\n",
    "    \"\"\"\n",
    "    performs data preprocessing for CNV analysis\n",
    "    \"\"\"\n",
    "\n",
    "    df = snp_df.copy()\n",
    "    # get config\n",
    "\n",
    "    show_output(\"Starting rolling SNP processing.\", time=True)\n",
    "\n",
    "    show_output(\"Merging SNP and coverage data.\")\n",
    "    df = mergeCov2SNP(df, roll_cov_df)\n",
    "\n",
    "    show_output(\"Centering VAFs.\")\n",
    "    df = center_vaf(df)\n",
    "\n",
    "    show_output(\"Running fallSNP detection.\")\n",
    "    # compute fallSNP\n",
    "    show_output(\"Removing fall SNPs.\")\n",
    "    df = get_fallSNP(df, config=config)\n",
    "    # filter snp\n",
    "\n",
    "    show_output(\"Reducing noise...\")\n",
    "    df = filter_snp(df, config=config)\n",
    "    show_output(\"Finished SNP processing!\", time=True, color=\"success\")\n",
    "    return df"
   ]
  },
  {
   "cell_type": "code",
   "execution_count": null,
   "metadata": {
    "ExecuteTime": {
     "end_time": "2021-06-06T06:04:47.765505Z",
     "start_time": "2021-06-06T06:03:58.318488Z"
    }
   },
   "outputs": [],
   "source": [
    "rsnp_df = rolling_snp(snp_df, roll_cov_df, config=CNVconfig)\n",
    "fig, _, _, _ = plot_snp(rsnp_df, plots=[vaf], chroms=\"all\", region='', **fig_params)\n",
    "fig, _, _, _ = plot_snp(rsnp_df, plots=[vaf], chroms=\"all\", region=r20, **fig_params)\n",
    "fig, _, df7, _ = plot_snp(rsnp_df, plots=[vaf], chroms=\"all\", region=r7, **fig_params)\n",
    "fig, _, df2, _ = plot_snp(rsnp_df, plots=[vaf], chroms=\"all\", region=r17, **fig_params)"
   ]
  },
  {
   "cell_type": "code",
   "execution_count": null,
   "metadata": {
    "ExecuteTime": {
     "end_time": "2021-06-06T06:04:56.770314Z",
     "start_time": "2021-06-06T06:04:56.739090Z"
    }
   },
   "outputs": [],
   "source": [
    "rsnp_df"
   ]
  },
  {
   "cell_type": "markdown",
   "metadata": {},
   "source": [
    "# Step by step"
   ]
  },
  {
   "cell_type": "markdown",
   "metadata": {},
   "source": [
    "## SNP data processing\n",
    "+ merge with coverage data for incorporation of coverage data sets (some data needs interpolation)\n",
    "+ filtering data for SNPdensity and excessive PONVAF\n",
    "+  creating ASCAT output"
   ]
  },
  {
   "cell_type": "markdown",
   "metadata": {},
   "source": [
    "## merge coverage data into SNP\n",
    "+ reduce to important columns"
   ]
  },
  {
   "cell_type": "code",
   "execution_count": null,
   "metadata": {
    "ExecuteTime": {
     "end_time": "2021-06-03T19:04:35.280280Z",
     "start_time": "2021-06-03T19:04:07.727897Z"
    }
   },
   "outputs": [],
   "source": [
    "roll_cov_df = pd.read_csv(os.path.join(output_path, f\"cov/{sample}.roll.cov.gz\"), sep=\"\\t\", compression=\"gzip\")\n",
    "roll_cov_df.columns"
   ]
  },
  {
   "cell_type": "code",
   "execution_count": null,
   "metadata": {
    "ExecuteTime": {
     "end_time": "2021-06-06T04:45:34.754974Z",
     "start_time": "2021-06-06T04:45:34.749098Z"
    }
   },
   "outputs": [],
   "source": [
    "def mergeCov2SNP(snp_df, cov_df):\n",
    "    '''\n",
    "    merge the columns to get all the coverage data from the rolling_coverage\n",
    "    '''\n",
    "\n",
    "    # get the columns\n",
    "    snp_cols = list(snp_df.columns)\n",
    "    base_cols = snp_cols[:4]\n",
    "    \n",
    "    log2_pat = re.compile(r\"log2ratio[0-9]+(_mean)?$\")\n",
    "    cov_cols = [\n",
    "        col\n",
    "        for col in cov_df.columns\n",
    "        if col.startswith(\"PON\") or re.match(log2_pat, col)\n",
    "    ] + ['GCratio']\n",
    "    # reduce cols of cov_df\n",
    "    cov_df = cov_df.loc[:, base_cols + cov_cols]\n",
    "    # PONVAF and PONDepth have to be filled to zero\n",
    "    for col in [\"PONVAF\", \"PONDepth\"]:\n",
    "        snp_df.loc[:, col] = snp_df[col].fillna(0)\n",
    "\n",
    "    snp_df = (\n",
    "        snp_df.merge(cov_df, how=\"outer\")\n",
    "        .sort_values(\"FullExonPos\")\n",
    "        .reset_index(drop=True)\n",
    "    )\n",
    "\n",
    "    # interpolate the data\n",
    "    for col in cov_cols:\n",
    "        show_output(f\"Interpolating {col}\")\n",
    "        snp_df = interpolate(snp_df, col, expand_limit=200)\n",
    "\n",
    "    # reduce to VAF values\n",
    "    snp_df = snp_df.query(\"PONVAF == PONVAF\")\n",
    "    return snp_df"
   ]
  },
  {
   "cell_type": "code",
   "execution_count": null,
   "metadata": {
    "ExecuteTime": {
     "end_time": "2021-06-06T04:46:07.939569Z",
     "start_time": "2021-06-06T04:45:35.819014Z"
    }
   },
   "outputs": [],
   "source": [
    "snp_df = mergeCov2SNP(snp_df, roll_cov_df)\n",
    "snp_df.columns"
   ]
  },
  {
   "cell_type": "markdown",
   "metadata": {},
   "source": [
    "## heteroSNP rolling window\n",
    "+ #### first, VAF is centered\n",
    "+ #### next, fallSNP have to be removed\n",
    "+ #### next, important local features have to be extracted:\n",
    "    * SNPdensity: measure of genomic spread of SNPs in order to find falling SNPs\n",
    "    * absVAF: absolute dist measure from meanVAF\n",
    "    * snpLLH: log-likelihood to belong the center gaussian\n",
    "\n",
    "+ #### next, these local features have to be computed with a rolling window to convert local to regional data"
   ]
  },
  {
   "cell_type": "code",
   "execution_count": null,
   "metadata": {
    "ExecuteTime": {
     "end_time": "2021-06-06T04:46:30.807375Z",
     "start_time": "2021-06-06T04:46:30.801904Z"
    }
   },
   "outputs": [],
   "source": [
    "def center_vaf(snp_df):\n",
    "    '''\n",
    "    adjusts VAFs to 0.5\n",
    "    also includes the off-center VAF offVAF and\n",
    "    absVAF\n",
    "    '''\n",
    "    \n",
    "    df = snp_df.copy()\n",
    "    cols = list(df.columns)\n",
    "    \n",
    "    for col in df.columns:\n",
    "        if col.startswith(\"VAF\"):\n",
    "            cols = list(df.columns)\n",
    "            insert_index = df.columns.get_loc(col) + 1\n",
    "            df.loc[:, col] = df[col] + 0.5 - df[col].mean()\n",
    "            # get additional features from VAFs\n",
    "            # get offVAF as measure of straighing from center\n",
    "            df.loc[:, f'off{col}'] = (df[col] - 0.5) * 2\n",
    "            # get absVAF as absolute measure of straighing from center\n",
    "            df.loc[:, f'abs{col}'] = np.abs(df[f'off{col}'])\n",
    "            out_cols = cols[:insert_index] + [f'abs{col}',f'off{col}'] + cols[insert_index:]\n",
    "            df = df.loc[:, out_cols]\n",
    "    return df"
   ]
  },
  {
   "cell_type": "markdown",
   "metadata": {},
   "source": [
    "## center VAF"
   ]
  },
  {
   "cell_type": "code",
   "execution_count": null,
   "metadata": {
    "ExecuteTime": {
     "end_time": "2021-06-06T04:46:49.803352Z",
     "start_time": "2021-06-06T04:46:49.721585Z"
    }
   },
   "outputs": [],
   "source": [
    "snp_df['VAF1'].mean()\n",
    "snp_df['VAF2'].mean()\n",
    "csnp_df = center_vaf(snp_df)\n",
    "csnp_df['VAF1'].mean()\n",
    "csnp_df['VAF2'].mean()"
   ]
  },
  {
   "cell_type": "markdown",
   "metadata": {},
   "source": [
    "## include metrices to exclude fallSNP\n",
    "+ compute genomic snp-density ( (window / stretch))\n",
    "+ (maybe combine with rolling offVAFsum?)\n",
    "+ remove the negative offVAF in that range"
   ]
  },
  {
   "cell_type": "code",
   "execution_count": null,
   "metadata": {
    "ExecuteTime": {
     "end_time": "2021-06-06T04:46:53.920479Z",
     "start_time": "2021-06-06T04:46:53.914463Z"
    }
   },
   "outputs": [],
   "source": [
    "# get the density computer for rolling\n",
    "def make_get_density(window_size=20):\n",
    "    '''\n",
    "    helper for returning a density computer for given window_size\n",
    "    '''\n",
    "    \n",
    "    def SNPdensity(data):\n",
    "        return window_size / (data.max() - data.min())\n",
    "    return SNPdensity\n",
    "\n",
    "\n",
    "def get_fallSNP(snp_df, config={}):\n",
    "    '''\n",
    "    computes snpDensity and cumulative metrix snpFall (SNPdensity * PONVAF)\n",
    "    '''\n",
    "    df = snp_df.copy()\n",
    "    \n",
    "    c = config['rolling']['snp']\n",
    "    \n",
    "    window = c['data']['SNPdensity']\n",
    "    # create the callback for rolling window computation\n",
    "    get_SNPdensity = make_get_density(window)\n",
    "    \n",
    "    # make params for rolling_data function and roll custom function\n",
    "    fallSNP_params = {\"FullExonPos\": {get_SNPdensity: window}}\n",
    "    df = rolling_data(df, data_params=fallSNP_params, roll_config=c)\n",
    "    # compute fallSNP from density\n",
    "    df.loc[:, 'fallSNP'] = df['SNPdensity'] * df['PONVAF']\n",
    "    # normalize\n",
    "    df.loc[:, 'fallSNP'] = df['fallSNP'] / df['fallSNP'].max()\n",
    "    return df"
   ]
  },
  {
   "cell_type": "code",
   "execution_count": null,
   "metadata": {
    "ExecuteTime": {
     "end_time": "2021-06-06T04:47:04.636159Z",
     "start_time": "2021-06-06T04:46:57.164906Z"
    }
   },
   "outputs": [],
   "source": [
    "exp_df = get_fallSNP(csnp_df, config=CNVconfig)"
   ]
  },
  {
   "cell_type": "code",
   "execution_count": null,
   "metadata": {
    "ExecuteTime": {
     "end_time": "2021-06-06T04:47:07.531046Z",
     "start_time": "2021-06-06T04:47:05.323139Z"
    }
   },
   "outputs": [],
   "source": [
    "dense = dict(\n",
    "        title='dense',\n",
    "        plot_type='line',  # ['line', 'scatter']\n",
    "        data='SNPdensity',\n",
    "        plot_args=dict(\n",
    "            color='red',\n",
    "            alpha=1\n",
    "        )\n",
    "    )\n",
    "\n",
    "fall2 = dict(\n",
    "        title='fall',\n",
    "        plot_type='line',  # ['line', 'scatter']\n",
    "        data='fallSNP',\n",
    "        plot_args=dict(\n",
    "            color='green',\n",
    "            alpha=1\n",
    "        )\n",
    "    )\n",
    "\n",
    "ponvaf = dict(\n",
    "        title='PONVAF',\n",
    "        plot_type='line',  # ['line', 'scatter']\n",
    "        data='PONVAF',\n",
    "        plot_args=dict(\n",
    "            color='yellow',\n",
    "            alpha=1\n",
    "        )\n",
    "    )\n",
    "\n",
    "fig, _, _, _ = plot_snp(exp_df, plots=[vaf, fall2, dense], chroms=\"all\", region='', **fig_params)\n",
    "fig, _, df20, _ = plot_snp(exp_df, plots=[vaf, fall2, dense], chroms=\"all\", region=r20, **fig_params)\n",
    "fig, _, df7, _ = plot_snp(exp_df, plots=[vaf, fall2, dense], chroms=\"all\", region=r7, **fig_params)\n",
    "fig, _, df17, _ = plot_snp(exp_df, plots=[vaf, fall2, dense], chroms=\"all\", region=r17, **fig_params)\n",
    "fig, _, df17, _ = plot_snp(exp_df, plots=[vaf, fall2, dense], chroms=\"all\", region=\"chr20\", **fig_params)\n",
    "#fig, ax, df, chrom_df"
   ]
  },
  {
   "cell_type": "markdown",
   "metadata": {},
   "source": [
    "## filter snp data"
   ]
  },
  {
   "cell_type": "code",
   "execution_count": null,
   "metadata": {
    "ExecuteTime": {
     "end_time": "2021-06-06T04:48:53.138003Z",
     "start_time": "2021-06-06T04:48:53.132375Z"
    }
   },
   "outputs": [],
   "source": [
    "def filter_snp(snp_df, config={}):\n",
    "    \"\"\"\n",
    "    takes the config and applies pre-filtering for rolling computation\n",
    "    \"\"\"\n",
    "\n",
    "    df = snp_df.copy()\n",
    "    c = config[\"filter\"][\"snp\"]\n",
    "\n",
    "    # ### build the query\n",
    "\n",
    "    # minDepth = csnp['minDepth']\n",
    "    # minVAF = csnp['minVAF']\n",
    "\n",
    "    # PONVAF and PONDepth have to be filled to zero\n",
    "    for col in [\"PONVAF\", \"PONDepth\"]:\n",
    "        df.loc[:, col] = df[col].fillna(0)\n",
    "    # pon query\n",
    "    # minoffVAF = c[\"minoffVAF\"]\n",
    "    PON_query = f\"PONVAF < {c['maxPONVAF']}\"\n",
    "    # Fall_query = f\"(Fall2 < {maxFall} and offVAF2_sum > {minoffVAF})\"\n",
    "    Fall_query = f\"fallSNP < {c['maxFallSNP']} and SNPdensity < {c['maxSNPdensity']}\"\n",
    "    # map query\n",
    "    # extract map query from filter config\n",
    "    # 'map30_0 > 0.1 and map50_0 > 0.1 and map75_1 > 0.1 and map100_2 > 0.1'\n",
    "    map_query = \" and \".join(\n",
    "        [f\"{m} >= {c[m]}\" for m in c.keys() if m.startswith(\"map\")]\n",
    "    )\n",
    "\n",
    "    snp_query = f\"{PON_query} and {map_query} and {Fall_query}\"\n",
    "    show_output(f'Filtering SNP data using {snp_query.replace(\"@\", \"\")}')\n",
    "    df = df.query(snp_query).reset_index(drop=True)\n",
    "\n",
    "    return df"
   ]
  },
  {
   "cell_type": "code",
   "execution_count": null,
   "metadata": {
    "ExecuteTime": {
     "end_time": "2021-06-06T04:50:53.769352Z",
     "start_time": "2021-06-06T04:50:52.308050Z"
    }
   },
   "outputs": [],
   "source": [
    "CNVconfig = get_CNVconfig(\n",
    "    \"../config/config_CNV.yaml\", \n",
    "    local_config=path_config)\n",
    "filter_snp_df = filter_snp(exp_df, config=CNVconfig)\n",
    "fig, _, _, _ = plot_snp(filter_snp_df.query('SNPdensity<0.01'), plots=[vaf], chroms=\"all\", region='', **fig_params)\n",
    "fig, _, _, _ = plot_snp(filter_snp_df, plots=[vaf], chroms=\"all\", region=r20, **fig_params)\n",
    "fig, _, df7, _ = plot_snp(filter_snp_df, plots=[vaf], chroms=\"all\", region=r7, **fig_params)\n",
    "fig, _, df2, _ = plot_snp(filter_snp_df, plots=[vaf], chroms=\"all\", region=r17, **fig_params)\n",
    "len(filter_snp_df.index)"
   ]
  },
  {
   "cell_type": "markdown",
   "metadata": {},
   "source": [
    "## master function"
   ]
  },
  {
   "cell_type": "code",
   "execution_count": null,
   "metadata": {
    "ExecuteTime": {
     "end_time": "2021-06-06T04:51:10.986677Z",
     "start_time": "2021-06-06T04:51:10.983166Z"
    }
   },
   "outputs": [],
   "source": [
    "def rolling_snp(snp_df, roll_cov_df, config={}):\n",
    "    \"\"\"\n",
    "    performs data preprocessing for CNV analysis\n",
    "    \"\"\"\n",
    "\n",
    "    df = snp_df.copy()\n",
    "    # get config\n",
    "\n",
    "    show_output(\"Starting rolling SNP processing.\", time=True)\n",
    "\n",
    "    show_output(\"Merging SNP and coverage data.\")\n",
    "    df = mergeCov2SNP(df, roll_cov_df)\n",
    "\n",
    "    show_output(\"Centering VAFs.\")\n",
    "    df = center_vaf(df)\n",
    "\n",
    "    show_output(\"Running fallSNP detection.\")\n",
    "    # compute fallSNP\n",
    "    show_output(\"Removing fall SNPs.\")\n",
    "    df = get_fallSNP(df, config=config)\n",
    "    # filter snp\n",
    "\n",
    "    show_output(\"Reducing noise...\")\n",
    "    df = filter_snp(df, config=config)\n",
    "    show_output(\"Finished SNP processing!\", time=True, color=\"success\")\n",
    "    return df"
   ]
  },
  {
   "cell_type": "code",
   "execution_count": null,
   "metadata": {
    "ExecuteTime": {
     "end_time": "2021-06-06T04:53:30.260038Z",
     "start_time": "2021-06-06T04:51:19.065738Z"
    }
   },
   "outputs": [],
   "source": [
    "CNVconfig = get_CNVconfig(\n",
    "    \"../config/config_CNV.yaml\", \n",
    "    local_config=path_config)\n",
    "rsnp_df = rolling_snp(snp_df, roll_cov_df, config=CNVconfig)\n",
    "fig, _, _, _ = plot_snp(rsnp_df, plots=[vaf], chroms=\"all\", region='', **fig_params)\n",
    "fig, _, _, _ = plot_snp(rsnp_df, plots=[vaf], chroms=\"all\", region=r20, **fig_params)\n",
    "fig, _, df7, _ = plot_snp(rsnp_df, plots=[vaf], chroms=\"all\", region=r7, **fig_params)\n",
    "fig, _, df2, _ = plot_snp(rsnp_df, plots=[vaf], chroms=\"all\", region=r17, **fig_params)"
   ]
  },
  {
   "cell_type": "markdown",
   "metadata": {},
   "source": [
    "## merge  in the cov data"
   ]
  },
  {
   "cell_type": "code",
   "execution_count": null,
   "metadata": {
    "ExecuteTime": {
     "end_time": "2021-06-06T06:06:51.462898Z",
     "start_time": "2021-06-06T06:06:51.458392Z"
    }
   },
   "outputs": [],
   "source": [
    "rsnp_df.columns"
   ]
  },
  {
   "cell_type": "code",
   "execution_count": null,
   "metadata": {
    "ExecuteTime": {
     "end_time": "2021-06-06T06:06:59.796448Z",
     "start_time": "2021-06-06T06:06:59.792192Z"
    }
   },
   "outputs": [],
   "source": [
    "roll_cov_df.columns"
   ]
  },
  {
   "cell_type": "code",
   "execution_count": null,
   "metadata": {
    "ExecuteTime": {
     "end_time": "2021-06-06T06:19:43.966311Z",
     "start_time": "2021-06-06T06:19:43.961868Z"
    }
   },
   "outputs": [],
   "source": [
    "def remergeCNV(snp_df, cov_df):\n",
    "    \"\"\"\n",
    "    remerge the rolling data for coverage and snp for an integrated data file\n",
    "    containing many nas\n",
    "    \"\"\"\n",
    "\n",
    "    # select the right cols\n",
    "\n",
    "    base_cols = [\"Chr\", \"Pos\", \"ExonPos\", \"FullExonPos\"]\n",
    "    snp_cols = [col for col in snp_df.columns if col.startswith(\"VAF\")]\n",
    "    log2_pat = re.compile(r\"log2ratio[0-9]+(_mean)?$\")\n",
    "    cov_cols = [col for col in cov_df.columns if re.match(log2_pat, col)]\n",
    "    snp_df = snp_df.loc[:, base_cols + snp_cols + cov_cols]\n",
    "    cov_df = cov_df.loc[:, base_cols + cov_cols]\n",
    "    cnv_df = (\n",
    "        pd.concat([snp_df, cov_df]).sort_values(\"FullExonPos\").reset_index(drop=True)\n",
    "    )\n",
    "    return cnv_df"
   ]
  },
  {
   "cell_type": "code",
   "execution_count": null,
   "metadata": {
    "ExecuteTime": {
     "end_time": "2021-06-06T06:19:47.377276Z",
     "start_time": "2021-06-06T06:19:45.415556Z"
    }
   },
   "outputs": [],
   "source": [
    "cnv_df = remergeCNV(rsnp_df, roll_cov_df)\n",
    "cnv_df"
   ]
  },
  {
   "cell_type": "code",
   "execution_count": null,
   "metadata": {},
   "outputs": [],
   "source": []
  },
  {
   "cell_type": "code",
   "execution_count": null,
   "metadata": {},
   "outputs": [],
   "source": []
  },
  {
   "cell_type": "code",
   "execution_count": null,
   "metadata": {},
   "outputs": [],
   "source": []
  },
  {
   "cell_type": "code",
   "execution_count": null,
   "metadata": {},
   "outputs": [],
   "source": []
  },
  {
   "cell_type": "code",
   "execution_count": null,
   "metadata": {},
   "outputs": [],
   "source": []
  },
  {
   "cell_type": "code",
   "execution_count": null,
   "metadata": {},
   "outputs": [],
   "source": []
  },
  {
   "cell_type": "code",
   "execution_count": null,
   "metadata": {},
   "outputs": [],
   "source": []
  },
  {
   "cell_type": "code",
   "execution_count": null,
   "metadata": {},
   "outputs": [],
   "source": []
  },
  {
   "cell_type": "markdown",
   "metadata": {},
   "source": [
    "# ######"
   ]
  },
  {
   "cell_type": "markdown",
   "metadata": {},
   "source": [
    "### LEGACY"
   ]
  },
  {
   "cell_type": "code",
   "execution_count": null,
   "metadata": {},
   "outputs": [],
   "source": [
    "def remove_fallSNP(snp_df, mean=0.5, std=0.2, params={}):\n",
    "    '''\n",
    "    removes the falling SNP probably caused by mismapping\n",
    "    '''\n",
    "    \n",
    "    window = params['offVAFwindow']\n",
    "    cutoff = params['maxFallSNP']\n",
    "    \n",
    "    # get the density computer for rolling\n",
    "    get_SNPdensity = make_get_density(window)\n",
    "    # cycle through chroms\n",
    "    chrom_dfs = []\n",
    "    for chrom in snp_df['Chr'].unique():\n",
    "        df = snp_df.query('Chr == @chrom')\n",
    "  \n",
    "        # get the snp\n",
    "        df = one_col_rolling(df, df.query('VAF < 0.95'), 'ExonPos', get_SNPdensity, window_size=window, diff_exp=4)\n",
    "        df.loc[:, 'SNPdensity'] = df['SNPdensity'] / df['SNPdensity'].mean()\n",
    "    \n",
    "        # get the offVAFsum\n",
    "        df = one_col_rolling(df, df.query('VAF < 0.95'), 'offVAF', 'sum', window_size=window, normalize=True, diff_exp=4)\n",
    "    \n",
    "        # combine both metrices\n",
    "        df.loc[:, 'fallSNP'] = df['SNPdensity'] * df['offVAFsum']\n",
    "        # now remove the ones below average VAFstd\n",
    "        df = df.query('VAF > @mean - @std / 2 or fallSNP > @cutoff')\n",
    "        chrom_dfs.append(df)\n",
    "        \n",
    "    return pd.concat(chrom_dfs).sort_values('FullExonPos').reset_index(drop=True)"
   ]
  },
  {
   "cell_type": "markdown",
   "metadata": {},
   "source": [
    "### expand the LLH"
   ]
  },
  {
   "cell_type": "code",
   "execution_count": null,
   "metadata": {
    "ExecuteTime": {
     "end_time": "2020-11-17T10:05:34.258564Z",
     "start_time": "2020-11-17T10:05:34.251815Z"
    }
   },
   "outputs": [],
   "source": [
    "def compute_snp_llh(df, mean=0.5, sigma=0.2):\n",
    "    '''\n",
    "    computes the local log-likelihood of belonging to the center gaussian\n",
    "    '''\n",
    "        \n",
    "    show_output(f\"Computing log-likelihood of VAF belonging to center gaussian [mean:{round(mean, 3)}, sigma:{round(sigma,3)}]\")\n",
    "    df.loc[:, 'snpLLH'] = llh(df['VAF'], mean, sigma)\n",
    "    \n",
    "    # for homoSNPs reduce the VAFs to the ones above mean\n",
    "    upper_vafs = df.query('@mean < VAF')['VAF']\n",
    "    # then compute the hsnpLLH\n",
    "\n",
    "    show_output(f\"Computing log-likelihood of VAF belonging to purity100  [mean:1, sigma:{round(sigma,3)}]\")\n",
    "    # these are called hsnp\n",
    "    # upper_vafs only contains half the snps, the remaining have to be interpolated\n",
    "    df.loc[:, 'hsnpLLH'] = llh(upper_vafs, 1, sigma)\n",
    "    df = interpolate(df, 'hsnpLLH', expand_limit=50)\n",
    "    return df\n",
    "    \n",
    "\n",
    "def expand_SNPdata(snp_df, config):\n",
    "    '''\n",
    "    retrieve a few data columns locally to use rolling windows on\n",
    "    this needs to be done chromosome-wise in order to avoid gap effects\n",
    "    VAF limits are also applied here\n",
    "    '''\n",
    "        \n",
    "    # split the params dict for easier access\n",
    "    params = config['snp']\n",
    "    filter_params = params['filter']\n",
    "    # data_params = params['data']\n",
    "    \n",
    "    # reduce the snp_df using lower config limit\n",
    "    # upper limit has to be set later as we still need the homoSNP llh\n",
    "    VAFmin, VAFmax = filter_params['VAF']\n",
    "    snp_df = snp_df.query('@VAFmin < VAF')\n",
    "    \n",
    "    \n",
    "    # get std and mean of VAF\n",
    "    minVAF, maxVAF = params['LLH']['center_range']\n",
    "    # get the sigma and mean of the center band VAF (extracted as pd.Series center_vafs)\n",
    "    center_vafs = snp_df.query('@minVAF < VAF < @maxVAF')['VAF']\n",
    "    # get width of gaussian from std * sigma_factor\n",
    "    VAFstd = center_vafs.std()\n",
    "    VAFmean = center_vafs.mean()\n",
    "    \n",
    "    \n",
    "    # get additional features from VAFs\n",
    "    snp_df.loc[:, 'offVAF'] = (snp_df['VAF'] - VAFmean) * 2\n",
    "    # absolute values for cluster \n",
    "    snp_df.loc[:,'absVAF'] = np.abs(snp_df['offVAF'])    \n",
    "    \n",
    "    ########## remove fallSNP ########\n",
    "    fs_params = params['fallSNP']\n",
    "    if fs_params['run']:\n",
    "        show_output('Removing falling SNPs')\n",
    "        snp_df = remove_fallSNP(snp_df, mean=VAFmean, std=VAFstd, params=fs_params)\n",
    "     \n",
    "    ######## LLH  #####################\n",
    "    # get the snpLLH and hsnpLLH\n",
    "    # get config params\n",
    "    sigma = VAFstd * params['LLH']['sigma_factor']\n",
    "    # hsnpLLH is computed in order to rescue high absVAF that would have been filtered out\n",
    "    # lower VAF is already removed because density of VAF ~0 is highly irregular and would confound \n",
    "    snp_df = compute_snp_llh(snp_df, mean=VAFmean, sigma=sigma)\n",
    "\n",
    "    return snp_df.query('VAF < @VAFmax').reset_index(drop=True)"
   ]
  },
  {
   "cell_type": "code",
   "execution_count": null,
   "metadata": {
    "ExecuteTime": {
     "end_time": "2020-11-16T21:07:55.365052Z",
     "start_time": "2020-11-16T21:07:55.361326Z"
    }
   },
   "outputs": [],
   "source": [
    "def rolling_SNP(snp_df, config):\n",
    "    '''\n",
    "    cycle through the chroms and perform rolling window computations of snp data set in config\n",
    "    '''\n",
    "\n",
    "    # split the params dict for easier access\n",
    "    params = config['snp']\n",
    "    filter_params = params['filter']\n",
    "    data_params = params['rolling_data']\n",
    "    debug = config['debug']\n",
    "        \n",
    "    minDepth = filter_params['minDepth']\n",
    "    filter_df = snp_df.query('Depth >= @minDepth')\n",
    "    \n",
    "    rolling_df = rolling_data(snp_df, filter_df, expand=params['expand'], ddof=config['ddof'], debug=debug, data_params=data_params)\n",
    "    \n",
    "    return rolling_df"
   ]
  }
 ],
 "metadata": {
  "kernelspec": {
   "display_name": "Python 3",
   "language": "python",
   "name": "python3"
  },
  "language_info": {
   "codemirror_mode": {
    "name": "ipython",
    "version": 3
   },
   "file_extension": ".py",
   "mimetype": "text/x-python",
   "name": "python",
   "nbconvert_exporter": "python",
   "pygments_lexer": "ipython3",
   "version": "3.8.6"
  },
  "varInspector": {
   "cols": {
    "lenName": 16,
    "lenType": 16,
    "lenVar": 40
   },
   "kernels_config": {
    "python": {
     "delete_cmd_postfix": "",
     "delete_cmd_prefix": "del ",
     "library": "var_list.py",
     "varRefreshCmd": "print(var_dic_list())"
    },
    "r": {
     "delete_cmd_postfix": ") ",
     "delete_cmd_prefix": "rm(",
     "library": "var_list.r",
     "varRefreshCmd": "cat(var_dic_list()) "
    }
   },
   "types_to_exclude": [
    "module",
    "function",
    "builtin_function_or_method",
    "instance",
    "_Feature"
   ],
   "window_display": false
  }
 },
 "nbformat": 4,
 "nbformat_minor": 4
}
