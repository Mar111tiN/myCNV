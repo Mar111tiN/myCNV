{
 "cells": [
  {
   "cell_type": "code",
   "execution_count": null,
   "metadata": {
    "ExecuteTime": {
     "end_time": "2021-06-02T05:34:00.715722Z",
     "start_time": "2021-06-02T05:34:00.674029Z"
    }
   },
   "outputs": [],
   "source": [
    "# get the code\n",
    "import sys\n",
    "import os\n",
    "import matplotlib.pyplot as plt\n",
    "# use seaborn plotting defaults\n",
    "import seaborn as sns; sns.set()\n",
    "sys.path.append('../code')\n",
    "\n",
    "# import package functions\n",
    "from script_utils_CNV import get_CNVconfig, show_output\n",
    "from plot import plot_cov, plot_snp\n",
    "from script_utils_CNV import show_output\n",
    "from rollingCov import rolling_coverage\n",
    "from combineCNV import filter_snp\n",
    "\n",
    "######## need to find the chained assignment!!!\n",
    "pd.set_option('mode.chained_assignment', None)\n",
    "\n",
    "# HOME\n",
    "home = '/Users/mahtin'\n",
    "home = '/Users/martinscience'\n",
    "\n",
    "\n",
    "# standard paths\n",
    "static = os.path.join(home, \"Dropbox/Icke/Work/static\")\n",
    "tooldata = os.path.join(home, \"Dropbox/Icke/Work/somVar/tooldata\")\n",
    "testdata = os.path.join(home,\"Dropbox/Icke/Work/somVar/testdata\")\n",
    "PON_path = os.path.join(static, \"PON/HAEv7_hg38_NovaSeq\")\n",
    "\n",
    "\n",
    "cnvdata = os.path.join(tooldata, \"myCNVdata\")\n",
    "output_path = os.path.join(cnvdata, \"output\")\n",
    "plot_path = os.path.join(cnvdata, \"plot\")\n",
    "fig_path = os.path.join(cnvdata, \"figures\")"
   ]
  },
  {
   "cell_type": "markdown",
   "metadata": {},
   "source": [
    "### get the config\n",
    "+ use the get_CNVconfig util function to update the general configs with the appropriate paths"
   ]
  },
  {
   "cell_type": "code",
   "execution_count": null,
   "metadata": {
    "ExecuteTime": {
     "end_time": "2021-06-02T05:34:01.679385Z",
     "start_time": "2021-06-02T05:34:01.668835Z"
    }
   },
   "outputs": [],
   "source": [
    "path_config = dict(\n",
    "        mawk_path=\"../shell\",\n",
    "        cov_path=os.path.join(output_path, \"pile2CNV\"),   # path containing rawcov.gz files for this sample\n",
    "        snp_path=os.path.join(output_path, \"pile2CNV\"),   # path containing snp files for this sample\n",
    "        bed_file=os.path.join(static, \"bed_files/SureSelect/hg38/SS_HAEv7_hg38_Padded.bed\"),\n",
    "        genome_split_path=os.path.join(static, \"genome/gatk/hg38/split\"),\n",
    "        gc_split_path=os.path.join(static, \"genome/gatk/hg38/split\"),\n",
    "        genmap_split_path=os.path.join(static, \"annotation/genmap/hg38/split\"),\n",
    "        PON_path = PON_path,\n",
    "    )\n",
    "CNVconfig = get_CNVconfig(\n",
    "    \"../config/config_CNV.yaml\", \n",
    "    local_config=path_config)\n",
    "CNVconfig"
   ]
  },
  {
   "cell_type": "markdown",
   "metadata": {},
   "source": [
    "### load snp data and visualize"
   ]
  },
  {
   "cell_type": "code",
   "execution_count": null,
   "metadata": {
    "ExecuteTime": {
     "end_time": "2021-06-02T05:43:31.157697Z",
     "start_time": "2021-06-02T05:43:29.434910Z"
    }
   },
   "outputs": [],
   "source": [
    "sample = \"03_A-B\"\n",
    "snp_df = pd.read_csv(os.path.join(output_path, f\"snp/{sample}.snp.gz\"), sep=\"\\t\", compression=\"gzip\")\n",
    "\n",
    "fig_params = dict(\n",
    "    figsize=(32,3),\n",
    "    colormap='coolwarm_r',\n",
    "    color_chroms=True,\n",
    "    ylim=(-0,1),\n",
    "    label_size=13\n",
    ")\n",
    "\n",
    "vaf = dict(\n",
    "        title='VAF',\n",
    "        plot_type='scatter',  # ['line', 'scatter']\n",
    "        data='VAF2',\n",
    "        plot_args=dict(\n",
    "            s=2,\n",
    "            color='black',\n",
    "            cmap='viridis',\n",
    "            alpha=1\n",
    "        )\n",
    "    )\n",
    "chroms = ['chr3', 'chr4', 'chr5', 'chr6','chr7', 'chr9', 'chr12', 'chr17']\n",
    "r1 = 'chr17:3Mb-9Mb'\n",
    "\n",
    "\n",
    "r7 = 'chr7:100.8Mb-101Mb'\n",
    "r17 = 'chr17:21.2Mb-22Mb'\n",
    "fig, _, _, _ = plot_snp(snp_df, plots=[vaf], chroms=\"all\", region='', **fig_params)\n",
    "fig, _, _, _ = plot_snp(snp_df, plots=[vaf], chroms=\"chr20\", region='', **fig_params)\n",
    "fig, _, _, _ = plot_snp(snp_df, plots=[vaf], chroms=\"all\", region=r7, **fig_params)\n",
    "fig, _, _, _ = plot_snp(snp_df, plots=[vaf], chroms=\"all\", region=r17, **fig_params)\n",
    "#fig, ax, df, chrom_df"
   ]
  },
  {
   "cell_type": "markdown",
   "metadata": {},
   "source": [
    "## merge coverage data into SNP\n",
    "+ reduce to important columns"
   ]
  },
  {
   "cell_type": "code",
   "execution_count": null,
   "metadata": {
    "ExecuteTime": {
     "end_time": "2021-06-02T05:34:32.195786Z",
     "start_time": "2021-06-02T05:34:05.977142Z"
    }
   },
   "outputs": [],
   "source": [
    "roll_cov_df = pd.read_csv(os.path.join(output_path, f\"cov/{sample}.roll.cov.gz\"), sep=\"\\t\", compression=\"gzip\")\n",
    "roll_cov_df.columns"
   ]
  },
  {
   "cell_type": "code",
   "execution_count": null,
   "metadata": {
    "ExecuteTime": {
     "end_time": "2021-06-02T05:43:36.562087Z",
     "start_time": "2021-06-02T05:43:36.556617Z"
    }
   },
   "outputs": [],
   "source": [
    "from rollingCNV import interpolate\n",
    "\n",
    "def mergeCov2SNP(snp_df, cov_df):\n",
    "    \n",
    "    # get the columns\n",
    "    snp_cols = list(snp_df.columns)\n",
    "    base_cols = snp_cols[:4]\n",
    "    cov_cols = [col for col in roll_cov_df.columns if col.endswith(\"mean\") or col.endswith(\"sum\") or col == \"GCratio\"] \n",
    "    # reduce cols of cov_df\n",
    "    cov_df = cov_df.loc[:, base_cols + cov_cols]\n",
    "    # PONVAF and PONDepth have to be filled to zero\n",
    "    for col in ['PONVAF', 'PONDepth']:\n",
    "        snp_df.loc[:, col] = snp_df[col].fillna(0)\n",
    "\n",
    "    show_output('Merging')\n",
    "    snp_df = snp_df.merge(cov_df, how=\"outer\").sort_values(\"FullExonPos\").reset_index(drop=True)\n",
    "\n",
    "    # interpolate the data\n",
    "    for col in cov_cols:\n",
    "        show_output(f\"Interpolating {col}\")\n",
    "        snp_df = interpolate(snp_df, col, expand_limit=100)\n",
    "\n",
    "    # reduce to VAF values\n",
    "    snp_df = snp_df.query('PONVAF == PONVAF')\n",
    "    return snp_df"
   ]
  },
  {
   "cell_type": "code",
   "execution_count": null,
   "metadata": {
    "ExecuteTime": {
     "end_time": "2021-06-02T05:44:02.498435Z",
     "start_time": "2021-06-02T05:43:47.546509Z"
    }
   },
   "outputs": [],
   "source": [
    "snp_df = mergeCov2SNP(snp_df, roll_cov_df)\n",
    "snp_df.columns"
   ]
  },
  {
   "cell_type": "markdown",
   "metadata": {},
   "source": [
    "## heteroSNP rolling window\n",
    "+ #### first, VAF is centered\n",
    "+ #### next, fallSNP have to be removed\n",
    "+ #### next, important local features have to be extracted:\n",
    "    * offVAF: distance measure from the meanVAF\n",
    "    * SNPdensity: measure of genomic spread of SNPs in order to find falling SNPs\n",
    "    * absVAF: absolute dist measure from meanVAF\n",
    "    * snpLLH: log-likelihood to belong the center gaussian\n",
    "    * hsnpLLH: log-likelihood to belong to VAF==1 (to identify high purity clones)\n",
    "\n",
    "+ #### next, these local features have to be computed with a rolling window to convert local to regional data"
   ]
  },
  {
   "cell_type": "markdown",
   "metadata": {},
   "source": [
    "### remove the fallSNP\n",
    "+ compute genomic snp-density (stretch / window)\n",
    "+ combine with rolling offVAFsum\n",
    "+ remove the negative offVAF in that range"
   ]
  },
  {
   "cell_type": "code",
   "execution_count": null,
   "metadata": {
    "ExecuteTime": {
     "end_time": "2021-06-02T05:44:04.608577Z",
     "start_time": "2021-06-02T05:44:04.602807Z"
    }
   },
   "outputs": [],
   "source": [
    "from rollingCNV import interpolate, one_col_rolling, llh, rolling_data\n",
    "from script_utils_CNV import show_output\n",
    "\n",
    "def center_vaf(snp_df):\n",
    "    '''\n",
    "    adjusts VAFs to 0.5\n",
    "    '''\n",
    "    \n",
    "    df = snp_df.copy()\n",
    "    cols = list(df.columns)\n",
    "    \n",
    "    for col in df.columns:\n",
    "        if col.startswith(\"VAF\"):\n",
    "            cols = list(df.columns)\n",
    "            insert_index = df.columns.get_loc(col) + 1\n",
    "            df.loc[:, col] = df[col] + 0.5 - df[col].mean()\n",
    "            # get additional features from VAFs\n",
    "            # get offVAF as measure of straighing from center\n",
    "            df.loc[:, f'off{col}'] = (df[col] - 0.5) * 2\n",
    "            # get absVAF as absolute measure of straighing from center\n",
    "            df.loc[:, f'abs{col}'] = np.abs(df[f'off{col}'])\n",
    "            out_cols = cols[:insert_index] + [f'abs{col}',f'off{col}'] + cols[insert_index:]\n",
    "            df = df.loc[:, out_cols]\n",
    "    return df"
   ]
  },
  {
   "cell_type": "markdown",
   "metadata": {},
   "source": [
    "### center VAF"
   ]
  },
  {
   "cell_type": "code",
   "execution_count": null,
   "metadata": {
    "ExecuteTime": {
     "end_time": "2021-06-02T05:44:10.096653Z",
     "start_time": "2021-06-02T05:44:10.001257Z"
    }
   },
   "outputs": [],
   "source": [
    "snp_df['VAF1'].mean()\n",
    "snp_df['VAF2'].mean()\n",
    "csnp_df = center_vaf(snp_df)\n",
    "csnp_df['VAF1'].mean()\n",
    "csnp_df['VAF2'].mean()\n",
    "csnp_df.columns"
   ]
  },
  {
   "cell_type": "code",
   "execution_count": null,
   "metadata": {
    "ExecuteTime": {
     "end_time": "2021-06-02T05:44:12.964100Z",
     "start_time": "2021-06-02T05:44:12.960679Z"
    }
   },
   "outputs": [],
   "source": [
    "# get the density computer for rolling\n",
    "def make_get_density(window_size=20):\n",
    "    '''\n",
    "    helper for returning a density computer for given window_size\n",
    "    '''\n",
    "    \n",
    "    def SNPdensity(data):\n",
    "        return (data.max() - data.min()) / window_size\n",
    "    return SNPdensity\n",
    "\n",
    "\n",
    "\n",
    "window = 20\n",
    "get_SNPdensity = make_get_density(window)"
   ]
  },
  {
   "cell_type": "code",
   "execution_count": null,
   "metadata": {
    "ExecuteTime": {
     "end_time": "2021-06-02T05:45:10.086495Z",
     "start_time": "2021-06-02T05:45:02.597624Z"
    }
   },
   "outputs": [],
   "source": [
    "fallSNP_params = {\n",
    "    \"FullExonPos\":{get_SNPdensity: window},\n",
    "    \"offVAF\": {'sum': 20}\n",
    "    }\n",
    "# expand\n",
    "exp_df = rolling_data(csnp_df, data_params=fallSNP_params, roll_config=CNVconfig['rolling']['snp'])"
   ]
  },
  {
   "cell_type": "code",
   "execution_count": null,
   "metadata": {},
   "outputs": [],
   "source": []
  },
  {
   "cell_type": "code",
   "execution_count": null,
   "metadata": {},
   "outputs": [],
   "source": []
  },
  {
   "cell_type": "code",
   "execution_count": null,
   "metadata": {},
   "outputs": [],
   "source": []
  },
  {
   "cell_type": "code",
   "execution_count": null,
   "metadata": {},
   "outputs": [],
   "source": [
    "def remove_fallSNP(snp_df, mean=0.5, std=0.2, params={}):\n",
    "    '''\n",
    "    removes the falling SNP probably caused by mismapping\n",
    "    '''\n",
    "    \n",
    "    window = params['offVAFwindow']\n",
    "    cutoff = params['maxFallSNP']\n",
    "    \n",
    "    # get the density computer for rolling\n",
    "    get_SNPdensity = make_get_density(window)\n",
    "    # cycle through chroms\n",
    "    chrom_dfs = []\n",
    "    for chrom in snp_df['Chr'].unique():\n",
    "        df = snp_df.query('Chr == @chrom')\n",
    "  \n",
    "        # get the snp\n",
    "        df = one_col_rolling(df, df.query('VAF < 0.95'), 'ExonPos', get_SNPdensity, window_size=window, diff_exp=4)\n",
    "        df.loc[:, 'SNPdensity'] = df['SNPdensity'] / df['SNPdensity'].mean()\n",
    "    \n",
    "        # get the offVAFsum\n",
    "        df = one_col_rolling(df, df.query('VAF < 0.95'), 'offVAF', 'sum', window_size=window, normalize=True, diff_exp=4)\n",
    "    \n",
    "        # combine both metrices\n",
    "        df.loc[:, 'fallSNP'] = df['SNPdensity'] * df['offVAFsum']\n",
    "        # now remove the ones below average VAFstd\n",
    "        df = df.query('VAF > @mean - @std / 2 or fallSNP > @cutoff')\n",
    "        chrom_dfs.append(df)\n",
    "        \n",
    "    return pd.concat(chrom_dfs).sort_values('FullExonPos').reset_index(drop=True)"
   ]
  },
  {
   "cell_type": "code",
   "execution_count": null,
   "metadata": {},
   "outputs": [],
   "source": []
  },
  {
   "cell_type": "markdown",
   "metadata": {},
   "source": [
    "### expand the LLH"
   ]
  },
  {
   "cell_type": "code",
   "execution_count": null,
   "metadata": {
    "ExecuteTime": {
     "end_time": "2020-11-17T10:05:34.258564Z",
     "start_time": "2020-11-17T10:05:34.251815Z"
    }
   },
   "outputs": [],
   "source": [
    "def compute_snp_llh(df, mean=0.5, sigma=0.2):\n",
    "    '''\n",
    "    computes the local log-likelihood of belonging to the center gaussian\n",
    "    '''\n",
    "        \n",
    "    show_output(f\"Computing log-likelihood of VAF belonging to center gaussian [mean:{round(mean, 3)}, sigma:{round(sigma,3)}]\")\n",
    "    df.loc[:, 'snpLLH'] = llh(df['VAF'], mean, sigma)\n",
    "    \n",
    "    # for homoSNPs reduce the VAFs to the ones above mean\n",
    "    upper_vafs = df.query('@mean < VAF')['VAF']\n",
    "    # then compute the hsnpLLH\n",
    "\n",
    "    show_output(f\"Computing log-likelihood of VAF belonging to purity100  [mean:1, sigma:{round(sigma,3)}]\")\n",
    "    # these are called hsnp\n",
    "    # upper_vafs only contains half the snps, the remaining have to be interpolated\n",
    "    df.loc[:, 'hsnpLLH'] = llh(upper_vafs, 1, sigma)\n",
    "    df = interpolate(df, 'hsnpLLH', expand_limit=50)\n",
    "    return df\n",
    "    \n",
    "\n",
    "def expand_SNPdata(snp_df, config):\n",
    "    '''\n",
    "    retrieve a few data columns locally to use rolling windows on\n",
    "    this needs to be done chromosome-wise in order to avoid gap effects\n",
    "    VAF limits are also applied here\n",
    "    '''\n",
    "        \n",
    "    # split the params dict for easier access\n",
    "    params = config['snp']\n",
    "    filter_params = params['filter']\n",
    "    # data_params = params['data']\n",
    "    \n",
    "    # reduce the snp_df using lower config limit\n",
    "    # upper limit has to be set later as we still need the homoSNP llh\n",
    "    VAFmin, VAFmax = filter_params['VAF']\n",
    "    snp_df = snp_df.query('@VAFmin < VAF')\n",
    "    \n",
    "    \n",
    "    # get std and mean of VAF\n",
    "    minVAF, maxVAF = params['LLH']['center_range']\n",
    "    # get the sigma and mean of the center band VAF (extracted as pd.Series center_vafs)\n",
    "    center_vafs = snp_df.query('@minVAF < VAF < @maxVAF')['VAF']\n",
    "    # get width of gaussian from std * sigma_factor\n",
    "    VAFstd = center_vafs.std()\n",
    "    VAFmean = center_vafs.mean()\n",
    "    \n",
    "    \n",
    "    # get additional features from VAFs\n",
    "    snp_df.loc[:, 'offVAF'] = (snp_df['VAF'] - VAFmean) * 2\n",
    "    # absolute values for cluster \n",
    "    snp_df.loc[:,'absVAF'] = np.abs(snp_df['offVAF'])    \n",
    "    \n",
    "    ########## remove fallSNP ########\n",
    "    fs_params = params['fallSNP']\n",
    "    if fs_params['run']:\n",
    "        show_output('Removing falling SNPs')\n",
    "        snp_df = remove_fallSNP(snp_df, mean=VAFmean, std=VAFstd, params=fs_params)\n",
    "     \n",
    "    ######## LLH  #####################\n",
    "    # get the snpLLH and hsnpLLH\n",
    "    # get config params\n",
    "    sigma = VAFstd * params['LLH']['sigma_factor']\n",
    "    # hsnpLLH is computed in order to rescue high absVAF that would have been filtered out\n",
    "    # lower VAF is already removed because density of VAF ~0 is highly irregular and would confound \n",
    "    snp_df = compute_snp_llh(snp_df, mean=VAFmean, sigma=sigma)\n",
    "\n",
    "    return snp_df.query('VAF < @VAFmax').reset_index(drop=True)"
   ]
  },
  {
   "cell_type": "code",
   "execution_count": null,
   "metadata": {},
   "outputs": [],
   "source": []
  },
  {
   "cell_type": "markdown",
   "metadata": {},
   "source": [
    "## filter snp data"
   ]
  },
  {
   "cell_type": "code",
   "execution_count": null,
   "metadata": {
    "ExecuteTime": {
     "end_time": "2021-06-01T19:37:46.590580Z",
     "start_time": "2021-06-01T19:37:46.585453Z"
    }
   },
   "outputs": [],
   "source": [
    "def filter_snp(snp_df, config={}):\n",
    "    \"\"\"\n",
    "    takes the config and applies pre-filtering for rolling computation\n",
    "    \"\"\"\n",
    "\n",
    "    c = config[\"filter\"][\"snp\"]\n",
    "\n",
    "    # ### build the query\n",
    "    \n",
    "    # minDepth = csnp['minDepth']\n",
    "    # minVAF = csnp['minVAF']\n",
    "    \n",
    "    # PONVAF and PONDepth have to be filled to zero\n",
    "    \n",
    "    for col in ['PONVAF', 'PONDepth']:\n",
    "        snp_df.loc[:, col] = snp_df[col].fillna(0)\n",
    "    # pon query \n",
    "    maxPONVAF = c[\"maxPONVAF\"]\n",
    "    # minPONDepth = c[\"minPONDepth\"]\n",
    "    # PON_query = f\"PONDepth >= {minPONDepth} and PONVAF < {maxPONVAF}\"\n",
    "    PON_query = f\"PONVAF < {maxPONVAF}\"\n",
    "    # map query\n",
    "    # extract map query from filter config\n",
    "    # 'map30_0 > 0.1 and map50_0 > 0.1 and map75_1 > 0.1 and map100_2 > 0.1'\n",
    "    map_query = \" and \".join([f\"{m} >= {c[m]}\" for m in c.keys() if m.startswith(\"map\")])\n",
    "    \n",
    "    snp_query = f\"{PON_query} and {map_query}\"\n",
    "    show_output(f'Filtering SNP data using {snp_query.replace(\"@\", \"\")}')\n",
    "    snp_df = snp_df.query(snp_query)\n",
    "\n",
    "    return snp_df"
   ]
  },
  {
   "cell_type": "code",
   "execution_count": null,
   "metadata": {},
   "outputs": [],
   "source": [
    "CNVconfig = get_CNVconfig(\n",
    "    \"../config/config_CNV.yaml\", \n",
    "    local_config=path_config)\n",
    "filter_snp_df = filter_snp(snp_df, config=CNVconfig)\n",
    "fig, _, _, _ = plot_snp(filter_snp_df, plots=[vaf], chroms=\"all\", region='', **fig_params)\n",
    "fig, _, _, _ = plot_snp(filter_snp_df, plots=[vaf], chroms=\"chr20\", region='', **fig_params)\n",
    "fig, _, df1, _ = plot_snp(filter_snp_df, plots=[vaf], chroms=\"chr7\", region=r7, **fig_params)\n",
    "fig, _, df2, _ = plot_snp(filter_snp_df, plots=[vaf], chroms=\"chr17\", region=r17, **fig_params)"
   ]
  },
  {
   "cell_type": "code",
   "execution_count": null,
   "metadata": {},
   "outputs": [],
   "source": []
  },
  {
   "cell_type": "code",
   "execution_count": null,
   "metadata": {},
   "outputs": [],
   "source": []
  },
  {
   "cell_type": "code",
   "execution_count": null,
   "metadata": {},
   "outputs": [],
   "source": []
  },
  {
   "cell_type": "code",
   "execution_count": null,
   "metadata": {
    "ExecuteTime": {
     "end_time": "2020-11-17T10:05:39.900297Z",
     "start_time": "2020-11-17T10:05:35.770176Z"
    }
   },
   "outputs": [],
   "source": [
    "config = get_config(config_file, 'combine')\n",
    "snp2_df = expand_SNPdata(snp_df, config)"
   ]
  },
  {
   "cell_type": "code",
   "execution_count": null,
   "metadata": {
    "ExecuteTime": {
     "end_time": "2020-11-17T10:09:40.426480Z",
     "start_time": "2020-11-17T10:09:39.984883Z"
    }
   },
   "outputs": [],
   "source": [
    "fig_params = dict(\n",
    "    figsize=(20,4),\n",
    "    colormap='coolwarm_r',\n",
    "    color_chroms=True,\n",
    "    ylim=(-0,1),\n",
    "    cov_offset=.1,  # how much log2ratio=0 is shifted above SNP-data\n",
    "    cov_height=.5,\n",
    "    label_size=13\n",
    ")\n",
    "\n",
    "\n",
    "absvaf = dict(\n",
    "        title='absVAF',\n",
    "        plot_type='scatter',   # ['line', 'scatter']\n",
    "        data='absVAF',\n",
    "        plot_args=dict(\n",
    "            linewidth=0.5,\n",
    "            color='blue',\n",
    "            s=2,\n",
    "            alpha=1\n",
    "        ))\n",
    "deltavaf = dict(\n",
    "        title='deltaVAF',\n",
    "        plot_type='scatter',   # ['line', 'scatter']\n",
    "        data='deltaVAF',\n",
    "        plot_args=dict(\n",
    "            linewidth=0.5,\n",
    "            color='green',\n",
    "            s=5,\n",
    "            alpha=1\n",
    "        ))\n",
    "\n",
    "offvaf = dict(\n",
    "        title='offVAF',\n",
    "        plot_type='scatter',   # ['line', 'scatter']\n",
    "        data='offVAF',\n",
    "        plot_args=dict(\n",
    "            linewidth=0.5,\n",
    "            color='blue',\n",
    "            s=5,\n",
    "            alpha=1\n",
    "        ))\n",
    "\n",
    "vaf = dict(\n",
    "        title='VAF',\n",
    "        plot_type='scatter',  # ['line', 'scatter']\n",
    "        data='VAF',\n",
    "        plot_args=dict(\n",
    "            s=2,\n",
    "            color='black',\n",
    "            cmap='viridis',\n",
    "            alpha=.7\n",
    "        )\n",
    "    )\n",
    "r1 = 'chr17:3Mb-9Mb'\n",
    "\n",
    "fig, _, _, _  = plot_snp2(snp2_df, snp_plots=[vaf], cov_plots=[log2,log2mean], chroms=chroms, region='', **fig_params)"
   ]
  },
  {
   "cell_type": "code",
   "execution_count": null,
   "metadata": {
    "ExecuteTime": {
     "end_time": "2020-11-17T10:05:54.847634Z",
     "start_time": "2020-11-17T10:05:54.739235Z"
    }
   },
   "outputs": [],
   "source": [
    "fig.savefig(f'{plot_path}/{sample}.snp.clean.jpg')"
   ]
  },
  {
   "cell_type": "markdown",
   "metadata": {},
   "source": [
    "## Rolling SNPdata"
   ]
  },
  {
   "cell_type": "code",
   "execution_count": null,
   "metadata": {
    "ExecuteTime": {
     "end_time": "2020-11-16T21:07:55.365052Z",
     "start_time": "2020-11-16T21:07:55.361326Z"
    }
   },
   "outputs": [],
   "source": [
    "def rolling_SNP(snp_df, config):\n",
    "    '''\n",
    "    cycle through the chroms and perform rolling window computations of snp data set in config\n",
    "    '''\n",
    "\n",
    "    # split the params dict for easier access\n",
    "    params = config['snp']\n",
    "    filter_params = params['filter']\n",
    "    data_params = params['rolling_data']\n",
    "    debug = config['debug']\n",
    "        \n",
    "    minDepth = filter_params['minDepth']\n",
    "    filter_df = snp_df.query('Depth >= @minDepth')\n",
    "    \n",
    "    rolling_df = rolling_data(snp_df, filter_df, expand=params['expand'], ddof=config['ddof'], debug=debug, data_params=data_params)\n",
    "    \n",
    "    return rolling_df"
   ]
  },
  {
   "cell_type": "markdown",
   "metadata": {},
   "source": [
    "### test rolling windows"
   ]
  },
  {
   "cell_type": "code",
   "execution_count": null,
   "metadata": {
    "ExecuteTime": {
     "end_time": "2020-11-16T21:07:58.035936Z",
     "start_time": "2020-11-16T21:07:56.342405Z"
    }
   },
   "outputs": [],
   "source": [
    "config = get_config(config_file, 'combine')\n",
    "snp3_df = rolling_SNP(snp2_df, config)"
   ]
  },
  {
   "cell_type": "markdown",
   "metadata": {},
   "source": [
    "## optimizing rolling windows"
   ]
  },
  {
   "cell_type": "markdown",
   "metadata": {
    "ExecuteTime": {
     "end_time": "2020-10-28T20:52:34.184064Z",
     "start_time": "2020-10-28T20:52:34.176055Z"
    }
   },
   "source": [
    "### VAF\n",
    "+ std  (20)\n",
    "+ var"
   ]
  },
  {
   "cell_type": "code",
   "execution_count": null,
   "metadata": {
    "ExecuteTime": {
     "end_time": "2020-11-16T21:08:05.324373Z",
     "start_time": "2020-11-16T21:08:03.172912Z"
    }
   },
   "outputs": [],
   "source": [
    "vaf = dict(\n",
    "        title='VAF',\n",
    "        plot_type='scatter',   # ['line', 'scatter']\n",
    "        data='VAF',\n",
    "        plot_args=dict(\n",
    "            linewidth=0.5,\n",
    "            color='blue',\n",
    "            s=5,\n",
    "            alpha=1\n",
    "        ))\n",
    "\n",
    "vafstd = dict(\n",
    "        title='VAFstd',\n",
    "        plot_type='line',   # ['line', 'scatter']\n",
    "        data='VAFstd',\n",
    "        plot_args=dict(\n",
    "            linewidth=1,\n",
    "            color='yellow',\n",
    "            alpha=.7\n",
    "        )\n",
    "    )\n",
    "\n",
    "vafstddiff = dict(\n",
    "        title='VAFstdDiff',\n",
    "        plot_type='line',   # ['line', 'scatter']\n",
    "        data='VAFstdDiff',\n",
    "        plot_args=dict(\n",
    "            linewidth=1,\n",
    "            color='blue',\n",
    "            alpha=.7\n",
    "        )\n",
    "    )\n",
    "\n",
    "\n",
    "config = get_config(config_file, 'combine')\n",
    "snp3_df = rolling_SNP(snp2_df, config)\n",
    "\n",
    "r1 = 'chr17:3Mb-9Mb'\n",
    "\n",
    "std_plots = [vaf,vafstd, vafstddiff]\n",
    "\n",
    "fig, ax, df, chrom_df = plot_snp(snp3_df, snp_plots=[vaf,vafstd], chroms=chroms, region='', **fig_params)"
   ]
  },
  {
   "cell_type": "markdown",
   "metadata": {},
   "source": [
    "### absVAF\n",
    "+ mean (20)\n",
    "+ std"
   ]
  },
  {
   "cell_type": "code",
   "execution_count": null,
   "metadata": {
    "ExecuteTime": {
     "end_time": "2020-11-16T21:08:10.195491Z",
     "start_time": "2020-11-16T21:08:08.048213Z"
    }
   },
   "outputs": [],
   "source": [
    "absvaf = dict(\n",
    "        title='absVAF',\n",
    "        plot_type='scatter',   # ['line', 'scatter']\n",
    "        data='absVAF',\n",
    "        plot_args=dict(\n",
    "            linewidth=0.5,\n",
    "            color='blue',\n",
    "            s=5,\n",
    "            alpha=1\n",
    "        ))\n",
    "\n",
    "absvafmean = dict(\n",
    "        title='absVAFmean',\n",
    "        plot_type='line',   # ['line', 'scatter']\n",
    "        data='absVAFmean',\n",
    "        plot_args=dict(\n",
    "            linewidth=1,\n",
    "            color='yellow',\n",
    "            alpha=.7\n",
    "        )\n",
    "    )\n",
    "\n",
    "absvafmeandiff = dict(\n",
    "        title='absVAFdiff',\n",
    "        plot_type='line',   # ['line', 'scatter']\n",
    "        data='absVAFmeanDiff',\n",
    "        plot_args=dict(\n",
    "            linewidth=1,\n",
    "            color='blue',\n",
    "            alpha=.7\n",
    "        )\n",
    "    )\n",
    "\n",
    "\n",
    "config = get_config(config_file, 'combine')\n",
    "snp3_df = rolling_SNP(snp2_df, config)\n",
    "\n",
    "\n",
    "r1 = 'chr17:3Mb-9Mb'\n",
    "mean_plots = [absvaf,absvafmean, absvafmeandiff]\n",
    "\n",
    "fig, ax, df, chrom_df = plot_snp(snp3_df, snp_plots=mean_plots, chroms=chroms, region='', **fig_params)"
   ]
  },
  {
   "cell_type": "markdown",
   "metadata": {},
   "source": [
    "### snpLLH"
   ]
  },
  {
   "cell_type": "code",
   "execution_count": null,
   "metadata": {
    "ExecuteTime": {
     "end_time": "2020-11-16T21:18:04.043776Z",
     "start_time": "2020-11-16T21:18:01.966191Z"
    }
   },
   "outputs": [],
   "source": [
    "snpllh = dict(\n",
    "        title='snpLLH',\n",
    "        plot_type='scatter',   # ['line', 'scatter']\n",
    "        data='snpLLH',\n",
    "        plot_args=dict(\n",
    "            linewidth=0.5,\n",
    "            color='blue',\n",
    "            s=5,\n",
    "            alpha=1\n",
    "        ))\n",
    "\n",
    "snpllhsum = dict(\n",
    "        title='snpLLHsum',\n",
    "        plot_type='line',   # ['line', 'scatter']\n",
    "        data='snpLLHsum',\n",
    "        plot_args=dict(\n",
    "            linewidth=1,\n",
    "            color='blue',\n",
    "            alpha=.7\n",
    "        )\n",
    "    )\n",
    "\n",
    "hsnpllhsum = dict(\n",
    "        title='hsnpLLHsum',\n",
    "        plot_type='line',   # ['line', 'scatter']\n",
    "        data='hsnpLLHsum',\n",
    "        plot_args=dict(\n",
    "            linewidth=1,\n",
    "            color='red',\n",
    "            alpha=.7\n",
    "        )\n",
    "    )\n",
    "\n",
    "\n",
    "snpllhsumdiff = dict(\n",
    "        title='snpLLHsumdiff',\n",
    "        plot_type='line',   # ['line', 'scatter']\n",
    "        data='snpLLHsumDiff',\n",
    "        plot_args=dict(\n",
    "            linewidth=1,\n",
    "            color='yellow',\n",
    "            alpha=.7\n",
    "        )\n",
    "    )\n",
    "\n",
    "\n",
    "config = get_config(config_file, 'combine')\n",
    "snp3_df = rolling_SNP(snp2_df, config)\n",
    "\n",
    "\n",
    "r1 = 'chr17:3Mb-9Mb'\n",
    "snpllh_plots = [vaf,snpllhsum]\n",
    "\n",
    "fig, ax, df, chrom_df = plot_snp(snp3_df, snp_plots=snpllh_plots, chroms=chroms, region='', **fig_params)"
   ]
  },
  {
   "cell_type": "code",
   "execution_count": null,
   "metadata": {
    "ExecuteTime": {
     "end_time": "2020-11-13T14:07:07.723435Z",
     "start_time": "2020-11-13T14:07:07.288673Z"
    }
   },
   "outputs": [],
   "source": [
    "fig, ax, df, chrom_df = plot_snp(snp3_df.query('snpLLHsum < 0.2'), snp_plots=[vaf,snpllhsum], chroms=chroms, region='chr17', **fig_params)"
   ]
  },
  {
   "cell_type": "markdown",
   "metadata": {},
   "source": [
    "## bring all together\n",
    "+ center snp_df\n",
    "+ get extra data\n",
    "+ do the rolling"
   ]
  },
  {
   "cell_type": "code",
   "execution_count": null,
   "metadata": {
    "ExecuteTime": {
     "end_time": "2020-11-13T14:50:11.419445Z",
     "start_time": "2020-11-13T14:50:11.414732Z"
    }
   },
   "outputs": [],
   "source": [
    "def apply_rolling_SNP(snp_df, config):\n",
    "\n",
    "    # get extra data\n",
    "    snp_df = expand_SNPdata(snp_df, config)\n",
    "    # do the rolling\n",
    "    snp_df = rolling_SNP(snp_df, config)\n",
    "    # get the CNV and Center blocks\n",
    "    snp_df = get_CNV_blocks(snp_df, 'snpLLH', config)\n",
    "    \n",
    "    # select columns for output\n",
    "    base_cols = list(snp_df.columns[:4])\n",
    "\n",
    "    snp_cols = [col for col in snp_df.columns[4:] if not 'log2' in col and not 'cov' in col and not 'off' in col]\n",
    "    rolling_snp_df = snp_df[base_cols + snp_cols]\n",
    "    cluster_cols = ['log2ratio', 'log2ratiomean', 'VAF', 'absVAF', 'absVAFmean']\n",
    "    cluster_cols += [col for col in snp_df.columns if 'Center' in col or 'CNV' in col]\n",
    "    cluster_df = snp_df[base_cols + cluster_cols]\n",
    "    return rolling_snp_df, cluster_df"
   ]
  },
  {
   "cell_type": "code",
   "execution_count": null,
   "metadata": {},
   "outputs": [],
   "source": [
    "rolling_snp_df, cluster_df = apply_rolling_SNP(snp_df, config)"
   ]
  },
  {
   "cell_type": "markdown",
   "metadata": {},
   "source": []
  },
  {
   "cell_type": "code",
   "execution_count": null,
   "metadata": {},
   "outputs": [],
   "source": []
  },
  {
   "cell_type": "markdown",
   "metadata": {},
   "source": [
    "## run the code and visualize"
   ]
  },
  {
   "cell_type": "code",
   "execution_count": null,
   "metadata": {},
   "outputs": [],
   "source": [
    "sample = \"03_A-B\"\n",
    "snp_df = pd.read_csv(os.path.join(output_path, f\"snp/{sample}.snp.gz\"), sep=\"\\t\", compression=\"gzip\")\n",
    "\n",
    "vaf2 = dict(\n",
    "        title='VAF',\n",
    "        plot_type='scatter',  # ['line', 'scatter']\n",
    "        data='VAF2',\n",
    "        plot_args=dict(\n",
    "            s=2,\n",
    "            c='snpCNVcore',\n",
    "            cmap='viridis',\n",
    "            alpha=.7\n",
    "        )\n",
    "    )\n",
    "\n",
    "absvaf = dict(\n",
    "        title='absVAF',\n",
    "        plot_type='scatter',   # ['line', 'scatter']\n",
    "        data='absVAF2',\n",
    "        plot_args=dict(\n",
    "            linewidth=0.2,\n",
    "            c='snpCNVcore',\n",
    "            cmap='viridis',\n",
    "            s=5,\n",
    "            alpha=1\n",
    "        ))\n",
    "\n",
    "\n",
    "snpllhsum = dict(\n",
    "        title='snpLLHsum',\n",
    "        plot_type='line',   # ['line', 'scatter']\n",
    "        data='snpLLH_sum2',\n",
    "        plot_args=dict(\n",
    "            linewidth=.5,\n",
    "            color='red',\n",
    "            alpha=.7\n",
    "        )\n",
    "    )\n",
    "\n",
    "absvafmean = dict(\n",
    "        title='absVAFmean',\n",
    "        plot_type='line',   # ['line', 'scatter']\n",
    "        data='absVAF2_mean',\n",
    "        plot_args=dict(\n",
    "            linewidth=1,\n",
    "            color='yellow',\n",
    "            alpha=.7\n",
    "        )\n",
    "    )\n",
    "\n",
    "######################################################\n",
    "\n",
    "fig_params = dict(\n",
    "    figsize=(24,4),\n",
    "    colormap='coolwarm_r',\n",
    "    color_chroms=True,\n",
    "    ylim=(-0,1),\n",
    "    cov_offset=.1,  # how much log2ratio=0 is shifted above SNP-data\n",
    "    cov_height=.5,\n",
    "    label_size=13\n",
    ")\n",
    "\n",
    "chroms = ['chr3', 'chr4', 'chr5', 'chr6','chr7', 'chr9', 'chr12', 'chr17']\n",
    "r1 = 'chr17:3Mb-9Mb'\n",
    "\n",
    "\n",
    "\n",
    "\n",
    "fig, _, _, _ = plot_snp(cluster_df, snp_plots=[vaf], cov_plots=[log2,log2mean], chroms=chroms, region='', **fig_params)\n",
    "#fig, ax, df, chrom_df"
   ]
  }
 ],
 "metadata": {
  "kernelspec": {
   "display_name": "Python 3",
   "language": "python",
   "name": "python3"
  },
  "language_info": {
   "codemirror_mode": {
    "name": "ipython",
    "version": 3
   },
   "file_extension": ".py",
   "mimetype": "text/x-python",
   "name": "python",
   "nbconvert_exporter": "python",
   "pygments_lexer": "ipython3",
   "version": "3.8.6"
  },
  "varInspector": {
   "cols": {
    "lenName": 16,
    "lenType": 16,
    "lenVar": 40
   },
   "kernels_config": {
    "python": {
     "delete_cmd_postfix": "",
     "delete_cmd_prefix": "del ",
     "library": "var_list.py",
     "varRefreshCmd": "print(var_dic_list())"
    },
    "r": {
     "delete_cmd_postfix": ") ",
     "delete_cmd_prefix": "rm(",
     "library": "var_list.r",
     "varRefreshCmd": "cat(var_dic_list()) "
    }
   },
   "types_to_exclude": [
    "module",
    "function",
    "builtin_function_or_method",
    "instance",
    "_Feature"
   ],
   "window_display": false
  }
 },
 "nbformat": 4,
 "nbformat_minor": 4
}
