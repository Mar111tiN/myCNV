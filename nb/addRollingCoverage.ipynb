{
 "cells": [
  {
   "cell_type": "code",
   "execution_count": 1,
   "metadata": {
    "ExecuteTime": {
     "end_time": "2020-11-06T14:09:46.700491Z",
     "start_time": "2020-11-06T14:09:46.687117Z"
    }
   },
   "outputs": [],
   "source": [
    "# HOME\n",
    "import os\n",
    "import scipy\n",
    "# get the code\n",
    "import sys\n",
    "sys.path.append('../codeCNV')\n",
    "from plot import plot_genomic\n",
    "\n",
    "\n",
    "home = '/Users/mahtin'\n",
    "home = '/Users/martinscience'\n",
    "# standard paths\n",
    "testdata = os.path.join(home,\"Dropbox/Icke/Work/somVar/testdata\")\n",
    "static_path = os.path.join(home, \"Dropbox/Icke/Work/static\")\n",
    "cluster_path = os.path.join(home, \"mount\")\n",
    "tooldata = os.path.join(home, \"Dropbox/Icke/Work/somVar/tooldata\")\n",
    "\n",
    "# load the config\n",
    "# edit config directly in yaml file\n",
    "import yaml\n",
    "config_file = '../config/config_devel.yaml'\n",
    "def get_config(config_file):\n",
    "        with open(config_file) as file:\n",
    "        # The FullLoader parameter handles the conversion from YAML\n",
    "        # scalar values to Python the dictionary format\n",
    "            config = yaml.load(file, Loader=yaml.FullLoader)['CNV']['combine']\n",
    "        return config\n",
    "config = get_config(config_file)\n",
    "\n",
    "\n",
    "cnvdata = os.path.join(tooldata, \"myCNVdata\")\n",
    "output_path = os.path.join(cnvdata, \"output\")\n",
    "\n",
    "# the path to the input data\n",
    "cnv_path = os.path.join(cnvdata, \"cnv\")\n",
    "cnvPON_path = cnv_path = os.path.join(cnvdata, \"chromCov\")\n",
    "cnv_path = os.path.join(cluster_path, \"scratch/develop/PONcoverage/cnv\")\n",
    "cnvPON_path = os.path.join(cluster_path, \"scratch/develop/PONcoverage/chromCov\")"
   ]
  },
  {
   "cell_type": "code",
   "execution_count": 2,
   "metadata": {
    "ExecuteTime": {
     "end_time": "2020-11-06T14:09:47.220827Z",
     "start_time": "2020-11-06T14:09:47.214627Z"
    }
   },
   "outputs": [
    {
     "data": {
      "text/plain": [
       "'/Users/martinscience/mount/scratch/develop/PONcoverage/chromCov'"
      ]
     },
     "execution_count": 2,
     "metadata": {},
     "output_type": "execute_result"
    }
   ],
   "source": [
    "cnvPON_path"
   ]
  },
  {
   "cell_type": "markdown",
   "metadata": {},
   "source": [
    "# combined hetSNP and covDiv ---> rollCov + CovSNP\n",
    "+ rolling log2ratio on the combined covDiv\n",
    "+ merging into the hetSNP data and interpolation of rolling log2ratio at hetSNP positions"
   ]
  },
  {
   "cell_type": "markdown",
   "metadata": {},
   "source": [
    "### get the coverage and SNP data"
   ]
  },
  {
   "cell_type": "code",
   "execution_count": 3,
   "metadata": {
    "ExecuteTime": {
     "end_time": "2020-11-06T14:10:04.542631Z",
     "start_time": "2020-11-06T14:10:02.485885Z"
    }
   },
   "outputs": [],
   "source": [
    "sample = \"02_B\"\n",
    "snp_df = pd.read_csv(os.path.join(output_path, f'CNV/{sample}.snp'), sep='\\t')\n",
    "cov_df = pd.read_csv(os.path.join(output_path, f'CNV/{sample}.cov'), sep='\\t').query('log2ratio == log2ratio')"
   ]
  },
  {
   "cell_type": "markdown",
   "metadata": {},
   "source": [
    "## run the code"
   ]
  },
  {
   "cell_type": "code",
   "execution_count": 4,
   "metadata": {
    "ExecuteTime": {
     "end_time": "2020-11-06T14:10:05.757833Z",
     "start_time": "2020-11-06T14:10:05.510995Z"
    }
   },
   "outputs": [
    {
     "ename": "KeyError",
     "evalue": "'ddof'",
     "output_type": "error",
     "traceback": [
      "\u001b[0;31m---------------------------------------------------------------------------\u001b[0m",
      "\u001b[0;31mKeyError\u001b[0m                                  Traceback (most recent call last)",
      "\u001b[0;32m<ipython-input-4-e13a8c24618f>\u001b[0m in \u001b[0;36m<module>\u001b[0;34m\u001b[0m\n\u001b[1;32m     20\u001b[0m }\n\u001b[1;32m     21\u001b[0m \u001b[0;34m\u001b[0m\u001b[0m\n\u001b[0;32m---> 22\u001b[0;31m \u001b[0msnpcov_df\u001b[0m\u001b[0;34m,\u001b[0m \u001b[0mrolling_cov_df\u001b[0m \u001b[0;34m=\u001b[0m \u001b[0mapply_rolling_coverage\u001b[0m\u001b[0;34m(\u001b[0m\u001b[0msnp_df\u001b[0m\u001b[0;34m,\u001b[0m \u001b[0mcov_df\u001b[0m\u001b[0;34m,\u001b[0m \u001b[0mconfig\u001b[0m\u001b[0;34m)\u001b[0m\u001b[0;34m\u001b[0m\u001b[0;34m\u001b[0m\u001b[0m\n\u001b[0m\u001b[1;32m     23\u001b[0m \u001b[0msnpcov_df\u001b[0m\u001b[0;34m.\u001b[0m\u001b[0mto_csv\u001b[0m\u001b[0;34m(\u001b[0m\u001b[0mos\u001b[0m\u001b[0;34m.\u001b[0m\u001b[0mpath\u001b[0m\u001b[0;34m.\u001b[0m\u001b[0mjoin\u001b[0m\u001b[0;34m(\u001b[0m\u001b[0moutput_path\u001b[0m\u001b[0;34m,\u001b[0m \u001b[0;34mf'tmp/{sample}.snpcov.csv'\u001b[0m\u001b[0;34m)\u001b[0m\u001b[0;34m,\u001b[0m \u001b[0msep\u001b[0m\u001b[0;34m=\u001b[0m\u001b[0;34m'\\t'\u001b[0m\u001b[0;34m,\u001b[0m \u001b[0mindex\u001b[0m\u001b[0;34m=\u001b[0m\u001b[0;32mFalse\u001b[0m\u001b[0;34m)\u001b[0m\u001b[0;34m\u001b[0m\u001b[0;34m\u001b[0m\u001b[0m\n\u001b[1;32m     24\u001b[0m \u001b[0mrolling_cov_df\u001b[0m\u001b[0;34m.\u001b[0m\u001b[0mto_csv\u001b[0m\u001b[0;34m(\u001b[0m\u001b[0mos\u001b[0m\u001b[0;34m.\u001b[0m\u001b[0mpath\u001b[0m\u001b[0;34m.\u001b[0m\u001b[0mjoin\u001b[0m\u001b[0;34m(\u001b[0m\u001b[0moutput_path\u001b[0m\u001b[0;34m,\u001b[0m \u001b[0;34mf'CNV/{sample}.rollcov.csv'\u001b[0m\u001b[0;34m)\u001b[0m\u001b[0;34m,\u001b[0m \u001b[0msep\u001b[0m\u001b[0;34m=\u001b[0m\u001b[0;34m'\\t'\u001b[0m\u001b[0;34m,\u001b[0m \u001b[0mindex\u001b[0m\u001b[0;34m=\u001b[0m\u001b[0;32mFalse\u001b[0m\u001b[0;34m)\u001b[0m\u001b[0;34m\u001b[0m\u001b[0;34m\u001b[0m\u001b[0m\n",
      "\u001b[0;32m~/Sites/Bio/myCNV/codeCNV/rollingCNV.py\u001b[0m in \u001b[0;36mapply_rolling_coverage\u001b[0;34m(snp_df, cov_df, config)\u001b[0m\n\u001b[1;32m    160\u001b[0m     '''\n\u001b[1;32m    161\u001b[0m \u001b[0;34m\u001b[0m\u001b[0m\n\u001b[0;32m--> 162\u001b[0;31m     \u001b[0mcov_df\u001b[0m \u001b[0;34m=\u001b[0m \u001b[0mrolling_coverage\u001b[0m\u001b[0;34m(\u001b[0m\u001b[0mcov_df\u001b[0m\u001b[0;34m,\u001b[0m \u001b[0mconfig\u001b[0m\u001b[0;34m)\u001b[0m\u001b[0;34m\u001b[0m\u001b[0;34m\u001b[0m\u001b[0m\n\u001b[0m\u001b[1;32m    163\u001b[0m \u001b[0;34m\u001b[0m\u001b[0m\n\u001b[1;32m    164\u001b[0m     snpcov_df, rolling_cov_df = mergeSNPnCov(\n",
      "\u001b[0;32m~/Sites/Bio/myCNV/codeCNV/rollingCNV.py\u001b[0m in \u001b[0;36mrolling_coverage\u001b[0;34m(cov_df, config)\u001b[0m\n\u001b[1;32m    109\u001b[0m                                            \u001b[0mdiff_exp\u001b[0m\u001b[0;34m=\u001b[0m\u001b[0mconfig\u001b[0m\u001b[0;34m[\u001b[0m\u001b[0;34m'diff_exp'\u001b[0m\u001b[0;34m]\u001b[0m\u001b[0;34m,\u001b[0m\u001b[0;34m\u001b[0m\u001b[0;34m\u001b[0m\u001b[0m\n\u001b[1;32m    110\u001b[0m                                            \u001b[0mdebug\u001b[0m\u001b[0;34m=\u001b[0m\u001b[0mconfig\u001b[0m\u001b[0;34m[\u001b[0m\u001b[0;34m'debug'\u001b[0m\u001b[0;34m]\u001b[0m\u001b[0;34m,\u001b[0m\u001b[0;34m\u001b[0m\u001b[0;34m\u001b[0m\u001b[0m\n\u001b[0;32m--> 111\u001b[0;31m                                            ddof=config['ddof'])\n\u001b[0m\u001b[1;32m    112\u001b[0m         \u001b[0mchrom_dfs\u001b[0m\u001b[0;34m.\u001b[0m\u001b[0mappend\u001b[0m\u001b[0;34m(\u001b[0m\u001b[0mchrom_df\u001b[0m\u001b[0;34m)\u001b[0m\u001b[0;34m\u001b[0m\u001b[0;34m\u001b[0m\u001b[0m\n\u001b[1;32m    113\u001b[0m     \u001b[0mdf\u001b[0m \u001b[0;34m=\u001b[0m \u001b[0mpd\u001b[0m\u001b[0;34m.\u001b[0m\u001b[0mconcat\u001b[0m\u001b[0;34m(\u001b[0m\u001b[0mchrom_dfs\u001b[0m\u001b[0;34m)\u001b[0m\u001b[0;34m.\u001b[0m\u001b[0msort_values\u001b[0m\u001b[0;34m(\u001b[0m\u001b[0;34m'FullExonPos'\u001b[0m\u001b[0;34m)\u001b[0m\u001b[0;34m\u001b[0m\u001b[0;34m\u001b[0m\u001b[0m\n",
      "\u001b[0;31mKeyError\u001b[0m: 'ddof'"
     ]
    }
   ],
   "source": [
    "from rollingCNV import apply_rolling_coverage\n",
    "\n",
    "config = {\n",
    "    'debug': True, # also export the left and right rolling window values (L/R)\n",
    "    'diff_exp': 4, # the exponent for the diff function --> higher values make steeper peaks\n",
    "    'coverage': {\n",
    "        'filter': dict(\n",
    "            min_cov = 30,\n",
    "            min_PON_cov = 40,\n",
    "            max_PON_std = 100,\n",
    "        ),\n",
    "        'normalize':False,\n",
    "        'expand':0.2, # after interpolation of rolling data from filtered df into full df, interpolate missing data within this fraction of window size, set 0 if no interpolation is wanted\n",
    "        'data': {\n",
    "            'log2ratio': {\n",
    "                'mean':250\n",
    "            }\n",
    "        }\n",
    "    }\n",
    "}\n",
    "\n",
    "snpcov_df, rolling_cov_df = apply_rolling_coverage(snp_df, cov_df, config)\n",
    "snpcov_df.to_csv(os.path.join(output_path, f'tmp/{sample}.snpcov.csv'), sep='\\t', index=False)\n",
    "rolling_cov_df.to_csv(os.path.join(output_path, f'CNV/{sample}.rollcov.csv'), sep='\\t', index=False)"
   ]
  },
  {
   "cell_type": "markdown",
   "metadata": {},
   "source": [
    "## CovDiv rolling window"
   ]
  },
  {
   "cell_type": "code",
   "execution_count": null,
   "metadata": {
    "ExecuteTime": {
     "end_time": "2020-11-06T13:49:49.725141Z",
     "start_time": "2020-11-06T13:49:49.713693Z"
    }
   },
   "outputs": [],
   "source": [
    "cov_df"
   ]
  },
  {
   "cell_type": "code",
   "execution_count": null,
   "metadata": {
    "ExecuteTime": {
     "end_time": "2020-11-06T13:49:50.619338Z",
     "start_time": "2020-11-06T13:49:50.529704Z"
    }
   },
   "outputs": [],
   "source": [
    "cov_df.sort_values('FullExonPos')[:10]"
   ]
  },
  {
   "cell_type": "code",
   "execution_count": null,
   "metadata": {
    "ExecuteTime": {
     "end_time": "2020-11-06T13:49:51.192156Z",
     "start_time": "2020-11-06T13:49:51.181821Z"
    }
   },
   "outputs": [],
   "source": [
    "snp_df[:3]"
   ]
  },
  {
   "cell_type": "markdown",
   "metadata": {},
   "source": [
    "### visualize the data"
   ]
  },
  {
   "cell_type": "code",
   "execution_count": null,
   "metadata": {
    "ExecuteTime": {
     "end_time": "2020-11-06T14:04:01.996876Z",
     "start_time": "2020-11-06T14:04:01.993654Z"
    }
   },
   "outputs": [],
   "source": [
    "fig_params = dict(\n",
    "    figsize=(50,8),\n",
    "    colormap='coolwarm_r',\n",
    "    color_chroms=True,\n",
    "    ylim=(-1.5,3)\n",
    ")"
   ]
  },
  {
   "cell_type": "markdown",
   "metadata": {},
   "source": [
    "#### whole exome"
   ]
  },
  {
   "cell_type": "code",
   "execution_count": null,
   "metadata": {
    "ExecuteTime": {
     "end_time": "2020-11-06T14:04:04.209292Z",
     "start_time": "2020-11-06T14:04:02.958865Z"
    }
   },
   "outputs": [],
   "source": [
    "log2 = dict(\n",
    "        title='log2ratio',\n",
    "        plot_type='scatter',   # ['line', 'scatter']\n",
    "        data='log2ratio',\n",
    "        plot_args=dict(\n",
    "            linewidth=0.3,\n",
    "            color='black',\n",
    "            s=0.2,\n",
    "            alpha=.7\n",
    "        ))\n",
    "\n",
    "fig, ax, df, chrom_df = plot_genomic(cov_df, plots=[log2], chroms='all', region='', **fig_params)"
   ]
  },
  {
   "cell_type": "markdown",
   "metadata": {},
   "source": [
    "#### zoom in on interesting feats"
   ]
  },
  {
   "cell_type": "code",
   "execution_count": null,
   "metadata": {
    "ExecuteTime": {
     "end_time": "2020-11-06T14:04:06.456735Z",
     "start_time": "2020-11-06T14:04:05.345378Z"
    }
   },
   "outputs": [],
   "source": [
    "\n",
    "chroms = ['chr5', 'chr7','chr8', 'chr11', 'chr17']\n",
    "fig, ax, df, chrom_df = plot_genomic(cov_df, plots=[log2], chroms=chroms, region='', **fig_params)"
   ]
  },
  {
   "cell_type": "code",
   "execution_count": null,
   "metadata": {
    "ExecuteTime": {
     "end_time": "2020-11-06T14:04:09.595095Z",
     "start_time": "2020-11-06T14:04:08.450444Z"
    }
   },
   "outputs": [],
   "source": [
    "log2 = dict(\n",
    "        title='log2ratio',\n",
    "        plot_type='scatter',   # ['line', 'scatter']\n",
    "        data='log2ratio',\n",
    "        plot_args=dict(\n",
    "            linewidth=0.3,\n",
    "            color='black',\n",
    "            s=0.4,\n",
    "            alpha=1\n",
    "        ))\n",
    "\n",
    "fig, ax, df, chrom_df = plot_genomic(cov_df, plots=[log2], chroms=chroms, region='chr17', **fig_params)"
   ]
  },
  {
   "cell_type": "code",
   "execution_count": null,
   "metadata": {
    "ExecuteTime": {
     "end_time": "2020-11-06T14:04:14.046235Z",
     "start_time": "2020-11-06T14:04:13.072620Z"
    }
   },
   "outputs": [],
   "source": [
    "log2 = dict(\n",
    "        title='log2ratio',\n",
    "        plot_type='scatter',   # ['line', 'scatter']\n",
    "        data='log2ratio',\n",
    "        plot_args=dict(\n",
    "            linewidth=0.3,\n",
    "            color='black',\n",
    "            s=2,\n",
    "            alpha=1\n",
    "        ))\n",
    "\n",
    "r1 = 'chr17:3Mb-9Mb'\n",
    "fig, ax, df, chrom_df = plot_genomic(cov_df, plots=[log2], chroms=chroms, region=r1, **fig_params)"
   ]
  },
  {
   "cell_type": "markdown",
   "metadata": {},
   "source": [
    "## rolling window for log2ratio\n",
    "#### compute the mean for log2ratio\n",
    "+ this is all done on chromosome-basis\n",
    "+ the rolling should be performed on coverage data filtered for:\n",
    "    * minimal coverage\n",
    "    * minimal coverage in PON samples\n",
    "    * maximal std of PON coverage"
   ]
  },
  {
   "cell_type": "markdown",
   "metadata": {},
   "source": [
    "### test rolling_coverage"
   ]
  },
  {
   "cell_type": "code",
   "execution_count": null,
   "metadata": {
    "ExecuteTime": {
     "end_time": "2020-11-06T14:04:20.142271Z",
     "start_time": "2020-11-06T14:04:20.128359Z"
    }
   },
   "outputs": [],
   "source": [
    "def interpolate(df, data_col, ref_col='FullExonPos', expand_limit=20):\n",
    "    '''\n",
    "    interpolates missing values in data_col using linear interpolation based on ref_col\n",
    "    '''\n",
    "    cols = list(df.columns)\n",
    "    # set FullExonPos as index for the interpolation method to work on proper intervals\n",
    "    df = df.reset_index(drop=False).set_index(ref_col, drop=False)\n",
    "    df.loc[:,data_col] = df[data_col].interpolate(method='values', limit=expand_limit, limit_direction='both')\n",
    "    return df.set_index('index')[cols]\n",
    "\n",
    "\n",
    "def one_col_rolling(df, df_filter, col, aggr, window_size=200, expand_limit=20, normalize=False, debug=False, diff_exp=2):\n",
    "    '''\n",
    "    performs rolling computation of <agg> on data column <col> with given window size\n",
    "    the aggregation has to be a string expression understood by the agg-function of the pandas.groupby API\n",
    "    computation is performed on a left and right rolling window\n",
    "    missing margins are filled by the counterpart window function\n",
    "    a diff column is included ()\n",
    "    \n",
    "    '''\n",
    "    \n",
    "    org_cols = list(df.columns)\n",
    "    # rolling left\n",
    "    # get the right computation by passing aggr to .agg()\n",
    "    # only this allows passing methods as string\n",
    "    df.loc[:,'L'] = df_filter[col].rolling(window_size).agg(aggr, ddof=0)\n",
    "    # rolling right by shifting the L column\n",
    "    df.loc[:, 'R'] = df.shift(-window_size + 1)['L']\n",
    "    \n",
    "    \n",
    "    col_name = col + aggr\n",
    "    diff_name = col_name + \"Diff\"\n",
    "    new_cols = org_cols +[col_name, diff_name]\n",
    "    if debug:\n",
    "        new_cols += [f'{col_name}L', f'{col_name}R']\n",
    "    # skips interpolation if value == 0\n",
    "    if interpolate:\n",
    "        # interpolate missing values\n",
    "        for c in ['L', 'R']:\n",
    "            df = interpolate(df, c, expand_limit=expand_limit)\n",
    "    # fill the margins\n",
    "    L_margin = df['L'].first_valid_index()\n",
    "    df.loc[:L_margin, 'L'] = df['R']\n",
    "    R_margin = df['R'].last_valid_index() + 1\n",
    "    df.loc[R_margin:, 'R'] = df['L']\n",
    "    \n",
    "    # normalize values \n",
    "    # should be only used for sum aggregations\n",
    "    if normalize and aggr == 'sum':\n",
    "    # normalize the data\n",
    "        # print('Normalizing data')\n",
    "        _min = df['L'].min()\n",
    "        _max = df['L'].max()\n",
    "        for c in ['L', 'R']:\n",
    "            df.loc[:,c] = (df[c] - _min) / (_max - _min)\n",
    "            \n",
    "    # get the Diff\n",
    "    df.loc[:,diff_name] = np.abs(df['R'] - df['L'])\n",
    "    # normalize to max\n",
    "    df.loc[:,diff_name] = df[diff_name] / df[diff_name].max()\n",
    "    # here, contribution of L and R is controlled by diff value\n",
    "    df.loc[:,col_name] = df['R'] * df[diff_name] + df['L'] * (1 - df[diff_name])\n",
    "    \n",
    "    # square the diff\n",
    "    df.loc[:,diff_name] = df[diff_name] ** diff_exp\n",
    "    \n",
    "    # reduce to the right columns\n",
    "    df = df.rename(columns=dict(L=f'{col_name}L', R=f'{col_name}R'))\n",
    "    return df[new_cols]\n",
    "\n",
    "\n",
    "def rolling_coverage(cov_df, config):\n",
    "    '''\n",
    "    cycle through the chroms and perform rolling window computations of data set in config\n",
    "    '''\n",
    "\n",
    "    # split the params dict for easier access\n",
    "    params = config['coverage']\n",
    "    filter_params = params['filter']\n",
    "    data_params = params['data']\n",
    "    # get the params for filtering\n",
    "    min_cov = filter_params['min_cov']\n",
    "    min_PON_cov = filter_params['min_PON_cov']\n",
    "    max_PON_std = filter_params['max_PON_std']\n",
    "    chrom_dfs = []\n",
    "    for chrom in cov_df['Chr'].unique():\n",
    "        # restrict to chrom\n",
    "        chrom_df = cov_df.query('Chr == @chrom').sort_values('FullExonPos')\n",
    "        # filter df\n",
    "        filter_df = chrom_df.query(\n",
    "            'Coverage >= @min_cov and PONmeanCov >= @min_PON_cov and PONstd < @max_PON_std')\n",
    "        for data_col in data_params.keys():\n",
    "            for agg in data_params[data_col].keys():\n",
    "                window_size = data_params[data_col][agg]\n",
    "                expand_limit = int(params['expand'] * window_size)\n",
    "                # print(f\"Computing rolling window for {agg} of {data_col} with window size {window_size} on {chrom}\")\n",
    "                chrom_df = one_col_rolling(chrom_df, filter_df, data_col, agg, \n",
    "                window_size=window_size,\n",
    "                expand_limit=expand_limit, \n",
    "                normalize=params['normalize'],\n",
    "                diff_exp=config['diff_exp'],\n",
    "                debug=config['debug'])\n",
    "        chrom_dfs.append(chrom_df)\n",
    "    df = pd.concat(chrom_dfs).sort_values('FullExonPos')\n",
    "    return df"
   ]
  },
  {
   "cell_type": "code",
   "execution_count": null,
   "metadata": {
    "ExecuteTime": {
     "end_time": "2020-11-06T14:04:24.629393Z",
     "start_time": "2020-11-06T14:04:22.558678Z"
    }
   },
   "outputs": [],
   "source": [
    "########### CONFIG ##################\n",
    "# put all the parameters for the rolling into a dict\n",
    "# needs to contain:\n",
    "# - filter criteria for the data to be used for rolling\n",
    "# - the actual data columns with\n",
    "#   - and interpolation size\n",
    "config = {\n",
    "    'debug': True, # also export the left and right rolling window values (L/R)\n",
    "    'diff_exp': 4, # the exponent for the diff function --> higher values make steeper peaks\n",
    "    'coverage': {\n",
    "        'filter': dict(\n",
    "            min_cov = 0,\n",
    "            min_PON_cov = 1,\n",
    "            max_PON_std = 1000,\n",
    "        ),\n",
    "        'normalize':False,\n",
    "        'expand':0.5, # after interpolation of rolling data from filtered df into full df, interpolate missing data within this fraction of window size, set 0 if no interpolation is wanted\n",
    "        'data': {\n",
    "            'log2ratio': {\n",
    "                'mean':250\n",
    "            }\n",
    "        }\n",
    "    }\n",
    "}\n",
    "\n",
    "cov2_df = rolling_coverage(cov_df, config)\n",
    "cov2_df[20:50]"
   ]
  },
  {
   "cell_type": "code",
   "execution_count": null,
   "metadata": {
    "ExecuteTime": {
     "end_time": "2020-11-06T14:04:28.135004Z",
     "start_time": "2020-11-06T14:04:26.483732Z"
    }
   },
   "outputs": [],
   "source": [
    "log2mean = dict(\n",
    "        title='rollinglog2ratio',\n",
    "        plot_type='line',   # ['line', 'scatter']\n",
    "        data='log2ratiomean',\n",
    "        plot_args=dict(\n",
    "            linewidth=1,\n",
    "            color='yellow',\n",
    "            alpha=.7\n",
    "        )\n",
    "    )\n",
    "\n",
    "\n",
    "log2diff = dict(\n",
    "        title='rollinglog2ratio',\n",
    "        plot_type='line',   # ['line', 'scatter']\n",
    "        data='log2ratiomeanDiff',\n",
    "        plot_args=dict(\n",
    "            linewidth=1,\n",
    "            color='blue',\n",
    "            alpha=.7\n",
    "        ))\n",
    "\n",
    "log2L = dict(\n",
    "        title='rollinglog2ratio',\n",
    "        plot_type='line',   # ['line', 'scatter']\n",
    "        data='log2ratiomeanL',\n",
    "        plot_args=dict(\n",
    "            linewidth=1,\n",
    "            color='white',\n",
    "            alpha=.7\n",
    "        ))\n",
    "\n",
    "log2R = dict(\n",
    "        title='rollinglog2ratio',\n",
    "        plot_type='line',   # ['line', 'scatter']\n",
    "        data='log2ratiomeanR',\n",
    "        plot_args=dict(\n",
    "            linewidth=1,\n",
    "            color='black',\n",
    "            alpha=.7\n",
    "        ))\n",
    "\n",
    "_, _, _, _ = plot_genomic(cov2_df, plots=[log2,log2mean], chroms='all', region='', **fig_params)"
   ]
  },
  {
   "cell_type": "code",
   "execution_count": null,
   "metadata": {
    "ExecuteTime": {
     "end_time": "2020-11-06T14:04:55.179912Z",
     "start_time": "2020-11-06T14:04:53.910884Z"
    }
   },
   "outputs": [],
   "source": [
    "_, _, _, _ = plot_genomic(cov2_df, plots=[log2,log2mean], chroms=chroms, region='', **fig_params)"
   ]
  },
  {
   "cell_type": "code",
   "execution_count": null,
   "metadata": {
    "ExecuteTime": {
     "end_time": "2020-11-06T14:05:09.005411Z",
     "start_time": "2020-11-06T14:05:07.827314Z"
    }
   },
   "outputs": [],
   "source": [
    "plots = [\n",
    "    log2,\n",
    "    log2mean,\n",
    "    log2diff,\n",
    "    log2L,\n",
    "    log2R\n",
    "]\n",
    "\n",
    "_, _, _, _ = plot_genomic(cov2_df, plots=plots, chroms=chroms, region='chr17', **fig_params)"
   ]
  },
  {
   "cell_type": "code",
   "execution_count": null,
   "metadata": {
    "ExecuteTime": {
     "end_time": "2020-11-06T14:05:12.656695Z",
     "start_time": "2020-11-06T14:05:11.629802Z"
    }
   },
   "outputs": [],
   "source": [
    "plots = [\n",
    "    log2,\n",
    "    log2mean,\n",
    "    log2diff,\n",
    "    log2L,\n",
    "    log2R\n",
    "]\n",
    "fig_params.update({'ylim': (-1.5,0.8)})\n",
    "_, _, _, _ = plot_genomic(cov2_df, plots=plots, chroms=chroms, region=r1, **fig_params)"
   ]
  },
  {
   "cell_type": "markdown",
   "metadata": {},
   "source": [
    "### test different window sizes for log2ratio"
   ]
  },
  {
   "cell_type": "code",
   "execution_count": null,
   "metadata": {
    "ExecuteTime": {
     "end_time": "2020-11-06T14:05:22.521502Z",
     "start_time": "2020-11-06T14:05:19.199828Z"
    }
   },
   "outputs": [],
   "source": [
    "plots = [\n",
    "    log2,\n",
    "    log2mean,\n",
    "    log2diff,\n",
    "    log2L,\n",
    "    log2R\n",
    "]\n",
    "\n",
    "# this is only part of the config - snp config is omitted\n",
    "config = {\n",
    "    'debug': True, # also export the left and right rolling window values (L/R)\n",
    "    'diff_exp': 4, # the exponent for the diff function --> higher values make steeper peaks\n",
    "    'coverage': {\n",
    "        'filter': dict(\n",
    "            min_cov = 10,\n",
    "            min_PON_cov = 40,\n",
    "            max_PON_std = 50,\n",
    "        ),\n",
    "        'normalize':False,\n",
    "        'expand':0.2, # after interpolation of rolling data from filtered df into full df, interpolate missing data within this fraction of window size, set 0 if no interpolation is wanted\n",
    "        'data': {\n",
    "            'log2ratio': {\n",
    "                'mean':250\n",
    "            }\n",
    "        }\n",
    "    }\n",
    "}\n",
    "\n",
    "\n",
    "cov2_df = rolling_coverage(cov_df, config)\n",
    "_, _, _, _ = plot_genomic(cov2_df, plots=plots, chroms=chroms, region='chr17', **fig_params)"
   ]
  },
  {
   "cell_type": "code",
   "execution_count": null,
   "metadata": {
    "ExecuteTime": {
     "end_time": "2020-11-06T14:05:29.693656Z",
     "start_time": "2020-11-06T14:05:28.602034Z"
    }
   },
   "outputs": [],
   "source": [
    "_, _, _, _ = plot_genomic(cov2_df, plots=plots, chroms=chroms, region=r1, **fig_params)"
   ]
  },
  {
   "cell_type": "markdown",
   "metadata": {},
   "source": [
    "## merge coverage data into SNP\n",
    "+ reduce to important columns"
   ]
  },
  {
   "cell_type": "code",
   "execution_count": null,
   "metadata": {
    "ExecuteTime": {
     "end_time": "2020-11-06T14:05:34.912424Z",
     "start_time": "2020-11-06T14:05:34.905090Z"
    }
   },
   "outputs": [],
   "source": [
    "def interpolate_fullexonpon(merge_df):\n",
    "    chrom_dfs = []\n",
    "    for chrom in merge_df['Chr'].unique():\n",
    "        chrom_df = merge_df.query('Chr == @chrom')\n",
    "        chrom_df = interpolate(chrom_df, 'FullExonPos', ref_col='Pos', expand_limit=1000000)\n",
    "        chrom_dfs.append(chrom_df)\n",
    "    df = pd.concat(chrom_dfs).sort_values('FullExonPos')\n",
    "    df.loc[:, 'FullExonPos'] = df['FullExonPos'].astype(int)\n",
    "    return df\n",
    "\n",
    "\n",
    "def mergeSNPnCov(cov_df, snp_df):\n",
    "    \n",
    "    # reduce the data to important columns\n",
    "    # snp\n",
    "    snp_keep_cols = list(snp_df.columns)[:3] + ['Depth', 'EBscore', 'VAF']\n",
    "    snp_df = snp_df.loc[:, snp_keep_cols]\n",
    "    # cov\n",
    "    cov_keep_cols = list(cov2_df.columns)[:4] + ['log2ratio', 'log2ratiomean', 'log2ratiomeanDiff']\n",
    "    cov_df = cov_df.loc[:, cov_keep_cols]\n",
    "    \n",
    "    # merge the data\n",
    "    merge_df = cov_df.merge(snp_df, on=list(snp_df.columns[:3]), how='outer')\n",
    "    \n",
    "    # interpolate FullExonPos\n",
    "    merge_df = interpolate_fullexonpon(merge_df)\n",
    "\n",
    "    # interpolate the data\n",
    "    for col in [col for col in merge_df.columns if 'log2ratio' in col]:\n",
    "        merge_df = interpolate(merge_df, col, expand_limit=100)\n",
    "    # reduce to VAF values\n",
    "    snpcov_df = merge_df.query('VAF == VAF')\n",
    "    cov_df = cov_df.query('log2ratiomean == log2ratiomean')\n",
    "    return snpcov_df, cov_df"
   ]
  },
  {
   "cell_type": "code",
   "execution_count": null,
   "metadata": {
    "ExecuteTime": {
     "end_time": "2020-11-06T14:01:24.291901Z",
     "start_time": "2020-11-06T14:01:19.878850Z"
    }
   },
   "outputs": [],
   "source": [
    "merge_df, _ = mergeSNPnCov(cov2_df, snp_df)\n",
    "merge_df.query('FullExonPos != FullExonPos')"
   ]
  },
  {
   "cell_type": "code",
   "execution_count": null,
   "metadata": {
    "ExecuteTime": {
     "end_time": "2020-10-28T20:02:05.976237Z",
     "start_time": "2020-10-28T20:02:05.961936Z"
    }
   },
   "outputs": [],
   "source": [
    "# non-fitters are greatly reduced\n",
    "merge_df.query('log2ratiomean != log2ratiomean')"
   ]
  },
  {
   "cell_type": "markdown",
   "metadata": {},
   "source": [
    "### bring it all together"
   ]
  },
  {
   "cell_type": "code",
   "execution_count": null,
   "metadata": {
    "ExecuteTime": {
     "end_time": "2020-10-28T15:31:58.698533Z",
     "start_time": "2020-10-28T15:31:58.695337Z"
    }
   },
   "outputs": [],
   "source": [
    "def apply_rolling_coverage(snp_df, cov_df, config):\n",
    "    '''\n",
    "    master function for rolling coverage\n",
    "    '''\n",
    "    # reduce cov_df to valid data\n",
    "    cov_df = cov_df.query('log2ratio == log2ratio')\n",
    "    \n",
    "    cov_df = rolling_coverage(cov_df, config)\n",
    "    \n",
    "    snpcov_df, rolling_cov_df = mergeSNPnCov(cov_df, snp_df)\n",
    "    \n",
    "    return snpcov_df, rolling_cov_df"
   ]
  },
  {
   "cell_type": "code",
   "execution_count": null,
   "metadata": {
    "ExecuteTime": {
     "end_time": "2020-10-28T20:02:37.374200Z",
     "start_time": "2020-10-28T20:02:30.640295Z"
    }
   },
   "outputs": [],
   "source": [
    "snpcov_df, rolling_cov_df = apply_rolling_coverage(snp_df, cov_df, config)"
   ]
  },
  {
   "cell_type": "code",
   "execution_count": null,
   "metadata": {
    "ExecuteTime": {
     "end_time": "2020-10-27T14:12:25.637647Z",
     "start_time": "2020-10-27T14:12:25.624035Z"
    }
   },
   "outputs": [],
   "source": [
    "snpcov_df"
   ]
  },
  {
   "cell_type": "code",
   "execution_count": null,
   "metadata": {
    "ExecuteTime": {
     "end_time": "2020-10-27T14:07:08.300432Z",
     "start_time": "2020-10-27T14:07:08.289577Z"
    }
   },
   "outputs": [],
   "source": [
    "rolling_cov_df"
   ]
  },
  {
   "cell_type": "code",
   "execution_count": null,
   "metadata": {
    "ExecuteTime": {
     "end_time": "2020-10-28T20:02:44.048317Z",
     "start_time": "2020-10-28T20:02:44.045018Z"
    }
   },
   "outputs": [],
   "source": [
    "vaf = dict(\n",
    "        title='VAF',\n",
    "        plot_type='scatter',   # ['line', 'scatter']\n",
    "        data='VAF',\n",
    "        plot_args=dict(\n",
    "            linewidth=0.3,\n",
    "            color='black',\n",
    "            s=5,\n",
    "            alpha=1\n",
    "        ))"
   ]
  },
  {
   "cell_type": "code",
   "execution_count": null,
   "metadata": {
    "ExecuteTime": {
     "end_time": "2020-10-28T20:02:45.316499Z",
     "start_time": "2020-10-28T20:02:44.603691Z"
    }
   },
   "outputs": [],
   "source": [
    "_, _, _, _ = plot_genomic(snpcov_df, plots=[log2mean, vaf], chroms=chroms, region='', **fig_params)"
   ]
  }
 ],
 "metadata": {
  "kernelspec": {
   "display_name": "Python 3",
   "language": "python",
   "name": "python3"
  },
  "language_info": {
   "codemirror_mode": {
    "name": "ipython",
    "version": 3
   },
   "file_extension": ".py",
   "mimetype": "text/x-python",
   "name": "python",
   "nbconvert_exporter": "python",
   "pygments_lexer": "ipython3",
   "version": "3.8.6"
  },
  "varInspector": {
   "cols": {
    "lenName": 16,
    "lenType": 16,
    "lenVar": 40
   },
   "kernels_config": {
    "python": {
     "delete_cmd_postfix": "",
     "delete_cmd_prefix": "del ",
     "library": "var_list.py",
     "varRefreshCmd": "print(var_dic_list())"
    },
    "r": {
     "delete_cmd_postfix": ") ",
     "delete_cmd_prefix": "rm(",
     "library": "var_list.r",
     "varRefreshCmd": "cat(var_dic_list()) "
    }
   },
   "types_to_exclude": [
    "module",
    "function",
    "builtin_function_or_method",
    "instance",
    "_Feature"
   ],
   "window_display": false
  }
 },
 "nbformat": 4,
 "nbformat_minor": 4
}
