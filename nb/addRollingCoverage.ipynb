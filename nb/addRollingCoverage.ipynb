{
 "cells": [
  {
   "cell_type": "code",
   "execution_count": null,
   "metadata": {
    "ExecuteTime": {
     "end_time": "2020-10-28T19:53:59.827931Z",
     "start_time": "2020-10-28T19:53:59.275282Z"
    }
   },
   "outputs": [],
   "source": [
    "# HOME\n",
    "import os\n",
    "import scipy\n",
    "# get the code\n",
    "import sys\n",
    "sys.path.append('../codeCNV')\n",
    "from plot import plot_genomic\n",
    "\n",
    "\n",
    "home = '/Users/mahtin'\n",
    "# home = '/Users/martinscience'\n",
    "# standard paths\n",
    "testdata = os.path.join(home,\"Dropbox/Icke/Work/somVar/testdata\")\n",
    "static_path = os.path.join(home, \"Dropbox/Icke/Work/static\")\n",
    "cluster_path = os.path.join(home, \"mount\")\n",
    "tooldata = os.path.join(home, \"Dropbox/Icke/Work/somVar/tooldata\")\n",
    "\n",
    "# tool-specific paths\n",
    "shell_path = \"../shell\"\n",
    "# \n",
    "cnvdata = os.path.join(tooldata, \"myCNVdata\")\n",
    "output_path = os.path.join(cnvdata, \"output\")\n",
    "\n",
    "# the path to the input data\n",
    "cnv_path = os.path.join(cnvdata, \"cnv\")\n",
    "cnvPON_path = cnv_path = os.path.join(cnvdata, \"chromCov\")\n",
    "cnv_path = os.path.join(cluster_path, \"scratch/develop/PONcoverage/cnv\")\n",
    "cnvPON_path = os.path.join(cluster_path, \"scratch/develop/PONcoverage/chromCov\")"
   ]
  },
  {
   "cell_type": "code",
   "execution_count": null,
   "metadata": {
    "ExecuteTime": {
     "end_time": "2020-10-28T19:53:59.887764Z",
     "start_time": "2020-10-28T19:53:59.881314Z"
    }
   },
   "outputs": [],
   "source": [
    "cnvPON_path"
   ]
  },
  {
   "cell_type": "markdown",
   "metadata": {},
   "source": [
    "# combined hetSNP and covDiv ---> rollCov + CovSNP\n",
    "+ rolling log2ratio on the combined covDiv\n",
    "+ merging into the hetSNP data and interpolation of rolling log2ratio at hetSNP positions"
   ]
  },
  {
   "cell_type": "markdown",
   "metadata": {},
   "source": [
    "### get the coverage and SNP data"
   ]
  },
  {
   "cell_type": "code",
   "execution_count": null,
   "metadata": {
    "ExecuteTime": {
     "end_time": "2020-10-28T19:54:03.016900Z",
     "start_time": "2020-10-28T19:54:01.474008Z"
    }
   },
   "outputs": [],
   "source": [
    "sample = \"01_A\"\n",
    "snp_df = pd.read_csv(os.path.join(output_path, f'heteroSNP/{sample}.snp'), sep='\\t')\n",
    "cov_df = pd.read_csv(os.path.join(output_path, f'covDif/{sample}.cov'), sep='\\t').query('log2ratio == log2ratio')"
   ]
  },
  {
   "cell_type": "markdown",
   "metadata": {},
   "source": [
    "## run the code"
   ]
  },
  {
   "cell_type": "code",
   "execution_count": null,
   "metadata": {
    "ExecuteTime": {
     "end_time": "2020-10-28T19:54:19.406751Z",
     "start_time": "2020-10-28T19:54:03.965793Z"
    }
   },
   "outputs": [],
   "source": [
    "from rollingCNV import apply_rolling_coverage\n",
    "\n",
    "config = {\n",
    "    'debug': True, # also export the left and right rolling window values (L/R)\n",
    "    'diff_exp': 4, # the exponent for the diff function --> higher values make steeper peaks\n",
    "    'coverage': {\n",
    "        'filter': dict(\n",
    "            min_cov = 30,\n",
    "            min_PON_cov = 40,\n",
    "            max_PON_std = 100,\n",
    "        ),\n",
    "        'normalize':False,\n",
    "        'expand':0.2, # after interpolation of rolling data from filtered df into full df, interpolate missing data within this fraction of window size, set 0 if no interpolation is wanted\n",
    "        'data': {\n",
    "            'log2ratio': {\n",
    "                'mean':250\n",
    "            }\n",
    "        }\n",
    "    }\n",
    "}\n",
    "\n",
    "snpcov_df, rolling_cov_df = apply_rolling_coverage(snp_df, cov_df, config)\n",
    "snpcov_df.to_csv(os.path.join(output_path, f'rollingCNV/{sample}.snpcov.csv'), sep='\\t', index=False)\n",
    "rolling_cov_df.to_csv(os.path.join(output_path, f'rollingCNV/{sample}.rollcov.csv'), sep='\\t', index=False)"
   ]
  },
  {
   "cell_type": "markdown",
   "metadata": {},
   "source": [
    "## CovDiv rolling window"
   ]
  },
  {
   "cell_type": "code",
   "execution_count": null,
   "metadata": {
    "ExecuteTime": {
     "end_time": "2020-10-28T16:36:18.721490Z",
     "start_time": "2020-10-28T16:36:18.707078Z"
    }
   },
   "outputs": [],
   "source": [
    "cov_df"
   ]
  },
  {
   "cell_type": "code",
   "execution_count": null,
   "metadata": {
    "ExecuteTime": {
     "end_time": "2020-10-28T15:32:19.586114Z",
     "start_time": "2020-10-28T15:32:19.505215Z"
    }
   },
   "outputs": [],
   "source": [
    "cov_df.sort_values('FullExonPos')[:10]"
   ]
  },
  {
   "cell_type": "code",
   "execution_count": null,
   "metadata": {
    "ExecuteTime": {
     "end_time": "2020-10-28T15:32:24.625682Z",
     "start_time": "2020-10-28T15:32:24.615044Z"
    }
   },
   "outputs": [],
   "source": [
    "snp_df[:3]"
   ]
  },
  {
   "cell_type": "markdown",
   "metadata": {},
   "source": [
    "### visualize the data"
   ]
  },
  {
   "cell_type": "code",
   "execution_count": null,
   "metadata": {
    "ExecuteTime": {
     "end_time": "2020-10-28T19:55:35.448056Z",
     "start_time": "2020-10-28T19:55:35.444965Z"
    }
   },
   "outputs": [],
   "source": [
    "fig_params = dict(\n",
    "    figsize=(50,8),\n",
    "    colormap='coolwarm_r',\n",
    "    color_chroms=True,\n",
    "    ylim=(-1.5,2.5)\n",
    ")"
   ]
  },
  {
   "cell_type": "markdown",
   "metadata": {},
   "source": [
    "#### whole exome"
   ]
  },
  {
   "cell_type": "code",
   "execution_count": null,
   "metadata": {
    "ExecuteTime": {
     "end_time": "2020-10-28T19:55:37.999999Z",
     "start_time": "2020-10-28T19:55:36.459326Z"
    }
   },
   "outputs": [],
   "source": [
    "log2 = dict(\n",
    "        title='log2ratio',\n",
    "        plot_type='scatter',   # ['line', 'scatter']\n",
    "        data='log2ratio',\n",
    "        plot_args=dict(\n",
    "            linewidth=0.3,\n",
    "            color='black',\n",
    "            s=0.2,\n",
    "            alpha=.7\n",
    "        ))\n",
    "\n",
    "fig, ax, df, chrom_df = plot_genomic(cov_df, plots=[log2], chroms='all', region='', **fig_params)"
   ]
  },
  {
   "cell_type": "markdown",
   "metadata": {},
   "source": [
    "#### zoom in on interesting feats"
   ]
  },
  {
   "cell_type": "code",
   "execution_count": null,
   "metadata": {
    "ExecuteTime": {
     "end_time": "2020-10-28T19:56:28.878187Z",
     "start_time": "2020-10-28T19:56:27.720630Z"
    }
   },
   "outputs": [],
   "source": [
    "\n",
    "chroms = ['chr5', 'chr7','chr8', 'chr11', 'chr17']\n",
    "fig, ax, df, chrom_df = plot_genomic(cov_df, plots=[log2], chroms=chroms, region='', **fig_params)"
   ]
  },
  {
   "cell_type": "code",
   "execution_count": null,
   "metadata": {
    "ExecuteTime": {
     "end_time": "2020-10-28T19:56:57.561820Z",
     "start_time": "2020-10-28T19:56:56.488559Z"
    }
   },
   "outputs": [],
   "source": [
    "log2 = dict(\n",
    "        title='log2ratio',\n",
    "        plot_type='scatter',   # ['line', 'scatter']\n",
    "        data='log2ratio',\n",
    "        plot_args=dict(\n",
    "            linewidth=0.3,\n",
    "            color='black',\n",
    "            s=0.4,\n",
    "            alpha=1\n",
    "        ))\n",
    "\n",
    "fig, ax, df, chrom_df = plot_genomic(cov_df, plots=[log2], chroms=chroms, region='chr17', **fig_params)"
   ]
  },
  {
   "cell_type": "code",
   "execution_count": null,
   "metadata": {
    "ExecuteTime": {
     "end_time": "2020-10-28T19:57:12.094879Z",
     "start_time": "2020-10-28T19:57:11.060899Z"
    }
   },
   "outputs": [],
   "source": [
    "log2 = dict(\n",
    "        title='log2ratio',\n",
    "        plot_type='scatter',   # ['line', 'scatter']\n",
    "        data='log2ratio',\n",
    "        plot_args=dict(\n",
    "            linewidth=0.3,\n",
    "            color='black',\n",
    "            s=2,\n",
    "            alpha=1\n",
    "        ))\n",
    "\n",
    "r1 = 'chr17:3Mb-9Mb'\n",
    "fig, ax, df, chrom_df = plot_genomic(cov_df, plots=[log2], chroms=chroms, region=r1, **fig_params)"
   ]
  },
  {
   "cell_type": "markdown",
   "metadata": {},
   "source": [
    "## rolling window for log2ratio\n",
    "#### compute the mean for log2ratio\n",
    "+ this is all done on chromosome-basis\n",
    "+ the rolling should be performed on coverage data filtered for:\n",
    "    * minimal coverage\n",
    "    * minimal coverage in PON samples\n",
    "    * maximal std of PON coverage"
   ]
  },
  {
   "cell_type": "markdown",
   "metadata": {},
   "source": [
    "### test rolling_coverage"
   ]
  },
  {
   "cell_type": "code",
   "execution_count": null,
   "metadata": {
    "ExecuteTime": {
     "end_time": "2020-10-28T19:57:15.576492Z",
     "start_time": "2020-10-28T19:57:15.560383Z"
    }
   },
   "outputs": [],
   "source": [
    "def interpolate(df, data_col, ref_col='FullExonPos', expand_limit=20):\n",
    "    '''\n",
    "    interpolates missing values in data_col using linear interpolation based on ref_col\n",
    "    '''\n",
    "    cols = list(df.columns)\n",
    "    # set FullExonPos as index for the interpolation method to work on proper intervals\n",
    "    df = df.reset_index(drop=False).set_index(ref_col, drop=False)\n",
    "    df.loc[:,data_col] = df[data_col].interpolate(method='values', limit=expand_limit, limit_direction='both')\n",
    "    return df.set_index('index')[cols]\n",
    "\n",
    "\n",
    "def one_col_rolling(df, df_filter, col, aggr, window_size=200, expand_limit=20, normalize=False, debug=False, diff_exp=2):\n",
    "    '''\n",
    "    performs rolling computation of <agg> on data column <col> with given window size\n",
    "    the aggregation has to be a string expression understood by the agg-function of the pandas.groupby API\n",
    "    computation is performed on a left and right rolling window\n",
    "    missing margins are filled by the counterpart window function\n",
    "    a diff column is included ()\n",
    "    \n",
    "    '''\n",
    "    \n",
    "    org_cols = list(df.columns)\n",
    "    # rolling left\n",
    "    # get the right computation by passing aggr to .agg()\n",
    "    # only this allows passing methods as string\n",
    "    df.loc[:,'L'] = df_filter[col].rolling(window_size).agg(aggr)\n",
    "    # rolling right by shifting the L column\n",
    "    df.loc[:, 'R'] = df.shift(-window_size + 1)['L']\n",
    "    \n",
    "    \n",
    "    col_name = col + aggr\n",
    "    diff_name = col_name + \"Diff\"\n",
    "    new_cols = org_cols +[col_name, diff_name]\n",
    "    if debug:\n",
    "        new_cols += [f'{col_name}L', f'{col_name}R']\n",
    "    # skips interpolation if value == 0\n",
    "    if interpolate:\n",
    "        # interpolate missing values\n",
    "        for c in ['L', 'R']:\n",
    "            df = interpolate(df, c, expand_limit=expand_limit)\n",
    "    # fill the margins\n",
    "    L_margin = df['L'].first_valid_index()\n",
    "    df.loc[:L_margin, 'L'] = df['R']\n",
    "    R_margin = df['R'].last_valid_index() + 1\n",
    "    df.loc[R_margin:, 'R'] = df['L']\n",
    "    \n",
    "    # normalize values \n",
    "    # should be only used for sum aggregations\n",
    "    if normalize and aggr == 'sum':\n",
    "    # normalize the data\n",
    "        # print('Normalizing data')\n",
    "        _min = df['L'].min()\n",
    "        _max = df['L'].max()\n",
    "        for c in ['L', 'R']:\n",
    "            df.loc[:,c] = (df[c] - _min) / (_max - _min)\n",
    "            \n",
    "    # get the Diff\n",
    "    df.loc[:,diff_name] = np.abs(df['R'] - df['L'])\n",
    "    # normalize to max\n",
    "    df.loc[:,diff_name] = df[diff_name] / df[diff_name].max()\n",
    "    # here, contribution of L and R is controlled by diff value\n",
    "    df.loc[:,col_name] = df['R'] * df[diff_name] + df['L'] * (1 - df[diff_name])\n",
    "    \n",
    "    # square the diff\n",
    "    df.loc[:,diff_name] = df[diff_name] ** diff_exp\n",
    "    \n",
    "    # reduce to the right columns\n",
    "    df = df.rename(columns=dict(L=f'{col_name}L', R=f'{col_name}R'))\n",
    "    return df[new_cols]\n",
    "\n",
    "\n",
    "def rolling_coverage(cov_df, config):\n",
    "    '''\n",
    "    cycle through the chroms and perform rolling window computations of data set in config\n",
    "    '''\n",
    "\n",
    "    # split the params dict for easier access\n",
    "    params = config['coverage']\n",
    "    filter_params = params['filter']\n",
    "    data_params = params['data']\n",
    "    # get the params for filtering\n",
    "    min_cov = filter_params['min_cov']\n",
    "    min_PON_cov = filter_params['min_PON_cov']\n",
    "    max_PON_std = filter_params['max_PON_std']\n",
    "    chrom_dfs = []\n",
    "    for chrom in cov_df['Chr'].unique():\n",
    "        # restrict to chrom\n",
    "        chrom_df = cov_df.query('Chr == @chrom').sort_values('FullExonPos')\n",
    "        # filter df\n",
    "        filter_df = chrom_df.query(\n",
    "            'Coverage >= @min_cov and PONmeanCov >= @min_PON_cov and PONstd < @max_PON_std')\n",
    "        for data_col in data_params.keys():\n",
    "            for agg in data_params[data_col].keys():\n",
    "                window_size = data_params[data_col][agg]\n",
    "                expand_limit = int(params['expand'] * window_size)\n",
    "                # print(f\"Computing rolling window for {agg} of {data_col} with window size {window_size} on {chrom}\")\n",
    "                chrom_df = one_col_rolling(chrom_df, filter_df, data_col, agg, \n",
    "                window_size=window_size,\n",
    "                expand_limit=expand_limit, \n",
    "                normalize=params['normalize'],\n",
    "                diff_exp=config['diff_exp'],\n",
    "                debug=config['debug'])\n",
    "        chrom_dfs.append(chrom_df)\n",
    "    df = pd.concat(chrom_dfs).sort_values('FullExonPos')\n",
    "    return df"
   ]
  },
  {
   "cell_type": "code",
   "execution_count": null,
   "metadata": {
    "ExecuteTime": {
     "end_time": "2020-10-28T19:58:52.967072Z",
     "start_time": "2020-10-28T19:58:50.709727Z"
    }
   },
   "outputs": [],
   "source": [
    "########### CONFIG ##################\n",
    "# put all the parameters for the rolling into a dict\n",
    "# needs to contain:\n",
    "# - filter criteria for the data to be used for rolling\n",
    "# - the actual data columns with\n",
    "#   - and interpolation size\n",
    "config = {\n",
    "    'debug': True, # also export the left and right rolling window values (L/R)\n",
    "    'diff_exp': 4, # the exponent for the diff function --> higher values make steeper peaks\n",
    "    'coverage': {\n",
    "        'filter': dict(\n",
    "            min_cov = 0,\n",
    "            min_PON_cov = 1,\n",
    "            max_PON_std = 1000,\n",
    "        ),\n",
    "        'normalize':False,\n",
    "        'expand':0.5, # after interpolation of rolling data from filtered df into full df, interpolate missing data within this fraction of window size, set 0 if no interpolation is wanted\n",
    "        'data': {\n",
    "            'log2ratio': {\n",
    "                'mean':250\n",
    "            }\n",
    "        }\n",
    "    }\n",
    "}\n",
    "\n",
    "cov2_df = rolling_coverage(cov_df, config)\n",
    "cov2_df[20:50]"
   ]
  },
  {
   "cell_type": "code",
   "execution_count": null,
   "metadata": {
    "ExecuteTime": {
     "end_time": "2020-10-28T19:58:55.435233Z",
     "start_time": "2020-10-28T19:58:53.759028Z"
    }
   },
   "outputs": [],
   "source": [
    "log2mean = dict(\n",
    "        title='rollinglog2ratio',\n",
    "        plot_type='line',   # ['line', 'scatter']\n",
    "        data='log2ratiomean',\n",
    "        plot_args=dict(\n",
    "            linewidth=1,\n",
    "            color='yellow',\n",
    "            alpha=.7\n",
    "        )\n",
    "    )\n",
    "\n",
    "\n",
    "log2diff = dict(\n",
    "        title='rollinglog2ratio',\n",
    "        plot_type='line',   # ['line', 'scatter']\n",
    "        data='log2ratiomeanDiff',\n",
    "        plot_args=dict(\n",
    "            linewidth=1,\n",
    "            color='blue',\n",
    "            alpha=.7\n",
    "        ))\n",
    "\n",
    "log2L = dict(\n",
    "        title='rollinglog2ratio',\n",
    "        plot_type='line',   # ['line', 'scatter']\n",
    "        data='log2ratiomeanL',\n",
    "        plot_args=dict(\n",
    "            linewidth=1,\n",
    "            color='white',\n",
    "            alpha=.7\n",
    "        ))\n",
    "\n",
    "log2R = dict(\n",
    "        title='rollinglog2ratio',\n",
    "        plot_type='line',   # ['line', 'scatter']\n",
    "        data='log2ratiomeanR',\n",
    "        plot_args=dict(\n",
    "            linewidth=1,\n",
    "            color='black',\n",
    "            alpha=.7\n",
    "        ))\n",
    "\n",
    "_, _, _, _ = plot_genomic(cov2_df, plots=[log2,log2mean], chroms='all', region='', **fig_params)"
   ]
  },
  {
   "cell_type": "code",
   "execution_count": null,
   "metadata": {
    "ExecuteTime": {
     "end_time": "2020-10-28T19:58:57.142571Z",
     "start_time": "2020-10-28T19:58:55.871418Z"
    }
   },
   "outputs": [],
   "source": [
    "_, _, _, _ = plot_genomic(cov2_df, plots=[log2,log2mean], chroms=chroms, region='', **fig_params)"
   ]
  },
  {
   "cell_type": "code",
   "execution_count": null,
   "metadata": {
    "ExecuteTime": {
     "end_time": "2020-10-28T19:58:58.708851Z",
     "start_time": "2020-10-28T19:58:57.528902Z"
    }
   },
   "outputs": [],
   "source": [
    "plots = [\n",
    "    log2,\n",
    "    log2mean,\n",
    "    log2diff,\n",
    "    log2L,\n",
    "    log2R\n",
    "]\n",
    "\n",
    "_, _, _, _ = plot_genomic(cov2_df, plots=plots, chroms=chroms, region='chr17', **fig_params)"
   ]
  },
  {
   "cell_type": "code",
   "execution_count": null,
   "metadata": {
    "ExecuteTime": {
     "end_time": "2020-10-28T20:01:10.180719Z",
     "start_time": "2020-10-28T20:01:09.014767Z"
    }
   },
   "outputs": [],
   "source": [
    "plots = [\n",
    "    log2,\n",
    "    log2mean,\n",
    "    log2diff,\n",
    "    log2L,\n",
    "    log2R\n",
    "]\n",
    "fig_params.update({'ylim': (-1.5,0.8)})\n",
    "_, _, _, _ = plot_genomic(cov2_df, plots=plots, chroms=chroms, region=r1, **fig_params)"
   ]
  },
  {
   "cell_type": "markdown",
   "metadata": {},
   "source": [
    "### test different window sizes for log2ratio"
   ]
  },
  {
   "cell_type": "code",
   "execution_count": null,
   "metadata": {
    "ExecuteTime": {
     "end_time": "2020-10-28T20:01:15.288103Z",
     "start_time": "2020-10-28T20:01:11.996951Z"
    }
   },
   "outputs": [],
   "source": [
    "plots = [\n",
    "    log2,\n",
    "    log2mean,\n",
    "    log2diff,\n",
    "    log2L,\n",
    "    log2R\n",
    "]\n",
    "\n",
    "# this is only part of the config - snp config is omitted\n",
    "config = {\n",
    "    'debug': True, # also export the left and right rolling window values (L/R)\n",
    "    'diff_exp': 4, # the exponent for the diff function --> higher values make steeper peaks\n",
    "    'coverage': {\n",
    "        'filter': dict(\n",
    "            min_cov = 30,\n",
    "            min_PON_cov = 40,\n",
    "            max_PON_std = 100,\n",
    "        ),\n",
    "        'normalize':False,\n",
    "        'expand':0.2, # after interpolation of rolling data from filtered df into full df, interpolate missing data within this fraction of window size, set 0 if no interpolation is wanted\n",
    "        'data': {\n",
    "            'log2ratio': {\n",
    "                'mean':50\n",
    "            }\n",
    "        }\n",
    "    }\n",
    "}\n",
    "\n",
    "\n",
    "cov2_df = rolling_coverage(cov_df, config)\n",
    "_, _, _, _ = plot_genomic(cov2_df, plots=plots, chroms=chroms, region='chr17', **fig_params)"
   ]
  },
  {
   "cell_type": "code",
   "execution_count": null,
   "metadata": {
    "ExecuteTime": {
     "end_time": "2020-10-28T20:01:23.025817Z",
     "start_time": "2020-10-28T20:01:21.855050Z"
    }
   },
   "outputs": [],
   "source": [
    "_, _, _, _ = plot_genomic(cov2_df, plots=plots, chroms=chroms, region=r1, **fig_params)"
   ]
  },
  {
   "cell_type": "markdown",
   "metadata": {},
   "source": [
    "## merge coverage data into SNP\n",
    "+ reduce to important columns"
   ]
  },
  {
   "cell_type": "code",
   "execution_count": null,
   "metadata": {
    "ExecuteTime": {
     "end_time": "2020-10-28T20:01:35.275965Z",
     "start_time": "2020-10-28T20:01:35.269440Z"
    }
   },
   "outputs": [],
   "source": [
    "def interpolate_fullexonpon(merge_df):\n",
    "    chrom_dfs = []\n",
    "    for chrom in merge_df['Chr'].unique():\n",
    "        chrom_df = merge_df.query('Chr == @chrom')\n",
    "        chrom_df = interpolate(chrom_df, 'FullExonPos', ref_col='Pos', expand_limit=1000000)\n",
    "        chrom_dfs.append(chrom_df)\n",
    "    df = pd.concat(chrom_dfs).sort_values('FullExonPos')\n",
    "    df.loc[:, 'FullExonPos'] = df['FullExonPos'].astype(int)\n",
    "    return df\n",
    "\n",
    "\n",
    "def mergeSNPnCov(cov_df, snp_df):\n",
    "    \n",
    "    # reduce the data to important columns\n",
    "    # snp\n",
    "    snp_keep_cols = list(snp_df.columns)[:3] + ['Depth', 'EBscore', 'VAF']\n",
    "    snp_df = snp_df.loc[:, snp_keep_cols]\n",
    "    # cov\n",
    "    cov_keep_cols = list(cov2_df.columns)[:4] + ['log2ratio', 'log2ratiomean', 'log2ratiomeanDiff']\n",
    "    cov_df = cov_df.loc[:, cov_keep_cols]\n",
    "    \n",
    "    # merge the data\n",
    "    merge_df = cov_df.merge(snp_df, on=list(snp_df.columns[:3]), how='outer')\n",
    "    \n",
    "    # interpolate FullExonPos\n",
    "    merge_df = interpolate_fullexonpon(merge_df)\n",
    "\n",
    "    # interpolate the data\n",
    "    for col in [col for col in merge_df.columns if 'log2ratio' in col]:\n",
    "        merge_df = interpolate(merge_df, col, expand_limit=100)\n",
    "    # reduce to VAF values\n",
    "    snpcov_df = merge_df.query('VAF == VAF')\n",
    "    cov_df = cov_df.query('log2ratiomean == log2ratiomean')\n",
    "    return snpcov_df, cov_df"
   ]
  },
  {
   "cell_type": "code",
   "execution_count": null,
   "metadata": {
    "ExecuteTime": {
     "end_time": "2020-10-28T20:02:04.477989Z",
     "start_time": "2020-10-28T20:01:59.869850Z"
    }
   },
   "outputs": [],
   "source": [
    "merge_df, _ = mergeSNPnCov(cov2_df, snp_df)\n",
    "merge_df.query('FullExonPos != FullExonPos')"
   ]
  },
  {
   "cell_type": "code",
   "execution_count": null,
   "metadata": {
    "ExecuteTime": {
     "end_time": "2020-10-28T20:02:05.976237Z",
     "start_time": "2020-10-28T20:02:05.961936Z"
    }
   },
   "outputs": [],
   "source": [
    "# non-fitters are greatly reduced\n",
    "merge_df.query('log2ratiomean != log2ratiomean')"
   ]
  },
  {
   "cell_type": "markdown",
   "metadata": {},
   "source": [
    "### bring it all together"
   ]
  },
  {
   "cell_type": "code",
   "execution_count": null,
   "metadata": {
    "ExecuteTime": {
     "end_time": "2020-10-28T15:31:58.698533Z",
     "start_time": "2020-10-28T15:31:58.695337Z"
    }
   },
   "outputs": [],
   "source": [
    "def apply_rolling_coverage(snp_df, cov_df, config):\n",
    "    '''\n",
    "    master function for rolling coverage\n",
    "    '''\n",
    "    # reduce cov_df to valid data\n",
    "    cov_df = cov_df.query('log2ratio == log2ratio')\n",
    "    \n",
    "    cov_df = rolling_coverage(cov_df, config)\n",
    "    \n",
    "    snpcov_df, rolling_cov_df = mergeSNPnCov(cov_df, snp_df)\n",
    "    \n",
    "    return snpcov_df, rolling_cov_df"
   ]
  },
  {
   "cell_type": "code",
   "execution_count": null,
   "metadata": {
    "ExecuteTime": {
     "end_time": "2020-10-28T20:02:37.374200Z",
     "start_time": "2020-10-28T20:02:30.640295Z"
    }
   },
   "outputs": [],
   "source": [
    "snpcov_df, rolling_cov_df = apply_rolling_coverage(snp_df, cov_df, config)"
   ]
  },
  {
   "cell_type": "code",
   "execution_count": null,
   "metadata": {
    "ExecuteTime": {
     "end_time": "2020-10-27T14:12:25.637647Z",
     "start_time": "2020-10-27T14:12:25.624035Z"
    }
   },
   "outputs": [],
   "source": [
    "snpcov_df"
   ]
  },
  {
   "cell_type": "code",
   "execution_count": null,
   "metadata": {
    "ExecuteTime": {
     "end_time": "2020-10-27T14:07:08.300432Z",
     "start_time": "2020-10-27T14:07:08.289577Z"
    }
   },
   "outputs": [],
   "source": [
    "rolling_cov_df"
   ]
  },
  {
   "cell_type": "code",
   "execution_count": null,
   "metadata": {
    "ExecuteTime": {
     "end_time": "2020-10-28T20:02:44.048317Z",
     "start_time": "2020-10-28T20:02:44.045018Z"
    }
   },
   "outputs": [],
   "source": [
    "vaf = dict(\n",
    "        title='VAF',\n",
    "        plot_type='scatter',   # ['line', 'scatter']\n",
    "        data='VAF',\n",
    "        plot_args=dict(\n",
    "            linewidth=0.3,\n",
    "            color='black',\n",
    "            s=5,\n",
    "            alpha=1\n",
    "        ))"
   ]
  },
  {
   "cell_type": "code",
   "execution_count": null,
   "metadata": {
    "ExecuteTime": {
     "end_time": "2020-10-28T20:02:45.316499Z",
     "start_time": "2020-10-28T20:02:44.603691Z"
    }
   },
   "outputs": [],
   "source": [
    "_, _, _, _ = plot_genomic(snpcov_df, plots=[log2mean, vaf], chroms=chroms, region='', **fig_params)"
   ]
  }
 ],
 "metadata": {
  "kernelspec": {
   "display_name": "Python 3",
   "language": "python",
   "name": "python3"
  },
  "language_info": {
   "codemirror_mode": {
    "name": "ipython",
    "version": 3
   },
   "file_extension": ".py",
   "mimetype": "text/x-python",
   "name": "python",
   "nbconvert_exporter": "python",
   "pygments_lexer": "ipython3",
   "version": "3.8.6"
  },
  "varInspector": {
   "cols": {
    "lenName": 16,
    "lenType": 16,
    "lenVar": 40
   },
   "kernels_config": {
    "python": {
     "delete_cmd_postfix": "",
     "delete_cmd_prefix": "del ",
     "library": "var_list.py",
     "varRefreshCmd": "print(var_dic_list())"
    },
    "r": {
     "delete_cmd_postfix": ") ",
     "delete_cmd_prefix": "rm(",
     "library": "var_list.r",
     "varRefreshCmd": "cat(var_dic_list()) "
    }
   },
   "types_to_exclude": [
    "module",
    "function",
    "builtin_function_or_method",
    "instance",
    "_Feature"
   ],
   "window_display": false
  }
 },
 "nbformat": 4,
 "nbformat_minor": 4
}
