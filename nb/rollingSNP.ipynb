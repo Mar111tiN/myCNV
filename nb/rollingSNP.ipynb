{
 "cells": [
  {
   "cell_type": "code",
   "execution_count": 1,
   "metadata": {
    "ExecuteTime": {
     "end_time": "2020-11-14T06:20:46.235920Z",
     "start_time": "2020-11-14T06:20:45.446765Z"
    }
   },
   "outputs": [],
   "source": [
    "# HOME\n",
    "import os\n",
    "import matplotlib as mpl\n",
    "import matplotlib.pyplot as plt\n",
    "# use seaborn plotting defaults\n",
    "import seaborn as sns; sns.set()\n",
    "\n",
    "######## need to find the chained assignment!!!\n",
    "pd.set_option('mode.chained_assignment', None)\n",
    "\n",
    "# get the code\n",
    "import sys\n",
    "sys.path.append('../scripts')\n",
    "from codeCNV.plot import plot_snp, plot_2d, plot_3d\n",
    "from codeCNV.rollingSNP import apply_rolling_SNP\n",
    "from script_utils import show_output\n",
    "\n",
    "home = '/Users/mahtin'\n",
    "# home = '/Users/martinscience'\n",
    "# standard paths\n",
    "testdata = os.path.join(home,\"Dropbox/Icke/Work/somVar/testdata\")\n",
    "static_path = os.path.join(home, \"Dropbox/Icke/Work/static\")\n",
    "cluster_path = os.path.join(home, \"mount\")\n",
    "tooldata = os.path.join(home, \"Dropbox/Icke/Work/somVar/tooldata\")\n",
    "\n",
    "# load the config\n",
    "# edit config directly in yaml file\n",
    "import yaml\n",
    "config_file = '../config/config_devel.yaml'\n",
    "def get_config(config_file, param):\n",
    "        with open(config_file) as file:\n",
    "        # The FullLoader parameter handles the conversion from YAML\n",
    "        # scalar values to Python the dictionary format\n",
    "            config = yaml.load(file, Loader=yaml.FullLoader)['CNV'][param]\n",
    "        return config\n",
    "config = get_config(config_file, 'combine')\n",
    "\n",
    "# \n",
    "cnvdata = os.path.join(tooldata, \"myCNVdata\")\n",
    "output_path = os.path.join(cnvdata, \"output\")"
   ]
  },
  {
   "cell_type": "markdown",
   "metadata": {},
   "source": [
    "## run the code and visualize"
   ]
  },
  {
   "cell_type": "code",
   "execution_count": null,
   "metadata": {
    "ExecuteTime": {
     "end_time": "2020-11-14T05:51:46.430271Z",
     "start_time": "2020-11-14T05:51:37.818113Z"
    }
   },
   "outputs": [],
   "source": [
    "log2 = dict(\n",
    "        title='log2ratio',\n",
    "        plot_type='scatter',   # ['line', 'scatter']\n",
    "        data='log2ratio',\n",
    "        plot_args=dict(\n",
    "            linewidth=0.3,\n",
    "            c='covCNVcore',\n",
    "            cmap='binary',\n",
    "            # color='black',\n",
    "            s=1,\n",
    "            alpha=.7\n",
    "        )\n",
    "    )\n",
    "\n",
    "log2mean = dict(\n",
    "        title='rollinglog2ratio',\n",
    "        plot_type='line',   # ['line', 'scatter']\n",
    "        data='log2ratiomean',\n",
    "        plot_args=dict(\n",
    "            linewidth=1,\n",
    "            color='yellow',\n",
    "            alpha=.7\n",
    "        )\n",
    "    )\n",
    "\n",
    "vaf = dict(\n",
    "        title='VAF',\n",
    "        plot_type='scatter',  # ['line', 'scatter']\n",
    "        data='VAF',\n",
    "        plot_args=dict(\n",
    "            s=2,\n",
    "            color='black',\n",
    "            alpha=.7\n",
    "        )\n",
    "    )\n",
    "\n",
    "absvaf = dict(\n",
    "        title='absVAF',\n",
    "        plot_type='scatter',   # ['line', 'scatter']\n",
    "        data='absVAF',\n",
    "        plot_args=dict(\n",
    "            linewidth=0.2,\n",
    "            c='snpCNVcore',\n",
    "            cmap='binary',\n",
    "            s=5,\n",
    "            alpha=1\n",
    "        ))\n",
    "\n",
    "absvafmean = dict(\n",
    "        title='absVAFmean',\n",
    "        plot_type='line',   # ['line', 'scatter']\n",
    "        data='absVAFmean',\n",
    "        plot_args=dict(\n",
    "            linewidth=1,\n",
    "            color='yellow',\n",
    "            alpha=.7\n",
    "        )\n",
    "    )\n",
    "\n",
    "fig_params = dict(\n",
    "    figsize=(24,8),\n",
    "    colormap='coolwarm_r',\n",
    "    color_chroms=True,\n",
    "    ylim=(-0,1),\n",
    "    cov_offset=.1,  # how much log2ratio=0 is shifted above SNP-data\n",
    "    cov_height=.5,\n",
    "    label_size=13\n",
    ")\n",
    "chroms = ['chr3', 'chr4', 'chr5', 'chr6','chr7', 'chr9', 'chr12', 'chr17']\n",
    "r1 = 'chr17:3Mb-9Mb'\n",
    "\n",
    "sample = \"02_A\"\n",
    "snp_df = pd.read_csv(os.path.join(output_path, f'tmp/{sample}.snpcov.gz'), sep='\\t', compression='gzip')\n",
    "rsnp_df, cluster_df = apply_rolling_SNP(snp_df, config)"
   ]
  },
  {
   "cell_type": "code",
   "execution_count": null,
   "metadata": {},
   "outputs": [],
   "source": [
    "_ = plot_snp(cluster_df, snp_plots=[absvaf,absvafmean], cov_plots=[log2,log2mean], chroms='all', region='', **fig_params)\n",
    "#fig, ax, df, chrom_df"
   ]
  },
  {
   "cell_type": "markdown",
   "metadata": {},
   "source": [
    "### apply to samples"
   ]
  },
  {
   "cell_type": "code",
   "execution_count": 2,
   "metadata": {
    "ExecuteTime": {
     "end_time": "2020-11-14T06:23:59.388585Z",
     "start_time": "2020-11-14T06:20:53.526320Z"
    }
   },
   "outputs": [
    {
     "name": "stdout",
     "output_type": "stream",
     "text": [
      "\u001b[1;35;2m07:20:53\u001b[0m : \u001b[1;30;1mRunning sample 01_A\u001b[0m\n",
      "\u001b[1;30;1mRemoving falling SNPs\u001b[0m\n",
      "\u001b[1;30;1mComputing log-likelihood of VAF belonging to center gaussian [mean:0.47, sigma:0.019]\u001b[0m\n",
      "\u001b[1;30;1mComputing log-likelihood of VAF belonging to purity100  [mean:1, sigma:0.019]\u001b[0m\n",
      "Normalizing snpLLH sum\n",
      "Normalizing hsnpLLH sum\n",
      "\u001b[1;35;2m07:21:00\u001b[0m : \u001b[1;36;1mFinished sample 01_A\u001b[0m\n",
      "\u001b[1;35;2m07:21:00\u001b[0m : \u001b[1;30;1mRunning sample 01_B\u001b[0m\n",
      "\u001b[1;30;1mRemoving falling SNPs\u001b[0m\n",
      "\u001b[1;30;1mComputing log-likelihood of VAF belonging to center gaussian [mean:0.473, sigma:0.02]\u001b[0m\n",
      "\u001b[1;30;1mComputing log-likelihood of VAF belonging to purity100  [mean:1, sigma:0.02]\u001b[0m\n",
      "Normalizing snpLLH sum\n",
      "Normalizing hsnpLLH sum\n",
      "\u001b[1;35;2m07:21:10\u001b[0m : \u001b[1;36;1mFinished sample 01_B\u001b[0m\n",
      "\u001b[1;35;2m07:21:10\u001b[0m : \u001b[1;30;1mRunning sample 02_A\u001b[0m\n",
      "\u001b[1;30;1mRemoving falling SNPs\u001b[0m\n",
      "\u001b[1;30;1mComputing log-likelihood of VAF belonging to center gaussian [mean:0.472, sigma:0.018]\u001b[0m\n",
      "\u001b[1;30;1mComputing log-likelihood of VAF belonging to purity100  [mean:1, sigma:0.018]\u001b[0m\n",
      "Normalizing snpLLH sum\n",
      "Normalizing hsnpLLH sum\n",
      "\u001b[1;35;2m07:21:18\u001b[0m : \u001b[1;36;1mFinished sample 02_A\u001b[0m\n",
      "\u001b[1;35;2m07:21:18\u001b[0m : \u001b[1;30;1mRunning sample 02_B\u001b[0m\n",
      "\u001b[1;30;1mRemoving falling SNPs\u001b[0m\n",
      "\u001b[1;30;1mComputing log-likelihood of VAF belonging to center gaussian [mean:0.474, sigma:0.019]\u001b[0m\n",
      "\u001b[1;30;1mComputing log-likelihood of VAF belonging to purity100  [mean:1, sigma:0.019]\u001b[0m\n",
      "Normalizing snpLLH sum\n",
      "Normalizing hsnpLLH sum\n",
      "\u001b[1;35;2m07:21:27\u001b[0m : \u001b[1;36;1mFinished sample 02_B\u001b[0m\n",
      "\u001b[1;35;2m07:21:27\u001b[0m : \u001b[1;30;1mRunning sample 03_A\u001b[0m\n",
      "\u001b[1;30;1mRemoving falling SNPs\u001b[0m\n",
      "\u001b[1;30;1mComputing log-likelihood of VAF belonging to center gaussian [mean:0.472, sigma:0.018]\u001b[0m\n",
      "\u001b[1;30;1mComputing log-likelihood of VAF belonging to purity100  [mean:1, sigma:0.018]\u001b[0m\n",
      "Normalizing snpLLH sum\n",
      "Normalizing hsnpLLH sum\n",
      "\u001b[1;35;2m07:21:36\u001b[0m : \u001b[1;36;1mFinished sample 03_A\u001b[0m\n",
      "\u001b[1;35;2m07:21:36\u001b[0m : \u001b[1;30;1mRunning sample 03_B\u001b[0m\n",
      "\u001b[1;30;1mRemoving falling SNPs\u001b[0m\n",
      "\u001b[1;30;1mComputing log-likelihood of VAF belonging to center gaussian [mean:0.472, sigma:0.019]\u001b[0m\n",
      "\u001b[1;30;1mComputing log-likelihood of VAF belonging to purity100  [mean:1, sigma:0.019]\u001b[0m\n",
      "Normalizing snpLLH sum\n",
      "Normalizing hsnpLLH sum\n",
      "\u001b[1;35;2m07:21:46\u001b[0m : \u001b[1;36;1mFinished sample 03_B\u001b[0m\n",
      "\u001b[1;35;2m07:21:46\u001b[0m : \u001b[1;30;1mRunning sample 04_A\u001b[0m\n",
      "\u001b[1;30;1mRemoving falling SNPs\u001b[0m\n",
      "\u001b[1;30;1mComputing log-likelihood of VAF belonging to center gaussian [mean:0.474, sigma:0.02]\u001b[0m\n",
      "\u001b[1;30;1mComputing log-likelihood of VAF belonging to purity100  [mean:1, sigma:0.02]\u001b[0m\n",
      "Normalizing snpLLH sum\n",
      "Normalizing hsnpLLH sum\n",
      "\u001b[1;35;2m07:21:54\u001b[0m : \u001b[1;36;1mFinished sample 04_A\u001b[0m\n",
      "\u001b[1;35;2m07:21:54\u001b[0m : \u001b[1;30;1mRunning sample 04_B\u001b[0m\n",
      "\u001b[1;30;1mRemoving falling SNPs\u001b[0m\n",
      "\u001b[1;30;1mComputing log-likelihood of VAF belonging to center gaussian [mean:0.472, sigma:0.019]\u001b[0m\n",
      "\u001b[1;30;1mComputing log-likelihood of VAF belonging to purity100  [mean:1, sigma:0.019]\u001b[0m\n",
      "Normalizing snpLLH sum\n",
      "Normalizing hsnpLLH sum\n",
      "\u001b[1;35;2m07:22:03\u001b[0m : \u001b[1;36;1mFinished sample 04_B\u001b[0m\n",
      "\u001b[1;35;2m07:22:03\u001b[0m : \u001b[1;30;1mRunning sample 05_A\u001b[0m\n",
      "\u001b[1;30;1mRemoving falling SNPs\u001b[0m\n",
      "\u001b[1;30;1mComputing log-likelihood of VAF belonging to center gaussian [mean:0.471, sigma:0.019]\u001b[0m\n",
      "\u001b[1;30;1mComputing log-likelihood of VAF belonging to purity100  [mean:1, sigma:0.019]\u001b[0m\n",
      "Normalizing snpLLH sum\n",
      "Normalizing hsnpLLH sum\n",
      "\u001b[1;35;2m07:22:12\u001b[0m : \u001b[1;36;1mFinished sample 05_A\u001b[0m\n",
      "\u001b[1;35;2m07:22:12\u001b[0m : \u001b[1;30;1mRunning sample 05_B\u001b[0m\n",
      "\u001b[1;30;1mRemoving falling SNPs\u001b[0m\n",
      "\u001b[1;30;1mComputing log-likelihood of VAF belonging to center gaussian [mean:0.472, sigma:0.019]\u001b[0m\n",
      "\u001b[1;30;1mComputing log-likelihood of VAF belonging to purity100  [mean:1, sigma:0.019]\u001b[0m\n",
      "Normalizing snpLLH sum\n",
      "Normalizing hsnpLLH sum\n",
      "\u001b[1;35;2m07:22:22\u001b[0m : \u001b[1;36;1mFinished sample 05_B\u001b[0m\n",
      "\u001b[1;35;2m07:22:22\u001b[0m : \u001b[1;30;1mRunning sample 06_A\u001b[0m\n",
      "\u001b[1;30;1mRemoving falling SNPs\u001b[0m\n",
      "\u001b[1;30;1mComputing log-likelihood of VAF belonging to center gaussian [mean:0.472, sigma:0.019]\u001b[0m\n",
      "\u001b[1;30;1mComputing log-likelihood of VAF belonging to purity100  [mean:1, sigma:0.019]\u001b[0m\n",
      "Normalizing snpLLH sum\n",
      "Normalizing hsnpLLH sum\n",
      "\u001b[1;35;2m07:22:36\u001b[0m : \u001b[1;36;1mFinished sample 06_A\u001b[0m\n",
      "\u001b[1;35;2m07:22:36\u001b[0m : \u001b[1;30;1mRunning sample 06_B\u001b[0m\n",
      "\u001b[1;30;1mRemoving falling SNPs\u001b[0m\n",
      "\u001b[1;30;1mComputing log-likelihood of VAF belonging to center gaussian [mean:0.48, sigma:0.022]\u001b[0m\n",
      "\u001b[1;30;1mComputing log-likelihood of VAF belonging to purity100  [mean:1, sigma:0.022]\u001b[0m\n",
      "Normalizing snpLLH sum\n",
      "Normalizing hsnpLLH sum\n",
      "\u001b[1;35;2m07:22:47\u001b[0m : \u001b[1;36;1mFinished sample 06_B\u001b[0m\n",
      "\u001b[1;35;2m07:22:47\u001b[0m : \u001b[1;30;1mRunning sample 07_A\u001b[0m\n",
      "\u001b[1;30;1mRemoving falling SNPs\u001b[0m\n",
      "\u001b[1;30;1mComputing log-likelihood of VAF belonging to center gaussian [mean:0.477, sigma:0.021]\u001b[0m\n",
      "\u001b[1;30;1mComputing log-likelihood of VAF belonging to purity100  [mean:1, sigma:0.021]\u001b[0m\n",
      "Normalizing snpLLH sum\n",
      "Normalizing hsnpLLH sum\n",
      "\u001b[1;35;2m07:22:55\u001b[0m : \u001b[1;36;1mFinished sample 07_A\u001b[0m\n",
      "\u001b[1;35;2m07:22:55\u001b[0m : \u001b[1;30;1mRunning sample 07_B\u001b[0m\n",
      "\u001b[1;30;1mRemoving falling SNPs\u001b[0m\n",
      "\u001b[1;30;1mComputing log-likelihood of VAF belonging to center gaussian [mean:0.48, sigma:0.023]\u001b[0m\n",
      "\u001b[1;30;1mComputing log-likelihood of VAF belonging to purity100  [mean:1, sigma:0.023]\u001b[0m\n",
      "Normalizing snpLLH sum\n",
      "Normalizing hsnpLLH sum\n",
      "\u001b[1;35;2m07:23:04\u001b[0m : \u001b[1;36;1mFinished sample 07_B\u001b[0m\n",
      "\u001b[1;35;2m07:23:04\u001b[0m : \u001b[1;30;1mRunning sample 08_A\u001b[0m\n",
      "\u001b[1;30;1mRemoving falling SNPs\u001b[0m\n",
      "\u001b[1;30;1mComputing log-likelihood of VAF belonging to center gaussian [mean:0.472, sigma:0.019]\u001b[0m\n",
      "\u001b[1;30;1mComputing log-likelihood of VAF belonging to purity100  [mean:1, sigma:0.019]\u001b[0m\n",
      "Normalizing snpLLH sum\n",
      "Normalizing hsnpLLH sum\n",
      "\u001b[1;35;2m07:23:13\u001b[0m : \u001b[1;36;1mFinished sample 08_A\u001b[0m\n",
      "\u001b[1;35;2m07:23:13\u001b[0m : \u001b[1;30;1mRunning sample 08_B\u001b[0m\n",
      "\u001b[1;30;1mRemoving falling SNPs\u001b[0m\n",
      "\u001b[1;30;1mComputing log-likelihood of VAF belonging to center gaussian [mean:0.474, sigma:0.02]\u001b[0m\n",
      "\u001b[1;30;1mComputing log-likelihood of VAF belonging to purity100  [mean:1, sigma:0.02]\u001b[0m\n",
      "Normalizing snpLLH sum\n",
      "Normalizing hsnpLLH sum\n",
      "\u001b[1;35;2m07:23:21\u001b[0m : \u001b[1;36;1mFinished sample 08_B\u001b[0m\n",
      "\u001b[1;35;2m07:23:21\u001b[0m : \u001b[1;30;1mRunning sample 09_A\u001b[0m\n",
      "\u001b[1;30;1mRemoving falling SNPs\u001b[0m\n",
      "\u001b[1;30;1mComputing log-likelihood of VAF belonging to center gaussian [mean:0.472, sigma:0.02]\u001b[0m\n",
      "\u001b[1;30;1mComputing log-likelihood of VAF belonging to purity100  [mean:1, sigma:0.02]\u001b[0m\n",
      "Normalizing snpLLH sum\n",
      "Normalizing hsnpLLH sum\n",
      "\u001b[1;35;2m07:23:31\u001b[0m : \u001b[1;36;1mFinished sample 09_A\u001b[0m\n",
      "\u001b[1;35;2m07:23:31\u001b[0m : \u001b[1;30;1mRunning sample 09_B\u001b[0m\n",
      "\u001b[1;30;1mRemoving falling SNPs\u001b[0m\n",
      "\u001b[1;30;1mComputing log-likelihood of VAF belonging to center gaussian [mean:0.472, sigma:0.019]\u001b[0m\n",
      "\u001b[1;30;1mComputing log-likelihood of VAF belonging to purity100  [mean:1, sigma:0.019]\u001b[0m\n",
      "Normalizing snpLLH sum\n",
      "Normalizing hsnpLLH sum\n",
      "\u001b[1;35;2m07:23:40\u001b[0m : \u001b[1;36;1mFinished sample 09_B\u001b[0m\n",
      "\u001b[1;35;2m07:23:40\u001b[0m : \u001b[1;30;1mRunning sample 10_A\u001b[0m\n",
      "\u001b[1;30;1mRemoving falling SNPs\u001b[0m\n",
      "\u001b[1;30;1mComputing log-likelihood of VAF belonging to center gaussian [mean:0.479, sigma:0.021]\u001b[0m\n",
      "\u001b[1;30;1mComputing log-likelihood of VAF belonging to purity100  [mean:1, sigma:0.021]\u001b[0m\n",
      "Normalizing snpLLH sum\n",
      "Normalizing hsnpLLH sum\n",
      "\u001b[1;35;2m07:23:50\u001b[0m : \u001b[1;36;1mFinished sample 10_A\u001b[0m\n",
      "\u001b[1;35;2m07:23:50\u001b[0m : \u001b[1;30;1mRunning sample 10_B\u001b[0m\n",
      "\u001b[1;30;1mRemoving falling SNPs\u001b[0m\n",
      "\u001b[1;30;1mComputing log-likelihood of VAF belonging to center gaussian [mean:0.472, sigma:0.018]\u001b[0m\n",
      "\u001b[1;30;1mComputing log-likelihood of VAF belonging to purity100  [mean:1, sigma:0.018]\u001b[0m\n",
      "Normalizing snpLLH sum\n",
      "Normalizing hsnpLLH sum\n",
      "\u001b[1;35;2m07:23:59\u001b[0m : \u001b[1;36;1mFinished sample 10_B\u001b[0m\n"
     ]
    }
   ],
   "source": [
    "samples = [str(a+1).zfill(2) for a in range(10)]\n",
    "\n",
    "for sample in [f\"{s}_{t}\" for s in samples for t in ['A', 'B']]:\n",
    "    snp_file = os.path.join(output_path, f'tmp/{sample}.snpcov.gz')\n",
    "    \n",
    "    if os.path.isfile(snp_file):\n",
    "        show_output(f'Running sample {sample}', time=True)\n",
    "        # load\n",
    "        snp_df = pd.read_csv(snp_file, sep='\\t', compression='gzip')\n",
    "        # compute\n",
    "        rsnp_df, cluster_df = apply_rolling_SNP(snp_df, config)\n",
    "        # save\n",
    "        rsnp_df.to_csv(os.path.join(output_path, f'CNV/{sample}.roll.snp'), sep='\\t', index=False)\n",
    "        cluster_df.to_csv(os.path.join(output_path, f'CNV/{sample}.cluster'), sep='\\t', index=False)\n",
    "        show_output(f'Finished sample {sample}', time=True, color=\"success\")\n",
    "    else:\n",
    "        show_output(f\"Cannot find {sample}!\", color='warning')"
   ]
  },
  {
   "cell_type": "markdown",
   "metadata": {},
   "source": [
    "## Step by step"
   ]
  },
  {
   "cell_type": "markdown",
   "metadata": {},
   "source": [
    "### get the SNP data with FullExonPos"
   ]
  },
  {
   "cell_type": "code",
   "execution_count": null,
   "metadata": {},
   "outputs": [],
   "source": [
    "sample = \"01_A\"\n",
    "snp_df = pd.read_csv(os.path.join(output_path, f'tmp/{sample}.snpcov.gz'), sep='\\t', compression='gzip')\n",
    "snp_df"
   ]
  },
  {
   "cell_type": "markdown",
   "metadata": {},
   "source": [
    "## heteroSNP rolling window\n",
    "+ #### first, remove the zero SNPs to reduce data\n",
    "+ #### next, fallSNP have to be removed\n",
    "+ #### next, important local features have to be extracted:\n",
    "    * offVAF: distance measure from the meanVAF\n",
    "    * SNPdensity: measure of genomic spread of SNPs in order to find falling SNPs\n",
    "    * absVAF: absolute dist measure from meanVAF\n",
    "    * snpLLH: log-likelihood to belong the center gaussian\n",
    "    * hsnpLLH: log-likelihood to belong to VAF==1 (to identify high purity clones)\n",
    "\n",
    "+ #### next, these local features have to be computed with a rolling window to convert local to regional data"
   ]
  },
  {
   "cell_type": "markdown",
   "metadata": {},
   "source": [
    "### remove the fallSNP\n",
    "+ filter hSNPs against maxVAF\n",
    "+ compute genomic snp-density (stretch / window)\n",
    "+ combine with rolling offVAFsum\n",
    "+ remove the negative offVAF in that range"
   ]
  },
  {
   "cell_type": "code",
   "execution_count": null,
   "metadata": {
    "ExecuteTime": {
     "end_time": "2020-11-13T14:02:37.276594Z",
     "start_time": "2020-11-13T14:02:37.269991Z"
    }
   },
   "outputs": [],
   "source": [
    "from codeCNV.rollingCNV import interpolate, one_col_rolling, llh, get_blocks, rolling_data, get_CNV_blocks\n",
    "from script_utils import show_output\n",
    "\n",
    "def make_get_density(window_size=20):\n",
    "    '''\n",
    "    helper for returning a density computer for given window_size\n",
    "    '''\n",
    "    \n",
    "    def SNPdensity(data):\n",
    "        return (data.max() - data.min()) / window_size\n",
    "    return SNPdensity\n",
    "\n",
    "def remove_fallSNP(snp_df, mean=0.5, std=0.2, params={}):\n",
    "    '''\n",
    "    removes the falling SNP probably caused by mismapping\n",
    "    '''\n",
    "    \n",
    "    window = params['offVAFwindow']\n",
    "    cutoff = params['maxFallSNP']\n",
    "    \n",
    "    # get the density computer for rolling\n",
    "    get_SNPdensity = make_get_density(window)\n",
    "    # cycle through chroms\n",
    "    chrom_dfs = []\n",
    "    for chrom in snp_df['Chr'].unique():\n",
    "        df = snp_df.query('Chr == @chrom')\n",
    "  \n",
    "        # get the snp\n",
    "        df = one_col_rolling(df, df.query('VAF < 0.95'), 'ExonPos', get_SNPdensity, window_size=window, diff_exp=4)\n",
    "        df.loc[:, 'SNPdensity'] = df['SNPdensity'] / df['SNPdensity'].mean()\n",
    "    \n",
    "        # get the offVAFsum\n",
    "        df = one_col_rolling(df, df.query('VAF < 0.95'), 'offVAF', 'sum', window_size=window, normalize=True, diff_exp=4)\n",
    "    \n",
    "        # combine both metrices\n",
    "        df.loc[:, 'fallSNP'] = df['SNPdensity'] * df['offVAFsum']\n",
    "        # now remove the ones below average VAFstd\n",
    "        df = df.query('VAF > @mean - @std / 2 or fallSNP > @cutoff')\n",
    "        chrom_dfs.append(df)\n",
    "        \n",
    "    return pd.concat(chrom_dfs).sort_values('FullExonPos').reset_index(drop=True)"
   ]
  },
  {
   "cell_type": "markdown",
   "metadata": {},
   "source": [
    "### expand the LLH"
   ]
  },
  {
   "cell_type": "code",
   "execution_count": null,
   "metadata": {
    "ExecuteTime": {
     "end_time": "2020-11-13T14:02:38.482537Z",
     "start_time": "2020-11-13T14:02:38.476582Z"
    }
   },
   "outputs": [],
   "source": [
    "def compute_snp_llh(df, mean=0.5, sigma=0.2):\n",
    "    '''\n",
    "    computes the local log-likelihood of belonging to the center gaussian\n",
    "    '''\n",
    "        \n",
    "    show_output(f\"Computing log-likelihood of VAF belonging to center gaussian [mean:{round(mean, 3)}, sigma:{round(sigma,3)}]\")\n",
    "    df.loc[:, 'snpLLH'] = llh(df['VAF'], mean, sigma)\n",
    "    \n",
    "    # for homoSNPs reduce the VAFs to the ones above mean\n",
    "    upper_vafs = df.query('@mean < VAF')['VAF']\n",
    "    # then compute the hsnpLLH\n",
    "\n",
    "    show_output(f\"Computing log-likelihood of VAF belonging to purity100  [mean:1, sigma:{round(sigma,3)}]\")\n",
    "    # these are called hsnp\n",
    "    # upper_vafs only contains half the snps, the remaining have to be interpolated\n",
    "    df.loc[:, 'hsnpLLH'] = llh(upper_vafs, 1, sigma)\n",
    "    df = interpolate(df, 'hsnpLLH', expand_limit=50)\n",
    "    return df\n",
    "    \n",
    "\n",
    "def expand_SNPdata(snp_df, config):\n",
    "    '''\n",
    "    retrieve a few data columns locally to use rolling windows on\n",
    "    this needs to be done chromosome-wise in order to avoid gap effects\n",
    "    VAF limits are also applied here\n",
    "    '''\n",
    "        \n",
    "    # split the params dict for easier access\n",
    "    params = config['snp']\n",
    "    filter_params = params['filter']\n",
    "    # data_params = params['data']\n",
    "    \n",
    "    # reduce the snp_df using lower config limit\n",
    "    # upper limit has to be set later as we still need the homoSNP llh\n",
    "    VAFmin, VAFmax = filter_params['VAF']\n",
    "    snp_df = snp_df.query('@VAFmin < VAF')\n",
    "    \n",
    "    \n",
    "    # get std and mean of VAF\n",
    "    minVAF, maxVAF = params['LLH']['center_range']\n",
    "    # get the sigma and mean of the center band VAF (extracted as pd.Series center_vafs)\n",
    "    center_vafs = snp_df.query('@minVAF < VAF < @maxVAF')['VAF']\n",
    "    # get width of gaussian from std * sigma_factor\n",
    "    VAFstd = center_vafs.std()\n",
    "    VAFmean = center_vafs.mean()\n",
    "    \n",
    "    \n",
    "    # get additional features from VAFs\n",
    "    snp_df.loc[:, 'offVAF'] = (snp_df['VAF'] - VAFmean) * 2\n",
    "    # absolute values for cluster \n",
    "    snp_df.loc[:,'absVAF'] = np.abs(snp_df['offVAF'])    \n",
    "    \n",
    "    ########## remove fallSNP ########\n",
    "    fs_params = params['fallSNP']\n",
    "    if fs_params['run']:\n",
    "        show_output('Removing falling SNPs')\n",
    "        snp_df = remove_fallSNP(snp_df, mean=VAFmean, std=VAFstd, params=fs_params)\n",
    "     \n",
    "    ######## LLH  #####################\n",
    "    # get the snpLLH and hsnpLLH\n",
    "    # get config params\n",
    "    sigma = VAFstd * params['LLH']['sigma_factor']\n",
    "    # hsnpLLH is computed in order to rescue high absVAF that would have been filtered out\n",
    "    # lower VAF is already removed because density of VAF ~0 is highly irregular and would confound \n",
    "    snp_df = compute_snp_llh(snp_df, mean=VAFmean, sigma=sigma)\n",
    "\n",
    "    return snp_df.query('VAF < @VAFmax').reset_index(drop=True)"
   ]
  },
  {
   "cell_type": "code",
   "execution_count": null,
   "metadata": {
    "ExecuteTime": {
     "end_time": "2020-11-13T14:02:44.323494Z",
     "start_time": "2020-11-13T14:02:39.645713Z"
    }
   },
   "outputs": [],
   "source": [
    "config = get_config(config_file, 'combine')\n",
    "snp2_df = expand_SNPdata(snp_df, config)"
   ]
  },
  {
   "cell_type": "code",
   "execution_count": null,
   "metadata": {
    "ExecuteTime": {
     "end_time": "2020-11-13T14:02:45.852716Z",
     "start_time": "2020-11-13T14:02:45.405650Z"
    }
   },
   "outputs": [],
   "source": [
    "fig_params = dict(\n",
    "    figsize=(24,8),\n",
    "    colormap='coolwarm_r',\n",
    "    color_chroms=True,\n",
    "    ylim=(-0.02,1.05),\n",
    "    cov_offset=.1,  # how much log2ratio=0 is shifted above SNP-data\n",
    "    cov_height=.5,\n",
    "    label_size=13\n",
    ")\n",
    "\n",
    "\n",
    "absvaf = dict(\n",
    "        title='absVAF',\n",
    "        plot_type='scatter',   # ['line', 'scatter']\n",
    "        data='absVAF',\n",
    "        plot_args=dict(\n",
    "            linewidth=0.5,\n",
    "            color='blue',\n",
    "            s=2,\n",
    "            alpha=1\n",
    "        ))\n",
    "deltavaf = dict(\n",
    "        title='deltaVAF',\n",
    "        plot_type='scatter',   # ['line', 'scatter']\n",
    "        data='deltaVAF',\n",
    "        plot_args=dict(\n",
    "            linewidth=0.5,\n",
    "            color='green',\n",
    "            s=5,\n",
    "            alpha=1\n",
    "        ))\n",
    "\n",
    "offvaf = dict(\n",
    "        title='offVAF',\n",
    "        plot_type='scatter',   # ['line', 'scatter']\n",
    "        data='offVAF',\n",
    "        plot_args=dict(\n",
    "            linewidth=0.5,\n",
    "            color='blue',\n",
    "            s=5,\n",
    "            alpha=1\n",
    "        ))\n",
    "\n",
    "\n",
    "r1 = 'chr17:3Mb-9Mb'\n",
    "\n",
    "_ = plot_snp(snp2_df, snp_plots=[vaf], chroms=chroms, region='', **fig_params)\n",
    "# fig, ax, df, chrom_df"
   ]
  },
  {
   "cell_type": "markdown",
   "metadata": {},
   "source": [
    "## Rolling SNPdata"
   ]
  },
  {
   "cell_type": "code",
   "execution_count": null,
   "metadata": {
    "ExecuteTime": {
     "end_time": "2020-11-13T14:02:53.000562Z",
     "start_time": "2020-11-13T14:02:52.996673Z"
    }
   },
   "outputs": [],
   "source": [
    "def rolling_SNP(snp_df, config):\n",
    "    '''\n",
    "    cycle through the chroms and perform rolling window computations of snp data set in config\n",
    "    '''\n",
    "\n",
    "    # split the params dict for easier access\n",
    "    params = config['snp']\n",
    "    filter_params = params['filter']\n",
    "    data_params = params['rolling_data']\n",
    "    debug = config['debug']\n",
    "        \n",
    "    minDepth = filter_params['minDepth']\n",
    "    filter_df = snp_df.query('Depth >= @minDepth')\n",
    "    \n",
    "    rolling_df = rolling_data(snp_df, filter_df, expand=params['expand'], ddof=config['ddof'], debug=debug, data_params=data_params)\n",
    "    \n",
    "    return rolling_df"
   ]
  },
  {
   "cell_type": "markdown",
   "metadata": {},
   "source": [
    "### test rolling windows"
   ]
  },
  {
   "cell_type": "code",
   "execution_count": null,
   "metadata": {
    "ExecuteTime": {
     "end_time": "2020-11-13T14:02:56.374014Z",
     "start_time": "2020-11-13T14:02:54.873479Z"
    }
   },
   "outputs": [],
   "source": [
    "config = get_config(config_file, 'combine')\n",
    "snp3_df = rolling_SNP(snp2_df, config)"
   ]
  },
  {
   "cell_type": "markdown",
   "metadata": {},
   "source": [
    "## optimizing rolling windows"
   ]
  },
  {
   "cell_type": "markdown",
   "metadata": {
    "ExecuteTime": {
     "end_time": "2020-10-28T20:52:34.184064Z",
     "start_time": "2020-10-28T20:52:34.176055Z"
    }
   },
   "source": [
    "### VAF\n",
    "+ std  (20)\n",
    "+ var"
   ]
  },
  {
   "cell_type": "code",
   "execution_count": null,
   "metadata": {
    "ExecuteTime": {
     "end_time": "2020-11-13T14:02:59.422494Z",
     "start_time": "2020-11-13T14:02:57.488219Z"
    }
   },
   "outputs": [],
   "source": [
    "vaf = dict(\n",
    "        title='VAF',\n",
    "        plot_type='scatter',   # ['line', 'scatter']\n",
    "        data='VAF',\n",
    "        plot_args=dict(\n",
    "            linewidth=0.5,\n",
    "            color='blue',\n",
    "            s=5,\n",
    "            alpha=1\n",
    "        ))\n",
    "\n",
    "vafstd = dict(\n",
    "        title='VAFstd',\n",
    "        plot_type='line',   # ['line', 'scatter']\n",
    "        data='VAFstd',\n",
    "        plot_args=dict(\n",
    "            linewidth=1,\n",
    "            color='yellow',\n",
    "            alpha=.7\n",
    "        )\n",
    "    )\n",
    "\n",
    "vafstddiff = dict(\n",
    "        title='VAFstdDiff',\n",
    "        plot_type='line',   # ['line', 'scatter']\n",
    "        data='VAFstdDiff',\n",
    "        plot_args=dict(\n",
    "            linewidth=1,\n",
    "            color='blue',\n",
    "            alpha=.7\n",
    "        )\n",
    "    )\n",
    "\n",
    "\n",
    "config = get_config(config_file, 'combine')\n",
    "snp3_df = rolling_SNP(snp2_df, config)\n",
    "\n",
    "r1 = 'chr17:3Mb-9Mb'\n",
    "\n",
    "std_plots = [vaf,vafstd, vafstddiff]\n",
    "\n",
    "fig, ax, df, chrom_df = plot_snp(snp3_df, snp_plots=[vaf,vafstd], chroms=chroms, region='', **fig_params)"
   ]
  },
  {
   "cell_type": "markdown",
   "metadata": {},
   "source": [
    "### absVAF\n",
    "+ mean (20)\n",
    "+ std"
   ]
  },
  {
   "cell_type": "code",
   "execution_count": null,
   "metadata": {
    "ExecuteTime": {
     "end_time": "2020-11-13T14:03:02.487415Z",
     "start_time": "2020-11-13T14:03:00.511243Z"
    }
   },
   "outputs": [],
   "source": [
    "absvaf = dict(\n",
    "        title='absVAF',\n",
    "        plot_type='scatter',   # ['line', 'scatter']\n",
    "        data='absVAF',\n",
    "        plot_args=dict(\n",
    "            linewidth=0.5,\n",
    "            color='blue',\n",
    "            s=5,\n",
    "            alpha=1\n",
    "        ))\n",
    "\n",
    "absvafmean = dict(\n",
    "        title='absVAFmean',\n",
    "        plot_type='line',   # ['line', 'scatter']\n",
    "        data='absVAFmean',\n",
    "        plot_args=dict(\n",
    "            linewidth=1,\n",
    "            color='yellow',\n",
    "            alpha=.7\n",
    "        )\n",
    "    )\n",
    "\n",
    "absvafmeandiff = dict(\n",
    "        title='absVAFdiff',\n",
    "        plot_type='line',   # ['line', 'scatter']\n",
    "        data='absVAFmeanDiff',\n",
    "        plot_args=dict(\n",
    "            linewidth=1,\n",
    "            color='blue',\n",
    "            alpha=.7\n",
    "        )\n",
    "    )\n",
    "\n",
    "\n",
    "config = get_config(config_file, 'combine')\n",
    "snp3_df = rolling_SNP(snp2_df, config)\n",
    "\n",
    "\n",
    "r1 = 'chr17:3Mb-9Mb'\n",
    "mean_plots = [absvaf,absvafmean, absvafmeandiff]\n",
    "\n",
    "fig, ax, df, chrom_df = plot_snp(snp3_df, snp_plots=mean_plots, chroms=chroms, region='', **fig_params)"
   ]
  },
  {
   "cell_type": "markdown",
   "metadata": {},
   "source": [
    "### snpLLH"
   ]
  },
  {
   "cell_type": "code",
   "execution_count": null,
   "metadata": {
    "ExecuteTime": {
     "end_time": "2020-11-13T14:36:32.924745Z",
     "start_time": "2020-11-13T14:36:30.597940Z"
    }
   },
   "outputs": [],
   "source": [
    "snpllh = dict(\n",
    "        title='snpLLH',\n",
    "        plot_type='scatter',   # ['line', 'scatter']\n",
    "        data='snpLLH',\n",
    "        plot_args=dict(\n",
    "            linewidth=0.5,\n",
    "            color='blue',\n",
    "            s=5,\n",
    "            alpha=1\n",
    "        ))\n",
    "\n",
    "snpllhsum = dict(\n",
    "        title='snpLLHsum',\n",
    "        plot_type='line',   # ['line', 'scatter']\n",
    "        data='snpLLHsum',\n",
    "        plot_args=dict(\n",
    "            linewidth=1,\n",
    "            color='blue',\n",
    "            alpha=.7\n",
    "        )\n",
    "    )\n",
    "\n",
    "hsnpllhsum = dict(\n",
    "        title='hsnpLLHsum',\n",
    "        plot_type='line',   # ['line', 'scatter']\n",
    "        data='hsnpLLHsum',\n",
    "        plot_args=dict(\n",
    "            linewidth=1,\n",
    "            color='red',\n",
    "            alpha=.7\n",
    "        )\n",
    "    )\n",
    "\n",
    "\n",
    "snpllhsumdiff = dict(\n",
    "        title='snpLLHsumdiff',\n",
    "        plot_type='line',   # ['line', 'scatter']\n",
    "        data='snpLLHsumDiff',\n",
    "        plot_args=dict(\n",
    "            linewidth=1,\n",
    "            color='yellow',\n",
    "            alpha=.7\n",
    "        )\n",
    "    )\n",
    "\n",
    "\n",
    "config = get_config(config_file, 'combine')\n",
    "snp3_df = rolling_SNP(snp2_df, config)\n",
    "\n",
    "\n",
    "r1 = 'chr17:3Mb-9Mb'\n",
    "snpllh_plots = [vaf,snpllhsum, snpllhsumdiff]\n",
    "\n",
    "fig, ax, df, chrom_df = plot_snp(rSNP_df, snp_plots=snpllh_plots, chroms=chroms, region='chr17', **fig_params)"
   ]
  },
  {
   "cell_type": "markdown",
   "metadata": {},
   "source": [
    "## extract blocks of CNV for clustering\n",
    "+ needs to be done before the fusing with SNP in order to make use of high definition diff\n",
    "+ "
   ]
  },
  {
   "cell_type": "code",
   "execution_count": null,
   "metadata": {
    "ExecuteTime": {
     "end_time": "2020-11-13T14:04:16.775998Z",
     "start_time": "2020-11-13T14:04:16.272406Z"
    }
   },
   "outputs": [],
   "source": [
    "config = get_config(config_file, 'combine')\n",
    "rolling_snp_df = get_CNV_blocks(snp3_df, 'snpLLH', config)\n",
    "\n",
    "fig, ax, df, chrom_df = plot_snp(rolling_snp_df.query('snpCNVcore > 0'), snp_plots=[vaf,snpllhsum], chroms='all', region='', **fig_params)"
   ]
  },
  {
   "cell_type": "code",
   "execution_count": null,
   "metadata": {
    "ExecuteTime": {
     "end_time": "2020-11-13T14:07:07.723435Z",
     "start_time": "2020-11-13T14:07:07.288673Z"
    }
   },
   "outputs": [],
   "source": [
    "fig, ax, df, chrom_df = plot_snp(snp3_df.query('snpLLHsum < 0.2'), snp_plots=[vaf,snpllhsum], chroms=chroms, region='chr17', **fig_params)"
   ]
  },
  {
   "cell_type": "markdown",
   "metadata": {},
   "source": [
    "## bring all together\n",
    "+ center snp_df\n",
    "+ get extra data\n",
    "+ do the rolling"
   ]
  },
  {
   "cell_type": "code",
   "execution_count": null,
   "metadata": {
    "ExecuteTime": {
     "end_time": "2020-11-13T14:50:11.419445Z",
     "start_time": "2020-11-13T14:50:11.414732Z"
    }
   },
   "outputs": [],
   "source": [
    "def apply_rolling_SNP(snp_df, config):\n",
    "\n",
    "    # get extra data\n",
    "    snp_df = expand_SNPdata(snp_df, config)\n",
    "    # do the rolling\n",
    "    snp_df = rolling_SNP(snp_df, config)\n",
    "    # get the CNV and Center blocks\n",
    "    snp_df = get_CNV_blocks(snp_df, 'snpLLH', config)\n",
    "    \n",
    "    # select columns for output\n",
    "    base_cols = list(snp_df.columns[:4])\n",
    "\n",
    "    snp_cols = [col for col in snp_df.columns[4:] if not 'log2' in col and not 'cov' in col and not 'off' in col]\n",
    "    rolling_snp_df = snp_df[base_cols + snp_cols]\n",
    "    cluster_cols = ['log2ratio', 'log2ratiomean', 'VAF', 'absVAF', 'absVAFmean']\n",
    "    cluster_cols += [col for col in snp_df.columns if 'Center' in col or 'CNV' in col]\n",
    "    cluster_df = snp_df[base_cols + cluster_cols]\n",
    "    return rolling_snp_df, cluster_df"
   ]
  },
  {
   "cell_type": "code",
   "execution_count": null,
   "metadata": {
    "ExecuteTime": {
     "end_time": "2020-11-13T14:50:18.864885Z",
     "start_time": "2020-11-13T14:50:13.012480Z"
    }
   },
   "outputs": [],
   "source": [
    "rolling_snp_df, cluster_df = apply_rolling_SNP(snp_df, config)"
   ]
  },
  {
   "cell_type": "code",
   "execution_count": null,
   "metadata": {
    "ExecuteTime": {
     "end_time": "2020-11-13T14:50:49.638046Z",
     "start_time": "2020-11-13T14:50:49.615091Z"
    }
   },
   "outputs": [],
   "source": [
    "cluster_df"
   ]
  },
  {
   "cell_type": "code",
   "execution_count": null,
   "metadata": {},
   "outputs": [],
   "source": []
  }
 ],
 "metadata": {
  "kernelspec": {
   "display_name": "Python 3",
   "language": "python",
   "name": "python3"
  },
  "language_info": {
   "codemirror_mode": {
    "name": "ipython",
    "version": 3
   },
   "file_extension": ".py",
   "mimetype": "text/x-python",
   "name": "python",
   "nbconvert_exporter": "python",
   "pygments_lexer": "ipython3",
   "version": "3.8.6"
  },
  "varInspector": {
   "cols": {
    "lenName": 16,
    "lenType": 16,
    "lenVar": 40
   },
   "kernels_config": {
    "python": {
     "delete_cmd_postfix": "",
     "delete_cmd_prefix": "del ",
     "library": "var_list.py",
     "varRefreshCmd": "print(var_dic_list())"
    },
    "r": {
     "delete_cmd_postfix": ") ",
     "delete_cmd_prefix": "rm(",
     "library": "var_list.r",
     "varRefreshCmd": "cat(var_dic_list()) "
    }
   },
   "types_to_exclude": [
    "module",
    "function",
    "builtin_function_or_method",
    "instance",
    "_Feature"
   ],
   "window_display": false
  }
 },
 "nbformat": 4,
 "nbformat_minor": 4
}
