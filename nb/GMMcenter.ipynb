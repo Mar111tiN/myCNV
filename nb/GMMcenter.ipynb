{
 "cells": [
  {
   "cell_type": "markdown",
   "metadata": {},
   "source": [
    "# attempt to find centers in the cluster using GaussianMixtureModels\n",
    "+ proved not to be very stable"
   ]
  },
  {
   "cell_type": "code",
   "execution_count": null,
   "metadata": {
    "ExecuteTime": {
     "end_time": "2020-10-30T21:26:25.076166Z",
     "start_time": "2020-10-30T21:26:24.089458Z"
    }
   },
   "outputs": [],
   "source": [
    "# HOME\n",
    "import os\n",
    "import matplotlib as mpl\n",
    "import matplotlib.pyplot as plt\n",
    "# use seaborn plotting defaults\n",
    "import seaborn as sns; sns.set()\n",
    "\n",
    "# get the code\n",
    "import sys\n",
    "sys.path.append('../codeCNV')\n",
    "from cluster import center_data\n",
    "\n",
    "home = '/Users/mahtin'\n",
    "# home = '/Users/martinscience'\n",
    "# standard paths\n",
    "testdata = os.path.join(home,\"Dropbox/Icke/Work/somVar/testdata\")\n",
    "static_path = os.path.join(home, \"Dropbox/Icke/Work/static\")\n",
    "cluster_path = os.path.join(home, \"mount\")\n",
    "tooldata = os.path.join(home, \"Dropbox/Icke/Work/somVar/tooldata\")\n",
    "\n",
    "# load the config\n",
    "# edit config directly in yaml file\n",
    "config_file = '../config/config_devel.yaml'\n",
    "import yaml\n",
    "with open(config_file) as file:\n",
    "    # The FullLoader parameter handles the conversion from YAML\n",
    "    # scalar values to Python the dictionary format\n",
    "    config = yaml.load(file, Loader=yaml.FullLoader)['CNV']['cluster']\n",
    "# \n",
    "cnvdata = os.path.join(tooldata, \"myCNVdata\")\n",
    "output_path = os.path.join(cnvdata, \"output\")\n",
    "\n",
    "# the path to the input data\n",
    "cnv_path = os.path.join(cnvdata, \"cnv\")\n",
    "cnvPON_path = cnv_path = os.path.join(cnvdata, \"chromCov\")\n",
    "cnv_path = os.path.join(cluster_path, \"scratch/develop/PONcoverage/cnv\")\n",
    "cnvPON_path = os.path.join(cluster_path, \"scratch/develop/PONcoverage/chromCov\")"
   ]
  },
  {
   "cell_type": "code",
   "execution_count": null,
   "metadata": {
    "ExecuteTime": {
     "end_time": "2020-10-30T21:26:25.261345Z",
     "start_time": "2020-10-30T21:26:24.849Z"
    }
   },
   "outputs": [],
   "source": [
    "cnvPON_path"
   ]
  },
  {
   "cell_type": "markdown",
   "metadata": {},
   "source": [
    "## get the coverage and SNP data"
   ]
  },
  {
   "cell_type": "code",
   "execution_count": null,
   "metadata": {
    "ExecuteTime": {
     "end_time": "2020-10-30T21:26:25.945377Z",
     "start_time": "2020-10-30T21:26:25.847144Z"
    }
   },
   "outputs": [],
   "source": [
    "sample = \"01_A\"\n",
    "snp_df = pd.read_csv(os.path.join(output_path, f'cluster/{sample}.dbscan.csv'), sep='\\t')"
   ]
  },
  {
   "cell_type": "code",
   "execution_count": null,
   "metadata": {
    "ExecuteTime": {
     "end_time": "2020-10-30T21:26:26.448945Z",
     "start_time": "2020-10-30T21:26:26.418499Z"
    }
   },
   "outputs": [],
   "source": [
    "snp_df"
   ]
  },
  {
   "cell_type": "markdown",
   "metadata": {},
   "source": [
    "## run the code"
   ]
  },
  {
   "cell_type": "code",
   "execution_count": null,
   "metadata": {
    "ExecuteTime": {
     "end_time": "2020-10-30T21:26:28.928480Z",
     "start_time": "2020-10-30T21:26:27.395936Z"
    }
   },
   "outputs": [],
   "source": [
    "center_df = center_data(snp_df, config)\n",
    "center_df.loc[snp_df['Chr'] != \"chrX\", 'log2ratiomean'].mean()"
   ]
  },
  {
   "cell_type": "markdown",
   "metadata": {},
   "source": [
    "## center SNP and cov data using GMM\n",
    "+ #### first, the center cluster has to be fitted via clustering to identify the centers for mean correction\n",
    "+ #### chrX seems to have different log2ratio (maybe adjusted for XX and XY)"
   ]
  },
  {
   "cell_type": "code",
   "execution_count": null,
   "metadata": {
    "ExecuteTime": {
     "end_time": "2020-10-30T21:26:46.604096Z",
     "start_time": "2020-10-30T21:26:46.418159Z"
    }
   },
   "outputs": [],
   "source": [
    "plt.scatter(snp_df['log2ratiomean'], snp_df['VAF'], s=.1);"
   ]
  },
  {
   "cell_type": "code",
   "execution_count": null,
   "metadata": {
    "ExecuteTime": {
     "end_time": "2020-10-30T21:27:07.148837Z",
     "start_time": "2020-10-30T21:27:06.974422Z"
    }
   },
   "outputs": [],
   "source": [
    "merge = snp_df.query('Chr != \"chrX\"').query('0.05 < VAF < 0.95 and log2ratiomean == log2ratiomean')\n",
    "plt.scatter(merge['log2ratiomean'], merge['VAF'], s=.1);"
   ]
  },
  {
   "cell_type": "markdown",
   "metadata": {},
   "source": [
    "+ #### GMM clustering runs best for fitting the center mass\n",
    "    * clusters vary depending on init clusters"
   ]
  },
  {
   "cell_type": "code",
   "execution_count": null,
   "metadata": {
    "ExecuteTime": {
     "end_time": "2020-10-30T21:28:09.987568Z",
     "start_time": "2020-10-30T21:28:07.738264Z"
    }
   },
   "outputs": [],
   "source": [
    "from sklearn.mixture import GaussianMixture as GMM\n",
    "\n",
    "X = merge[['log2ratiomean', 'VAF']]\n",
    "X\n",
    "choice = range(5)\n",
    "fig, axes = plt.subplots(1, len(choice), figsize=(20,5))\n",
    "for i, components in enumerate(choice):\n",
    "    gmm = GMM(n_components=3, covariance_type='diag', n_init=2)\n",
    "    labels = gmm.fit_predict(X)\n",
    "    _, counts = np.unique(labels, return_counts=True)\n",
    "    print(np.max(counts))\n",
    "    _ = axes[i].scatter(X['log2ratiomean'], X['VAF'], c=labels, s=1)\n",
    "    # print(f'{components} components - AIC:', gmm.aic(X))\n",
    "    # print(f'{components} components - BIC:', gmm.bic(X))"
   ]
  },
  {
   "cell_type": "markdown",
   "metadata": {},
   "source": [
    "+ increasing n_init to 20 does the job:"
   ]
  },
  {
   "cell_type": "code",
   "execution_count": null,
   "metadata": {
    "ExecuteTime": {
     "end_time": "2020-10-30T21:28:54.087052Z",
     "start_time": "2020-10-30T21:28:46.167974Z"
    }
   },
   "outputs": [],
   "source": [
    "choice = range(5)\n",
    "fig, axes = plt.subplots(1, len(choice), figsize=(20,5))\n",
    "for i, components in enumerate(choice):\n",
    "    gmm = GMM(n_components=3, covariance_type='diag', n_init=25)\n",
    "    labels = gmm.fit_predict(X)\n",
    "    _, counts = np.unique(labels, return_counts=True)\n",
    "    print(np.max(counts))\n",
    "    _ = axes[i].scatter(X['log2ratiomean'], X['VAF'], c=labels, s=1)\n",
    "    # print(f'{components} components - AIC:', gmm.aic(X))\n",
    "    # print(f'{components} components - BIC:', gmm.bic(X))"
   ]
  },
  {
   "cell_type": "markdown",
   "metadata": {
    "ExecuteTime": {
     "end_time": "2020-10-26T17:59:34.654063Z",
     "start_time": "2020-10-26T17:59:34.649723Z"
    }
   },
   "source": [
    "+ get_centers computes the means from the best fit centers"
   ]
  },
  {
   "cell_type": "code",
   "execution_count": null,
   "metadata": {
    "ExecuteTime": {
     "end_time": "2020-10-28T12:06:56.786598Z",
     "start_time": "2020-10-28T12:06:56.780397Z"
    }
   },
   "outputs": [],
   "source": [
    "def get_centers(merge_df, runs=25, comps=3, VAF_limits=(0.05, 0.95), exclude_X=True):\n",
    "    '''\n",
    "    use GMM to identify the center cluster and get the means from that\n",
    "    because GMM occasionally does not identify the center cluster,\n",
    "    I let the GMM proceed several times and minimize the center cluster\n",
    "    next, the center cluster can be identified as the maximum center\n",
    "    '''\n",
    "    VAFmin, VAFmax = VAF_limits\n",
    "    # fit the centers to the data \n",
    "    if exclude_X:\n",
    "        merge_df = merge_df.query('Chr != \"chrX\"')     \n",
    "    X = merge_df.query('@VAFmin < VAF < @VAFmax and log2ratiomean == log2ratiomean')[['log2ratiomean', 'VAF']]\n",
    "\n",
    "    gmm = GMM(n_components=comps, covariance_type='diag', n_init=runs).fit(X)\n",
    "    labels = gmm.predict(X)\n",
    "    # get the size of the \n",
    "    _, counts = np.unique(labels, return_counts=True)\n",
    "    maxcount = np.max(counts)\n",
    "    centers = pd.DataFrame(gmm.means_, columns=['log2ratio', 'VAF'])\n",
    "    # get mean_cov and meanVAF from largest cluster\n",
    "    meanCov, meanVAF = centers.loc[np.argmax(counts)]\n",
    "    size = maxcount\n",
    "            \n",
    "    print(f'GMM using {runs} inits: center size {size} meanVAF = {round(meanVAF, 2)} meanCov={round(meanCov, 2)}')\n",
    "    \n",
    "    return meanCov, meanVAF, centers"
   ]
  },
  {
   "cell_type": "code",
   "execution_count": null,
   "metadata": {
    "ExecuteTime": {
     "end_time": "2020-10-28T12:06:59.782451Z",
     "start_time": "2020-10-28T12:06:58.600664Z"
    }
   },
   "outputs": [],
   "source": [
    "meanCov, meanVAF, centers = get_centers(merge)\n",
    "meanVAF"
   ]
  },
  {
   "cell_type": "code",
   "execution_count": null,
   "metadata": {
    "ExecuteTime": {
     "end_time": "2020-10-28T12:07:34.419997Z",
     "start_time": "2020-10-28T12:07:34.413498Z"
    }
   },
   "outputs": [],
   "source": [
    "config = {\n",
    "    'debug': False, # also export the left and right rolling window values (L/R)\n",
    "    'coverage': {\n",
    "        'filter': dict(\n",
    "            min_cov = 30,\n",
    "            min_PON_cov = 50,\n",
    "            max_PON_std = 100,\n",
    "        ),\n",
    "        'normalize':False,\n",
    "        'center': True,\n",
    "        'expand':0.2, # after interpolation of rolling data from filtered df into full df, interpolate missing data within this fraction of window size, set 0 if no interpolation is wanted\n",
    "        'data': {\n",
    "            'log2ratio': {\n",
    "                'mean':100\n",
    "            }\n",
    "        }\n",
    "    },\n",
    "    'heteroSNP': {\n",
    "        'filter': dict(\n",
    "            VAF=(0.05,0.95),\n",
    "            minDepth=30,\n",
    "            minEB=0.5\n",
    "        ),\n",
    "        'normalize': True,\n",
    "        'center':False,\n",
    "        'expand': 0.5,\n",
    "        'data': {\n",
    "            'absVAF': {\n",
    "                'sum': 20\n",
    "            },\n",
    "            'VAF': {\n",
    "                'std': 20\n",
    "            },\n",
    "            'deltaVAF': {\n",
    "                'std': 20\n",
    "            }\n",
    "        }\n",
    "    }\n",
    "}\n",
    "\n",
    "\n",
    "def center_data(snp_df, config):\n",
    "    '''\n",
    "    retrieve the centers for scaling using GMM\n",
    "    '''\n",
    "    \n",
    "    meanCov, meanVAF, _ = get_centers(snp_df, VAF_limits=config['heteroSNP']['filter']['VAF'])\n",
    "    # center coverage \n",
    "    if config['coverage']['center']:\n",
    "        print(\"log2ratio centered around\", meanCov)\n",
    "        snp_df.loc[:, 'log2ratiomean'] = snp_df['log2ratiomean'] - meanCov\n",
    "    if config['heteroSNP']['center']:\n",
    "        print(\"heteroSNP centered around\", meanVAF)\n",
    "        snp_df.loc[:, 'VAF'] = snp_df['VAF'] - meanVAF + 0.5\n",
    "    return snp_df"
   ]
  },
  {
   "cell_type": "code",
   "execution_count": null,
   "metadata": {
    "ExecuteTime": {
     "end_time": "2020-10-28T12:07:36.375939Z",
     "start_time": "2020-10-28T12:07:34.913306Z"
    }
   },
   "outputs": [],
   "source": [
    "snp_df = center_data(snp_df, config)\n",
    "snp_df.query('log2ratiomean != log2ratiomean')"
   ]
  }
 ],
 "metadata": {
  "kernelspec": {
   "display_name": "Python 3",
   "language": "python",
   "name": "python3"
  },
  "language_info": {
   "codemirror_mode": {
    "name": "ipython",
    "version": 3
   },
   "file_extension": ".py",
   "mimetype": "text/x-python",
   "name": "python",
   "nbconvert_exporter": "python",
   "pygments_lexer": "ipython3",
   "version": "3.8.6"
  },
  "varInspector": {
   "cols": {
    "lenName": 16,
    "lenType": 16,
    "lenVar": 40
   },
   "kernels_config": {
    "python": {
     "delete_cmd_postfix": "",
     "delete_cmd_prefix": "del ",
     "library": "var_list.py",
     "varRefreshCmd": "print(var_dic_list())"
    },
    "r": {
     "delete_cmd_postfix": ") ",
     "delete_cmd_prefix": "rm(",
     "library": "var_list.r",
     "varRefreshCmd": "cat(var_dic_list()) "
    }
   },
   "types_to_exclude": [
    "module",
    "function",
    "builtin_function_or_method",
    "instance",
    "_Feature"
   ],
   "window_display": false
  }
 },
 "nbformat": 4,
 "nbformat_minor": 4
}
