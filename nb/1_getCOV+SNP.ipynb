{
 "cells": [
  {
   "cell_type": "markdown",
   "metadata": {},
   "source": [
    "# getting SNP and coverage data from bam files or pileup files\n",
    "## python wrapper around samtools / mawktools\n",
    "+ bam --> mpileup --> clean --> filter --> pile2SNP\n",
    "+ mpileup --> clean --> filter --> pile2SNP\n",
    "+ cleanpileup --> filter --> pile2SNP\n",
    "## adds GCratio and genmap data (if available) to coverage"
   ]
  },
  {
   "cell_type": "code",
   "execution_count": null,
   "metadata": {
    "ExecuteTime": {
     "end_time": "2021-05-28T12:14:42.537274Z",
     "start_time": "2021-05-28T12:14:42.501291Z"
    }
   },
   "outputs": [],
   "source": [
    "# get the code\n",
    "import sys\n",
    "import os\n",
    "sys.path.append('../code')\n",
    "\n",
    "\n",
    "# import package functions\n",
    "from script_utils_CNV import get_CNVconfig, show_output, cmd2df\n",
    "from CNV_raw import TN2CNV\n",
    "\n",
    "# HOME\n",
    "home = '/Users/mahtin'\n",
    "home = '/Users/martinscience'\n",
    "\n",
    "# standard paths\n",
    "static = os.path.join(home, \"Dropbox/Icke/Work/static\")\n",
    "cluster_path = os.path.join(home, \"mount\")\n",
    "tooldata = os.path.join(home, \"Dropbox/Icke/Work/somVar/tooldata\")\n",
    "testdata = os.path.join(home,\"Dropbox/Icke/Work/somVar/testdata\")\n",
    "\n",
    " \n",
    "cnvdata = os.path.join(tooldata, \"myCNVdata\")\n",
    "output_path = os.path.join(cnvdata, \"output\")\n",
    "\n",
    "# the path to the input data\n",
    "cnv_path = os.path.join(cnvdata, \"cnv\")\n",
    "PONCOV_path = cnv_path = os.path.join(cnvdata, \"chromCov\")"
   ]
  },
  {
   "cell_type": "markdown",
   "metadata": {},
   "source": [
    "### get the config\n",
    "+ use the get_CNVconfig util function to update the general configs with the appropriate paths\n",
    "+ makes the config more pluggable"
   ]
  },
  {
   "cell_type": "code",
   "execution_count": null,
   "metadata": {
    "ExecuteTime": {
     "end_time": "2021-05-28T12:14:45.353577Z",
     "start_time": "2021-05-28T12:14:45.346114Z"
    }
   },
   "outputs": [],
   "source": [
    "CNVconfig = get_CNVconfig(\n",
    "    \"../config/config_CNV.yaml\", \n",
    "    local_config=dict(\n",
    "        mawk_path=\"../shell\",\n",
    "        bed_file=os.path.join(static, \"bed_files/SureSelect/hg38/SS_HAEv7_hg38_Padded.bed\"),\n",
    "        genome_split_path=os.path.join(static, \"genome/gatk/hg38/split\"),\n",
    "        gc_split_path=os.path.join(static, \"genome/gatk/hg38/split\"),\n",
    "        genmap_split_path=os.path.join(static, \"annotation/genmap/hg38/split\"),\n",
    "    ))\n",
    "CNVconfig"
   ]
  },
  {
   "cell_type": "markdown",
   "metadata": {},
   "source": [
    "## run the code\n",
    "### from cleanpileup"
   ]
  },
  {
   "cell_type": "code",
   "execution_count": null,
   "metadata": {
    "ExecuteTime": {
     "end_time": "2021-05-28T12:11:28.116368Z",
     "start_time": "2021-05-28T12:10:47.725920Z"
    }
   },
   "outputs": [],
   "source": [
    "sample = \"02\"\n",
    "chrom = \"chr1\"\n",
    "cov_df, snp_df = TN2CNV(\n",
    "    clean_TN_pileup_file=os.path.join(testdata, f\"cleanpileup/{sample}_A-B.{chrom}.gz\"),\n",
    "    chrom=chrom,\n",
    "    SNP_output=os.path.join(output_path, f\"pile2CNV/{sample}_A-B.{chrom}.snp\"),\n",
    "    config=CNVconfig\n",
    ")\n",
    "cov_df"
   ]
  },
  {
   "cell_type": "markdown",
   "metadata": {
    "ExecuteTime": {
     "end_time": "2021-05-19T10:30:23.774260Z",
     "start_time": "2021-05-19T10:28:07.001533Z"
    }
   },
   "source": [
    "###  from bam_files"
   ]
  },
  {
   "cell_type": "code",
   "execution_count": null,
   "metadata": {
    "ExecuteTime": {
     "end_time": "2021-05-28T08:47:02.554488Z",
     "start_time": "2021-05-28T08:44:56.713311Z"
    }
   },
   "outputs": [],
   "source": [
    "sample = \"02\"\n",
    "chrom = \"chr7\"\n",
    "\n",
    "cov_df, snp_df = TN2CNV(\n",
    "    normal_bam=os.path.join(testdata, f\"bam/{sample}_B.{chrom}.bam\"),\n",
    "    tumor_bam=os.path.join(testdata, f\"bam/{sample}_A.{chrom}.bam\"),\n",
    "    chrom=chrom,\n",
    "    SNP_output=os.path.join(output_path, f\"pile2CNV/{sample}_A-B.{chrom}.snp\"),\n",
    "    config=CNVconfig\n",
    ")\n",
    "cov_df"
   ]
  },
  {
   "cell_type": "markdown",
   "metadata": {},
   "source": [
    "##  the function\n",
    "+ wrapper around pile2CNV.mawk\n",
    "+ adds GC data if available\n",
    "+ adds genmap data if available"
   ]
  },
  {
   "cell_type": "code",
   "execution_count": null,
   "metadata": {
    "ExecuteTime": {
     "end_time": "2021-05-28T12:14:28.938236Z",
     "start_time": "2021-05-28T12:14:28.915131Z"
    }
   },
   "outputs": [],
   "source": [
    "def addGCratio(cov_df, chrom=\"\", gc_path=\"\", mode=\"100-10\"):\n",
    "    '''\n",
    "    adds the GCdata to the coverage data\n",
    "    gc_path is path to chrom-split gc-data\n",
    "    '''\n",
    "\n",
    "    # load gc data for that chromosome\n",
    "    gc_file = os.path.join(gc_path, f\"{chrom}.gc{mode}.gz\")\n",
    "    if os.path.isfile(gc_file):\n",
    "        try:\n",
    "            show_output(f\"Loading GC data for {chrom} from {gc_file}\")\n",
    "            gc_df = pd.read_csv(gc_file, sep=\"\\t\", compression=\"gzip\").rename(\n",
    "                {\"GC/AT\": \"GCratio\", \"Start\": \"Pos\"}, axis=1\n",
    "            )\n",
    "        except Exception as e:\n",
    "            show_output(f\"{e}: Could not load GC data for {chrom} from {gc_file}\", color=\"warning\")\n",
    "            return\n",
    "        # gc data has columns Start -> GC/AT\n",
    "        cov_df = cov_df.merge(gc_df, on=\"Pos\", how=\"left\")\n",
    "\n",
    "        return cov_df\n",
    "    else:\n",
    "        show_output(f\"Could not find GC file {gc_file}\", color=\"warning\")\n",
    "\n",
    "\n",
    "def addGenmap(*dfs, chrom=\"\", genmap_path=\"\", modes=[\"30_0\", \"50_0\", \"75_1\", \"100_2\"]):\n",
    "    '''\n",
    "    adds the genmap data to the coverage data\n",
    "    selects only the columns that are given in modes\n",
    "    choose from [\n",
    "        '30_0', '30_1', '30_2',\n",
    "        '50_0', '50_1', '50_2',\n",
    "        '75_0','75_1', '75_2', '75_3',\n",
    "        '100_0', '100_1', '100_2', '100_4',\n",
    "        '150_0','150_1', '150_2', '150_4']\n",
    "\n",
    "    '''\n",
    "\n",
    "    # load genmap data for that chromosome\n",
    "    genmap_file = os.path.join(genmap_path, f\"hg38_genmap.HAEv7.{chrom}.txt.gz\")\n",
    "\n",
    "    if os.path.isfile(genmap_file):\n",
    "        try:\n",
    "            cols = [\"Chr\", \"Pos\"] + modes\n",
    "            genmap_df = pd.read_csv(genmap_file, sep=\"\\t\", compression=\"gzip\").loc[:, cols].fillna(method=\"ffill\")\n",
    "            # rename the mappability cols\n",
    "            mode_rename = {mode: \"map\" + mode for mode in modes}\n",
    "            genmap_df = genmap_df.rename(mode_rename, axis=1)\n",
    "            show_output(f\"Loading mappability data for {chrom} from {genmap_file}\")\n",
    "        except Exception as e:\n",
    "            show_output(f\"{e}: Could not load mappability data for {chrom} from {genmap_file}\", color=\"warning\")\n",
    "            return\n",
    "        map_dfs = []\n",
    "        for df in dfs:\n",
    "            df = df.merge(genmap_df, on=[\"Chr\", \"Pos\"], how=\"left\")\n",
    "            # save cols\n",
    "            cols = df.columns\n",
    "            base_cols = [col for col in cols if col in [\n",
    "                \"Chr\", \"Start\", \"Pos\", \"ExonPos\", \"GCratio\"\n",
    "            ] or col.startswith(\"map\")]\n",
    "            data_cols = [col for col in cols if col not in base_cols]\n",
    "            df = df.loc[:, base_cols + data_cols]\n",
    "            map_dfs.append(df)\n",
    "        return map_dfs\n",
    "    else:\n",
    "        show_output(f\"Could not find genmap file {genmap_file}\", color=\"warning\")\n",
    "\n",
    "\n",
    "def TN2CNV(\n",
    "    normal_bam=\"\",\n",
    "    tumor_bam=\"\",\n",
    "    tumor_bams=[],\n",
    "    TN_pileup_file=\"\",  # mpileup from normalbam, tumorbam(s)\n",
    "    clean_TN_pileup_file=\"\",  # mpileup from normalbam, tumorbam(s) with cleanpileup.mawk already done\n",
    "    chrom=\"\",\n",
    "    config={},\n",
    "    SNP_output=\"\",\n",
    "):\n",
    "    \"\"\"\n",
    "    wrapper around CLI chain around the core tool pile2CNV.mawk\n",
    "\n",
    "    \"\"\"\n",
    "\n",
    "    # PARAMS\n",
    "    # unwrap mawk tools\n",
    "    def mawk(tool):\n",
    "        return os.path.join(config[\"mawk_path\"], f\"{tool}.mawk\")\n",
    "\n",
    "    sc = config[\"hetSNP\"]\n",
    "    cc = config[\"coverage\"]\n",
    "\n",
    "    # create the basic command and unpack required params\n",
    "    # ##### FILTERBED\n",
    "    filter_cmd = f\"{mawk('filterBed')} {config['bed_file']} -x -c {chrom}\"\n",
    "\n",
    "    if not SNP_output:\n",
    "        show_output(\"Output file for heteroSNP is missing!\", color=\"warning\")\n",
    "        return\n",
    "    # ##### PILE2CNV\n",
    "    cnv_cmd = f\"{mawk('pile2CNV')} -x -o {SNP_output} -v {sc['normalVAF'][0]} -V {sc['normalVAF'][1]} -d {sc['minDepth']} -c {cc['minCov']}\"\n",
    "\n",
    "    # combine\n",
    "    cmd = f\"{filter_cmd} | {cnv_cmd}\"\n",
    "\n",
    "    if clean_TN_pileup_file:\n",
    "        if os.path.splitext(clean_TN_pileup_file)[1] == \".gz\":\n",
    "            cmd = f\"gunzip < {clean_TN_pileup_file} | {cmd}\"\n",
    "        else:\n",
    "            cmd = f\"cat {clean_TN_pileup_file} | {cmd}\"\n",
    "    else:\n",
    "        # add the cleanup cmd if\n",
    "        cmd = f\"{mawk('cleanpileup')} -d | {cmd}\"\n",
    "        if TN_pileup_file:\n",
    "            if os.path.splitext(TN_pileup_file)[1] == \".gz\":\n",
    "                cmd = f\"gunzip < {TN_pileup_file} | {cmd}\"\n",
    "            else:\n",
    "                cmd = f\"cat {TN_pileup_file} | {cmd}\"\n",
    "        else:\n",
    "            # pileup has to be done\n",
    "            # get the bam files\n",
    "            if tumor_bams:\n",
    "                bams = \" \".join([normal_bam], tumor_bams)\n",
    "            else:\n",
    "                bams = f\"{normal_bam} {tumor_bam}\"\n",
    "            # get params from config\n",
    "            pc = config[\"pileup\"]\n",
    "            split_genome = os.path.join(config[\"genome_split_path\"], f\"{chrom}.fa\")\n",
    "            pileup_cmd = f\"samtools mpileup -f {split_genome} -l {config['bed_file']} -r {chrom} -q {pc['MAPQ']} -Q {pc['Q']} {bams}\"\n",
    "            cmd = f\"{pileup_cmd} | {cmd}\"\n",
    "    try:\n",
    "        cov_df = cmd2df(cmd, show=True, multi=False)\n",
    "    except Exception as e:\n",
    "        show_output(f\"There was an error using shell command <<{e}>>\", color=\"warning\")\n",
    "        return cmd\n",
    "\n",
    "    # add GC\n",
    "    if \"gc_split_path\" in config and os.path.isdir(gc_path := config['gc_split_path']):\n",
    "        cov_df = addGCratio(cov_df, chrom=chrom, gc_path=gc_path)\n",
    "    else:\n",
    "        show_output(f\"Could not find GC path {gc_path}\", color=\"warning\")\n",
    "\n",
    "    # add genmap data to both cov and snp data\n",
    "    if \"genmap_split_path\" in config and os.path.isdir(genmap_path := config['genmap_split_path']):\n",
    "        # reload snp_df from temp file\n",
    "        show_output(f\"Reloading raw heteroSNP data from {SNP_output}\")\n",
    "        snp_df = pd.read_csv(SNP_output, sep=\"\\t\")\n",
    "        cov_df, snp_df = addGenmap(cov_df, snp_df, chrom=chrom, genmap_path=genmap_path)\n",
    "        # resave snp_df\n",
    "        show_output(f\"Resaving annotated heteroSNP data to {SNP_output}\")\n",
    "        snp_df.to_csv(SNP_output, index=False, sep=\"\\t\")\n",
    "    else:\n",
    "        show_output(f\"Could not find genmap path {genmap_path}\", color=\"warning\")\n",
    "    return cov_df, snp_df\n",
    "\n",
    "\n",
    "def get_heteroSNP(bam_file, chrom, config):\n",
    "    \"\"\"\n",
    "    LEGACY\n",
    "    creates a table of all heteroSNP for a given chromosome and the respective VAFs\n",
    "    only looks at positions from SNP database added as SNPdb\n",
    "    \"\"\"\n",
    "\n",
    "    # PARAMS\n",
    "    # mawk tool unwrapper\n",
    "    def mawk(tool):\n",
    "        return os.path.join(config[\"mawk_path\"], f\"{tool}.mawk\")\n",
    "\n",
    "    split_genome = os.path.join(config[\"genome_split_path\"], f\"{chrom}.fa\")\n",
    "    snp_bed = os.path.join(config[\"SNPdb_path\"], f\"{config['SNPdb']}.{chrom}.snp\")\n",
    "\n",
    "    pileup_cmd = f\"samtools mpileup -f {split_genome} -q {config['MAPQ']} -Q {config['Q']} -r {chrom} -l {snp_bed} {bam_file}\"\n",
    "    snp_cmd = f\"{mawk('cleanSNP')} | {mawk('snpVAF')}  {config['minVAF']} | {mawk('filterBed')} {config['bedfile']} -c {chrom} -x\"\n",
    "    cmd = f\"{pileup_cmd} | {snp_cmd}\"\n",
    "\n",
    "    snp_df = cmd2df(cmd, show=True, multi=False)\n",
    "\n",
    "    snp_df = snp_df.loc[\n",
    "        snp_df[\"Depth\"] > config[\"minDepth\"],\n",
    "        [\"Chr\", \"Start\", \"ExonPos\", \"Ref\", \"Depth\", \"Alt\", \"VAF\"],\n",
    "    ]\n",
    "    return snp_df\n",
    "\n",
    "\n",
    "def bam2coverage(bam_file, chrom=\"\", config={}):\n",
    "    \"\"\"\n",
    "    LEGACY\n",
    "    creates a coverage_df for a bam file on a given chromosome\n",
    "    wrapper for bam2coverage.mawk\n",
    "\n",
    "    MAWK INFO\n",
    "    CLI: *samtools view $bam chr7 |\n",
    "      + extracts the reads for that chromosome\n",
    "    *bamCoverage [minCoverage=0] |\n",
    "      + would be better to have chromCoverage (where is it)\n",
    "      + would make it more performant\n",
    "    *rollingCoverage [rollingWindow=100] |\n",
    "\n",
    "      + every half windowSize a mean coverage is written out\n",
    "    *filterbed $BED chr7 [writeout exomCoords=1]`\n",
    "\n",
    "      + filters the output for positions covered by the bedfile\n",
    "      + filter the output to only exon-spanning rows\n",
    "    make the command run in memory using stringIO\n",
    "    \"\"\"\n",
    "\n",
    "    # PARAMS\n",
    "    # mawk tool unwrapper\n",
    "    def mawk(tool):\n",
    "        return os.path.join(config[\"mawk_path\"], f\"{tool}.mawk\")\n",
    "\n",
    "    # the -F 1024 flag is neccessary in order to remove duplicate reads\n",
    "    drop_dups = \" -F 1024\" if config[\"drop_duplicates\"] else \"\"\n",
    "    view_cmd = f\"samtools view{drop_dups} -q {config['MAPQ']} {bam_file} {chrom}\"\n",
    "    cov_cmd = f\"{mawk('bamCoverage')} | {mawk('rollingCoverage')} {config['rollingWindowSize']} | \"\n",
    "    # the 1 at the end is the option for the filterbed tool to output exonic coords\n",
    "    cov_cmd += f\"{mawk('filterBed')} {config['bedfile']} -c {chrom} -x\"\n",
    "    cmd = f\"{view_cmd} | {cov_cmd}\"\n",
    "\n",
    "    cov_df = cmd2df(cmd, show=True, multi=False)\n",
    "    return cov_df\n"
   ]
  },
  {
   "cell_type": "code",
   "execution_count": null,
   "metadata": {
    "ExecuteTime": {
     "end_time": "2021-05-28T08:32:34.037267Z",
     "start_time": "2021-05-28T08:32:03.576563Z"
    }
   },
   "outputs": [],
   "source": [
    "sample = \"02\"\n",
    "chrom = \"chr7\"\n",
    "cov_df, snp_df = TN2CNV(\n",
    "    clean_TN_pileup_file=os.path.join(testdata, f\"cleanpileup/{sample}_A-B.{chrom}.gz\"),\n",
    "    chrom=chrom,\n",
    "    SNP_output=os.path.join(output_path, f\"pile2CNV/{sample}_A-B.{chrom}.snp\"),\n",
    "    config=CNVconfig\n",
    ")\n",
    "cov_df"
   ]
  },
  {
   "cell_type": "code",
   "execution_count": null,
   "metadata": {
    "ExecuteTime": {
     "end_time": "2021-05-28T08:32:38.252516Z",
     "start_time": "2021-05-28T08:32:38.234246Z"
    }
   },
   "outputs": [],
   "source": [
    "snp_df"
   ]
  },
  {
   "cell_type": "markdown",
   "metadata": {},
   "source": [
    "### run all chroms"
   ]
  },
  {
   "cell_type": "code",
   "execution_count": null,
   "metadata": {
    "ExecuteTime": {
     "end_time": "2021-05-28T12:50:30.689462Z",
     "start_time": "2021-05-28T12:14:53.100058Z"
    }
   },
   "outputs": [],
   "source": [
    "chrom_list = [f\"chr{c + 1}\" for c in range(22)] + ['chrX']\n",
    "sample = \"03\"\n",
    "for chrom in chrom_list:\n",
    "    pileup_file = os.path.join(testdata, f\"cleanpileup/{sample}_A-B.{chrom}.gz\")\n",
    "    show_output(f\"pile2CNV for {os.path.basename(pileup_file)}\")\n",
    "    cov_df, snp_df = TN2CNV(\n",
    "        clean_TN_pileup_file=pileup_file,\n",
    "        chrom=chrom,\n",
    "        SNP_output=os.path.join(output_path, f\"pile2CNV/{sample}_A-B.{chrom}.snp\"),\n",
    "        config=CNVconfig\n",
    "    )\n",
    "    try:\n",
    "        cov_df.to_csv(os.path.join(output_path, f\"pile2CNV/{sample}_A-B.{chrom}.cov.gz\"), sep=\"\\t\", index=False, compression=\"gzip\")\n",
    "    except Exception as e:\n",
    "        show_output(f\"Problem with file {pileup_file} <<{e}>>!\", color=\"warning\")\n",
    "show_output(\"FINISHED\", color=\"success\")"
   ]
  }
 ],
 "metadata": {
  "kernelspec": {
   "display_name": "Python 3",
   "language": "python",
   "name": "python3"
  },
  "language_info": {
   "codemirror_mode": {
    "name": "ipython",
    "version": 3
   },
   "file_extension": ".py",
   "mimetype": "text/x-python",
   "name": "python",
   "nbconvert_exporter": "python",
   "pygments_lexer": "ipython3",
   "version": "3.8.5"
  },
  "varInspector": {
   "cols": {
    "lenName": 16,
    "lenType": 16,
    "lenVar": 40
   },
   "kernels_config": {
    "python": {
     "delete_cmd_postfix": "",
     "delete_cmd_prefix": "del ",
     "library": "var_list.py",
     "varRefreshCmd": "print(var_dic_list())"
    },
    "r": {
     "delete_cmd_postfix": ") ",
     "delete_cmd_prefix": "rm(",
     "library": "var_list.r",
     "varRefreshCmd": "cat(var_dic_list()) "
    }
   },
   "types_to_exclude": [
    "module",
    "function",
    "builtin_function_or_method",
    "instance",
    "_Feature"
   ],
   "window_display": false
  }
 },
 "nbformat": 4,
 "nbformat_minor": 4
}
