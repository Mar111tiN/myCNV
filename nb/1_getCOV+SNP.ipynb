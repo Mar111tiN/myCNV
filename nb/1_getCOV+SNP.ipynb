{
 "cells": [
  {
   "cell_type": "markdown",
   "metadata": {},
   "source": [
    "# getting SNP and coverage data from bam files or pileup files\n",
    "## python wrapper around samtools / mawktools\n",
    "+ bam --> mpileup --> clean --> filter --> pile2SNP\n",
    "+ mpileup --> clean --> filter --> pile2SNP\n",
    "+ cleanpileup --> filter --> pile2SNP"
   ]
  },
  {
   "cell_type": "code",
   "execution_count": null,
   "metadata": {
    "ExecuteTime": {
     "end_time": "2021-05-25T14:15:52.615584Z",
     "start_time": "2021-05-25T14:15:52.611706Z"
    }
   },
   "outputs": [],
   "source": [
    "# get the code\n",
    "import sys\n",
    "import os\n",
    "sys.path.append('../code')\n",
    "\n",
    "\n",
    "# HOME\n",
    "home = '/Users/mahtin'\n",
    "home = '/Users/martinscience'\n",
    "\n",
    "# standard paths\n",
    "static = os.path.join(home, \"Dropbox/Icke/Work/static\")\n",
    "cluster_path = os.path.join(home, \"mount\")\n",
    "tooldata = os.path.join(home, \"Dropbox/Icke/Work/somVar/tooldata\")\n",
    "testdata = os.path.join(home,\"Dropbox/Icke/Work/somVar/testdata\")\n",
    "\n",
    " \n",
    "cnvdata = os.path.join(tooldata, \"myCNVdata\")\n",
    "output_path = os.path.join(cnvdata, \"output\")\n",
    "\n",
    "# the path to the input data\n",
    "cnv_path = os.path.join(cnvdata, \"cnv\")\n",
    "PONCOV_path = cnv_path = os.path.join(cnvdata, \"chromCov\")"
   ]
  },
  {
   "cell_type": "markdown",
   "metadata": {},
   "source": [
    "### get the config\n",
    "+ use the get_CNVconfig util function to update the general configs with the appropriate paths\n",
    "+ makes the config more pluggable"
   ]
  },
  {
   "cell_type": "code",
   "execution_count": null,
   "metadata": {
    "ExecuteTime": {
     "end_time": "2021-05-25T14:15:55.674315Z",
     "start_time": "2021-05-25T14:15:55.639555Z"
    }
   },
   "outputs": [],
   "source": [
    "from script_utils_CNV import get_CNVconfig\n",
    "CNVconfig = get_CNVconfig(\n",
    "    \"../config/config_CNV.yaml\", \n",
    "    local_config=dict(\n",
    "        mawk_path=\"../shell\",\n",
    "        bed_file=os.path.join(static, \"bed_files/SureSelect/hg38/SS_HAEv7_hg38_Padded.bed\"),\n",
    "        genome_split_path=os.path.join(static, \"genome/gatk/hg38/split\"),\n",
    "        gc_split_path=os.path.join(static, \"genome/gatk/hg38/split\"),\n",
    "        genmap_split_path=os.path.join(\"annotation/genmap/hg38/split\"),\n",
    "        pon_cov_path=os.path.join(cnvdata, \"chromCov\")\n",
    "    ))\n",
    "CNVconfig"
   ]
  },
  {
   "cell_type": "markdown",
   "metadata": {},
   "source": [
    "## run the code"
   ]
  },
  {
   "cell_type": "code",
   "execution_count": null,
   "metadata": {
    "ExecuteTime": {
     "end_time": "2021-05-25T14:17:44.647990Z",
     "start_time": "2021-05-25T14:17:11.601511Z"
    }
   },
   "outputs": [],
   "source": [
    "from CNV_raw import get_rawCNV\n",
    "\n",
    "cov_df = get_rawCNV(\n",
    "    clean_TN_pileup_file=os.path.join(cnvdata, \"cleanpileup/02_A-B.chr1.gz\"),\n",
    "    chrom=\"chr1\",\n",
    "    SNP_output=os.path.join(output_path, \"pile2CNV/02_A-B.chr1.snp\"),\n",
    "    config=CNVconfig\n",
    ")\n",
    "cov_df.to_csv(os.path.join(output_path, \"pile2CNV/02_A-B.chr1.rawcov.gz\"), sep=\"\\t\", index=False, compression=\"gzip\")\n",
    "cov_df"
   ]
  },
  {
   "cell_type": "markdown",
   "metadata": {
    "ExecuteTime": {
     "end_time": "2021-05-19T10:30:23.774260Z",
     "start_time": "2021-05-19T10:28:07.001533Z"
    }
   },
   "source": [
    "get_rawCNV(\n",
    "    clean_TN_pileup_file=os.path.join(cnvdata, \"cleanpileup/03_A-B.chr1.gz\"),\n",
    "    chrom=\"chr1\",\n",
    "    SNP_output=os.path.join(output_path, \"pile2CNV/03_A-B.chr1.snp\"),\n",
    "    config=CNVconfig\n",
    ")"
   ]
  },
  {
   "cell_type": "code",
   "execution_count": null,
   "metadata": {
    "ExecuteTime": {
     "end_time": "2021-05-25T14:24:43.050424Z",
     "start_time": "2021-05-25T14:24:42.878873Z"
    }
   },
   "outputs": [],
   "source": [
    "get_rawCNV(\n",
    "    normal_bam=os.path.join(testdata, \"bam/03_B.chr7.bam\"),\n",
    "    tumor_bam=os.path.join(testdata, \"bam/03_A.chr7.bam\"),\n",
    "    chrom=\"chr7\",\n",
    "    SNP_output=os.path.join(output_path, \"pile2CNV/03_A-B.chr7.snp\"),\n",
    "    config=CNVconfig\n",
    ")"
   ]
  },
  {
   "cell_type": "code",
   "execution_count": null,
   "metadata": {
    "ExecuteTime": {
     "end_time": "2021-05-25T13:03:58.285444Z",
     "start_time": "2021-05-25T13:03:58.272609Z"
    }
   },
   "outputs": [],
   "source": [
    "cov_df"
   ]
  },
  {
   "cell_type": "markdown",
   "metadata": {},
   "source": [
    "##  the function"
   ]
  },
  {
   "cell_type": "code",
   "execution_count": null,
   "metadata": {},
   "outputs": [],
   "source": [
    "from script_utils_CNV import show_output, cmd2df\n",
    "\n",
    "\n",
    "def get_rawCNV(\n",
    "    normal_bam=\"\",\n",
    "    tumor_bam=\"\",\n",
    "    tumor_bams=[],\n",
    "    TN_pileup_file=\"\",  # mpileup from normalbam, tumorbam(s)\n",
    "    clean_TN_pileup_file=\"\",  # mpileup from normalbam, tumorbam(s) with cleanpileup.mawk already done\n",
    "    pileup_is_clean=True,\n",
    "    chrom=\"\",\n",
    "    config={},\n",
    "    SNP_output=\"\",\n",
    "):\n",
    "    \"\"\"\n",
    "    wrapper around CLI chain around the core tool pile2CNV.mawk\n",
    "\n",
    "    \"\"\"\n",
    "\n",
    "    # PARAMS\n",
    "    # unwrap mawk tools\n",
    "    def mawk(tool):\n",
    "        return os.path.join(config[\"mawk_path\"], f\"{tool}.mawk\")\n",
    "\n",
    "    sc = config[\"hetSNP\"]\n",
    "    cc = config[\"coverage\"]\n",
    "\n",
    "    # create the basic command and unpack required params\n",
    "    # ##### FILTERBED\n",
    "    filter_cmd = f\"{mawk('filterBed')} {config['bed_file']} -x -c {chrom}\"\n",
    "\n",
    "    if not SNP_output:\n",
    "        show_output(\"Output file for heteroSNP is missing!\", color=\"warning\")\n",
    "        return\n",
    "    # ##### PILE2CNV\n",
    "    cnv_cmd = f\"{mawk('pile2CNV')} -x -o {SNP_output} -v {sc['normalVAF'][0]} -V {sc['normalVAF'][1]} -d {sc['minDepth']} -c {cc['minCov']}\"\n",
    "\n",
    "    # combine\n",
    "    cmd = f\"{filter_cmd} | {cnv_cmd}\"\n",
    "\n",
    "    if clean_TN_pileup_file:\n",
    "        if os.path.splitext(clean_TN_pileup_file)[1] == \".gz\":\n",
    "            cmd = f\"gunzip < {clean_TN_pileup_file} | {cmd}\"\n",
    "        else:\n",
    "            cmd = f\"cat {clean_TN_pileup_file} | {cmd}\"\n",
    "    else:\n",
    "        # add the cleanup cmd if\n",
    "        cmd = f\"{mawk('cleanpileup')} -d | {cmd}\"\n",
    "        if TN_pileup_file:\n",
    "            if os.path.splitext(TN_pileup_file)[1] == \".gz\":\n",
    "                cmd = f\"gunzip < {TN_pileup_file} | {cmd}\"\n",
    "            else:\n",
    "                cmd = f\"cat {TN_pileup_file} | {cmd}\"\n",
    "        else:\n",
    "            # pileup has to be done\n",
    "            # get the bam files\n",
    "            if tumor_bams:\n",
    "                bams = \" \".join([normal_bam], tumor_bams)\n",
    "            else:\n",
    "                bams = f\"{normal_bam} {tumor_bam}\"\n",
    "            # get params from config\n",
    "            pc = config[\"pileup\"]\n",
    "            split_genome = os.path.join(config[\"genome_split_path\"], f\"{chrom}.fa\")\n",
    "            pileup_cmd = f\"samtools mpileup -f {split_genome} -l {config['bed_file']} -r {chrom} -q {pc['MAPQ']} -Q {pc['Q']} {bams}\"\n",
    "            cmd = f\"{pileup_cmd} | {cmd}\"\n",
    "    try:\n",
    "        cov_df = cmd2df(cmd, show=True, multi=False)\n",
    "        return cov_df\n",
    "    except:\n",
    "        show_output(\"There was an error using shell command\", color=\"warning\")\n",
    "        return cmd\n"
   ]
  },
  {
   "cell_type": "code",
   "execution_count": null,
   "metadata": {},
   "outputs": [],
   "source": [
    "get_rawCNV(\n",
    "    normal_bam=os.path.join(testdata, \"bam/03_B.chr7.bam\"),\n",
    "    tumor_bam=os.path.join(testdata, \"bam/03_A.chr7.bam\"),\n",
    "    chrom=\"chr7\",\n",
    "    SNP_output=os.path.join(output_path, \"pile2CNV/03_A-B.chr7.snp\"),\n",
    "    config=CNVconfig\n",
    ")"
   ]
  },
  {
   "cell_type": "markdown",
   "metadata": {},
   "source": [
    "### run all chroms"
   ]
  },
  {
   "cell_type": "code",
   "execution_count": null,
   "metadata": {},
   "outputs": [],
   "source": [
    "chrom_list = [f\"chr{c + 1}\" for c in range(22)] + ['chrX']\n",
    "for chrom in chrom_list:\n",
    "    pileup_file = f\"cleanpileup/03_A-B.{chrom}.gz\"\n",
    "    show_output(f\"pile2CNV for {os.path.basename(pileup_file)}\")\n",
    "    cov_df = get_rawCNV(\n",
    "    pileup_file,\n",
    "    chrom=chrom,\n",
    "    SNP_output=os.path.join(output_path, f\"pile2CNV/03_A-B.{chrom}.snp\"),\n",
    "    config=CNVconfig\n",
    "    )\n",
    "    cov_df.to_csv(os.path.join(output_path, f\"pile2CNV/03_A-B.{chrom}.rawcov.gz\"), sep=\"\\t\", index=False, compression=\"gzip\")\n",
    "show_output(\"FINISHED\", color=\"success\")"
   ]
  }
 ],
 "metadata": {
  "kernelspec": {
   "display_name": "Python 3",
   "language": "python",
   "name": "python3"
  },
  "language_info": {
   "codemirror_mode": {
    "name": "ipython",
    "version": 3
   },
   "file_extension": ".py",
   "mimetype": "text/x-python",
   "name": "python",
   "nbconvert_exporter": "python",
   "pygments_lexer": "ipython3",
   "version": "3.8.6"
  },
  "varInspector": {
   "cols": {
    "lenName": 16,
    "lenType": 16,
    "lenVar": 40
   },
   "kernels_config": {
    "python": {
     "delete_cmd_postfix": "",
     "delete_cmd_prefix": "del ",
     "library": "var_list.py",
     "varRefreshCmd": "print(var_dic_list())"
    },
    "r": {
     "delete_cmd_postfix": ") ",
     "delete_cmd_prefix": "rm(",
     "library": "var_list.r",
     "varRefreshCmd": "cat(var_dic_list()) "
    }
   },
   "types_to_exclude": [
    "module",
    "function",
    "builtin_function_or_method",
    "instance",
    "_Feature"
   ],
   "window_display": false
  }
 },
 "nbformat": 4,
 "nbformat_minor": 4
}
