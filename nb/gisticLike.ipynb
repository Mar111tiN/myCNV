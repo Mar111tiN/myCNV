{
 "cells": [
  {
   "cell_type": "markdown",
   "metadata": {},
   "source": [
    "### try the VAF adjustment for one obvious sample"
   ]
  },
  {
   "cell_type": "code",
   "execution_count": null,
   "metadata": {
    "ExecuteTime": {
     "end_time": "2021-03-30T09:41:06.316946Z",
     "start_time": "2021-03-30T09:41:06.309941Z"
    }
   },
   "outputs": [],
   "source": [
    "import pandas as pd\n",
    "import os\n",
    "import sys\n",
    "home = \"/Users/martinscience\"\n",
    "home = \"/Users/mahtin\"\n",
    "somvar_path = os.path.join(home, )\n",
    "base_path = os.path.join(somvar_path, \"Dropbox/Icke/Work/somVar/AMLMono7/WESData/AMLM74MarlonAdriane\")\n",
    "\n",
    "# get code\n",
    "sys.path.append(os.path.join(home, \"Sites/Bio/pytools\"))\n",
    "sys.path.append(os.path.join(home, \"Sites/Bio/pycnv\"))\n",
    "\n",
    "from plot import make_CNV_plot\n",
    "from working_with_mut_files import load_file, save_file, make_blocks, cat_chrom\n",
    "\n",
    "SNV_path = os.path.join(base_path, \"SNV\")\n",
    "CNV_path = os.path.join(base_path, \"CNV\")"
   ]
  },
  {
   "cell_type": "markdown",
   "metadata": {},
   "source": [
    "### collect all the CNV_calls into one df"
   ]
  },
  {
   "cell_type": "markdown",
   "metadata": {
    "ExecuteTime": {
     "end_time": "2021-03-16T12:15:37.129474Z",
     "start_time": "2021-03-16T12:15:37.116398Z"
    }
   },
   "source": [
    "cnv_df = pd.read_csv(os.path.join(CNV_path, \"CNV_collapsed.txt\"), sep=\"\\t\")\n",
    "cnv_df\n",
    "cnv_df.loc[:, list(cnv_df.columns)[1:] + ['sample']].sort_values(['Chr', 'Start', 'End']).to_csv(os.path.join(CNV_path, \"CNV_coll2.txt\"), sep='\\t', index=False)"
   ]
  },
  {
   "cell_type": "markdown",
   "metadata": {},
   "source": [
    "### load collected CNV"
   ]
  },
  {
   "cell_type": "code",
   "execution_count": null,
   "metadata": {
    "ExecuteTime": {
     "end_time": "2021-03-30T09:44:17.908128Z",
     "start_time": "2021-03-30T09:44:17.888315Z"
    }
   },
   "outputs": [],
   "source": [
    "cnv_df = pd.read_csv(os.path.join(CNV_path, \"CNV_coll3.txt\"), sep=\"\\t\")\n",
    "cnv_df = cat_chrom(cnv_df)\n",
    "cnv_df['End'].max()"
   ]
  },
  {
   "cell_type": "markdown",
   "metadata": {},
   "source": [
    "## collect the density of CNV per genomic stretch\n",
    "+ first, get CNmajor/minor from cnacs-only calls"
   ]
  },
  {
   "cell_type": "code",
   "execution_count": null,
   "metadata": {
    "ExecuteTime": {
     "end_time": "2021-03-30T10:37:41.390191Z",
     "start_time": "2021-03-30T10:37:41.375227Z"
    }
   },
   "outputs": [],
   "source": [
    "# should this be flattened to 1?\n",
    "cnv_df.loc[cnv_df['CNmajor'] == cnv_df['CNminor'], :]"
   ]
  },
  {
   "cell_type": "markdown",
   "metadata": {},
   "source": [
    "## adjust cnv_df for display\n",
    "+ imply CNmajor/minor from Kenichi cnacs\n",
    "+ get coverage of CNV per gene stretch"
   ]
  },
  {
   "cell_type": "code",
   "execution_count": null,
   "metadata": {
    "ExecuteTime": {
     "end_time": "2021-03-30T10:29:07.455949Z",
     "start_time": "2021-03-30T10:29:07.451988Z"
    }
   },
   "outputs": [],
   "source": [
    "# assume LOH for TCN < 2\n",
    "cnv_df.loc[(cnv_df['tool'] == \"cnacs\") & (cnv_df['TCN']< 2), [\"CNmajor\", \"CNminor\"]] = [1,0]\n",
    "# assume CNmajor = |TCN| + 1\n",
    "cnv_df.loc[(cnv_df['tool'] == \"cnacs\") & (cnv_df['TCN']> 2), [\"CNmajor\", \"CNminor\"]] = [cnv_df.loc[(cnv_df['tool'] == \"cnacs\") & (cnv_df['TCN']> 2), \"TCN\"].astype(int) + 1, 1]\n",
    "# all cnacs has been implied\n",
    "# cnv_df.loc[(cnv_df['tool'] == \"cnacs\"), :]\n",
    "# select cols\n",
    "df = cnv_df.loc[:, ['Chr', 'Start', 'End', 'CNmajor', 'CNminor', 'sample']]\n",
    "# make step = 1 for start of CNV and -1 for end\n",
    "df['step'] = 1\n",
    "\n",
    "# merge start and \"End\"-df (End becomes step = -1)\n",
    "flat_df = pd.concat( # concat the df and the df with End --> Start\n",
    "    [df, df.drop(['Start', 'step'], axis=1).rename({'End':'Start'}, axis=1)]\n",
    ").sort_values(['Chr', 'Start', 'End']).drop(\"End\", axis=1).reset_index(drop=True)\n",
    "# the step from the original End columns has to be negative\n",
    "flat_df['step'] = flat_df['step'].fillna(-1).astype(int)\n",
    "flat_df"
   ]
  },
  {
   "cell_type": "markdown",
   "metadata": {},
   "source": [
    "### mark gains and losses\n",
    "+ gains are defined as CNmajor + CNminor > 2\n",
    "+ losses are defined as CNminor == 0\n",
    "+ losses are displayed negative"
   ]
  },
  {
   "cell_type": "code",
   "execution_count": null,
   "metadata": {
    "ExecuteTime": {
     "end_time": "2021-03-30T11:01:19.734623Z",
     "start_time": "2021-03-30T11:01:19.714927Z"
    }
   },
   "outputs": [],
   "source": [
    "flat_df['gains'] = (flat_df['step'] * (flat_df['CNmajor'] + flat_df['CNminor'] > 2).astype(int)).cumsum().astype(int)\n",
    "flat_df['losses'] = -(flat_df['step'] * (flat_df['CNminor'] == 0).astype(int)).cumsum().astype(int)\n",
    "flat_df['cnv'] = flat_df['gains'] - flat_df['losses']\n",
    "flat_df"
   ]
  },
  {
   "cell_type": "markdown",
   "metadata": {},
   "source": [
    "### add full genomic positions for visualization"
   ]
  },
  {
   "cell_type": "code",
   "execution_count": null,
   "metadata": {},
   "outputs": [],
   "source": [
    "chrom_df = load_file(\"/Users/mahtin/Dropbox/Icke/Work/static/genome/gatk/hg38/chroms.txt\").iloc[:-2,:]\n",
    "chrom_df['FullStart'] = chrom_df['len'].shift(1).cumsum().fillna(0).astype(int) + 1\n",
    "chrom_df['FullEnd'] = chrom_df['len'].cumsum()\n",
    "chrom_df"
   ]
  },
  {
   "cell_type": "markdown",
   "metadata": {},
   "source": [
    "### add the cytoband"
   ]
  },
  {
   "cell_type": "code",
   "execution_count": null,
   "metadata": {},
   "outputs": [],
   "source": [
    "cyto_df = pd.read_csv(\"/Users/mahtin/Dropbox/Icke/Work/static/annotation/annovar/humandb/hg38_cytoBand.txt\", sep=\"\\t\", names=['Chr', 'Start', 'End', 'band', \"strand\"])\n",
    "cyto_df = cyto_df.loc[cyto_df['Chr'].str.match(\"^chr[0-9]+$\"), :]\n",
    "cyto_df = cat_chrom(cyto_df).sort_values(['Chr', 'Start', 'End'])\n",
    "cyto_df['BAND'] = cyto_df['band'].str[:1]\n",
    "band_df = cyto_df.groupby(['Chr', 'BAND']).agg({'Start':'first', 'End':'last'}).dropna().reset_index()\n",
    "for c in band_df.columns[2:]:\n",
    "    band_df[c] = band_df[c].astype(int)\n",
    "band_df[:10]"
   ]
  },
  {
   "cell_type": "code",
   "execution_count": null,
   "metadata": {},
   "outputs": [],
   "source": [
    "fig_params = dict(\n",
    "    figsize = (20,5),\n",
    "    y_margin=4,\n",
    "    label_size=20,\n",
    "    y_label_size=15,\n",
    "    chrom_label_yoffset = 5,\n",
    "    chrom_color_scheme = \"coolwarm_r\",\n",
    "    cnv_fill_colors={\n",
    "        \"gains\":\"#41c20e\",\n",
    "        \"losses\": \"#ebc871\"\n",
    "    },\n",
    "    chrom_label_size=1.25,\n",
    "    band_label_yoffset=2,\n",
    "    band_label_size=1.3,\n",
    "    band_colors={\n",
    "        \"p\":'none',\n",
    "        \"q\":'lightgrey'\n",
    "    }\n",
    ")\n",
    "\n",
    "fig, ax = make_CNV_plot(flat_df, chrom_df, band_df, **fig_params)"
   ]
  },
  {
   "cell_type": "code",
   "execution_count": null,
   "metadata": {},
   "outputs": [],
   "source": [
    "fig_file = os.path.join(\"/Users/mahtin/Dropbox/Icke/Work/Abschlussbericht/figures\", \"CNVs.svg\")\n",
    "\n",
    "fig.savefig(fig_file)"
   ]
  },
  {
   "cell_type": "code",
   "execution_count": null,
   "metadata": {},
   "outputs": [],
   "source": []
  }
 ],
 "metadata": {
  "kernelspec": {
   "display_name": "Python 3",
   "language": "python",
   "name": "python3"
  },
  "language_info": {
   "codemirror_mode": {
    "name": "ipython",
    "version": 3
   },
   "file_extension": ".py",
   "mimetype": "text/x-python",
   "name": "python",
   "nbconvert_exporter": "python",
   "pygments_lexer": "ipython3",
   "version": "3.9.0"
  },
  "varInspector": {
   "cols": {
    "lenName": 16,
    "lenType": 16,
    "lenVar": 40
   },
   "kernels_config": {
    "python": {
     "delete_cmd_postfix": "",
     "delete_cmd_prefix": "del ",
     "library": "var_list.py",
     "varRefreshCmd": "print(var_dic_list())"
    },
    "r": {
     "delete_cmd_postfix": ") ",
     "delete_cmd_prefix": "rm(",
     "library": "var_list.r",
     "varRefreshCmd": "cat(var_dic_list()) "
    }
   },
   "types_to_exclude": [
    "module",
    "function",
    "builtin_function_or_method",
    "instance",
    "_Feature"
   ],
   "window_display": false
  }
 },
 "nbformat": 4,
 "nbformat_minor": 4
}
