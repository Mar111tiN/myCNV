{
 "cells": [
  {
   "cell_type": "code",
   "execution_count": null,
   "metadata": {
    "ExecuteTime": {
     "end_time": "2020-10-15T18:36:14.611666Z",
     "start_time": "2020-10-15T18:36:14.607234Z"
    }
   },
   "outputs": [],
   "source": [
    "# HOME\n",
    "import os\n",
    "import scipy\n",
    "home = '/Users/mahtin'\n",
    "home = '/Users/martinscience'\n",
    "# standard paths\n",
    "testdata = os.path.join(home,\"Dropbox/Icke/Work/somVar/testdata\")\n",
    "static_path = os.path.join(home, \"Dropbox/Icke/Work/static\")\n",
    "cluster_path = os.path.join(home, \"mount\")\n",
    "tooldata = os.path.join(home, \"Dropbox/Icke/Work/somVar/tooldata\")\n",
    "\n",
    "# tool-specific paths\n",
    "shell_path = \"../shell\"\n",
    "# \n",
    "cnvdata = os.path.join(tooldata, \"myCNVdata\")\n",
    "output_path = os.path.join(cnvdata, \"output\")\n",
    "\n",
    "# the path to the input data\n",
    "cnv_path = os.path.join(cnvdata, \"cnv\")\n",
    "cnvPON_path = cnv_path = os.path.join(cnvdata, \"chromCov\")\n",
    "cnv_path = os.path.join(cluster_path, \"scratch/develop/PONcoverage/cnv\")\n",
    "cnvPON_path = os.path.join(cluster_path, \"scratch/develop/PONcoverage/chromCov\")"
   ]
  },
  {
   "cell_type": "code",
   "execution_count": null,
   "metadata": {
    "ExecuteTime": {
     "end_time": "2020-10-15T18:36:14.624329Z",
     "start_time": "2020-10-15T18:36:14.619500Z"
    }
   },
   "outputs": [],
   "source": [
    "cnvPON_path"
   ]
  },
  {
   "cell_type": "markdown",
   "metadata": {},
   "source": [
    "### get the coverage and SNP data"
   ]
  },
  {
   "cell_type": "code",
   "execution_count": null,
   "metadata": {
    "ExecuteTime": {
     "end_time": "2020-10-15T18:36:18.908346Z",
     "start_time": "2020-10-15T18:36:17.367837Z"
    }
   },
   "outputs": [],
   "source": [
    "sample = \"01_A\"\n",
    "snp_df = pd.read_csv(os.path.join(output_path, 'heteroSNP/01_A.snp'), sep='\\t')\n",
    "cov_df = pd.read_csv(os.path.join(output_path, 'covDif/01_A.cov'), sep='\\t')\n",
    "snp_df[:10]"
   ]
  },
  {
   "cell_type": "code",
   "execution_count": null,
   "metadata": {
    "ExecuteTime": {
     "end_time": "2020-10-15T18:36:20.842617Z",
     "start_time": "2020-10-15T18:36:20.830527Z"
    }
   },
   "outputs": [],
   "source": [
    "cov_df[:10]"
   ]
  },
  {
   "cell_type": "markdown",
   "metadata": {},
   "source": [
    "# get the code and run"
   ]
  },
  {
   "cell_type": "code",
   "execution_count": null,
   "metadata": {
    "ExecuteTime": {
     "end_time": "2020-10-09T09:20:28.545923Z",
     "start_time": "2020-10-09T09:20:26.623613Z"
    }
   },
   "outputs": [],
   "source": [
    "# get the code\n",
    "import sys\n",
    "sys.path.append('../code')\n",
    "from rollingCNV import add_rolling_data\n"
   ]
  },
  {
   "cell_type": "code",
   "execution_count": null,
   "metadata": {},
   "outputs": [],
   "source": [
    "config = {\n",
    "    'heteroSNP': {\n",
    "        'VAFlimits':[0.05,0.95],\n",
    "        'normalize': True,\n",
    "        'windows': {\n",
    "            'absVAF': {\n",
    "                'sum': 20\n",
    "            },\n",
    "            'VAF': {\n",
    "                'std': 20\n",
    "            },\n",
    "            'deltaVAF': {\n",
    "                'std': 20\n",
    "            }\n",
    "        },\n",
    "        'minEBscore':0.5,\n",
    "        'minDepth': 30,\n",
    "    },\n",
    "    'coverage': {\n",
    "        'VAFlimits':[0.05,0.95],\n",
    "        'normalize':False,\n",
    "        'windows': {\n",
    "            'log2ratio': {\n",
    "                'mean': 500\n",
    "            },\n",
    "            'Coverage': {\n",
    "                'mean': 500\n",
    "            }\n",
    "        }\n",
    "    }\n",
    "}\n",
    "\n",
    "snpR_df, covR_df = add_rolling_data(snp_df, cov_df, config)"
   ]
  },
  {
   "cell_type": "code",
   "execution_count": null,
   "metadata": {
    "ExecuteTime": {
     "end_time": "2020-10-09T09:21:01.396726Z",
     "start_time": "2020-10-09T09:21:01.376042Z"
    }
   },
   "outputs": [],
   "source": [
    "snpR_df"
   ]
  },
  {
   "cell_type": "code",
   "execution_count": null,
   "metadata": {
    "ExecuteTime": {
     "end_time": "2020-10-09T09:21:03.469089Z",
     "start_time": "2020-10-09T09:21:03.455054Z"
    }
   },
   "outputs": [],
   "source": [
    "covR_df.sort_values('FullExonPos')"
   ]
  },
  {
   "cell_type": "code",
   "execution_count": null,
   "metadata": {},
   "outputs": [],
   "source": [
    "covR_df.query('log2ratiomean == log2ratiomean and Coveragemean == Coveragemean')"
   ]
  },
  {
   "cell_type": "code",
   "execution_count": null,
   "metadata": {
    "ExecuteTime": {
     "end_time": "2020-10-09T09:21:29.958598Z",
     "start_time": "2020-10-09T09:21:18.415978Z"
    }
   },
   "outputs": [],
   "source": [
    "snpR_df.to_csv(os.path.join(output_path, 'heteroSNP/01_A.rolling.snp'), sep='\\t', index=False)\n",
    "covR_df.to_csv(os.path.join(output_path, 'covDif/01_A.rolling.cov'), sep='\\t', index=False)"
   ]
  },
  {
   "cell_type": "markdown",
   "metadata": {},
   "source": [
    "# the steps"
   ]
  },
  {
   "cell_type": "markdown",
   "metadata": {},
   "source": [
    "## rolling window metrices"
   ]
  },
  {
   "cell_type": "markdown",
   "metadata": {},
   "source": [
    "### first, get a few extra values to do rolling windows on"
   ]
  },
  {
   "cell_type": "code",
   "execution_count": null,
   "metadata": {
    "ExecuteTime": {
     "end_time": "2020-10-15T09:37:35.359700Z",
     "start_time": "2020-10-15T09:37:35.353792Z"
    }
   },
   "outputs": [],
   "source": [
    "def expand_SNPdata(snp_df, config):\n",
    "    '''\n",
    "    retrieve a few data columns locally to use rolling windows on\n",
    "    this needs to be done chromosome-wise in order to avoid gap effects\n",
    "    '''\n",
    "    \n",
    "    # reduce the snp_df using config limits\n",
    "    VAFmin = config['VAFlimits'][0]\n",
    "    VAFmax = config['VAFlimits'][1]\n",
    "    minDepth = config['minDepth']\n",
    "    minEBscore = config['minEBscore']\n",
    "    df = snp_df.query('@VAFmin < VAF < @VAFmax and Depth >= @minDepth and EBscore > @minEBscore')\n",
    "    \n",
    "    # find the center\n",
    "    center = df['VAF'].mean()\n",
    "    print(\"heteroSNP centered around\", center)\n",
    "    # offCenter\n",
    "    df.loc[:,'absVAF'] = np.abs(df['VAF'] - center)\n",
    "    \n",
    "    \n",
    "    # get the local VAF difference chrom based\n",
    "    dfs = []\n",
    "    for chrom in df['Chr'].unique():\n",
    "        chrom_df = df.query('Chr == @chrom')\n",
    "        chrom_df['deltaVAF'] = np.abs(chrom_df['VAF'] - chrom_df.shift(1)['VAF']).fillna(0)\n",
    "        dfs.append(chrom_df)\n",
    "    snp_df = pd.concat(dfs).sort_values('FullExonPos')\n",
    "    \n",
    "    return snp_df"
   ]
  },
  {
   "cell_type": "code",
   "execution_count": null,
   "metadata": {
    "ExecuteTime": {
     "end_time": "2020-10-15T09:37:36.166447Z",
     "start_time": "2020-10-15T09:37:36.010937Z"
    }
   },
   "outputs": [],
   "source": [
    "config = {\n",
    "    'heteroSNP': {\n",
    "        'VAFlimits':[0.05,0.95],\n",
    "        'normalize': True,\n",
    "        'windows': {\n",
    "            'absVAF': {\n",
    "                'sum': 20\n",
    "            },\n",
    "            'VAF': {\n",
    "                'std': 20,\n",
    "                'mad': 20\n",
    "            },\n",
    "            'deltaVAF': {\n",
    "                'std': 20,\n",
    "                'mad': 20\n",
    "            }\n",
    "        },\n",
    "        'minEBscore':0.5,\n",
    "        'minDepth': 30,\n",
    "    },\n",
    "    'coverage': {\n",
    "        'VAFlimits':[0.05,0.95],\n",
    "        'normalize':False,\n",
    "        'windows': {\n",
    "            'log2ratio': {\n",
    "                'mean':500\n",
    "            },\n",
    "            'Coverage': {\n",
    "                'mean':500\n",
    "            },\n",
    "            'PONmeanCov': {\n",
    "                'mean': 500\n",
    "            }\n",
    "        }\n",
    "    }\n",
    "}\n",
    "\n",
    "snp_df = expand_SNPdata(snp_df, config['heteroSNP'])\n",
    "snp_df"
   ]
  },
  {
   "cell_type": "markdown",
   "metadata": {},
   "source": [
    "## try rolling window for log2ratio"
   ]
  },
  {
   "cell_type": "code",
   "execution_count": null,
   "metadata": {
    "ExecuteTime": {
     "end_time": "2020-10-15T18:36:24.900577Z",
     "start_time": "2020-10-15T18:36:24.890182Z"
    }
   },
   "outputs": [],
   "source": [
    "cov_df[:10]"
   ]
  },
  {
   "cell_type": "markdown",
   "metadata": {},
   "source": [
    "### compute the mean for log2ratio\n",
    "+ first filter for minim"
   ]
  },
  {
   "cell_type": "code",
   "execution_count": null,
   "metadata": {},
   "outputs": [],
   "source": []
  },
  {
   "cell_type": "markdown",
   "metadata": {},
   "source": [
    "### test interpolation of missing values"
   ]
  },
  {
   "cell_type": "code",
   "execution_count": null,
   "metadata": {
    "ExecuteTime": {
     "end_time": "2020-10-15T18:57:59.561370Z",
     "start_time": "2020-10-15T18:57:59.134927Z"
    }
   },
   "outputs": [],
   "source": [
    "# set the limits\n",
    "min_cov = 20\n",
    "min_PON_cov = 25\n",
    "max_PON_std = 100\n",
    "window_size = 500\n",
    "chrom = \"chr17\"\n",
    "cov_df.loc[:,'log2ratiomean'] = cov_df.query('Coverage >= @min_cov and PONmeanCov >= @min_PON_cov and PONstd < @max_PON_std')['log2ratio'].rolling(window_size).agg(\"mean\")\n",
    "# use per chromosome\n",
    "# set FullExonPos as index for the interpolation method to work on proper intervals\n",
    "test = cov_df.query('Chr == @chrom').set_index('FullExonPos')\n",
    "test['interpol'] = test['log2ratiomean'].interpolate(method='values', limit=10, limit_direction='both')\n",
    "test.reset_index(inplace=True)\n",
    "test[240:300]\n",
    "ax = plt.axes()\n",
    "x = test['FullExonPos']\n",
    "y = test['log2ratiomean']\n",
    "ax.plot(x,y);"
   ]
  },
  {
   "cell_type": "code",
   "execution_count": null,
   "metadata": {},
   "outputs": [],
   "source": []
  },
  {
   "cell_type": "code",
   "execution_count": null,
   "metadata": {},
   "outputs": [],
   "source": []
  },
  {
   "cell_type": "code",
   "execution_count": null,
   "metadata": {},
   "outputs": [],
   "source": []
  },
  {
   "cell_type": "code",
   "execution_count": null,
   "metadata": {
    "ExecuteTime": {
     "end_time": "2020-10-15T09:19:36.988560Z",
     "start_time": "2020-10-15T09:19:36.976903Z"
    }
   },
   "outputs": [],
   "source": [
    "def get_cols(col, agg='mean', modes=['L', 'R', 'Diff', '']):\n",
    "    '''\n",
    "    creates for each col a dict for looped computation\n",
    "    {'L': 'VAVsumL', 'R': 'VAVsumR', 'Diff': 'VAVsumDiff', '': 'VAFsum'}}\n",
    "    '''\n",
    "    cols = {mode: col + agg + mode for mode in modes}\n",
    "    return cols\n",
    "\n",
    "\n",
    "def get_rolling_metrix_chrom(df, col='VAF', agg='sum', chrom='', window_size=20):\n",
    "    '''\n",
    "    take a column and produce rolling windows from it for each chromosome\n",
    "    '''\n",
    "    \n",
    "    df = df.query('Chr == @chrom')\n",
    "    cols = get_cols(col, agg)\n",
    "    \n",
    "    # get the right computation\n",
    "    if agg =='std':\n",
    "        df.loc[:, cols['L']] = df.rolling(window_size)[col].std()\n",
    "    if agg == 'sum':\n",
    "        df.loc[:, cols['L']] = df.rolling(window_size)[col].sum()\n",
    "    if agg == 'mean':\n",
    "        df.loc[:, cols['L']] = df.rolling(window_size)[col].mean()\n",
    "    if agg == 'mad':\n",
    "        df.loc[:, cols['L']] = df.rolling(window_size)[col].mad()\n",
    "        \n",
    "\n",
    "    \n",
    "    # get the right window by shifting the left\n",
    "    df.loc[:, cols['R']] = df.shift(-window_size + 1)[cols['L']]\n",
    "    # fillup the margins\n",
    "    df.loc[:, cols['L']] = df[cols['L']].fillna(method='bfill')\n",
    "    df.loc[:, cols['R']] = df[cols['R']].fillna(method='ffill')\n",
    "    return df\n",
    "\n",
    "\n",
    "def get_rolling_metrix(df, col='VAF', agg='mean', window_size=20, normalize=True):\n",
    "    '''\n",
    "    wrapper to apply get_rolling_metrix_chrom per chromosome\n",
    "    '''\n",
    "    \n",
    "    chrom_dfs = []\n",
    "    for chrom in df['Chr'].unique():\n",
    "        chrom_df = get_rolling_metrix_chrom(df, col=col, agg=agg, chrom=chrom, window_size=window_size)\n",
    "        chrom_dfs.append(chrom_df)\n",
    "    df = pd.concat(chrom_dfs).sort_values('FullExonPos')\n",
    "    \n",
    "    cols = get_cols(col, agg)\n",
    "    if normalize:\n",
    "    # normalize the data\n",
    "        print('Normalizing data')\n",
    "        _min = df[cols['L']].min()\n",
    "        _max = df[cols['L']].max()\n",
    "        for side in ['L', 'R']:\n",
    "            c = cols[side]\n",
    "            df[c] = (df[c] - _min) / (_max - _min)\n",
    "    # get the Diff\n",
    "    df[cols['Diff']] = ((df[cols['L']] - df[cols['R']]) / 2) + 0.5\n",
    "    df[cols['']] = df[cols['L']] * df[cols['Diff']] + df[cols['R']] * (1 - df[cols['Diff']])\n",
    "    return df\n",
    "\n",
    "\n",
    "def rolling_it(df, config):\n",
    "    \n",
    "    windows = config['windows']\n",
    "    for col in windows.keys():\n",
    "        for agg in windows[col].keys():\n",
    "            window_size = windows[col][agg]\n",
    "            print(f\"Computing rolling window for {agg} of {col} with window size {window_size}\")\n",
    "            df = get_rolling_metrix(df, col=col, agg=agg, window_size=window_size, normalize=config['normalize'])\n",
    "    return df"
   ]
  },
  {
   "cell_type": "code",
   "execution_count": null,
   "metadata": {},
   "outputs": [],
   "source": [
    "rollingSNP_df = rolling_it(snp_df, config['heteroSNP'])\n",
    "rollingSNP_df"
   ]
  },
  {
   "cell_type": "code",
   "execution_count": null,
   "metadata": {},
   "outputs": [],
   "source": [
    "cov_df = rolling_it(cov_df, config['coverage'])"
   ]
  },
  {
   "cell_type": "code",
   "execution_count": null,
   "metadata": {},
   "outputs": [],
   "source": [
    "def add_rolling_data(snp_df, cov_df, config):\n",
    "    '''\n",
    "    add the rolling metrices needed to get local data\n",
    "    '''\n",
    "    \n",
    "    # add extra cols to snp_df\n",
    "    snp_df = expand_SNPdata(snp_df, config['heteroSNP'])\n",
    "    \n",
    "    # get the rolling metrices for snp_df\n",
    "    snp_df = rolling_it(snp_df, config['heteroSNP'])\n",
    "    # get the rolling metrices for cov_df\n",
    "    cov_df = rolling_it(cov_df, config['coverage'])\n",
    "    \n",
    "    return snp_df, cov_df"
   ]
  },
  {
   "cell_type": "code",
   "execution_count": null,
   "metadata": {},
   "outputs": [],
   "source": [
    "snp_df, cov_df = add_rolling_data(snp_df, cov_df, config)"
   ]
  },
  {
   "cell_type": "code",
   "execution_count": null,
   "metadata": {},
   "outputs": [],
   "source": [
    "snp_df.to_csv(os.path.join(output_path, 'heteroSNP/01_A.snp'), sep='\\t', index=False)\n",
    "cov_df.to_csv(os.path.join(output_path, 'covDif/01_A.cov'), sep='\\t', index=False)"
   ]
  }
 ],
 "metadata": {
  "kernelspec": {
   "display_name": "Python 3",
   "language": "python",
   "name": "python3"
  },
  "language_info": {
   "codemirror_mode": {
    "name": "ipython",
    "version": 3
   },
   "file_extension": ".py",
   "mimetype": "text/x-python",
   "name": "python",
   "nbconvert_exporter": "python",
   "pygments_lexer": "ipython3",
   "version": "3.8.5"
  },
  "varInspector": {
   "cols": {
    "lenName": 16,
    "lenType": 16,
    "lenVar": 40
   },
   "kernels_config": {
    "python": {
     "delete_cmd_postfix": "",
     "delete_cmd_prefix": "del ",
     "library": "var_list.py",
     "varRefreshCmd": "print(var_dic_list())"
    },
    "r": {
     "delete_cmd_postfix": ") ",
     "delete_cmd_prefix": "rm(",
     "library": "var_list.r",
     "varRefreshCmd": "cat(var_dic_list()) "
    }
   },
   "types_to_exclude": [
    "module",
    "function",
    "builtin_function_or_method",
    "instance",
    "_Feature"
   ],
   "window_display": false
  }
 },
 "nbformat": 4,
 "nbformat_minor": 4
}
