{
 "cells": [
  {
   "cell_type": "markdown",
   "metadata": {},
   "source": [
    "## combining individual coverage data into a mean-normalized coverage"
   ]
  },
  {
   "cell_type": "markdown",
   "metadata": {},
   "source": [
    "## Plan:\n",
    "\n",
    "+ for the PanelofNormals, create a coverage file for each PON bam and each chromosome\n",
    "+ Pon bams should optimally not contain CNV or there should be a lot of them to reduce the std\n",
    "+ put all the files into a big matrix and normalize coverages and produce an average coverage (+ std) for the exonic space\n",
    "+ compare the tumor samples against that PONcoverage to get differences in CNV"
   ]
  },
  {
   "cell_type": "markdown",
   "metadata": {},
   "source": [
    "### alternative approach\n",
    "+ get all samples and remove the outliers from std"
   ]
  },
  {
   "cell_type": "code",
   "execution_count": null,
   "metadata": {},
   "outputs": [],
   "source": [
    "# get the code\n",
    "import sys\n",
    "sys.path.append('../code')\n",
    "from pon_coverage import make_PON_coverage"
   ]
  },
  {
   "cell_type": "code",
   "execution_count": null,
   "metadata": {
    "ExecuteTime": {
     "end_time": "2020-09-28T11:35:06.741785Z",
     "start_time": "2020-09-28T11:35:06.738451Z"
    }
   },
   "outputs": [],
   "source": [
    "# set the paths\n",
    "home = '/Users/mahtin'\n",
    "home = '/Users/martinscience'\n",
    "testdata = f\"{home}/Dropbox/Icke/Work/somVar/testdata\"\n",
    "tooldata = f\"{home}/Dropbox/Icke/Work/somVar/tooldata\"\n",
    "shell_path = \"../shell\"\n",
    "static_path = f\"{home}/Dropbox/Icke/Work/static\"\n",
    "bed_path = f\"{static_path}/bed_files/SureSelect/hg38\"\n",
    "\n",
    "cnvdata = f\"{tooldata}/myCNVdata/\"\n",
    "bedCov_path = f\"{cnvdata}/bedCov\"\n",
    "bedCov_path = f\"{home}/mount/scratch/develop/PONcoverage/bedCov\"\n",
    "output_path = f\"{cnvdata}/output/PONcoverage\""
   ]
  },
  {
   "cell_type": "markdown",
   "metadata": {},
   "source": [
    "### get all the normal samples from the PON list into df for normalization and averaging"
   ]
  },
  {
   "cell_type": "code",
   "execution_count": null,
   "metadata": {},
   "outputs": [],
   "source": [
    "config = {\n",
    "    'sample_PON_path': bedCov_path,\n",
    "    'output_path': 'output_path',\n",
    "    'normCov':100,  \n",
    "    'minCov': 20,   \n",
    "    'max_mean_std': 20,\n",
    "    'std_factor': 2,    \n",
    "} \n",
    "sample_list = [f\"{str(s).zfill(3)}_B\" for s in range(45)]\n",
    "\n",
    "df = make_PON_coverage(\"chr7\", sample_list, config)"
   ]
  },
  {
   "cell_type": "code",
   "execution_count": null,
   "metadata": {},
   "outputs": [],
   "source": [
    "df"
   ]
  },
  {
   "cell_type": "code",
   "execution_count": null,
   "metadata": {},
   "outputs": [],
   "source": []
  }
 ],
 "metadata": {
  "kernelspec": {
   "display_name": "Python 3",
   "language": "python",
   "name": "python3"
  },
  "language_info": {
   "codemirror_mode": {
    "name": "ipython",
    "version": 3
   },
   "file_extension": ".py",
   "mimetype": "text/x-python",
   "name": "python",
   "nbconvert_exporter": "python",
   "pygments_lexer": "ipython3",
   "version": "3.8.5"
  },
  "varInspector": {
   "cols": {
    "lenName": 16,
    "lenType": 16,
    "lenVar": 40
   },
   "kernels_config": {
    "python": {
     "delete_cmd_postfix": "",
     "delete_cmd_prefix": "del ",
     "library": "var_list.py",
     "varRefreshCmd": "print(var_dic_list())"
    },
    "r": {
     "delete_cmd_postfix": ") ",
     "delete_cmd_prefix": "rm(",
     "library": "var_list.r",
     "varRefreshCmd": "cat(var_dic_list()) "
    }
   },
   "types_to_exclude": [
    "module",
    "function",
    "builtin_function_or_method",
    "instance",
    "_Feature"
   ],
   "window_display": false
  }
 },
 "nbformat": 4,
 "nbformat_minor": 4
}
