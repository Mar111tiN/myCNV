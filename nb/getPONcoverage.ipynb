{
 "cells": [
  {
   "cell_type": "markdown",
   "metadata": {},
   "source": [
    "# combining individual coverage data into a mean-normalized coverage"
   ]
  },
  {
   "cell_type": "code",
   "execution_count": null,
   "metadata": {
    "ExecuteTime": {
     "end_time": "2020-10-09T07:00:04.455888Z",
     "start_time": "2020-10-09T07:00:04.451639Z"
    }
   },
   "outputs": [],
   "source": [
    "# set the paths\n",
    "home = '/Users/mahtin'\n",
    "home = '/Users/martinscience'\n",
    "testdata = f\"{home}/Dropbox/Icke/Work/somVar/testdata\"\n",
    "tooldata = f\"{home}/Dropbox/Icke/Work/somVar/tooldata\"\n",
    "shell_path = \"../shell\"\n",
    "static_path = f\"{home}/Dropbox/Icke/Work/static\"\n",
    "bed_path = f\"{static_path}/bed_files/SureSelect/hg38\"\n",
    "\n",
    "cnvdata = f\"{tooldata}/myCNVdata/\"\n",
    "bedCov_path = f\"{cnvdata}/bedCov\"\n",
    "bedCov_path = f\"{home}/mount/scratch/develop/PONcoverage/bedCov\"\n",
    "output_path = f\"{cnvdata}/output/PONcoverage\""
   ]
  },
  {
   "cell_type": "markdown",
   "metadata": {},
   "source": [
    "## get the code"
   ]
  },
  {
   "cell_type": "code",
   "execution_count": null,
   "metadata": {
    "ExecuteTime": {
     "end_time": "2020-10-09T07:00:05.548328Z",
     "start_time": "2020-10-09T07:00:05.542337Z"
    }
   },
   "outputs": [],
   "source": [
    "import sys\n",
    "sys.path.append('../code')\n",
    "from pon_coverage import make_PON_coverage"
   ]
  },
  {
   "cell_type": "code",
   "execution_count": null,
   "metadata": {
    "ExecuteTime": {
     "end_time": "2020-10-09T07:17:55.007079Z",
     "start_time": "2020-10-09T07:17:11.185238Z"
    }
   },
   "outputs": [],
   "source": [
    "config = {\n",
    "    'sample_PON_path': bedCov_path,\n",
    "    'normCov':100,  \n",
    "    'stdFactor': 2,\n",
    "    'verbose_output':False\n",
    "} \n",
    "\n",
    "sample_list = [f\"{str(s+1).zfill(3)}_B\" for s in range(45)]\n",
    "full_df, filter_df = make_PON_coverage(sample_list, config=config)"
   ]
  },
  {
   "cell_type": "code",
   "execution_count": null,
   "metadata": {
    "ExecuteTime": {
     "end_time": "2020-10-09T07:24:12.749735Z",
     "start_time": "2020-10-09T07:24:12.720530Z"
    }
   },
   "outputs": [],
   "source": [
    "full_df[:10]"
   ]
  },
  {
   "cell_type": "code",
   "execution_count": null,
   "metadata": {
    "ExecuteTime": {
     "end_time": "2020-10-09T07:24:13.397181Z",
     "start_time": "2020-10-09T07:24:13.387552Z"
    }
   },
   "outputs": [],
   "source": [
    "filter_df[:10]"
   ]
  },
  {
   "cell_type": "code",
   "execution_count": null,
   "metadata": {
    "ExecuteTime": {
     "end_time": "2020-10-09T04:50:33.345336Z",
     "start_time": "2020-10-09T04:50:31.434810Z"
    }
   },
   "outputs": [],
   "source": [
    "chrom_list = [f\"chr{chrom + 1}\" for chrom in range(22)] + ['chrX']\n",
    "for chrom in chrom_list:\n",
    "    filter_df.query('Chr == @chrom').to_csv(os.path.join(output_path, f\"chroms/{chrom}.filtered.csv.gz\"), sep='\\t', index=False, compression=\"gzip\")\n",
    "    full_df.query('Chr == @chrom').to_csv(os.path.join(output_path, f\"chroms/{chrom}.full.csv.gz\"), sep='\\t', index=False, compression=\"gzip\")"
   ]
  },
  {
   "cell_type": "markdown",
   "metadata": {},
   "source": [
    "## Plan:\n",
    "\n",
    "+ for the PanelofNormals, create a coverage file for each PON bam and each chromosome\n",
    "+ Pon bams should optimally not contain CNV or there should be a lot of them to reduce the std\n",
    "+ put all the files into a big matrix and normalize coverages and produce an average coverage (+ std) for the exonic space\n",
    "+ compare the tumor samples against that PONcoverage to get differences in CNV"
   ]
  },
  {
   "cell_type": "markdown",
   "metadata": {},
   "source": [
    "### have to look at the Kenichi-CNV-graphs to identify the samples from FDAH1 without CNVs in the normals\n",
    "+ [1, 2, 4, 6, 7, 8, 9, 10, 11, 12, 13, 14, 15, 16]\n",
    "\n",
    "### alternative approach\n",
    "+ get all samples and remove the outliers from std"
   ]
  },
  {
   "cell_type": "code",
   "execution_count": null,
   "metadata": {
    "ExecuteTime": {
     "end_time": "2020-10-09T04:50:34.747221Z",
     "start_time": "2020-10-09T04:50:34.742697Z"
    }
   },
   "outputs": [],
   "source": [
    "bedCov_path"
   ]
  },
  {
   "cell_type": "code",
   "execution_count": null,
   "metadata": {
    "ExecuteTime": {
     "end_time": "2020-10-09T05:04:37.666067Z",
     "start_time": "2020-10-09T05:04:37.633218Z"
    }
   },
   "outputs": [],
   "source": [
    "test = pd.read_csv(f'{bedCov_path}/009_B.chr5.bedCov', sep='\\t', compression=\"gzip\")\n",
    "test[:3]"
   ]
  },
  {
   "cell_type": "markdown",
   "metadata": {},
   "source": [
    "### get all the normal samples from the PON list into df for normalization and averaging"
   ]
  },
  {
   "cell_type": "code",
   "execution_count": null,
   "metadata": {
    "ExecuteTime": {
     "end_time": "2020-10-09T06:05:19.250745Z",
     "start_time": "2020-10-09T06:05:19.244881Z"
    }
   },
   "outputs": [],
   "source": [
    "def gather_PONcoverage_chrom(chrom, sample_list, bedCov_path):\n",
    "    cov_df = pd.DataFrame(columns=['ExonPos', 'Pos'])\n",
    "    for sample in sample_list:\n",
    "        sample_file = os.path.join(bedCov_path, f\"{sample}.{chrom}.bedCov\")\n",
    "        if not os.path.isfile(sample_file):\n",
    "            continue\n",
    "        print(f\"Reading {sample} from {sample_file}.\")\n",
    "        df = pd.read_csv(sample_file, sep='\\t', compression='gzip').loc[:,['Pos', 'ExonPos', 'Coverage']].rename(columns={'Coverage':sample})\n",
    "        cov_df = cov_df.merge(df, on=['ExonPos', 'Pos'], how='outer')\n",
    "    cov_df = cov_df.fillna(0).sort_values('ExonPos')\n",
    "    cov_df['Chr'] = chrom\n",
    "    # reorder columns\n",
    "    cols = ['Chr', 'Pos', 'ExonPos'] + list(cov_df.columns)[2:-1]\n",
    "    return cov_df.loc[:,cols]"
   ]
  },
  {
   "cell_type": "code",
   "execution_count": null,
   "metadata": {
    "ExecuteTime": {
     "end_time": "2020-10-09T06:05:22.355331Z",
     "start_time": "2020-10-09T06:05:19.690424Z"
    }
   },
   "outputs": [],
   "source": [
    "import os\n",
    "sample_list = [f\"{str(s+1).zfill(3)}_B\" for s in range(45)]\n",
    "\n",
    "cov_df = gather_PONcoverage_chrom(\"chr7\", sample_list, bedCov_path)\n",
    "cov_df.to_csv(f\"{output_path}/PON_coverage.chr7.csv\", sep='\\t', index=False)\n",
    "cov_df"
   ]
  },
  {
   "cell_type": "markdown",
   "metadata": {},
   "source": [
    "### for proper normalization, the full exon coverages have to be read in before normalization"
   ]
  },
  {
   "cell_type": "code",
   "execution_count": null,
   "metadata": {
    "ExecuteTime": {
     "end_time": "2020-10-09T06:06:54.740109Z",
     "start_time": "2020-10-09T06:06:54.735237Z"
    }
   },
   "outputs": [],
   "source": [
    "chrom_list = [f\"chr{chrom + 1}\" for chrom in range(22)] + ['chrX']\n",
    "\n",
    "def gather_PONcoverage(chrom_list=[], sample_list=[], bedCov_path='.'):\n",
    "    '''\n",
    "    combine the PONcoverage for all chromosomes\n",
    "    '''\n",
    "    \n",
    "    cov_dfs = []\n",
    "    for chrom in chrom_list:\n",
    "        print(f\"Collecting PON coverages for {chrom}\")\n",
    "        cov_df = gather_PONcoverage_chrom(chrom, sample_list, bedCov_path)\n",
    "        cov_dfs.append(cov_df)\n",
    "    cov_df_full = pd.concat(cov_dfs).reset_index(drop=True)\n",
    "    return cov_df_full"
   ]
  },
  {
   "cell_type": "code",
   "execution_count": null,
   "metadata": {
    "ExecuteTime": {
     "end_time": "2020-10-09T06:08:11.130484Z",
     "start_time": "2020-10-09T06:06:55.411064Z"
    }
   },
   "outputs": [],
   "source": [
    "cov_df = gather_PONcoverage(chrom_list, sample_list, bedCov_path=bedCov_path)\n",
    "cov_df.to_csv(f\"{output_path}/PON_coverage.csv\", sep='\\t', index=False)\n",
    "cov_df"
   ]
  },
  {
   "cell_type": "markdown",
   "metadata": {},
   "source": [
    "### normalize the coverage to coverage 100"
   ]
  },
  {
   "cell_type": "code",
   "execution_count": null,
   "metadata": {
    "ExecuteTime": {
     "end_time": "2020-10-09T06:08:24.849438Z",
     "start_time": "2020-10-09T06:08:24.846205Z"
    }
   },
   "outputs": [],
   "source": [
    "def normalize_coverage(cov_df, norm_cov=100):\n",
    "    norm_df = cov_df.set_index(['Chr','Pos','ExonPos'])\n",
    "    norm_df = norm_df / norm_df.mean() * norm_cov\n",
    "    return norm_df.reset_index()"
   ]
  },
  {
   "cell_type": "code",
   "execution_count": null,
   "metadata": {
    "ExecuteTime": {
     "end_time": "2020-10-09T06:09:08.201278Z",
     "start_time": "2020-10-09T06:08:31.496384Z"
    }
   },
   "outputs": [],
   "source": [
    "norm_df = normalize_coverage(cov_df)\n",
    "norm_df.to_csv(f\"{output_path}/PON_coverage_normalized.csv\", sep='\\t', index=False)\n",
    "norm_df"
   ]
  },
  {
   "cell_type": "markdown",
   "metadata": {},
   "source": [
    "### compute the mean of all the coverages"
   ]
  },
  {
   "cell_type": "code",
   "execution_count": null,
   "metadata": {
    "ExecuteTime": {
     "end_time": "2020-10-09T06:15:38.835841Z",
     "start_time": "2020-10-09T06:15:34.700151Z"
    }
   },
   "outputs": [],
   "source": [
    "def add_mean(norm_df):\n",
    "    norm_df = norm_df.set_index(['Chr', 'Pos', 'ExonPos'])\n",
    "    norm_df['meanCov'] = norm_df.mean(axis=1)\n",
    "    norm_df['medianCov'] = norm_df.median(axis=1)\n",
    "    norm_df['std'] = norm_df.std(axis=1)\n",
    "    return norm_df.reset_index()\n",
    "mean_df = add_mean(norm_df)\n",
    "mean_df.to_csv(f\"{output_path}/PON_coverage_mean.csv\", sep='\\t', index=False)\n",
    "mean_df"
   ]
  },
  {
   "cell_type": "code",
   "execution_count": null,
   "metadata": {
    "ExecuteTime": {
     "end_time": "2020-10-09T06:15:40.157987Z",
     "start_time": "2020-10-09T06:15:40.153066Z"
    }
   },
   "outputs": [],
   "source": [
    "def get_full_exon_pos(df):\n",
    "    '''\n",
    "    adds the accumulated exonic position (over all chroms)\n",
    "    '''\n",
    "    \n",
    "    # save the output columns\n",
    "    cols = list(df.columns)\n",
    "    df = df.reset_index(drop=True)\n",
    "    # adds the last ExonPos of chrom to start of next chromosome\n",
    "    df.loc[:,'chromStep'] = df.shift(1)['ExonPos'].fillna(0).astype(int)\n",
    "    df.loc[df['Chr'] == df.shift(1)['Chr'],'chromStep'] = 0\n",
    "    df['chromAccum'] = df['chromStep'].cumsum()\n",
    "    df['FullExonPos'] = df['ExonPos'] + df['chromAccum']\n",
    "    cols = cols[:2] + ['FullExonPos'] + cols[2:]\n",
    "    return df[cols]"
   ]
  },
  {
   "cell_type": "code",
   "execution_count": null,
   "metadata": {
    "ExecuteTime": {
     "end_time": "2020-10-09T06:15:41.728023Z",
     "start_time": "2020-10-09T06:15:40.545602Z"
    }
   },
   "outputs": [],
   "source": [
    "full_df = get_full_exon_pos(mean_df)\n",
    "full_df"
   ]
  },
  {
   "cell_type": "markdown",
   "metadata": {},
   "source": [
    "### filter the coverage\n",
    "+ for filtering all outliers are removed that stray from the local mean above max_mean_std\n",
    "+ other filtering steps per position should be done afterwards during rolling window stuff:\n",
    "+ `filter_df = df.query('meanCov > @mincov and std < @max_mean_std')`\n"
   ]
  },
  {
   "cell_type": "code",
   "execution_count": null,
   "metadata": {
    "ExecuteTime": {
     "end_time": "2020-10-09T06:15:17.741359Z",
     "start_time": "2020-10-09T06:15:17.731061Z"
    }
   },
   "outputs": [],
   "source": [
    "mean_df['std'].max()"
   ]
  },
  {
   "cell_type": "markdown",
   "metadata": {},
   "source": [
    "### remove outliers in order to reduce noise"
   ]
  },
  {
   "cell_type": "code",
   "execution_count": null,
   "metadata": {
    "ExecuteTime": {
     "end_time": "2020-10-09T06:15:47.074079Z",
     "start_time": "2020-10-09T06:15:47.070114Z"
    }
   },
   "outputs": [],
   "source": [
    "def remove_outliers(df, std_factor=2.5):\n",
    "    # cycle through all sample cols, remove outliers and recompute the mean\n",
    "    for col in list(df.columns)[3:-3]:\n",
    "        df.loc[np.abs(df['meanCov'] - df[col]) / df['std'] > std_factor, col] = np.nan\n",
    "    return add_mean(df.iloc[:,:-3])"
   ]
  },
  {
   "cell_type": "code",
   "execution_count": null,
   "metadata": {
    "ExecuteTime": {
     "end_time": "2020-10-09T06:16:34.589674Z",
     "start_time": "2020-10-09T06:15:51.719118Z"
    }
   },
   "outputs": [],
   "source": [
    "filter_df = remove_outliers(mean_df, std_factor=2)\n",
    "filter_df.to_csv(f\"{output_path}/PON_coverage_filtered.csv\", sep='\\t', index=False)\n",
    "filter_df"
   ]
  },
  {
   "cell_type": "code",
   "execution_count": null,
   "metadata": {
    "ExecuteTime": {
     "end_time": "2020-10-09T05:26:05.176100Z",
     "start_time": "2020-10-09T05:26:05.168010Z"
    }
   },
   "outputs": [],
   "source": [
    "filter_df['std'].max()"
   ]
  },
  {
   "cell_type": "code",
   "execution_count": null,
   "metadata": {
    "ExecuteTime": {
     "end_time": "2020-10-09T06:16:54.844247Z",
     "start_time": "2020-10-09T06:16:54.799202Z"
    }
   },
   "outputs": [],
   "source": [
    "filter_df.loc[:,['Chr', 'Pos', 'ExonPos', 'meanCov', 'medianCov', 'std']]"
   ]
  },
  {
   "cell_type": "code",
   "execution_count": null,
   "metadata": {
    "ExecuteTime": {
     "end_time": "2020-10-09T06:43:35.600624Z",
     "start_time": "2020-10-09T06:43:35.595312Z"
    }
   },
   "outputs": [],
   "source": [
    "def make_PON_coverage(sample_list, chrom_list=[f\"chr{chrom + 1}\" for chrom in range(22)] + ['chrX'], config={\n",
    "    # provide a different chrom_list if you don't want standard ['chr1', 'chr2'...]\n",
    "    'normCov':100,       # to what value are coverages normalized#\n",
    "    'stdFactor': 3,     # only exonPositions straighing within std_factor * std around meanCoverage are kept\n",
    "    'bed_cov_path': '.' # the path to the bed_cover_file\n",
    "}):\n",
    "    # load all sample coverages for one chromosome\n",
    "    cov_df = gather_PONcoverage(chrom_list=chrom_list, sample_list=sample_list, bedCov_path=config['sample_PON_path'])\n",
    "    \n",
    "    # normalize and add mean values and std\n",
    "    mean_df = add_mean(normalize_coverage(cov_df, norm_cov=config['normCov']))\n",
    "    # add full exon coords to normalized PON coverage\n",
    "    full_df = get_full_exon_pos(mean_df)\n",
    "    \n",
    "    filter_df = remove_outliers(mean_df, std_factor=config['stdFactor'])\n",
    "    # remove sample columns and addd full exon coords to filtered PON coverage\n",
    "    filter_df = get_full_exon_pos(filter_df.loc[:,['Chr', 'Pos', 'ExonPos', 'meanCov', 'medianCov', 'std']])\n",
    "    return full_df, filter_df"
   ]
  },
  {
   "cell_type": "code",
   "execution_count": null,
   "metadata": {
    "ExecuteTime": {
     "end_time": "2020-10-09T06:43:36.281995Z",
     "start_time": "2020-10-09T06:43:36.268754Z"
    }
   },
   "outputs": [],
   "source": [
    "config = {\n",
    "    'normCov':100,  \n",
    "    'stdFactor': 2,\n",
    "    'sample_PON_path': bedCov_path\n",
    "} \n",
    "sample_list = [f\"{str(s+1).zfill(3)}_B\" for s in range(45)]\n",
    "\n",
    "full_df, filter_df = make_PON_coverage(sample_list, config=config)"
   ]
  },
  {
   "cell_type": "code",
   "execution_count": null,
   "metadata": {
    "ExecuteTime": {
     "end_time": "2020-10-09T06:28:44.822950Z",
     "start_time": "2020-10-09T06:28:44.796588Z"
    }
   },
   "outputs": [],
   "source": [
    "full_df[:10]"
   ]
  },
  {
   "cell_type": "code",
   "execution_count": null,
   "metadata": {
    "ExecuteTime": {
     "end_time": "2020-10-09T06:28:45.758740Z",
     "start_time": "2020-10-09T06:28:45.748677Z"
    }
   },
   "outputs": [],
   "source": [
    "filter_df[:10]\n",
    "filter_df.to_csv(f\"{output_path}/PON_coverage_filtered.csv\", sep='\\t', index=False)"
   ]
  }
 ],
 "metadata": {
  "kernelspec": {
   "display_name": "Python 3",
   "language": "python",
   "name": "python3"
  },
  "language_info": {
   "codemirror_mode": {
    "name": "ipython",
    "version": 3
   },
   "file_extension": ".py",
   "mimetype": "text/x-python",
   "name": "python",
   "nbconvert_exporter": "python",
   "pygments_lexer": "ipython3",
   "version": "3.8.5"
  },
  "varInspector": {
   "cols": {
    "lenName": 16,
    "lenType": 16,
    "lenVar": 40
   },
   "kernels_config": {
    "python": {
     "delete_cmd_postfix": "",
     "delete_cmd_prefix": "del ",
     "library": "var_list.py",
     "varRefreshCmd": "print(var_dic_list())"
    },
    "r": {
     "delete_cmd_postfix": ") ",
     "delete_cmd_prefix": "rm(",
     "library": "var_list.r",
     "varRefreshCmd": "cat(var_dic_list()) "
    }
   },
   "types_to_exclude": [
    "module",
    "function",
    "builtin_function_or_method",
    "instance",
    "_Feature"
   ],
   "window_display": false
  }
 },
 "nbformat": 4,
 "nbformat_minor": 4
}
