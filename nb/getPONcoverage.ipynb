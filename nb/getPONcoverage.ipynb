{
 "cells": [
  {
   "cell_type": "markdown",
   "metadata": {},
   "source": [
    "## combining individual coverage data into a mean-normalized coverage"
   ]
  },
  {
   "cell_type": "markdown",
   "metadata": {},
   "source": [
    "## Plan:\n",
    "\n",
    "+ for the PanelofNormals, create a coverage file for each PON bam and each chromosome\n",
    "+ Pon bams should optimally not contain CNV or there should be a lot of them to reduce the std\n",
    "+ put all the files into a big matrix and normalize coverages and produce an average coverage (+ std) for the exonic space\n",
    "+ compare the tumor samples against that PONcoverage to get differences in CNV"
   ]
  },
  {
   "cell_type": "markdown",
   "metadata": {},
   "source": [
    "### have to look at the Kenichi-CNV-graphs to identify the samples from FDAH1 without CNVs in the normals\n",
    "+ [1, 2, 4, 6, 7, 8, 9, 10, 11, 12, 13, 14, 15, 16]"
   ]
  },
  {
   "cell_type": "code",
   "execution_count": 3,
   "metadata": {
    "ExecuteTime": {
     "end_time": "2020-09-28T11:35:06.741785Z",
     "start_time": "2020-09-28T11:35:06.738451Z"
    }
   },
   "outputs": [],
   "source": [
    "# set the paths\n",
    "home = '/Users/mahtin'\n",
    "home = '/Users/martinscience'\n",
    "testdata = f\"{home}/Dropbox/Icke/Work/somVar/testdata\"\n",
    "tooldata = f\"{home}/Dropbox/Icke/Work/somVar/tooldata\"\n",
    "shell_path = \"../shell\"\n",
    "static_path = f\"{home}/Dropbox/Icke/Work/static\"\n",
    "bed_path = f\"{static_path}/bed_files/SureSelect/hg38\"\n",
    "\n",
    "cnvdata = f\"{tooldata}/myCNVdata/\"\n",
    "bedCov_path = f\"{cnvdata}/bedCov\"\n",
    "bedCov_path = f\"{home}/mount/scratch/develop/PONcoverage/bedCov\"\n",
    "output_path = f\"{cnvdata}/output\""
   ]
  },
  {
   "cell_type": "code",
   "execution_count": 4,
   "metadata": {
    "ExecuteTime": {
     "end_time": "2020-09-28T11:35:08.218157Z",
     "start_time": "2020-09-28T11:35:08.212994Z"
    }
   },
   "outputs": [
    {
     "data": {
      "text/plain": [
       "'/Users/martinscience/mount/scratch/develop/PONcoverage/bedCov'"
      ]
     },
     "execution_count": 4,
     "metadata": {},
     "output_type": "execute_result"
    }
   ],
   "source": [
    "bedCov_path"
   ]
  },
  {
   "cell_type": "code",
   "execution_count": 5,
   "metadata": {
    "ExecuteTime": {
     "end_time": "2020-09-28T11:35:11.733842Z",
     "start_time": "2020-09-28T11:35:11.533103Z"
    }
   },
   "outputs": [
    {
     "data": {
      "text/html": [
       "<div>\n",
       "<style scoped>\n",
       "    .dataframe tbody tr th:only-of-type {\n",
       "        vertical-align: middle;\n",
       "    }\n",
       "\n",
       "    .dataframe tbody tr th {\n",
       "        vertical-align: top;\n",
       "    }\n",
       "\n",
       "    .dataframe thead th {\n",
       "        text-align: right;\n",
       "    }\n",
       "</style>\n",
       "<table border=\"1\" class=\"dataframe\">\n",
       "  <thead>\n",
       "    <tr style=\"text-align: right;\">\n",
       "      <th></th>\n",
       "      <th>Chr</th>\n",
       "      <th>Pos</th>\n",
       "      <th>Coverage</th>\n",
       "      <th>ExonPos</th>\n",
       "    </tr>\n",
       "  </thead>\n",
       "  <tbody>\n",
       "    <tr>\n",
       "      <th>0</th>\n",
       "      <td>chr5</td>\n",
       "      <td>140300</td>\n",
       "      <td>184.30</td>\n",
       "      <td>33</td>\n",
       "    </tr>\n",
       "    <tr>\n",
       "      <th>1</th>\n",
       "      <td>chr5</td>\n",
       "      <td>140350</td>\n",
       "      <td>242.62</td>\n",
       "      <td>83</td>\n",
       "    </tr>\n",
       "    <tr>\n",
       "      <th>2</th>\n",
       "      <td>chr5</td>\n",
       "      <td>140400</td>\n",
       "      <td>288.67</td>\n",
       "      <td>133</td>\n",
       "    </tr>\n",
       "    <tr>\n",
       "      <th>3</th>\n",
       "      <td>chr5</td>\n",
       "      <td>140450</td>\n",
       "      <td>347.07</td>\n",
       "      <td>183</td>\n",
       "    </tr>\n",
       "    <tr>\n",
       "      <th>4</th>\n",
       "      <td>chr5</td>\n",
       "      <td>140500</td>\n",
       "      <td>406.70</td>\n",
       "      <td>233</td>\n",
       "    </tr>\n",
       "    <tr>\n",
       "      <th>5</th>\n",
       "      <td>chr5</td>\n",
       "      <td>140550</td>\n",
       "      <td>480.91</td>\n",
       "      <td>283</td>\n",
       "    </tr>\n",
       "    <tr>\n",
       "      <th>6</th>\n",
       "      <td>chr5</td>\n",
       "      <td>140600</td>\n",
       "      <td>544.79</td>\n",
       "      <td>333</td>\n",
       "    </tr>\n",
       "    <tr>\n",
       "      <th>7</th>\n",
       "      <td>chr5</td>\n",
       "      <td>140650</td>\n",
       "      <td>523.75</td>\n",
       "      <td>383</td>\n",
       "    </tr>\n",
       "    <tr>\n",
       "      <th>8</th>\n",
       "      <td>chr5</td>\n",
       "      <td>140700</td>\n",
       "      <td>384.47</td>\n",
       "      <td>433</td>\n",
       "    </tr>\n",
       "    <tr>\n",
       "      <th>9</th>\n",
       "      <td>chr5</td>\n",
       "      <td>140750</td>\n",
       "      <td>187.23</td>\n",
       "      <td>483</td>\n",
       "    </tr>\n",
       "    <tr>\n",
       "      <th>10</th>\n",
       "      <td>chr5</td>\n",
       "      <td>143050</td>\n",
       "      <td>571.69</td>\n",
       "      <td>568</td>\n",
       "    </tr>\n",
       "    <tr>\n",
       "      <th>11</th>\n",
       "      <td>chr5</td>\n",
       "      <td>143100</td>\n",
       "      <td>623.69</td>\n",
       "      <td>618</td>\n",
       "    </tr>\n",
       "    <tr>\n",
       "      <th>12</th>\n",
       "      <td>chr5</td>\n",
       "      <td>143150</td>\n",
       "      <td>525.64</td>\n",
       "      <td>668</td>\n",
       "    </tr>\n",
       "  </tbody>\n",
       "</table>\n",
       "</div>"
      ],
      "text/plain": [
       "     Chr     Pos  Coverage  ExonPos\n",
       "0   chr5  140300    184.30       33\n",
       "1   chr5  140350    242.62       83\n",
       "2   chr5  140400    288.67      133\n",
       "3   chr5  140450    347.07      183\n",
       "4   chr5  140500    406.70      233\n",
       "5   chr5  140550    480.91      283\n",
       "6   chr5  140600    544.79      333\n",
       "7   chr5  140650    523.75      383\n",
       "8   chr5  140700    384.47      433\n",
       "9   chr5  140750    187.23      483\n",
       "10  chr5  143050    571.69      568\n",
       "11  chr5  143100    623.69      618\n",
       "12  chr5  143150    525.64      668"
      ]
     },
     "execution_count": 5,
     "metadata": {},
     "output_type": "execute_result"
    }
   ],
   "source": [
    "test = pd.read_csv(f'{bedCov_path}/009_B.chr5.bedCov', sep='\\t', compression=\"gzip\")\n",
    "test[:13]"
   ]
  },
  {
   "cell_type": "markdown",
   "metadata": {},
   "source": [
    "### get all the normal samples (without CNV) into df for normalization and averaging"
   ]
  },
  {
   "cell_type": "code",
   "execution_count": 7,
   "metadata": {
    "ExecuteTime": {
     "end_time": "2020-09-28T11:35:33.092783Z",
     "start_time": "2020-09-28T11:35:30.006237Z"
    }
   },
   "outputs": [
    {
     "name": "stdout",
     "output_type": "stream",
     "text": [
      "Reading 001_B from /Users/martinscience/mount/scratch/develop/PONcoverage/bedCov/001_B.chr7.bedCov.\n",
      "Reading 002_B from /Users/martinscience/mount/scratch/develop/PONcoverage/bedCov/002_B.chr7.bedCov.\n",
      "Reading 004_B from /Users/martinscience/mount/scratch/develop/PONcoverage/bedCov/004_B.chr7.bedCov.\n",
      "Reading 006_B from /Users/martinscience/mount/scratch/develop/PONcoverage/bedCov/006_B.chr7.bedCov.\n",
      "Reading 008_B from /Users/martinscience/mount/scratch/develop/PONcoverage/bedCov/008_B.chr7.bedCov.\n",
      "Reading 009_B from /Users/martinscience/mount/scratch/develop/PONcoverage/bedCov/009_B.chr7.bedCov.\n",
      "Reading 010_B from /Users/martinscience/mount/scratch/develop/PONcoverage/bedCov/010_B.chr7.bedCov.\n",
      "Reading 011_B from /Users/martinscience/mount/scratch/develop/PONcoverage/bedCov/011_B.chr7.bedCov.\n",
      "Reading 012_B from /Users/martinscience/mount/scratch/develop/PONcoverage/bedCov/012_B.chr7.bedCov.\n",
      "Reading 013_B from /Users/martinscience/mount/scratch/develop/PONcoverage/bedCov/013_B.chr7.bedCov.\n",
      "Reading 014_B from /Users/martinscience/mount/scratch/develop/PONcoverage/bedCov/014_B.chr7.bedCov.\n",
      "Reading 015_B from /Users/martinscience/mount/scratch/develop/PONcoverage/bedCov/015_B.chr7.bedCov.\n",
      "Reading 016_B from /Users/martinscience/mount/scratch/develop/PONcoverage/bedCov/016_B.chr7.bedCov.\n"
     ]
    }
   ],
   "source": [
    "# try with pd merge\n",
    "import os\n",
    "samples = [1, 2, 4, 6, 8, 9, 10, 11, 12, 13, 14, 15, 16]\n",
    "cov_df = pd.DataFrame(columns=['ExonPos', 'Pos'])\n",
    "for sample in [f\"{str(s).zfill(3)}_B\" for s in samples]:\n",
    "    file = os.path.join(bedCov_path, f\"{sample}.chr7.bedCov\")\n",
    "    print(f\"Reading {sample} from {file}.\")\n",
    "    df = pd.read_csv(file, sep='\\t', compression='gzip').loc[:,['Pos', 'ExonPos', 'Coverage']].rename(columns={'Coverage':sample})\n",
    "    cov_df = cov_df.merge(df, on=['ExonPos', 'Pos'], how='outer')\n",
    "\n",
    "cov_df = cov_df.fillna(0).sort_values('ExonPos').set_index(['Pos', 'ExonPos'])\n",
    "cov_df\n",
    "cov_df.to_csv(f\"{output_path}/PON_coverage.csv\", sep='\\t', index=False)"
   ]
  },
  {
   "cell_type": "markdown",
   "metadata": {},
   "source": [
    "### make a stacked \"tidy version\" of the coverage df for vizualisation in tidyverse"
   ]
  },
  {
   "cell_type": "code",
   "execution_count": 27,
   "metadata": {},
   "outputs": [],
   "source": [
    "def tidy_df(df):\n",
    "    return df.reset_index().drop(columns='Pos').set_index('ExonPos').stack().reset_index().rename(columns={'level_1':'sample', 0:'Coverage'})\n",
    "\n",
    "tidy_df(cov_df).to_csv(f\"{output_path}/PON_coverage_tidy.csv\", sep='\\t', index=False)"
   ]
  },
  {
   "cell_type": "markdown",
   "metadata": {},
   "source": [
    "### normalize the coverage to an arbitrary coverage of 250 "
   ]
  },
  {
   "cell_type": "code",
   "execution_count": 29,
   "metadata": {
    "ExecuteTime": {
     "end_time": "2020-09-28T11:36:06.552726Z",
     "start_time": "2020-09-28T11:36:06.514449Z"
    }
   },
   "outputs": [],
   "source": [
    "# normalize sample coverages to an average coverage of 250\n",
    "norm_cov = cov_df / cov_df.mean() * 250\n",
    "norm_cov\n",
    "\n",
    "tidy_df(norm_cov).to_csv(f\"{output_path}/PON_coverage_normtidy.csv\", sep='\\t', index=False)\n",
    "# norm_cov.to_csv(f\"{bedCov}/all_norm.bedCov\", sep='\\t')\n",
    "\n",
    "# normtidy = norm_cov.stack().reset_index().set_index('#').rename(columns={'level_1':'sample', 0:'Coverage'})\n",
    "# normtidy.to_csv(f\"{bedCov}/all_norm_tidy.bedCov\", sep='\\t')\n",
    "# normtidy"
   ]
  },
  {
   "cell_type": "markdown",
   "metadata": {},
   "source": [
    "### avg_cov has the coverage of the \"panel of normals\""
   ]
  },
  {
   "cell_type": "code",
   "execution_count": 32,
   "metadata": {
    "ExecuteTime": {
     "end_time": "2020-09-28T11:38:48.238199Z",
     "start_time": "2020-09-28T11:38:48.200905Z"
    }
   },
   "outputs": [],
   "source": [
    "chrom = \"chr7\"\n",
    "avg_cov = pd.DataFrame(index=norm_cov.index)\n",
    "avg_cov['meanCov'] = norm_cov.mean(axis=1)\n",
    "avg_cov['medianCov'] = norm_cov.median(axis=1)\n",
    "avg_cov['std'] = norm_cov.std(axis=1)\n",
    "\n",
    "avg_cov = avg_cov.reset_index()\n",
    "avg_cov['Chr'] = chrom\n",
    "avg_cov = avg_cov.reset_index().loc[:, ['Chr', 'Pos', 'ExonPos', 'meanCov', 'std']]\n",
    "avg_cov\n",
    "avg_cov.to_csv(f\"{output_path}/PON_coverage.chr7.csv\", sep='\\t', index=False)"
   ]
  }
 ],
 "metadata": {
  "kernelspec": {
   "display_name": "Python 3",
   "language": "python",
   "name": "python3"
  },
  "language_info": {
   "codemirror_mode": {
    "name": "ipython",
    "version": 3
   },
   "file_extension": ".py",
   "mimetype": "text/x-python",
   "name": "python",
   "nbconvert_exporter": "python",
   "pygments_lexer": "ipython3",
   "version": "3.8.5"
  },
  "varInspector": {
   "cols": {
    "lenName": 16,
    "lenType": 16,
    "lenVar": 40
   },
   "kernels_config": {
    "python": {
     "delete_cmd_postfix": "",
     "delete_cmd_prefix": "del ",
     "library": "var_list.py",
     "varRefreshCmd": "print(var_dic_list())"
    },
    "r": {
     "delete_cmd_postfix": ") ",
     "delete_cmd_prefix": "rm(",
     "library": "var_list.r",
     "varRefreshCmd": "cat(var_dic_list()) "
    }
   },
   "types_to_exclude": [
    "module",
    "function",
    "builtin_function_or_method",
    "instance",
    "_Feature"
   ],
   "window_display": false
  }
 },
 "nbformat": 4,
 "nbformat_minor": 4
}
