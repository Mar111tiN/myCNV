{
 "cells": [
  {
   "cell_type": "markdown",
   "metadata": {},
   "source": [
    "# getting SNP and coverage data from PONmatrix\n",
    "## python wrapper around samtools / mawktools\n",
    "+ cleanpileup --> filterBED --> PON2SNP"
   ]
  },
  {
   "cell_type": "code",
   "execution_count": 4,
   "metadata": {
    "ExecuteTime": {
     "end_time": "2021-05-29T12:12:55.160248Z",
     "start_time": "2021-05-29T12:12:55.155330Z"
    }
   },
   "outputs": [],
   "source": [
    "# get the code\n",
    "import sys\n",
    "import os\n",
    "sys.path.append('../code')\n",
    "\n",
    "# import package functions\n",
    "from script_utils_CNV import get_CNVconfig, show_output, cmd2df\n",
    "from CNV_raw import addGCratio, addGenmap, PON2CNV\n",
    "\n",
    "# HOME\n",
    "home = '/Users/mahtin'\n",
    "home = '/Users/martinscience'\n",
    "\n",
    "# standard paths\n",
    "static = os.path.join(home, \"Dropbox/Icke/Work/static\")\n",
    "tooldata = os.path.join(home, \"Dropbox/Icke/Work/somVar/tooldata\")\n",
    "testdata = os.path.join(home,\"Dropbox/Icke/Work/somVar/testdata\")\n",
    "\n",
    " \n",
    "cnvdata = os.path.join(tooldata, \"myCNVdata\")\n",
    "output_path = os.path.join(cnvdata, \"output\")\n",
    "\n",
    "# the path to the input data\n",
    "cnv_path = os.path.join(cnvdata, \"cnv\")"
   ]
  },
  {
   "cell_type": "markdown",
   "metadata": {},
   "source": [
    "### get the config\n",
    "+ use the get_CNVconfig util function to update the general configs with the appropriate paths\n",
    "+ makes the config more pluggable"
   ]
  },
  {
   "cell_type": "code",
   "execution_count": 5,
   "metadata": {
    "ExecuteTime": {
     "end_time": "2021-05-29T12:12:56.385930Z",
     "start_time": "2021-05-29T12:12:56.378743Z"
    }
   },
   "outputs": [
    {
     "data": {
      "text/plain": [
       "{'pileup': {'MAPQ': 20, 'Q': 25},\n",
       " 'hetSNP': {'normalVAF': [0.2, 0.8], 'minDepth': 15},\n",
       " 'coverage': {'minCov': 0, 'minPONcov': 50, 'maxPONstd': 50},\n",
       " 'PONcoverage': {'minCov': 0,\n",
       "  'minVAF': 0.25,\n",
       "  'minDepth': 50,\n",
       "  'normCov': 100,\n",
       "  'stdFactor': 2,\n",
       "  'verbose_output': False},\n",
       " 'mawk_path': '../shell',\n",
       " 'bed_file': '/Users/mahtin/Dropbox/Icke/Work/static/bed_files/SureSelect/hg38/SS_HAEv7_hg38_Padded.bed',\n",
       " 'gc_split_path': '/Users/mahtin/Dropbox/Icke/Work/static/genome/gatk/hg38/split',\n",
       " 'PON_path': '/Users/mahtin/Dropbox/Icke/Work/static/PON/HAEv7_hg38_NovaSeq',\n",
       " 'genmap_split_path': '/Users/mahtin/Dropbox/Icke/Work/static/annotation/genmap/hg38/split'}"
      ]
     },
     "execution_count": 5,
     "metadata": {},
     "output_type": "execute_result"
    }
   ],
   "source": [
    "CNVconfig = get_CNVconfig(\n",
    "    \"../config/config_CNV.yaml\", \n",
    "    local_config=dict(\n",
    "        mawk_path=\"../shell\",\n",
    "        bed_file=os.path.join(static, \"bed_files/SureSelect/hg38/SS_HAEv7_hg38_Padded.bed\"),\n",
    "        gc_split_path=os.path.join(static, \"genome/gatk/hg38/split\"),\n",
    "        PON_path = os.path.join(static, \"PON/HAEv7_hg38_NovaSeq\"),\n",
    "        genmap_split_path=os.path.join(static, \"annotation/genmap/hg38/split\")\n",
    "    ))\n",
    "CNVconfig"
   ]
  },
  {
   "cell_type": "markdown",
   "metadata": {},
   "source": [
    "## run the code"
   ]
  },
  {
   "cell_type": "code",
   "execution_count": null,
   "metadata": {
    "ExecuteTime": {
     "end_time": "2021-05-28T12:52:46.950620Z",
     "start_time": "2021-05-28T12:52:25.445685Z"
    }
   },
   "outputs": [],
   "source": [
    "chrom = \"chr21\"\n",
    "pon_df, snp_df = PON2CNV(\n",
    "    chrom=chrom,\n",
    "    config=CNVconfig\n",
    ")\n",
    "pon_df"
   ]
  },
  {
   "cell_type": "markdown",
   "metadata": {},
   "source": [
    "##  the function"
   ]
  },
  {
   "cell_type": "code",
   "execution_count": null,
   "metadata": {
    "ExecuteTime": {
     "end_time": "2021-05-28T10:12:43.103618Z",
     "start_time": "2021-05-28T10:12:43.095905Z"
    }
   },
   "outputs": [],
   "source": [
    "def PON2CNV(\n",
    "    chrom=\"\",\n",
    "    config={}\n",
    "):\n",
    "    \"\"\"\n",
    "    wrapper around CLI chain around the core tool PON2CNV.mawk\n",
    "\n",
    "    \"\"\"\n",
    "\n",
    "    # PARAMS\n",
    "    # unwrap mawk tools\n",
    "    def mawk(tool):\n",
    "        return os.path.join(config[\"mawk_path\"], f\"{tool}.mawk\")\n",
    "    \n",
    "    pon_path = config['PON_path']\n",
    "    c = config[\"PONcoverage\"]\n",
    "    \n",
    "    # ####BUILD COMMAND #########\n",
    "    # ### READ PONMATRIX\n",
    "    matrix_file = os.path.join(pon_path, f\"matrix/{chrom}.pon.gz\")\n",
    "    if not os.path.isfile(matrix_file):\n",
    "        show_output(f\"PON matrix file {matrix_file} not found! Exiting.\", color=\"warning\")\n",
    "        return\n",
    "    read_cmd = f\"gunzip < {matrix_file}\"\n",
    "    \n",
    "    # ### FILTERBED\n",
    "    filter_cmd = f\"{mawk('filterBed')} {config['bed_file']} -x -c {chrom}\"\n",
    "\n",
    "    # ##### PON2CNV\n",
    "    SNP_file = os.path.join(pon_path, f\"snp/{chrom}.snp\")\n",
    "    \n",
    "    cnv_cmd = f\"{mawk('PON2CNV')} -x -o {SNP_file} -v {c['minVAF']} -d {c['minDepth']} -c {c['minCov']}\"\n",
    "\n",
    "    # combine\n",
    "    cmd = f\"{read_cmd} | {filter_cmd} | {cnv_cmd}\"\n",
    "\n",
    "    try:\n",
    "        cov_df = cmd2df(cmd, show=True, multi=False)\n",
    "    except Exception as e:\n",
    "        show_output(f\"There was an error using shell command <<{e}>>\", color=\"warning\")\n",
    "        return cmd\n",
    "\n",
    "    # add GC\n",
    "    if \"gc_split_path\" in config and os.path.isdir(gc_path := config['gc_split_path']):\n",
    "        cov_df = addGCratio(cov_df, chrom=chrom, gc_path=gc_path)\n",
    "    else:\n",
    "        show_output(f\"Could not find GC path {gc_path}\", color=\"warning\")\n",
    "\n",
    "    # add genmap data to both cov and snp data\n",
    "    if \"genmap_split_path\" in config and os.path.isdir(genmap_path := config['genmap_split_path']):\n",
    "        # reload snp_df from temp file\n",
    "        show_output(f\"Reloading PONSNP data from {SNP_file}\")\n",
    "        snp_df = pd.read_csv(SNP_file, sep=\"\\t\")\n",
    "        cov_df, snp_df = addGenmap(cov_df, snp_df, chrom=\"chr7\", genmap_path=genmap_path)\n",
    "        # resave snp_df\n",
    "        show_output(f\"Resaving annotated heteroSNP data to {SNP_file}.gz\")\n",
    "        snp_df.to_csv(f\"{SNP_file}.gz\", index=False, sep=\"\\t\", compression=\"gzip\")\n",
    "        os.remove(SNP_file)\n",
    "    else:\n",
    "        show_output(f\"Could not find genmap path {genmap_path}\", color=\"warning\")\n",
    "    return cov_df, snp_df"
   ]
  },
  {
   "cell_type": "code",
   "execution_count": null,
   "metadata": {
    "ExecuteTime": {
     "end_time": "2021-05-28T10:14:40.563516Z",
     "start_time": "2021-05-28T10:12:45.908568Z"
    }
   },
   "outputs": [],
   "source": [
    "cov_df, snp_df = PON2CNV(\n",
    "    chrom=\"chr21\",\n",
    "    config=CNVconfig\n",
    ")\n",
    "cov_df"
   ]
  },
  {
   "cell_type": "code",
   "execution_count": null,
   "metadata": {},
   "outputs": [],
   "source": [
    "snp_df"
   ]
  },
  {
   "cell_type": "markdown",
   "metadata": {},
   "source": [
    "### run all chroms"
   ]
  },
  {
   "cell_type": "code",
   "execution_count": 6,
   "metadata": {
    "ExecuteTime": {
     "end_time": "2021-05-29T13:24:47.209858Z",
     "start_time": "2021-05-29T12:12:58.755233Z"
    }
   },
   "outputs": [
    {
     "name": "stdout",
     "output_type": "stream",
     "text": [
      "\u001b[1;90;1mPON2CNV for chr1\u001b[0m\n",
      "\u001b[1m$ gunzip < /Users/mahtin/Dropbox/Icke/Work/static/PON/HAEv7_hg38_NovaSeq/matrix/chr1.pon.gz | ../shell/filterBed.mawk /Users/mahtin/Dropbox/Icke/Work/static/bed_files/SureSelect/hg38/SS_HAEv7_hg38_Padded.bed -x -c chr1 | ../shell/PON2CNV.mawk -x -o /Users/mahtin/Dropbox/Icke/Work/static/PON/HAEv7_hg38_NovaSeq/snp/chr1.snp -v 0.25 -d 50 -c 0\u001b[0m\n",
      "\u001b[1;90;1mLoading GC data for chr1 from /Users/mahtin/Dropbox/Icke/Work/static/genome/gatk/hg38/split/chr1.gc100-10.gz\u001b[0m\n",
      "\u001b[1;90;1mReloading PONSNP data from /Users/mahtin/Dropbox/Icke/Work/static/PON/HAEv7_hg38_NovaSeq/snp/chr1.snp\u001b[0m\n",
      "\u001b[1;90;1mLoading mappability data for chr1 from /Users/mahtin/Dropbox/Icke/Work/static/annotation/genmap/hg38/split/hg38_genmap.HAEv7.chr1.txt.gz\u001b[0m\n",
      "\u001b[1;90;1mResaving annotated heteroSNP data to /Users/mahtin/Dropbox/Icke/Work/static/PON/HAEv7_hg38_NovaSeq/snp/chr1.snp.gz\u001b[0m\n",
      "\u001b[1;90;1mWriting PON coverage to /Users/mahtin/Dropbox/Icke/Work/static/PON/HAEv7_hg38_NovaSeq/cov/chr1.cov.gz\u001b[0m\n",
      "\u001b[1;90;1mPON2CNV for chr2\u001b[0m\n",
      "\u001b[1m$ gunzip < /Users/mahtin/Dropbox/Icke/Work/static/PON/HAEv7_hg38_NovaSeq/matrix/chr2.pon.gz | ../shell/filterBed.mawk /Users/mahtin/Dropbox/Icke/Work/static/bed_files/SureSelect/hg38/SS_HAEv7_hg38_Padded.bed -x -c chr2 | ../shell/PON2CNV.mawk -x -o /Users/mahtin/Dropbox/Icke/Work/static/PON/HAEv7_hg38_NovaSeq/snp/chr2.snp -v 0.25 -d 50 -c 0\u001b[0m\n",
      "\u001b[1;90;1mLoading GC data for chr2 from /Users/mahtin/Dropbox/Icke/Work/static/genome/gatk/hg38/split/chr2.gc100-10.gz\u001b[0m\n",
      "\u001b[1;90;1mReloading PONSNP data from /Users/mahtin/Dropbox/Icke/Work/static/PON/HAEv7_hg38_NovaSeq/snp/chr2.snp\u001b[0m\n",
      "\u001b[1;90;1mLoading mappability data for chr2 from /Users/mahtin/Dropbox/Icke/Work/static/annotation/genmap/hg38/split/hg38_genmap.HAEv7.chr2.txt.gz\u001b[0m\n",
      "\u001b[1;90;1mResaving annotated heteroSNP data to /Users/mahtin/Dropbox/Icke/Work/static/PON/HAEv7_hg38_NovaSeq/snp/chr2.snp.gz\u001b[0m\n",
      "\u001b[1;90;1mWriting PON coverage to /Users/mahtin/Dropbox/Icke/Work/static/PON/HAEv7_hg38_NovaSeq/cov/chr2.cov.gz\u001b[0m\n",
      "\u001b[1;90;1mPON2CNV for chr3\u001b[0m\n",
      "\u001b[1m$ gunzip < /Users/mahtin/Dropbox/Icke/Work/static/PON/HAEv7_hg38_NovaSeq/matrix/chr3.pon.gz | ../shell/filterBed.mawk /Users/mahtin/Dropbox/Icke/Work/static/bed_files/SureSelect/hg38/SS_HAEv7_hg38_Padded.bed -x -c chr3 | ../shell/PON2CNV.mawk -x -o /Users/mahtin/Dropbox/Icke/Work/static/PON/HAEv7_hg38_NovaSeq/snp/chr3.snp -v 0.25 -d 50 -c 0\u001b[0m\n",
      "\u001b[1;90;1mLoading GC data for chr3 from /Users/mahtin/Dropbox/Icke/Work/static/genome/gatk/hg38/split/chr3.gc100-10.gz\u001b[0m\n",
      "\u001b[1;90;1mReloading PONSNP data from /Users/mahtin/Dropbox/Icke/Work/static/PON/HAEv7_hg38_NovaSeq/snp/chr3.snp\u001b[0m\n",
      "\u001b[1;90;1mLoading mappability data for chr3 from /Users/mahtin/Dropbox/Icke/Work/static/annotation/genmap/hg38/split/hg38_genmap.HAEv7.chr3.txt.gz\u001b[0m\n",
      "\u001b[1;90;1mResaving annotated heteroSNP data to /Users/mahtin/Dropbox/Icke/Work/static/PON/HAEv7_hg38_NovaSeq/snp/chr3.snp.gz\u001b[0m\n",
      "\u001b[1;90;1mWriting PON coverage to /Users/mahtin/Dropbox/Icke/Work/static/PON/HAEv7_hg38_NovaSeq/cov/chr3.cov.gz\u001b[0m\n",
      "\u001b[1;90;1mPON2CNV for chr4\u001b[0m\n",
      "\u001b[1m$ gunzip < /Users/mahtin/Dropbox/Icke/Work/static/PON/HAEv7_hg38_NovaSeq/matrix/chr4.pon.gz | ../shell/filterBed.mawk /Users/mahtin/Dropbox/Icke/Work/static/bed_files/SureSelect/hg38/SS_HAEv7_hg38_Padded.bed -x -c chr4 | ../shell/PON2CNV.mawk -x -o /Users/mahtin/Dropbox/Icke/Work/static/PON/HAEv7_hg38_NovaSeq/snp/chr4.snp -v 0.25 -d 50 -c 0\u001b[0m\n",
      "\u001b[1;90;1mLoading GC data for chr4 from /Users/mahtin/Dropbox/Icke/Work/static/genome/gatk/hg38/split/chr4.gc100-10.gz\u001b[0m\n",
      "\u001b[1;90;1mReloading PONSNP data from /Users/mahtin/Dropbox/Icke/Work/static/PON/HAEv7_hg38_NovaSeq/snp/chr4.snp\u001b[0m\n",
      "\u001b[1;90;1mLoading mappability data for chr4 from /Users/mahtin/Dropbox/Icke/Work/static/annotation/genmap/hg38/split/hg38_genmap.HAEv7.chr4.txt.gz\u001b[0m\n",
      "\u001b[1;90;1mResaving annotated heteroSNP data to /Users/mahtin/Dropbox/Icke/Work/static/PON/HAEv7_hg38_NovaSeq/snp/chr4.snp.gz\u001b[0m\n",
      "\u001b[1;90;1mWriting PON coverage to /Users/mahtin/Dropbox/Icke/Work/static/PON/HAEv7_hg38_NovaSeq/cov/chr4.cov.gz\u001b[0m\n",
      "\u001b[1;90;1mPON2CNV for chr5\u001b[0m\n",
      "\u001b[1m$ gunzip < /Users/mahtin/Dropbox/Icke/Work/static/PON/HAEv7_hg38_NovaSeq/matrix/chr5.pon.gz | ../shell/filterBed.mawk /Users/mahtin/Dropbox/Icke/Work/static/bed_files/SureSelect/hg38/SS_HAEv7_hg38_Padded.bed -x -c chr5 | ../shell/PON2CNV.mawk -x -o /Users/mahtin/Dropbox/Icke/Work/static/PON/HAEv7_hg38_NovaSeq/snp/chr5.snp -v 0.25 -d 50 -c 0\u001b[0m\n",
      "\u001b[1;90;1mLoading GC data for chr5 from /Users/mahtin/Dropbox/Icke/Work/static/genome/gatk/hg38/split/chr5.gc100-10.gz\u001b[0m\n",
      "\u001b[1;90;1mReloading PONSNP data from /Users/mahtin/Dropbox/Icke/Work/static/PON/HAEv7_hg38_NovaSeq/snp/chr5.snp\u001b[0m\n",
      "\u001b[1;90;1mLoading mappability data for chr5 from /Users/mahtin/Dropbox/Icke/Work/static/annotation/genmap/hg38/split/hg38_genmap.HAEv7.chr5.txt.gz\u001b[0m\n",
      "\u001b[1;90;1mResaving annotated heteroSNP data to /Users/mahtin/Dropbox/Icke/Work/static/PON/HAEv7_hg38_NovaSeq/snp/chr5.snp.gz\u001b[0m\n",
      "\u001b[1;90;1mWriting PON coverage to /Users/mahtin/Dropbox/Icke/Work/static/PON/HAEv7_hg38_NovaSeq/cov/chr5.cov.gz\u001b[0m\n",
      "\u001b[1;90;1mPON2CNV for chr6\u001b[0m\n",
      "\u001b[1m$ gunzip < /Users/mahtin/Dropbox/Icke/Work/static/PON/HAEv7_hg38_NovaSeq/matrix/chr6.pon.gz | ../shell/filterBed.mawk /Users/mahtin/Dropbox/Icke/Work/static/bed_files/SureSelect/hg38/SS_HAEv7_hg38_Padded.bed -x -c chr6 | ../shell/PON2CNV.mawk -x -o /Users/mahtin/Dropbox/Icke/Work/static/PON/HAEv7_hg38_NovaSeq/snp/chr6.snp -v 0.25 -d 50 -c 0\u001b[0m\n",
      "\u001b[1;90;1mLoading GC data for chr6 from /Users/mahtin/Dropbox/Icke/Work/static/genome/gatk/hg38/split/chr6.gc100-10.gz\u001b[0m\n",
      "\u001b[1;90;1mReloading PONSNP data from /Users/mahtin/Dropbox/Icke/Work/static/PON/HAEv7_hg38_NovaSeq/snp/chr6.snp\u001b[0m\n",
      "\u001b[1;90;1mLoading mappability data for chr6 from /Users/mahtin/Dropbox/Icke/Work/static/annotation/genmap/hg38/split/hg38_genmap.HAEv7.chr6.txt.gz\u001b[0m\n",
      "\u001b[1;90;1mResaving annotated heteroSNP data to /Users/mahtin/Dropbox/Icke/Work/static/PON/HAEv7_hg38_NovaSeq/snp/chr6.snp.gz\u001b[0m\n",
      "\u001b[1;90;1mWriting PON coverage to /Users/mahtin/Dropbox/Icke/Work/static/PON/HAEv7_hg38_NovaSeq/cov/chr6.cov.gz\u001b[0m\n",
      "\u001b[1;90;1mPON2CNV for chr7\u001b[0m\n",
      "\u001b[1m$ gunzip < /Users/mahtin/Dropbox/Icke/Work/static/PON/HAEv7_hg38_NovaSeq/matrix/chr7.pon.gz | ../shell/filterBed.mawk /Users/mahtin/Dropbox/Icke/Work/static/bed_files/SureSelect/hg38/SS_HAEv7_hg38_Padded.bed -x -c chr7 | ../shell/PON2CNV.mawk -x -o /Users/mahtin/Dropbox/Icke/Work/static/PON/HAEv7_hg38_NovaSeq/snp/chr7.snp -v 0.25 -d 50 -c 0\u001b[0m\n",
      "\u001b[1;90;1mLoading GC data for chr7 from /Users/mahtin/Dropbox/Icke/Work/static/genome/gatk/hg38/split/chr7.gc100-10.gz\u001b[0m\n",
      "\u001b[1;90;1mReloading PONSNP data from /Users/mahtin/Dropbox/Icke/Work/static/PON/HAEv7_hg38_NovaSeq/snp/chr7.snp\u001b[0m\n",
      "\u001b[1;90;1mLoading mappability data for chr7 from /Users/mahtin/Dropbox/Icke/Work/static/annotation/genmap/hg38/split/hg38_genmap.HAEv7.chr7.txt.gz\u001b[0m\n",
      "\u001b[1;90;1mResaving annotated heteroSNP data to /Users/mahtin/Dropbox/Icke/Work/static/PON/HAEv7_hg38_NovaSeq/snp/chr7.snp.gz\u001b[0m\n",
      "\u001b[1;90;1mWriting PON coverage to /Users/mahtin/Dropbox/Icke/Work/static/PON/HAEv7_hg38_NovaSeq/cov/chr7.cov.gz\u001b[0m\n",
      "\u001b[1;90;1mPON2CNV for chr8\u001b[0m\n",
      "\u001b[1m$ gunzip < /Users/mahtin/Dropbox/Icke/Work/static/PON/HAEv7_hg38_NovaSeq/matrix/chr8.pon.gz | ../shell/filterBed.mawk /Users/mahtin/Dropbox/Icke/Work/static/bed_files/SureSelect/hg38/SS_HAEv7_hg38_Padded.bed -x -c chr8 | ../shell/PON2CNV.mawk -x -o /Users/mahtin/Dropbox/Icke/Work/static/PON/HAEv7_hg38_NovaSeq/snp/chr8.snp -v 0.25 -d 50 -c 0\u001b[0m\n",
      "\u001b[1;90;1mLoading GC data for chr8 from /Users/mahtin/Dropbox/Icke/Work/static/genome/gatk/hg38/split/chr8.gc100-10.gz\u001b[0m\n",
      "\u001b[1;90;1mReloading PONSNP data from /Users/mahtin/Dropbox/Icke/Work/static/PON/HAEv7_hg38_NovaSeq/snp/chr8.snp\u001b[0m\n",
      "\u001b[1;90;1mLoading mappability data for chr8 from /Users/mahtin/Dropbox/Icke/Work/static/annotation/genmap/hg38/split/hg38_genmap.HAEv7.chr8.txt.gz\u001b[0m\n",
      "\u001b[1;90;1mResaving annotated heteroSNP data to /Users/mahtin/Dropbox/Icke/Work/static/PON/HAEv7_hg38_NovaSeq/snp/chr8.snp.gz\u001b[0m\n",
      "\u001b[1;90;1mWriting PON coverage to /Users/mahtin/Dropbox/Icke/Work/static/PON/HAEv7_hg38_NovaSeq/cov/chr8.cov.gz\u001b[0m\n",
      "\u001b[1;90;1mPON2CNV for chr9\u001b[0m\n",
      "\u001b[1m$ gunzip < /Users/mahtin/Dropbox/Icke/Work/static/PON/HAEv7_hg38_NovaSeq/matrix/chr9.pon.gz | ../shell/filterBed.mawk /Users/mahtin/Dropbox/Icke/Work/static/bed_files/SureSelect/hg38/SS_HAEv7_hg38_Padded.bed -x -c chr9 | ../shell/PON2CNV.mawk -x -o /Users/mahtin/Dropbox/Icke/Work/static/PON/HAEv7_hg38_NovaSeq/snp/chr9.snp -v 0.25 -d 50 -c 0\u001b[0m\n"
     ]
    },
    {
     "name": "stdout",
     "output_type": "stream",
     "text": [
      "\u001b[1;90;1mLoading GC data for chr9 from /Users/mahtin/Dropbox/Icke/Work/static/genome/gatk/hg38/split/chr9.gc100-10.gz\u001b[0m\n",
      "\u001b[1;90;1mReloading PONSNP data from /Users/mahtin/Dropbox/Icke/Work/static/PON/HAEv7_hg38_NovaSeq/snp/chr9.snp\u001b[0m\n",
      "\u001b[1;90;1mLoading mappability data for chr9 from /Users/mahtin/Dropbox/Icke/Work/static/annotation/genmap/hg38/split/hg38_genmap.HAEv7.chr9.txt.gz\u001b[0m\n",
      "\u001b[1;90;1mResaving annotated heteroSNP data to /Users/mahtin/Dropbox/Icke/Work/static/PON/HAEv7_hg38_NovaSeq/snp/chr9.snp.gz\u001b[0m\n",
      "\u001b[1;90;1mWriting PON coverage to /Users/mahtin/Dropbox/Icke/Work/static/PON/HAEv7_hg38_NovaSeq/cov/chr9.cov.gz\u001b[0m\n",
      "\u001b[1;90;1mPON2CNV for chr10\u001b[0m\n",
      "\u001b[1m$ gunzip < /Users/mahtin/Dropbox/Icke/Work/static/PON/HAEv7_hg38_NovaSeq/matrix/chr10.pon.gz | ../shell/filterBed.mawk /Users/mahtin/Dropbox/Icke/Work/static/bed_files/SureSelect/hg38/SS_HAEv7_hg38_Padded.bed -x -c chr10 | ../shell/PON2CNV.mawk -x -o /Users/mahtin/Dropbox/Icke/Work/static/PON/HAEv7_hg38_NovaSeq/snp/chr10.snp -v 0.25 -d 50 -c 0\u001b[0m\n",
      "\u001b[1;90;1mLoading GC data for chr10 from /Users/mahtin/Dropbox/Icke/Work/static/genome/gatk/hg38/split/chr10.gc100-10.gz\u001b[0m\n",
      "\u001b[1;90;1mReloading PONSNP data from /Users/mahtin/Dropbox/Icke/Work/static/PON/HAEv7_hg38_NovaSeq/snp/chr10.snp\u001b[0m\n",
      "\u001b[1;90;1mLoading mappability data for chr10 from /Users/mahtin/Dropbox/Icke/Work/static/annotation/genmap/hg38/split/hg38_genmap.HAEv7.chr10.txt.gz\u001b[0m\n",
      "\u001b[1;90;1mResaving annotated heteroSNP data to /Users/mahtin/Dropbox/Icke/Work/static/PON/HAEv7_hg38_NovaSeq/snp/chr10.snp.gz\u001b[0m\n",
      "\u001b[1;90;1mWriting PON coverage to /Users/mahtin/Dropbox/Icke/Work/static/PON/HAEv7_hg38_NovaSeq/cov/chr10.cov.gz\u001b[0m\n",
      "\u001b[1;90;1mPON2CNV for chr11\u001b[0m\n",
      "\u001b[1m$ gunzip < /Users/mahtin/Dropbox/Icke/Work/static/PON/HAEv7_hg38_NovaSeq/matrix/chr11.pon.gz | ../shell/filterBed.mawk /Users/mahtin/Dropbox/Icke/Work/static/bed_files/SureSelect/hg38/SS_HAEv7_hg38_Padded.bed -x -c chr11 | ../shell/PON2CNV.mawk -x -o /Users/mahtin/Dropbox/Icke/Work/static/PON/HAEv7_hg38_NovaSeq/snp/chr11.snp -v 0.25 -d 50 -c 0\u001b[0m\n",
      "\u001b[1;90;1mLoading GC data for chr11 from /Users/mahtin/Dropbox/Icke/Work/static/genome/gatk/hg38/split/chr11.gc100-10.gz\u001b[0m\n",
      "\u001b[1;90;1mReloading PONSNP data from /Users/mahtin/Dropbox/Icke/Work/static/PON/HAEv7_hg38_NovaSeq/snp/chr11.snp\u001b[0m\n",
      "\u001b[1;90;1mLoading mappability data for chr11 from /Users/mahtin/Dropbox/Icke/Work/static/annotation/genmap/hg38/split/hg38_genmap.HAEv7.chr11.txt.gz\u001b[0m\n",
      "\u001b[1;90;1mResaving annotated heteroSNP data to /Users/mahtin/Dropbox/Icke/Work/static/PON/HAEv7_hg38_NovaSeq/snp/chr11.snp.gz\u001b[0m\n",
      "\u001b[1;90;1mWriting PON coverage to /Users/mahtin/Dropbox/Icke/Work/static/PON/HAEv7_hg38_NovaSeq/cov/chr11.cov.gz\u001b[0m\n",
      "\u001b[1;90;1mPON2CNV for chr12\u001b[0m\n",
      "\u001b[1m$ gunzip < /Users/mahtin/Dropbox/Icke/Work/static/PON/HAEv7_hg38_NovaSeq/matrix/chr12.pon.gz | ../shell/filterBed.mawk /Users/mahtin/Dropbox/Icke/Work/static/bed_files/SureSelect/hg38/SS_HAEv7_hg38_Padded.bed -x -c chr12 | ../shell/PON2CNV.mawk -x -o /Users/mahtin/Dropbox/Icke/Work/static/PON/HAEv7_hg38_NovaSeq/snp/chr12.snp -v 0.25 -d 50 -c 0\u001b[0m\n",
      "\u001b[1;90;1mLoading GC data for chr12 from /Users/mahtin/Dropbox/Icke/Work/static/genome/gatk/hg38/split/chr12.gc100-10.gz\u001b[0m\n",
      "\u001b[1;90;1mReloading PONSNP data from /Users/mahtin/Dropbox/Icke/Work/static/PON/HAEv7_hg38_NovaSeq/snp/chr12.snp\u001b[0m\n",
      "\u001b[1;90;1mLoading mappability data for chr12 from /Users/mahtin/Dropbox/Icke/Work/static/annotation/genmap/hg38/split/hg38_genmap.HAEv7.chr12.txt.gz\u001b[0m\n",
      "\u001b[1;90;1mResaving annotated heteroSNP data to /Users/mahtin/Dropbox/Icke/Work/static/PON/HAEv7_hg38_NovaSeq/snp/chr12.snp.gz\u001b[0m\n",
      "\u001b[1;90;1mWriting PON coverage to /Users/mahtin/Dropbox/Icke/Work/static/PON/HAEv7_hg38_NovaSeq/cov/chr12.cov.gz\u001b[0m\n",
      "\u001b[1;90;1mPON2CNV for chr13\u001b[0m\n",
      "\u001b[1m$ gunzip < /Users/mahtin/Dropbox/Icke/Work/static/PON/HAEv7_hg38_NovaSeq/matrix/chr13.pon.gz | ../shell/filterBed.mawk /Users/mahtin/Dropbox/Icke/Work/static/bed_files/SureSelect/hg38/SS_HAEv7_hg38_Padded.bed -x -c chr13 | ../shell/PON2CNV.mawk -x -o /Users/mahtin/Dropbox/Icke/Work/static/PON/HAEv7_hg38_NovaSeq/snp/chr13.snp -v 0.25 -d 50 -c 0\u001b[0m\n",
      "\u001b[1;90;1mLoading GC data for chr13 from /Users/mahtin/Dropbox/Icke/Work/static/genome/gatk/hg38/split/chr13.gc100-10.gz\u001b[0m\n",
      "\u001b[1;90;1mReloading PONSNP data from /Users/mahtin/Dropbox/Icke/Work/static/PON/HAEv7_hg38_NovaSeq/snp/chr13.snp\u001b[0m\n",
      "\u001b[1;90;1mLoading mappability data for chr13 from /Users/mahtin/Dropbox/Icke/Work/static/annotation/genmap/hg38/split/hg38_genmap.HAEv7.chr13.txt.gz\u001b[0m\n",
      "\u001b[1;90;1mResaving annotated heteroSNP data to /Users/mahtin/Dropbox/Icke/Work/static/PON/HAEv7_hg38_NovaSeq/snp/chr13.snp.gz\u001b[0m\n",
      "\u001b[1;90;1mWriting PON coverage to /Users/mahtin/Dropbox/Icke/Work/static/PON/HAEv7_hg38_NovaSeq/cov/chr13.cov.gz\u001b[0m\n",
      "\u001b[1;90;1mPON2CNV for chr14\u001b[0m\n",
      "\u001b[1m$ gunzip < /Users/mahtin/Dropbox/Icke/Work/static/PON/HAEv7_hg38_NovaSeq/matrix/chr14.pon.gz | ../shell/filterBed.mawk /Users/mahtin/Dropbox/Icke/Work/static/bed_files/SureSelect/hg38/SS_HAEv7_hg38_Padded.bed -x -c chr14 | ../shell/PON2CNV.mawk -x -o /Users/mahtin/Dropbox/Icke/Work/static/PON/HAEv7_hg38_NovaSeq/snp/chr14.snp -v 0.25 -d 50 -c 0\u001b[0m\n",
      "\u001b[1;90;1mLoading GC data for chr14 from /Users/mahtin/Dropbox/Icke/Work/static/genome/gatk/hg38/split/chr14.gc100-10.gz\u001b[0m\n",
      "\u001b[1;90;1mReloading PONSNP data from /Users/mahtin/Dropbox/Icke/Work/static/PON/HAEv7_hg38_NovaSeq/snp/chr14.snp\u001b[0m\n",
      "\u001b[1;90;1mLoading mappability data for chr14 from /Users/mahtin/Dropbox/Icke/Work/static/annotation/genmap/hg38/split/hg38_genmap.HAEv7.chr14.txt.gz\u001b[0m\n",
      "\u001b[1;90;1mResaving annotated heteroSNP data to /Users/mahtin/Dropbox/Icke/Work/static/PON/HAEv7_hg38_NovaSeq/snp/chr14.snp.gz\u001b[0m\n",
      "\u001b[1;90;1mWriting PON coverage to /Users/mahtin/Dropbox/Icke/Work/static/PON/HAEv7_hg38_NovaSeq/cov/chr14.cov.gz\u001b[0m\n",
      "\u001b[1;90;1mPON2CNV for chr15\u001b[0m\n",
      "\u001b[1m$ gunzip < /Users/mahtin/Dropbox/Icke/Work/static/PON/HAEv7_hg38_NovaSeq/matrix/chr15.pon.gz | ../shell/filterBed.mawk /Users/mahtin/Dropbox/Icke/Work/static/bed_files/SureSelect/hg38/SS_HAEv7_hg38_Padded.bed -x -c chr15 | ../shell/PON2CNV.mawk -x -o /Users/mahtin/Dropbox/Icke/Work/static/PON/HAEv7_hg38_NovaSeq/snp/chr15.snp -v 0.25 -d 50 -c 0\u001b[0m\n",
      "\u001b[1;90;1mLoading GC data for chr15 from /Users/mahtin/Dropbox/Icke/Work/static/genome/gatk/hg38/split/chr15.gc100-10.gz\u001b[0m\n",
      "\u001b[1;90;1mReloading PONSNP data from /Users/mahtin/Dropbox/Icke/Work/static/PON/HAEv7_hg38_NovaSeq/snp/chr15.snp\u001b[0m\n",
      "\u001b[1;90;1mLoading mappability data for chr15 from /Users/mahtin/Dropbox/Icke/Work/static/annotation/genmap/hg38/split/hg38_genmap.HAEv7.chr15.txt.gz\u001b[0m\n",
      "\u001b[1;90;1mResaving annotated heteroSNP data to /Users/mahtin/Dropbox/Icke/Work/static/PON/HAEv7_hg38_NovaSeq/snp/chr15.snp.gz\u001b[0m\n",
      "\u001b[1;90;1mWriting PON coverage to /Users/mahtin/Dropbox/Icke/Work/static/PON/HAEv7_hg38_NovaSeq/cov/chr15.cov.gz\u001b[0m\n",
      "\u001b[1;90;1mPON2CNV for chr16\u001b[0m\n",
      "\u001b[1m$ gunzip < /Users/mahtin/Dropbox/Icke/Work/static/PON/HAEv7_hg38_NovaSeq/matrix/chr16.pon.gz | ../shell/filterBed.mawk /Users/mahtin/Dropbox/Icke/Work/static/bed_files/SureSelect/hg38/SS_HAEv7_hg38_Padded.bed -x -c chr16 | ../shell/PON2CNV.mawk -x -o /Users/mahtin/Dropbox/Icke/Work/static/PON/HAEv7_hg38_NovaSeq/snp/chr16.snp -v 0.25 -d 50 -c 0\u001b[0m\n",
      "\u001b[1;90;1mLoading GC data for chr16 from /Users/mahtin/Dropbox/Icke/Work/static/genome/gatk/hg38/split/chr16.gc100-10.gz\u001b[0m\n",
      "\u001b[1;90;1mReloading PONSNP data from /Users/mahtin/Dropbox/Icke/Work/static/PON/HAEv7_hg38_NovaSeq/snp/chr16.snp\u001b[0m\n",
      "\u001b[1;90;1mLoading mappability data for chr16 from /Users/mahtin/Dropbox/Icke/Work/static/annotation/genmap/hg38/split/hg38_genmap.HAEv7.chr16.txt.gz\u001b[0m\n",
      "\u001b[1;90;1mResaving annotated heteroSNP data to /Users/mahtin/Dropbox/Icke/Work/static/PON/HAEv7_hg38_NovaSeq/snp/chr16.snp.gz\u001b[0m\n",
      "\u001b[1;90;1mWriting PON coverage to /Users/mahtin/Dropbox/Icke/Work/static/PON/HAEv7_hg38_NovaSeq/cov/chr16.cov.gz\u001b[0m\n",
      "\u001b[1;90;1mPON2CNV for chr17\u001b[0m\n",
      "\u001b[1m$ gunzip < /Users/mahtin/Dropbox/Icke/Work/static/PON/HAEv7_hg38_NovaSeq/matrix/chr17.pon.gz | ../shell/filterBed.mawk /Users/mahtin/Dropbox/Icke/Work/static/bed_files/SureSelect/hg38/SS_HAEv7_hg38_Padded.bed -x -c chr17 | ../shell/PON2CNV.mawk -x -o /Users/mahtin/Dropbox/Icke/Work/static/PON/HAEv7_hg38_NovaSeq/snp/chr17.snp -v 0.25 -d 50 -c 0\u001b[0m\n",
      "\u001b[1;90;1mLoading GC data for chr17 from /Users/mahtin/Dropbox/Icke/Work/static/genome/gatk/hg38/split/chr17.gc100-10.gz\u001b[0m\n"
     ]
    },
    {
     "name": "stdout",
     "output_type": "stream",
     "text": [
      "\u001b[1;90;1mReloading PONSNP data from /Users/mahtin/Dropbox/Icke/Work/static/PON/HAEv7_hg38_NovaSeq/snp/chr17.snp\u001b[0m\n",
      "\u001b[1;90;1mLoading mappability data for chr17 from /Users/mahtin/Dropbox/Icke/Work/static/annotation/genmap/hg38/split/hg38_genmap.HAEv7.chr17.txt.gz\u001b[0m\n",
      "\u001b[1;90;1mResaving annotated heteroSNP data to /Users/mahtin/Dropbox/Icke/Work/static/PON/HAEv7_hg38_NovaSeq/snp/chr17.snp.gz\u001b[0m\n",
      "\u001b[1;90;1mWriting PON coverage to /Users/mahtin/Dropbox/Icke/Work/static/PON/HAEv7_hg38_NovaSeq/cov/chr17.cov.gz\u001b[0m\n",
      "\u001b[1;90;1mPON2CNV for chr18\u001b[0m\n",
      "\u001b[1m$ gunzip < /Users/mahtin/Dropbox/Icke/Work/static/PON/HAEv7_hg38_NovaSeq/matrix/chr18.pon.gz | ../shell/filterBed.mawk /Users/mahtin/Dropbox/Icke/Work/static/bed_files/SureSelect/hg38/SS_HAEv7_hg38_Padded.bed -x -c chr18 | ../shell/PON2CNV.mawk -x -o /Users/mahtin/Dropbox/Icke/Work/static/PON/HAEv7_hg38_NovaSeq/snp/chr18.snp -v 0.25 -d 50 -c 0\u001b[0m\n",
      "\u001b[1;90;1mLoading GC data for chr18 from /Users/mahtin/Dropbox/Icke/Work/static/genome/gatk/hg38/split/chr18.gc100-10.gz\u001b[0m\n",
      "\u001b[1;90;1mReloading PONSNP data from /Users/mahtin/Dropbox/Icke/Work/static/PON/HAEv7_hg38_NovaSeq/snp/chr18.snp\u001b[0m\n",
      "\u001b[1;90;1mLoading mappability data for chr18 from /Users/mahtin/Dropbox/Icke/Work/static/annotation/genmap/hg38/split/hg38_genmap.HAEv7.chr18.txt.gz\u001b[0m\n",
      "\u001b[1;90;1mResaving annotated heteroSNP data to /Users/mahtin/Dropbox/Icke/Work/static/PON/HAEv7_hg38_NovaSeq/snp/chr18.snp.gz\u001b[0m\n",
      "\u001b[1;90;1mWriting PON coverage to /Users/mahtin/Dropbox/Icke/Work/static/PON/HAEv7_hg38_NovaSeq/cov/chr18.cov.gz\u001b[0m\n",
      "\u001b[1;90;1mPON2CNV for chr19\u001b[0m\n",
      "\u001b[1m$ gunzip < /Users/mahtin/Dropbox/Icke/Work/static/PON/HAEv7_hg38_NovaSeq/matrix/chr19.pon.gz | ../shell/filterBed.mawk /Users/mahtin/Dropbox/Icke/Work/static/bed_files/SureSelect/hg38/SS_HAEv7_hg38_Padded.bed -x -c chr19 | ../shell/PON2CNV.mawk -x -o /Users/mahtin/Dropbox/Icke/Work/static/PON/HAEv7_hg38_NovaSeq/snp/chr19.snp -v 0.25 -d 50 -c 0\u001b[0m\n",
      "\u001b[1;90;1mLoading GC data for chr19 from /Users/mahtin/Dropbox/Icke/Work/static/genome/gatk/hg38/split/chr19.gc100-10.gz\u001b[0m\n",
      "\u001b[1;90;1mReloading PONSNP data from /Users/mahtin/Dropbox/Icke/Work/static/PON/HAEv7_hg38_NovaSeq/snp/chr19.snp\u001b[0m\n",
      "\u001b[1;90;1mLoading mappability data for chr19 from /Users/mahtin/Dropbox/Icke/Work/static/annotation/genmap/hg38/split/hg38_genmap.HAEv7.chr19.txt.gz\u001b[0m\n",
      "\u001b[1;90;1mResaving annotated heteroSNP data to /Users/mahtin/Dropbox/Icke/Work/static/PON/HAEv7_hg38_NovaSeq/snp/chr19.snp.gz\u001b[0m\n",
      "\u001b[1;90;1mWriting PON coverage to /Users/mahtin/Dropbox/Icke/Work/static/PON/HAEv7_hg38_NovaSeq/cov/chr19.cov.gz\u001b[0m\n",
      "\u001b[1;90;1mPON2CNV for chr20\u001b[0m\n",
      "\u001b[1m$ gunzip < /Users/mahtin/Dropbox/Icke/Work/static/PON/HAEv7_hg38_NovaSeq/matrix/chr20.pon.gz | ../shell/filterBed.mawk /Users/mahtin/Dropbox/Icke/Work/static/bed_files/SureSelect/hg38/SS_HAEv7_hg38_Padded.bed -x -c chr20 | ../shell/PON2CNV.mawk -x -o /Users/mahtin/Dropbox/Icke/Work/static/PON/HAEv7_hg38_NovaSeq/snp/chr20.snp -v 0.25 -d 50 -c 0\u001b[0m\n",
      "\u001b[1;90;1mLoading GC data for chr20 from /Users/mahtin/Dropbox/Icke/Work/static/genome/gatk/hg38/split/chr20.gc100-10.gz\u001b[0m\n",
      "\u001b[1;90;1mReloading PONSNP data from /Users/mahtin/Dropbox/Icke/Work/static/PON/HAEv7_hg38_NovaSeq/snp/chr20.snp\u001b[0m\n",
      "\u001b[1;90;1mLoading mappability data for chr20 from /Users/mahtin/Dropbox/Icke/Work/static/annotation/genmap/hg38/split/hg38_genmap.HAEv7.chr20.txt.gz\u001b[0m\n",
      "\u001b[1;90;1mResaving annotated heteroSNP data to /Users/mahtin/Dropbox/Icke/Work/static/PON/HAEv7_hg38_NovaSeq/snp/chr20.snp.gz\u001b[0m\n",
      "\u001b[1;90;1mWriting PON coverage to /Users/mahtin/Dropbox/Icke/Work/static/PON/HAEv7_hg38_NovaSeq/cov/chr20.cov.gz\u001b[0m\n",
      "\u001b[1;90;1mPON2CNV for chr21\u001b[0m\n",
      "\u001b[1m$ gunzip < /Users/mahtin/Dropbox/Icke/Work/static/PON/HAEv7_hg38_NovaSeq/matrix/chr21.pon.gz | ../shell/filterBed.mawk /Users/mahtin/Dropbox/Icke/Work/static/bed_files/SureSelect/hg38/SS_HAEv7_hg38_Padded.bed -x -c chr21 | ../shell/PON2CNV.mawk -x -o /Users/mahtin/Dropbox/Icke/Work/static/PON/HAEv7_hg38_NovaSeq/snp/chr21.snp -v 0.25 -d 50 -c 0\u001b[0m\n",
      "\u001b[1;90;1mLoading GC data for chr21 from /Users/mahtin/Dropbox/Icke/Work/static/genome/gatk/hg38/split/chr21.gc100-10.gz\u001b[0m\n",
      "\u001b[1;90;1mReloading PONSNP data from /Users/mahtin/Dropbox/Icke/Work/static/PON/HAEv7_hg38_NovaSeq/snp/chr21.snp\u001b[0m\n",
      "\u001b[1;90;1mLoading mappability data for chr21 from /Users/mahtin/Dropbox/Icke/Work/static/annotation/genmap/hg38/split/hg38_genmap.HAEv7.chr21.txt.gz\u001b[0m\n",
      "\u001b[1;90;1mResaving annotated heteroSNP data to /Users/mahtin/Dropbox/Icke/Work/static/PON/HAEv7_hg38_NovaSeq/snp/chr21.snp.gz\u001b[0m\n",
      "\u001b[1;90;1mWriting PON coverage to /Users/mahtin/Dropbox/Icke/Work/static/PON/HAEv7_hg38_NovaSeq/cov/chr21.cov.gz\u001b[0m\n",
      "\u001b[1;90;1mPON2CNV for chr22\u001b[0m\n",
      "\u001b[1m$ gunzip < /Users/mahtin/Dropbox/Icke/Work/static/PON/HAEv7_hg38_NovaSeq/matrix/chr22.pon.gz | ../shell/filterBed.mawk /Users/mahtin/Dropbox/Icke/Work/static/bed_files/SureSelect/hg38/SS_HAEv7_hg38_Padded.bed -x -c chr22 | ../shell/PON2CNV.mawk -x -o /Users/mahtin/Dropbox/Icke/Work/static/PON/HAEv7_hg38_NovaSeq/snp/chr22.snp -v 0.25 -d 50 -c 0\u001b[0m\n",
      "\u001b[1;90;1mLoading GC data for chr22 from /Users/mahtin/Dropbox/Icke/Work/static/genome/gatk/hg38/split/chr22.gc100-10.gz\u001b[0m\n",
      "\u001b[1;90;1mReloading PONSNP data from /Users/mahtin/Dropbox/Icke/Work/static/PON/HAEv7_hg38_NovaSeq/snp/chr22.snp\u001b[0m\n",
      "\u001b[1;90;1mLoading mappability data for chr22 from /Users/mahtin/Dropbox/Icke/Work/static/annotation/genmap/hg38/split/hg38_genmap.HAEv7.chr22.txt.gz\u001b[0m\n",
      "\u001b[1;90;1mResaving annotated heteroSNP data to /Users/mahtin/Dropbox/Icke/Work/static/PON/HAEv7_hg38_NovaSeq/snp/chr22.snp.gz\u001b[0m\n",
      "\u001b[1;90;1mWriting PON coverage to /Users/mahtin/Dropbox/Icke/Work/static/PON/HAEv7_hg38_NovaSeq/cov/chr22.cov.gz\u001b[0m\n",
      "\u001b[1;90;1mPON2CNV for chrX\u001b[0m\n",
      "\u001b[1m$ gunzip < /Users/mahtin/Dropbox/Icke/Work/static/PON/HAEv7_hg38_NovaSeq/matrix/chrX.pon.gz | ../shell/filterBed.mawk /Users/mahtin/Dropbox/Icke/Work/static/bed_files/SureSelect/hg38/SS_HAEv7_hg38_Padded.bed -x -c chrX | ../shell/PON2CNV.mawk -x -o /Users/mahtin/Dropbox/Icke/Work/static/PON/HAEv7_hg38_NovaSeq/snp/chrX.snp -v 0.25 -d 50 -c 0\u001b[0m\n",
      "\u001b[1;90;1mLoading GC data for chrX from /Users/mahtin/Dropbox/Icke/Work/static/genome/gatk/hg38/split/chrX.gc100-10.gz\u001b[0m\n",
      "\u001b[1;90;1mReloading PONSNP data from /Users/mahtin/Dropbox/Icke/Work/static/PON/HAEv7_hg38_NovaSeq/snp/chrX.snp\u001b[0m\n",
      "\u001b[1;90;1mLoading mappability data for chrX from /Users/mahtin/Dropbox/Icke/Work/static/annotation/genmap/hg38/split/hg38_genmap.HAEv7.chrX.txt.gz\u001b[0m\n",
      "\u001b[1;90;1mResaving annotated heteroSNP data to /Users/mahtin/Dropbox/Icke/Work/static/PON/HAEv7_hg38_NovaSeq/snp/chrX.snp.gz\u001b[0m\n",
      "\u001b[1;90;1mWriting PON coverage to /Users/mahtin/Dropbox/Icke/Work/static/PON/HAEv7_hg38_NovaSeq/cov/chrX.cov.gz\u001b[0m\n",
      "\u001b[1;36;1mFINISHED\u001b[0m\n"
     ]
    }
   ],
   "source": [
    "chrom_list = [f\"chr{c + 1}\" for c in range(22)] + ['chrX']\n",
    "for chrom in chrom_list:\n",
    "    show_output(f\"PON2CNV for {chrom}\")\n",
    "    cov_df, _ = PON2CNV(\n",
    "    chrom=chrom,\n",
    "    config=CNVconfig\n",
    "    )\n",
    "    PONcov_file = os.path.join(CNVconfig['PON_path'], f\"cov/{chrom}.cov.gz\")\n",
    "    show_output(f\"Writing PON coverage to {PONcov_file}\")\n",
    "    cov_df.to_csv(PONcov_file, sep=\"\\t\", index=False, compression=\"gzip\")\n",
    "show_output(\"FINISHED\", color=\"success\")"
   ]
  },
  {
   "cell_type": "code",
   "execution_count": null,
   "metadata": {},
   "outputs": [],
   "source": []
  }
 ],
 "metadata": {
  "kernelspec": {
   "display_name": "Python 3",
   "language": "python",
   "name": "python3"
  },
  "language_info": {
   "codemirror_mode": {
    "name": "ipython",
    "version": 3
   },
   "file_extension": ".py",
   "mimetype": "text/x-python",
   "name": "python",
   "nbconvert_exporter": "python",
   "pygments_lexer": "ipython3",
   "version": "3.8.6"
  },
  "varInspector": {
   "cols": {
    "lenName": 16,
    "lenType": 16,
    "lenVar": 40
   },
   "kernels_config": {
    "python": {
     "delete_cmd_postfix": "",
     "delete_cmd_prefix": "del ",
     "library": "var_list.py",
     "varRefreshCmd": "print(var_dic_list())"
    },
    "r": {
     "delete_cmd_postfix": ") ",
     "delete_cmd_prefix": "rm(",
     "library": "var_list.r",
     "varRefreshCmd": "cat(var_dic_list()) "
    }
   },
   "types_to_exclude": [
    "module",
    "function",
    "builtin_function_or_method",
    "instance",
    "_Feature"
   ],
   "window_display": false
  }
 },
 "nbformat": 4,
 "nbformat_minor": 4
}
