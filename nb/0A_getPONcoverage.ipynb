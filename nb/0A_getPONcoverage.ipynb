{
 "cells": [
  {
   "cell_type": "markdown",
   "metadata": {},
   "source": [
    "# getting SNP and coverage data from PONmatrix\n",
    "## python wrapper around samtools / mawktools\n",
    "+ cleanpileup --> filterBED --> PON2SNP"
   ]
  },
  {
   "cell_type": "code",
   "execution_count": null,
   "metadata": {
    "ExecuteTime": {
     "end_time": "2021-05-28T10:07:58.429367Z",
     "start_time": "2021-05-28T10:07:58.416096Z"
    }
   },
   "outputs": [],
   "source": [
    "# get the code\n",
    "import sys\n",
    "import os\n",
    "sys.path.append('../code')\n",
    "\n",
    "# import package functions\n",
    "from script_utils_CNV import get_CNVconfig, show_output, cmd2df\n",
    "from CNV_raw import addGCratio, addGenmap\n",
    "\n",
    "# HOME\n",
    "home = '/Users/mahtin'\n",
    "home = '/Users/martinscience'\n",
    "\n",
    "# standard paths\n",
    "static = os.path.join(home, \"Dropbox/Icke/Work/static\")\n",
    "tooldata = os.path.join(home, \"Dropbox/Icke/Work/somVar/tooldata\")\n",
    "testdata = os.path.join(home,\"Dropbox/Icke/Work/somVar/testdata\")\n",
    "\n",
    " \n",
    "cnvdata = os.path.join(tooldata, \"myCNVdata\")\n",
    "output_path = os.path.join(cnvdata, \"output\")\n",
    "\n",
    "# the path to the input data\n",
    "cnv_path = os.path.join(cnvdata, \"cnv\")"
   ]
  },
  {
   "cell_type": "markdown",
   "metadata": {},
   "source": [
    "### get the config\n",
    "+ use the get_CNVconfig util function to update the general configs with the appropriate paths\n",
    "+ makes the config more pluggable"
   ]
  },
  {
   "cell_type": "code",
   "execution_count": null,
   "metadata": {
    "ExecuteTime": {
     "end_time": "2021-05-28T10:07:59.659096Z",
     "start_time": "2021-05-28T10:07:59.652296Z"
    }
   },
   "outputs": [],
   "source": [
    "from script_utils_CNV import get_CNVconfig\n",
    "CNVconfig = get_CNVconfig(\n",
    "    \"../config/config_CNV.yaml\", \n",
    "    local_config=dict(\n",
    "        mawk_path=\"../shell\",\n",
    "        bed_file=os.path.join(static, \"bed_files/SureSelect/hg38/SS_HAEv7_hg38_Padded.bed\"),\n",
    "        gc_split_path=os.path.join(static, \"genome/gatk/hg38/split\"),\n",
    "        PON_path = os.path.join(static, \"PON/HAEv7_hg38_NovaSeq\"),\n",
    "        genmap_split_path=os.path.join(static, \"annotation/genmap/hg38/split\")\n",
    "    ))\n",
    "CNVconfig"
   ]
  },
  {
   "cell_type": "markdown",
   "metadata": {},
   "source": [
    "## run the code"
   ]
  },
  {
   "cell_type": "code",
   "execution_count": null,
   "metadata": {
    "ExecuteTime": {
     "start_time": "2021-05-27T10:00:09.689Z"
    }
   },
   "outputs": [],
   "source": [
    "chrom = \"chr21\"\n",
    "pon_df, snp_df = get_rawCNV(\n",
    "    chrom=chrom,\n",
    "    config=CNVconfig\n",
    ")\n",
    "cov_df"
   ]
  },
  {
   "cell_type": "markdown",
   "metadata": {},
   "source": [
    "##  the function"
   ]
  },
  {
   "cell_type": "code",
   "execution_count": null,
   "metadata": {
    "ExecuteTime": {
     "end_time": "2021-05-28T10:12:43.103618Z",
     "start_time": "2021-05-28T10:12:43.095905Z"
    }
   },
   "outputs": [],
   "source": [
    "def PON2CNV(\n",
    "    chrom=\"\",\n",
    "    config={}\n",
    "):\n",
    "    \"\"\"\n",
    "    wrapper around CLI chain around the core tool PON2CNV.mawk\n",
    "\n",
    "    \"\"\"\n",
    "\n",
    "    # PARAMS\n",
    "    # unwrap mawk tools\n",
    "    def mawk(tool):\n",
    "        return os.path.join(config[\"mawk_path\"], f\"{tool}.mawk\")\n",
    "    \n",
    "    pon_path = config['PON_path']\n",
    "    c = config[\"PONcoverage\"]\n",
    "    \n",
    "    # ####BUILD COMMAND #########\n",
    "    # ### READ PONMATRIX\n",
    "    matrix_file = os.path.join(pon_path, f\"matrix/{chrom}.pon.gz\")\n",
    "    if not os.path.isfile(matrix_file):\n",
    "        show_output(f\"PON matrix file {matrix_file} not found! Exiting.\", color=\"warning\")\n",
    "        return\n",
    "    read_cmd = f\"gunzip < {matrix_file}\"\n",
    "    \n",
    "    # ### FILTERBED\n",
    "    filter_cmd = f\"{mawk('filterBed')} {config['bed_file']} -x -c {chrom}\"\n",
    "\n",
    "    # ##### PON2CNV\n",
    "    SNP_file = os.path.join(pon_path, f\"snp/{chrom}.snp\")\n",
    "    \n",
    "    cnv_cmd = f\"{mawk('PON2CNV')} -x -o {SNP_file} -v {c['minVAF']} -d {c['minDepth']} -c {c['minCov']}\"\n",
    "\n",
    "    # combine\n",
    "    cmd = f\"{read_cmd} | {filter_cmd} | {cnv_cmd}\"\n",
    "\n",
    "    try:\n",
    "        cov_df = cmd2df(cmd, show=True, multi=False)\n",
    "    except Exception as e:\n",
    "        show_output(f\"There was an error using shell command <<{e}>>\", color=\"warning\")\n",
    "        return cmd\n",
    "\n",
    "    # add GC\n",
    "    if \"gc_split_path\" in config and os.path.isdir(gc_path := config['gc_split_path']):\n",
    "        cov_df = addGCratio(cov_df, chrom=chrom, gc_path=gc_path)\n",
    "    else:\n",
    "        show_output(f\"Could not find GC path {gc_path}\", color=\"warning\")\n",
    "\n",
    "    # add genmap data to both cov and snp data\n",
    "    if \"genmap_split_path\" in config and os.path.isdir(genmap_path := config['genmap_split_path']):\n",
    "        # reload snp_df from temp file\n",
    "        show_output(f\"Reloading PONSNP data from {SNP_file}\")\n",
    "        snp_df = pd.read_csv(SNP_file, sep=\"\\t\")\n",
    "        cov_df, snp_df = addGenmap(cov_df, snp_df, chrom=\"chr7\", genmap_path=genmap_path)\n",
    "        # resave snp_df\n",
    "        show_output(f\"Resaving annotated heteroSNP data to {SNP_file}.gz\")\n",
    "        snp_df.to_csv(f\"{SNP_file}.gz\", index=False, sep=\"\\t\", compression=\"gzip\")\n",
    "        os.remove(SNP_file)\n",
    "    else:\n",
    "        show_output(f\"Could not find genmap path {genmap_path}\", color=\"warning\")\n",
    "    return cov_df, snp_df"
   ]
  },
  {
   "cell_type": "code",
   "execution_count": null,
   "metadata": {
    "ExecuteTime": {
     "end_time": "2021-05-28T10:14:40.563516Z",
     "start_time": "2021-05-28T10:12:45.908568Z"
    }
   },
   "outputs": [],
   "source": [
    "cov_df, snp_df = PON2CNV(\n",
    "    chrom=\"chr21\",\n",
    "    config=CNVconfig\n",
    ")\n",
    "cov_df"
   ]
  },
  {
   "cell_type": "code",
   "execution_count": null,
   "metadata": {},
   "outputs": [],
   "source": [
    "snp_df"
   ]
  },
  {
   "cell_type": "markdown",
   "metadata": {},
   "source": [
    "### run all chroms"
   ]
  },
  {
   "cell_type": "code",
   "execution_count": null,
   "metadata": {
    "ExecuteTime": {
     "end_time": "2021-05-28T11:06:56.922088Z",
     "start_time": "2021-05-28T10:23:33.298767Z"
    }
   },
   "outputs": [],
   "source": [
    "chrom_list = [f\"chr{c + 1}\" for c in range(22)] + ['chrX']\n",
    "for chrom in chrom_list:\n",
    "    show_output(f\"PON2CNV for {chrom}\")\n",
    "    cov_df, _ = PON2CNV(\n",
    "    chrom=chrom,\n",
    "    config=CNVconfig\n",
    "    )\n",
    "    PONcov_file = os.path.join(CNVconfig['PON_path'], f\"cov/{chrom}.cov.gz\")\n",
    "    show_output(f\"Writing PON coverage to {PONcov_file}\")\n",
    "    cov_df.to_csv(PONcov_file, sep=\"\\t\", index=False, compression=\"gzip\")\n",
    "show_output(\"FINISHED\", color=\"success\")"
   ]
  }
 ],
 "metadata": {
  "kernelspec": {
   "display_name": "Python 3",
   "language": "python",
   "name": "python3"
  },
  "language_info": {
   "codemirror_mode": {
    "name": "ipython",
    "version": 3
   },
   "file_extension": ".py",
   "mimetype": "text/x-python",
   "name": "python",
   "nbconvert_exporter": "python",
   "pygments_lexer": "ipython3",
   "version": "3.8.6"
  },
  "varInspector": {
   "cols": {
    "lenName": 16,
    "lenType": 16,
    "lenVar": 40
   },
   "kernels_config": {
    "python": {
     "delete_cmd_postfix": "",
     "delete_cmd_prefix": "del ",
     "library": "var_list.py",
     "varRefreshCmd": "print(var_dic_list())"
    },
    "r": {
     "delete_cmd_postfix": ") ",
     "delete_cmd_prefix": "rm(",
     "library": "var_list.r",
     "varRefreshCmd": "cat(var_dic_list()) "
    }
   },
   "types_to_exclude": [
    "module",
    "function",
    "builtin_function_or_method",
    "instance",
    "_Feature"
   ],
   "window_display": false
  }
 },
 "nbformat": 4,
 "nbformat_minor": 4
}
