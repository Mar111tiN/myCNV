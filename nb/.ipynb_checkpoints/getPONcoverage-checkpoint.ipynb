{
 "cells": [
  {
   "cell_type": "markdown",
   "metadata": {},
   "source": [
    "## combining individual coverage data into a mean-normalized coverage"
   ]
  },
  {
   "cell_type": "markdown",
   "metadata": {},
   "source": [
    "## Plan:\n",
    "\n",
    "+ for the PanelofNormals, create a coverage file for each PON bam and each chromosome\n",
    "+ Pon bams should optimally not contain CNV or there should be a lot of them to reduce the std\n",
    "+ put all the files into a big matrix and normalize coverages and produce an average coverage (+ std) for the exonic space\n",
    "+ compare the tumor samples against that PONcoverage to get differences in CNV"
   ]
  },
  {
   "cell_type": "markdown",
   "metadata": {},
   "source": [
    "### alternative approach\n",
    "+ get all samples and remove the outliers from std"
   ]
  },
  {
   "cell_type": "code",
   "execution_count": 1,
   "metadata": {},
   "outputs": [],
   "source": [
    "# get the code\n",
    "import sys\n",
    "sys.path.append('../code')\n",
    "from pon_coverage import make_PON_coverage"
   ]
  },
  {
   "cell_type": "code",
   "execution_count": 2,
   "metadata": {
    "ExecuteTime": {
     "end_time": "2020-09-28T11:35:06.741785Z",
     "start_time": "2020-09-28T11:35:06.738451Z"
    }
   },
   "outputs": [],
   "source": [
    "# set the paths\n",
    "home = '/Users/mahtin'\n",
    "home = '/Users/martinscience'\n",
    "testdata = f\"{home}/Dropbox/Icke/Work/somVar/testdata\"\n",
    "tooldata = f\"{home}/Dropbox/Icke/Work/somVar/tooldata\"\n",
    "shell_path = \"../shell\"\n",
    "static_path = f\"{home}/Dropbox/Icke/Work/static\"\n",
    "bed_path = f\"{static_path}/bed_files/SureSelect/hg38\"\n",
    "\n",
    "cnvdata = f\"{tooldata}/myCNVdata/\"\n",
    "bedCov_path = f\"{cnvdata}/bedCov\"\n",
    "bedCov_path = f\"{home}/mount/scratch/develop/PONcoverage/bedCov\"\n",
    "output_path = f\"{cnvdata}/output/PONcoverage\""
   ]
  },
  {
   "cell_type": "markdown",
   "metadata": {},
   "source": [
    "### get all the normal samples from the PON list into df for normalization and averaging"
   ]
  },
  {
   "cell_type": "code",
   "execution_count": 4,
   "metadata": {},
   "outputs": [
    {
     "data": {
      "text/plain": [
       "['/Users/martinscience/mount/scratch/develop/PONcoverage/bedCov/000_B',\n",
       " '/Users/martinscience/mount/scratch/develop/PONcoverage/bedCov/001_B',\n",
       " '/Users/martinscience/mount/scratch/develop/PONcoverage/bedCov/002_B',\n",
       " '/Users/martinscience/mount/scratch/develop/PONcoverage/bedCov/003_B',\n",
       " '/Users/martinscience/mount/scratch/develop/PONcoverage/bedCov/004_B',\n",
       " '/Users/martinscience/mount/scratch/develop/PONcoverage/bedCov/005_B',\n",
       " '/Users/martinscience/mount/scratch/develop/PONcoverage/bedCov/006_B',\n",
       " '/Users/martinscience/mount/scratch/develop/PONcoverage/bedCov/007_B',\n",
       " '/Users/martinscience/mount/scratch/develop/PONcoverage/bedCov/008_B',\n",
       " '/Users/martinscience/mount/scratch/develop/PONcoverage/bedCov/009_B',\n",
       " '/Users/martinscience/mount/scratch/develop/PONcoverage/bedCov/010_B',\n",
       " '/Users/martinscience/mount/scratch/develop/PONcoverage/bedCov/011_B',\n",
       " '/Users/martinscience/mount/scratch/develop/PONcoverage/bedCov/012_B',\n",
       " '/Users/martinscience/mount/scratch/develop/PONcoverage/bedCov/013_B',\n",
       " '/Users/martinscience/mount/scratch/develop/PONcoverage/bedCov/014_B',\n",
       " '/Users/martinscience/mount/scratch/develop/PONcoverage/bedCov/015_B',\n",
       " '/Users/martinscience/mount/scratch/develop/PONcoverage/bedCov/016_B',\n",
       " '/Users/martinscience/mount/scratch/develop/PONcoverage/bedCov/017_B',\n",
       " '/Users/martinscience/mount/scratch/develop/PONcoverage/bedCov/018_B',\n",
       " '/Users/martinscience/mount/scratch/develop/PONcoverage/bedCov/019_B',\n",
       " '/Users/martinscience/mount/scratch/develop/PONcoverage/bedCov/020_B',\n",
       " '/Users/martinscience/mount/scratch/develop/PONcoverage/bedCov/021_B',\n",
       " '/Users/martinscience/mount/scratch/develop/PONcoverage/bedCov/022_B',\n",
       " '/Users/martinscience/mount/scratch/develop/PONcoverage/bedCov/023_B',\n",
       " '/Users/martinscience/mount/scratch/develop/PONcoverage/bedCov/024_B',\n",
       " '/Users/martinscience/mount/scratch/develop/PONcoverage/bedCov/025_B',\n",
       " '/Users/martinscience/mount/scratch/develop/PONcoverage/bedCov/026_B',\n",
       " '/Users/martinscience/mount/scratch/develop/PONcoverage/bedCov/027_B',\n",
       " '/Users/martinscience/mount/scratch/develop/PONcoverage/bedCov/028_B',\n",
       " '/Users/martinscience/mount/scratch/develop/PONcoverage/bedCov/029_B',\n",
       " '/Users/martinscience/mount/scratch/develop/PONcoverage/bedCov/030_B',\n",
       " '/Users/martinscience/mount/scratch/develop/PONcoverage/bedCov/031_B',\n",
       " '/Users/martinscience/mount/scratch/develop/PONcoverage/bedCov/032_B',\n",
       " '/Users/martinscience/mount/scratch/develop/PONcoverage/bedCov/033_B',\n",
       " '/Users/martinscience/mount/scratch/develop/PONcoverage/bedCov/034_B',\n",
       " '/Users/martinscience/mount/scratch/develop/PONcoverage/bedCov/035_B',\n",
       " '/Users/martinscience/mount/scratch/develop/PONcoverage/bedCov/036_B',\n",
       " '/Users/martinscience/mount/scratch/develop/PONcoverage/bedCov/037_B',\n",
       " '/Users/martinscience/mount/scratch/develop/PONcoverage/bedCov/038_B',\n",
       " '/Users/martinscience/mount/scratch/develop/PONcoverage/bedCov/039_B',\n",
       " '/Users/martinscience/mount/scratch/develop/PONcoverage/bedCov/040_B',\n",
       " '/Users/martinscience/mount/scratch/develop/PONcoverage/bedCov/041_B',\n",
       " '/Users/martinscience/mount/scratch/develop/PONcoverage/bedCov/042_B',\n",
       " '/Users/martinscience/mount/scratch/develop/PONcoverage/bedCov/043_B',\n",
       " '/Users/martinscience/mount/scratch/develop/PONcoverage/bedCov/044_B']"
      ]
     },
     "execution_count": 4,
     "metadata": {},
     "output_type": "execute_result"
    }
   ],
   "source": [
    "config = {\n",
    "    'sample_PON_path': bedCov_path,\n",
    "    'output_path': 'output_path',\n",
    "    'normCov':100,  \n",
    "    'minCov': 20,   \n",
    "    'max_mean_std': 20,\n",
    "    'std_factor': 2,    \n",
    "} \n",
    "sample_list = [os.path.join(bedCov_path, f\"{str(s).zfill(3)}_B.{chrom}.bedCov\") for s in range(45)]\n",
    "sample_list\n"
   ]
  },
  {
   "cell_type": "code",
   "execution_count": null,
   "metadata": {},
   "outputs": [],
   "source": [
    "mean_df, filter_df = make_PON_coverage(\"chr7\", sample_list, config)"
   ]
  },
  {
   "cell_type": "code",
   "execution_count": null,
   "metadata": {},
   "outputs": [],
   "source": []
  }
 ],
 "metadata": {
  "kernelspec": {
   "display_name": "Python 3",
   "language": "python",
   "name": "python3"
  },
  "language_info": {
   "codemirror_mode": {
    "name": "ipython",
    "version": 3
   },
   "file_extension": ".py",
   "mimetype": "text/x-python",
   "name": "python",
   "nbconvert_exporter": "python",
   "pygments_lexer": "ipython3",
   "version": "3.8.5"
  },
  "varInspector": {
   "cols": {
    "lenName": 16,
    "lenType": 16,
    "lenVar": 40
   },
   "kernels_config": {
    "python": {
     "delete_cmd_postfix": "",
     "delete_cmd_prefix": "del ",
     "library": "var_list.py",
     "varRefreshCmd": "print(var_dic_list())"
    },
    "r": {
     "delete_cmd_postfix": ") ",
     "delete_cmd_prefix": "rm(",
     "library": "var_list.r",
     "varRefreshCmd": "cat(var_dic_list()) "
    }
   },
   "types_to_exclude": [
    "module",
    "function",
    "builtin_function_or_method",
    "instance",
    "_Feature"
   ],
   "window_display": false
  }
 },
 "nbformat": 4,
 "nbformat_minor": 4
}
