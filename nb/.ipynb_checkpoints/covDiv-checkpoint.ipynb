{
 "cells": [
  {
   "cell_type": "markdown",
   "metadata": {},
   "source": [
    "# using the PON coverage, calculate the coverage difference of tumor samples "
   ]
  },
  {
   "cell_type": "code",
   "execution_count": 1,
   "metadata": {
    "ExecuteTime": {
     "end_time": "2020-09-28T11:41:37.161443Z",
     "start_time": "2020-09-28T11:41:37.158717Z"
    }
   },
   "outputs": [],
   "source": [
    "# get the code\n",
    "import sys\n",
    "sys.path.append('../code')\n",
    "from coverage import get_coverage"
   ]
  },
  {
   "cell_type": "markdown",
   "metadata": {},
   "source": [
    "### prepare the files"
   ]
  },
  {
   "cell_type": "code",
   "execution_count": 2,
   "metadata": {
    "ExecuteTime": {
     "end_time": "2020-09-28T11:41:37.790276Z",
     "start_time": "2020-09-28T11:41:37.787433Z"
    }
   },
   "outputs": [],
   "source": [
    "# set the paths\n",
    "home = '/Users/mahtin'\n",
    "home = '/Users/martinscience'\n",
    "testdata = f\"{home}/Dropbox/Icke/Work/somVar/testdata\"\n",
    "tooldata = f\"{home}/Dropbox/Icke/Work/somVar/tooldata\"\n",
    "shell_path = \"../shell\"\n",
    "static_path = f\"{home}/Dropbox/Icke/Work/static\"\n",
    "bed_path = f\"{static_path}/bed_files/SureSelect/hg38\""
   ]
  },
  {
   "cell_type": "markdown",
   "metadata": {},
   "source": [
    "### make the config"
   ]
  },
  {
   "cell_type": "code",
   "execution_count": 3,
   "metadata": {
    "ExecuteTime": {
     "end_time": "2020-09-28T11:47:37.219908Z",
     "start_time": "2020-09-28T11:47:37.216174Z"
    }
   },
   "outputs": [],
   "source": [
    "# shell paths\n",
    "mawk_tools = ['bamCoverage', 'filterBed', 'rollingCoverage']\n",
    "mawk_tool_dict = {tool:f\"{shell_path}/{tool}.mawk\" for tool in mawk_tools}\n",
    "config = {\n",
    "    'rollingWindowSize': 100,\n",
    "    'bedfile': f\"{bed_path}/SS_HAEv7_hg38_Covered.bed\",\n",
    "    'q': 20\n",
    "}\n",
    "# add tool shell paths to config\n",
    "config.update(mawk_tool_dict)\n"
   ]
  },
  {
   "cell_type": "code",
   "execution_count": 7,
   "metadata": {
    "ExecuteTime": {
     "end_time": "2020-09-28T11:47:40.022463Z",
     "start_time": "2020-09-28T11:47:39.579702Z"
    }
   },
   "outputs": [
    {
     "name": "stdout",
     "output_type": "stream",
     "text": [
      "\u001b[1m$ samtools view /Users/martinscience/Dropbox/Icke/Work/somVar/testdata/bam/003_A.chr7.bam chr7 | ../shell/bamCoverage.mawk | ../shell/rollingCoverage.mawk 100 | ../shell/filterBed.mawk /Users/martinscience/Dropbox/Icke/Work/static/bed_files/SureSelect/hg38/SS_HAEv7_hg38_Covered.bed chr7 1\u001b[0m\n"
     ]
    }
   ],
   "source": [
    "bam_file = f\"{testdata}/bam/003_A.chr7.bam\"\n",
    "chrom = \"chr7\"\n",
    "cov_df = get_coverage(bam_file, chrom, config)"
   ]
  },
  {
   "cell_type": "code",
   "execution_count": 6,
   "metadata": {},
   "outputs": [
    {
     "data": {
      "text/html": [
       "<div>\n",
       "<style scoped>\n",
       "    .dataframe tbody tr th:only-of-type {\n",
       "        vertical-align: middle;\n",
       "    }\n",
       "\n",
       "    .dataframe tbody tr th {\n",
       "        vertical-align: top;\n",
       "    }\n",
       "\n",
       "    .dataframe thead th {\n",
       "        text-align: right;\n",
       "    }\n",
       "</style>\n",
       "<table border=\"1\" class=\"dataframe\">\n",
       "  <thead>\n",
       "    <tr style=\"text-align: right;\">\n",
       "      <th></th>\n",
       "      <th>Chr</th>\n",
       "      <th>Pos</th>\n",
       "      <th>Coverage</th>\n",
       "      <th>ExonPos</th>\n",
       "    </tr>\n",
       "  </thead>\n",
       "  <tbody>\n",
       "    <tr>\n",
       "      <th>0</th>\n",
       "      <td>chr7</td>\n",
       "      <td>19800</td>\n",
       "      <td>498.71</td>\n",
       "      <td>1</td>\n",
       "    </tr>\n",
       "    <tr>\n",
       "      <th>1</th>\n",
       "      <td>chr7</td>\n",
       "      <td>19850</td>\n",
       "      <td>688.33</td>\n",
       "      <td>51</td>\n",
       "    </tr>\n",
       "    <tr>\n",
       "      <th>2</th>\n",
       "      <td>chr7</td>\n",
       "      <td>19900</td>\n",
       "      <td>658.99</td>\n",
       "      <td>101</td>\n",
       "    </tr>\n",
       "    <tr>\n",
       "      <th>3</th>\n",
       "      <td>chr7</td>\n",
       "      <td>19950</td>\n",
       "      <td>439.89</td>\n",
       "      <td>151</td>\n",
       "    </tr>\n",
       "    <tr>\n",
       "      <th>4</th>\n",
       "      <td>chr7</td>\n",
       "      <td>20850</td>\n",
       "      <td>393.06</td>\n",
       "      <td>206</td>\n",
       "    </tr>\n",
       "    <tr>\n",
       "      <th>...</th>\n",
       "      <td>...</td>\n",
       "      <td>...</td>\n",
       "      <td>...</td>\n",
       "      <td>...</td>\n",
       "    </tr>\n",
       "    <tr>\n",
       "      <th>48629</th>\n",
       "      <td>chr7</td>\n",
       "      <td>159144650</td>\n",
       "      <td>473.44</td>\n",
       "      <td>2423334</td>\n",
       "    </tr>\n",
       "    <tr>\n",
       "      <th>48630</th>\n",
       "      <td>chr7</td>\n",
       "      <td>159144700</td>\n",
       "      <td>357.99</td>\n",
       "      <td>2423384</td>\n",
       "    </tr>\n",
       "    <tr>\n",
       "      <th>48631</th>\n",
       "      <td>chr7</td>\n",
       "      <td>159144750</td>\n",
       "      <td>271.64</td>\n",
       "      <td>2423434</td>\n",
       "    </tr>\n",
       "    <tr>\n",
       "      <th>48632</th>\n",
       "      <td>chr7</td>\n",
       "      <td>159144800</td>\n",
       "      <td>212.69</td>\n",
       "      <td>2423484</td>\n",
       "    </tr>\n",
       "    <tr>\n",
       "      <th>48633</th>\n",
       "      <td>chr7</td>\n",
       "      <td>159144850</td>\n",
       "      <td>158.91</td>\n",
       "      <td>2423534</td>\n",
       "    </tr>\n",
       "  </tbody>\n",
       "</table>\n",
       "<p>48634 rows × 4 columns</p>\n",
       "</div>"
      ],
      "text/plain": [
       "        Chr        Pos  Coverage  ExonPos\n",
       "0      chr7      19800    498.71        1\n",
       "1      chr7      19850    688.33       51\n",
       "2      chr7      19900    658.99      101\n",
       "3      chr7      19950    439.89      151\n",
       "4      chr7      20850    393.06      206\n",
       "...     ...        ...       ...      ...\n",
       "48629  chr7  159144650    473.44  2423334\n",
       "48630  chr7  159144700    357.99  2423384\n",
       "48631  chr7  159144750    271.64  2423434\n",
       "48632  chr7  159144800    212.69  2423484\n",
       "48633  chr7  159144850    158.91  2423534\n",
       "\n",
       "[48634 rows x 4 columns]"
      ]
     },
     "execution_count": 6,
     "metadata": {},
     "output_type": "execute_result"
    }
   ],
   "source": [
    "cov_df"
   ]
  },
  {
   "cell_type": "code",
   "execution_count": 11,
   "metadata": {},
   "outputs": [
    {
     "data": {
      "text/plain": [
       "51"
      ]
     },
     "execution_count": 11,
     "metadata": {},
     "output_type": "execute_result"
    }
   ],
   "source": [
    "cov_df.query('Pos == 19850').loc[:,'ExonPos'].iloc[0]"
   ]
  }
 ],
 "metadata": {
  "kernelspec": {
   "display_name": "Python 3",
   "language": "python",
   "name": "python3"
  },
  "language_info": {
   "codemirror_mode": {
    "name": "ipython",
    "version": 3
   },
   "file_extension": ".py",
   "mimetype": "text/x-python",
   "name": "python",
   "nbconvert_exporter": "python",
   "pygments_lexer": "ipython3",
   "version": "3.8.5"
  },
  "varInspector": {
   "cols": {
    "lenName": 16,
    "lenType": 16,
    "lenVar": 40
   },
   "kernels_config": {
    "python": {
     "delete_cmd_postfix": "",
     "delete_cmd_prefix": "del ",
     "library": "var_list.py",
     "varRefreshCmd": "print(var_dic_list())"
    },
    "r": {
     "delete_cmd_postfix": ") ",
     "delete_cmd_prefix": "rm(",
     "library": "var_list.r",
     "varRefreshCmd": "cat(var_dic_list()) "
    }
   },
   "types_to_exclude": [
    "module",
    "function",
    "builtin_function_or_method",
    "instance",
    "_Feature"
   ],
   "window_display": false
  }
 },
 "nbformat": 4,
 "nbformat_minor": 4
}
