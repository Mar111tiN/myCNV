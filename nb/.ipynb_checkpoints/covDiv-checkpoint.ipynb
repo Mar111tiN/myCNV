{
 "cells": [
  {
   "cell_type": "markdown",
   "metadata": {},
   "source": [
    "# using the PON coverage, calculate the coverage difference of tumor samples "
   ]
  },
  {
   "cell_type": "code",
   "execution_count": null,
   "metadata": {
    "ExecuteTime": {
     "end_time": "2020-09-28T11:41:37.161443Z",
     "start_time": "2020-09-28T11:41:37.158717Z"
    }
   },
   "outputs": [],
   "source": [
    "# get the code\n",
    "import sys\n",
    "sys.path.append('../code')\n",
    "# from coverage import get_coverage"
   ]
  },
  {
   "cell_type": "markdown",
   "metadata": {},
   "source": [
    "### prepare the files"
   ]
  },
  {
   "cell_type": "code",
   "execution_count": null,
   "metadata": {
    "ExecuteTime": {
     "end_time": "2020-10-02T14:45:52.944705Z",
     "start_time": "2020-10-02T14:45:52.939847Z"
    }
   },
   "outputs": [],
   "source": [
    "# set the paths\n",
    "home = '/Users/mahtin'\n",
    "home = '/Users/martinscience'\n",
    "testdata = os.path.join(home,\"Dropbox/Icke/Work/somVar/testdata\")\n",
    "tooldata = os.path.join(home, \"Dropbox/Icke/Work/somVar/tooldata\")\n",
    "cnvdata = os.path.join(tooldata, \"myCNVdata\")\n",
    "static_path = os.path.join(home, \"Dropbox/Icke/Work/static\")\n",
    "output_path = os.path.join(cnvdata, \"output\", \"covDif\")\n",
    "\n",
    "cnv_path = os.path.join(cnvdata, \"cnv\")\n"
   ]
  },
  {
   "cell_type": "code",
   "execution_count": null,
   "metadata": {
    "ExecuteTime": {
     "end_time": "2020-10-02T14:46:00.694765Z",
     "start_time": "2020-10-02T14:46:00.690688Z"
    }
   },
   "outputs": [],
   "source": [
    "output_path"
   ]
  },
  {
   "cell_type": "code",
   "execution_count": null,
   "metadata": {
    "ExecuteTime": {
     "end_time": "2020-10-02T14:46:10.898184Z",
     "start_time": "2020-10-02T14:46:10.895242Z"
    }
   },
   "outputs": [],
   "source": [
    "sample = \"01_A\"\n",
    "chrom = \"chr7\""
   ]
  },
  {
   "cell_type": "markdown",
   "metadata": {},
   "source": [
    "### merge sample coverage with Pon coverage"
   ]
  },
  {
   "cell_type": "code",
   "execution_count": null,
   "metadata": {
    "ExecuteTime": {
     "end_time": "2020-10-02T15:40:32.021746Z",
     "start_time": "2020-10-02T15:40:32.017967Z"
    }
   },
   "outputs": [],
   "source": [
    "def get_combined_sample_coverage(sample):\n",
    "    chrom_list = [f\"chr{i+1}\" for i in range(22)] + ['chrX']\n",
    "    \n",
    "    dfs = []\n",
    "    for chrom in chrom_list:\n",
    "        sample_cov_file = f\"{cnvdata}/cnv/{sample}.{chrom}.cov\"\n",
    "        df = pd.read_csv(sample_cov_file, sep='\\t', compression=\"gzip\")\n",
    "        dfs.append(df)\n",
    "    sample_df = pd.concat(dfs)\n",
    "    return sample_df\n",
    "\n",
    "def get_sample_coverage(sample, chrom):\n",
    "    sample_df = get_combined_sample_coverage(sample)\n",
    "    sample_df['Coverage'] = sample_df['Coverage'] / sample_df['Coverage'].mean() * 100\n",
    "    return sample_df.query('Chr == @chrom')"
   ]
  },
  {
   "cell_type": "code",
   "execution_count": null,
   "metadata": {
    "ExecuteTime": {
     "end_time": "2020-10-02T15:40:32.657881Z",
     "start_time": "2020-10-02T15:40:32.652484Z"
    }
   },
   "outputs": [],
   "source": [
    "def get_merged_coverage(sample, chrom):\n",
    "    # load the sample coverage and normalize over all samples\n",
    "    sample_df = get_sample_coverage(sample, chrom)\n",
    "    \n",
    "    # load the PON coverage and modify columns\n",
    "    pon_cov_file = f\"{cnvdata}/chromCov/{chrom}.filtered.csv.gz\"\n",
    "    pon_df = pd.read_csv(pon_cov_file, sep='\\t', compression=\"gzip\").loc[:,['Chr', 'Pos', 'ExonPos', 'meanCov', 'medianCov', 'std']]\n",
    "    # column rename\n",
    "    trans_dict = {col:f\"PON{col}\" for col in pon_df.columns[3:]}\n",
    "    pon_df = pon_df.rename(columns=trans_dict)\n",
    "\n",
    "    # merge sample with PON coverage\n",
    "    sample_df = sample_df.merge(pon_df, on=['Chr', 'Pos', 'ExonPos'], how=\"inner\").loc[:,['Chr', 'Pos', 'ExonPos', 'Coverage','PONmeanCov', 'PONmedianCov', 'PONstd']]\n",
    "    \n",
    "    return sample_df"
   ]
  },
  {
   "cell_type": "code",
   "execution_count": null,
   "metadata": {
    "ExecuteTime": {
     "end_time": "2020-10-02T15:57:54.430860Z",
     "start_time": "2020-10-02T15:57:53.470719Z"
    }
   },
   "outputs": [],
   "source": [
    "sample_df = get_merged_coverage(sample, chrom)\n",
    "sample_df"
   ]
  },
  {
   "cell_type": "code",
   "execution_count": null,
   "metadata": {
    "ExecuteTime": {
     "end_time": "2020-10-02T15:59:11.173253Z",
     "start_time": "2020-10-02T15:59:11.161872Z"
    }
   },
   "outputs": [],
   "source": [
    "import numpy as np\n",
    "\n",
    "sample_df['log2ratio'] = np.log2(sample_df['Coverage'] / sample_df['PONmeanCov'])\n",
    "sample_df['rr100'] = sample_df['log2ratio'].rolling(100).mean()\n",
    "sample_df['rr200'] = sample_df['log2ratio'].rolling(200).mean()\n",
    "sample_df['rr500'] = sample_df['log2ratio'].rolling(500).mean()"
   ]
  },
  {
   "cell_type": "code",
   "execution_count": null,
   "metadata": {
    "ExecuteTime": {
     "end_time": "2020-10-02T15:58:37.612298Z",
     "start_time": "2020-10-02T15:58:37.233829Z"
    }
   },
   "outputs": [],
   "source": [
    "outfile = os.path.join(output_path, f\"{sample}.{chrom}.covDif\")\n",
    "sample_df.to_csv(outfile, sep='\\t', index=False)"
   ]
  },
  {
   "cell_type": "markdown",
   "metadata": {},
   "source": []
  },
  {
   "cell_type": "code",
   "execution_count": null,
   "metadata": {
    "ExecuteTime": {
     "end_time": "2020-10-02T15:59:07.120670Z",
     "start_time": "2020-10-02T15:59:07.110740Z"
    }
   },
   "outputs": [],
   "source": [
    "sample_df = sample_df.query('Coverage > 30')"
   ]
  },
  {
   "cell_type": "code",
   "execution_count": null,
   "metadata": {
    "ExecuteTime": {
     "end_time": "2020-10-02T15:56:15.086987Z",
     "start_time": "2020-10-02T15:56:15.068500Z"
    }
   },
   "outputs": [],
   "source": [
    "sample_df"
   ]
  },
  {
   "cell_type": "code",
   "execution_count": null,
   "metadata": {
    "ExecuteTime": {
     "end_time": "2020-10-02T15:55:38.111847Z",
     "start_time": "2020-10-02T15:55:38.100862Z"
    }
   },
   "outputs": [],
   "source": []
  },
  {
   "cell_type": "code",
   "execution_count": null,
   "metadata": {},
   "outputs": [],
   "source": [
    "cov_df['ploidy'] = cov_df['normCov'] / cov_df['PONmeanCov'] * 2\n",
    "cov_df.query('ploidy > 100')"
   ]
  },
  {
   "cell_type": "markdown",
   "metadata": {},
   "source": [
    "### filter out certain stuff before applying rolling average"
   ]
  },
  {
   "cell_type": "code",
   "execution_count": null,
   "metadata": {},
   "outputs": [],
   "source": [
    "select_df = cov_df.query('ploidy < 100')\n",
    "select_df['rollingPloidy'] = select_df['ploidy'].rolling(500).mean()\n",
    "select_df.to_csv(f\"{cnvdata}/output/{bam_file}.diff.csv\", sep='\\t', index=False)"
   ]
  },
  {
   "cell_type": "code",
   "execution_count": null,
   "metadata": {},
   "outputs": [],
   "source": []
  },
  {
   "cell_type": "code",
   "execution_count": null,
   "metadata": {},
   "outputs": [],
   "source": []
  }
 ],
 "metadata": {
  "kernelspec": {
   "display_name": "Python 3",
   "language": "python",
   "name": "python3"
  },
  "language_info": {
   "codemirror_mode": {
    "name": "ipython",
    "version": 3
   },
   "file_extension": ".py",
   "mimetype": "text/x-python",
   "name": "python",
   "nbconvert_exporter": "python",
   "pygments_lexer": "ipython3",
   "version": "3.8.5"
  },
  "varInspector": {
   "cols": {
    "lenName": 16,
    "lenType": 16,
    "lenVar": 40
   },
   "kernels_config": {
    "python": {
     "delete_cmd_postfix": "",
     "delete_cmd_prefix": "del ",
     "library": "var_list.py",
     "varRefreshCmd": "print(var_dic_list())"
    },
    "r": {
     "delete_cmd_postfix": ") ",
     "delete_cmd_prefix": "rm(",
     "library": "var_list.r",
     "varRefreshCmd": "cat(var_dic_list()) "
    }
   },
   "types_to_exclude": [
    "module",
    "function",
    "builtin_function_or_method",
    "instance",
    "_Feature"
   ],
   "window_display": false
  }
 },
 "nbformat": 4,
 "nbformat_minor": 4
}
