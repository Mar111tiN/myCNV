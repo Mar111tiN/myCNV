{
 "cells": [
  {
   "cell_type": "code",
   "execution_count": 4,
   "metadata": {
    "ExecuteTime": {
     "end_time": "2020-09-25T08:29:00.757996Z",
     "start_time": "2020-09-25T08:29:00.753081Z"
    }
   },
   "outputs": [],
   "source": [
    "# get the code\n",
    "import sys\n",
    "sys.path.append('../code')"
   ]
  },
  {
   "cell_type": "markdown",
   "metadata": {},
   "source": [
    "## get the coverage on a given chromosome\n",
    "+ CLI:\n",
    "    *`samtools view $bam chr7 |`\n",
    "        + extracts the reads for that chromosome\n",
    "    *`bamCoverage [minCoverage=0] |`\n",
    "        + would be better to have chromCoverage (where is it)\n",
    "\t\t+ would make it more performant\n",
    "\t\t\t\t\t\t\t\n",
    "    *`rollingCoverage [rollingWindow=100] |`\n",
    "        + every half windowSize a mean coverage is written out\n",
    "\n",
    "    *`filterbed $BED` chr7 [writeout exomCoords=1]`\n",
    "        + filters the output for positions covered by the bedfile\n",
    "        + ilter the output to only exon-spanning rows\n",
    "\n",
    "+ make the command run in memory using stringIO"
   ]
  },
  {
   "cell_type": "markdown",
   "metadata": {},
   "source": [
    "### prepare the files"
   ]
  },
  {
   "cell_type": "code",
   "execution_count": 5,
   "metadata": {
    "ExecuteTime": {
     "end_time": "2020-09-25T11:03:15.196908Z",
     "start_time": "2020-09-25T11:03:15.193504Z"
    }
   },
   "outputs": [],
   "source": [
    "# set the paths\n",
    "home = '/Users/mahtin'\n",
    "home = '/Users/martinscience'\n",
    "testdata = f\"{home}/Dropbox/Icke/Work/somVar/testdata\"\n",
    "tooldata = f\"{home}/Dropbox/Icke/Work/somVar/tooldata\"\n",
    "shell_path = \"../shell\"\n",
    "static_path = f\"{home}/Dropbox/Icke/Work/static\"\n",
    "bed_path = f\"{static_path}/bed_files/SureSelect/hg38\""
   ]
  },
  {
   "cell_type": "markdown",
   "metadata": {},
   "source": [
    "### make the config"
   ]
  },
  {
   "cell_type": "code",
   "execution_count": 6,
   "metadata": {
    "ExecuteTime": {
     "end_time": "2020-09-25T11:07:19.701561Z",
     "start_time": "2020-09-25T11:07:19.695459Z"
    }
   },
   "outputs": [
    {
     "data": {
      "text/plain": [
       "{'rollingWindowSize': 10,\n",
       " 'bedfile': '/Users/martinscience/Dropbox/Icke/Work/static/bed_files/SureSelect/hg38/SS_HAEv7_hg38_Covered.bed',\n",
       " 'bamCoverage': '../shell/bamCoverage.mawk',\n",
       " 'filterBed': '../shell/filterBed.mawk',\n",
       " 'rollingCoverage': '../shell/rollingCoverage.mawk'}"
      ]
     },
     "execution_count": 6,
     "metadata": {},
     "output_type": "execute_result"
    }
   ],
   "source": [
    "# shell paths\n",
    "mawk_tools = ['bamCoverage', 'filterBed', 'rollingCoverage']\n",
    "mawk_tool_dict = {tool:f\"{shell_path}/{tool}.mawk\" for tool in mawk_tools}\n",
    "config = {\n",
    "    'rollingWindowSize': 10,\n",
    "    'bedfile': f\"{bed_path}/SS_HAEv7_hg38_Covered.bed\"\n",
    "}\n",
    "config.update(mawk_tool_dict)\n",
    "config"
   ]
  },
  {
   "cell_type": "code",
   "execution_count": 7,
   "metadata": {},
   "outputs": [],
   "source": [
    "from io import StringIO\n",
    "import os\n",
    "from subprocess import PIPE, run\n",
    "from script_utils import show_output, show_command\n",
    "\n",
    "def get_coverage(bam_file, chrom='', config={}):\n",
    "    '''\n",
    "    creates a coverage_df for a bam file on a given chromosome\n",
    "    '''\n",
    "    # unwrap the tools\n",
    "    bamCoverage = config['bamCoverage']\n",
    "    rollingCoverage = config['rollingCoverage']\n",
    "    filterBed = config['filterBed']\n",
    "    \n",
    "    view_cmd = f\"samtools view {bam_file} {chrom}\"\n",
    "    cov_cmd = f\"{bamCoverage} | {rollingCoverage} {config['rollingWindowSize']} | \"\n",
    "    # the 1 at the end is the option for the filterbed tool to output exonic coords\n",
    "    cov_cmd += f\"{filterBed} {config['bedfile']} {chrom} 1\"\n",
    "    cmd = f\"{view_cmd} | {cov_cmd}\"\n",
    "    show_command(cmd, multi=False)\n",
    "    cov_df = pd.read_csv(StringIO(\n",
    "        run(cmd, stdout=PIPE, check=True, shell=True).stdout.decode('utf-8')), sep='\\t')\n",
    "    return cov_df"
   ]
  },
  {
   "cell_type": "code",
   "execution_count": 8,
   "metadata": {},
   "outputs": [
    {
     "name": "stdout",
     "output_type": "stream",
     "text": [
      "\u001b[92mProcess 12421\u001b[0m : \u001b[1m$ samtools view /Users/martinscience/Dropbox/Icke/Work/somVar/testdata/bam/002_A.chr7.bam chr7 | ../shell/bamCoverage.mawk | ../shell/rollingCoverage.mawk 10 | ../shell/filterBed.mawk /Users/martinscience/Dropbox/Icke/Work/static/bed_files/SureSelect/hg38/SS_HAEv7_hg38_Covered.bed chr7 1\u001b[0m\n"
     ]
    }
   ],
   "source": [
    "bam_file = f\"{testdata}/bam/002_A.chr7.bam\"\n",
    "chrom = \"chr7\"\n",
    "cov_df = get_coverage(bam_file, chrom, config)"
   ]
  },
  {
   "cell_type": "code",
   "execution_count": 9,
   "metadata": {},
   "outputs": [
    {
     "data": {
      "text/html": [
       "<div>\n",
       "<style scoped>\n",
       "    .dataframe tbody tr th:only-of-type {\n",
       "        vertical-align: middle;\n",
       "    }\n",
       "\n",
       "    .dataframe tbody tr th {\n",
       "        vertical-align: top;\n",
       "    }\n",
       "\n",
       "    .dataframe thead th {\n",
       "        text-align: right;\n",
       "    }\n",
       "</style>\n",
       "<table border=\"1\" class=\"dataframe\">\n",
       "  <thead>\n",
       "    <tr style=\"text-align: right;\">\n",
       "      <th></th>\n",
       "      <th>Chr</th>\n",
       "      <th>Pos</th>\n",
       "      <th>Coverage</th>\n",
       "      <th>XPos</th>\n",
       "    </tr>\n",
       "  </thead>\n",
       "  <tbody>\n",
       "    <tr>\n",
       "      <th>0</th>\n",
       "      <td>chr7</td>\n",
       "      <td>19800</td>\n",
       "      <td>67.6</td>\n",
       "      <td>1</td>\n",
       "    </tr>\n",
       "    <tr>\n",
       "      <th>1</th>\n",
       "      <td>chr7</td>\n",
       "      <td>19805</td>\n",
       "      <td>70.9</td>\n",
       "      <td>6</td>\n",
       "    </tr>\n",
       "    <tr>\n",
       "      <th>2</th>\n",
       "      <td>chr7</td>\n",
       "      <td>19810</td>\n",
       "      <td>76.2</td>\n",
       "      <td>11</td>\n",
       "    </tr>\n",
       "    <tr>\n",
       "      <th>3</th>\n",
       "      <td>chr7</td>\n",
       "      <td>19815</td>\n",
       "      <td>83.0</td>\n",
       "      <td>16</td>\n",
       "    </tr>\n",
       "    <tr>\n",
       "      <th>4</th>\n",
       "      <td>chr7</td>\n",
       "      <td>19820</td>\n",
       "      <td>86.1</td>\n",
       "      <td>21</td>\n",
       "    </tr>\n",
       "    <tr>\n",
       "      <th>...</th>\n",
       "      <td>...</td>\n",
       "      <td>...</td>\n",
       "      <td>...</td>\n",
       "      <td>...</td>\n",
       "    </tr>\n",
       "    <tr>\n",
       "      <th>463355</th>\n",
       "      <td>chr7</td>\n",
       "      <td>159144845</td>\n",
       "      <td>22.6</td>\n",
       "      <td>2423529</td>\n",
       "    </tr>\n",
       "    <tr>\n",
       "      <th>463356</th>\n",
       "      <td>chr7</td>\n",
       "      <td>159144850</td>\n",
       "      <td>21.2</td>\n",
       "      <td>2423534</td>\n",
       "    </tr>\n",
       "    <tr>\n",
       "      <th>463357</th>\n",
       "      <td>chr7</td>\n",
       "      <td>159144855</td>\n",
       "      <td>20.3</td>\n",
       "      <td>2423539</td>\n",
       "    </tr>\n",
       "    <tr>\n",
       "      <th>463358</th>\n",
       "      <td>chr7</td>\n",
       "      <td>159144860</td>\n",
       "      <td>18.0</td>\n",
       "      <td>2423544</td>\n",
       "    </tr>\n",
       "    <tr>\n",
       "      <th>463359</th>\n",
       "      <td>chr7</td>\n",
       "      <td>159144865</td>\n",
       "      <td>17.2</td>\n",
       "      <td>2423549</td>\n",
       "    </tr>\n",
       "  </tbody>\n",
       "</table>\n",
       "<p>463360 rows × 4 columns</p>\n",
       "</div>"
      ],
      "text/plain": [
       "         Chr        Pos  Coverage     XPos\n",
       "0       chr7      19800      67.6        1\n",
       "1       chr7      19805      70.9        6\n",
       "2       chr7      19810      76.2       11\n",
       "3       chr7      19815      83.0       16\n",
       "4       chr7      19820      86.1       21\n",
       "...      ...        ...       ...      ...\n",
       "463355  chr7  159144845      22.6  2423529\n",
       "463356  chr7  159144850      21.2  2423534\n",
       "463357  chr7  159144855      20.3  2423539\n",
       "463358  chr7  159144860      18.0  2423544\n",
       "463359  chr7  159144865      17.2  2423549\n",
       "\n",
       "[463360 rows x 4 columns]"
      ]
     },
     "execution_count": 9,
     "metadata": {},
     "output_type": "execute_result"
    }
   ],
   "source": [
    "cov_df"
   ]
  },
  {
   "cell_type": "code",
   "execution_count": null,
   "metadata": {},
   "outputs": [],
   "source": []
  }
 ],
 "metadata": {
  "kernelspec": {
   "display_name": "Python 3",
   "language": "python",
   "name": "python3"
  },
  "varInspector": {
   "cols": {
    "lenName": 16,
    "lenType": 16,
    "lenVar": 40
   },
   "kernels_config": {
    "python": {
     "delete_cmd_postfix": "",
     "delete_cmd_prefix": "del ",
     "library": "var_list.py",
     "varRefreshCmd": "print(var_dic_list())"
    },
    "r": {
     "delete_cmd_postfix": ") ",
     "delete_cmd_prefix": "rm(",
     "library": "var_list.r",
     "varRefreshCmd": "cat(var_dic_list()) "
    }
   },
   "types_to_exclude": [
    "module",
    "function",
    "builtin_function_or_method",
    "instance",
    "_Feature"
   ],
   "window_display": false
  }
 },
 "nbformat": 4,
 "nbformat_minor": 4
}
