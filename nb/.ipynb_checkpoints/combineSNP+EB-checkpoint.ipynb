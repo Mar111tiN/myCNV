{
 "cells": [
  {
   "cell_type": "markdown",
   "metadata": {},
   "source": [
    "## combining chromosome SNP data per sample into WES SNP data\n",
    "### also add EB data if available to filter out bad SNPs"
   ]
  },
  {
   "cell_type": "code",
   "execution_count": null,
   "metadata": {
    "ExecuteTime": {
     "end_time": "2020-09-28T11:35:06.741785Z",
     "start_time": "2020-09-28T11:35:06.738451Z"
    }
   },
   "outputs": [],
   "source": [
    "# set the paths\n",
    "home = '/Users/mahtin'\n",
    "home = '/Users/martinscience'\n",
    "testdata = os.path.join(home,\"Dropbox/Icke/Work/somVar/testdata\")\n",
    "tooldata = os.path.join(home, \"Dropbox/Icke/Work/somVar/tooldata\")\n",
    "cnvdata = os.path.join(tooldata, \"myCNVdata\")\n",
    "shell_path = \"../shell\"\n",
    "static_path = os.path.join(home, \"Dropbox/Icke/Work/static\")\n",
    "output_path = os.path.join(cnvdata, \"output\")\n",
    "\n",
    "snp_path = os.path.join(cnvdata, \"cnv\")\n",
    "eb_path = os.path.join(cnvdata, \"EB\")"
   ]
  },
  {
   "cell_type": "code",
   "execution_count": null,
   "metadata": {
    "ExecuteTime": {
     "end_time": "2020-09-28T11:35:08.218157Z",
     "start_time": "2020-09-28T11:35:08.212994Z"
    }
   },
   "outputs": [],
   "source": [
    "snp_path\n",
    "eb_path"
   ]
  },
  {
   "cell_type": "code",
   "execution_count": null,
   "metadata": {
    "ExecuteTime": {
     "end_time": "2020-09-28T11:35:11.733842Z",
     "start_time": "2020-09-28T11:35:11.533103Z"
    }
   },
   "outputs": [],
   "source": [
    "test = pd.read_csv(f'{snp_path}/01_A.chr3.snp', sep='\\t')\n",
    "test[:13]"
   ]
  },
  {
   "cell_type": "markdown",
   "metadata": {},
   "source": [
    "### combine all snp for a sample into one df"
   ]
  },
  {
   "cell_type": "code",
   "execution_count": null,
   "metadata": {
    "ExecuteTime": {
     "end_time": "2020-09-28T11:35:33.092783Z",
     "start_time": "2020-09-28T11:35:30.006237Z"
    }
   },
   "outputs": [],
   "source": [
    "# try with pd merge\n",
    "import os\n",
    "chrom_list = [f\"chr{chrom + 1}\" for chrom in range(22)] + ['chrX']\n",
    "\n",
    "\n",
    "def combine_heteroSNP(sample):\n",
    "    snp_dfs = []\n",
    "    file_base = os.path.join(snp_path, sample)\n",
    "    for chrom in chrom_list:\n",
    "        file = f\"{file_base}.{chrom}.snp\"\n",
    "        if not os.path.isfile(file):\n",
    "            continue\n",
    "        print(f\"Reading {chrom} of sample {sample} from {file}.\")\n",
    "        snp_df = pd.read_csv(file, sep='\\t')\n",
    "        snp_dfs.append(snp_df)\n",
    "    snp_df = pd.concat(snp_dfs)\n",
    "    return snp_df"
   ]
  },
  {
   "cell_type": "code",
   "execution_count": null,
   "metadata": {},
   "outputs": [],
   "source": [
    "sample = \"01_A\"\n",
    "snp_df = combine_heteroSNP(sample)\n",
    "snp_df"
   ]
  },
  {
   "cell_type": "markdown",
   "metadata": {},
   "source": [
    "### load the EB data for that sample and merge"
   ]
  },
  {
   "cell_type": "code",
   "execution_count": null,
   "metadata": {},
   "outputs": [],
   "source": [
    "eb_df = pd.read_csv(os.path.join(eb_path, f\"{sample}-B.EB.csv\"), sep='\\t')\n",
    "eb_df"
   ]
  },
  {
   "cell_type": "markdown",
   "metadata": {},
   "source": [
    "### merge has to be done on Chr, Start and Alt as EB contains duplicates for Chr+Start with different Alt"
   ]
  },
  {
   "cell_type": "code",
   "execution_count": null,
   "metadata": {},
   "outputs": [],
   "source": [
    "eb_df[eb_df.duplicated(['Chr', 'Start'], keep=False)]"
   ]
  },
  {
   "cell_type": "markdown",
   "metadata": {},
   "source": [
    "### convert SNP Alt into standard Alt +  AltDepth for joining"
   ]
  },
  {
   "cell_type": "code",
   "execution_count": null,
   "metadata": {},
   "outputs": [],
   "source": [
    "snp_df[['Alt', 'AltDepth']] = snp_df['Alt'].str.extract(r\"([AGCT])([0-9]+)\")\n",
    "snp_df"
   ]
  },
  {
   "cell_type": "code",
   "execution_count": null,
   "metadata": {},
   "outputs": [],
   "source": [
    "merge_df = snp_df.merge(eb_df, on=['Chr', 'Start', 'Ref', 'Alt'], how='left')\n",
    "merge_df"
   ]
  },
  {
   "cell_type": "code",
   "execution_count": null,
   "metadata": {},
   "outputs": [],
   "source": [
    "merge_df[merge_df['EBscore'] == merge_df['EBscore']].query('VAF > 0.05')"
   ]
  },
  {
   "cell_type": "code",
   "execution_count": null,
   "metadata": {},
   "outputs": [],
   "source": []
  },
  {
   "cell_type": "code",
   "execution_count": null,
   "metadata": {},
   "outputs": [],
   "source": [
    "snp_df.to_csv(f\"{output_path}/heteroSNP/01_A.snp.csv\", sep='\\t', index=False)\n",
    "snp_dfaaa"
   ]
  },
  {
   "cell_type": "code",
   "execution_count": null,
   "metadata": {},
   "outputs": [],
   "source": []
  },
  {
   "cell_type": "code",
   "execution_count": null,
   "metadata": {},
   "outputs": [],
   "source": []
  },
  {
   "cell_type": "code",
   "execution_count": null,
   "metadata": {},
   "outputs": [],
   "source": []
  },
  {
   "cell_type": "code",
   "execution_count": null,
   "metadata": {},
   "outputs": [],
   "source": []
  },
  {
   "cell_type": "code",
   "execution_count": null,
   "metadata": {},
   "outputs": [],
   "source": []
  },
  {
   "cell_type": "code",
   "execution_count": null,
   "metadata": {},
   "outputs": [],
   "source": []
  },
  {
   "cell_type": "code",
   "execution_count": null,
   "metadata": {},
   "outputs": [],
   "source": []
  },
  {
   "cell_type": "code",
   "execution_count": null,
   "metadata": {},
   "outputs": [],
   "source": []
  },
  {
   "cell_type": "code",
   "execution_count": null,
   "metadata": {},
   "outputs": [],
   "source": [
    "snp_df = combine_heteroSNP(\"03_A\")\n",
    "snp_df.to_csv(f\"{output_path}/03_A.snp.csv\", sep='\\t', index=False)\n",
    "snp_df"
   ]
  },
  {
   "cell_type": "markdown",
   "metadata": {},
   "source": [
    "### make a stacked \"tidy version\" of the coverage df for vizualisation in tidyverse"
   ]
  },
  {
   "cell_type": "code",
   "execution_count": null,
   "metadata": {},
   "outputs": [],
   "source": [
    "def tidy_df(df):\n",
    "    return df.drop(columns=['Chr', 'Pos']).set_index('ExonPos').stack().reset_index().rename(columns={'level_1':'sample', 0:'Coverage'})\n",
    "\n",
    "tidy_df(cov_df).to_csv(f\"{output_path}/PON_coverage_tidy.csv\", sep='\\t', index=False)"
   ]
  },
  {
   "cell_type": "markdown",
   "metadata": {},
   "source": [
    "### normalize the coverage to coverage 100"
   ]
  },
  {
   "cell_type": "code",
   "execution_count": null,
   "metadata": {},
   "outputs": [],
   "source": [
    "def normalize_coverage(cov_df):\n",
    "    norm_df = cov_df.set_index(['Chr','Pos','ExonPos'])\n",
    "    norm_df = norm_df / norm_df.mean() * 100\n",
    "    return norm_df.reset_index()"
   ]
  },
  {
   "cell_type": "code",
   "execution_count": null,
   "metadata": {},
   "outputs": [],
   "source": [
    "norm_df = normalize_coverage(cov_df)\n",
    "norm_df"
   ]
  },
  {
   "cell_type": "code",
   "execution_count": null,
   "metadata": {},
   "outputs": [],
   "source": [
    "tidy_df(norm_df).to_csv(f\"{output_path}/PON_coverage_normtidy.csv\", sep='\\t', index=False)"
   ]
  },
  {
   "cell_type": "markdown",
   "metadata": {},
   "source": [
    "### compute the mean of all the coverages"
   ]
  },
  {
   "cell_type": "code",
   "execution_count": null,
   "metadata": {},
   "outputs": [],
   "source": [
    "def add_mean(norm_df):\n",
    "    norm_df = norm_df.set_index(['Chr', 'Pos', 'ExonPos'])\n",
    "    norm_df['meanCov'] = norm_df.mean(axis=1)\n",
    "    norm_df['medianCov'] = norm_df.median(axis=1)\n",
    "    norm_df['std'] = norm_df.std(axis=1)\n",
    "    return norm_df.reset_index()\n",
    "mean_df = add_mean(norm_df)\n",
    "tidy_df(mean_df).to_csv(f\"{output_path}/PON_coverage_mean.csv\", sep='\\t', index=False)\n",
    "mean_df"
   ]
  },
  {
   "cell_type": "markdown",
   "metadata": {},
   "source": [
    "### filter the coverage"
   ]
  },
  {
   "cell_type": "code",
   "execution_count": null,
   "metadata": {},
   "outputs": [],
   "source": [
    "mean_df['std'].max()"
   ]
  },
  {
   "cell_type": "code",
   "execution_count": null,
   "metadata": {},
   "outputs": [],
   "source": [
    "def filter_coverage(df, mincov, maxstd):\n",
    "    filter_df = df.query('meanCov > @mincov and std < @maxstd')\n",
    "    return filter_df"
   ]
  },
  {
   "cell_type": "code",
   "execution_count": null,
   "metadata": {},
   "outputs": [],
   "source": [
    "filter_df = filter_coverage(mean_df, mincov=20, maxstd=50)\n",
    "tidy_df(filter_df).to_csv(f\"{output_path}/PON_coverage_filter.csv\", sep='\\t', index=False)"
   ]
  }
 ],
 "metadata": {
  "kernelspec": {
   "display_name": "Python 3",
   "language": "python",
   "name": "python3"
  },
  "language_info": {
   "codemirror_mode": {
    "name": "ipython",
    "version": 3
   },
   "file_extension": ".py",
   "mimetype": "text/x-python",
   "name": "python",
   "nbconvert_exporter": "python",
   "pygments_lexer": "ipython3",
   "version": "3.8.5"
  },
  "varInspector": {
   "cols": {
    "lenName": 16,
    "lenType": 16,
    "lenVar": 40
   },
   "kernels_config": {
    "python": {
     "delete_cmd_postfix": "",
     "delete_cmd_prefix": "del ",
     "library": "var_list.py",
     "varRefreshCmd": "print(var_dic_list())"
    },
    "r": {
     "delete_cmd_postfix": ") ",
     "delete_cmd_prefix": "rm(",
     "library": "var_list.r",
     "varRefreshCmd": "cat(var_dic_list()) "
    }
   },
   "types_to_exclude": [
    "module",
    "function",
    "builtin_function_or_method",
    "instance",
    "_Feature"
   ],
   "window_display": false
  }
 },
 "nbformat": 4,
 "nbformat_minor": 4
}
