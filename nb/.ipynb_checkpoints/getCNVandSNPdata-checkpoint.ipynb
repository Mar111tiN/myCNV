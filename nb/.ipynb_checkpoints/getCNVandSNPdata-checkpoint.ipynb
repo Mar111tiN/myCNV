{
 "cells": [
  {
   "cell_type": "markdown",
   "metadata": {},
   "source": [
    "## combining chromosome SNP data per sample into WES SNP data\n",
    "### also add EB data if available to filter out bad SNPs"
   ]
  },
  {
   "cell_type": "code",
   "execution_count": 15,
   "metadata": {
    "ExecuteTime": {
     "end_time": "2020-10-14T07:14:09.950301Z",
     "start_time": "2020-10-14T07:14:09.944637Z"
    }
   },
   "outputs": [],
   "source": [
    "import os\n",
    "# HOME\n",
    "home = '/Users/mahtin'\n",
    "# home = '/Users/martinscience'\n",
    "# standard paths\n",
    "testdata = os.path.join(home,\"Dropbox/Icke/Work/somVar/testdata\")\n",
    "static_path = os.path.join(home, \"Dropbox/Icke/Work/static\")\n",
    "cluster_path = os.path.join(home, \"mount\")\n",
    "tooldata = os.path.join(home, \"Dropbox/Icke/Work/somVar/tooldata\")\n",
    "\n",
    "# tool-specific paths\n",
    "shell_path = \"../shell\"\n",
    "# \n",
    "cnvdata = os.path.join(tooldata, \"myCNVdata\")\n",
    "output_path = os.path.join(cnvdata, \"output\")\n",
    "\n",
    "# the path to the input data\n",
    "cnv_path = os.path.join(cnvdata, \"cnv\")\n",
    "cnvPON_path = cnv_path = os.path.join(cnvdata, \"chromCov\")\n",
    "cnv_path = os.path.join(cluster_path, \"scratch/develop/PONcoverage/cnv\")\n",
    "cnvPON_path = os.path.join(cluster_path, \"scratch/develop/PONcoverage/chromCov\")"
   ]
  },
  {
   "cell_type": "code",
   "execution_count": 16,
   "metadata": {
    "ExecuteTime": {
     "end_time": "2020-10-14T07:14:10.690562Z",
     "start_time": "2020-10-14T07:14:10.686881Z"
    }
   },
   "outputs": [
    {
     "data": {
      "text/plain": [
       "'/Users/mahtin/mount'"
      ]
     },
     "execution_count": 16,
     "metadata": {},
     "output_type": "execute_result"
    }
   ],
   "source": [
    "cluster_path"
   ]
  },
  {
   "cell_type": "markdown",
   "metadata": {},
   "source": [
    "# get the code"
   ]
  },
  {
   "cell_type": "code",
   "execution_count": 3,
   "metadata": {
    "ExecuteTime": {
     "end_time": "2020-10-14T07:11:38.388153Z",
     "start_time": "2020-10-14T07:11:38.379284Z"
    }
   },
   "outputs": [],
   "source": [
    "# get the code\n",
    "import sys\n",
    "sys.path.append('../code')\n",
    "from combineCNVdata import get_covNsnp"
   ]
  },
  {
   "cell_type": "code",
   "execution_count": null,
   "metadata": {
    "ExecuteTime": {
     "end_time": "2020-10-09T09:17:10.265955Z",
     "start_time": "2020-10-09T09:16:51.723449Z"
    }
   },
   "outputs": [],
   "source": [
    "sample = \"01_A\"\n",
    "snp_df, cov_df = get_covNsnp(sample, sample_cnv_path=cnv_path, PON_cnv_path=cnvPON_path, verbose=False, centerSNP=True)\n",
    "snp_df.to_csv(os.path.join(output_path, 'heteroSNP/01_A.snp'), sep='\\t', index=False)\n",
    "cov_df.to_csv(os.path.join(output_path, 'covDif/01_A.cov'), sep='\\t', index=False)"
   ]
  },
  {
   "cell_type": "code",
   "execution_count": null,
   "metadata": {
    "ExecuteTime": {
     "end_time": "2020-10-09T09:15:24.036484Z",
     "start_time": "2020-10-09T09:15:24.020952Z"
    }
   },
   "outputs": [],
   "source": [
    "snp_df[:10]"
   ]
  },
  {
   "cell_type": "code",
   "execution_count": null,
   "metadata": {
    "ExecuteTime": {
     "end_time": "2020-10-09T09:15:27.736084Z",
     "start_time": "2020-10-09T09:15:27.723176Z"
    }
   },
   "outputs": [],
   "source": [
    "cov_df.query('Chr == \"chrX\"').sort_values(['Chr', 'FullExonPos'])"
   ]
  },
  {
   "cell_type": "markdown",
   "metadata": {},
   "source": [
    "# A) combine the data from individual chroms into exom df"
   ]
  },
  {
   "cell_type": "markdown",
   "metadata": {},
   "source": [
    "## 1) coverage: merge sample coverage with Pon coverage"
   ]
  },
  {
   "cell_type": "markdown",
   "metadata": {},
   "source": [
    "### make full ExomCoords\n",
    "+ get the last coords of the chromosome\n",
    "+ make a running sum\n",
    "+ add that to the ExonPos"
   ]
  },
  {
   "cell_type": "code",
   "execution_count": 17,
   "metadata": {
    "ExecuteTime": {
     "end_time": "2020-10-14T07:14:18.812626Z",
     "start_time": "2020-10-14T07:14:17.404827Z"
    }
   },
   "outputs": [
    {
     "data": {
      "text/html": [
       "<div>\n",
       "<style scoped>\n",
       "    .dataframe tbody tr th:only-of-type {\n",
       "        vertical-align: middle;\n",
       "    }\n",
       "\n",
       "    .dataframe tbody tr th {\n",
       "        vertical-align: top;\n",
       "    }\n",
       "\n",
       "    .dataframe thead th {\n",
       "        text-align: right;\n",
       "    }\n",
       "</style>\n",
       "<table border=\"1\" class=\"dataframe\">\n",
       "  <thead>\n",
       "    <tr style=\"text-align: right;\">\n",
       "      <th></th>\n",
       "      <th>Chr</th>\n",
       "      <th>Pos</th>\n",
       "      <th>FullExonPos</th>\n",
       "      <th>ExonPos</th>\n",
       "      <th>meanCov</th>\n",
       "      <th>medianCov</th>\n",
       "      <th>std</th>\n",
       "    </tr>\n",
       "  </thead>\n",
       "  <tbody>\n",
       "    <tr>\n",
       "      <th>0</th>\n",
       "      <td>chr2</td>\n",
       "      <td>41600</td>\n",
       "      <td>4990623</td>\n",
       "      <td>46</td>\n",
       "      <td>56.220518</td>\n",
       "      <td>56.183972</td>\n",
       "      <td>8.275729</td>\n",
       "    </tr>\n",
       "    <tr>\n",
       "      <th>1</th>\n",
       "      <td>chr2</td>\n",
       "      <td>41650</td>\n",
       "      <td>4990673</td>\n",
       "      <td>96</td>\n",
       "      <td>58.245767</td>\n",
       "      <td>58.240028</td>\n",
       "      <td>7.551205</td>\n",
       "    </tr>\n",
       "    <tr>\n",
       "      <th>2</th>\n",
       "      <td>chr2</td>\n",
       "      <td>41700</td>\n",
       "      <td>4990723</td>\n",
       "      <td>146</td>\n",
       "      <td>41.235808</td>\n",
       "      <td>41.409505</td>\n",
       "      <td>5.349679</td>\n",
       "    </tr>\n",
       "    <tr>\n",
       "      <th>3</th>\n",
       "      <td>chr2</td>\n",
       "      <td>45450</td>\n",
       "      <td>4990768</td>\n",
       "      <td>191</td>\n",
       "      <td>68.454109</td>\n",
       "      <td>66.121635</td>\n",
       "      <td>10.232137</td>\n",
       "    </tr>\n",
       "    <tr>\n",
       "      <th>4</th>\n",
       "      <td>chr2</td>\n",
       "      <td>45500</td>\n",
       "      <td>4990818</td>\n",
       "      <td>241</td>\n",
       "      <td>99.797066</td>\n",
       "      <td>98.473545</td>\n",
       "      <td>13.861363</td>\n",
       "    </tr>\n",
       "    <tr>\n",
       "      <th>...</th>\n",
       "      <td>...</td>\n",
       "      <td>...</td>\n",
       "      <td>...</td>\n",
       "      <td>...</td>\n",
       "      <td>...</td>\n",
       "      <td>...</td>\n",
       "      <td>...</td>\n",
       "    </tr>\n",
       "    <tr>\n",
       "      <th>72435</th>\n",
       "      <td>chr2</td>\n",
       "      <td>242119000</td>\n",
       "      <td>8658895</td>\n",
       "      <td>3668318</td>\n",
       "      <td>44.609183</td>\n",
       "      <td>44.972727</td>\n",
       "      <td>9.045718</td>\n",
       "    </tr>\n",
       "    <tr>\n",
       "      <th>72436</th>\n",
       "      <td>chr2</td>\n",
       "      <td>242119050</td>\n",
       "      <td>8658945</td>\n",
       "      <td>3668368</td>\n",
       "      <td>38.292806</td>\n",
       "      <td>38.627107</td>\n",
       "      <td>7.505256</td>\n",
       "    </tr>\n",
       "    <tr>\n",
       "      <th>72437</th>\n",
       "      <td>chr2</td>\n",
       "      <td>242119100</td>\n",
       "      <td>8658995</td>\n",
       "      <td>3668418</td>\n",
       "      <td>22.787538</td>\n",
       "      <td>23.186022</td>\n",
       "      <td>3.973394</td>\n",
       "    </tr>\n",
       "    <tr>\n",
       "      <th>72438</th>\n",
       "      <td>chr2</td>\n",
       "      <td>242122350</td>\n",
       "      <td>8659050</td>\n",
       "      <td>3668473</td>\n",
       "      <td>3.705528</td>\n",
       "      <td>3.637969</td>\n",
       "      <td>1.485855</td>\n",
       "    </tr>\n",
       "    <tr>\n",
       "      <th>72439</th>\n",
       "      <td>chr2</td>\n",
       "      <td>242122400</td>\n",
       "      <td>8659100</td>\n",
       "      <td>3668523</td>\n",
       "      <td>2.934580</td>\n",
       "      <td>2.996361</td>\n",
       "      <td>1.194328</td>\n",
       "    </tr>\n",
       "  </tbody>\n",
       "</table>\n",
       "<p>72440 rows × 7 columns</p>\n",
       "</div>"
      ],
      "text/plain": [
       "        Chr        Pos  FullExonPos  ExonPos    meanCov  medianCov        std\n",
       "0      chr2      41600      4990623       46  56.220518  56.183972   8.275729\n",
       "1      chr2      41650      4990673       96  58.245767  58.240028   7.551205\n",
       "2      chr2      41700      4990723      146  41.235808  41.409505   5.349679\n",
       "3      chr2      45450      4990768      191  68.454109  66.121635  10.232137\n",
       "4      chr2      45500      4990818      241  99.797066  98.473545  13.861363\n",
       "...     ...        ...          ...      ...        ...        ...        ...\n",
       "72435  chr2  242119000      8658895  3668318  44.609183  44.972727   9.045718\n",
       "72436  chr2  242119050      8658945  3668368  38.292806  38.627107   7.505256\n",
       "72437  chr2  242119100      8658995  3668418  22.787538  23.186022   3.973394\n",
       "72438  chr2  242122350      8659050  3668473   3.705528   3.637969   1.485855\n",
       "72439  chr2  242122400      8659100  3668523   2.934580   2.996361   1.194328\n",
       "\n",
       "[72440 rows x 7 columns]"
      ]
     },
     "execution_count": 17,
     "metadata": {},
     "output_type": "execute_result"
    }
   ],
   "source": [
    "chrom = 'chr2'\n",
    "sample = \"01_A\"\n",
    "pon_cov = pd.read_csv(os.path.join(cnvPON_path, f\"{chrom}.filtered.csv.gz\"), sep='\\t', compression=\"gzip\")\n",
    "pon_cov"
   ]
  },
  {
   "cell_type": "code",
   "execution_count": 18,
   "metadata": {
    "ExecuteTime": {
     "end_time": "2020-10-14T07:14:22.449348Z",
     "start_time": "2020-10-14T07:14:21.995252Z"
    }
   },
   "outputs": [
    {
     "data": {
      "text/html": [
       "<div>\n",
       "<style scoped>\n",
       "    .dataframe tbody tr th:only-of-type {\n",
       "        vertical-align: middle;\n",
       "    }\n",
       "\n",
       "    .dataframe tbody tr th {\n",
       "        vertical-align: top;\n",
       "    }\n",
       "\n",
       "    .dataframe thead th {\n",
       "        text-align: right;\n",
       "    }\n",
       "</style>\n",
       "<table border=\"1\" class=\"dataframe\">\n",
       "  <thead>\n",
       "    <tr style=\"text-align: right;\">\n",
       "      <th></th>\n",
       "      <th>Chr</th>\n",
       "      <th>Pos</th>\n",
       "      <th>Coverage</th>\n",
       "      <th>ExonPos</th>\n",
       "    </tr>\n",
       "  </thead>\n",
       "  <tbody>\n",
       "    <tr>\n",
       "      <th>0</th>\n",
       "      <td>chr2</td>\n",
       "      <td>41600</td>\n",
       "      <td>256.15</td>\n",
       "      <td>46</td>\n",
       "    </tr>\n",
       "    <tr>\n",
       "      <th>1</th>\n",
       "      <td>chr2</td>\n",
       "      <td>41650</td>\n",
       "      <td>272.77</td>\n",
       "      <td>96</td>\n",
       "    </tr>\n",
       "    <tr>\n",
       "      <th>2</th>\n",
       "      <td>chr2</td>\n",
       "      <td>41700</td>\n",
       "      <td>208.11</td>\n",
       "      <td>146</td>\n",
       "    </tr>\n",
       "    <tr>\n",
       "      <th>3</th>\n",
       "      <td>chr2</td>\n",
       "      <td>45450</td>\n",
       "      <td>466.34</td>\n",
       "      <td>191</td>\n",
       "    </tr>\n",
       "    <tr>\n",
       "      <th>4</th>\n",
       "      <td>chr2</td>\n",
       "      <td>45500</td>\n",
       "      <td>708.56</td>\n",
       "      <td>241</td>\n",
       "    </tr>\n",
       "    <tr>\n",
       "      <th>...</th>\n",
       "      <td>...</td>\n",
       "      <td>...</td>\n",
       "      <td>...</td>\n",
       "      <td>...</td>\n",
       "    </tr>\n",
       "    <tr>\n",
       "      <th>72130</th>\n",
       "      <td>chr2</td>\n",
       "      <td>242119000</td>\n",
       "      <td>254.48</td>\n",
       "      <td>3668318</td>\n",
       "    </tr>\n",
       "    <tr>\n",
       "      <th>72131</th>\n",
       "      <td>chr2</td>\n",
       "      <td>242119050</td>\n",
       "      <td>238.15</td>\n",
       "      <td>3668368</td>\n",
       "    </tr>\n",
       "    <tr>\n",
       "      <th>72132</th>\n",
       "      <td>chr2</td>\n",
       "      <td>242119100</td>\n",
       "      <td>164.15</td>\n",
       "      <td>3668418</td>\n",
       "    </tr>\n",
       "    <tr>\n",
       "      <th>72133</th>\n",
       "      <td>chr2</td>\n",
       "      <td>242122350</td>\n",
       "      <td>23.91</td>\n",
       "      <td>3668473</td>\n",
       "    </tr>\n",
       "    <tr>\n",
       "      <th>72134</th>\n",
       "      <td>chr2</td>\n",
       "      <td>242122400</td>\n",
       "      <td>18.30</td>\n",
       "      <td>3668523</td>\n",
       "    </tr>\n",
       "  </tbody>\n",
       "</table>\n",
       "<p>72135 rows × 4 columns</p>\n",
       "</div>"
      ],
      "text/plain": [
       "        Chr        Pos  Coverage  ExonPos\n",
       "0      chr2      41600    256.15       46\n",
       "1      chr2      41650    272.77       96\n",
       "2      chr2      41700    208.11      146\n",
       "3      chr2      45450    466.34      191\n",
       "4      chr2      45500    708.56      241\n",
       "...     ...        ...       ...      ...\n",
       "72130  chr2  242119000    254.48  3668318\n",
       "72131  chr2  242119050    238.15  3668368\n",
       "72132  chr2  242119100    164.15  3668418\n",
       "72133  chr2  242122350     23.91  3668473\n",
       "72134  chr2  242122400     18.30  3668523\n",
       "\n",
       "[72135 rows x 4 columns]"
      ]
     },
     "execution_count": 18,
     "metadata": {},
     "output_type": "execute_result"
    }
   ],
   "source": [
    "sample_cov = pd.read_csv(os.path.join(cnv_path, f\"{sample}.{chrom}.cov\"), sep='\\t', compression=\"gzip\")\n",
    "sample_cov"
   ]
  },
  {
   "cell_type": "code",
   "execution_count": 23,
   "metadata": {
    "ExecuteTime": {
     "end_time": "2020-10-14T07:16:22.677694Z",
     "start_time": "2020-10-14T07:16:22.664116Z"
    }
   },
   "outputs": [],
   "source": [
    "def combine_Covdata(sample, sample_cnv_path=\"\", PON_cnv_path=\"\", verbose=False, filtered=True):\n",
    "    \n",
    "    cover_dfs = []\n",
    "    chrom_list = [f\"chr{chrom + 1}\" for chrom in range(22)] + ['chrX']\n",
    "    for chrom in chrom_list:\n",
    "        # reading sampleCoverage\n",
    "        sample_cov_file = os.path.join(sample_cnv_path, f\"{sample}.{chrom}.cov\")\n",
    "        if not os.path.isfile(sample_cov_file):\n",
    "            print(\"No file\", sample_cov_file)\n",
    "            continue\n",
    "        if verbose:\n",
    "            print(f\"Reading coverage from {chrom} of sample {sample} from {sample_cov_file}.\")\n",
    "        cov_df = pd.read_csv(sample_cov_file, sep='\\t', compression=\"gzip\")\n",
    "        \n",
    "        #reading PONcoverage\n",
    "        full_or_filtered = \"filtered\" if filtered else \"full\"\n",
    "        pon_cov_file = os.path.join(PON_cnv_path, f\"{chrom}.{full_or_filtered}.csv.gz\")\n",
    "        if not os.path.isfile(pon_cov_file):\n",
    "            print(\"No file\", pon_cov_file)\n",
    "            continue\n",
    "        if verbose:\n",
    "            print(f\"Reading PON coverage of {chrom} from file {pon_cov_file}.\")\n",
    "        pon_df = pd.read_csv(pon_cov_file, sep='\\t', compression=\"gzip\").loc[:,['Chr', 'Pos', 'FullExonPos', 'ExonPos', 'meanCov', 'medianCov', 'std']]\n",
    "        # column rename\n",
    "        trans_dict = {col:f\"PON{col}\" for col in pon_df.columns[4:]}\n",
    "        pon_df = pon_df.rename(columns=trans_dict)\n",
    "        # merge sample with PON coverage\n",
    "        sample_df = cov_df.merge(pon_df, on=['Chr', 'Pos', 'ExonPos'], how=\"outer\").loc[:,['Chr', 'Pos', 'FullExonPos', 'ExonPos', 'Coverage','PONmeanCov', 'PONmedianCov', 'PONstd']]\n",
    "        \n",
    "        ##### here recover missing FullExonPos from margin\n",
    "        # get \n",
    "        exon_start, full_start = sample_df.iloc[0][['ExonPos', 'FullExonPos']]\n",
    "        offset = full_start - exon_start\n",
    "        sample_df.loc[sample_df['FullExonPos'] != sample_df['FullExonPos'], 'FullExonPos'] = sample_df['ExonPos'] + offset\n",
    "        sample_df.loc[:, 'FullExonPos'] = sample_df.loc[:, 'FullExonPos'].astype(int)\n",
    "        cover_dfs.append(sample_df)  \n",
    "    # combine chrom data\n",
    "    cover_df = pd.concat(cover_dfs)\n",
    "    \n",
    "    # normalize the coverage\n",
    "    sample_df['Coverage'] = (sample_df['Coverage'] / sample_df['Coverage'].mean() * 100).fillna(0)\n",
    "    # loggable are the coverages, where log2ratio can be computed\n",
    "    loggable = (cover_df['PONmeanCov'] * cover_df['Coverage'] != 0)\n",
    "    cover_df.loc[loggable, 'log2ratio'] = np.log2(cover_df.loc[loggable, 'Coverage'] / cover_df.loc[loggable, 'PONmeanCov'])\n",
    "    # mark regions without PON coverage as 0\n",
    "    cover_df.loc[~loggable, 'log2ratio'] = np.nan\n",
    "    return cover_df"
   ]
  },
  {
   "cell_type": "code",
   "execution_count": 24,
   "metadata": {
    "ExecuteTime": {
     "end_time": "2020-10-14T07:16:50.693405Z",
     "start_time": "2020-10-14T07:16:23.574263Z"
    }
   },
   "outputs": [
    {
     "data": {
      "text/html": [
       "<div>\n",
       "<style scoped>\n",
       "    .dataframe tbody tr th:only-of-type {\n",
       "        vertical-align: middle;\n",
       "    }\n",
       "\n",
       "    .dataframe tbody tr th {\n",
       "        vertical-align: top;\n",
       "    }\n",
       "\n",
       "    .dataframe thead th {\n",
       "        text-align: right;\n",
       "    }\n",
       "</style>\n",
       "<table border=\"1\" class=\"dataframe\">\n",
       "  <thead>\n",
       "    <tr style=\"text-align: right;\">\n",
       "      <th></th>\n",
       "      <th>Chr</th>\n",
       "      <th>Pos</th>\n",
       "      <th>FullExonPos</th>\n",
       "      <th>ExonPos</th>\n",
       "      <th>Coverage</th>\n",
       "      <th>PONmeanCov</th>\n",
       "      <th>PONmedianCov</th>\n",
       "      <th>PONstd</th>\n",
       "      <th>log2ratio</th>\n",
       "    </tr>\n",
       "  </thead>\n",
       "  <tbody>\n",
       "    <tr>\n",
       "      <th>0</th>\n",
       "      <td>chr1</td>\n",
       "      <td>12650</td>\n",
       "      <td>220</td>\n",
       "      <td>220</td>\n",
       "      <td>0.40</td>\n",
       "      <td>0.005664</td>\n",
       "      <td>0.000000</td>\n",
       "      <td>0.018137</td>\n",
       "      <td>6.141918</td>\n",
       "    </tr>\n",
       "    <tr>\n",
       "      <th>1</th>\n",
       "      <td>chr1</td>\n",
       "      <td>12700</td>\n",
       "      <td>270</td>\n",
       "      <td>270</td>\n",
       "      <td>0.90</td>\n",
       "      <td>0.024506</td>\n",
       "      <td>0.000000</td>\n",
       "      <td>0.070519</td>\n",
       "      <td>5.198726</td>\n",
       "    </tr>\n",
       "    <tr>\n",
       "      <th>2</th>\n",
       "      <td>chr1</td>\n",
       "      <td>12750</td>\n",
       "      <td>320</td>\n",
       "      <td>320</td>\n",
       "      <td>5.00</td>\n",
       "      <td>0.016357</td>\n",
       "      <td>0.000000</td>\n",
       "      <td>0.053281</td>\n",
       "      <td>8.255868</td>\n",
       "    </tr>\n",
       "    <tr>\n",
       "      <th>3</th>\n",
       "      <td>chr1</td>\n",
       "      <td>13450</td>\n",
       "      <td>365</td>\n",
       "      <td>365</td>\n",
       "      <td>138.80</td>\n",
       "      <td>10.565648</td>\n",
       "      <td>10.013362</td>\n",
       "      <td>4.855861</td>\n",
       "      <td>3.715554</td>\n",
       "    </tr>\n",
       "    <tr>\n",
       "      <th>4</th>\n",
       "      <td>chr1</td>\n",
       "      <td>13500</td>\n",
       "      <td>415</td>\n",
       "      <td>415</td>\n",
       "      <td>177.02</td>\n",
       "      <td>14.981521</td>\n",
       "      <td>14.981521</td>\n",
       "      <td>6.335329</td>\n",
       "      <td>3.562656</td>\n",
       "    </tr>\n",
       "    <tr>\n",
       "      <th>...</th>\n",
       "      <td>...</td>\n",
       "      <td>...</td>\n",
       "      <td>...</td>\n",
       "      <td>...</td>\n",
       "      <td>...</td>\n",
       "      <td>...</td>\n",
       "      <td>...</td>\n",
       "      <td>...</td>\n",
       "      <td>...</td>\n",
       "    </tr>\n",
       "    <tr>\n",
       "      <th>35235</th>\n",
       "      <td>chrX</td>\n",
       "      <td>155381950</td>\n",
       "      <td>49459154</td>\n",
       "      <td>1824691</td>\n",
       "      <td>NaN</td>\n",
       "      <td>0.000000</td>\n",
       "      <td>0.000000</td>\n",
       "      <td>0.000000</td>\n",
       "      <td>NaN</td>\n",
       "    </tr>\n",
       "    <tr>\n",
       "      <th>35236</th>\n",
       "      <td>chrX</td>\n",
       "      <td>155458750</td>\n",
       "      <td>49461260</td>\n",
       "      <td>1826797</td>\n",
       "      <td>NaN</td>\n",
       "      <td>0.000000</td>\n",
       "      <td>0.000000</td>\n",
       "      <td>0.000000</td>\n",
       "      <td>NaN</td>\n",
       "    </tr>\n",
       "    <tr>\n",
       "      <th>35237</th>\n",
       "      <td>chrX</td>\n",
       "      <td>155458800</td>\n",
       "      <td>49461310</td>\n",
       "      <td>1826847</td>\n",
       "      <td>NaN</td>\n",
       "      <td>0.011319</td>\n",
       "      <td>0.000000</td>\n",
       "      <td>0.026309</td>\n",
       "      <td>NaN</td>\n",
       "    </tr>\n",
       "    <tr>\n",
       "      <th>35238</th>\n",
       "      <td>chrX</td>\n",
       "      <td>155458850</td>\n",
       "      <td>49461360</td>\n",
       "      <td>1826897</td>\n",
       "      <td>NaN</td>\n",
       "      <td>0.019440</td>\n",
       "      <td>0.000000</td>\n",
       "      <td>0.053035</td>\n",
       "      <td>NaN</td>\n",
       "    </tr>\n",
       "    <tr>\n",
       "      <th>35239</th>\n",
       "      <td>chrX</td>\n",
       "      <td>155458900</td>\n",
       "      <td>49461410</td>\n",
       "      <td>1826947</td>\n",
       "      <td>NaN</td>\n",
       "      <td>0.041860</td>\n",
       "      <td>0.000000</td>\n",
       "      <td>0.123197</td>\n",
       "      <td>NaN</td>\n",
       "    </tr>\n",
       "  </tbody>\n",
       "</table>\n",
       "<p>955644 rows × 9 columns</p>\n",
       "</div>"
      ],
      "text/plain": [
       "        Chr        Pos  FullExonPos  ExonPos  Coverage  PONmeanCov  \\\n",
       "0      chr1      12650          220      220      0.40    0.005664   \n",
       "1      chr1      12700          270      270      0.90    0.024506   \n",
       "2      chr1      12750          320      320      5.00    0.016357   \n",
       "3      chr1      13450          365      365    138.80   10.565648   \n",
       "4      chr1      13500          415      415    177.02   14.981521   \n",
       "...     ...        ...          ...      ...       ...         ...   \n",
       "35235  chrX  155381950     49459154  1824691       NaN    0.000000   \n",
       "35236  chrX  155458750     49461260  1826797       NaN    0.000000   \n",
       "35237  chrX  155458800     49461310  1826847       NaN    0.011319   \n",
       "35238  chrX  155458850     49461360  1826897       NaN    0.019440   \n",
       "35239  chrX  155458900     49461410  1826947       NaN    0.041860   \n",
       "\n",
       "       PONmedianCov    PONstd  log2ratio  \n",
       "0          0.000000  0.018137   6.141918  \n",
       "1          0.000000  0.070519   5.198726  \n",
       "2          0.000000  0.053281   8.255868  \n",
       "3         10.013362  4.855861   3.715554  \n",
       "4         14.981521  6.335329   3.562656  \n",
       "...             ...       ...        ...  \n",
       "35235      0.000000  0.000000        NaN  \n",
       "35236      0.000000  0.000000        NaN  \n",
       "35237      0.000000  0.026309        NaN  \n",
       "35238      0.000000  0.053035        NaN  \n",
       "35239      0.000000  0.123197        NaN  \n",
       "\n",
       "[955644 rows x 9 columns]"
      ]
     },
     "execution_count": 24,
     "metadata": {},
     "output_type": "execute_result"
    }
   ],
   "source": [
    "sample = \"01_A\"\n",
    "cov_df = combine_Covdata(sample, sample_cnv_path=cnv_path, PON_cnv_path=cnvPON_path, filtered=True)\n",
    "cov_df"
   ]
  },
  {
   "cell_type": "markdown",
   "metadata": {},
   "source": [
    "## 2) heteroSNP: combine all snp for a sample into one df with corresponding EBscore"
   ]
  },
  {
   "cell_type": "code",
   "execution_count": null,
   "metadata": {
    "ExecuteTime": {
     "end_time": "2020-10-09T08:27:57.900732Z",
     "start_time": "2020-10-09T08:27:57.892854Z"
    }
   },
   "outputs": [],
   "source": [
    "import os\n",
    "chrom_list = [f\"chr{chrom + 1}\" for chrom in range(22)] + ['chrX']\n",
    "\n",
    "\n",
    "def combine_SNPdata(sample, sample_cnv_path=\"\", verbose=False):\n",
    "    snp_dfs = []\n",
    "    file_base = os.path.join(sample_cnv_path, sample)\n",
    "    for chrom in chrom_list:\n",
    "        # reading SNP\n",
    "        file = f\"{file_base}.{chrom}.snp\"\n",
    "        if not os.path.isfile(file):\n",
    "            print('No file', file)\n",
    "            continue\n",
    "        if verbose:\n",
    "            print(f\"Reading SNP VAF from {chrom} of sample {sample} from {file}.\")\n",
    "        snp_df = pd.read_csv(file, sep='\\t')\n",
    "        snp_df[['Alt', 'AltDepth']] = snp_df['Alt'].str.extract(r\"([AGCT])([0-9]+)\")\n",
    "        \n",
    "        #reading snpEB\n",
    "        file = f\"{file_base}.{chrom}.snpEB\"\n",
    "        if not os.path.isfile(file):\n",
    "            print('No file', file)\n",
    "            continue\n",
    "        if verbose:\n",
    "            print(f\"Reading SNP EBscores from {chrom} of sample {sample} from {file}.\")\n",
    "        snpEB_df = pd.read_csv(file, sep='\\t').loc[:,['Chr', 'Start', 'Ref','Alt', 'EBscore', 'PoN-Alt']]\n",
    "        snp_df = snp_df.merge(snpEB_df, on=['Chr', 'Start', 'Ref', 'Alt'])\n",
    "        \n",
    "        snp_dfs.append(snp_df)\n",
    "    snp_df = pd.concat(snp_dfs).reset_index(drop=True)\n",
    "    return snp_df.loc[:, [\"Chr\", \"Start\", \"ExonPos\", \"Ref\", \"Depth\", \"Alt\", \"VAF\", \"EBscore\", \"PoN-Alt\"]]"
   ]
  },
  {
   "cell_type": "code",
   "execution_count": null,
   "metadata": {
    "ExecuteTime": {
     "end_time": "2020-10-09T09:03:47.061212Z",
     "start_time": "2020-10-09T09:03:44.518800Z"
    }
   },
   "outputs": [],
   "source": [
    "sample = \"01_A\"\n",
    "snp_df = combine_SNPdata(sample, sample_cnv_path=cnv_path)\n",
    "snp_df"
   ]
  },
  {
   "cell_type": "code",
   "execution_count": null,
   "metadata": {
    "ExecuteTime": {
     "end_time": "2020-10-09T09:03:50.191342Z",
     "start_time": "2020-10-09T09:03:50.186693Z"
    }
   },
   "outputs": [],
   "source": [
    "def centerVAF(snp_df):\n",
    "    '''\n",
    "    attempting to correct for off-center VAF means\n",
    "    '''\n",
    "\n",
    "    # get the VAF mean\n",
    "    meanVAF = snp_df.query('0.05 < VAF < 0.95')['VAF'].mean()\n",
    "    # store the original VAF in orgVAF\n",
    "    snp_df['orgVAF'] = snp_df['VAF']\n",
    "    snp_df.loc[snp_df['VAF'] <= meanVAF,\n",
    "               'VAF'] = snp_df['VAF'] / meanVAF * 0.5\n",
    "    snp_df.loc[snp_df['VAF'] > meanVAF, 'VAF'] = 0.5 + \\\n",
    "        0.5 * (snp_df['VAF'] - meanVAF) / (1-meanVAF)\n",
    "    newMeanVAF = snp_df.query('0.05 < VAF < 0.95')['VAF'].mean()\n",
    "    return snp_df, meanVAF, newMeanVAF"
   ]
  },
  {
   "cell_type": "code",
   "execution_count": null,
   "metadata": {
    "ExecuteTime": {
     "end_time": "2020-10-09T09:03:50.580060Z",
     "start_time": "2020-10-09T09:03:50.503202Z"
    }
   },
   "outputs": [],
   "source": [
    "snp_df, _, _ = centerVAF(snp_df)\n",
    "snp_df"
   ]
  },
  {
   "cell_type": "code",
   "execution_count": null,
   "metadata": {
    "ExecuteTime": {
     "end_time": "2020-10-09T09:03:50.825879Z",
     "start_time": "2020-10-09T09:03:50.813819Z"
    }
   },
   "outputs": [],
   "source": [
    "snp_df.query('0.05 < VAF < 0.95')['VAF'].mean()"
   ]
  },
  {
   "cell_type": "code",
   "execution_count": null,
   "metadata": {
    "ExecuteTime": {
     "end_time": "2020-10-09T09:03:51.242163Z",
     "start_time": "2020-10-09T09:03:51.229926Z"
    }
   },
   "outputs": [],
   "source": [
    "snp_df.query('0.05 < VAF < 0.95')['orgVAF'].mean()"
   ]
  },
  {
   "cell_type": "markdown",
   "metadata": {},
   "source": [
    "### get the exome coordinates for snp_df from the cov_df\n",
    "+ cov_df is more complete\n",
    "+ needed to have a common coordinate system"
   ]
  },
  {
   "cell_type": "code",
   "execution_count": null,
   "metadata": {
    "ExecuteTime": {
     "end_time": "2020-10-09T09:03:51.956329Z",
     "start_time": "2020-10-09T09:03:51.942347Z"
    }
   },
   "outputs": [],
   "source": [
    "snp_df[:10]"
   ]
  },
  {
   "cell_type": "code",
   "execution_count": null,
   "metadata": {
    "ExecuteTime": {
     "end_time": "2020-10-09T09:03:52.414429Z",
     "start_time": "2020-10-09T09:03:52.402176Z"
    }
   },
   "outputs": [],
   "source": [
    "cov_df[:10]"
   ]
  },
  {
   "cell_type": "code",
   "execution_count": null,
   "metadata": {
    "ExecuteTime": {
     "end_time": "2020-10-09T09:04:16.091232Z",
     "start_time": "2020-10-09T09:04:13.723726Z"
    }
   },
   "outputs": [],
   "source": [
    "def get_full_exon_pos_from_cov(snp_df, cov_df):\n",
    "    \n",
    "    snp_cols = list(snp_df.columns)\n",
    "    snp_dfs = []\n",
    "    for chrom in snp_df['Chr'].unique():\n",
    "        merge = snp_df.query('Chr == @chrom').merge(cov_df.query('Chr == @chrom').loc[:,['Chr','Pos', 'FullExonPos','ExonPos']], how='outer').sort_values('ExonPos')\n",
    "        merge['PosL'] = merge['Pos'].fillna(method=\"ffill\")\n",
    "        merge['FullL'] = merge['FullExonPos'].fillna(method=\"ffill\")\n",
    "        merge.loc[merge['FullExonPos'] != merge['FullExonPos'], 'FullExonPos'] = merge['FullL'] + merge['Start'] - merge['PosL']\n",
    "        # fill the margins\n",
    "        merge.loc[:,'FullExonPos'] = merge['FullExonPos'].fillna(method=\"bfill\").fillna(method=\"ffill\")\n",
    "        # reduce the columns and only snp_data rows\n",
    "        cols = snp_cols[:2] + ['FullExonPos'] + snp_cols[2:]\n",
    "        snp_merge = merge[cols].query(\"VAF == VAF\")\n",
    "        for col in ['Start', 'FullExonPos', 'Depth']:\n",
    "            snp_merge.loc[:, col] = snp_merge[col].astype(int)\n",
    "        snp_dfs.append(snp_merge)\n",
    "    snp_df = pd.concat(snp_dfs).reset_index(drop=True).sort_values('FullExonPos').rename(columns={'Start':'Pos'})\n",
    "\n",
    "    return snp_df\n",
    "\n",
    "snp_df = get_full_exon_pos_from_cov(snp_df, cov_df)\n",
    "snp_df"
   ]
  },
  {
   "cell_type": "code",
   "execution_count": null,
   "metadata": {
    "ExecuteTime": {
     "end_time": "2020-10-09T04:13:28.691761Z",
     "start_time": "2020-10-09T04:13:28.676774Z"
    }
   },
   "outputs": [],
   "source": [
    "cov_df"
   ]
  },
  {
   "cell_type": "markdown",
   "metadata": {},
   "source": [
    "## combine SNP data and covData"
   ]
  },
  {
   "cell_type": "code",
   "execution_count": null,
   "metadata": {
    "ExecuteTime": {
     "end_time": "2020-10-09T09:04:45.659977Z",
     "start_time": "2020-10-09T09:04:45.655999Z"
    }
   },
   "outputs": [],
   "source": [
    "def get_covNsnp(sample, sample_cnv_path='', PON_cnv_path='', verbose=False):\n",
    "    '''\n",
    "    load the coverage_data for a sample and the heteroSNP data and apply the same fullExonCoords\n",
    "    '''\n",
    "    print(f'Loading coverage data for sample {sample}')\n",
    "    cov_df = combine_Covdata(sample, sample_cnv_path=sample_cnv_path, PON_cnv_path=PON_cnv_path, verbose=verbose)\n",
    "    print(f'Loading SNP data for sample {sample}')\n",
    "    snp_df = combine_SNPdata(sample, sample_cnv_path=sample_cnv_path, verbose=verbose)\n",
    "    # get full exonPos from cov_df and remove the accumPos from cov_df\n",
    "    snp_df = get_full_exon_pos_from_cov(snp_df, cov_df)\n",
    "    # \n",
    "    snp_df, _, _ = centerVAF(snp_df)\n",
    "    print(f\"Finished loading sample {sample}\")\n",
    "    return snp_df, cov_df"
   ]
  },
  {
   "cell_type": "code",
   "execution_count": null,
   "metadata": {
    "ExecuteTime": {
     "end_time": "2020-10-09T09:04:55.890203Z",
     "start_time": "2020-10-09T09:04:48.100225Z"
    }
   },
   "outputs": [],
   "source": [
    "sample = \"01_A\"\n",
    "snp_df, cov_df = get_covNsnp(sample, sample_cnv_path=cnv_path, PON_cnv_path=cnvPON_path, verbose=False)"
   ]
  },
  {
   "cell_type": "code",
   "execution_count": null,
   "metadata": {
    "ExecuteTime": {
     "end_time": "2020-10-09T09:05:14.810770Z",
     "start_time": "2020-10-09T09:05:14.796647Z"
    }
   },
   "outputs": [],
   "source": [
    "snp_df[:10]"
   ]
  },
  {
   "cell_type": "code",
   "execution_count": null,
   "metadata": {
    "ExecuteTime": {
     "end_time": "2020-10-09T09:05:15.940324Z",
     "start_time": "2020-10-09T09:05:15.928765Z"
    }
   },
   "outputs": [],
   "source": [
    "cov_df[:10]"
   ]
  },
  {
   "cell_type": "code",
   "execution_count": null,
   "metadata": {},
   "outputs": [],
   "source": []
  }
 ],
 "metadata": {
  "kernelspec": {
   "display_name": "Python 3",
   "language": "python",
   "name": "python3"
  },
  "language_info": {
   "codemirror_mode": {
    "name": "ipython",
    "version": 3
   },
   "file_extension": ".py",
   "mimetype": "text/x-python",
   "name": "python",
   "nbconvert_exporter": "python",
   "pygments_lexer": "ipython3",
   "version": "3.8.2"
  },
  "varInspector": {
   "cols": {
    "lenName": 16,
    "lenType": 16,
    "lenVar": 40
   },
   "kernels_config": {
    "python": {
     "delete_cmd_postfix": "",
     "delete_cmd_prefix": "del ",
     "library": "var_list.py",
     "varRefreshCmd": "print(var_dic_list())"
    },
    "r": {
     "delete_cmd_postfix": ") ",
     "delete_cmd_prefix": "rm(",
     "library": "var_list.r",
     "varRefreshCmd": "cat(var_dic_list()) "
    }
   },
   "types_to_exclude": [
    "module",
    "function",
    "builtin_function_or_method",
    "instance",
    "_Feature"
   ],
   "window_display": false
  }
 },
 "nbformat": 4,
 "nbformat_minor": 4
}
