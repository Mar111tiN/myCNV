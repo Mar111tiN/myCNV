{
 "cells": [
  {
   "cell_type": "markdown",
   "metadata": {},
   "source": [
    "## Combine the data"
   ]
  },
  {
   "cell_type": "code",
   "execution_count": null,
   "metadata": {},
   "outputs": [],
   "source": [
    "# get the code\n",
    "import sys\n",
    "sys.path.append('../code')\n",
    "from combineCNVdata import get_covNsnp"
   ]
  },
  {
   "cell_type": "code",
   "execution_count": null,
   "metadata": {
    "ExecuteTime": {
     "end_time": "2020-10-02T16:09:33.924333Z",
     "start_time": "2020-10-02T16:09:33.920187Z"
    }
   },
   "outputs": [],
   "source": [
    "# HOME\n",
    "home = '/Users/mahtin'\n",
    "home = '/Users/martinscience'\n",
    "# standard paths\n",
    "testdata = os.path.join(home,\"Dropbox/Icke/Work/somVar/testdata\")\n",
    "static_path = os.path.join(home, \"Dropbox/Icke/Work/static\")\n",
    "cluster_path = os.path.join(home, \"/Users/martinscience/mount\")\n",
    "tooldata = os.path.join(home, \"Dropbox/Icke/Work/somVar/tooldata\")\n",
    "\n",
    "# tool-specific paths\n",
    "shell_path = \"../shell\"\n",
    "# \n",
    "cnvdata = os.path.join(tooldata, \"myCNVdata\")\n",
    "output_path = os.path.join(cnvdata, \"output\")\n",
    "\n",
    "# the path to the input data\n",
    "cnv_path = os.path.join(cnvdata, \"cnv\")\n",
    "cnvPON_path = cnv_path = os.path.join(cnvdata, \"chromCov\")\n",
    "cnv_path = os.path.join(cluster_path, \"scratch/develop/PONcoverage/cnv\")\n",
    "cnvPON_path = os.path.join(cluster_path, \"scratch/develop/PONcoverage/chromCov\")"
   ]
  },
  {
   "cell_type": "code",
   "execution_count": null,
   "metadata": {
    "ExecuteTime": {
     "end_time": "2020-10-02T16:09:34.012107Z",
     "start_time": "2020-10-02T16:09:34.008173Z"
    }
   },
   "outputs": [],
   "source": [
    "cnvPON_path"
   ]
  },
  {
   "cell_type": "code",
   "execution_count": null,
   "metadata": {},
   "outputs": [],
   "source": [
    "sample = \"01_A\"\n",
    "snp_df, cov_df = get_covNsnp(sample, sample_cnv_path=cnv_path, PON_cnv_path=cnvPON_path, verbose=False, centerSNP=True)"
   ]
  },
  {
   "cell_type": "code",
   "execution_count": null,
   "metadata": {},
   "outputs": [],
   "source": [
    "snp_df[:10]"
   ]
  },
  {
   "cell_type": "code",
   "execution_count": null,
   "metadata": {},
   "outputs": [],
   "source": [
    "cov_df[:10]"
   ]
  },
  {
   "cell_type": "markdown",
   "metadata": {},
   "source": [
    "## rolling window metrices"
   ]
  },
  {
   "cell_type": "markdown",
   "metadata": {},
   "source": [
    "### first, get a few extra values to do rolling windows on"
   ]
  },
  {
   "cell_type": "code",
   "execution_count": null,
   "metadata": {},
   "outputs": [],
   "source": [
    "config = {\n",
    "    'VAFlimits':[0.05,0.95],\n",
    "    'minEBscore':0.5,\n",
    "    'minDepth': 30\n",
    "}\n",
    "\n",
    "def expand_SNPdata(snp_df, config):\n",
    "    '''\n",
    "    retrieve a few data columns locally to use rolling windows on\n",
    "    this needs to be done chromosome-wise in order to avoid gap effects\n",
    "    '''\n",
    "    \n",
    "    # reduce the snp_df using config limits\n",
    "    VAFmin = config['VAFlimits'][0]\n",
    "    VAFmax = config['VAFlimits'][1]\n",
    "    minDepth = config['minDepth']\n",
    "    minEBscore = config['minEBscore']\n",
    "    df = snp_df.query('@VAFmin < VAF < @VAFmax and Depth >= @minDepth and EBscore > @minEBscore')\n",
    "    \n",
    "    # find the center\n",
    "    center = df['VAF'].mean()\n",
    "    print(\"heteroSNP centered around\", center)\n",
    "    # offCenter\n",
    "    df.loc[:,'absVAF'] = np.abs(df['VAF'] - center)\n",
    "    \n",
    "    \n",
    "    # get the local VAF difference chrom based\n",
    "    dfs = []\n",
    "    for chrom in df['Chr'].unique():\n",
    "        chrom_df = df.query('Chr == @chrom')\n",
    "        chrom_df['deltaVAF'] = np.abs(chrom_df['VAF'] - chrom_df.shift(1)['VAF']).fillna(0)\n",
    "        dfs.append(chrom_df)\n",
    "    snp_df = pd.concat(dfs).sort_values('FullExonPos')\n",
    "    \n",
    "    return snp_df"
   ]
  },
  {
   "cell_type": "code",
   "execution_count": null,
   "metadata": {},
   "outputs": [],
   "source": [
    "snp_df = expand_SNPdata(snp_df, config)\n",
    "snp_df"
   ]
  },
  {
   "cell_type": "code",
   "execution_count": null,
   "metadata": {},
   "outputs": [],
   "source": [
    "config = {\n",
    "    'VAFlimits':[0.05,0.95],\n",
    "    'windows': {\n",
    "        'std': 50\n",
    "    },\n",
    "    'minEBscore':0.5,\n",
    "    'minDepth': 30,\n",
    "}\n",
    "\n",
    "def get_col_dict(col, aggs=['sum', 'std'], modes=['L', 'R', 'Diff', '']):\n",
    "    '''\n",
    "    creates for each col a dict for looped computation\n",
    "    {'sum': {'L': 'VAVsumL', 'R': 'VAVsumR', 'Diff': 'VAVsumDiff'},\n",
    "     'std': {'L': 'VAVstdL', 'R': 'VAVstdR', 'Diff': 'VAFstdDiff'}}\n",
    "    '''\n",
    "    \n",
    "    cols = {}\n",
    "    for agg in aggs:\n",
    "        aggcol = col + agg\n",
    "        cols[agg] = {mode: aggcol + mode for mode in modes}\n",
    "    return cols\n",
    "\n",
    "\n",
    "def get_rolling_metrix_chrom(df, col, chrom, window_size):\n",
    "    '''\n",
    "    take a column and produce rolling windows from it\n",
    "    '''\n",
    "    \n",
    "    df = df.query('Chr == @chrom')\n",
    "    cols = get_col_dict(col)\n",
    "    \n",
    "    # sum\n",
    "    df.loc[:, cols['sum']['L']] = df.rolling(window_size)[col].sum()\n",
    "    df.loc[:, cols['std']['L']] = df.rolling(window_size)[col].std()\n",
    "    \n",
    "    for agg in cols.keys():\n",
    "        # get the right window by shifting the left\n",
    "        df.loc[:, cols[agg]['R']] = df.shift(-window_size + 1)[cols[agg]['L']]\n",
    "        # fillup the margins\n",
    "        df.loc[:, cols[agg]['L']] = df[cols[agg]['L']].fillna(method='bfill')\n",
    "        df.loc[:, cols[agg]['R']] = df[cols[agg]['R']].fillna(method='ffill')\n",
    "    \n",
    "    return df\n",
    "\n",
    "\n",
    "def get_rolling_metrix(df, col, window_size):\n",
    "    '''\n",
    "    wrapper to apply get_rolling_metrix_chrom per chromosome\n",
    "    '''\n",
    "    \n",
    "    chrom_dfs = []\n",
    "    for chrom in df['Chr'].unique():\n",
    "        chrom_df = get_rolling_metrix_chrom(df, col, chrom, window_size)\n",
    "        chrom_dfs.append(chrom_df)\n",
    "    df = pd.concat(chrom_dfs).sort_values('FullExonPos')\n",
    "    \n",
    "    cols = get_col_dict(col)\n",
    "    for agg in cols.keys():\n",
    "        # normalize the data\n",
    "        _min = df[cols[agg]['L']].min()\n",
    "        _max = df[cols[agg]['L']].max()\n",
    "        for side in ['L', 'R']:\n",
    "            c = cols[agg][side]\n",
    "            df[c] = (df[c] - _min) / (_max - _min)\n",
    "        # get the Diff\n",
    "        df[cols[agg]['Diff']] = ((df[cols[agg]['L']] - df[cols[agg]['R']]) / 2) + 0.5\n",
    "        df[cols[agg]['']] = df[cols[agg]['L']] * df[cols[agg]['Diff']] + df[cols[agg]['R']] * (1 - df[cols[agg]['Diff']])\n",
    "    return df"
   ]
  },
  {
   "cell_type": "code",
   "execution_count": null,
   "metadata": {},
   "outputs": [],
   "source": [
    "get_col_dict('VAF')"
   ]
  },
  {
   "cell_type": "code",
   "execution_count": null,
   "metadata": {},
   "outputs": [],
   "source": [
    "std_df = get_rolling_metrix(snp_df, 'absVAF', 20)"
   ]
  },
  {
   "cell_type": "code",
   "execution_count": null,
   "metadata": {},
   "outputs": [],
   "source": [
    "std_df"
   ]
  },
  {
   "cell_type": "code",
   "execution_count": null,
   "metadata": {},
   "outputs": [],
   "source": [
    "std_df.to_csv(os.path.join(output_path, 'heteroSNP/01_A.snp'), sep='\\t', index=False)\n",
    "cov_df.to_csv(os.path.join(output_path, 'covDif/01_A.snp'), sep='\\t', index=False)"
   ]
  },
  {
   "cell_type": "code",
   "execution_count": null,
   "metadata": {},
   "outputs": [],
   "source": []
  },
  {
   "cell_type": "code",
   "execution_count": null,
   "metadata": {},
   "outputs": [],
   "source": []
  },
  {
   "cell_type": "code",
   "execution_count": null,
   "metadata": {},
   "outputs": [],
   "source": [
    "def rolling_SNP_metrix(snp_df, chrom='',window_size=20, center=0.5):\n",
    "    '''\n",
    "    creates metrices to define heteroSNP gaps\n",
    "    '''\n",
    "    \n",
    "    # reduce to hetero_SNPs\n",
    "    df = snp_df.query('Chr == @chrom')\n",
    "    # compute the heteroSNP center as the mean of all VAFs\n",
    "\n",
    "    \n",
    "    df.loc[:,'stdL'] = df.rolling(window_size)['VAF'].std()\n",
    "    df.loc[:,'stdR'] = df.shift(-window_size + 1)['stdL']\n",
    "    df.loc[:,'sumL'] = df.rolling(window_size)['offCenter'].sum()\n",
    "    df.loc[:,'sumR'] = df.shift(-window_size + 1)['sumL']\n",
    "    df.loc[:,'dVAFL'] = df.rolling(window_size)['deltaVAF'].sum()\n",
    "    df.loc[:,'dVAFR'] = df.shift(-window_size + 1)['dVAFL']\n",
    "    # fill up the margins\n",
    "    for col in ['stdL', 'sumL', 'dVAFL']:\n",
    "        df[col] = df[col].fillna(method='bfill')\n",
    "    for col in ['stdR', 'sumR', 'dVAFR']:\n",
    "        df[col] = df[col].fillna(method='ffill')\n",
    "    df.loc[:,'scoreL'] = df['sumL'] + df['dVAFL']\n",
    "    df.loc[:,'scoreR'] = df['sumR'] + df['dVAFL']\n",
    "    return df"
   ]
  },
  {
   "cell_type": "code",
   "execution_count": null,
   "metadata": {},
   "outputs": [],
   "source": [
    "def mark_heteroSNP(snp_df, config={}):\n",
    "    '''\n",
    "    creates the heteroSNP metrices for the entire exome\n",
    "    '''\n",
    "    # reduce the snp_df\n",
    "\n",
    "    \n",
    "    \n",
    "    # get the \n",
    "    std_dfs = []\n",
    "    for chrom in df['Chr'].unique():\n",
    "        std_df = rolling_SNP_metrix(df, chrom=chrom, window_size=config['windowSize'], center=center)\n",
    "        std_dfs.append(std_df)\n",
    "    std_df = pd.concat(std_dfs)\n",
    "    \n",
    "    # normalize the values globally\n",
    "    std_df.loc[:,'scoreL'] = std_df['scoreL'] / std_df['scoreL'].max()\n",
    "    std_df.loc[:,'scoreR'] = std_df['scoreR'] / std_df['scoreR'].max()\n",
    "    # maximum of scoreDiff marks the breakpoints\n",
    "    std_df.loc[:,'scoreDiff'] = std_df['scoreR'] - std_df['scoreL']\n",
    "    std_df.loc[:,'scoreDiff'] = (std_df['scoreDiff'] / std_df['scoreDiff'].max() / 2) + center\n",
    "    return std_df"
   ]
  },
  {
   "cell_type": "code",
   "execution_count": null,
   "metadata": {},
   "outputs": [],
   "source": [
    "\n",
    "std_df = mark_heteroSNP(snp_df, config=config)\n",
    "std_df"
   ]
  },
  {
   "cell_type": "markdown",
   "metadata": {},
   "source": [
    "## OUTPUT"
   ]
  },
  {
   "cell_type": "code",
   "execution_count": null,
   "metadata": {},
   "outputs": [],
   "source": [
    "std_df.to_csv(os.path.join(output_path, 'heteroSNP/01_A.snp'), sep='\\t', index=False)\n",
    "cov_df.to_csv(os.path.join(output_path, 'covDif/01_A.snp'), sep='\\t', index=False)"
   ]
  },
  {
   "cell_type": "code",
   "execution_count": null,
   "metadata": {},
   "outputs": [],
   "source": [
    "snp_df"
   ]
  },
  {
   "cell_type": "markdown",
   "metadata": {},
   "source": [
    "### find the CNV regions"
   ]
  },
  {
   "cell_type": "markdown",
   "metadata": {},
   "source": [
    "### expand the regions according to leftCNV and rightCNV"
   ]
  },
  {
   "cell_type": "code",
   "execution_count": null,
   "metadata": {},
   "outputs": [],
   "source": [
    "df = std_df.query('Chr == \"chr17\"')"
   ]
  },
  {
   "cell_type": "code",
   "execution_count": null,
   "metadata": {},
   "outputs": [],
   "source": [
    "df['cnvL'] = (df['scoreL'] > 0.4).astype(int)\n",
    "df['cnvR'] = (df['scoreR'] > 0.4).astype(int)\n",
    "df[40:90]"
   ]
  },
  {
   "cell_type": "code",
   "execution_count": null,
   "metadata": {},
   "outputs": [],
   "source": []
  },
  {
   "cell_type": "code",
   "execution_count": null,
   "metadata": {},
   "outputs": [],
   "source": []
  }
 ],
 "metadata": {
  "kernelspec": {
   "display_name": "Python 3",
   "language": "python",
   "name": "python3"
  },
  "language_info": {
   "codemirror_mode": {
    "name": "ipython",
    "version": 3
   },
   "file_extension": ".py",
   "mimetype": "text/x-python",
   "name": "python",
   "nbconvert_exporter": "python",
   "pygments_lexer": "ipython3",
   "version": "3.8.5"
  },
  "varInspector": {
   "cols": {
    "lenName": 16,
    "lenType": 16,
    "lenVar": 40
   },
   "kernels_config": {
    "python": {
     "delete_cmd_postfix": "",
     "delete_cmd_prefix": "del ",
     "library": "var_list.py",
     "varRefreshCmd": "print(var_dic_list())"
    },
    "r": {
     "delete_cmd_postfix": ") ",
     "delete_cmd_prefix": "rm(",
     "library": "var_list.r",
     "varRefreshCmd": "cat(var_dic_list()) "
    }
   },
   "types_to_exclude": [
    "module",
    "function",
    "builtin_function_or_method",
    "instance",
    "_Feature"
   ],
   "window_display": false
  }
 },
 "nbformat": 4,
 "nbformat_minor": 4
}
