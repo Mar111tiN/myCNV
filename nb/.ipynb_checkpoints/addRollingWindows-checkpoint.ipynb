{
 "cells": [
  {
   "cell_type": "code",
   "execution_count": 4,
   "metadata": {
    "ExecuteTime": {
     "end_time": "2020-10-15T18:36:14.611666Z",
     "start_time": "2020-10-15T18:36:14.607234Z"
    }
   },
   "outputs": [],
   "source": [
    "# HOME\n",
    "import os\n",
    "import scipy\n",
    "home = '/Users/mahtin'\n",
    "# home = '/Users/martinscience'\n",
    "# standard paths\n",
    "testdata = os.path.join(home,\"Dropbox/Icke/Work/somVar/testdata\")\n",
    "static_path = os.path.join(home, \"Dropbox/Icke/Work/static\")\n",
    "cluster_path = os.path.join(home, \"mount\")\n",
    "tooldata = os.path.join(home, \"Dropbox/Icke/Work/somVar/tooldata\")\n",
    "\n",
    "# tool-specific paths\n",
    "shell_path = \"../shell\"\n",
    "# \n",
    "cnvdata = os.path.join(tooldata, \"myCNVdata\")\n",
    "output_path = os.path.join(cnvdata, \"output\")\n",
    "\n",
    "# the path to the input data\n",
    "cnv_path = os.path.join(cnvdata, \"cnv\")\n",
    "cnvPON_path = cnv_path = os.path.join(cnvdata, \"chromCov\")\n",
    "cnv_path = os.path.join(cluster_path, \"scratch/develop/PONcoverage/cnv\")\n",
    "cnvPON_path = os.path.join(cluster_path, \"scratch/develop/PONcoverage/chromCov\")"
   ]
  },
  {
   "cell_type": "code",
   "execution_count": 5,
   "metadata": {
    "ExecuteTime": {
     "end_time": "2020-10-15T18:36:14.624329Z",
     "start_time": "2020-10-15T18:36:14.619500Z"
    }
   },
   "outputs": [
    {
     "data": {
      "text/plain": [
       "'/Users/mahtin/mount/scratch/develop/PONcoverage/chromCov'"
      ]
     },
     "execution_count": 5,
     "metadata": {},
     "output_type": "execute_result"
    }
   ],
   "source": [
    "cnvPON_path"
   ]
  },
  {
   "cell_type": "markdown",
   "metadata": {},
   "source": [
    "### get the coverage and SNP data"
   ]
  },
  {
   "cell_type": "code",
   "execution_count": 6,
   "metadata": {
    "ExecuteTime": {
     "end_time": "2020-10-15T18:36:18.908346Z",
     "start_time": "2020-10-15T18:36:17.367837Z"
    }
   },
   "outputs": [
    {
     "data": {
      "text/html": [
       "<div>\n",
       "<style scoped>\n",
       "    .dataframe tbody tr th:only-of-type {\n",
       "        vertical-align: middle;\n",
       "    }\n",
       "\n",
       "    .dataframe tbody tr th {\n",
       "        vertical-align: top;\n",
       "    }\n",
       "\n",
       "    .dataframe thead th {\n",
       "        text-align: right;\n",
       "    }\n",
       "</style>\n",
       "<table border=\"1\" class=\"dataframe\">\n",
       "  <thead>\n",
       "    <tr style=\"text-align: right;\">\n",
       "      <th></th>\n",
       "      <th>Chr</th>\n",
       "      <th>Pos</th>\n",
       "      <th>FullExonPos</th>\n",
       "      <th>ExonPos</th>\n",
       "      <th>Ref</th>\n",
       "      <th>Depth</th>\n",
       "      <th>Alt</th>\n",
       "      <th>VAF</th>\n",
       "      <th>EBscore</th>\n",
       "      <th>PoN-Alt</th>\n",
       "      <th>orgVAF</th>\n",
       "    </tr>\n",
       "  </thead>\n",
       "  <tbody>\n",
       "    <tr>\n",
       "      <th>0</th>\n",
       "      <td>chr1</td>\n",
       "      <td>14930</td>\n",
       "      <td>836</td>\n",
       "      <td>836</td>\n",
       "      <td>A</td>\n",
       "      <td>64</td>\n",
       "      <td>G</td>\n",
       "      <td>0.053445</td>\n",
       "      <td>0.505</td>\n",
       "      <td>1|2|1|1|3|0|2|2|0|0|1|0|0|0|0|0|1|0|2-0|2|0|0|...</td>\n",
       "      <td>0.046875</td>\n",
       "    </tr>\n",
       "    <tr>\n",
       "      <th>1</th>\n",
       "      <td>chr1</td>\n",
       "      <td>15820</td>\n",
       "      <td>991</td>\n",
       "      <td>991</td>\n",
       "      <td>g</td>\n",
       "      <td>13</td>\n",
       "      <td>T</td>\n",
       "      <td>0.862996</td>\n",
       "      <td>2.401</td>\n",
       "      <td>16|0|0|1|0|0|28|0|0|0|0|0|0|0|0|0|3|0|0-0|0|0|...</td>\n",
       "      <td>0.846154</td>\n",
       "    </tr>\n",
       "    <tr>\n",
       "      <th>2</th>\n",
       "      <td>chr1</td>\n",
       "      <td>16949</td>\n",
       "      <td>1410</td>\n",
       "      <td>1410</td>\n",
       "      <td>A</td>\n",
       "      <td>182</td>\n",
       "      <td>C</td>\n",
       "      <td>0.043852</td>\n",
       "      <td>0.006</td>\n",
       "      <td>10|27|7|23|12|4|8|3|2|0|0|1|4|1|1|0|3|1|4-0|53...</td>\n",
       "      <td>0.038462</td>\n",
       "    </tr>\n",
       "    <tr>\n",
       "      <th>3</th>\n",
       "      <td>chr1</td>\n",
       "      <td>17365</td>\n",
       "      <td>1689</td>\n",
       "      <td>1689</td>\n",
       "      <td>C</td>\n",
       "      <td>285</td>\n",
       "      <td>G</td>\n",
       "      <td>0.160023</td>\n",
       "      <td>0.666</td>\n",
       "      <td>26|0|0|0|17|20|0|0|0|16|6|13|3|14|9|1|0|0|11-1...</td>\n",
       "      <td>0.140351</td>\n",
       "    </tr>\n",
       "    <tr>\n",
       "      <th>4</th>\n",
       "      <td>chr1</td>\n",
       "      <td>17375</td>\n",
       "      <td>1699</td>\n",
       "      <td>1699</td>\n",
       "      <td>A</td>\n",
       "      <td>353</td>\n",
       "      <td>G</td>\n",
       "      <td>0.074288</td>\n",
       "      <td>1.526</td>\n",
       "      <td>15|0|1|0|0|0|0|0|0|0|0|0|3|3|0|0|0|0|0-0|0|0|0...</td>\n",
       "      <td>0.065156</td>\n",
       "    </tr>\n",
       "    <tr>\n",
       "      <th>5</th>\n",
       "      <td>chr1</td>\n",
       "      <td>17379</td>\n",
       "      <td>1703</td>\n",
       "      <td>1703</td>\n",
       "      <td>G</td>\n",
       "      <td>363</td>\n",
       "      <td>A</td>\n",
       "      <td>0.106792</td>\n",
       "      <td>1.578</td>\n",
       "      <td>20|0|22|0|0|0|0|0|0|0|0|0|0|0|0|0|3|0|0-3|0|5|...</td>\n",
       "      <td>0.093664</td>\n",
       "    </tr>\n",
       "    <tr>\n",
       "      <th>6</th>\n",
       "      <td>chr1</td>\n",
       "      <td>17384</td>\n",
       "      <td>1708</td>\n",
       "      <td>1708</td>\n",
       "      <td>G</td>\n",
       "      <td>388</td>\n",
       "      <td>C</td>\n",
       "      <td>0.002939</td>\n",
       "      <td>0.494</td>\n",
       "      <td>0|0|0|0|0|0|0|0|0|0|0|0|0|0|0|0|0|0|0-0|0|0|0|...</td>\n",
       "      <td>0.002577</td>\n",
       "    </tr>\n",
       "    <tr>\n",
       "      <th>7</th>\n",
       "      <td>chr1</td>\n",
       "      <td>17452</td>\n",
       "      <td>1776</td>\n",
       "      <td>1776</td>\n",
       "      <td>C</td>\n",
       "      <td>529</td>\n",
       "      <td>T</td>\n",
       "      <td>0.002155</td>\n",
       "      <td>0.178</td>\n",
       "      <td>2|0|2|0|0|0|0|0|0|0|0|0|8|4|0|0|0|0|0-0|0|0|0|...</td>\n",
       "      <td>0.001890</td>\n",
       "    </tr>\n",
       "    <tr>\n",
       "      <th>8</th>\n",
       "      <td>chr1</td>\n",
       "      <td>17614</td>\n",
       "      <td>1938</td>\n",
       "      <td>1938</td>\n",
       "      <td>G</td>\n",
       "      <td>216</td>\n",
       "      <td>A</td>\n",
       "      <td>0.195306</td>\n",
       "      <td>1.016</td>\n",
       "      <td>9|1|0|0|3|3|0|0|0|3|1|2|0|0|4|0|0|0|3-17|0|0|0...</td>\n",
       "      <td>0.171296</td>\n",
       "    </tr>\n",
       "    <tr>\n",
       "      <th>9</th>\n",
       "      <td>chr1</td>\n",
       "      <td>69270</td>\n",
       "      <td>2994</td>\n",
       "      <td>2994</td>\n",
       "      <td>A</td>\n",
       "      <td>34</td>\n",
       "      <td>G</td>\n",
       "      <td>1.000000</td>\n",
       "      <td>0.001</td>\n",
       "      <td>21|69|0|79|0|6|0|24|41|38|0|10|0|15|24|31|0|9|...</td>\n",
       "      <td>1.000000</td>\n",
       "    </tr>\n",
       "  </tbody>\n",
       "</table>\n",
       "</div>"
      ],
      "text/plain": [
       "    Chr    Pos  FullExonPos  ExonPos Ref  Depth Alt       VAF  EBscore  \\\n",
       "0  chr1  14930          836      836   A     64   G  0.053445    0.505   \n",
       "1  chr1  15820          991      991   g     13   T  0.862996    2.401   \n",
       "2  chr1  16949         1410     1410   A    182   C  0.043852    0.006   \n",
       "3  chr1  17365         1689     1689   C    285   G  0.160023    0.666   \n",
       "4  chr1  17375         1699     1699   A    353   G  0.074288    1.526   \n",
       "5  chr1  17379         1703     1703   G    363   A  0.106792    1.578   \n",
       "6  chr1  17384         1708     1708   G    388   C  0.002939    0.494   \n",
       "7  chr1  17452         1776     1776   C    529   T  0.002155    0.178   \n",
       "8  chr1  17614         1938     1938   G    216   A  0.195306    1.016   \n",
       "9  chr1  69270         2994     2994   A     34   G  1.000000    0.001   \n",
       "\n",
       "                                             PoN-Alt    orgVAF  \n",
       "0  1|2|1|1|3|0|2|2|0|0|1|0|0|0|0|0|1|0|2-0|2|0|0|...  0.046875  \n",
       "1  16|0|0|1|0|0|28|0|0|0|0|0|0|0|0|0|3|0|0-0|0|0|...  0.846154  \n",
       "2  10|27|7|23|12|4|8|3|2|0|0|1|4|1|1|0|3|1|4-0|53...  0.038462  \n",
       "3  26|0|0|0|17|20|0|0|0|16|6|13|3|14|9|1|0|0|11-1...  0.140351  \n",
       "4  15|0|1|0|0|0|0|0|0|0|0|0|3|3|0|0|0|0|0-0|0|0|0...  0.065156  \n",
       "5  20|0|22|0|0|0|0|0|0|0|0|0|0|0|0|0|3|0|0-3|0|5|...  0.093664  \n",
       "6  0|0|0|0|0|0|0|0|0|0|0|0|0|0|0|0|0|0|0-0|0|0|0|...  0.002577  \n",
       "7  2|0|2|0|0|0|0|0|0|0|0|0|8|4|0|0|0|0|0-0|0|0|0|...  0.001890  \n",
       "8  9|1|0|0|3|3|0|0|0|3|1|2|0|0|4|0|0|0|3-17|0|0|0...  0.171296  \n",
       "9  21|69|0|79|0|6|0|24|41|38|0|10|0|15|24|31|0|9|...  1.000000  "
      ]
     },
     "execution_count": 6,
     "metadata": {},
     "output_type": "execute_result"
    }
   ],
   "source": [
    "sample = \"01_A\"\n",
    "snp_df = pd.read_csv(os.path.join(output_path, 'heteroSNP/01_A.snp'), sep='\\t')\n",
    "cov_df = pd.read_csv(os.path.join(output_path, 'covDif/01_A.cov'), sep='\\t')\n",
    "snp_df[:10]"
   ]
  },
  {
   "cell_type": "code",
   "execution_count": 7,
   "metadata": {
    "ExecuteTime": {
     "end_time": "2020-10-15T18:36:20.842617Z",
     "start_time": "2020-10-15T18:36:20.830527Z"
    }
   },
   "outputs": [
    {
     "data": {
      "text/html": [
       "<div>\n",
       "<style scoped>\n",
       "    .dataframe tbody tr th:only-of-type {\n",
       "        vertical-align: middle;\n",
       "    }\n",
       "\n",
       "    .dataframe tbody tr th {\n",
       "        vertical-align: top;\n",
       "    }\n",
       "\n",
       "    .dataframe thead th {\n",
       "        text-align: right;\n",
       "    }\n",
       "</style>\n",
       "<table border=\"1\" class=\"dataframe\">\n",
       "  <thead>\n",
       "    <tr style=\"text-align: right;\">\n",
       "      <th></th>\n",
       "      <th>Chr</th>\n",
       "      <th>Pos</th>\n",
       "      <th>FullExonPos</th>\n",
       "      <th>ExonPos</th>\n",
       "      <th>Coverage</th>\n",
       "      <th>PONmeanCov</th>\n",
       "      <th>PONmedianCov</th>\n",
       "      <th>PONstd</th>\n",
       "      <th>log2ratio</th>\n",
       "    </tr>\n",
       "  </thead>\n",
       "  <tbody>\n",
       "    <tr>\n",
       "      <th>0</th>\n",
       "      <td>chr1</td>\n",
       "      <td>12650</td>\n",
       "      <td>220</td>\n",
       "      <td>220</td>\n",
       "      <td>0.066480</td>\n",
       "      <td>0.005664</td>\n",
       "      <td>0.000000</td>\n",
       "      <td>0.018137</td>\n",
       "      <td>3.552918</td>\n",
       "    </tr>\n",
       "    <tr>\n",
       "      <th>1</th>\n",
       "      <td>chr1</td>\n",
       "      <td>12700</td>\n",
       "      <td>270</td>\n",
       "      <td>270</td>\n",
       "      <td>0.149581</td>\n",
       "      <td>0.024506</td>\n",
       "      <td>0.000000</td>\n",
       "      <td>0.070519</td>\n",
       "      <td>2.609726</td>\n",
       "    </tr>\n",
       "    <tr>\n",
       "      <th>2</th>\n",
       "      <td>chr1</td>\n",
       "      <td>12750</td>\n",
       "      <td>320</td>\n",
       "      <td>320</td>\n",
       "      <td>0.831005</td>\n",
       "      <td>0.016357</td>\n",
       "      <td>0.000000</td>\n",
       "      <td>0.053281</td>\n",
       "      <td>5.666868</td>\n",
       "    </tr>\n",
       "    <tr>\n",
       "      <th>3</th>\n",
       "      <td>chr1</td>\n",
       "      <td>13450</td>\n",
       "      <td>365</td>\n",
       "      <td>365</td>\n",
       "      <td>23.068687</td>\n",
       "      <td>10.565648</td>\n",
       "      <td>10.013362</td>\n",
       "      <td>4.855861</td>\n",
       "      <td>1.126555</td>\n",
       "    </tr>\n",
       "    <tr>\n",
       "      <th>4</th>\n",
       "      <td>chr1</td>\n",
       "      <td>13500</td>\n",
       "      <td>415</td>\n",
       "      <td>415</td>\n",
       "      <td>29.420886</td>\n",
       "      <td>14.981521</td>\n",
       "      <td>14.981521</td>\n",
       "      <td>6.335329</td>\n",
       "      <td>0.973657</td>\n",
       "    </tr>\n",
       "    <tr>\n",
       "      <th>5</th>\n",
       "      <td>chr1</td>\n",
       "      <td>13550</td>\n",
       "      <td>465</td>\n",
       "      <td>465</td>\n",
       "      <td>34.227416</td>\n",
       "      <td>18.105937</td>\n",
       "      <td>17.754565</td>\n",
       "      <td>7.737376</td>\n",
       "      <td>0.918690</td>\n",
       "    </tr>\n",
       "    <tr>\n",
       "      <th>6</th>\n",
       "      <td>chr1</td>\n",
       "      <td>13600</td>\n",
       "      <td>515</td>\n",
       "      <td>515</td>\n",
       "      <td>34.132682</td>\n",
       "      <td>17.593200</td>\n",
       "      <td>17.593200</td>\n",
       "      <td>7.753357</td>\n",
       "      <td>0.956136</td>\n",
       "    </tr>\n",
       "    <tr>\n",
       "      <th>7</th>\n",
       "      <td>chr1</td>\n",
       "      <td>13650</td>\n",
       "      <td>565</td>\n",
       "      <td>565</td>\n",
       "      <td>28.210943</td>\n",
       "      <td>13.517399</td>\n",
       "      <td>13.517399</td>\n",
       "      <td>6.162109</td>\n",
       "      <td>1.061437</td>\n",
       "    </tr>\n",
       "    <tr>\n",
       "      <th>8</th>\n",
       "      <td>chr1</td>\n",
       "      <td>14700</td>\n",
       "      <td>606</td>\n",
       "      <td>606</td>\n",
       "      <td>27.911782</td>\n",
       "      <td>14.335685</td>\n",
       "      <td>14.002403</td>\n",
       "      <td>5.515341</td>\n",
       "      <td>0.961263</td>\n",
       "    </tr>\n",
       "    <tr>\n",
       "      <th>9</th>\n",
       "      <td>chr1</td>\n",
       "      <td>14750</td>\n",
       "      <td>656</td>\n",
       "      <td>656</td>\n",
       "      <td>30.841904</td>\n",
       "      <td>16.343617</td>\n",
       "      <td>16.778470</td>\n",
       "      <td>6.290739</td>\n",
       "      <td>0.916165</td>\n",
       "    </tr>\n",
       "  </tbody>\n",
       "</table>\n",
       "</div>"
      ],
      "text/plain": [
       "    Chr    Pos  FullExonPos  ExonPos   Coverage  PONmeanCov  PONmedianCov  \\\n",
       "0  chr1  12650          220      220   0.066480    0.005664      0.000000   \n",
       "1  chr1  12700          270      270   0.149581    0.024506      0.000000   \n",
       "2  chr1  12750          320      320   0.831005    0.016357      0.000000   \n",
       "3  chr1  13450          365      365  23.068687   10.565648     10.013362   \n",
       "4  chr1  13500          415      415  29.420886   14.981521     14.981521   \n",
       "5  chr1  13550          465      465  34.227416   18.105937     17.754565   \n",
       "6  chr1  13600          515      515  34.132682   17.593200     17.593200   \n",
       "7  chr1  13650          565      565  28.210943   13.517399     13.517399   \n",
       "8  chr1  14700          606      606  27.911782   14.335685     14.002403   \n",
       "9  chr1  14750          656      656  30.841904   16.343617     16.778470   \n",
       "\n",
       "     PONstd  log2ratio  \n",
       "0  0.018137   3.552918  \n",
       "1  0.070519   2.609726  \n",
       "2  0.053281   5.666868  \n",
       "3  4.855861   1.126555  \n",
       "4  6.335329   0.973657  \n",
       "5  7.737376   0.918690  \n",
       "6  7.753357   0.956136  \n",
       "7  6.162109   1.061437  \n",
       "8  5.515341   0.961263  \n",
       "9  6.290739   0.916165  "
      ]
     },
     "execution_count": 7,
     "metadata": {},
     "output_type": "execute_result"
    }
   ],
   "source": [
    "cov_df[:10]"
   ]
  },
  {
   "cell_type": "markdown",
   "metadata": {},
   "source": [
    "# get the code and run"
   ]
  },
  {
   "cell_type": "code",
   "execution_count": null,
   "metadata": {
    "ExecuteTime": {
     "end_time": "2020-10-09T09:20:28.545923Z",
     "start_time": "2020-10-09T09:20:26.623613Z"
    }
   },
   "outputs": [],
   "source": [
    "# get the code\n",
    "import sys\n",
    "sys.path.append('../code')\n",
    "from rollingCNV import add_rolling_data"
   ]
  },
  {
   "cell_type": "code",
   "execution_count": null,
   "metadata": {},
   "outputs": [],
   "source": [
    "config = {\n",
    "    'heteroSNP': {\n",
    "        'VAFlimits':[0.05,0.95],\n",
    "        'normalize': True,\n",
    "        'windows': {\n",
    "            'absVAF': {\n",
    "                'sum': 20\n",
    "            },\n",
    "            'VAF': {\n",
    "                'std': 20\n",
    "            },\n",
    "            'deltaVAF': {\n",
    "                'std': 20\n",
    "            }\n",
    "        },\n",
    "        'minEBscore':0.5,\n",
    "        'minDepth': 30,\n",
    "    },\n",
    "    'coverage': {\n",
    "        'VAFlimits':[0.05,0.95],\n",
    "        'normalize':False,\n",
    "        'windows': {\n",
    "            'log2ratio': {\n",
    "                'mean': 500\n",
    "            },\n",
    "            'Coverage': {\n",
    "                'mean': 500\n",
    "            }\n",
    "        }\n",
    "    }\n",
    "}\n",
    "\n",
    "snpR_df, covR_df = add_rolling_data(snp_df, cov_df, config)"
   ]
  },
  {
   "cell_type": "code",
   "execution_count": null,
   "metadata": {
    "ExecuteTime": {
     "end_time": "2020-10-09T09:21:01.396726Z",
     "start_time": "2020-10-09T09:21:01.376042Z"
    }
   },
   "outputs": [],
   "source": [
    "snpR_df"
   ]
  },
  {
   "cell_type": "code",
   "execution_count": null,
   "metadata": {
    "ExecuteTime": {
     "end_time": "2020-10-09T09:21:03.469089Z",
     "start_time": "2020-10-09T09:21:03.455054Z"
    }
   },
   "outputs": [],
   "source": [
    "covR_df.sort_values('FullExonPos')"
   ]
  },
  {
   "cell_type": "code",
   "execution_count": null,
   "metadata": {},
   "outputs": [],
   "source": [
    "covR_df.query('log2ratiomean == log2ratiomean and Coveragemean == Coveragemean')"
   ]
  },
  {
   "cell_type": "code",
   "execution_count": null,
   "metadata": {
    "ExecuteTime": {
     "end_time": "2020-10-09T09:21:29.958598Z",
     "start_time": "2020-10-09T09:21:18.415978Z"
    }
   },
   "outputs": [],
   "source": [
    "snpR_df.to_csv(os.path.join(output_path, 'heteroSNP/01_A.rolling.snp'), sep='\\t', index=False)\n",
    "covR_df.to_csv(os.path.join(output_path, 'covDif/01_A.rolling.cov'), sep='\\t', index=False)"
   ]
  },
  {
   "cell_type": "markdown",
   "metadata": {},
   "source": [
    "# the steps"
   ]
  },
  {
   "cell_type": "markdown",
   "metadata": {},
   "source": [
    "## rolling window metrices"
   ]
  },
  {
   "cell_type": "markdown",
   "metadata": {},
   "source": [
    "### first, get a few extra values to do rolling windows on"
   ]
  },
  {
   "cell_type": "code",
   "execution_count": null,
   "metadata": {
    "ExecuteTime": {
     "end_time": "2020-10-15T09:37:35.359700Z",
     "start_time": "2020-10-15T09:37:35.353792Z"
    }
   },
   "outputs": [],
   "source": [
    "def expand_SNPdata(snp_df, config):\n",
    "    '''\n",
    "    retrieve a few data columns locally to use rolling windows on\n",
    "    this needs to be done chromosome-wise in order to avoid gap effects\n",
    "    '''\n",
    "    \n",
    "    # reduce the snp_df using config limits\n",
    "    VAFmin = config['VAFlimits'][0]\n",
    "    VAFmax = config['VAFlimits'][1]\n",
    "    minDepth = config['minDepth']\n",
    "    minEBscore = config['minEBscore']\n",
    "    df = snp_df.query('@VAFmin < VAF < @VAFmax and Depth >= @minDepth and EBscore > @minEBscore')\n",
    "    \n",
    "    # find the center\n",
    "    center = df['VAF'].mean()\n",
    "    print(\"heteroSNP centered around\", center)\n",
    "    # offCenter\n",
    "    df.loc[:,'absVAF'] = np.abs(df['VAF'] - center)\n",
    "    \n",
    "    \n",
    "    # get the local VAF difference chrom based\n",
    "    dfs = []\n",
    "    for chrom in df['Chr'].unique():\n",
    "        chrom_df = df.query('Chr == @chrom')\n",
    "        chrom_df['deltaVAF'] = np.abs(chrom_df['VAF'] - chrom_df.shift(1)['VAF']).fillna(0)\n",
    "        dfs.append(chrom_df)\n",
    "    snp_df = pd.concat(dfs).sort_values('FullExonPos')\n",
    "    \n",
    "    return snp_df"
   ]
  },
  {
   "cell_type": "code",
   "execution_count": null,
   "metadata": {
    "ExecuteTime": {
     "end_time": "2020-10-15T09:37:36.166447Z",
     "start_time": "2020-10-15T09:37:36.010937Z"
    }
   },
   "outputs": [],
   "source": [
    "config = {\n",
    "    'heteroSNP': {\n",
    "        'VAFlimits':[0.05,0.95],\n",
    "        'normalize': True,\n",
    "        'windows': {\n",
    "            'absVAF': {\n",
    "                'sum': 20\n",
    "            },\n",
    "            'VAF': {\n",
    "                'std': 20,\n",
    "                'mad': 20\n",
    "            },\n",
    "            'deltaVAF': {\n",
    "                'std': 20,\n",
    "                'mad': 20\n",
    "            }\n",
    "        },\n",
    "        'minEBscore':0.5,\n",
    "        'minDepth': 30,\n",
    "    },\n",
    "    'coverage': {\n",
    "        'VAFlimits':[0.05,0.95],\n",
    "        'normalize':False,\n",
    "        'windows': {\n",
    "            'log2ratio': {\n",
    "                'mean':500\n",
    "            },\n",
    "            'Coverage': {\n",
    "                'mean':500\n",
    "            },\n",
    "            'PONmeanCov': {\n",
    "                'mean': 500\n",
    "            }\n",
    "        }\n",
    "    }\n",
    "}\n",
    "\n",
    "snp_df = expand_SNPdata(snp_df, config['heteroSNP'])\n",
    "snp_df"
   ]
  },
  {
   "cell_type": "markdown",
   "metadata": {},
   "source": [
    "## try rolling window for log2ratio"
   ]
  },
  {
   "cell_type": "code",
   "execution_count": null,
   "metadata": {
    "ExecuteTime": {
     "end_time": "2020-10-15T18:36:24.900577Z",
     "start_time": "2020-10-15T18:36:24.890182Z"
    }
   },
   "outputs": [],
   "source": [
    "cov_df[:10]"
   ]
  },
  {
   "cell_type": "markdown",
   "metadata": {},
   "source": [
    "### compute the mean for log2ratio\n",
    "+ first filter for minim"
   ]
  },
  {
   "cell_type": "code",
   "execution_count": null,
   "metadata": {},
   "outputs": [],
   "source": []
  },
  {
   "cell_type": "markdown",
   "metadata": {},
   "source": [
    "### test interpolation of missing values"
   ]
  },
  {
   "cell_type": "code",
   "execution_count": null,
   "metadata": {
    "ExecuteTime": {
     "end_time": "2020-10-15T18:57:59.561370Z",
     "start_time": "2020-10-15T18:57:59.134927Z"
    }
   },
   "outputs": [],
   "source": [
    "# set the limits\n",
    "min_cov = 20\n",
    "min_PON_cov = 25\n",
    "max_PON_std = 100\n",
    "window_size = 500\n",
    "chrom = \"chr17\"\n",
    "cov_df.loc[:,'log2ratiomean'] = cov_df.query('Coverage >= @min_cov and PONmeanCov >= @min_PON_cov and PONstd < @max_PON_std')['log2ratio'].rolling(window_size).agg(\"mean\")\n",
    "# use per chromosome\n",
    "# set FullExonPos as index for the interpolation method to work on proper intervals\n",
    "test = cov_df.query('Chr == @chrom').set_index('FullExonPos')\n",
    "test['interpol'] = test['log2ratiomean'].interpolate(method='values', limit=10, limit_direction='both')\n",
    "test.reset_index(inplace=True)\n",
    "test[240:300]\n",
    "ax = plt.axes()\n",
    "x = test['FullExonPos']\n",
    "y = test['log2ratiomean']\n",
    "ax.plot(x,y);"
   ]
  },
  {
   "cell_type": "code",
   "execution_count": null,
   "metadata": {},
   "outputs": [],
   "source": []
  },
  {
   "cell_type": "code",
   "execution_count": null,
   "metadata": {},
   "outputs": [],
   "source": []
  },
  {
   "cell_type": "code",
   "execution_count": null,
   "metadata": {},
   "outputs": [],
   "source": []
  },
  {
   "cell_type": "code",
   "execution_count": null,
   "metadata": {
    "ExecuteTime": {
     "end_time": "2020-10-15T09:19:36.988560Z",
     "start_time": "2020-10-15T09:19:36.976903Z"
    }
   },
   "outputs": [],
   "source": [
    "def get_cols(col, agg='mean', modes=['L', 'R', 'Diff', '']):\n",
    "    '''\n",
    "    creates for each col a dict for looped computation\n",
    "    {'L': 'VAVsumL', 'R': 'VAVsumR', 'Diff': 'VAVsumDiff', '': 'VAFsum'}}\n",
    "    '''\n",
    "    cols = {mode: col + agg + mode for mode in modes}\n",
    "    return cols\n",
    "\n",
    "\n",
    "def get_rolling_metrix_chrom(df, col='VAF', agg='sum', chrom='', window_size=20):\n",
    "    '''\n",
    "    take a column and produce rolling windows from it for each chromosome\n",
    "    '''\n",
    "    \n",
    "    df = df.query('Chr == @chrom')\n",
    "    cols = get_cols(col, agg)\n",
    "    \n",
    "    # get the right computation\n",
    "    if agg =='std':\n",
    "        df.loc[:, cols['L']] = df.rolling(window_size)[col].std()\n",
    "    if agg == 'sum':\n",
    "        df.loc[:, cols['L']] = df.rolling(window_size)[col].sum()\n",
    "    if agg == 'mean':\n",
    "        df.loc[:, cols['L']] = df.rolling(window_size)[col].mean()\n",
    "    if agg == 'mad':\n",
    "        df.loc[:, cols['L']] = df.rolling(window_size)[col].mad()\n",
    "        \n",
    "\n",
    "    \n",
    "    # get the right window by shifting the left\n",
    "    df.loc[:, cols['R']] = df.shift(-window_size + 1)[cols['L']]\n",
    "    # fillup the margins\n",
    "    df.loc[:, cols['L']] = df[cols['L']].fillna(method='bfill')\n",
    "    df.loc[:, cols['R']] = df[cols['R']].fillna(method='ffill')\n",
    "    return df\n",
    "\n",
    "\n",
    "def get_rolling_metrix(df, col='VAF', agg='mean', window_size=20, normalize=True):\n",
    "    '''\n",
    "    wrapper to apply get_rolling_metrix_chrom per chromosome\n",
    "    '''\n",
    "    \n",
    "    chrom_dfs = []\n",
    "    for chrom in df['Chr'].unique():\n",
    "        chrom_df = get_rolling_metrix_chrom(df, col=col, agg=agg, chrom=chrom, window_size=window_size)\n",
    "        chrom_dfs.append(chrom_df)\n",
    "    df = pd.concat(chrom_dfs).sort_values('FullExonPos')\n",
    "    \n",
    "    cols = get_cols(col, agg)\n",
    "    if normalize:\n",
    "    # normalize the data\n",
    "        print('Normalizing data')\n",
    "        _min = df[cols['L']].min()\n",
    "        _max = df[cols['L']].max()\n",
    "        for side in ['L', 'R']:\n",
    "            c = cols[side]\n",
    "            df[c] = (df[c] - _min) / (_max - _min)\n",
    "    # get the Diff\n",
    "    df[cols['Diff']] = ((df[cols['L']] - df[cols['R']]) / 2) + 0.5\n",
    "    df[cols['']] = df[cols['L']] * df[cols['Diff']] + df[cols['R']] * (1 - df[cols['Diff']])\n",
    "    return df\n",
    "\n",
    "\n",
    "def rolling_it(df, config):\n",
    "    \n",
    "    windows = config['windows']\n",
    "    for col in windows.keys():\n",
    "        for agg in windows[col].keys():\n",
    "            window_size = windows[col][agg]\n",
    "            print(f\"Computing rolling window for {agg} of {col} with window size {window_size}\")\n",
    "            df = get_rolling_metrix(df, col=col, agg=agg, window_size=window_size, normalize=config['normalize'])\n",
    "    return df"
   ]
  },
  {
   "cell_type": "code",
   "execution_count": null,
   "metadata": {},
   "outputs": [],
   "source": [
    "rollingSNP_df = rolling_it(snp_df, config['heteroSNP'])\n",
    "rollingSNP_df"
   ]
  },
  {
   "cell_type": "code",
   "execution_count": null,
   "metadata": {},
   "outputs": [],
   "source": [
    "cov_df = rolling_it(cov_df, config['coverage'])"
   ]
  },
  {
   "cell_type": "code",
   "execution_count": null,
   "metadata": {},
   "outputs": [],
   "source": [
    "def add_rolling_data(snp_df, cov_df, config):\n",
    "    '''\n",
    "    add the rolling metrices needed to get local data\n",
    "    '''\n",
    "    \n",
    "    # add extra cols to snp_df\n",
    "    snp_df = expand_SNPdata(snp_df, config['heteroSNP'])\n",
    "    \n",
    "    # get the rolling metrices for snp_df\n",
    "    snp_df = rolling_it(snp_df, config['heteroSNP'])\n",
    "    # get the rolling metrices for cov_df\n",
    "    cov_df = rolling_it(cov_df, config['coverage'])\n",
    "    \n",
    "    return snp_df, cov_df"
   ]
  },
  {
   "cell_type": "code",
   "execution_count": null,
   "metadata": {},
   "outputs": [],
   "source": [
    "snp_df, cov_df = add_rolling_data(snp_df, cov_df, config)"
   ]
  },
  {
   "cell_type": "code",
   "execution_count": null,
   "metadata": {},
   "outputs": [],
   "source": [
    "snp_df.to_csv(os.path.join(output_path, 'heteroSNP/01_A.snp'), sep='\\t', index=False)\n",
    "cov_df.to_csv(os.path.join(output_path, 'covDif/01_A.cov'), sep='\\t', index=False)"
   ]
  }
 ],
 "metadata": {
  "kernelspec": {
   "display_name": "Python 3",
   "language": "python",
   "name": "python3"
  },
  "language_info": {
   "codemirror_mode": {
    "name": "ipython",
    "version": 3
   },
   "file_extension": ".py",
   "mimetype": "text/x-python",
   "name": "python",
   "nbconvert_exporter": "python",
   "pygments_lexer": "ipython3",
   "version": "3.8.6"
  },
  "varInspector": {
   "cols": {
    "lenName": 16,
    "lenType": 16,
    "lenVar": 40
   },
   "kernels_config": {
    "python": {
     "delete_cmd_postfix": "",
     "delete_cmd_prefix": "del ",
     "library": "var_list.py",
     "varRefreshCmd": "print(var_dic_list())"
    },
    "r": {
     "delete_cmd_postfix": ") ",
     "delete_cmd_prefix": "rm(",
     "library": "var_list.r",
     "varRefreshCmd": "cat(var_dic_list()) "
    }
   },
   "types_to_exclude": [
    "module",
    "function",
    "builtin_function_or_method",
    "instance",
    "_Feature"
   ],
   "window_display": false
  }
 },
 "nbformat": 4,
 "nbformat_minor": 4
}
