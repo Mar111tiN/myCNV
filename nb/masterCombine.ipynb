{
 "cells": [
  {
   "cell_type": "code",
   "execution_count": 1,
   "metadata": {
    "ExecuteTime": {
     "end_time": "2020-10-30T07:46:17.382456Z",
     "start_time": "2020-10-30T07:46:16.804245Z"
    }
   },
   "outputs": [],
   "source": [
    "# HOME\n",
    "import os\n",
    "import matplotlib as mpl\n",
    "import matplotlib.pyplot as plt\n",
    "# use seaborn plotting defaults\n",
    "import seaborn as sns; sns.set()\n",
    "\n",
    "# get the code\n",
    "import sys\n",
    "sys.path.append('../code')\n",
    "from script_utils import show_output\n",
    "from plot import plot_genomic\n",
    "from plot import plot_snp\n",
    "from rollingCNV import rollingCNV\n",
    "\n",
    "\n",
    "home = '/Users/mahtin'\n",
    "# home = '/Users/martinscience'\n",
    "# standard paths\n",
    "testdata = os.path.join(home,\"Dropbox/Icke/Work/somVar/testdata\")\n",
    "static_path = os.path.join(home, \"Dropbox/Icke/Work/static\")\n",
    "cluster_path = os.path.join(home, \"mount\")\n",
    "tooldata = os.path.join(home, \"Dropbox/Icke/Work/somVar/tooldata\")\n",
    "\n",
    "# tool-specific paths\n",
    "shell_path = \"../shell\"\n",
    "# \n",
    "cnvdata = os.path.join(tooldata, \"myCNVdata\")\n",
    "output_path = os.path.join(cnvdata, \"output\")\n",
    "\n",
    "# the path to the input data\n",
    "cnv_path = os.path.join(cnvdata, \"cnv\")\n",
    "cnvPON_path = cnv_path = os.path.join(cnvdata, \"chromCov\")\n",
    "cnv_path = os.path.join(cluster_path, \"scratch/develop/PONcoverage/cnv\")\n",
    "cnvPON_path = os.path.join(cluster_path, \"scratch/develop/PONcoverage/chromCov\")"
   ]
  },
  {
   "cell_type": "code",
   "execution_count": 2,
   "metadata": {
    "ExecuteTime": {
     "end_time": "2020-10-30T07:46:17.762202Z",
     "start_time": "2020-10-30T07:46:17.756864Z"
    }
   },
   "outputs": [
    {
     "data": {
      "text/plain": [
       "'/Users/mahtin/mount/scratch/develop/PONcoverage/chromCov'"
      ]
     },
     "execution_count": 2,
     "metadata": {},
     "output_type": "execute_result"
    }
   ],
   "source": [
    "cnvPON_path"
   ]
  },
  {
   "cell_type": "code",
   "execution_count": 3,
   "metadata": {
    "ExecuteTime": {
     "end_time": "2020-10-30T07:46:18.407751Z",
     "start_time": "2020-10-30T07:46:18.221475Z"
    }
   },
   "outputs": [
    {
     "name": "stdout",
     "output_type": "stream",
     "text": [
      "\u001b[1;30;1mLoading coverage data for sample 01_A\u001b[0m\n",
      "\u001b[1;31;1mNo file /Users/mahtin/mount/scratch/develop/PONcoverage/cnv/01_A.chr1.cov\u001b[0m\n",
      "\u001b[1;31;1mNo file /Users/mahtin/mount/scratch/develop/PONcoverage/cnv/01_A.chr2.cov\u001b[0m\n",
      "\u001b[1;31;1mNo file /Users/mahtin/mount/scratch/develop/PONcoverage/cnv/01_A.chr3.cov\u001b[0m\n",
      "\u001b[1;31;1mNo file /Users/mahtin/mount/scratch/develop/PONcoverage/cnv/01_A.chr4.cov\u001b[0m\n",
      "\u001b[1;31;1mNo file /Users/mahtin/mount/scratch/develop/PONcoverage/cnv/01_A.chr5.cov\u001b[0m\n",
      "\u001b[1;31;1mNo file /Users/mahtin/mount/scratch/develop/PONcoverage/cnv/01_A.chr6.cov\u001b[0m\n",
      "\u001b[1;31;1mNo file /Users/mahtin/mount/scratch/develop/PONcoverage/cnv/01_A.chr7.cov\u001b[0m\n",
      "\u001b[1;31;1mNo file /Users/mahtin/mount/scratch/develop/PONcoverage/cnv/01_A.chr8.cov\u001b[0m\n",
      "\u001b[1;31;1mNo file /Users/mahtin/mount/scratch/develop/PONcoverage/cnv/01_A.chr9.cov\u001b[0m\n",
      "\u001b[1;31;1mNo file /Users/mahtin/mount/scratch/develop/PONcoverage/cnv/01_A.chr10.cov\u001b[0m\n",
      "\u001b[1;31;1mNo file /Users/mahtin/mount/scratch/develop/PONcoverage/cnv/01_A.chr11.cov\u001b[0m\n",
      "\u001b[1;31;1mNo file /Users/mahtin/mount/scratch/develop/PONcoverage/cnv/01_A.chr12.cov\u001b[0m\n",
      "\u001b[1;31;1mNo file /Users/mahtin/mount/scratch/develop/PONcoverage/cnv/01_A.chr13.cov\u001b[0m\n",
      "\u001b[1;31;1mNo file /Users/mahtin/mount/scratch/develop/PONcoverage/cnv/01_A.chr14.cov\u001b[0m\n",
      "\u001b[1;31;1mNo file /Users/mahtin/mount/scratch/develop/PONcoverage/cnv/01_A.chr15.cov\u001b[0m\n",
      "\u001b[1;31;1mNo file /Users/mahtin/mount/scratch/develop/PONcoverage/cnv/01_A.chr16.cov\u001b[0m\n",
      "\u001b[1;31;1mNo file /Users/mahtin/mount/scratch/develop/PONcoverage/cnv/01_A.chr17.cov\u001b[0m\n",
      "\u001b[1;31;1mNo file /Users/mahtin/mount/scratch/develop/PONcoverage/cnv/01_A.chr18.cov\u001b[0m\n",
      "\u001b[1;31;1mNo file /Users/mahtin/mount/scratch/develop/PONcoverage/cnv/01_A.chr19.cov\u001b[0m\n",
      "\u001b[1;31;1mNo file /Users/mahtin/mount/scratch/develop/PONcoverage/cnv/01_A.chr20.cov\u001b[0m\n",
      "\u001b[1;31;1mNo file /Users/mahtin/mount/scratch/develop/PONcoverage/cnv/01_A.chr21.cov\u001b[0m\n",
      "\u001b[1;31;1mNo file /Users/mahtin/mount/scratch/develop/PONcoverage/cnv/01_A.chr22.cov\u001b[0m\n",
      "\u001b[1;31;1mNo file /Users/mahtin/mount/scratch/develop/PONcoverage/cnv/01_A.chrX.cov\u001b[0m\n"
     ]
    },
    {
     "ename": "ValueError",
     "evalue": "No objects to concatenate",
     "output_type": "error",
     "traceback": [
      "\u001b[0;31m---------------------------------------------------------------------------\u001b[0m",
      "\u001b[0;31mValueError\u001b[0m                                Traceback (most recent call last)",
      "\u001b[0;32m<ipython-input-3-e158be7d9b01>\u001b[0m in \u001b[0;36m<module>\u001b[0;34m\u001b[0m\n\u001b[1;32m     43\u001b[0m \u001b[0msample\u001b[0m \u001b[0;34m=\u001b[0m \u001b[0;34m\"01_A\"\u001b[0m\u001b[0;34m\u001b[0m\u001b[0;34m\u001b[0m\u001b[0m\n\u001b[1;32m     44\u001b[0m \u001b[0;34m\u001b[0m\u001b[0m\n\u001b[0;32m---> 45\u001b[0;31m \u001b[0mrCov_df\u001b[0m\u001b[0;34m,\u001b[0m \u001b[0mrCovSNP_df\u001b[0m \u001b[0;34m=\u001b[0m \u001b[0mrollingCNV\u001b[0m\u001b[0;34m(\u001b[0m\u001b[0msample\u001b[0m\u001b[0;34m,\u001b[0m \u001b[0msample_cnv_path\u001b[0m\u001b[0;34m=\u001b[0m\u001b[0mcnv_path\u001b[0m\u001b[0;34m,\u001b[0m \u001b[0mPON_cnv_path\u001b[0m\u001b[0;34m=\u001b[0m\u001b[0mcnvPON_path\u001b[0m\u001b[0;34m,\u001b[0m \u001b[0mconfig\u001b[0m\u001b[0;34m=\u001b[0m\u001b[0mconfig\u001b[0m\u001b[0;34m)\u001b[0m\u001b[0;34m\u001b[0m\u001b[0;34m\u001b[0m\u001b[0m\n\u001b[0m",
      "\u001b[0;32m~/Sites/Bio/myCNV/code/rollingCNV.py\u001b[0m in \u001b[0;36mrollingCNV\u001b[0;34m(sample, sample_cnv_path, PON_cnv_path, config)\u001b[0m\n\u001b[1;32m    251\u001b[0m \u001b[0;34m\u001b[0m\u001b[0m\n\u001b[1;32m    252\u001b[0m     \u001b[0;31m# combine the chromosome data and associate coverage data with pon coverage\u001b[0m\u001b[0;34m\u001b[0m\u001b[0;34m\u001b[0m\u001b[0;34m\u001b[0m\u001b[0m\n\u001b[0;32m--> 253\u001b[0;31m     snp_df, cov_df = get_covNsnp(\n\u001b[0m\u001b[1;32m    254\u001b[0m         \u001b[0msample\u001b[0m\u001b[0;34m,\u001b[0m\u001b[0;34m\u001b[0m\u001b[0;34m\u001b[0m\u001b[0m\n\u001b[1;32m    255\u001b[0m         \u001b[0msample_cnv_path\u001b[0m\u001b[0;34m=\u001b[0m\u001b[0msample_cnv_path\u001b[0m\u001b[0;34m,\u001b[0m\u001b[0;34m\u001b[0m\u001b[0;34m\u001b[0m\u001b[0m\n",
      "\u001b[0;32m~/Sites/Bio/myCNV/code/combineCNVdata.py\u001b[0m in \u001b[0;36mget_covNsnp\u001b[0;34m(sample, sample_cnv_path, PON_cnv_path, verbose, centerSNP)\u001b[0m\n\u001b[1;32m    109\u001b[0m     '''\n\u001b[1;32m    110\u001b[0m     \u001b[0mshow_output\u001b[0m\u001b[0;34m(\u001b[0m\u001b[0;34mf'Loading coverage data for sample {sample}'\u001b[0m\u001b[0;34m)\u001b[0m\u001b[0;34m\u001b[0m\u001b[0;34m\u001b[0m\u001b[0m\n\u001b[0;32m--> 111\u001b[0;31m     cov_df = combine_Covdata(\n\u001b[0m\u001b[1;32m    112\u001b[0m         sample, sample_cnv_path=sample_cnv_path, PON_cnv_path=PON_cnv_path, verbose=verbose)\n\u001b[1;32m    113\u001b[0m     \u001b[0mshow_output\u001b[0m\u001b[0;34m(\u001b[0m\u001b[0;34mf'Loading SNP data for sample {sample}'\u001b[0m\u001b[0;34m)\u001b[0m\u001b[0;34m\u001b[0m\u001b[0;34m\u001b[0m\u001b[0m\n",
      "\u001b[0;32m~/Sites/Bio/myCNV/code/combineCNVdata.py\u001b[0m in \u001b[0;36mcombine_Covdata\u001b[0;34m(sample, sample_cnv_path, PON_cnv_path, verbose, filtered)\u001b[0m\n\u001b[1;32m     86\u001b[0m         \u001b[0mcover_dfs\u001b[0m\u001b[0;34m.\u001b[0m\u001b[0mappend\u001b[0m\u001b[0;34m(\u001b[0m\u001b[0msample_df\u001b[0m\u001b[0;34m)\u001b[0m\u001b[0;34m\u001b[0m\u001b[0;34m\u001b[0m\u001b[0m\n\u001b[1;32m     87\u001b[0m     \u001b[0;31m# combine chrom data\u001b[0m\u001b[0;34m\u001b[0m\u001b[0;34m\u001b[0m\u001b[0;34m\u001b[0m\u001b[0m\n\u001b[0;32m---> 88\u001b[0;31m     \u001b[0mcover_df\u001b[0m \u001b[0;34m=\u001b[0m \u001b[0mpd\u001b[0m\u001b[0;34m.\u001b[0m\u001b[0mconcat\u001b[0m\u001b[0;34m(\u001b[0m\u001b[0mcover_dfs\u001b[0m\u001b[0;34m)\u001b[0m\u001b[0;34m\u001b[0m\u001b[0;34m\u001b[0m\u001b[0m\n\u001b[0m\u001b[1;32m     89\u001b[0m \u001b[0;34m\u001b[0m\u001b[0m\n\u001b[1;32m     90\u001b[0m     \u001b[0;31m# normalize the coverage over the entire exome!\u001b[0m\u001b[0;34m\u001b[0m\u001b[0;34m\u001b[0m\u001b[0;34m\u001b[0m\u001b[0m\n",
      "\u001b[0;32m~/miniconda/envs/PDS-env/lib/python3.8/site-packages/pandas/core/reshape/concat.py\u001b[0m in \u001b[0;36mconcat\u001b[0;34m(objs, axis, join, ignore_index, keys, levels, names, verify_integrity, sort, copy)\u001b[0m\n\u001b[1;32m    272\u001b[0m     \u001b[0mValueError\u001b[0m\u001b[0;34m:\u001b[0m \u001b[0mIndexes\u001b[0m \u001b[0mhave\u001b[0m \u001b[0moverlapping\u001b[0m \u001b[0mvalues\u001b[0m\u001b[0;34m:\u001b[0m \u001b[0;34m[\u001b[0m\u001b[0;34m'a'\u001b[0m\u001b[0;34m]\u001b[0m\u001b[0;34m\u001b[0m\u001b[0;34m\u001b[0m\u001b[0m\n\u001b[1;32m    273\u001b[0m     \"\"\"\n\u001b[0;32m--> 274\u001b[0;31m     op = _Concatenator(\n\u001b[0m\u001b[1;32m    275\u001b[0m         \u001b[0mobjs\u001b[0m\u001b[0;34m,\u001b[0m\u001b[0;34m\u001b[0m\u001b[0;34m\u001b[0m\u001b[0m\n\u001b[1;32m    276\u001b[0m         \u001b[0maxis\u001b[0m\u001b[0;34m=\u001b[0m\u001b[0maxis\u001b[0m\u001b[0;34m,\u001b[0m\u001b[0;34m\u001b[0m\u001b[0;34m\u001b[0m\u001b[0m\n",
      "\u001b[0;32m~/miniconda/envs/PDS-env/lib/python3.8/site-packages/pandas/core/reshape/concat.py\u001b[0m in \u001b[0;36m__init__\u001b[0;34m(self, objs, axis, join, keys, levels, names, ignore_index, verify_integrity, copy, sort)\u001b[0m\n\u001b[1;32m    329\u001b[0m \u001b[0;34m\u001b[0m\u001b[0m\n\u001b[1;32m    330\u001b[0m         \u001b[0;32mif\u001b[0m \u001b[0mlen\u001b[0m\u001b[0;34m(\u001b[0m\u001b[0mobjs\u001b[0m\u001b[0;34m)\u001b[0m \u001b[0;34m==\u001b[0m \u001b[0;36m0\u001b[0m\u001b[0;34m:\u001b[0m\u001b[0;34m\u001b[0m\u001b[0;34m\u001b[0m\u001b[0m\n\u001b[0;32m--> 331\u001b[0;31m             \u001b[0;32mraise\u001b[0m \u001b[0mValueError\u001b[0m\u001b[0;34m(\u001b[0m\u001b[0;34m\"No objects to concatenate\"\u001b[0m\u001b[0;34m)\u001b[0m\u001b[0;34m\u001b[0m\u001b[0;34m\u001b[0m\u001b[0m\n\u001b[0m\u001b[1;32m    332\u001b[0m \u001b[0;34m\u001b[0m\u001b[0m\n\u001b[1;32m    333\u001b[0m         \u001b[0;32mif\u001b[0m \u001b[0mkeys\u001b[0m \u001b[0;32mis\u001b[0m \u001b[0;32mNone\u001b[0m\u001b[0;34m:\u001b[0m\u001b[0;34m\u001b[0m\u001b[0;34m\u001b[0m\u001b[0m\n",
      "\u001b[0;31mValueError\u001b[0m: No objects to concatenate"
     ]
    }
   ],
   "source": [
    "config = {\n",
    "    'debug': False, # also export the left and right rolling window values (L/R)\n",
    "    'na_remove': True,\n",
    "    'diff_exp': 4, # the exponent for the diff function --> higher values make steeper peaks\n",
    "    'coverage': {\n",
    "        'filter': dict(\n",
    "            min_cov = 30,\n",
    "            min_PON_cov = 50,\n",
    "            max_PON_std = 100,\n",
    "        ),\n",
    "        'normalize':False,\n",
    "        'center': True,\n",
    "        'expand':0.2, # after interpolation of rolling data from filtered df into full df, interpolate missing data within this fraction of window size, set 0 if no interpolation is wanted\n",
    "        'data': {\n",
    "            'log2ratio': {\n",
    "                'mean':100\n",
    "            }\n",
    "        }\n",
    "    },\n",
    "    'heteroSNP': {\n",
    "        'filter': dict(\n",
    "            VAF=(0.05,0.95),\n",
    "            minDepth=30,\n",
    "            minEB=0.5\n",
    "        ),\n",
    "        'normalize': True,\n",
    "        'center':False,\n",
    "        'expand': 0.5,\n",
    "        'data': {\n",
    "            'absVAF': {\n",
    "                'mean': 20\n",
    "            },\n",
    "            'VAF': {\n",
    "                'std': 20\n",
    "            },\n",
    "            'deltaVAF': {\n",
    "                'var': 20,\n",
    "                'std': 20\n",
    "            }\n",
    "        }\n",
    "    }\n",
    "}\n",
    "sample = \"01_A\"\n",
    "\n",
    "cov_df, snp_df, rCov_df, rSNP_df = rollingCNV(sample, sample_cnv_path=cnv_path, PON_cnv_path=cnvPON_path, config=config)"
   ]
  },
  {
   "cell_type": "code",
   "execution_count": null,
   "metadata": {
    "ExecuteTime": {
     "end_time": "2020-10-29T15:57:11.299261Z",
     "start_time": "2020-10-29T15:57:11.277713Z"
    }
   },
   "outputs": [],
   "source": [
    "rCovSNP_df"
   ]
  },
  {
   "cell_type": "markdown",
   "metadata": {},
   "source": [
    "### step by step"
   ]
  },
  {
   "cell_type": "code",
   "execution_count": null,
   "metadata": {},
   "outputs": [],
   "source": [
    "from combineCNVdata import get_covNsnp\n",
    "from rollingCNV import apply_rolling_coverage\n",
    "from rollingCNV import apply_rolling_SNP\n",
    "\n",
    "\n",
    "def rollingCNV(sample, sample_cnv_path, PON_cnv_path, config):\n",
    "    '''\n",
    "    combines all the hetSNP and coverage data per sample and \n",
    "    performs rolling computations for clustering\n",
    "    '''\n",
    "    \n",
    "    # combine the chromosome data and associate coverage data with pon coverage\n",
    "    snp_df, cov_df = get_covNsnp(\n",
    "        sample, \n",
    "        sample_cnv_path=cnv_path, \n",
    "        PON_cnv_path=cnvPON_path, \n",
    "        verbose=config['debug']\n",
    "    )\n",
    "    \n",
    "    # apply rolling coverage\n",
    "    show_output(f\"Performing rolling coverage computation for sample {sample}.\")\n",
    "    snpcov_df, rolling_cov_df = apply_rolling_coverage(snp_df, cov_df, config)\n",
    "    \n",
    "    # apply rolling SNP\n",
    "    show_output(f\"Performing rolling computation for hetSNP data of sample {sample}.\")\n",
    "    rolling_snpcov_df = apply_rolling_SNP(snpcov_df, config)\n",
    "    show_output(f\"Finished computations for sample {sample}.\")\n",
    "    return rolling_cov_df, rolling_snpcov_df  "
   ]
  },
  {
   "cell_type": "code",
   "execution_count": null,
   "metadata": {
    "ExecuteTime": {
     "end_time": "2020-10-29T15:18:38.499553Z",
     "start_time": "2020-10-29T15:18:27.923913Z"
    }
   },
   "outputs": [],
   "source": [
    "sample = \"01_A\"\n",
    "snp_df, cov_df = get_covNsnp(\n",
    "    sample, \n",
    "    sample_cnv_path=cnv_path, \n",
    "    PON_cnv_path=cnvPON_path, \n",
    "    verbose=False\n",
    ")"
   ]
  },
  {
   "cell_type": "code",
   "execution_count": 4,
   "metadata": {
    "ExecuteTime": {
     "end_time": "2020-10-30T08:09:13.164445Z",
     "start_time": "2020-10-30T08:09:13.134031Z"
    }
   },
   "outputs": [],
   "source": [
    "import yaml"
   ]
  },
  {
   "cell_type": "code",
   "execution_count": 8,
   "metadata": {
    "ExecuteTime": {
     "end_time": "2020-10-30T08:11:24.153065Z",
     "start_time": "2020-10-30T08:11:24.150453Z"
    }
   },
   "outputs": [],
   "source": [
    "test = '''---\n",
    "debug: true\n",
    "na_remove: true\n",
    "diff_exp: 4\n",
    "coverage:\n",
    "  filter:\n",
    "    min_cov: 30\n",
    "    min_PON_cov: 50\n",
    "    max_PON_std: 100\n",
    "  normalize: false\n",
    "  center: true\n",
    "  expand: 0.2\n",
    "  data:\n",
    "    log2ratio:\n",
    "      mean: 100\n",
    "heteroSNP:\n",
    "  filter:\n",
    "    VAF:\n",
    "    - 0.05\n",
    "    - 0.95\n",
    "    minDepth: 30\n",
    "    minEB: 0.5\n",
    "  normalize: true\n",
    "  center: false\n",
    "  expand: 0.5\n",
    "  data:\n",
    "    absVAF:\n",
    "      mean: 20\n",
    "    VAF:\n",
    "      std: 20\n",
    "    deltaVAF:\n",
    "      var: 20\n",
    "      std: 20'''"
   ]
  },
  {
   "cell_type": "code",
   "execution_count": 9,
   "metadata": {
    "ExecuteTime": {
     "end_time": "2020-10-30T08:11:24.676643Z",
     "start_time": "2020-10-30T08:11:24.666743Z"
    }
   },
   "outputs": [
    {
     "name": "stderr",
     "output_type": "stream",
     "text": [
      "<ipython-input-9-7b1bdb9b13b5>:1: YAMLLoadWarning: calling yaml.load() without Loader=... is deprecated, as the default Loader is unsafe. Please read https://msg.pyyaml.org/load for full details.\n",
      "  yaml.load(test)\n"
     ]
    },
    {
     "data": {
      "text/plain": [
       "{'debug': True,\n",
       " 'na_remove': True,\n",
       " 'diff_exp': 4,\n",
       " 'coverage': {'filter': {'min_cov': 30, 'min_PON_cov': 50, 'max_PON_std': 100},\n",
       "  'normalize': False,\n",
       "  'center': True,\n",
       "  'expand': 0.2,\n",
       "  'data': {'log2ratio': {'mean': 100}}},\n",
       " 'heteroSNP': {'filter': {'VAF': [0.05, 0.95], 'minDepth': 30, 'minEB': 0.5},\n",
       "  'normalize': True,\n",
       "  'center': False,\n",
       "  'expand': 0.5,\n",
       "  'data': {'absVAF': {'mean': 20},\n",
       "   'VAF': {'std': 20},\n",
       "   'deltaVAF': {'var': 20, 'std': 20}}}}"
      ]
     },
     "execution_count": 9,
     "metadata": {},
     "output_type": "execute_result"
    }
   ],
   "source": [
    "yaml.load(test)"
   ]
  },
  {
   "cell_type": "code",
   "execution_count": null,
   "metadata": {},
   "outputs": [],
   "source": []
  },
  {
   "cell_type": "code",
   "execution_count": null,
   "metadata": {
    "ExecuteTime": {
     "end_time": "2020-10-29T15:22:26.624804Z",
     "start_time": "2020-10-29T15:22:18.774115Z"
    }
   },
   "outputs": [],
   "source": [
    "config = {\n",
    "    'debug': True, # also export the left and right rolling window values (L/R)\n",
    "    'na_remove': True,\n",
    "    'diff_exp': 4, # the exponent for the diff function --> higher values make steeper peaks\n",
    "    'coverage': {\n",
    "        'filter': dict(\n",
    "            min_cov = 30,\n",
    "            min_PON_cov = 50,\n",
    "            max_PON_std = 100,\n",
    "        ),\n",
    "        'normalize':False,\n",
    "        'center': True,\n",
    "        'expand':0.2, # after interpolation of rolling data from filtered df into full df, interpolate missing data within this fraction of window size, set 0 if no interpolation is wanted\n",
    "        'data': {\n",
    "            'log2ratio': {\n",
    "                'mean':100\n",
    "            }\n",
    "        }\n",
    "    },\n",
    "    'heteroSNP': {\n",
    "        'filter': dict(\n",
    "            VAF=(0.05,0.95),\n",
    "            minDepth=30,\n",
    "            minEB=0.5\n",
    "        ),\n",
    "        'normalize': True,\n",
    "        'center':False,\n",
    "        'expand': 0.5,\n",
    "        'data': {\n",
    "            'absVAF': {\n",
    "                'mean': 20\n",
    "            },\n",
    "            'VAF': {\n",
    "                'std': 20\n",
    "            },\n",
    "            'deltaVAF': {\n",
    "                'var': 20,\n",
    "                'std': 20\n",
    "            }\n",
    "        }\n",
    "    }\n",
    "}\n",
    "\n",
    "snpcov_df, rolling_cov_df = apply_rolling_coverage(snp_df, cov_df, config)"
   ]
  },
  {
   "cell_type": "code",
   "execution_count": null,
   "metadata": {
    "ExecuteTime": {
     "end_time": "2020-10-29T15:22:27.527422Z",
     "start_time": "2020-10-29T15:22:26.712088Z"
    }
   },
   "outputs": [],
   "source": [
    "fig_params = dict(\n",
    "    figsize=(50,8),\n",
    "    colormap='coolwarm_r',\n",
    "    color_chroms=True,\n",
    "    ylim=(-1.5,2.5)\n",
    ")\n",
    "\n",
    "log2 = dict(\n",
    "        title='log2ratio',\n",
    "        plot_type='scatter',   # ['line', 'scatter']\n",
    "        data='log2ratio',\n",
    "        plot_args=dict(\n",
    "            linewidth=0.3,\n",
    "            color='black',\n",
    "            s=0.2,\n",
    "            alpha=.7\n",
    "        ))\n",
    "log2mean = dict(\n",
    "        title='rollinglog2ratio',\n",
    "        plot_type='line',   # ['line', 'scatter']\n",
    "        data='log2ratiomean',\n",
    "        plot_args=dict(\n",
    "            linewidth=1,\n",
    "            color='yellow',\n",
    "            alpha=.7\n",
    "        )\n",
    "    )\n",
    "\n",
    "\n",
    "log2diff = dict(\n",
    "        title='rollinglog2ratio',\n",
    "        plot_type='line',   # ['line', 'scatter']\n",
    "        data='log2ratiomeanDiff',\n",
    "        plot_args=dict(\n",
    "            linewidth=1,\n",
    "            color='blue',\n",
    "            alpha=.7\n",
    "        ))\n",
    "\n",
    "log2L = dict(\n",
    "        title='rollinglog2ratio',\n",
    "        plot_type='line',   # ['line', 'scatter']\n",
    "        data='log2ratiomeanL',\n",
    "        plot_args=dict(\n",
    "            linewidth=1,\n",
    "            color='white',\n",
    "            alpha=.7\n",
    "        ))\n",
    "\n",
    "log2R = dict(\n",
    "        title='rollinglog2ratio',\n",
    "        plot_type='line',   # ['line', 'scatter']\n",
    "        data='log2ratiomeanR',\n",
    "        plot_args=dict(\n",
    "            linewidth=1,\n",
    "            color='black',\n",
    "            alpha=.7\n",
    "        ))\n",
    "\n",
    "\n",
    "chroms = ['chr5', 'chr7','chr8', 'chr11', 'chr17']\n",
    "r1 = 'chr17:3Mb-9Mb'\n",
    "\n",
    "_, _, _, _ = plot_genomic(snpcov_df, plots=[log2,log2mean], chroms='all', region='', **fig_params)"
   ]
  },
  {
   "cell_type": "code",
   "execution_count": null,
   "metadata": {
    "ExecuteTime": {
     "end_time": "2020-10-29T15:22:29.194003Z",
     "start_time": "2020-10-29T15:22:28.569659Z"
    }
   },
   "outputs": [],
   "source": [
    "log2 = dict(\n",
    "        title='log2ratio',\n",
    "        plot_type='scatter',   # ['line', 'scatter']\n",
    "        data='log2ratio',\n",
    "        plot_args=dict(\n",
    "            linewidth=0.3,\n",
    "            color='black',\n",
    "            s=2,\n",
    "            alpha=1\n",
    "        ))\n",
    "\n",
    "plots = [\n",
    "    log2,\n",
    "    log2mean,\n",
    "    log2diff,\n",
    "    log2L,\n",
    "    log2R\n",
    "]\n",
    "\n",
    "_, _, _, _ = plot_genomic(snpcov_df, plots=plots, chroms=chroms, region=r1, **fig_params)"
   ]
  },
  {
   "cell_type": "code",
   "execution_count": null,
   "metadata": {
    "ExecuteTime": {
     "end_time": "2020-10-29T15:23:40.466508Z",
     "start_time": "2020-10-29T15:23:37.660248Z"
    }
   },
   "outputs": [],
   "source": [
    "rolling_snpcov_df = apply_rolling_SNP(snpcov_df, config)"
   ]
  },
  {
   "cell_type": "code",
   "execution_count": null,
   "metadata": {
    "ExecuteTime": {
     "end_time": "2020-10-29T15:37:50.993403Z",
     "start_time": "2020-10-29T15:37:50.559353Z"
    }
   },
   "outputs": [],
   "source": [
    "fig_params = dict(\n",
    "    figsize=(24,8),\n",
    "    colormap='coolwarm_r',\n",
    "    color_chroms=True,\n",
    "    ylim=(-0.02,1.05),\n",
    "    cov_offset=.1,  # how much log2ratio=0 is shifted above SNP-data\n",
    "    cov_height=.5,\n",
    "    label_size=13\n",
    ")\n",
    "############### VAF #################################\n",
    "vaf = dict(\n",
    "        title='VAF',\n",
    "        plot_type='scatter',   # ['line', 'scatter']\n",
    "        data='VAF',\n",
    "        plot_args=dict(\n",
    "            linewidth=0.5,\n",
    "            color='black',\n",
    "            s=1,\n",
    "            alpha=.5\n",
    "        ))\n",
    "\n",
    "vafstd = dict(\n",
    "        title='VAFstd',\n",
    "        plot_type='line',   # ['line', 'scatter']\n",
    "        data='VAFstd',\n",
    "        plot_args=dict(\n",
    "            linewidth=1,\n",
    "            color='yellow',\n",
    "            alpha=.7\n",
    "        )\n",
    "    )\n",
    "\n",
    "vafstddiff = dict(\n",
    "        title='VAFstdDiff',\n",
    "        plot_type='line',   # ['line', 'scatter']\n",
    "        data='VAFstdDiff',\n",
    "        plot_args=dict(\n",
    "            linewidth=1,\n",
    "            color='blue',\n",
    "            alpha=.7\n",
    "        )\n",
    "    )\n",
    "############### absVAF #################################\n",
    "absvaf = dict(\n",
    "        title='absVAF',\n",
    "        plot_type='scatter',   # ['line', 'scatter']\n",
    "        data='absVAF',\n",
    "        plot_args=dict(\n",
    "            linewidth=0.5,\n",
    "            color='blue',\n",
    "            s=1,\n",
    "            alpha=1\n",
    "        ))\n",
    "\n",
    "absvafmean = dict(\n",
    "        title='absVAFmean',\n",
    "        plot_type='line',   # ['line', 'scatter']\n",
    "        data='absVAFmean',\n",
    "        plot_args=dict(\n",
    "            linewidth=1,\n",
    "            color='blue',\n",
    "            alpha=.7\n",
    "        )\n",
    "    )\n",
    "\n",
    "absvafmeandiff = dict(\n",
    "        title='absVAFdiff',\n",
    "        plot_type='line',   # ['line', 'scatter']\n",
    "        data='absVAFmeanDiff',\n",
    "        plot_args=dict(\n",
    "            linewidth=1,\n",
    "            color='blue',\n",
    "            alpha=.7\n",
    "        )\n",
    "    )\n",
    "\n",
    "############### deltaVAF #################################\n",
    "deltavaf = dict(\n",
    "        title='deltaVAF',\n",
    "        plot_type='scatter',   # ['line', 'scatter']\n",
    "        data='deltaVAF',\n",
    "        plot_args=dict(\n",
    "            linewidth=0.5,\n",
    "            color='green',\n",
    "            s=5,\n",
    "            alpha=1\n",
    "        ))\n",
    "deltavafstd = dict(\n",
    "        title='deltaVAFstd',\n",
    "        plot_type='line',   # ['line', 'scatter']\n",
    "        data='deltaVAFstd',\n",
    "        plot_args=dict(\n",
    "            linewidth=1,\n",
    "            color='yellow',\n",
    "            alpha=.7\n",
    "        )\n",
    "    )\n",
    "\n",
    "deltavafstddiff = dict(\n",
    "        title='deltaVAFstddiff',\n",
    "        plot_type='line',   # ['line', 'scatter']\n",
    "        data='deltaVAFstdDiff',\n",
    "        plot_args=dict(\n",
    "            linewidth=1,\n",
    "            color='blue',\n",
    "            alpha=.7\n",
    "        )\n",
    "    )\n",
    "\n",
    "deltavafvar = dict(\n",
    "        title='deltaVAFvar',\n",
    "        plot_type='line',   # ['line', 'scatter']\n",
    "        data='deltaVAFvar',\n",
    "        plot_args=dict(\n",
    "            linewidth=1,\n",
    "            color='green',\n",
    "            alpha=.7\n",
    "        )\n",
    "    )\n",
    "\n",
    "deltavafvardiff = dict(\n",
    "        title='deltaVAFvardiff',\n",
    "        plot_type='line',   # ['line', 'scatter']\n",
    "        data='deltaVAFvarDiff',\n",
    "        plot_args=dict(\n",
    "            linewidth=1,\n",
    "            color='blue',\n",
    "            alpha=.7\n",
    "        )\n",
    "    )\n",
    "\n",
    "chroms = ['chr5', 'chr7','chr8', 'chr11', 'chr17']\n",
    "r1 = 'chr17:3Mb-9Mb'\n",
    "\n",
    "std_plots = [vaf,vafstd, vafstddiff]\n",
    "var_plots = [vaf,vafvar, vafvardiff]\n",
    "selects = [vaf, absvafmean, vafstd, deltavafvar]\n",
    "\n",
    "fig, ax, df, chrom_df = plot_snp(rolling_snpcov_df, snp_plots=selects, chroms='all', region='', **fig_params)"
   ]
  },
  {
   "cell_type": "code",
   "execution_count": null,
   "metadata": {
    "ExecuteTime": {
     "end_time": "2020-10-29T15:38:27.493471Z",
     "start_time": "2020-10-29T15:38:27.039870Z"
    }
   },
   "outputs": [],
   "source": [
    "fig, ax, df, chrom_df = plot_snp(rolling_snpcov_df, snp_plots=selects, chroms=chroms, region='', **fig_params)"
   ]
  },
  {
   "cell_type": "markdown",
   "metadata": {},
   "source": [
    "## all functions combined into rollingCNV"
   ]
  },
  {
   "cell_type": "code",
   "execution_count": null,
   "metadata": {},
   "outputs": [],
   "source": [
    "def rollingCNV(sample, sample_cnv_path, PON_cnv_path, config):\n",
    "    '''\n",
    "    combines all the hetSNP and coverage data per sample and \n",
    "    performs rolling computations for clustering\n",
    "    returns the combined raw data and the (optionally na_removed) rolling data \n",
    "    '''\n",
    "    \n",
    "    # combine the chromosome data and associate coverage data with pon coverage\n",
    "    snp_df, cov_df = get_covNsnp(\n",
    "        sample, \n",
    "        sample_cnv_path=sample_cnv_path, \n",
    "        PON_cnv_path=PON_cnv_path,\n",
    "        verbose=config['debug']\n",
    "    )\n",
    "    \n",
    "    # apply rolling coverage\n",
    "    show_output(f\"Performing rolling coverage computation for sample {sample}.\")\n",
    "    snpcov_df, rolling_cov_df = apply_rolling_coverage(snp_df, cov_df, config)\n",
    "    \n",
    "    # apply rolling SNP\n",
    "    show_output(f\"Performing rolling computation for hetSNP data of sample {sample}.\")\n",
    "    rolling_snpcov_df = apply_rolling_SNP(snpcov_df, config)\n",
    "    show_output(f\"Finished computations for sample {sample}.\")\n",
    "    if config['na_remove']:\n",
    "        rolling_cov_df = rolling_cov_df.dropna()\n",
    "        rolling_snpcov_df = rolling_snpcov_df.dropna()\n",
    "        show_output(f\"Removed missing values from rolling data for sample {sample}.\")\n",
    "    return cov_df, snp_df, rolling_cov_df, rolling_snpcov_df"
   ]
  }
 ],
 "metadata": {
  "kernelspec": {
   "display_name": "Python 3",
   "language": "python",
   "name": "python3"
  },
  "language_info": {
   "codemirror_mode": {
    "name": "ipython",
    "version": 3
   },
   "file_extension": ".py",
   "mimetype": "text/x-python",
   "name": "python",
   "nbconvert_exporter": "python",
   "pygments_lexer": "ipython3",
   "version": "3.8.6"
  },
  "varInspector": {
   "cols": {
    "lenName": 16,
    "lenType": 16,
    "lenVar": 40
   },
   "kernels_config": {
    "python": {
     "delete_cmd_postfix": "",
     "delete_cmd_prefix": "del ",
     "library": "var_list.py",
     "varRefreshCmd": "print(var_dic_list())"
    },
    "r": {
     "delete_cmd_postfix": ") ",
     "delete_cmd_prefix": "rm(",
     "library": "var_list.r",
     "varRefreshCmd": "cat(var_dic_list()) "
    }
   },
   "types_to_exclude": [
    "module",
    "function",
    "builtin_function_or_method",
    "instance",
    "_Feature"
   ],
   "window_display": false
  }
 },
 "nbformat": 4,
 "nbformat_minor": 4
}
