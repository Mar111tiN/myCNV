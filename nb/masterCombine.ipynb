{
 "cells": [
  {
   "cell_type": "code",
   "execution_count": null,
   "metadata": {
    "ExecuteTime": {
     "end_time": "2020-10-29T15:56:55.493275Z",
     "start_time": "2020-10-29T15:56:55.271595Z"
    }
   },
   "outputs": [],
   "source": [
    "# HOME\n",
    "import os\n",
    "import matplotlib as mpl\n",
    "import matplotlib.pyplot as plt\n",
    "# use seaborn plotting defaults\n",
    "import seaborn as sns; sns.set()\n",
    "\n",
    "# get the code\n",
    "import sys\n",
    "sys.path.append('../code')\n",
    "from script_utils import show_output\n",
    "from plot import plot_genomic\n",
    "from plot import plot_snp\n",
    "from rollingCNV import rollingCNV\n",
    "\n",
    "\n",
    "home = '/Users/mahtin'\n",
    "home = '/Users/martinscience'\n",
    "# standard paths\n",
    "testdata = os.path.join(home,\"Dropbox/Icke/Work/somVar/testdata\")\n",
    "static_path = os.path.join(home, \"Dropbox/Icke/Work/static\")\n",
    "cluster_path = os.path.join(home, \"mount\")\n",
    "tooldata = os.path.join(home, \"Dropbox/Icke/Work/somVar/tooldata\")\n",
    "\n",
    "# tool-specific paths\n",
    "shell_path = \"../shell\"\n",
    "# \n",
    "cnvdata = os.path.join(tooldata, \"myCNVdata\")\n",
    "output_path = os.path.join(cnvdata, \"output\")\n",
    "\n",
    "# the path to the input data\n",
    "cnv_path = os.path.join(cnvdata, \"cnv\")\n",
    "cnvPON_path = cnv_path = os.path.join(cnvdata, \"chromCov\")\n",
    "cnv_path = os.path.join(cluster_path, \"scratch/develop/PONcoverage/cnv\")\n",
    "cnvPON_path = os.path.join(cluster_path, \"scratch/develop/PONcoverage/chromCov\")"
   ]
  },
  {
   "cell_type": "code",
   "execution_count": null,
   "metadata": {
    "ExecuteTime": {
     "end_time": "2020-10-29T15:56:55.741548Z",
     "start_time": "2020-10-29T15:56:55.736026Z"
    }
   },
   "outputs": [],
   "source": [
    "cnvPON_path"
   ]
  },
  {
   "cell_type": "code",
   "execution_count": null,
   "metadata": {
    "ExecuteTime": {
     "end_time": "2020-10-29T15:57:11.067270Z",
     "start_time": "2020-10-29T15:56:56.201666Z"
    }
   },
   "outputs": [],
   "source": [
    "config = {\n",
    "    'debug': False, # also export the left and right rolling window values (L/R)\n",
    "    'diff_exp': 4, # the exponent for the diff function --> higher values make steeper peaks\n",
    "    'coverage': {\n",
    "        'filter': dict(\n",
    "            min_cov = 30,\n",
    "            min_PON_cov = 50,\n",
    "            max_PON_std = 100,\n",
    "        ),\n",
    "        'normalize':False,\n",
    "        'center': True,\n",
    "        'expand':0.2, # after interpolation of rolling data from filtered df into full df, interpolate missing data within this fraction of window size, set 0 if no interpolation is wanted\n",
    "        'data': {\n",
    "            'log2ratio': {\n",
    "                'mean':100\n",
    "            }\n",
    "        }\n",
    "    },\n",
    "    'heteroSNP': {\n",
    "        'filter': dict(\n",
    "            VAF=(0.05,0.95),\n",
    "            minDepth=30,\n",
    "            minEB=0.5\n",
    "        ),\n",
    "        'normalize': True,\n",
    "        'center':False,\n",
    "        'expand': 0.5,\n",
    "        'data': {\n",
    "            'absVAF': {\n",
    "                'mean': 20\n",
    "            },\n",
    "            'VAF': {\n",
    "                'std': 20\n",
    "            },\n",
    "            'deltaVAF': {\n",
    "                'var': 20,\n",
    "                'std': 20\n",
    "            }\n",
    "        }\n",
    "    }\n",
    "}\n",
    "sample = \"01_A\"\n",
    "\n",
    "rCov_df, rCovSNP_df = rollingCNV(sample, sample_cnv_path=cnv_path, PON_cnv_path=cnvPON_path, config=config)"
   ]
  },
  {
   "cell_type": "code",
   "execution_count": null,
   "metadata": {
    "ExecuteTime": {
     "end_time": "2020-10-29T15:57:11.299261Z",
     "start_time": "2020-10-29T15:57:11.277713Z"
    }
   },
   "outputs": [],
   "source": [
    "rCovSNP_df"
   ]
  },
  {
   "cell_type": "markdown",
   "metadata": {},
   "source": [
    "### step by step"
   ]
  },
  {
   "cell_type": "code",
   "execution_count": null,
   "metadata": {},
   "outputs": [],
   "source": [
    "from combineCNVdata import get_covNsnp\n",
    "from rollingCNV import apply_rolling_coverage\n",
    "from rollingCNV import apply_rolling_SNP\n",
    "\n",
    "\n",
    "def rollingCNV(sample, sample_cnv_path, PON_cnv_path, config):\n",
    "    '''\n",
    "    combines all the hetSNP and coverage data per sample and \n",
    "    performs rolling computations for clustering\n",
    "    '''\n",
    "    \n",
    "    # combine the chromosome data and associate coverage data with pon coverage\n",
    "    snp_df, cov_df = get_covNsnp(\n",
    "        sample, \n",
    "        sample_cnv_path=cnv_path, \n",
    "        PON_cnv_path=cnvPON_path, \n",
    "        verbose=config['debug']\n",
    "    )\n",
    "    \n",
    "    # apply rolling coverage\n",
    "    show_output(f\"Performing rolling coverage computation for sample {sample}.\")\n",
    "    snpcov_df, rolling_cov_df = apply_rolling_coverage(snp_df, cov_df, config)\n",
    "    \n",
    "    # apply rolling SNP\n",
    "    show_output(f\"Performing rolling computation for hetSNP data of sample {sample}.\")\n",
    "    rolling_snpcov_df = apply_rolling_SNP(snpcov_df, config)\n",
    "    show_output(f\"Finished computations for sample {sample}.\")\n",
    "    return rolling_cov_df, rolling_snpcov_df  "
   ]
  },
  {
   "cell_type": "code",
   "execution_count": null,
   "metadata": {
    "ExecuteTime": {
     "end_time": "2020-10-29T15:18:38.499553Z",
     "start_time": "2020-10-29T15:18:27.923913Z"
    }
   },
   "outputs": [],
   "source": [
    "sample = \"01_A\"\n",
    "snp_df, cov_df = get_covNsnp(\n",
    "    sample, \n",
    "    sample_cnv_path=cnv_path, \n",
    "    PON_cnv_path=cnvPON_path, \n",
    "    verbose=False\n",
    ")"
   ]
  },
  {
   "cell_type": "code",
   "execution_count": null,
   "metadata": {
    "ExecuteTime": {
     "end_time": "2020-10-29T15:22:26.624804Z",
     "start_time": "2020-10-29T15:22:18.774115Z"
    }
   },
   "outputs": [],
   "source": [
    "config = {\n",
    "    'debug': True, # also export the left and right rolling window values (L/R)\n",
    "    'diff_exp': 4, # the exponent for the diff function --> higher values make steeper peaks\n",
    "    'coverage': {\n",
    "        'filter': dict(\n",
    "            min_cov = 30,\n",
    "            min_PON_cov = 50,\n",
    "            max_PON_std = 100,\n",
    "        ),\n",
    "        'normalize':False,\n",
    "        'center': True,\n",
    "        'expand':0.2, # after interpolation of rolling data from filtered df into full df, interpolate missing data within this fraction of window size, set 0 if no interpolation is wanted\n",
    "        'data': {\n",
    "            'log2ratio': {\n",
    "                'mean':100\n",
    "            }\n",
    "        }\n",
    "    },\n",
    "    'heteroSNP': {\n",
    "        'filter': dict(\n",
    "            VAF=(0.05,0.95),\n",
    "            minDepth=30,\n",
    "            minEB=0.5\n",
    "        ),\n",
    "        'normalize': True,\n",
    "        'center':False,\n",
    "        'expand': 0.5,\n",
    "        'data': {\n",
    "            'absVAF': {\n",
    "                'mean': 20\n",
    "            },\n",
    "            'VAF': {\n",
    "                'std': 20\n",
    "            },\n",
    "            'deltaVAF': {\n",
    "                'var': 20,\n",
    "                'std': 20\n",
    "            }\n",
    "        }\n",
    "    }\n",
    "}\n",
    "\n",
    "snpcov_df, rolling_cov_df = apply_rolling_coverage(snp_df, cov_df, config)"
   ]
  },
  {
   "cell_type": "code",
   "execution_count": null,
   "metadata": {
    "ExecuteTime": {
     "end_time": "2020-10-29T15:22:27.527422Z",
     "start_time": "2020-10-29T15:22:26.712088Z"
    }
   },
   "outputs": [],
   "source": [
    "fig_params = dict(\n",
    "    figsize=(50,8),\n",
    "    colormap='coolwarm_r',\n",
    "    color_chroms=True,\n",
    "    ylim=(-1.5,2.5)\n",
    ")\n",
    "\n",
    "log2 = dict(\n",
    "        title='log2ratio',\n",
    "        plot_type='scatter',   # ['line', 'scatter']\n",
    "        data='log2ratio',\n",
    "        plot_args=dict(\n",
    "            linewidth=0.3,\n",
    "            color='black',\n",
    "            s=0.2,\n",
    "            alpha=.7\n",
    "        ))\n",
    "log2mean = dict(\n",
    "        title='rollinglog2ratio',\n",
    "        plot_type='line',   # ['line', 'scatter']\n",
    "        data='log2ratiomean',\n",
    "        plot_args=dict(\n",
    "            linewidth=1,\n",
    "            color='yellow',\n",
    "            alpha=.7\n",
    "        )\n",
    "    )\n",
    "\n",
    "\n",
    "log2diff = dict(\n",
    "        title='rollinglog2ratio',\n",
    "        plot_type='line',   # ['line', 'scatter']\n",
    "        data='log2ratiomeanDiff',\n",
    "        plot_args=dict(\n",
    "            linewidth=1,\n",
    "            color='blue',\n",
    "            alpha=.7\n",
    "        ))\n",
    "\n",
    "log2L = dict(\n",
    "        title='rollinglog2ratio',\n",
    "        plot_type='line',   # ['line', 'scatter']\n",
    "        data='log2ratiomeanL',\n",
    "        plot_args=dict(\n",
    "            linewidth=1,\n",
    "            color='white',\n",
    "            alpha=.7\n",
    "        ))\n",
    "\n",
    "log2R = dict(\n",
    "        title='rollinglog2ratio',\n",
    "        plot_type='line',   # ['line', 'scatter']\n",
    "        data='log2ratiomeanR',\n",
    "        plot_args=dict(\n",
    "            linewidth=1,\n",
    "            color='black',\n",
    "            alpha=.7\n",
    "        ))\n",
    "\n",
    "\n",
    "chroms = ['chr5', 'chr7','chr8', 'chr11', 'chr17']\n",
    "r1 = 'chr17:3Mb-9Mb'\n",
    "\n",
    "_, _, _, _ = plot_genomic(snpcov_df, plots=[log2,log2mean], chroms='all', region='', **fig_params)"
   ]
  },
  {
   "cell_type": "code",
   "execution_count": null,
   "metadata": {
    "ExecuteTime": {
     "end_time": "2020-10-29T15:22:29.194003Z",
     "start_time": "2020-10-29T15:22:28.569659Z"
    }
   },
   "outputs": [],
   "source": [
    "log2 = dict(\n",
    "        title='log2ratio',\n",
    "        plot_type='scatter',   # ['line', 'scatter']\n",
    "        data='log2ratio',\n",
    "        plot_args=dict(\n",
    "            linewidth=0.3,\n",
    "            color='black',\n",
    "            s=2,\n",
    "            alpha=1\n",
    "        ))\n",
    "\n",
    "plots = [\n",
    "    log2,\n",
    "    log2mean,\n",
    "    log2diff,\n",
    "    log2L,\n",
    "    log2R\n",
    "]\n",
    "\n",
    "_, _, _, _ = plot_genomic(snpcov_df, plots=plots, chroms=chroms, region=r1, **fig_params)"
   ]
  },
  {
   "cell_type": "code",
   "execution_count": null,
   "metadata": {
    "ExecuteTime": {
     "end_time": "2020-10-29T15:23:40.466508Z",
     "start_time": "2020-10-29T15:23:37.660248Z"
    }
   },
   "outputs": [],
   "source": [
    "rolling_snpcov_df = apply_rolling_SNP(snpcov_df, config)"
   ]
  },
  {
   "cell_type": "code",
   "execution_count": null,
   "metadata": {
    "ExecuteTime": {
     "end_time": "2020-10-29T15:37:50.993403Z",
     "start_time": "2020-10-29T15:37:50.559353Z"
    }
   },
   "outputs": [],
   "source": [
    "fig_params = dict(\n",
    "    figsize=(24,8),\n",
    "    colormap='coolwarm_r',\n",
    "    color_chroms=True,\n",
    "    ylim=(-0.02,1.05),\n",
    "    cov_offset=.1,  # how much log2ratio=0 is shifted above SNP-data\n",
    "    cov_height=.5,\n",
    "    label_size=13\n",
    ")\n",
    "############### VAF #################################\n",
    "vaf = dict(\n",
    "        title='VAF',\n",
    "        plot_type='scatter',   # ['line', 'scatter']\n",
    "        data='VAF',\n",
    "        plot_args=dict(\n",
    "            linewidth=0.5,\n",
    "            color='black',\n",
    "            s=1,\n",
    "            alpha=.5\n",
    "        ))\n",
    "\n",
    "vafstd = dict(\n",
    "        title='VAFstd',\n",
    "        plot_type='line',   # ['line', 'scatter']\n",
    "        data='VAFstd',\n",
    "        plot_args=dict(\n",
    "            linewidth=1,\n",
    "            color='yellow',\n",
    "            alpha=.7\n",
    "        )\n",
    "    )\n",
    "\n",
    "vafstddiff = dict(\n",
    "        title='VAFstdDiff',\n",
    "        plot_type='line',   # ['line', 'scatter']\n",
    "        data='VAFstdDiff',\n",
    "        plot_args=dict(\n",
    "            linewidth=1,\n",
    "            color='blue',\n",
    "            alpha=.7\n",
    "        )\n",
    "    )\n",
    "############### absVAF #################################\n",
    "absvaf = dict(\n",
    "        title='absVAF',\n",
    "        plot_type='scatter',   # ['line', 'scatter']\n",
    "        data='absVAF',\n",
    "        plot_args=dict(\n",
    "            linewidth=0.5,\n",
    "            color='blue',\n",
    "            s=1,\n",
    "            alpha=1\n",
    "        ))\n",
    "\n",
    "absvafmean = dict(\n",
    "        title='absVAFmean',\n",
    "        plot_type='line',   # ['line', 'scatter']\n",
    "        data='absVAFmean',\n",
    "        plot_args=dict(\n",
    "            linewidth=1,\n",
    "            color='blue',\n",
    "            alpha=.7\n",
    "        )\n",
    "    )\n",
    "\n",
    "absvafmeandiff = dict(\n",
    "        title='absVAFdiff',\n",
    "        plot_type='line',   # ['line', 'scatter']\n",
    "        data='absVAFmeanDiff',\n",
    "        plot_args=dict(\n",
    "            linewidth=1,\n",
    "            color='blue',\n",
    "            alpha=.7\n",
    "        )\n",
    "    )\n",
    "\n",
    "############### deltaVAF #################################\n",
    "deltavaf = dict(\n",
    "        title='deltaVAF',\n",
    "        plot_type='scatter',   # ['line', 'scatter']\n",
    "        data='deltaVAF',\n",
    "        plot_args=dict(\n",
    "            linewidth=0.5,\n",
    "            color='green',\n",
    "            s=5,\n",
    "            alpha=1\n",
    "        ))\n",
    "deltavafstd = dict(\n",
    "        title='deltaVAFstd',\n",
    "        plot_type='line',   # ['line', 'scatter']\n",
    "        data='deltaVAFstd',\n",
    "        plot_args=dict(\n",
    "            linewidth=1,\n",
    "            color='yellow',\n",
    "            alpha=.7\n",
    "        )\n",
    "    )\n",
    "\n",
    "deltavafstddiff = dict(\n",
    "        title='deltaVAFstddiff',\n",
    "        plot_type='line',   # ['line', 'scatter']\n",
    "        data='deltaVAFstdDiff',\n",
    "        plot_args=dict(\n",
    "            linewidth=1,\n",
    "            color='blue',\n",
    "            alpha=.7\n",
    "        )\n",
    "    )\n",
    "\n",
    "deltavafvar = dict(\n",
    "        title='deltaVAFvar',\n",
    "        plot_type='line',   # ['line', 'scatter']\n",
    "        data='deltaVAFvar',\n",
    "        plot_args=dict(\n",
    "            linewidth=1,\n",
    "            color='green',\n",
    "            alpha=.7\n",
    "        )\n",
    "    )\n",
    "\n",
    "deltavafvardiff = dict(\n",
    "        title='deltaVAFvardiff',\n",
    "        plot_type='line',   # ['line', 'scatter']\n",
    "        data='deltaVAFvarDiff',\n",
    "        plot_args=dict(\n",
    "            linewidth=1,\n",
    "            color='blue',\n",
    "            alpha=.7\n",
    "        )\n",
    "    )\n",
    "\n",
    "chroms = ['chr5', 'chr7','chr8', 'chr11', 'chr17']\n",
    "r1 = 'chr17:3Mb-9Mb'\n",
    "\n",
    "std_plots = [vaf,vafstd, vafstddiff]\n",
    "var_plots = [vaf,vafvar, vafvardiff]\n",
    "selects = [vaf, absvafmean, vafstd, deltavafvar]\n",
    "\n",
    "fig, ax, df, chrom_df = plot_snp(rolling_snpcov_df, snp_plots=selects, chroms='all', region='', **fig_params)"
   ]
  },
  {
   "cell_type": "code",
   "execution_count": null,
   "metadata": {
    "ExecuteTime": {
     "end_time": "2020-10-29T15:38:27.493471Z",
     "start_time": "2020-10-29T15:38:27.039870Z"
    }
   },
   "outputs": [],
   "source": [
    "\n",
    "fig, ax, df, chrom_df = plot_snp(rolling_snpcov_df, snp_plots=selects, chroms=chroms, region='', **fig_params)"
   ]
  }
 ],
 "metadata": {
  "kernelspec": {
   "display_name": "Python 3",
   "language": "python",
   "name": "python3"
  },
  "language_info": {
   "codemirror_mode": {
    "name": "ipython",
    "version": 3
   },
   "file_extension": ".py",
   "mimetype": "text/x-python",
   "name": "python",
   "nbconvert_exporter": "python",
   "pygments_lexer": "ipython3",
   "version": "3.8.6"
  },
  "varInspector": {
   "cols": {
    "lenName": 16,
    "lenType": 16,
    "lenVar": 40
   },
   "kernels_config": {
    "python": {
     "delete_cmd_postfix": "",
     "delete_cmd_prefix": "del ",
     "library": "var_list.py",
     "varRefreshCmd": "print(var_dic_list())"
    },
    "r": {
     "delete_cmd_postfix": ") ",
     "delete_cmd_prefix": "rm(",
     "library": "var_list.r",
     "varRefreshCmd": "cat(var_dic_list()) "
    }
   },
   "types_to_exclude": [
    "module",
    "function",
    "builtin_function_or_method",
    "instance",
    "_Feature"
   ],
   "window_display": false
  }
 },
 "nbformat": 4,
 "nbformat_minor": 4
}
