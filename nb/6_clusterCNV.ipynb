{
 "cells": [
  {
   "cell_type": "markdown",
   "metadata": {},
   "source": [
    "## 2d-plot snpVAF vs log2ratio and assign CNVstatus for individual blocks"
   ]
  },
  {
   "cell_type": "markdown",
   "metadata": {},
   "source": [
    "### SETUP"
   ]
  },
  {
   "cell_type": "code",
   "execution_count": null,
   "metadata": {
    "ExecuteTime": {
     "end_time": "2020-12-15T21:35:54.609846Z",
     "start_time": "2020-12-15T21:35:54.582573Z"
    }
   },
   "outputs": [],
   "source": [
    "# HOME\n",
    "home = '/Users/mahtin'\n",
    "home = '/Users/martinscience'\n",
    "\n",
    "import os\n",
    "import matplotlib as mpl\n",
    "import matplotlib.pyplot as plt\n",
    "# use seaborn plotting defaults\n",
    "import seaborn as sns; sns.set()\n",
    "\n",
    "# get the code\n",
    "import sys\n",
    "sys.path.append('../scripts')\n",
    "from codeCNV.plot import plot_genomic, plot_snp2, plot_snp, plot_2d, plot_3d\n",
    "from script_utils import show_output\n",
    "\n",
    "# standard paths\n",
    "testdata = os.path.join(home,\"Dropbox/Icke/Work/somVar/testdata\")\n",
    "static_path = os.path.join(home, \"Dropbox/Icke/Work/static\")\n",
    "cluster_path = os.path.join(home, \"mount\")\n",
    "tooldata = os.path.join(home, \"Dropbox/Icke/Work/somVar/tooldata\")\n",
    "\n",
    "# load the config\n",
    "# edit config directly in yaml file\n",
    "import yaml\n",
    "config_file = '../config/config_devel.yaml'\n",
    "def get_config(config_file, param):\n",
    "        with open(config_file) as file:\n",
    "        # The FullLoader parameter handles the conversion from YAML\n",
    "        # scalar values to Python the dictionary format\n",
    "            config = yaml.load(file, Loader=yaml.FullLoader)['CNV'][param]\n",
    "        return config\n",
    "config = get_config(config_file, 'cluster')\n",
    "\n",
    "cnvdata = os.path.join(tooldata, \"myCNVdata\")\n",
    "output_path = os.path.join(cnvdata, \"output\")\n",
    "plot_path = f'{home}/Dropbox/Icke/Work/myLabmeeting/figures/matplotlib'"
   ]
  },
  {
   "cell_type": "markdown",
   "metadata": {},
   "source": [
    "###  get the sample"
   ]
  },
  {
   "cell_type": "code",
   "execution_count": null,
   "metadata": {
    "ExecuteTime": {
     "end_time": "2020-12-15T21:35:56.125147Z",
     "start_time": "2020-12-15T21:35:56.044436Z"
    },
    "scrolled": true
   },
   "outputs": [],
   "source": [
    "sample = \"06_A\"\n",
    "cluster_df = pd.read_csv(os.path.join(output_path, f'CNV/{sample}.cluster'), sep='\\t')\n",
    "cluster_df"
   ]
  },
  {
   "cell_type": "markdown",
   "metadata": {},
   "source": [
    "### strategy\n",
    "+ get the means and sigma from the center_df\n",
    "+ adjust absVAF and log2ratio of CNV_df\n",
    "+ plot\n",
    "+ find most likely purity by llh2d_mask"
   ]
  },
  {
   "cell_type": "code",
   "execution_count": null,
   "metadata": {
    "ExecuteTime": {
     "end_time": "2020-12-15T16:47:07.751585Z",
     "start_time": "2020-12-15T16:47:07.746377Z"
    }
   },
   "outputs": [],
   "source": [
    "def center_data(cluster_df):\n",
    "    '''\n",
    "    get the center_df containing only points belonging to both Centercores\n",
    "    '''\n",
    "    \n",
    "    cols = ['log2ratio', 'log2ratiomean', 'absVAF', 'absVAFmean']\n",
    "\n",
    "    # get the center_df with points belonging to both Centercores\n",
    "    center_df = cluster_df.query('covCentercore + snpCentercore == 2').copy()\n",
    "    # get the mean and std for relevant columns\n",
    "    center_params = center_df[cols + ['VAF']].agg(['mean', 'std']).T\n",
    "    # get the cnv_df with at least one CNVcore per point\n",
    "    cnv_df = cluster_df.query('snpCNVcore > 0').copy()\n",
    "    \n",
    "    for col in cols:\n",
    "        center_df.loc[:, col] = center_df[col] - center_params.loc[col, 'mean']\n",
    "        cnv_df.loc[:, col] = cnv_df[col] - center_params.loc[col, 'mean']\n",
    "        \n",
    "    cnv_df.loc[:, 'VAF'] = cnv_df['VAF'] + 0.5 - center_params.loc['VAF', 'mean']\n",
    "    center_df.loc[:, 'VAF'] = center_df['VAF'] + 0.5 - center_params.loc['VAF', 'mean']\n",
    "    return cnv_df, center_df, center_params"
   ]
  },
  {
   "cell_type": "code",
   "execution_count": null,
   "metadata": {
    "ExecuteTime": {
     "end_time": "2020-12-15T16:47:08.784869Z",
     "start_time": "2020-12-15T16:47:08.757248Z"
    }
   },
   "outputs": [],
   "source": [
    "cnv_df, center_df, center_params = center_data(cluster_df)\n",
    "center_params"
   ]
  },
  {
   "cell_type": "markdown",
   "metadata": {},
   "source": [
    "### 2-dimensional llh"
   ]
  },
  {
   "cell_type": "code",
   "execution_count": null,
   "metadata": {
    "ExecuteTime": {
     "end_time": "2020-12-15T16:47:11.019946Z",
     "start_time": "2020-12-15T16:47:11.016227Z"
    }
   },
   "outputs": [],
   "source": [
    "def llh2d(dx, dy, mx=0, my=0, sx=0.5, sy=0.1):\n",
    "    '''\n",
    "    compute the density function for a given gaussian\n",
    "    takes a pd.Series or np.array\n",
    "    '''   \n",
    "    # get the fixed term\n",
    "    s = 2 * np.pi * sx * sy\n",
    "    return np.exp((((dx - mx) / sx) **2 + ((dy - my) / sy) **2) / -2) / s"
   ]
  },
  {
   "cell_type": "markdown",
   "metadata": {
    "ExecuteTime": {
     "end_time": "2020-11-14T20:52:20.562673Z",
     "start_time": "2020-11-14T20:52:20.559204Z"
    }
   },
   "source": [
    "### get all the means depending on alpha\n",
    "+ will be used for making gaussians\n"
   ]
  },
  {
   "cell_type": "code",
   "execution_count": null,
   "metadata": {
    "ExecuteTime": {
     "end_time": "2020-12-15T17:14:50.604018Z",
     "start_time": "2020-12-15T17:14:50.554758Z"
    }
   },
   "outputs": [],
   "source": [
    "# start with a simple dataFrame\n",
    "import math\n",
    "\n",
    "def get_gauss_mask(alpha, Nmax):\n",
    "    '''\n",
    "    returns the gauss params for the gauss mask\n",
    "    '''\n",
    "    \n",
    "    alpha = min(1,alpha)\n",
    "    df = pd.DataFrame()\n",
    "    for n in range(int(Nmax)):\n",
    "        N = n + 1 \n",
    "        for i in range(math.ceil((N + 1) / 2)):\n",
    "            string = \"A\" * (N - i) + \"B\" * i\n",
    "            if string == 'A':\n",
    "                string = 'LOH'\n",
    "            absVAF = alpha * np.abs((2 * i) / N - 1)\n",
    "            log2 = np.log2(2 + alpha * (N - 2)) - 1\n",
    "            s = pd.Series({'type': string, 'absVAF': absVAF, 'log2ratio': log2})\n",
    "            df = df.append(s, ignore_index=True)\n",
    "    return df.query('absVAF !=0 or log2ratio != 0')\n",
    "\n",
    "\n",
    "Nmax = 6\n",
    "alpha = 1\n",
    "gauss_mask = get_gauss_mask(alpha, Nmax)\n",
    "gauss_mask"
   ]
  },
  {
   "cell_type": "markdown",
   "metadata": {},
   "source": [
    "+ ####  mask2VAF for converting to VAF gaussians"
   ]
  },
  {
   "cell_type": "code",
   "execution_count": null,
   "metadata": {
    "ExecuteTime": {
     "end_time": "2020-12-15T21:58:02.620254Z",
     "start_time": "2020-12-15T21:58:02.583167Z"
    }
   },
   "outputs": [],
   "source": [
    "def mask2VAF(mask_df):\n",
    "    '''\n",
    "    converts the gauss_mask for absVAF into mask for VAF\n",
    "    '''\n",
    "    \n",
    "    df = mask_df.copy()\n",
    "    df.loc[:, 'VAF-'] = 0.5 - df['absVAF'] / 2\n",
    "    df.loc[:, 'VAF+'] = 0.5 + df['absVAF'] / 2\n",
    "    return df.loc[:, ['VAF-','VAF+', 'log2ratio', 'type']]\n",
    "\n",
    "\n",
    "def VAFmask(alpha, Nmax=6):\n",
    "    return mask2VAF(get_gauss_mask(alpha, Nmax))\n",
    "\n",
    "VAFmask(alpha, Nmax)"
   ]
  },
  {
   "cell_type": "code",
   "execution_count": null,
   "metadata": {
    "ExecuteTime": {
     "end_time": "2020-12-15T16:47:22.227540Z",
     "start_time": "2020-12-15T16:47:22.213658Z"
    }
   },
   "outputs": [],
   "source": [
    "plt.style.use('seaborn-white')\n",
    "\n",
    "def plot_gaussian(df, xcol, ycol, \n",
    "                  df2=pd.DataFrame(), \n",
    "                  Nmax=0,   # maximal expected\n",
    "                  alpha=1,\n",
    "                  gauss_params=pd.DataFrame(), # the center_params containing the std\n",
    "                  logmax=2.5, \n",
    "                  std_factor = 1,\n",
    "                  rings=10, # number of rings for contour\n",
    "                  figsize=(6, 6)):\n",
    "    fig, ax = plt.subplots(figsize=figsize)\n",
    "    _ = ax.scatter(df[xcol], df[ycol], s=.1)\n",
    "    if len(df2.index):\n",
    "        _ = ax.scatter(df2[xcol], df2[ycol], s=1, color='red')\n",
    "    _ = ax.set_xlabel(xcol, fontsize=15)\n",
    "    _ = ax.set_ylabel(ycol, fontsize=15)\n",
    "    _ = sns.despine(ax=ax, offset=0)\n",
    "    _ = ax.spines['left'].set_position('zero')\n",
    "\n",
    "    \n",
    "    def get_lims(col):\n",
    "        if 'log' in col:\n",
    "            return (-1.5, logmax)\n",
    "        if 'VAF' in col:\n",
    "            return (-0.05, 1.05)\n",
    "    _ = ax.set_xlim(get_lims(xcol))\n",
    "    _ = ax.set_ylim(get_lims(ycol))\n",
    "    \n",
    "    # add gaussian mask\n",
    "    if Nmax:\n",
    "        # create the grid\n",
    "        x = np.linspace(*get_lims(xcol), 500)\n",
    "        y = np.linspace(*get_lims(ycol), 400)\n",
    "        X, Y = np.meshgrid(x, y)\n",
    "        Z = np.zeros_like(X)\n",
    "        \n",
    "        # get the std from the params\n",
    "        sx, sy = gauss_params.loc[[xcol, ycol], 'std']\n",
    "        print(sx, sy)\n",
    "        sx *= std_factor\n",
    "        sy *= std_factor\n",
    "        gaussians = get_gauss_mask(alpha, Nmax)\n",
    "        if xcol == 'VAF':\n",
    "            gaussians = mask2VAF(gaussians)\n",
    "            for _, row in gaussians.iterrows():\n",
    "                mx1 = row['VAF-']\n",
    "                mx2 = row['VAF+']\n",
    "                my = row['log2ratio']\n",
    "                Z += llh2d(X,Y, mx1, my, sx, sy) +   llh2d(X,Y, mx2, my, sx, sy)\n",
    "                ax.text(mx1, my-0.2, row['type'], ha='center')\n",
    "                ax.text(mx2, my-0.2, row['type'].replace('A', 'G').replace('B', 'A').replace('G', 'B'), ha='center')\n",
    "        else:\n",
    "            for _, row in gaussians.iterrows():\n",
    "                mx = row['absVAF']\n",
    "                my = row['log2ratio']\n",
    "                Z += llh2d(X,Y, mx, my, sx, sy)\n",
    "                ax.text(mx, my-0.2, row['type'], ha='center')\n",
    "        _ = ax.contour(X,Y,Z, rings, colors='black', alpha=1,linewidths=.4)\n",
    "    # set the y-spine\n",
    "    _ = ax.axhline(y=0, color='k')\n",
    "    _ = ax.axvline(x=0, color='k')\n",
    "    _ = ax.axvline(x=1, color='k')\n",
    "    if xcol == 'VAF':\n",
    "        _ = ax.axvline(x=0.5, c='k',ls=\"--\")\n",
    "\n",
    "    return fig, ax"
   ]
  },
  {
   "cell_type": "markdown",
   "metadata": {},
   "source": [
    "## test samples"
   ]
  },
  {
   "cell_type": "code",
   "execution_count": null,
   "metadata": {
    "ExecuteTime": {
     "end_time": "2020-12-15T17:15:21.426706Z",
     "start_time": "2020-12-15T17:15:21.421711Z"
    }
   },
   "outputs": [],
   "source": [
    "log2 = dict(\n",
    "        title='log2ratio',\n",
    "        plot_type='scatter',   # ['line', 'scatter']\n",
    "        data='log2ratio',\n",
    "        plot_args=dict(\n",
    "            linewidth=0.3,\n",
    "            color='black',\n",
    "            s=1,\n",
    "            alpha=.7\n",
    "        )\n",
    "    )\n",
    "\n",
    "log2mean = dict(\n",
    "        title='rollinglog2ratio',\n",
    "        plot_type='line',   # ['line', 'scatter']\n",
    "        data='log2ratiomean',\n",
    "        plot_args=dict(\n",
    "            linewidth=1,\n",
    "            color='yellow',\n",
    "            alpha=.7\n",
    "        )\n",
    "    )\n",
    "vaf = dict(\n",
    "        title='VAF',\n",
    "        plot_type='scatter',   # ['line', 'scatter']\n",
    "        data='VAF',\n",
    "        plot_args=dict(\n",
    "            linewidth=1,\n",
    "            color='black',\n",
    "            s=2,\n",
    "            alpha=.4\n",
    "        ))\n",
    "\n",
    "fig_params = dict(\n",
    "    figsize=(22,4),\n",
    "    colormap='coolwarm_r',\n",
    "    color_chroms=True,\n",
    "    ylim=(0,1),\n",
    "    cov_offset=.1,  # how much log2ratio=0 is shifted above SNP-data\n",
    "    cov_height=.5,\n",
    "    label_size=13\n",
    ")"
   ]
  },
  {
   "cell_type": "code",
   "execution_count": null,
   "metadata": {
    "ExecuteTime": {
     "end_time": "2020-12-15T17:15:23.121448Z",
     "start_time": "2020-12-15T17:15:22.701709Z"
    }
   },
   "outputs": [],
   "source": [
    "sample = \"04_A\"\n",
    "cluster_df = pd.read_csv(os.path.join(output_path, f'CNV/{sample}.cluster'), sep='\\t')\n",
    "chroms = ['chr5', 'chr7','chr8', 'chr11', 'chr17']\n",
    "cnv_df, center_df, center_params = center_data(cluster_df)\n",
    "_ = plot_snp2(cluster_df, snp_plots=[vaf], cov_plots=[log2, log2mean], chroms='all', region='', **fig_params)"
   ]
  },
  {
   "cell_type": "code",
   "execution_count": null,
   "metadata": {
    "ExecuteTime": {
     "end_time": "2020-12-15T17:15:23.809119Z",
     "start_time": "2020-12-15T17:15:23.471653Z"
    }
   },
   "outputs": [],
   "source": [
    "cnv_df, center_df, center_params = center_data(cluster_df)\n",
    "xcol = 'VAF'\n",
    "ycol = 'log2ratiomean'\n",
    "fig, ax = plot_gaussian(center_df, df2=cnv_df, xcol=xcol, ycol=ycol, \n",
    "                        Nmax=4, \n",
    "                        rings=8, \n",
    "                        logmax=1.5,\n",
    "                        alpha=.85, \n",
    "                        std_factor=1,\n",
    "                        gauss_params=center_params\n",
    "                       )"
   ]
  },
  {
   "cell_type": "code",
   "execution_count": null,
   "metadata": {
    "ExecuteTime": {
     "end_time": "2020-12-15T21:43:01.950597Z",
     "start_time": "2020-12-15T21:43:01.930879Z"
    }
   },
   "outputs": [],
   "source": [
    "df = cnv_df.copy()\n",
    "df"
   ]
  },
  {
   "cell_type": "markdown",
   "metadata": {},
   "source": [
    "## do the block assignment according to LLH\n",
    "+ LLH2D computation has to be done for every possible gaussian\n",
    "+ data can be computed for entire CNV_df\n",
    "+ grouped sums can then be maximized\n",
    "+ center params are needed for gaussians"
   ]
  },
  {
   "cell_type": "code",
   "execution_count": null,
   "metadata": {
    "ExecuteTime": {
     "end_time": "2020-12-15T21:47:07.163055Z",
     "start_time": "2020-12-15T21:47:07.158406Z"
    }
   },
   "outputs": [],
   "source": [
    "a = 0.85\n",
    "b = [0.85]\n",
    "isinstance(a, list)"
   ]
  },
  {
   "cell_type": "code",
   "execution_count": null,
   "metadata": {
    "ExecuteTime": {
     "end_time": "2020-12-15T21:55:17.204511Z",
     "start_time": "2020-12-15T21:55:17.194596Z"
    }
   },
   "outputs": [],
   "source": [
    "def call_blocks(df, alpha=0.9, Nmax=6, center_params=pd.DataFrame()):\n",
    "    # get the std from center_params\n",
    "    vaf_std = center_params.loc['VAF', 'std']\n",
    "    log2_std = center_params.loc['log2ratiomean', 'std']\n",
    "    \n",
    "    # force list for alpha\n",
    "    if not isinstance(alpha, list):\n",
    "        alpha = [alpha] \n",
    "    \n",
    "    # add a column for every CNV type and every alpha\n",
    "    # and calculate the respective \n",
    "    for a in alpha:\n",
    "        # cycle through the VAFmask (containing the means for the respective gaussians)\n",
    "        mask = VAFmask(a, Nmax)\n",
    "        for _, row in mask.iterrows():\n",
    "            df[f\"{a}-{row['type']}\"] = llh2d(df['VAF'],df['log2ratiomean'], mx=row['VAF-'], my=row['log2ratio'], sx=vaf_std, sy=log2_std)\n",
    "            df[f\"{a}-{row['type']}\"] += llh2d(df['VAF'],df['log2ratiomean'], mx=row['VAF+'], my=row['log2ratio'], sx=vaf_std, sy=log2_std)\n",
    "    \n",
    "    # reduce df to the sums of LLH per CNVtype\n",
    "    # reduce to required columns and group by snpCNV\n",
    "    cnv_df = df.loc[:, ['snpCNV'] + [f\"{a}-{m}\" for a in alpha for m in mask['type']]].groupby('snpCNV').sum()\n",
    "    \n",
    "    cnv_df['CNVcall'] = cnv_df.columns[np.argmax(cnv_df.values, axis=1)]\n",
    "    \n",
    "    # get the start and end coordinates for each group\n",
    "    region_df = df.loc[:, ['Chr', 'Pos', 'snpCNV']].groupby(['snpCNV', 'Chr'])['Pos'].agg([\"min\", \"max\"]).rename({'min':'Start', 'max': 'End'}, axis=1).reset_index('Chr')\n",
    "    \n",
    "    # merge the region into the cnv_df\n",
    "    return cnv_df.merge(region_df, left_index=True, right_index=True).loc[:, ['Chr', 'Start', 'End', 'CNVcall']]"
   ]
  },
  {
   "cell_type": "code",
   "execution_count": null,
   "metadata": {
    "ExecuteTime": {
     "end_time": "2020-12-15T22:05:55.541166Z",
     "start_time": "2020-12-15T22:05:55.382568Z"
    }
   },
   "outputs": [],
   "source": [
    "block_df = call_blocks(df, [0.85, 0.4], 6, center_params)\n",
    "block_df"
   ]
  },
  {
   "cell_type": "code",
   "execution_count": null,
   "metadata": {
    "ExecuteTime": {
     "end_time": "2020-12-15T22:12:41.646931Z",
     "start_time": "2020-12-15T22:12:41.642525Z"
    }
   },
   "outputs": [],
   "source": [
    "def get_means(row):\n",
    "    return VAFmask(float(row['a'])).set_index(\"type\").loc[row['type']]\n",
    "\n",
    "def get_all_means(df):\n",
    "    df[['a', 'type']] = df['CNVcall'].str.extract(r\"([0-9.]+)-([ABLOH]+)\")\n",
    "    df[['VAF-', 'VAF+', 'log2ratio']] = df.apply(get_means, axis=1)\n",
    "    return df.drop(['a', 'type'], axis=1)"
   ]
  },
  {
   "cell_type": "code",
   "execution_count": null,
   "metadata": {
    "ExecuteTime": {
     "end_time": "2020-12-15T22:12:43.294991Z",
     "start_time": "2020-12-15T22:12:43.122584Z"
    }
   },
   "outputs": [],
   "source": [
    "get_all_means(block_df)"
   ]
  },
  {
   "cell_type": "code",
   "execution_count": null,
   "metadata": {},
   "outputs": [],
   "source": []
  }
 ],
 "metadata": {
  "kernelspec": {
   "display_name": "Python 3",
   "language": "python",
   "name": "python3"
  },
  "language_info": {
   "codemirror_mode": {
    "name": "ipython",
    "version": 3
   },
   "file_extension": ".py",
   "mimetype": "text/x-python",
   "name": "python",
   "nbconvert_exporter": "python",
   "pygments_lexer": "ipython3",
   "version": "3.8.6"
  },
  "varInspector": {
   "cols": {
    "lenName": 16,
    "lenType": 16,
    "lenVar": 40
   },
   "kernels_config": {
    "python": {
     "delete_cmd_postfix": "",
     "delete_cmd_prefix": "del ",
     "library": "var_list.py",
     "varRefreshCmd": "print(var_dic_list())"
    },
    "r": {
     "delete_cmd_postfix": ") ",
     "delete_cmd_prefix": "rm(",
     "library": "var_list.r",
     "varRefreshCmd": "cat(var_dic_list()) "
    }
   },
   "types_to_exclude": [
    "module",
    "function",
    "builtin_function_or_method",
    "instance",
    "_Feature"
   ],
   "window_display": false
  }
 },
 "nbformat": 4,
 "nbformat_minor": 4
}
