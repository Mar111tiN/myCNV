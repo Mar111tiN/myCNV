{
 "cells": [
  {
   "cell_type": "markdown",
   "metadata": {},
   "source": [
    "## SETUP"
   ]
  },
  {
   "cell_type": "code",
   "execution_count": null,
   "metadata": {
    "ExecuteTime": {
     "end_time": "2020-12-15T16:22:03.072458Z",
     "start_time": "2020-12-15T16:22:02.884581Z"
    }
   },
   "outputs": [],
   "source": [
    "import os\n",
    "import matplotlib as mpl\n",
    "import matplotlib.pyplot as plt\n",
    "# use seaborn plotting defaults\n",
    "import seaborn as sns; sns.set()\n",
    "######## need to find the chained assignment!!!\n",
    "pd.set_option('mode.chained_assignment', None)\n",
    "\n",
    "# load the config\n",
    "# edit config directly in yaml file\n",
    "import yaml\n",
    "config_file = '../config/config_devel.yaml'\n",
    "def get_config(config_file, param):\n",
    "        with open(config_file) as file:\n",
    "        # The FullLoader parameter handles the conversion from YAML\n",
    "        # scalar values to Python the dictionary format\n",
    "            config = yaml.load(file, Loader=yaml.FullLoader)['CNV'][param]\n",
    "        return config\n",
    "config = get_config(config_file, 'combine')\n",
    "\n",
    "\n",
    "\n",
    "user = 'martinscience'\n",
    "# HOME\n",
    "home = '/Users/mahtin'\n",
    "home = '/Users/martinscience'\n",
    "\n",
    "# get the code\n",
    "import sys\n",
    "sys.path.append('../scripts')\n",
    "from codeCNV.plot import plot_genomic, plot_snp2, plot_snp, plot_2d, plot_3d\n",
    "from script_utils import show_output\n",
    "\n",
    "\n",
    "# user = 'mahtin'\n",
    "HOME = f\"/Users/{user}\"\n",
    "wes_path = f\"{HOME}/Dropbox/Icke/Work/somVar/AMLMono7/WESData\"\n",
    "path = f\"{wes_path}\"\n",
    "!ls {path}"
   ]
  },
  {
   "cell_type": "markdown",
   "metadata": {},
   "source": [
    "### load da code"
   ]
  },
  {
   "cell_type": "code",
   "execution_count": null,
   "metadata": {
    "ExecuteTime": {
     "end_time": "2020-12-15T16:22:08.216705Z",
     "start_time": "2020-12-15T16:22:08.192464Z"
    }
   },
   "outputs": [],
   "source": [
    "def center_data(cluster_df):\n",
    "    '''\n",
    "    get the center_df containing only points belonging to both Centercores\n",
    "    '''\n",
    "    \n",
    "    cols = ['log2ratio', 'log2ratiomean', 'absVAF', 'absVAFmean']\n",
    "\n",
    "    # get the center_df with points belonging to both Centercores\n",
    "    center_df = cluster_df.query('covCentercore + snpCentercore == 2').copy()\n",
    "    # get the mean and std for relevant columns\n",
    "    center_params = center_df[cols + ['VAF']].agg(['mean', 'std']).T\n",
    "    # get the cnv_df with at least one CNVcore per point\n",
    "    cnv_df = cluster_df.query('snpCNVcore > 0').copy()\n",
    "    \n",
    "    for col in cols:\n",
    "        center_df.loc[:, col] = center_df[col] - center_params.loc[col, 'mean']\n",
    "        cnv_df.loc[:, col] = cnv_df[col] - center_params.loc[col, 'mean']\n",
    "        \n",
    "    cnv_df.loc[:, 'VAF'] = cnv_df['VAF'] + 0.5 - center_params.loc['VAF', 'mean']\n",
    "    center_df.loc[:, 'VAF'] = center_df['VAF'] + 0.5 - center_params.loc['VAF', 'mean']\n",
    "    return cnv_df, center_df, center_params\n",
    "\n",
    "def llh2d(dx, dy, mx=0, my=0, sx=0.5, sy=0.1):\n",
    "    '''\n",
    "    compute the density function for a given gaussian\n",
    "    takes a pd.Series or np.array\n",
    "    '''   \n",
    "    # get the fixed term\n",
    "    s = 2 * np.pi * sx * sy\n",
    "    return np.exp((((dx - mx) / sx) **2 + ((dy - my) / sy) **2) / -2) / s\n",
    "\n",
    "# start with a simple dataFrame\n",
    "import math\n",
    "\n",
    "def get_gauss_mask(alpha, Nmax):\n",
    "    '''\n",
    "    returns the gauss params for the gauss mask\n",
    "    '''\n",
    "    \n",
    "    alpha = min(1,alpha)\n",
    "    df = pd.DataFrame()\n",
    "    for n in range(int(Nmax)):\n",
    "        N = n + 1 \n",
    "        for i in range(math.ceil((N + 1) / 2)):\n",
    "            string = \"A\" * (N - i) + \"B\" * i\n",
    "            if string == 'A':\n",
    "                string = 'LOH'\n",
    "            absVAF = alpha * np.abs((2 * i) / N - 1)\n",
    "            log2 = np.log2(2 + alpha * (N - 2)) - 1\n",
    "            s = pd.Series({'type': string, 'absVAF': absVAF, 'log2ratio': log2})\n",
    "            df = df.append(s, ignore_index=True)\n",
    "    return df.query('absVAF !=0 or log2ratio != 0')\n",
    "\n",
    "def mask2VAF(mask_df):\n",
    "    '''\n",
    "    converts the gauss_mask for absVAF into mask for VAF\n",
    "    '''\n",
    "    \n",
    "    df = mask_df.copy()\n",
    "    df.loc[:, 'VAF-'] = 0.5 - df['absVAF'] / 2\n",
    "    df.loc[:, 'VAF+'] = 0.5 + df['absVAF'] / 2\n",
    "    return df.loc[:, ['VAF-','VAF+', 'log2ratio', 'type']]\n",
    "\n",
    "\n",
    "plt.style.use('seaborn-white')\n",
    "\n",
    "def plot_gaussian(df, xcol, ycol, \n",
    "                  df2=pd.DataFrame(), \n",
    "                  Nmax=0,   # maximal expected\n",
    "                  alpha=1,\n",
    "                  gauss_params=pd.DataFrame(), # the center_params containing the std\n",
    "                  logmax=2.5, \n",
    "                  std_factor = 1,\n",
    "                  rings=10, # number of rings for contour\n",
    "                  figsize=(12, 12)):\n",
    "    fig, ax = plt.subplots(figsize=figsize)\n",
    "    _ = ax.scatter(df[xcol], df[ycol], s=.1)\n",
    "    if len(df2.index):\n",
    "        _ = ax.scatter(df2[xcol], df2[ycol], s=1, color='red')\n",
    "    _ = ax.set_xlabel(xcol, fontsize=15)\n",
    "    _ = ax.set_ylabel(ycol, fontsize=15)\n",
    "    _ = sns.despine(ax=ax, offset=0)\n",
    "    _ = ax.spines['left'].set_position('zero')\n",
    "\n",
    "    \n",
    "    def get_lims(col):\n",
    "        if 'log' in col:\n",
    "            return (-1.5, logmax)\n",
    "        if 'VAF' in col:\n",
    "            return (-0.05, 1.05)\n",
    "    _ = ax.set_xlim(get_lims(xcol))\n",
    "    _ = ax.set_ylim(get_lims(ycol))\n",
    "    \n",
    "    # add gaussian mask\n",
    "    if Nmax:\n",
    "        # create the grid\n",
    "        x = np.linspace(*get_lims(xcol), 500)\n",
    "        y = np.linspace(*get_lims(ycol), 400)\n",
    "        X, Y = np.meshgrid(x, y)\n",
    "        Z = np.zeros_like(X)\n",
    "        \n",
    "        # get the std from the params\n",
    "        sx, sy = gauss_params.loc[[xcol, ycol], 'std']\n",
    "        print(sx, sy)\n",
    "        sx *= std_factor\n",
    "        sy *= std_factor\n",
    "        gaussians = get_gauss_mask(alpha, Nmax)\n",
    "        if xcol == 'VAF':\n",
    "            gaussians = mask2VAF(gaussians)\n",
    "            for _, row in gaussians.iterrows():\n",
    "                mx1 = row['VAF-']\n",
    "                mx2 = row['VAF+']\n",
    "                my = row['log2ratio']\n",
    "                Z += llh2d(X,Y, mx1, my, sx, sy) +   llh2d(X,Y, mx2, my, sx, sy)\n",
    "                ax.text(mx1, my-0.2, row['type'], ha='center')\n",
    "                ax.text(mx2, my-0.2, row['type'].replace('A', 'G').replace('B', 'A').replace('G', 'B'), ha='center')\n",
    "        else:\n",
    "            for _, row in gaussians.iterrows():\n",
    "                mx = row['absVAF']\n",
    "                my = row['log2ratio']\n",
    "                Z += llh2d(X,Y, mx, my, sx, sy)\n",
    "                ax.text(mx, my-0.2, row['type'], ha='center')\n",
    "        _ = ax.contour(X,Y,Z, rings, colors='black', alpha=1,linewidths=.4)\n",
    "    # set the y-spine\n",
    "    _ = ax.axhline(y=0, color='k')\n",
    "    _ = ax.axvline(x=0, color='k')\n",
    "    _ = ax.axvline(x=1, color='k')\n",
    "    if xcol == 'VAF':\n",
    "        _ = ax.axvline(x=0.5, c='k',ls=\"--\")\n",
    "\n",
    "    return fig, ax\n",
    "\n",
    "log2 = dict(\n",
    "        title='log2ratio',\n",
    "        plot_type='scatter',   # ['line', 'scatter']\n",
    "        data='log2ratio',\n",
    "        plot_args=dict(\n",
    "            linewidth=0.3,\n",
    "            color='black',\n",
    "            s=1,\n",
    "            alpha=.7\n",
    "        )\n",
    "    )\n",
    "\n",
    "log2mean = dict(\n",
    "        title='rollinglog2ratio',\n",
    "        plot_type='line',   # ['line', 'scatter']\n",
    "        data='log2ratiomean',\n",
    "        plot_args=dict(\n",
    "            linewidth=1,\n",
    "            color='yellow',\n",
    "            alpha=.7\n",
    "        )\n",
    "    )\n",
    "vaf = dict(\n",
    "        title='VAF',\n",
    "        plot_type='scatter',   # ['line', 'scatter']\n",
    "        data='VAF',\n",
    "        plot_args=dict(\n",
    "            linewidth=1,\n",
    "            color='black',\n",
    "            s=2,\n",
    "            alpha=.4\n",
    "        ))\n",
    "\n",
    "fig_params = dict(\n",
    "    figsize=(48,10),\n",
    "    colormap='coolwarm_r',\n",
    "    color_chroms=True,\n",
    "    ylim=(0,1),\n",
    "    cov_offset=.1,  # how much log2ratio=0 is shifted above SNP-data\n",
    "    cov_height=.5,\n",
    "    label_size=13\n",
    ")"
   ]
  },
  {
   "cell_type": "markdown",
   "metadata": {},
   "source": [
    "### make sample_df"
   ]
  },
  {
   "cell_type": "code",
   "execution_count": null,
   "metadata": {
    "ExecuteTime": {
     "end_time": "2020-12-15T16:22:30.117024Z",
     "start_time": "2020-12-15T16:22:29.763968Z"
    }
   },
   "outputs": [],
   "source": [
    "projects = [f\"P{i}\" for i in [483,559,615,625,665,685,778,\"merge\"]]\n",
    "\n",
    "def get_sample_name(file):\n",
    "    sample = os.path.basename(file).split(\".\")[0]\n",
    "    name = sample.split('_')[0] + sample.split('_')[1].replace(\"-B\", \"\")\n",
    "    return name\n",
    "\n",
    "\n",
    "sample_df = pd.DataFrame()\n",
    "for project in projects:\n",
    "    folder = os.path.join(wes_path, f\"{project}/CNV\")\n",
    "    print(f\"Looking for filter files in {folder}\")\n",
    "    for folder, _, files in os.walk(folder):\n",
    "        for file in files:\n",
    "            if file.endswith(\".cluster\"):\n",
    "                sample = file.replace(\".cluster\", \"\").replace(\"_\", \"\")\n",
    "                s = pd.Series(dict(sample=sample, project=project, file = os.path.join(folder, file)))\n",
    "                sample_df = sample_df.append(s, ignore_index=True)\n",
    "sample_df = sample_df.sort_values(['project', 'sample']).loc[:, ['project', 'sample', 'file']]\n",
    "sample_df"
   ]
  },
  {
   "cell_type": "code",
   "execution_count": null,
   "metadata": {
    "ExecuteTime": {
     "end_time": "2020-12-15T16:24:47.381488Z",
     "start_time": "2020-12-15T16:24:47.378474Z"
    }
   },
   "outputs": [],
   "source": [
    "def get_file(sample):\n",
    "    sample = sample.replace(\"_\", \"\")\n",
    "    return sample_df.query('sample == @sample').iloc[0,2]"
   ]
  },
  {
   "cell_type": "markdown",
   "metadata": {},
   "source": [
    "## test samples"
   ]
  },
  {
   "cell_type": "code",
   "execution_count": null,
   "metadata": {
    "ExecuteTime": {
     "end_time": "2020-12-15T17:07:20.305144Z",
     "start_time": "2020-12-15T17:07:19.717163Z"
    }
   },
   "outputs": [],
   "source": [
    "sample = \"04A\"\n",
    "cluster_df = pd.read_csv(get_file(sample), sep='\\t')\n",
    "chroms = ['chr5', 'chr7','chr8', 'chr11', 'chr17']\n",
    "cnv_df, center_df, center_params = center_data(cluster_df)\n",
    "_ = plot_snp2(cluster_df, snp_plots=[vaf], cov_plots=[log2, log2mean], chroms='all', region='', **fig_params)"
   ]
  },
  {
   "cell_type": "code",
   "execution_count": null,
   "metadata": {
    "ExecuteTime": {
     "end_time": "2020-12-15T17:07:24.424325Z",
     "start_time": "2020-12-15T17:07:24.058982Z"
    }
   },
   "outputs": [],
   "source": [
    "cnv_df, center_df, center_params = center_data(cluster_df)\n",
    "xcol = 'VAF'\n",
    "ycol = 'log2ratiomean'\n",
    "fig, ax = plot_gaussian(\n",
    "    center_df,\n",
    "    df2=cnv_df,\n",
    "    xcol=xcol, \n",
    "    ycol=ycol, \n",
    "    Nmax=4, \n",
    "    rings=8,\n",
    "    logmax=1.5,\n",
    "    alpha=.95, \n",
    "    std_factor=.5,\n",
    "    gauss_params=center_params\n",
    ")"
   ]
  },
  {
   "cell_type": "code",
   "execution_count": null,
   "metadata": {},
   "outputs": [],
   "source": [
    "\n"
   ]
  }
 ],
 "metadata": {
  "kernelspec": {
   "display_name": "Python 3",
   "language": "python",
   "name": "python3"
  },
  "language_info": {
   "codemirror_mode": {
    "name": "ipython",
    "version": 3
   },
   "file_extension": ".py",
   "mimetype": "text/x-python",
   "name": "python",
   "nbconvert_exporter": "python",
   "pygments_lexer": "ipython3",
   "version": "3.8.6"
  },
  "varInspector": {
   "cols": {
    "lenName": 16,
    "lenType": 16,
    "lenVar": 40
   },
   "kernels_config": {
    "python": {
     "delete_cmd_postfix": "",
     "delete_cmd_prefix": "del ",
     "library": "var_list.py",
     "varRefreshCmd": "print(var_dic_list())"
    },
    "r": {
     "delete_cmd_postfix": ") ",
     "delete_cmd_prefix": "rm(",
     "library": "var_list.r",
     "varRefreshCmd": "cat(var_dic_list()) "
    }
   },
   "types_to_exclude": [
    "module",
    "function",
    "builtin_function_or_method",
    "instance",
    "_Feature"
   ],
   "window_display": false
  }
 },
 "nbformat": 4,
 "nbformat_minor": 4
}
