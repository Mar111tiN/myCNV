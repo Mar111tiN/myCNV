{
 "cells": [
  {
   "cell_type": "code",
   "execution_count": null,
   "metadata": {
    "ExecuteTime": {
     "end_time": "2021-06-04T19:56:07.718422Z",
     "start_time": "2021-06-04T19:56:07.672297Z"
    }
   },
   "outputs": [],
   "source": [
    "# get the code\n",
    "import sys\n",
    "import os\n",
    "import re\n",
    "import matplotlib.pyplot as plt\n",
    "# use seaborn plotting defaults\n",
    "import seaborn as sns; sns.set()\n",
    "sys.path.append('../code')\n",
    "\n",
    "# import package functions\n",
    "from script_utils_CNV import get_CNVconfig, show_output\n",
    "from rollingCNV import interpolate, one_col_rolling, llh, rolling_data\n",
    "from rollingCov import rolling_coverage\n",
    "from combineCNV import filter_snp\n",
    "from plot import plot_cov, plot_snp\n",
    "\n",
    "######## need to find the chained assignment!!!\n",
    "pd.set_option('mode.chained_assignment', None)\n",
    "\n",
    "# HOME\n",
    "home = '/Users/mahtin'\n",
    "home = '/Users/martinscience'\n",
    "\n",
    "\n",
    "# standard paths\n",
    "static = os.path.join(home, \"Dropbox/Icke/Work/static\")\n",
    "tooldata = os.path.join(home, \"Dropbox/Icke/Work/somVar/tooldata\")\n",
    "testdata = os.path.join(home,\"Dropbox/Icke/Work/somVar/testdata\")\n",
    "PON_path = os.path.join(static, \"PON/HAEv7_hg38_NovaSeq\")\n",
    "\n",
    "\n",
    "cnvdata = os.path.join(tooldata, \"myCNVdata\")\n",
    "output_path = os.path.join(cnvdata, \"output\")\n",
    "plot_path = os.path.join(cnvdata, \"plot\")\n",
    "fig_path = os.path.join(cnvdata, \"figures\")"
   ]
  },
  {
   "cell_type": "markdown",
   "metadata": {},
   "source": [
    "### get the config\n",
    "+ use the get_CNVconfig util function to update the general configs with the appropriate paths"
   ]
  },
  {
   "cell_type": "code",
   "execution_count": null,
   "metadata": {
    "ExecuteTime": {
     "end_time": "2021-06-04T19:56:08.877486Z",
     "start_time": "2021-06-04T19:56:08.868291Z"
    }
   },
   "outputs": [],
   "source": [
    "path_config = dict(\n",
    "        mawk_path=\"../shell\",\n",
    "        cov_path=os.path.join(output_path, \"pile2CNV\"),   # path containing rawcov.gz files for this sample\n",
    "        snp_path=os.path.join(output_path, \"pile2CNV\"),   # path containing snp files for this sample\n",
    "        bed_file=os.path.join(static, \"bed_files/SureSelect/hg38/SS_HAEv7_hg38_Padded.bed\"),\n",
    "        genome_split_path=os.path.join(static, \"genome/gatk/hg38/split\"),\n",
    "        gc_split_path=os.path.join(static, \"genome/gatk/hg38/split\"),\n",
    "        genmap_split_path=os.path.join(static, \"annotation/genmap/hg38/split\"),\n",
    "        PON_path = PON_path,\n",
    "    )\n",
    "CNVconfig = get_CNVconfig(\n",
    "    \"../config/config_CNV.yaml\", \n",
    "    local_config=path_config)"
   ]
  },
  {
   "cell_type": "markdown",
   "metadata": {},
   "source": [
    "### load cnv data"
   ]
  },
  {
   "cell_type": "code",
   "execution_count": null,
   "metadata": {
    "ExecuteTime": {
     "end_time": "2021-06-04T19:56:13.634256Z",
     "start_time": "2021-06-04T19:56:10.234435Z"
    }
   },
   "outputs": [],
   "source": [
    "sample = \"03_A-B\"\n",
    "cnv_df = pd.read_csv(os.path.join(output_path, f\"CNV/{sample}.cnv.snp.gz\"), sep=\"\\t\", compression=\"gzip\")\n",
    "cnv_full_df = pd.read_csv(os.path.join(output_path, f\"CNV/{sample}.cnv.full.gz\"), sep=\"\\t\", compression=\"gzip\")"
   ]
  },
  {
   "cell_type": "code",
   "execution_count": null,
   "metadata": {
    "ExecuteTime": {
     "end_time": "2021-06-04T19:56:13.708896Z",
     "start_time": "2021-06-04T19:56:13.663579Z"
    }
   },
   "outputs": [],
   "source": [
    "cnv_df"
   ]
  },
  {
   "cell_type": "code",
   "execution_count": null,
   "metadata": {
    "ExecuteTime": {
     "end_time": "2021-06-04T19:56:40.527574Z",
     "start_time": "2021-06-04T19:56:40.521489Z"
    }
   },
   "outputs": [],
   "source": [
    "def make_SNP_plot(sample, cnv_df):\n",
    "\n",
    "    df = cnv_df.loc[:, [c for c in cnv_df.columns if c.startswith(\"VAF\")]]\n",
    "    fig, ax = plt.subplots(figsize=(10, 10))\n",
    "    _ = ax.scatter(df['VAF1'], df['VAF2'], s=0.25, alpha=0.4)\n",
    "    _ = ax.set_xlabel(\"NVAF\", fontsize=20)\n",
    "    _ = ax.set_ylabel(\"TVAF\", fontsize=20)\n",
    "    \n",
    "    # calculate offRate\n",
    "    df0 = df[(df > 0.1).any(axis=1)]\n",
    "    n = len(df0.index)\n",
    "    df1 = df0[np.abs(df0[\"VAF1\"] - df0[\"VAF2\"]) > 0.25]\n",
    "    m = len(df1.index)\n",
    "    off_ratio = m / n * 100\n",
    "    _ = ax.set_title(\n",
    "        f\"{sample} |  Tumor vs Normal - offRate {round(off_ratio, 1)}\", fontsize=30\n",
    "    )\n",
    "    return fig, off_ratio"
   ]
  },
  {
   "cell_type": "code",
   "execution_count": null,
   "metadata": {
    "ExecuteTime": {
     "end_time": "2021-06-04T19:56:41.181808Z",
     "start_time": "2021-06-04T19:56:40.972748Z"
    }
   },
   "outputs": [],
   "source": [
    "_ = make_SNP_plot(sample, cnv_df)"
   ]
  },
  {
   "cell_type": "code",
   "execution_count": null,
   "metadata": {
    "ExecuteTime": {
     "end_time": "2021-06-04T19:57:14.034179Z",
     "start_time": "2021-06-04T19:57:14.005512Z"
    }
   },
   "outputs": [],
   "source": [
    "cnv_df"
   ]
  },
  {
   "cell_type": "code",
   "execution_count": null,
   "metadata": {
    "ExecuteTime": {
     "end_time": "2021-06-04T20:32:47.388653Z",
     "start_time": "2021-06-04T20:32:47.379771Z"
    }
   },
   "outputs": [],
   "source": [
    "def write_ASCAT(cnv_df, sample=\"\", outpath=\"\"):\n",
    "    '''\n",
    "    for a sample XX_A-B it writes into outpath/XX/:\n",
    "    XX_baf_normal.tsv\n",
    "    XX_baf_tumor.tsv \n",
    "    XX_logr_normal.tsv\n",
    "    XX_logr_tumor.tsv\n",
    "    \n",
    "    sample comes in shape sample_tumor-normal\n",
    "    '''\n",
    "    s = sample.split(\"_\")\n",
    "    sample_name = s[0]\n",
    "    tumor_name = s[1].split(\"-\")[0]\n",
    "    normal_name = s[1].split(\"-\")[1]\n",
    "    \n",
    "    base_file = os.path.join(outpath, f\"{sample_name}/{sample_name}\")\n",
    "    \n",
    "    cnv_df.loc[:, 'Chr'] = cnv_df['Chr'].str.replace(\"chr\", \"\")\n",
    "    # VAF\n",
    "    vaf_cols = [col for col in cnv_df.columns if col.startswith(\"VAF\")]\n",
    "    \n",
    "    normal_cols = {'Chr':\"chrs\", 'Pos':\"pos\", vaf_cols[0]:sample_name}\n",
    "    normal_baf_file = f\"{base_file}_baf_normal.tsv\"\n",
    "    cnv_df.loc[:, normal_cols.keys()].rename(normal_cols, axis=1).to_csv(normal_baf_file, sep=\"\\t\")\n",
    "    \n",
    "    tumor_cols = {'Chr':\"chrs\", 'Pos':\"pos\", vaf_cols[1]:sample_name}\n",
    "    tumor_baf_file = f\"{base_file}_baf_tumor.tsv\"\n",
    "    cnv_df.loc[:, tumor_cols.keys()].rename(tumor_cols, axis=1).to_csv(tumor_baf_file, sep=\"\\t\")\n",
    "\n",
    "    # loglratio\n",
    "    log2_pat = re.compile(r\"log2ratio[0-9]+_mean$\")\n",
    "    log_cols = [col for col in cnv_df.columns if re.match(log2_pat, col)]\n",
    "    \n",
    "    normal_cols = {'Chr':\"chrs\", 'Pos':\"pos\", log_cols[0]:sample_name}\n",
    "    normal_log_file = f\"{base_file}_logr_normal.tsv\"\n",
    "    cnv_df.loc[:, normal_cols.keys()].rename(normal_cols, axis=1).to_csv(normal_log_file, sep=\"\\t\")\n",
    "    \n",
    "    tumor_cols = {'Chr':\"chrs\", 'Pos':\"pos\", log_cols[1]:sample_name}\n",
    "    tumor_log_file = f\"{base_file}_logr_tumor.tsv\"\n",
    "    cnv_df.loc[:, tumor_cols.keys()].rename(tumor_cols, axis=1).to_csv(tumor_log_file, sep=\"\\t\")\n",
    "    show_output(f\"ASCAT output written to {base_file}_[baf/logr]_[tumor|normal].tsv\", color=\"success\")\n",
    "    return cnv_df"
   ]
  },
  {
   "cell_type": "code",
   "execution_count": null,
   "metadata": {
    "ExecuteTime": {
     "end_time": "2021-06-04T20:32:48.412066Z",
     "start_time": "2021-06-04T20:32:48.103240Z"
    }
   },
   "outputs": [],
   "source": [
    "_ = write_ASCAT(cnv_df, sample=\"03_A-B\", outpath=os.path.join(output_path, \"CNV/ASCAT\"))"
   ]
  },
  {
   "cell_type": "code",
   "execution_count": null,
   "metadata": {},
   "outputs": [],
   "source": []
  },
  {
   "cell_type": "code",
   "execution_count": null,
   "metadata": {},
   "outputs": [],
   "source": []
  },
  {
   "cell_type": "code",
   "execution_count": null,
   "metadata": {
    "ExecuteTime": {
     "end_time": "2021-06-04T11:27:28.649074Z",
     "start_time": "2021-06-04T11:27:26.921273Z"
    }
   },
   "outputs": [],
   "source": [
    "\n",
    "snp_df = pd.read_csv(os.path.join(output_path, f\"snp/{sample}.snp.gz\"), sep=\"\\t\", compression=\"gzip\")\n",
    "\n",
    "fig_params = dict(\n",
    "    figsize=(32,3),\n",
    "    colormap='coolwarm_r',\n",
    "    color_chroms=True,\n",
    "    ylim=(-0,1),\n",
    "    label_size=13\n",
    ")\n",
    "\n",
    "vaf = dict(\n",
    "        title='VAF',\n",
    "        plot_type='scatter',  # ['line', 'scatter']\n",
    "        data='VAF2',\n",
    "        plot_args=dict(\n",
    "            s=2,\n",
    "            color='black',\n",
    "            cmap='viridis',\n",
    "            alpha=1\n",
    "        )\n",
    "    )\n",
    "chroms = ['chr3', 'chr4', 'chr5', 'chr6','chr7', 'chr9', 'chr12', 'chr17']\n",
    "r1 = 'chr17:3Mb-9Mb'\n",
    "\n",
    "r20 = 'chr20:20.7Mb-34.5Mb'\n",
    "r7 = 'chr7:95.8Mb-111Mb'\n",
    "r17 = 'chr17:18.2Mb-25Mb'\n",
    "fig, _, _, _ = plot_snp(snp_df, plots=[vaf], chroms=\"all\", region='', **fig_params)\n",
    "fig, _, df20, _ = plot_snp(snp_df, plots=[vaf], chroms=\"all\", region=r20, **fig_params)\n",
    "fig, _, df7, _ = plot_snp(snp_df, plots=[vaf], chroms=\"all\", region=r7, **fig_params)\n",
    "fig, _, df17, _ = plot_snp(snp_df, plots=[vaf], chroms=\"all\", region=r17, **fig_params)\n",
    "#fig, ax, df, chrom_df"
   ]
  },
  {
   "cell_type": "markdown",
   "metadata": {},
   "source": [
    "# run the code"
   ]
  },
  {
   "cell_type": "code",
   "execution_count": null,
   "metadata": {
    "ExecuteTime": {
     "end_time": "2021-06-04T11:29:45.284524Z",
     "start_time": "2021-06-04T11:28:54.566984Z"
    }
   },
   "outputs": [],
   "source": [
    "#### load coverage data\n",
    "from rollingSNP import rolling_snp, remergeCNV\n",
    "roll_cov_df = pd.read_csv(os.path.join(output_path, f\"cov/{sample}.roll.cov.gz\"), sep=\"\\t\", compression=\"gzip\")\n",
    "rsnp_df = rolling_snp(snp_df, roll_cov_df, config=CNVconfig)\n",
    "\n",
    "# visualize\n",
    "fig, _, _, _ = plot_snp(rsnp_df.query('SNPdensity<0.01'), plots=[vaf], chroms=\"all\", region='', **fig_params)\n",
    "fig, _, _, _ = plot_snp(rsnp_df, plots=[vaf], chroms=\"all\", region=r20, **fig_params)\n",
    "fig, _, _, _ = plot_snp(rsnp_df, plots=[vaf], chroms=\"all\", region=r7, **fig_params)\n",
    "fig, _, _, _ = plot_snp(rsnp_df, plots=[vaf], chroms=\"all\", region=r17, **fig_params)\n",
    "cnv_df = remergeCNV(rsnp_df, roll_cov_df)"
   ]
  }
 ],
 "metadata": {
  "kernelspec": {
   "display_name": "Python 3",
   "language": "python",
   "name": "python3"
  },
  "language_info": {
   "codemirror_mode": {
    "name": "ipython",
    "version": 3
   },
   "file_extension": ".py",
   "mimetype": "text/x-python",
   "name": "python",
   "nbconvert_exporter": "python",
   "pygments_lexer": "ipython3",
   "version": "3.8.6"
  },
  "varInspector": {
   "cols": {
    "lenName": 16,
    "lenType": 16,
    "lenVar": 40
   },
   "kernels_config": {
    "python": {
     "delete_cmd_postfix": "",
     "delete_cmd_prefix": "del ",
     "library": "var_list.py",
     "varRefreshCmd": "print(var_dic_list())"
    },
    "r": {
     "delete_cmd_postfix": ") ",
     "delete_cmd_prefix": "rm(",
     "library": "var_list.r",
     "varRefreshCmd": "cat(var_dic_list()) "
    }
   },
   "types_to_exclude": [
    "module",
    "function",
    "builtin_function_or_method",
    "instance",
    "_Feature"
   ],
   "window_display": false
  }
 },
 "nbformat": 4,
 "nbformat_minor": 4
}
