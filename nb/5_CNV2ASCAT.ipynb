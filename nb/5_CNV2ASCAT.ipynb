{
 "cells": [
  {
   "cell_type": "code",
   "execution_count": null,
   "metadata": {
    "ExecuteTime": {
     "end_time": "2021-06-04T19:56:07.718422Z",
     "start_time": "2021-06-04T19:56:07.672297Z"
    }
   },
   "outputs": [],
   "source": [
    "# get the code\n",
    "import sys\n",
    "import os\n",
    "import re\n",
    "import matplotlib.pyplot as plt\n",
    "# use seaborn plotting defaults\n",
    "import seaborn as sns; sns.set()\n",
    "sys.path.append('../code')\n",
    "\n",
    "# import package functions\n",
    "from script_utils_CNV import get_CNVconfig, show_output\n",
    "\n",
    "######## need to find the chained assignment!!!\n",
    "pd.set_option('mode.chained_assignment', None)\n",
    "\n",
    "# HOME\n",
    "home = '/Users/mahtin'\n",
    "home = '/Users/martinscience'\n",
    "\n",
    "\n",
    "# standard paths\n",
    "static = os.path.join(home, \"Dropbox/Icke/Work/static\")\n",
    "tooldata = os.path.join(home, \"Dropbox/Icke/Work/somVar/tooldata\")\n",
    "testdata = os.path.join(home,\"Dropbox/Icke/Work/somVar/testdata\")\n",
    "PON_path = os.path.join(static, \"PON/HAEv7_hg38_NovaSeq\")\n",
    "\n",
    "\n",
    "cnvdata = os.path.join(tooldata, \"myCNVdata\")\n",
    "output_path = os.path.join(cnvdata, \"output\")\n",
    "plot_path = os.path.join(cnvdata, \"plot\")\n",
    "fig_path = os.path.join(cnvdata, \"figures\")"
   ]
  },
  {
   "cell_type": "markdown",
   "metadata": {},
   "source": [
    "### get the config\n",
    "+ use the get_CNVconfig util function to update the general configs with the appropriate paths"
   ]
  },
  {
   "cell_type": "code",
   "execution_count": null,
   "metadata": {
    "ExecuteTime": {
     "end_time": "2021-06-04T19:56:08.877486Z",
     "start_time": "2021-06-04T19:56:08.868291Z"
    }
   },
   "outputs": [],
   "source": [
    "path_config = dict(\n",
    "        mawk_path=\"../shell\",\n",
    "        cov_path=os.path.join(output_path, \"pile2CNV\"),   # path containing rawcov.gz files for this sample\n",
    "        snp_path=os.path.join(output_path, \"pile2CNV\"),   # path containing snp files for this sample\n",
    "        bed_file=os.path.join(static, \"bed_files/SureSelect/hg38/SS_HAEv7_hg38_Padded.bed\"),\n",
    "        genome_split_path=os.path.join(static, \"genome/gatk/hg38/split\"),\n",
    "        gc_split_path=os.path.join(static, \"genome/gatk/hg38/split\"),\n",
    "        genmap_split_path=os.path.join(static, \"annotation/genmap/hg38/split\"),\n",
    "        PON_path = PON_path,\n",
    "    )\n",
    "CNVconfig = get_CNVconfig(\n",
    "    \"../config/config_CNV.yaml\", \n",
    "    local_config=path_config)"
   ]
  },
  {
   "cell_type": "markdown",
   "metadata": {},
   "source": [
    "### load cnv data"
   ]
  },
  {
   "cell_type": "code",
   "execution_count": null,
   "metadata": {
    "ExecuteTime": {
     "end_time": "2021-06-04T19:56:13.634256Z",
     "start_time": "2021-06-04T19:56:10.234435Z"
    }
   },
   "outputs": [],
   "source": [
    "sample = \"03_A-B\"\n",
    "cnv_df = pd.read_csv(os.path.join(output_path, f\"CNV/{sample}.cnv.snp.gz\"), sep=\"\\t\", compression=\"gzip\")\n",
    "cnv_df"
   ]
  },
  {
   "cell_type": "code",
   "execution_count": null,
   "metadata": {
    "ExecuteTime": {
     "end_time": "2021-06-04T20:32:47.388653Z",
     "start_time": "2021-06-04T20:32:47.379771Z"
    }
   },
   "outputs": [],
   "source": [
    "def write_ASCAT(cnv_df, sample=\"\", outpath=\"\"):\n",
    "    '''\n",
    "    for a sample XX_A-B it writes into outpath/XX/:\n",
    "    XX_baf_normal.tsv\n",
    "    XX_baf_tumor.tsv \n",
    "    XX_logr_normal.tsv\n",
    "    XX_logr_tumor.tsv\n",
    "    \n",
    "    sample comes in shape sample_tumor-normal\n",
    "    '''\n",
    "    s = sample.split(\"_\")\n",
    "    sample_name = s[0]\n",
    "    tumor_name = s[1].split(\"-\")[0]\n",
    "    normal_name = s[1].split(\"-\")[1]\n",
    "    \n",
    "    base_file = os.path.join(outpath, f\"{sample_name}/{sample}\")\n",
    "    \n",
    "    cnv_df.loc[:, 'Chr'] = cnv_df['Chr'].str.replace(\"chr\", \"\")\n",
    "    # VAF\n",
    "    vaf_cols = [col for col in cnv_df.columns if col.startswith(\"VAF\")]\n",
    "    \n",
    "    normal_cols = {'Chr':\"chrs\", 'Pos':\"pos\", vaf_cols[0]:sample_name}\n",
    "    normal_baf_file = f\"{base_file}_baf_normal.tsv\"\n",
    "    cnv_df.loc[:, normal_cols.keys()].rename(normal_cols, axis=1).to_csv(normal_baf_file, sep=\"\\t\")\n",
    "    \n",
    "    tumor_cols = {'Chr':\"chrs\", 'Pos':\"pos\", vaf_cols[1]:sample_name}\n",
    "    tumor_baf_file = f\"{base_file}_baf_tumor.tsv\"\n",
    "    cnv_df.loc[:, tumor_cols.keys()].rename(tumor_cols, axis=1).to_csv(tumor_baf_file, sep=\"\\t\")\n",
    "\n",
    "    # loglratio\n",
    "    log2_pat = re.compile(r\"log2ratio[0-9]+_mean$\")\n",
    "    log_cols = [col for col in cnv_df.columns if re.match(log2_pat, col)]\n",
    "    \n",
    "    normal_cols = {'Chr':\"chrs\", 'Pos':\"pos\", log_cols[0]:sample_name}\n",
    "    normal_log_file = f\"{base_file}_logr_normal.tsv\"\n",
    "    cnv_df.loc[:, normal_cols.keys()].rename(normal_cols, axis=1).to_csv(normal_log_file, sep=\"\\t\")\n",
    "    \n",
    "    tumor_cols = {'Chr':\"chrs\", 'Pos':\"pos\", log_cols[1]:sample_name}\n",
    "    tumor_log_file = f\"{base_file}_logr_tumor.tsv\"\n",
    "    cnv_df.loc[:, tumor_cols.keys()].rename(tumor_cols, axis=1).to_csv(tumor_log_file, sep=\"\\t\")\n",
    "    show_output(f\"ASCAT output written to {base_file}_[baf/logr]_[tumor|normal].tsv\", color=\"success\")\n",
    "    return cnv_df"
   ]
  },
  {
   "cell_type": "code",
   "execution_count": null,
   "metadata": {
    "ExecuteTime": {
     "end_time": "2021-06-04T20:32:48.412066Z",
     "start_time": "2021-06-04T20:32:48.103240Z"
    }
   },
   "outputs": [],
   "source": [
    "_ = write_ASCAT(cnv_df, sample=\"03_A-B\", outpath=os.path.join(output_path, \"CNV/ASCAT\"))"
   ]
  }
 ],
 "metadata": {
  "kernelspec": {
   "display_name": "Python 3",
   "language": "python",
   "name": "python3"
  },
  "language_info": {
   "codemirror_mode": {
    "name": "ipython",
    "version": 3
   },
   "file_extension": ".py",
   "mimetype": "text/x-python",
   "name": "python",
   "nbconvert_exporter": "python",
   "pygments_lexer": "ipython3",
   "version": "3.8.5"
  },
  "varInspector": {
   "cols": {
    "lenName": 16,
    "lenType": 16,
    "lenVar": 40
   },
   "kernels_config": {
    "python": {
     "delete_cmd_postfix": "",
     "delete_cmd_prefix": "del ",
     "library": "var_list.py",
     "varRefreshCmd": "print(var_dic_list())"
    },
    "r": {
     "delete_cmd_postfix": ") ",
     "delete_cmd_prefix": "rm(",
     "library": "var_list.r",
     "varRefreshCmd": "cat(var_dic_list()) "
    }
   },
   "types_to_exclude": [
    "module",
    "function",
    "builtin_function_or_method",
    "instance",
    "_Feature"
   ],
   "window_display": false
  }
 },
 "nbformat": 4,
 "nbformat_minor": 4
}
