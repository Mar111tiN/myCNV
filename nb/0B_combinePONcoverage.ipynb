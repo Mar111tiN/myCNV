{
 "cells": [
  {
   "cell_type": "markdown",
   "metadata": {},
   "source": [
    "# combining individual coverage data into a mean-normalized coverage\n",
    "+ mappability and GCratio is included for GC normalization and possible filtering\n",
    "+ mappability and GC will not be saved in output files*"
   ]
  },
  {
   "cell_type": "code",
   "execution_count": null,
   "metadata": {
    "ExecuteTime": {
     "end_time": "2021-05-31T06:10:25.698626Z",
     "start_time": "2021-05-31T06:10:25.653079Z"
    }
   },
   "outputs": [],
   "source": [
    "# get the code\n",
    "import sys\n",
    "import os\n",
    "sys.path.append('../code')\n",
    "\n",
    "# import package functions\n",
    "from script_utils_CNV import get_CNVconfig, show_output, cmd2df\n",
    "from CNV_raw import addGCratio, addGenmap, PON2CNV\n",
    "\n",
    "# HOME\n",
    "home = '/Users/mahtin'\n",
    "home = '/Users/martinscience'\n",
    "\n",
    "# standard paths\n",
    "static = os.path.join(home, \"Dropbox/Icke/Work/static\")\n",
    "tooldata = os.path.join(home, \"Dropbox/Icke/Work/somVar/tooldata\")\n",
    "testdata = os.path.join(home,\"Dropbox/Icke/Work/somVar/testdata\")\n",
    "PON_path = os.path.join(static, \"PON/HAEv7_hg38_NovaSeq\")\n",
    " \n",
    "cnvdata = os.path.join(tooldata, \"myCNVdata\")\n",
    "output_path = os.path.join(cnvdata, \"output\")\n",
    "\n",
    "# the path to the input data\n",
    "cnv_path = os.path.join(cnvdata, \"cnv\")"
   ]
  },
  {
   "cell_type": "markdown",
   "metadata": {},
   "source": [
    "### get the config"
   ]
  },
  {
   "cell_type": "code",
   "execution_count": null,
   "metadata": {
    "ExecuteTime": {
     "end_time": "2021-05-31T06:10:26.439303Z",
     "start_time": "2021-05-31T06:10:26.430278Z"
    }
   },
   "outputs": [],
   "source": [
    "CNVconfig = get_CNVconfig(\n",
    "    \"../config/config_CNV.yaml\", \n",
    "    local_config=dict(\n",
    "        mawk_path=\"../shell\",\n",
    "        bed_file=os.path.join(static, \"bed_files/SureSelect/hg38/SS_HAEv7_hg38_Padded.bed\"),\n",
    "        gc_split_path=os.path.join(static, \"genome/gatk/hg38/split\"),\n",
    "        PON_path = PON_path,\n",
    "        genmap_split_path=os.path.join(static, \"annotation/genmap/hg38/split\")\n",
    "    ))\n",
    "CNVconfig"
   ]
  },
  {
   "cell_type": "markdown",
   "metadata": {},
   "source": [
    "## Run the code"
   ]
  },
  {
   "cell_type": "code",
   "execution_count": null,
   "metadata": {
    "ExecuteTime": {
     "end_time": "2021-05-31T06:19:03.669162Z",
     "start_time": "2021-05-31T06:10:31.376129Z"
    }
   },
   "outputs": [],
   "source": [
    "from combineCNV import make_PON_coverage\n",
    "cov_df, filter_df = make_PON_coverage(config=CNVconfig)"
   ]
  },
  {
   "cell_type": "code",
   "execution_count": null,
   "metadata": {
    "ExecuteTime": {
     "end_time": "2021-05-31T06:33:18.923485Z",
     "start_time": "2021-05-31T06:19:09.363692Z"
    }
   },
   "outputs": [],
   "source": [
    "# save\n",
    "filter_df.to_csv(os.path.join(PON_path, \"pon.filter.gz\"), sep=\"\\t\", index=False, compression=\"gzip\")\n",
    "cov_df.to_csv(os.path.join(PON_path, \"pon.full.gz\"), sep=\"\\t\", index=False, compression=\"gzip\")"
   ]
  },
  {
   "cell_type": "markdown",
   "metadata": {},
   "source": [
    "## Step by step"
   ]
  },
  {
   "cell_type": "markdown",
   "metadata": {},
   "source": [
    "### get all the normal samples from the PON list into df for normalization and averaging"
   ]
  },
  {
   "cell_type": "code",
   "execution_count": null,
   "metadata": {
    "ExecuteTime": {
     "end_time": "2021-05-31T06:03:10.506756Z",
     "start_time": "2021-05-31T06:03:10.501008Z"
    }
   },
   "outputs": [],
   "source": [
    "def combine_PON_coverage(config={}):\n",
    "    '''\n",
    "    combine the PON coverages for all chroms\n",
    "    '''\n",
    "\n",
    "    # paths\n",
    "    pon_path = config['PON_path']\n",
    "\n",
    "    chrom_list = [f\"chr{c + 1}\" for c in range(22)] + ['chrX']\n",
    "    dfs = []\n",
    "    for chrom in chrom_list:\n",
    "        PON_cov_file = os.path.join(pon_path, f\"cov/{chrom}.cov.gz\")\n",
    "        if os.path.isfile(PON_cov_file):\n",
    "            show_output(f\"Loading coverage file {PON_cov_file}\")\n",
    "            cov_df = pd.read_csv(PON_cov_file, sep=\"\\t\", compression=\"gzip\")\n",
    "            dfs.append(cov_df)\n",
    "        else:\n",
    "            show_output(f\"Could not find PON coverage file {PON_cov_file}\")\n",
    "    cov_df = pd.concat(dfs).reset_index(drop=True)\n",
    "    # make chrom categorical\n",
    "    cov_df.loc[:, \"Chr\"] = pd.Categorical(cov_df['Chr'], chrom_list)\n",
    "    return cov_df"
   ]
  },
  {
   "cell_type": "code",
   "execution_count": null,
   "metadata": {
    "ExecuteTime": {
     "end_time": "2021-05-31T06:03:55.871139Z",
     "start_time": "2021-05-31T06:03:11.208774Z"
    }
   },
   "outputs": [],
   "source": [
    "cov_df = combine_PON_coverage(config=CNVconfig)\n",
    "cov_df"
   ]
  },
  {
   "cell_type": "markdown",
   "metadata": {},
   "source": [
    "## B) normalize GC ratio"
   ]
  },
  {
   "cell_type": "markdown",
   "metadata": {},
   "source": [
    "###  Visualize GC bias\n",
    "+ distribution of mean"
   ]
  },
  {
   "cell_type": "code",
   "execution_count": null,
   "metadata": {
    "ExecuteTime": {
     "end_time": "2021-05-31T06:04:18.671370Z",
     "start_time": "2021-05-31T06:04:18.665405Z"
    }
   },
   "outputs": [],
   "source": [
    "def make_GC_plot(cov_df, agg=\"mean\", max_plots=99):\n",
    "    '''\n",
    "    create GC plot for the coverages\n",
    "    '''\n",
    "    cov_cols = [col for col in cov_df.columns if col.startswith(\"Cov\")][:max_plots]\n",
    "    # create the agg dictionary\n",
    "    cov_agg = {col: agg for col in cov_cols}\n",
    "    # make the agg\n",
    "    df = cov_df.loc[cov_df[\"map50_0\"] > 0.5, :].loc[cov_df[\"map30_0\"] > 0.5, :].loc[cov_df[\"map75_1\"] > 0.5, :].groupby(\"GCratio\").agg(cov_agg)\n",
    "    fig, ax = plt.subplots(figsize=(10, 10))\n",
    "    for col in cov_cols:\n",
    "        _ = ax.plot(df.index, df[col], alpha=0.4)\n",
    "    return fig, ax"
   ]
  },
  {
   "cell_type": "code",
   "execution_count": null,
   "metadata": {
    "ExecuteTime": {
     "end_time": "2021-05-31T06:04:39.411381Z",
     "start_time": "2021-05-31T06:04:32.018263Z"
    }
   },
   "outputs": [],
   "source": [
    "from plot import make_GC_plot\n",
    "fig, _ = make_GC_plot(cov_df)\n",
    "fig.savefig(os.path.join(cnvdata, \"figures/GCPON.jpeg\"))"
   ]
  },
  {
   "cell_type": "markdown",
   "metadata": {},
   "source": [
    "### check size of the data\n",
    "+ seems to lack substantially compared to tumor matrix!"
   ]
  },
  {
   "cell_type": "code",
   "execution_count": null,
   "metadata": {
    "ExecuteTime": {
     "end_time": "2021-05-31T06:04:46.536535Z",
     "start_time": "2021-05-31T06:04:46.223014Z"
    }
   },
   "outputs": [],
   "source": [
    "cov_df.groupby(\"Chr\").agg({\"Cov1\": \"mean\", \"Cov2\": \"mean\", \"Pos\":['count', 'min', 'max']}).sort_values(\"Chr\")"
   ]
  },
  {
   "cell_type": "markdown",
   "metadata": {},
   "source": [
    "### normalize the coverage to 100"
   ]
  },
  {
   "cell_type": "code",
   "execution_count": null,
   "metadata": {
    "ExecuteTime": {
     "end_time": "2021-05-31T06:06:35.183492Z",
     "start_time": "2021-05-31T06:06:35.178848Z"
    }
   },
   "outputs": [],
   "source": [
    "def normalize_GC_col(cov_df, col):\n",
    "    '''\n",
    "    normalizes one coverage column for GC ratio\n",
    "    '''\n",
    "    # compute the normalizer df\n",
    "    # for each GCratio, norm_df has the difference of the respective mean from arbitrary norm coverage 100\n",
    "    # remove chrX for the normalization or male genomes will have slightly greater mean\n",
    "    norm_df = (100 / cov_df.query('Chr != \"chrX\"').groupby(\"GCratio\").agg({col: 'mean'})).reset_index().rename({col: \"factor\"}, axis=1)\n",
    "\n",
    "    # merge to get the factor\n",
    "    cov_df = cov_df.merge(norm_df)\n",
    "    # adjust coverage using the factor from norm_df\n",
    "    cov_df[col] = cov_df[col] * cov_df['factor']\n",
    "    # remove factor\n",
    "    cov_df = cov_df.drop(\"factor\", axis=1)\n",
    "    return cov_df\n",
    "\n",
    "\n",
    "def normalize_GC(cov_df):\n",
    "    '''\n",
    "    normalize GC for an entire tumor_normal sample\n",
    "    '''\n",
    "    for col in cov_df.columns:\n",
    "        if col.startswith(\"Cov\"):\n",
    "            show_output(f\"Normalizing GC ratio for {col}.\")\n",
    "            cov_df = normalize_GC_col(cov_df, col)\n",
    "    cov_df = cov_df.reset_index(drop=True).sort_values(['Chr', 'Pos'])\n",
    "    return cov_df"
   ]
  },
  {
   "cell_type": "markdown",
   "metadata": {},
   "source": [
    "### visualize normalization"
   ]
  },
  {
   "cell_type": "code",
   "execution_count": null,
   "metadata": {
    "ExecuteTime": {
     "start_time": "2021-05-31T06:06:37.362Z"
    }
   },
   "outputs": [],
   "source": [
    "norm_cov_df = normalize_GC(cov_df)\n",
    "del cov_df\n",
    "fig, _ = make_GC_plot(norm_cov_df)\n",
    "# fig.savefig(os.path.join(cnvdata, \"figures/GCPON_normalized.jpeg\"))\n",
    "norm_cov_df"
   ]
  },
  {
   "cell_type": "markdown",
   "metadata": {},
   "source": [
    "## raise X-coverage for male samples\n",
    "+ consense X coverage is required"
   ]
  },
  {
   "cell_type": "code",
   "execution_count": null,
   "metadata": {
    "ExecuteTime": {
     "end_time": "2021-05-30T19:29:02.850055Z",
     "start_time": "2021-05-30T19:29:01.926281Z"
    }
   },
   "outputs": [],
   "source": [
    "norm_cov_df.groupby(\"Chr\").agg(cov_agg).loc[\"chrX\"]"
   ]
  },
  {
   "cell_type": "code",
   "execution_count": null,
   "metadata": {
    "ExecuteTime": {
     "start_time": "2021-05-31T06:07:26.678Z"
    }
   },
   "outputs": [],
   "source": [
    "def amazonize(cov_df):\n",
    "    '''\n",
    "    detect male samples via below-threshold X-chrom coverage\n",
    "    coverage on chrX is doubled in these samples\n",
    "    '''\n",
    "\n",
    "    # get coverage cols\n",
    "    cov_cols = [col for col in cov_df.columns if col.startswith(\"Cov\")]\n",
    "    # create the agg dictionary\n",
    "    cov_agg = {col: \"mean\" for col in cov_cols}\n",
    "    # compute x_coverage for all samples using agg dictionary\n",
    "    X_coverage = cov_df.query('Chr == \"chrX\"').agg(cov_agg)\n",
    "    # filter out the male samples\n",
    "    male_cols = [col for col in cov_cols if X_coverage[col] < 75]\n",
    "    # adjust the coverage for male samples\n",
    "    cov_df.loc[cov_df['Chr'] == \"chrX\", male_cols] = cov_df[male_cols] * 2\n",
    "    return cov_df"
   ]
  },
  {
   "cell_type": "code",
   "execution_count": null,
   "metadata": {
    "ExecuteTime": {
     "end_time": "2021-05-30T19:36:00.607854Z",
     "start_time": "2021-05-30T19:35:59.499722Z"
    }
   },
   "outputs": [],
   "source": [
    "normX_df = amazonize(norm_cov_df)\n",
    "del norm_cov_df\n",
    "normX_df.groupby(\"Chr\").agg(cov_agg).loc[\"chrX\"]"
   ]
  },
  {
   "cell_type": "code",
   "execution_count": null,
   "metadata": {
    "ExecuteTime": {
     "end_time": "2021-05-31T04:26:50.116278Z",
     "start_time": "2021-05-31T04:25:31.865711Z"
    }
   },
   "outputs": [],
   "source": [
    "normX_df"
   ]
  },
  {
   "cell_type": "markdown",
   "metadata": {},
   "source": [
    "## compute the mean of all the coverages"
   ]
  },
  {
   "cell_type": "code",
   "execution_count": null,
   "metadata": {
    "ExecuteTime": {
     "start_time": "2021-05-31T06:08:09.550Z"
    }
   },
   "outputs": [],
   "source": [
    "def compute_stats(df):\n",
    "    '''\n",
    "    get statistics\n",
    "    '''\n",
    "    # remove all pre-existing stats\n",
    "    df = df.drop([col for col in df.columns if col.startswith(\"PONcov\")], axis=1)\n",
    "    # set index for all non-coverage columns\n",
    "    index_cols = [col for col in df.columns if not col.startswith(\"Cov\")]\n",
    "    cov_df = df.drop(index_cols, axis=1)\n",
    "    df['PONcov_mean'] = cov_df.mean(axis=1)\n",
    "    df['PONcov_median'] = cov_df.median(axis=1)\n",
    "    df['PONcov_std'] = cov_df.std(axis=1)\n",
    "    return df"
   ]
  },
  {
   "cell_type": "code",
   "execution_count": null,
   "metadata": {},
   "outputs": [],
   "source": [
    "mean_df = compute_stats(normX_df)\n",
    "del normX_df\n",
    "mean_df"
   ]
  },
  {
   "cell_type": "markdown",
   "metadata": {},
   "source": [
    "### filter the coverage\n",
    "+ for filtering all outliers are removed that stray from the local mean above max_mean_std\n",
    "+ other filtering steps per position should be done afterwards during rolling window stuff:\n",
    "+ `filter_df = df.query('meanCov > @mincov and std < @max_mean_std')`\n"
   ]
  },
  {
   "cell_type": "code",
   "execution_count": null,
   "metadata": {
    "ExecuteTime": {
     "end_time": "2021-05-31T04:29:45.427060Z",
     "start_time": "2021-05-31T04:29:45.312405Z"
    }
   },
   "outputs": [],
   "source": [
    "mean_df['PONcov_std'].max()\n",
    "mean_df['PONcov_std'].mean()"
   ]
  },
  {
   "cell_type": "markdown",
   "metadata": {},
   "source": [
    "### remove outliers in order to reduce noise"
   ]
  },
  {
   "cell_type": "code",
   "execution_count": null,
   "metadata": {
    "ExecuteTime": {
     "end_time": "2021-05-31T04:50:43.686499Z",
     "start_time": "2021-05-31T04:50:43.683347Z"
    }
   },
   "outputs": [],
   "source": [
    "def remove_outliers(df, std_factor=2.5):\n",
    "    '''\n",
    "    cycle through all sample cols, remove outliers with difference to PONcov greater than std_factor * std\n",
    "    '''\n",
    "    for col in [col for col in df.columns if col.startswith(\"Cov\")]:\n",
    "        df.loc[np.abs(df['PONcov_mean'] - df[col]) / df['PONcov_std'] > std_factor, col] = np.nan\n",
    "    return df"
   ]
  },
  {
   "cell_type": "code",
   "execution_count": null,
   "metadata": {
    "ExecuteTime": {
     "end_time": "2021-05-31T04:30:40.164281Z",
     "start_time": "2021-05-31T04:29:49.843313Z"
    }
   },
   "outputs": [],
   "source": [
    "filter_df = compute_stats(remove_outliers(mean_df, std_factor=2))\n",
    "del mean_df\n",
    "filter_df"
   ]
  },
  {
   "cell_type": "code",
   "execution_count": null,
   "metadata": {
    "ExecuteTime": {
     "end_time": "2021-05-31T04:33:24.630973Z",
     "start_time": "2021-05-31T04:33:24.529117Z"
    }
   },
   "outputs": [],
   "source": [
    "filter_df['PONcov_std'].max()\n",
    "filter_df['PONcov_std'].mean()"
   ]
  },
  {
   "cell_type": "markdown",
   "metadata": {},
   "source": [
    "### the master function"
   ]
  },
  {
   "cell_type": "code",
   "execution_count": null,
   "metadata": {
    "ExecuteTime": {
     "end_time": "2021-05-31T05:06:55.097618Z",
     "start_time": "2021-05-31T05:06:55.084466Z"
    }
   },
   "outputs": [],
   "source": [
    "def make_PON_coverage(config={\n",
    "    'PONcoverage': {\n",
    "        'stdFactor': 2.5  # only exonPositions straighing within std_factor * std around meanCoverage are kept\n",
    "    },\n",
    "    'PON_path': '.',  # path to the PON folder\n",
    "}):\n",
    "    '''\n",
    "\n",
    "    '''\n",
    "    # load all sample coverages for one chromosome\n",
    "    cov_df = combine_PON_coverage(config=config)\n",
    "    # make chrom categorical\n",
    "    chrom_list = [f\"chr{i}\" for i in range(1, 23)] + [\"chrX\"]\n",
    "    cov_df.loc[:, \"Chr\"] = pd.Categorical(cov_df['Chr'], chrom_list)\n",
    "\n",
    "    # normalize and add mean values and std\n",
    "    show_output(\"Normalizing coverage and removing GC dependencies for PON coverage.\")\n",
    "    cov_df = normalize_GC(cov_df)\n",
    "\n",
    "    show_output(\"Lifting X-coverages for male samples to XX coverage.\")\n",
    "    cov_df = amazonize(cov_df)\n",
    "\n",
    "    show_output(\"Computing stats.\")\n",
    "    cov_df = compute_stats(cov_df)\n",
    "\n",
    "    std_factor = config['PONcoverage']['stdFactor']\n",
    "    show_output(\"Remove outliers and recompute stats.\")\n",
    "    filter_df = remove_outliers(cov_df, std_factor=std_factor)\n",
    "\n",
    "    # save and adjust the output columns\n",
    "    base_cols = ['Chr', 'Pos', 'ExonPos']\n",
    "    # map_cols = [col for col in cov_df.columns if col.startswith(\"map\")]\n",
    "    cov_cols = [col for col in cov_df.columns if col.startswith(\"Cov\")]\n",
    "    stat_cols = [col for col in cov_df.columns if col.startswith(\"PONcov\")]\n",
    "\n",
    "    cov_df = cov_df.loc[:, base_cols + cov_cols + stat_cols]\n",
    "    filter_df = filter_df.loc[:, base_cols + stat_cols]\n",
    "\n",
    "    return cov_df, filter_df"
   ]
  },
  {
   "cell_type": "code",
   "execution_count": null,
   "metadata": {
    "ExecuteTime": {
     "end_time": "2021-05-31T05:13:06.905710Z",
     "start_time": "2021-05-31T05:06:56.147309Z"
    }
   },
   "outputs": [],
   "source": [
    "cov_df, filter_df = make_PON_coverage(config=CNVconfig)\n",
    "filter_df[:10]"
   ]
  }
 ],
 "metadata": {
  "kernelspec": {
   "display_name": "Python 3",
   "language": "python",
   "name": "python3"
  },
  "language_info": {
   "codemirror_mode": {
    "name": "ipython",
    "version": 3
   },
   "file_extension": ".py",
   "mimetype": "text/x-python",
   "name": "python",
   "nbconvert_exporter": "python",
   "pygments_lexer": "ipython3",
   "version": "3.8.6"
  },
  "varInspector": {
   "cols": {
    "lenName": 16,
    "lenType": 16,
    "lenVar": 40
   },
   "kernels_config": {
    "python": {
     "delete_cmd_postfix": "",
     "delete_cmd_prefix": "del ",
     "library": "var_list.py",
     "varRefreshCmd": "print(var_dic_list())"
    },
    "r": {
     "delete_cmd_postfix": ") ",
     "delete_cmd_prefix": "rm(",
     "library": "var_list.r",
     "varRefreshCmd": "cat(var_dic_list()) "
    }
   },
   "types_to_exclude": [
    "module",
    "function",
    "builtin_function_or_method",
    "instance",
    "_Feature"
   ],
   "window_display": false
  }
 },
 "nbformat": 4,
 "nbformat_minor": 4
}
