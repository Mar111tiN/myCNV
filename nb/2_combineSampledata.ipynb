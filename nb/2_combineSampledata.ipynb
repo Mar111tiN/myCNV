{
 "cells": [
  {
   "cell_type": "markdown",
   "metadata": {},
   "source": [
    "# adding GC data, combine the chroms and add the PON coverage for log2ratio"
   ]
  },
  {
   "cell_type": "code",
   "execution_count": null,
   "metadata": {
    "ExecuteTime": {
     "end_time": "2021-05-31T06:51:23.788066Z",
     "start_time": "2021-05-31T06:51:23.783084Z"
    }
   },
   "outputs": [],
   "source": [
    "# get the code\n",
    "import sys\n",
    "import os\n",
    "import matplotlib.pyplot as plt\n",
    "sys.path.append('../code')\n",
    "\n",
    "# import package functions\n",
    "from script_utils_CNV import get_CNVconfig, show_output\n",
    "\n",
    "# HOME\n",
    "home = '/Users/mahtin'\n",
    "# home = '/Users/martinscience'\n",
    "\n",
    "# standard paths\n",
    "static = os.path.join(home, \"Dropbox/Icke/Work/static\")\n",
    "tooldata = os.path.join(home, \"Dropbox/Icke/Work/somVar/tooldata\")\n",
    "testdata = os.path.join(home,\"Dropbox/Icke/Work/somVar/testdata\")\n",
    "PON_path = os.path.join(static, \"PON/HAEv7_hg38_NovaSeq\")\n",
    " \n",
    "cnvdata = os.path.join(tooldata, \"myCNVdata\")\n",
    "output_path = os.path.join(cnvdata, \"output\")\n",
    "\n",
    "# the path to the input data\n",
    "cnv_path = os.path.join(cnvdata, \"cnv\")"
   ]
  },
  {
   "cell_type": "markdown",
   "metadata": {},
   "source": [
    "### get the config\n",
    "+ use the get_CNVconfig util function to update the general configs with the appropriate paths"
   ]
  },
  {
   "cell_type": "code",
   "execution_count": null,
   "metadata": {
    "ExecuteTime": {
     "end_time": "2021-05-31T06:51:24.589538Z",
     "start_time": "2021-05-31T06:51:24.584292Z"
    }
   },
   "outputs": [],
   "source": [
    "CNVconfig = get_CNVconfig(\n",
    "    \"../config/config_CNV.yaml\", \n",
    "    local_config=dict(\n",
    "        mawk_path=\"../shell\",\n",
    "        bed_file=os.path.join(static, \"bed_files/SureSelect/hg38/SS_HAEv7_hg38_Padded.bed\"),\n",
    "        genome_split_path=os.path.join(static, \"genome/gatk/hg38/split\"),\n",
    "        gc_split_path=os.path.join(static, \"genome/gatk/hg38/split\"),\n",
    "        genmap_split_path=os.path.join(static, \"annotation/genmap/hg38/split\"),\n",
    "        pon_path=PON_path\n",
    "    ))"
   ]
  },
  {
   "cell_type": "markdown",
   "metadata": {},
   "source": [
    "## A) get coverge for all chroms and concat\n"
   ]
  },
  {
   "cell_type": "code",
   "execution_count": null,
   "metadata": {
    "ExecuteTime": {
     "end_time": "2021-05-31T06:51:25.501854Z",
     "start_time": "2021-05-31T06:51:25.496727Z"
    }
   },
   "outputs": [],
   "source": [
    "def combine_coverage(sample, \n",
    "                     coverage_path=\"\",  # path containing rawcov.gz files for this sample\n",
    "                     config={}\n",
    "    ):\n",
    "    '''\n",
    "    combine the coverages for all chroms and add the GC ratio\n",
    "    '''\n",
    "    \n",
    "    dfs = []\n",
    "    chrom_list = [f\"chr{c + 1}\" for c in range(22)] + ['chrX']\n",
    "    for chrom in chrom_list:\n",
    "        cov_file = os.path.join(coverage_path, f\"{sample}.{chrom}.rawcov.gz\")\n",
    "        show_output(f\"Loading coverage file {cov_file}\")\n",
    "        cov_df = pd.read_csv(cov_file, sep=\"\\t\", compression=\"gzip\")\n",
    "        dfs.append(cov_df)\n",
    "    cov_df = pd.concat(dfs).reset_index(drop=True)\n",
    "    # make chrom categorical\n",
    "    cov_df.loc[:, \"Chr\"] = pd.Categorical(cov_df['Chr'], chrom_list)\n",
    "    return cov_df"
   ]
  },
  {
   "cell_type": "code",
   "execution_count": null,
   "metadata": {
    "ExecuteTime": {
     "end_time": "2021-05-31T06:51:35.328481Z",
     "start_time": "2021-05-31T06:51:26.100623Z"
    }
   },
   "outputs": [],
   "source": [
    "sample=\"03_A-B\"\n",
    "cov_df = combine_coverage(\n",
    "    sample, \n",
    "    coverage_path=os.path.join(output_path, \"pile2CNV\"),\n",
    "    config=CNVconfig\n",
    ")\n",
    "cov_df"
   ]
  },
  {
   "cell_type": "markdown",
   "metadata": {},
   "source": [
    "### look at general stats"
   ]
  },
  {
   "cell_type": "code",
   "execution_count": null,
   "metadata": {
    "ExecuteTime": {
     "end_time": "2021-05-31T06:51:35.731160Z",
     "start_time": "2021-05-31T06:51:35.457293Z"
    }
   },
   "outputs": [],
   "source": [
    "cov_df.groupby(\"Chr\").agg({\"Cov1\": \"mean\", \"Cov2\": \"mean\", \"Pos\":['count', 'min', 'max']}).sort_values(\"Chr\")"
   ]
  },
  {
   "cell_type": "markdown",
   "metadata": {},
   "source": [
    "## B) normalize GC ratio"
   ]
  },
  {
   "cell_type": "markdown",
   "metadata": {},
   "source": [
    "###  Visualize GC bias"
   ]
  },
  {
   "cell_type": "code",
   "execution_count": null,
   "metadata": {
    "ExecuteTime": {
     "end_time": "2021-05-31T06:51:37.660054Z",
     "start_time": "2021-05-31T06:51:35.860327Z"
    }
   },
   "outputs": [],
   "source": [
    "from plot import make_GC_plot\n",
    "fig, _ = make_GC_plot(cov_df, sample=sample)\n",
    "# fig.savefig(os.path.join(cnvdata, \"figures/GCPON.jpeg\"))"
   ]
  },
  {
   "cell_type": "code",
   "execution_count": null,
   "metadata": {
    "ExecuteTime": {
     "end_time": "2021-05-31T06:51:54.607941Z",
     "start_time": "2021-05-31T06:51:37.813587Z"
    }
   },
   "outputs": [],
   "source": [
    "from combineCNV import normalize_GC  # see notebook \"combinePONcoverage\"\n",
    "norm_cov_df = normalize_GC(cov_df)\n",
    "del cov_df\n",
    "fig, _ = make_GC_plot(norm_cov_df)"
   ]
  },
  {
   "cell_type": "markdown",
   "metadata": {},
   "source": [
    "## C) coverage: merge sample coverage with Pon coverage"
   ]
  },
  {
   "cell_type": "code",
   "execution_count": null,
   "metadata": {
    "ExecuteTime": {
     "end_time": "2021-05-31T06:52:04.458586Z",
     "start_time": "2021-05-31T06:51:54.744053Z"
    }
   },
   "outputs": [],
   "source": [
    "pon_df = pd.read_csv(os.path.join(CNVconfig['pon_path'], \"pon.filter.gz\"), sep=\"\\t\", compression=\"gzip\")\n",
    "pon_df"
   ]
  },
  {
   "cell_type": "code",
   "execution_count": null,
   "metadata": {
    "ExecuteTime": {
     "end_time": "2021-05-31T06:52:04.636230Z",
     "start_time": "2021-05-31T06:52:04.631154Z"
    }
   },
   "outputs": [],
   "source": [
    "def get_full_exon_pos(df, pon_df):\n",
    "    '''\n",
    "    adds the accumulated exonic position (over all chroms from PON data) to coverage df\n",
    "    '''\n",
    "    \n",
    "    # create chrom_df from pon_df\n",
    "    chrom_df = pon_df.groupby(\"Chr\").agg(dict(ExonPos=[\"min\",\"max\"]))[\"ExonPos\"]\n",
    "    chrom_df['chrAdd'] = chrom_df['max'].cumsum().shift(fill_value=0)\n",
    "    chrom_df = chrom_df.loc[:, 'chrAdd'].reset_index()\n",
    "    \n",
    "    # merge with chrom_df\n",
    "    df = df.merge(chrom_df)\n",
    "    \n",
    "    # get FullExonPos from ExonPos and chrAdd\n",
    "    df.loc[:, 'FullExonPos'] = df['ExonPos'] + df['chrAdd']\n",
    "    \n",
    "    # save the output columns\n",
    "    base_cols = ['Chr', 'Pos', 'ExonPos', 'FullExonPos', 'GCratio']\n",
    "    map_cols = [col for col in df.columns if col.startswith(\"map\")]\n",
    "    cov_cols = [col for col in df.columns if col.startswith(\"Cov\")]\n",
    "    out_cols = base_cols + map_cols + cov_cols\n",
    "    \n",
    "    # adds the last ExonPos of chrom to start of next chromosome\n",
    "    return df.loc[:, out_cols]"
   ]
  },
  {
   "cell_type": "code",
   "execution_count": null,
   "metadata": {
    "ExecuteTime": {
     "end_time": "2021-05-31T06:52:09.765110Z",
     "start_time": "2021-05-31T06:52:05.787502Z"
    }
   },
   "outputs": [],
   "source": [
    "norm_full_cov_df = get_full_exon_pos(norm_cov_df, pon_df)\n",
    "del norm_cov_df\n",
    "norm_full_cov_df"
   ]
  },
  {
   "cell_type": "code",
   "execution_count": null,
   "metadata": {
    "ExecuteTime": {
     "end_time": "2021-05-31T06:52:13.077658Z",
     "start_time": "2021-05-31T06:52:13.067181Z"
    }
   },
   "outputs": [],
   "source": [
    "pon_df[:13]"
   ]
  },
  {
   "cell_type": "code",
   "execution_count": null,
   "metadata": {
    "ExecuteTime": {
     "end_time": "2021-05-31T06:52:24.929261Z",
     "start_time": "2021-05-31T06:52:16.518541Z"
    }
   },
   "outputs": [],
   "source": [
    "merge_df = norm_full_cov_df.merge(pon_df)\n",
    "del norm_full_cov_df\n",
    "merge_df"
   ]
  },
  {
   "cell_type": "code",
   "execution_count": null,
   "metadata": {
    "ExecuteTime": {
     "end_time": "2021-05-31T07:12:47.355533Z",
     "start_time": "2021-05-31T07:12:47.321658Z"
    }
   },
   "outputs": [],
   "source": [
    "merge_df"
   ]
  },
  {
   "cell_type": "code",
   "execution_count": null,
   "metadata": {
    "ExecuteTime": {
     "end_time": "2021-05-31T07:24:07.423569Z",
     "start_time": "2021-05-31T07:24:07.419184Z"
    }
   },
   "outputs": [],
   "source": [
    "def log2ratio(df, cov_col, pon_cov_col='PONcov_mean'):\n",
    "    '''\n",
    "    add log2ratio (log2(COV/PONCOV) to coverage data\n",
    "    '''\n",
    "    \n",
    "    # mask rows where logging does not compute\n",
    "    loggable = df[cov_col] * df['PONcov_mean'] != 0\n",
    "    # apply the log\n",
    "    log_col = cov_col.replace(\"Cov\", \"log2ratio\")\n",
    "    df.loc[loggable, log_col] = np.log2(df.loc[loggable, cov_col] / df.loc[loggable, pon_cov_col])\n",
    "    # get col index of cov_col for inserting log_col\n",
    "    insert_index = df.columns.get_loc(cov_col) + 1\n",
    "    cols = list(df.columns)\n",
    "    out_cols = cols[:insert_index] + [log_col] + cols[insert_index:]\n",
    "    return df.loc[:, out_cols]"
   ]
  },
  {
   "cell_type": "code",
   "execution_count": null,
   "metadata": {
    "ExecuteTime": {
     "end_time": "2021-05-31T07:26:26.800321Z",
     "start_time": "2021-05-31T07:26:22.338609Z"
    }
   },
   "outputs": [],
   "source": [
    "for col in merge_df.columns:\n",
    "    if col.startswith(\"Cov\"):     \n",
    "        merge_df = log2ratio(merge_df, col)\n",
    "merge_df"
   ]
  },
  {
   "cell_type": "code",
   "execution_count": null,
   "metadata": {},
   "outputs": [],
   "source": []
  },
  {
   "cell_type": "code",
   "execution_count": null,
   "metadata": {},
   "outputs": [],
   "source": [
    "def include_PONcov(cov_df, PON_cov_path=\"\", config={}):\n",
    "    '''\n",
    "    adds the PON coverage per coverage_chrom_df\n",
    "    normalization is performed afterwards on combined df\n",
    "    '''\n",
    "    \n",
    "    # reading sampleCoverage\n",
    "    PON_cov_file = os.path.join(PON_cov_path, f\"{chrom}.filtered.csv.gz\")\n",
    "    # check file existence\n",
    "    if not os.path.isfile(PON_cov_file):\n",
    "        show_output(f\"PON coverage file {PON_cov_file} not found\", color=\"warning\")\n",
    "        return\n",
    "    if verbose:\n",
    "        print(f\"Reading PON coverage of {chrom} from {PON_cov_file}.\")\n",
    "        PON_df = pd.read_csv(PON_cov_file, sep='\\t', compression=\"gzip\").loc[:,['Chr', 'Pos', 'FullExonPos', 'ExonPos', 'meanCov', 'medianCov', 'std']]\n",
    "        \n",
    "        # column rename\n",
    "        trans_dict = {col:f\"PON{col}\" for col in PON_df.columns[4:]}\n",
    "        pon_df = pon_df.rename(columns=trans_dict)\n",
    "        # merge sample with PON coverage\n",
    "        sample_df = cov_df.merge(PON_df, on=['Chr', 'Pos', 'ExonPos'], how=\"outer\").loc[:,['Chr', 'Pos', 'FullExonPos', 'ExonPos', 'Coverage','PONmeanCov', 'PONmedianCov', 'PONstd']]\n",
    "        \n",
    "        ##### here recover missing FullExonPos from margin\n",
    "        # get \n",
    "        exon_start, full_start = sample_df.iloc[0][['ExonPos', 'FullExonPos']]\n",
    "        offset = full_start - exon_start\n",
    "        sample_df.loc[sample_df['FullExonPos'] != s ample_df['FullExonPos'], 'FullExonPos'] = sample_df['ExonPos'] + offset\n",
    "        sample_df.loc[:, 'FullExonPos'] = sample_df.loc[:, 'FullExonPos'].astype(int)\n",
    "        cover_dfs.append(sample_df)  \n",
    "    # combine chrom data\n",
    "    cover_df = pd.concat(cover_dfs)\n",
    "    \n",
    "    # normalize the coverage\n",
    "    cover_df['Coverage'] = cover_df['Coverage'].fillna(0)\n",
    "    mean_cov = sample_df['Coverage'].mean()\n",
    "    cover_df.loc[:, 'Coverage'] = (cover_df['Coverage'] / mean_cov * 100)\n",
    "    # loggable are the coverages, where log2ratio can be computed\n",
    "    loggable = (cover_df['PONmeanCov'] * cover_df['Coverage'] != 0)\n",
    "    cover_df.loc[loggable, 'log2ratio'] = np.log2(cover_df.loc[loggable, 'Coverage'] / cover_df.loc[loggable, 'PONmeanCov'])\n",
    "    # mark regions without PON coverage as 0\n",
    "    cover_df.loc[~loggable, 'log2ratio'] = np.nan\n",
    "    return cover_df"
   ]
  },
  {
   "cell_type": "markdown",
   "metadata": {},
   "source": [
    "### run the PON includer"
   ]
  },
  {
   "cell_type": "code",
   "execution_count": null,
   "metadata": {},
   "outputs": [],
   "source": [
    "CNVconfig = get_CNVconfig(\n",
    "    \"../config/config_CNV.yaml\", \n",
    "    local_config=dict(\n",
    "        mawk_path=\"../shell\",\n",
    "        bed_file=os.path.join(static, \"bed_files/SureSelect/hg38/SS_HAEv7_hg38_Padded.bed\"),\n",
    "        genome_split_path=os.path.join(static, \"genome/gatk/hg38/split\"),\n",
    "        pon_cov_path=os.path.join(cnvdata, \"chromCov\")\n",
    "    ))"
   ]
  }
 ],
 "metadata": {
  "kernelspec": {
   "display_name": "Python 3",
   "language": "python",
   "name": "python3"
  },
  "language_info": {
   "codemirror_mode": {
    "name": "ipython",
    "version": 3
   },
   "file_extension": ".py",
   "mimetype": "text/x-python",
   "name": "python",
   "nbconvert_exporter": "python",
   "pygments_lexer": "ipython3",
   "version": "3.8.6"
  },
  "varInspector": {
   "cols": {
    "lenName": 16,
    "lenType": 16,
    "lenVar": 40
   },
   "kernels_config": {
    "python": {
     "delete_cmd_postfix": "",
     "delete_cmd_prefix": "del ",
     "library": "var_list.py",
     "varRefreshCmd": "print(var_dic_list())"
    },
    "r": {
     "delete_cmd_postfix": ") ",
     "delete_cmd_prefix": "rm(",
     "library": "var_list.r",
     "varRefreshCmd": "cat(var_dic_list()) "
    }
   },
   "types_to_exclude": [
    "module",
    "function",
    "builtin_function_or_method",
    "instance",
    "_Feature"
   ],
   "window_display": false
  }
 },
 "nbformat": 4,
 "nbformat_minor": 4
}
