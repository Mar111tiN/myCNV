{
 "cells": [
  {
   "cell_type": "markdown",
   "metadata": {},
   "source": [
    "# adding GC data, combine the chroms and add the PON coverage for log2ratio"
   ]
  },
  {
   "cell_type": "code",
   "execution_count": null,
   "metadata": {
    "ExecuteTime": {
     "end_time": "2021-06-01T04:36:39.628897Z",
     "start_time": "2021-06-01T04:36:39.601677Z"
    }
   },
   "outputs": [],
   "source": [
    "# get the code\n",
    "import sys\n",
    "import os\n",
    "import matplotlib.pyplot as plt\n",
    "sys.path.append('../code')\n",
    "\n",
    "# import package functions\n",
    "from script_utils_CNV import get_CNVconfig, show_output\n",
    "\n",
    "# HOME\n",
    "home = '/Users/mahtin'\n",
    "home = '/Users/martinscience'\n",
    "\n",
    "# standard paths\n",
    "static = os.path.join(home, \"Dropbox/Icke/Work/static\")\n",
    "tooldata = os.path.join(home, \"Dropbox/Icke/Work/somVar/tooldata\")\n",
    "testdata = os.path.join(home,\"Dropbox/Icke/Work/somVar/testdata\")\n",
    "PON_path = os.path.join(static, \"PON/HAEv7_hg38_NovaSeq\")\n",
    " \n",
    "cnvdata = os.path.join(tooldata, \"myCNVdata\")\n",
    "output_path = os.path.join(cnvdata, \"output\")\n",
    "\n",
    "# the path to the input data\n",
    "cnv_path = os.path.join(cnvdata, \"cnv\")"
   ]
  },
  {
   "cell_type": "markdown",
   "metadata": {},
   "source": [
    "### get the config\n",
    "+ use the get_CNVconfig util function to update the general configs with the appropriate paths"
   ]
  },
  {
   "cell_type": "code",
   "execution_count": null,
   "metadata": {
    "ExecuteTime": {
     "end_time": "2021-06-01T04:53:55.723014Z",
     "start_time": "2021-06-01T04:53:55.715210Z"
    }
   },
   "outputs": [],
   "source": [
    "CNVconfig = get_CNVconfig(\n",
    "    \"../config/config_CNV.yaml\", \n",
    "    local_config=dict(\n",
    "        mawk_path=\"../shell\",\n",
    "        cov_path=os.path.join(output_path, \"pile2CNV\"),   # path containing rawcov.gz files for this sample\n",
    "        snp_path=os.path.join(output_path, \"pile2CNV\"),   # path containing snp files for this sample\n",
    "        bed_file=os.path.join(static, \"bed_files/SureSelect/hg38/SS_HAEv7_hg38_Padded.bed\"),\n",
    "        genome_split_path=os.path.join(static, \"genome/gatk/hg38/split\"),\n",
    "        gc_split_path=os.path.join(static, \"genome/gatk/hg38/split\"),\n",
    "        genmap_split_path=os.path.join(static, \"annotation/genmap/hg38/split\"),\n",
    "        PON_path = PON_path,\n",
    "    ))\n",
    "CNVconfig"
   ]
  },
  {
   "cell_type": "markdown",
   "metadata": {},
   "source": [
    "## run the code"
   ]
  },
  {
   "cell_type": "code",
   "execution_count": null,
   "metadata": {
    "ExecuteTime": {
     "start_time": "2021-06-01T04:36:27.413Z"
    }
   },
   "outputs": [],
   "source": [
    "from combineCNV import combine_sample_CNV\n",
    "sample=\"03_A-B\"\n",
    "\n",
    "cov_df, snp_df = combine_sample_CNV(sample, config=CNVconfig)\n",
    "cov_df.to_csv(os.path.join(output_path, f\"cov/{sample}.cov.gz\"), sep=\"\\t\", index=False, compression=\"gzip\")\n",
    "snp_df.to_csv(os.path.join(output_path, f\"snp/{sample}.snp.gz\"), sep=\"\\t\", index=False, compression=\"gzip\")"
   ]
  },
  {
   "cell_type": "markdown",
   "metadata": {},
   "source": [
    "### rerun without GC norm\n"
   ]
  },
  {
   "cell_type": "code",
   "execution_count": null,
   "metadata": {
    "ExecuteTime": {
     "end_time": "2021-06-01T04:59:45.541993Z",
     "start_time": "2021-06-01T04:55:00.502295Z"
    }
   },
   "outputs": [],
   "source": [
    "CNVconfig['coverage']['GCnormalize'] = False\n",
    "cov_df, snp_df = combine_sample_CNV(sample, config=CNVconfig)\n",
    "cov_df.to_csv(os.path.join(output_path, f\"cov/{sample}.noGC.cov.gz\"), sep=\"\\t\", index=False, compression=\"gzip\")"
   ]
  },
  {
   "cell_type": "markdown",
   "metadata": {},
   "source": [
    "## Step by step"
   ]
  },
  {
   "cell_type": "markdown",
   "metadata": {},
   "source": [
    "### A) get coverge for all chroms and concat"
   ]
  },
  {
   "cell_type": "code",
   "execution_count": null,
   "metadata": {
    "ExecuteTime": {
     "end_time": "2021-06-01T04:36:42.949745Z",
     "start_time": "2021-06-01T04:36:42.944106Z"
    }
   },
   "outputs": [],
   "source": [
    "def combine_chrom_cnv(sample, \n",
    "                     config={}\n",
    "    ):\n",
    "    '''\n",
    "    combine the coverages for all chroms and add the GC ratio\n",
    "    '''\n",
    "    \n",
    "    cov_dfs = []\n",
    "    snp_dfs = []\n",
    "    chrom_list = [f\"chr{c + 1}\" for c in range(22)] + ['chrX']\n",
    "    for chrom in chrom_list:\n",
    "        cov_file = os.path.join(config['cov_path'], f\"{sample}.{chrom}.cov.gz\")\n",
    "        snp_file = os.path.join(config['snp_path'], f\"{sample}.{chrom}.snp\")\n",
    "        show_output(f\"Loading coverage file {cov_file}\")\n",
    "        cov_df = pd.read_csv(cov_file, sep=\"\\t\", compression=\"gzip\")\n",
    "        show_output(f\"Loading snp file {snp_file}\")\n",
    "        snp_df = pd.read_csv(snp_file, sep=\"\\t\")\n",
    "        cov_dfs.append(cov_df)\n",
    "        snp_dfs.append(snp_df)\n",
    "    cov_df = pd.concat(cov_dfs).reset_index(drop=True)\n",
    "    snp_df = pd.concat(snp_dfs).reset_index(drop=True)\n",
    "    # make chrom categorical\n",
    "    cov_df.loc[:, \"Chr\"] = pd.Categorical(cov_df['Chr'], chrom_list)\n",
    "    snp_df.loc[:, \"Chr\"] = pd.Categorical(snp_df['Chr'], chrom_list)\n",
    "    return cov_df, snp_df"
   ]
  },
  {
   "cell_type": "code",
   "execution_count": null,
   "metadata": {
    "ExecuteTime": {
     "end_time": "2021-06-01T04:36:52.951568Z",
     "start_time": "2021-06-01T04:36:43.412996Z"
    }
   },
   "outputs": [],
   "source": [
    "sample=\"03_A-B\"\n",
    "cov_df, snp_df = combine_chrom_cnv(\n",
    "    sample, \n",
    "    config=CNVconfig\n",
    ")\n",
    "# look at general stats\n",
    "cov_df.groupby(\"Chr\").agg({\"Cov1\": \"mean\", \"Cov2\": \"mean\", \"Pos\":['count', 'min', 'max']}).sort_values(\"Chr\")"
   ]
  },
  {
   "cell_type": "code",
   "execution_count": null,
   "metadata": {
    "ExecuteTime": {
     "end_time": "2021-06-01T04:36:53.191661Z",
     "start_time": "2021-06-01T04:36:53.172561Z"
    }
   },
   "outputs": [],
   "source": [
    "snp_df"
   ]
  },
  {
   "cell_type": "markdown",
   "metadata": {},
   "source": [
    "## B) normalize GC ratio"
   ]
  },
  {
   "cell_type": "markdown",
   "metadata": {},
   "source": [
    "###  Visualize GC bias"
   ]
  },
  {
   "cell_type": "code",
   "execution_count": null,
   "metadata": {
    "ExecuteTime": {
     "end_time": "2021-06-01T04:36:55.140907Z",
     "start_time": "2021-06-01T04:36:53.419983Z"
    }
   },
   "outputs": [],
   "source": [
    "from plot import make_GC_plot\n",
    "fig, _ = make_GC_plot(cov_df, sample=sample)\n",
    "fig.savefig(os.path.join(cnvdata, \"figures/GC_03_A-B.jpeg\"))"
   ]
  },
  {
   "cell_type": "markdown",
   "metadata": {},
   "source": [
    "### normalize to 100"
   ]
  },
  {
   "cell_type": "code",
   "execution_count": null,
   "metadata": {
    "ExecuteTime": {
     "end_time": "2021-06-01T04:37:30.475618Z",
     "start_time": "2021-06-01T04:37:12.002016Z"
    }
   },
   "outputs": [],
   "source": [
    "from combineCNV import normalize_GC, normalize  # see notebook \"combinePONcoverage\"\n",
    "normGC_cov_df = normalize_GC(cov_df)\n",
    "norm_cov_df = normalize(cov_df)\n",
    "del cov_df\n",
    "fig, _ = make_GC_plot(normGC_cov_df, sample=sample)\n",
    "fig.savefig(os.path.join(cnvdata, \"figures/GC_03_GCnorm.jpeg\"))\n",
    "fig, _ = make_GC_plot(norm_cov_df, sample=sample)\n",
    "fig.savefig(os.path.join(cnvdata, \"figures/GC_03_norm.jpeg\"))"
   ]
  },
  {
   "cell_type": "markdown",
   "metadata": {},
   "source": [
    "## C) coverage: merge sample coverage with Pon coverage"
   ]
  },
  {
   "cell_type": "code",
   "execution_count": null,
   "metadata": {
    "ExecuteTime": {
     "end_time": "2021-05-31T14:48:14.211193Z",
     "start_time": "2021-05-31T14:48:04.483757Z"
    }
   },
   "outputs": [],
   "source": [
    "pon_cov_df = pd.read_csv(os.path.join(CNVconfig['PON_path'], \"pon.cov.filter.gz\"), sep=\"\\t\", compression=\"gzip\")\n",
    "pon_cov_df"
   ]
  },
  {
   "cell_type": "code",
   "execution_count": null,
   "metadata": {
    "ExecuteTime": {
     "end_time": "2021-06-01T04:54:48.215194Z",
     "start_time": "2021-06-01T04:54:48.204754Z"
    }
   },
   "outputs": [],
   "source": [
    "def get_full_exon_pos(*dfs, pon_cov_df):\n",
    "    '''\n",
    "    adds the accumulated exonic position (over all chroms from PON data) to coverage df\n",
    "    '''\n",
    "    \n",
    "    # create chrom_df from pon_df\n",
    "    chrom_df = pon_cov_df.groupby(\"Chr\").agg(dict(ExonPos=[\"min\",\"max\"]))[\"ExonPos\"]\n",
    "    chrom_df['chrAdd'] = chrom_df['max'].cumsum().shift(fill_value=0)\n",
    "    chrom_df = chrom_df.loc[:, 'chrAdd'].reset_index()\n",
    "    \n",
    "    full_dfs = []\n",
    "    for df in dfs:\n",
    "        # merge with chrom_df\n",
    "        df = df.merge(chrom_df)  \n",
    "        # get FullExonPos from ExonPos and chrAdd\n",
    "        df.loc[:, 'FullExonPos'] = df['ExonPos'] + df['chrAdd']\n",
    "    \n",
    "        # get col index of \"ExonPos\" for adjacent inserting of \"FullExonPos\" \n",
    "        insert_index = df.columns.get_loc(\"ExonPos\") + 1\n",
    "        cols = list(df.columns)\n",
    "        out_cols = cols[:insert_index] + [\"FullExonPos\"] + cols[insert_index:-2]\n",
    "        full_dfs.append(df.loc[:, out_cols])\n",
    "    return full_dfs"
   ]
  },
  {
   "cell_type": "code",
   "execution_count": null,
   "metadata": {
    "ExecuteTime": {
     "end_time": "2021-05-31T14:48:18.841954Z",
     "start_time": "2021-05-31T14:48:14.388085Z"
    }
   },
   "outputs": [],
   "source": [
    "full_cov_df, full_snp_df = get_full_exon_pos(norm_cov_df, snp_df, pon_cov_df=pon_cov_df)\n",
    "del norm_cov_df\n",
    "del snp_df\n",
    "full_cov_df"
   ]
  },
  {
   "cell_type": "code",
   "execution_count": null,
   "metadata": {
    "ExecuteTime": {
     "end_time": "2021-05-31T14:51:49.636863Z",
     "start_time": "2021-05-31T14:51:40.580486Z"
    }
   },
   "outputs": [],
   "source": [
    "merge_cov_df = full_cov_df.merge(pon_df)\n",
    "del full_cov_df\n",
    "del pon_df\n",
    "merge_cov_df"
   ]
  },
  {
   "cell_type": "code",
   "execution_count": null,
   "metadata": {
    "ExecuteTime": {
     "end_time": "2021-06-01T04:54:50.795104Z",
     "start_time": "2021-06-01T04:54:50.790467Z"
    }
   },
   "outputs": [],
   "source": [
    "def log2ratio(df, cov_col, pon_cov_col='PONcov_mean'):\n",
    "    '''\n",
    "    add log2ratio (log2(COV/PONCOV) to coverage data\n",
    "    '''\n",
    "    # get the incoming columns\n",
    "    cols = list(df.columns)\n",
    "    # mask rows where logging does not compute\n",
    "    loggable = df[cov_col] * df['PONcov_mean'] != 0\n",
    "    # apply the log\n",
    "    log_col = cov_col.replace(\"Cov\", \"log2ratio\")\n",
    "    df.loc[loggable, log_col] = np.log2(df.loc[loggable, cov_col] / df.loc[loggable, pon_cov_col])\n",
    "    # get col index of cov_col for inserting log_col\n",
    "    insert_index = df.columns.get_loc(cov_col) + 1\n",
    "    out_cols = cols[:insert_index] + [log_col] + cols[insert_index:]\n",
    "    return df.loc[:, out_cols]"
   ]
  },
  {
   "cell_type": "code",
   "execution_count": null,
   "metadata": {
    "ExecuteTime": {
     "end_time": "2021-05-31T14:51:56.612892Z",
     "start_time": "2021-05-31T14:51:49.886531Z"
    }
   },
   "outputs": [],
   "source": [
    "for col in merge_cov_df.columns:\n",
    "    if col.startswith(\"Cov\"):     \n",
    "        merge_cov_df = log2ratio(merge_cov_df, col)\n",
    "merge_cov_df"
   ]
  },
  {
   "cell_type": "markdown",
   "metadata": {},
   "source": [
    "### merge snp with PON snp"
   ]
  },
  {
   "cell_type": "code",
   "execution_count": null,
   "metadata": {
    "ExecuteTime": {
     "end_time": "2021-05-31T15:12:42.146897Z",
     "start_time": "2021-05-31T15:12:41.962203Z"
    }
   },
   "outputs": [],
   "source": [
    "pon_snp_df = pd.read_csv(os.path.join(CNVconfig['PON_path'], \"pon.snp.gz\"), sep=\"\\t\", compression=\"gzip\")\n",
    "pon_snp_df"
   ]
  },
  {
   "cell_type": "code",
   "execution_count": null,
   "metadata": {
    "ExecuteTime": {
     "end_time": "2021-05-31T15:12:44.685837Z",
     "start_time": "2021-05-31T15:12:44.513793Z"
    }
   },
   "outputs": [],
   "source": [
    "full_snp_df.merge(pon_snp_df, how=\"left\")"
   ]
  },
  {
   "cell_type": "code",
   "execution_count": null,
   "metadata": {
    "ExecuteTime": {
     "end_time": "2021-06-01T04:54:54.640285Z",
     "start_time": "2021-06-01T04:54:54.632498Z"
    }
   },
   "outputs": [],
   "source": [
    "def combine_sample_CNV(sample, config={}):\n",
    "    '''\n",
    "    combined snp and cov sample data\n",
    "    adds FullExonPos to both files\n",
    "\n",
    "    COV:\n",
    "        performs GC normalization\n",
    "        adds the PON coverage and computes log2ratio coverage\n",
    "    SNP:\n",
    "        adds PON VAF to sample SNP data for filtering\n",
    "\n",
    "    '''\n",
    "\n",
    "    # ## LOAD\n",
    "    show_output(f\"Loading data for sample {sample}\")\n",
    "    # combine chrom SNP and COV data for that sample\n",
    "    cov_df, snp_df = combine_chrom_cnv(sample, config=config)\n",
    "    show_output(\"Finished\", color=\"success\")\n",
    "\n",
    "    # ## NORMALIZE\n",
    "    # get config\n",
    "    if (config['coverage']['GCnormalize']):\n",
    "        show_output(\"Normalizing coverage using GCratio segmentation\")\n",
    "        cov_df = normalize_GC(cov_df)\n",
    "        # use GC PON\n",
    "        PON_cov_file = os.path.join(config['PON_path'], \"CNV/pon.cov.filterGC.gz\")\n",
    "    else:\n",
    "        cov_df = normalize(cov_df)\n",
    "        # use nonGC PON\n",
    "        PON_cov_file = os.path.join(config['PON_path'], \"CNV/pon.cov.filter.gz\")\n",
    "\n",
    "    # ## INCLUDE PON\n",
    "    if os.path.isfile(PON_cov_file):\n",
    "        show_output(f\"Loading PON coverage from {PON_cov_file}\")\n",
    "        pon_cov_df = pon_cov_df = pd.read_csv(PON_cov_file, sep=\"\\t\", compression=\"gzip\")\n",
    "    else:\n",
    "        show_output(f\"PON coverage file {PON_cov_file} not found!\", color=\"warning\")\n",
    "        return\n",
    "\n",
    "    show_output(\"Adding FullExonPos from PON coverage to coverage and snp data.\")\n",
    "    cov_df, snp_df = get_full_exon_pos(cov_df, snp_df, pon_cov_df=pon_cov_df)\n",
    "    show_output(\"Merging coverage with PON coverage and performing log2ratio computation.\")\n",
    "    cov_df = cov_df.merge(pon_cov_df)\n",
    "\n",
    "    del pon_cov_df\n",
    "    for col in cov_df.columns:\n",
    "        if col.startswith(\"Cov\"):     \n",
    "            cov_df = log2ratio(cov_df, col)\n",
    "    show_output(\"log2ratio computation finished.\", color=\"success\")\n",
    "\n",
    "    # PON snp\n",
    "    PON_snp_file = os.path.join(config['PON_path'], \"CNV/pon.snp.gz\")\n",
    "    if os.path.isfile(PON_snp_file):\n",
    "        show_output(f\"Loading PON SNP from {PON_cov_file} and merging into sample SNP data.\")\n",
    "        pon_snp_df = pon_snp_df = pd.read_csv(PON_snp_file, sep=\"\\t\", compression=\"gzip\")\n",
    "    else:\n",
    "        show_output(f\"PON snp file {PON_snp_file} not found!\", color=\"warning\")\n",
    "        return\n",
    "    snp_df = snp_df.merge(pon_snp_df, how=\"left\")\n",
    "    show_output(f\"Finished combining data for sample {sample}\")\n",
    "    return cov_df, snp_df"
   ]
  },
  {
   "cell_type": "code",
   "execution_count": null,
   "metadata": {
    "ExecuteTime": {
     "end_time": "2021-05-31T16:09:46.400426Z",
     "start_time": "2021-05-31T16:08:55.314861Z"
    }
   },
   "outputs": [],
   "source": [
    "cov_df, snp_df = combine_sample_CNV(\"03_A-B\", config=CNVconfig)\n",
    "cov_df"
   ]
  },
  {
   "cell_type": "code",
   "execution_count": null,
   "metadata": {
    "ExecuteTime": {
     "end_time": "2021-05-31T16:10:17.100812Z",
     "start_time": "2021-05-31T16:10:17.079068Z"
    }
   },
   "outputs": [],
   "source": [
    "snp_df"
   ]
  },
  {
   "cell_type": "markdown",
   "metadata": {},
   "source": [
    "### filter for thresholds"
   ]
  },
  {
   "cell_type": "code",
   "execution_count": null,
   "metadata": {},
   "outputs": [],
   "source": []
  }
 ],
 "metadata": {
  "kernelspec": {
   "display_name": "Python 3",
   "language": "python",
   "name": "python3"
  },
  "language_info": {
   "codemirror_mode": {
    "name": "ipython",
    "version": 3
   },
   "file_extension": ".py",
   "mimetype": "text/x-python",
   "name": "python",
   "nbconvert_exporter": "python",
   "pygments_lexer": "ipython3",
   "version": "3.8.6"
  },
  "varInspector": {
   "cols": {
    "lenName": 16,
    "lenType": 16,
    "lenVar": 40
   },
   "kernels_config": {
    "python": {
     "delete_cmd_postfix": "",
     "delete_cmd_prefix": "del ",
     "library": "var_list.py",
     "varRefreshCmd": "print(var_dic_list())"
    },
    "r": {
     "delete_cmd_postfix": ") ",
     "delete_cmd_prefix": "rm(",
     "library": "var_list.r",
     "varRefreshCmd": "cat(var_dic_list()) "
    }
   },
   "types_to_exclude": [
    "module",
    "function",
    "builtin_function_or_method",
    "instance",
    "_Feature"
   ],
   "window_display": false
  }
 },
 "nbformat": 4,
 "nbformat_minor": 4
}
