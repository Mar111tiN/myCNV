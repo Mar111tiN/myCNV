{
 "cells": [
  {
   "cell_type": "code",
   "execution_count": 3,
   "metadata": {
    "ExecuteTime": {
     "end_time": "2020-10-30T16:05:10.661103Z",
     "start_time": "2020-10-30T16:05:10.654692Z"
    }
   },
   "outputs": [],
   "source": [
    "# HOME\n",
    "import os\n",
    "import matplotlib as mpl\n",
    "import matplotlib.pyplot as plt\n",
    "# use seaborn plotting defaults\n",
    "import seaborn as sns; sns.set()\n",
    "\n",
    "\n",
    "# get the code\n",
    "import sys\n",
    "sys.path.append('../codeCNV')\n",
    "from plot import plot_snp\n",
    "\n",
    "home = '/Users/mahtin'\n",
    "# home = '/Users/martinscience'\n",
    "# standard paths\n",
    "testdata = os.path.join(home,\"Dropbox/Icke/Work/somVar/testdata\")\n",
    "static_path = os.path.join(home, \"Dropbox/Icke/Work/static\")\n",
    "cluster_path = os.path.join(home, \"mount\")\n",
    "tooldata = os.path.join(home, \"Dropbox/Icke/Work/somVar/tooldata\")\n",
    "\n",
    "# tool-specific paths\n",
    "shell_path = \"../shell\"\n",
    "# \n",
    "cnvdata = os.path.join(tooldata, \"myCNVdata\")\n",
    "output_path = os.path.join(cnvdata, \"output\")\n",
    "\n",
    "# the path to the input data\n",
    "cnv_path = os.path.join(cnvdata, \"cnv\")\n",
    "cnvPON_path = cnv_path = os.path.join(cnvdata, \"chromCov\")\n",
    "cnv_path = os.path.join(cluster_path, \"scratch/develop/PONcoverage/cnv\")\n",
    "cnvPON_path = os.path.join(cluster_path, \"scratch/develop/PONcoverage/chromCov\")"
   ]
  },
  {
   "cell_type": "code",
   "execution_count": 4,
   "metadata": {
    "ExecuteTime": {
     "end_time": "2020-10-30T16:05:11.351229Z",
     "start_time": "2020-10-30T16:05:11.345903Z"
    }
   },
   "outputs": [
    {
     "data": {
      "text/plain": [
       "'/Users/mahtin/mount/scratch/develop/PONcoverage/chromCov'"
      ]
     },
     "execution_count": 4,
     "metadata": {},
     "output_type": "execute_result"
    }
   ],
   "source": [
    "cnvPON_path"
   ]
  },
  {
   "cell_type": "markdown",
   "metadata": {},
   "source": [
    "## get the coverage and SNP data"
   ]
  },
  {
   "cell_type": "code",
   "execution_count": 5,
   "metadata": {
    "ExecuteTime": {
     "end_time": "2020-10-30T16:05:12.722404Z",
     "start_time": "2020-10-30T16:05:12.605001Z"
    }
   },
   "outputs": [],
   "source": [
    "sample = \"01_A\"\n",
    "snp_df = pd.read_csv(os.path.join(output_path, f'rollingCNV/{sample}.snp.csv'), sep='\\t')"
   ]
  },
  {
   "cell_type": "code",
   "execution_count": 6,
   "metadata": {
    "ExecuteTime": {
     "end_time": "2020-10-30T16:05:17.086376Z",
     "start_time": "2020-10-30T16:05:17.039949Z"
    }
   },
   "outputs": [
    {
     "data": {
      "text/html": [
       "<div>\n",
       "<style scoped>\n",
       "    .dataframe tbody tr th:only-of-type {\n",
       "        vertical-align: middle;\n",
       "    }\n",
       "\n",
       "    .dataframe tbody tr th {\n",
       "        vertical-align: top;\n",
       "    }\n",
       "\n",
       "    .dataframe thead th {\n",
       "        text-align: right;\n",
       "    }\n",
       "</style>\n",
       "<table border=\"1\" class=\"dataframe\">\n",
       "  <thead>\n",
       "    <tr style=\"text-align: right;\">\n",
       "      <th></th>\n",
       "      <th>Chr</th>\n",
       "      <th>Pos</th>\n",
       "      <th>FullExonPos</th>\n",
       "      <th>ExonPos</th>\n",
       "      <th>log2ratio</th>\n",
       "      <th>log2ratiomean</th>\n",
       "      <th>log2ratiomeanDiff</th>\n",
       "      <th>Depth</th>\n",
       "      <th>EBscore</th>\n",
       "      <th>VAF</th>\n",
       "      <th>absVAF</th>\n",
       "      <th>deltaVAF</th>\n",
       "      <th>absVAFmean</th>\n",
       "      <th>absVAFmeanDiff</th>\n",
       "      <th>VAFstd</th>\n",
       "      <th>VAFstdDiff</th>\n",
       "      <th>deltaVAFvar</th>\n",
       "      <th>deltaVAFvarDiff</th>\n",
       "      <th>deltaVAFstd</th>\n",
       "      <th>deltaVAFstdDiff</th>\n",
       "    </tr>\n",
       "  </thead>\n",
       "  <tbody>\n",
       "    <tr>\n",
       "      <th>18</th>\n",
       "      <td>chr1</td>\n",
       "      <td>1054900</td>\n",
       "      <td>37368</td>\n",
       "      <td>37368</td>\n",
       "      <td>-0.069236</td>\n",
       "      <td>0.346636</td>\n",
       "      <td>3.945632e-03</td>\n",
       "      <td>147.0</td>\n",
       "      <td>0.044</td>\n",
       "      <td>0.421769</td>\n",
       "      <td>0.156462</td>\n",
       "      <td>0.056079</td>\n",
       "      <td>0.310983</td>\n",
       "      <td>0.0</td>\n",
       "      <td>0.178631</td>\n",
       "      <td>0.0</td>\n",
       "      <td>0.042368</td>\n",
       "      <td>0.0</td>\n",
       "      <td>0.205834</td>\n",
       "      <td>0.0</td>\n",
       "    </tr>\n",
       "    <tr>\n",
       "      <th>19</th>\n",
       "      <td>chr1</td>\n",
       "      <td>1055000</td>\n",
       "      <td>37468</td>\n",
       "      <td>37468</td>\n",
       "      <td>-0.066106</td>\n",
       "      <td>0.346110</td>\n",
       "      <td>3.457801e-03</td>\n",
       "      <td>98.0</td>\n",
       "      <td>0.919</td>\n",
       "      <td>0.489796</td>\n",
       "      <td>0.020408</td>\n",
       "      <td>0.068027</td>\n",
       "      <td>0.310983</td>\n",
       "      <td>0.0</td>\n",
       "      <td>0.178631</td>\n",
       "      <td>0.0</td>\n",
       "      <td>0.042368</td>\n",
       "      <td>0.0</td>\n",
       "      <td>0.205834</td>\n",
       "      <td>0.0</td>\n",
       "    </tr>\n",
       "    <tr>\n",
       "      <th>20</th>\n",
       "      <td>chr1</td>\n",
       "      <td>1055037</td>\n",
       "      <td>37505</td>\n",
       "      <td>37505</td>\n",
       "      <td>-0.031916</td>\n",
       "      <td>0.346188</td>\n",
       "      <td>3.524551e-03</td>\n",
       "      <td>86.0</td>\n",
       "      <td>0.840</td>\n",
       "      <td>0.476744</td>\n",
       "      <td>0.046512</td>\n",
       "      <td>0.013052</td>\n",
       "      <td>0.310983</td>\n",
       "      <td>0.0</td>\n",
       "      <td>0.178631</td>\n",
       "      <td>0.0</td>\n",
       "      <td>0.042368</td>\n",
       "      <td>0.0</td>\n",
       "      <td>0.205834</td>\n",
       "      <td>0.0</td>\n",
       "    </tr>\n",
       "    <tr>\n",
       "      <th>21</th>\n",
       "      <td>chr1</td>\n",
       "      <td>1071823</td>\n",
       "      <td>37706</td>\n",
       "      <td>37706</td>\n",
       "      <td>0.337613</td>\n",
       "      <td>0.346937</td>\n",
       "      <td>3.793557e-03</td>\n",
       "      <td>109.0</td>\n",
       "      <td>0.007</td>\n",
       "      <td>0.532110</td>\n",
       "      <td>0.064220</td>\n",
       "      <td>0.055366</td>\n",
       "      <td>0.310983</td>\n",
       "      <td>0.0</td>\n",
       "      <td>0.178631</td>\n",
       "      <td>0.0</td>\n",
       "      <td>0.042368</td>\n",
       "      <td>0.0</td>\n",
       "      <td>0.205834</td>\n",
       "      <td>0.0</td>\n",
       "    </tr>\n",
       "    <tr>\n",
       "      <th>22</th>\n",
       "      <td>chr1</td>\n",
       "      <td>1291377</td>\n",
       "      <td>55139</td>\n",
       "      <td>55139</td>\n",
       "      <td>0.242629</td>\n",
       "      <td>0.247084</td>\n",
       "      <td>8.714793e-10</td>\n",
       "      <td>182.0</td>\n",
       "      <td>1.818</td>\n",
       "      <td>0.445055</td>\n",
       "      <td>0.109890</td>\n",
       "      <td>0.087055</td>\n",
       "      <td>0.310983</td>\n",
       "      <td>0.0</td>\n",
       "      <td>0.178631</td>\n",
       "      <td>0.0</td>\n",
       "      <td>0.042368</td>\n",
       "      <td>0.0</td>\n",
       "      <td>0.205834</td>\n",
       "      <td>0.0</td>\n",
       "    </tr>\n",
       "    <tr>\n",
       "      <th>...</th>\n",
       "      <td>...</td>\n",
       "      <td>...</td>\n",
       "      <td>...</td>\n",
       "      <td>...</td>\n",
       "      <td>...</td>\n",
       "      <td>...</td>\n",
       "      <td>...</td>\n",
       "      <td>...</td>\n",
       "      <td>...</td>\n",
       "      <td>...</td>\n",
       "      <td>...</td>\n",
       "      <td>...</td>\n",
       "      <td>...</td>\n",
       "      <td>...</td>\n",
       "      <td>...</td>\n",
       "      <td>...</td>\n",
       "      <td>...</td>\n",
       "      <td>...</td>\n",
       "      <td>...</td>\n",
       "      <td>...</td>\n",
       "    </tr>\n",
       "    <tr>\n",
       "      <th>24165</th>\n",
       "      <td>chrX</td>\n",
       "      <td>156023260</td>\n",
       "      <td>49469650</td>\n",
       "      <td>1835187</td>\n",
       "      <td>-0.667568</td>\n",
       "      <td>0.212712</td>\n",
       "      <td>0.000000e+00</td>\n",
       "      <td>25.0</td>\n",
       "      <td>0.950</td>\n",
       "      <td>0.880000</td>\n",
       "      <td>0.760000</td>\n",
       "      <td>0.023226</td>\n",
       "      <td>0.155058</td>\n",
       "      <td>0.0</td>\n",
       "      <td>0.141056</td>\n",
       "      <td>0.0</td>\n",
       "      <td>0.015260</td>\n",
       "      <td>0.0</td>\n",
       "      <td>0.123530</td>\n",
       "      <td>0.0</td>\n",
       "    </tr>\n",
       "    <tr>\n",
       "      <th>24166</th>\n",
       "      <td>chrX</td>\n",
       "      <td>156023266</td>\n",
       "      <td>49469656</td>\n",
       "      <td>1835193</td>\n",
       "      <td>-0.655721</td>\n",
       "      <td>0.212684</td>\n",
       "      <td>0.000000e+00</td>\n",
       "      <td>25.0</td>\n",
       "      <td>0.930</td>\n",
       "      <td>0.880000</td>\n",
       "      <td>0.760000</td>\n",
       "      <td>0.000000</td>\n",
       "      <td>0.155058</td>\n",
       "      <td>0.0</td>\n",
       "      <td>0.141056</td>\n",
       "      <td>0.0</td>\n",
       "      <td>0.015260</td>\n",
       "      <td>0.0</td>\n",
       "      <td>0.123530</td>\n",
       "      <td>0.0</td>\n",
       "    </tr>\n",
       "    <tr>\n",
       "      <th>24167</th>\n",
       "      <td>chrX</td>\n",
       "      <td>156024203</td>\n",
       "      <td>49469886</td>\n",
       "      <td>1835423</td>\n",
       "      <td>0.148033</td>\n",
       "      <td>0.211628</td>\n",
       "      <td>0.000000e+00</td>\n",
       "      <td>53.0</td>\n",
       "      <td>0.392</td>\n",
       "      <td>0.132075</td>\n",
       "      <td>0.735850</td>\n",
       "      <td>0.747925</td>\n",
       "      <td>0.155058</td>\n",
       "      <td>0.0</td>\n",
       "      <td>0.141056</td>\n",
       "      <td>0.0</td>\n",
       "      <td>0.015260</td>\n",
       "      <td>0.0</td>\n",
       "      <td>0.123530</td>\n",
       "      <td>0.0</td>\n",
       "    </tr>\n",
       "    <tr>\n",
       "      <th>24168</th>\n",
       "      <td>chrX</td>\n",
       "      <td>156024239</td>\n",
       "      <td>49469922</td>\n",
       "      <td>1835459</td>\n",
       "      <td>0.160322</td>\n",
       "      <td>0.211463</td>\n",
       "      <td>0.000000e+00</td>\n",
       "      <td>56.0</td>\n",
       "      <td>0.203</td>\n",
       "      <td>0.267857</td>\n",
       "      <td>0.464286</td>\n",
       "      <td>0.135782</td>\n",
       "      <td>0.155058</td>\n",
       "      <td>0.0</td>\n",
       "      <td>0.141056</td>\n",
       "      <td>0.0</td>\n",
       "      <td>0.015260</td>\n",
       "      <td>0.0</td>\n",
       "      <td>0.123530</td>\n",
       "      <td>0.0</td>\n",
       "    </tr>\n",
       "    <tr>\n",
       "      <th>24169</th>\n",
       "      <td>chrX</td>\n",
       "      <td>156024251</td>\n",
       "      <td>49469934</td>\n",
       "      <td>1835471</td>\n",
       "      <td>0.164918</td>\n",
       "      <td>0.211408</td>\n",
       "      <td>0.000000e+00</td>\n",
       "      <td>54.0</td>\n",
       "      <td>0.304</td>\n",
       "      <td>0.111111</td>\n",
       "      <td>0.777778</td>\n",
       "      <td>0.156746</td>\n",
       "      <td>0.155058</td>\n",
       "      <td>0.0</td>\n",
       "      <td>0.141056</td>\n",
       "      <td>0.0</td>\n",
       "      <td>0.015260</td>\n",
       "      <td>0.0</td>\n",
       "      <td>0.123530</td>\n",
       "      <td>0.0</td>\n",
       "    </tr>\n",
       "  </tbody>\n",
       "</table>\n",
       "<p>24014 rows × 20 columns</p>\n",
       "</div>"
      ],
      "text/plain": [
       "        Chr        Pos  FullExonPos  ExonPos  log2ratio  log2ratiomean  \\\n",
       "18     chr1    1054900        37368    37368  -0.069236       0.346636   \n",
       "19     chr1    1055000        37468    37468  -0.066106       0.346110   \n",
       "20     chr1    1055037        37505    37505  -0.031916       0.346188   \n",
       "21     chr1    1071823        37706    37706   0.337613       0.346937   \n",
       "22     chr1    1291377        55139    55139   0.242629       0.247084   \n",
       "...     ...        ...          ...      ...        ...            ...   \n",
       "24165  chrX  156023260     49469650  1835187  -0.667568       0.212712   \n",
       "24166  chrX  156023266     49469656  1835193  -0.655721       0.212684   \n",
       "24167  chrX  156024203     49469886  1835423   0.148033       0.211628   \n",
       "24168  chrX  156024239     49469922  1835459   0.160322       0.211463   \n",
       "24169  chrX  156024251     49469934  1835471   0.164918       0.211408   \n",
       "\n",
       "       log2ratiomeanDiff  Depth  EBscore       VAF    absVAF  deltaVAF  \\\n",
       "18          3.945632e-03  147.0    0.044  0.421769  0.156462  0.056079   \n",
       "19          3.457801e-03   98.0    0.919  0.489796  0.020408  0.068027   \n",
       "20          3.524551e-03   86.0    0.840  0.476744  0.046512  0.013052   \n",
       "21          3.793557e-03  109.0    0.007  0.532110  0.064220  0.055366   \n",
       "22          8.714793e-10  182.0    1.818  0.445055  0.109890  0.087055   \n",
       "...                  ...    ...      ...       ...       ...       ...   \n",
       "24165       0.000000e+00   25.0    0.950  0.880000  0.760000  0.023226   \n",
       "24166       0.000000e+00   25.0    0.930  0.880000  0.760000  0.000000   \n",
       "24167       0.000000e+00   53.0    0.392  0.132075  0.735850  0.747925   \n",
       "24168       0.000000e+00   56.0    0.203  0.267857  0.464286  0.135782   \n",
       "24169       0.000000e+00   54.0    0.304  0.111111  0.777778  0.156746   \n",
       "\n",
       "       absVAFmean  absVAFmeanDiff    VAFstd  VAFstdDiff  deltaVAFvar  \\\n",
       "18       0.310983             0.0  0.178631         0.0     0.042368   \n",
       "19       0.310983             0.0  0.178631         0.0     0.042368   \n",
       "20       0.310983             0.0  0.178631         0.0     0.042368   \n",
       "21       0.310983             0.0  0.178631         0.0     0.042368   \n",
       "22       0.310983             0.0  0.178631         0.0     0.042368   \n",
       "...           ...             ...       ...         ...          ...   \n",
       "24165    0.155058             0.0  0.141056         0.0     0.015260   \n",
       "24166    0.155058             0.0  0.141056         0.0     0.015260   \n",
       "24167    0.155058             0.0  0.141056         0.0     0.015260   \n",
       "24168    0.155058             0.0  0.141056         0.0     0.015260   \n",
       "24169    0.155058             0.0  0.141056         0.0     0.015260   \n",
       "\n",
       "       deltaVAFvarDiff  deltaVAFstd  deltaVAFstdDiff  \n",
       "18                 0.0     0.205834              0.0  \n",
       "19                 0.0     0.205834              0.0  \n",
       "20                 0.0     0.205834              0.0  \n",
       "21                 0.0     0.205834              0.0  \n",
       "22                 0.0     0.205834              0.0  \n",
       "...                ...          ...              ...  \n",
       "24165              0.0     0.123530              0.0  \n",
       "24166              0.0     0.123530              0.0  \n",
       "24167              0.0     0.123530              0.0  \n",
       "24168              0.0     0.123530              0.0  \n",
       "24169              0.0     0.123530              0.0  \n",
       "\n",
       "[24014 rows x 20 columns]"
      ]
     },
     "execution_count": 6,
     "metadata": {},
     "output_type": "execute_result"
    }
   ],
   "source": [
    "snp_df = snp_df.dropna()\n",
    "snp_df"
   ]
  },
  {
   "cell_type": "markdown",
   "metadata": {},
   "source": [
    "## clustering strategy\n",
    "\n",
    "+ #### try removing the main cluster using GMM / or adding the cluster label to the parameters\n",
    "+ #### creating a visualisation for clusters on genomic data\n",
    "+ #### try half-maximum cutoff for all metrices"
   ]
  },
  {
   "cell_type": "code",
   "execution_count": 7,
   "metadata": {
    "ExecuteTime": {
     "end_time": "2020-10-30T16:05:20.403930Z",
     "start_time": "2020-10-30T16:05:20.222899Z"
    }
   },
   "outputs": [
    {
     "data": {
      "image/png": "[encoded data removed]",
      "text/plain": [
       "<Figure size 432x288 with 1 Axes>"
      ]
     },
     "metadata": {},
     "output_type": "display_data"
    }
   ],
   "source": [
    "plt.scatter(snp_df['log2ratiomean'], snp_df['absVAF'], s=.1);"
   ]
  },
  {
   "cell_type": "markdown",
   "metadata": {},
   "source": [
    "### DBSCAN"
   ]
  },
  {
   "cell_type": "code",
   "execution_count": 8,
   "metadata": {
    "ExecuteTime": {
     "end_time": "2020-10-30T16:05:23.872063Z",
     "start_time": "2020-10-30T16:05:23.868821Z"
    }
   },
   "outputs": [
    {
     "data": {
      "text/plain": [
       "120.0"
      ]
     },
     "execution_count": 8,
     "metadata": {},
     "output_type": "execute_result"
    }
   ],
   "source": [
    "24000 / 200"
   ]
  },
  {
   "cell_type": "code",
   "execution_count": 12,
   "metadata": {
    "ExecuteTime": {
     "end_time": "2020-10-30T16:06:40.239768Z",
     "start_time": "2020-10-30T16:06:37.109972Z"
    }
   },
   "outputs": [
    {
     "data": {
      "text/plain": [
       "<matplotlib.collections.PathCollection at 0x1da742e50>"
      ]
     },
     "execution_count": 12,
     "metadata": {},
     "output_type": "execute_result"
    },
    {
     "name": "stdout",
     "output_type": "stream",
     "text": [
      "ep:0.1|min_samples:24>> 3 clusters | cluster0: 22629\n"
     ]
    },
    {
     "data": {
      "image/png": "[encoded data removed]",
      "text/plain": [
       "<Figure size 432x288 with 1 Axes>"
      ]
     },
     "metadata": {},
     "output_type": "display_data"
    }
   ],
   "source": [
    "from sklearn.cluster import DBSCAN\n",
    "\n",
    "# get the matrix\n",
    "allcols = ['log2ratiomean', 'VAF', 'absVAF', 'deltaVAFstd', 'deltaVAFvar', 'VAFstd']\n",
    "select_cols = ['log2ratiomean', 'absVAF', 'deltaVAFvar']\n",
    "X = snp_df[select_cols]\n",
    "rows = X.shape[0]\n",
    "\n",
    "ep=0.1\n",
    "ms = int(rows/1000)\n",
    "\n",
    "labels = DBSCAN(eps=ep, min_samples=ms).fit_predict(X)\n",
    "plt.scatter(X['log2ratiomean'], X['absVAF'], c=labels, s=1, cmap='viridis')\n",
    "cluster, counts = np.unique(labels, return_counts=True)\n",
    "cluster_count = len(cluster[cluster != -1])\n",
    "cluster_size = counts[np.argmax(counts)]\n",
    "cluster_id = cluster[np.argmax(counts)]\n",
    "print(f\"ep:{round(ep,2)}|min_samples:{ms}>> {cluster_count} clusters | cluster{cluster_id}: {cluster_size}\")"
   ]
  },
  {
   "cell_type": "markdown",
   "metadata": {},
   "source": [
    "### loading labels back into df"
   ]
  },
  {
   "cell_type": "code",
   "execution_count": 14,
   "metadata": {
    "ExecuteTime": {
     "end_time": "2020-10-30T16:08:03.314466Z",
     "start_time": "2020-10-30T16:08:03.275738Z"
    }
   },
   "outputs": [
    {
     "data": {
      "text/html": [
       "<div>\n",
       "<style scoped>\n",
       "    .dataframe tbody tr th:only-of-type {\n",
       "        vertical-align: middle;\n",
       "    }\n",
       "\n",
       "    .dataframe tbody tr th {\n",
       "        vertical-align: top;\n",
       "    }\n",
       "\n",
       "    .dataframe thead th {\n",
       "        text-align: right;\n",
       "    }\n",
       "</style>\n",
       "<table border=\"1\" class=\"dataframe\">\n",
       "  <thead>\n",
       "    <tr style=\"text-align: right;\">\n",
       "      <th></th>\n",
       "      <th>Chr</th>\n",
       "      <th>Pos</th>\n",
       "      <th>FullExonPos</th>\n",
       "      <th>ExonPos</th>\n",
       "      <th>log2ratio</th>\n",
       "      <th>log2ratiomean</th>\n",
       "      <th>log2ratiomeanDiff</th>\n",
       "      <th>Depth</th>\n",
       "      <th>EBscore</th>\n",
       "      <th>VAF</th>\n",
       "      <th>absVAF</th>\n",
       "      <th>deltaVAF</th>\n",
       "      <th>absVAFmean</th>\n",
       "      <th>absVAFmeanDiff</th>\n",
       "      <th>VAFstd</th>\n",
       "      <th>VAFstdDiff</th>\n",
       "      <th>deltaVAFvar</th>\n",
       "      <th>deltaVAFvarDiff</th>\n",
       "      <th>deltaVAFstd</th>\n",
       "      <th>deltaVAFstdDiff</th>\n",
       "      <th>dbscan</th>\n",
       "    </tr>\n",
       "  </thead>\n",
       "  <tbody>\n",
       "    <tr>\n",
       "      <th>18</th>\n",
       "      <td>chr1</td>\n",
       "      <td>1054900</td>\n",
       "      <td>37368</td>\n",
       "      <td>37368</td>\n",
       "      <td>-0.069236</td>\n",
       "      <td>0.346636</td>\n",
       "      <td>3.945632e-03</td>\n",
       "      <td>147.0</td>\n",
       "      <td>0.044</td>\n",
       "      <td>0.421769</td>\n",
       "      <td>0.156462</td>\n",
       "      <td>0.056079</td>\n",
       "      <td>0.310983</td>\n",
       "      <td>0.0</td>\n",
       "      <td>0.178631</td>\n",
       "      <td>0.0</td>\n",
       "      <td>0.042368</td>\n",
       "      <td>0.0</td>\n",
       "      <td>0.205834</td>\n",
       "      <td>0.0</td>\n",
       "      <td>0</td>\n",
       "    </tr>\n",
       "    <tr>\n",
       "      <th>19</th>\n",
       "      <td>chr1</td>\n",
       "      <td>1055000</td>\n",
       "      <td>37468</td>\n",
       "      <td>37468</td>\n",
       "      <td>-0.066106</td>\n",
       "      <td>0.346110</td>\n",
       "      <td>3.457801e-03</td>\n",
       "      <td>98.0</td>\n",
       "      <td>0.919</td>\n",
       "      <td>0.489796</td>\n",
       "      <td>0.020408</td>\n",
       "      <td>0.068027</td>\n",
       "      <td>0.310983</td>\n",
       "      <td>0.0</td>\n",
       "      <td>0.178631</td>\n",
       "      <td>0.0</td>\n",
       "      <td>0.042368</td>\n",
       "      <td>0.0</td>\n",
       "      <td>0.205834</td>\n",
       "      <td>0.0</td>\n",
       "      <td>0</td>\n",
       "    </tr>\n",
       "    <tr>\n",
       "      <th>20</th>\n",
       "      <td>chr1</td>\n",
       "      <td>1055037</td>\n",
       "      <td>37505</td>\n",
       "      <td>37505</td>\n",
       "      <td>-0.031916</td>\n",
       "      <td>0.346188</td>\n",
       "      <td>3.524551e-03</td>\n",
       "      <td>86.0</td>\n",
       "      <td>0.840</td>\n",
       "      <td>0.476744</td>\n",
       "      <td>0.046512</td>\n",
       "      <td>0.013052</td>\n",
       "      <td>0.310983</td>\n",
       "      <td>0.0</td>\n",
       "      <td>0.178631</td>\n",
       "      <td>0.0</td>\n",
       "      <td>0.042368</td>\n",
       "      <td>0.0</td>\n",
       "      <td>0.205834</td>\n",
       "      <td>0.0</td>\n",
       "      <td>0</td>\n",
       "    </tr>\n",
       "    <tr>\n",
       "      <th>21</th>\n",
       "      <td>chr1</td>\n",
       "      <td>1071823</td>\n",
       "      <td>37706</td>\n",
       "      <td>37706</td>\n",
       "      <td>0.337613</td>\n",
       "      <td>0.346937</td>\n",
       "      <td>3.793557e-03</td>\n",
       "      <td>109.0</td>\n",
       "      <td>0.007</td>\n",
       "      <td>0.532110</td>\n",
       "      <td>0.064220</td>\n",
       "      <td>0.055366</td>\n",
       "      <td>0.310983</td>\n",
       "      <td>0.0</td>\n",
       "      <td>0.178631</td>\n",
       "      <td>0.0</td>\n",
       "      <td>0.042368</td>\n",
       "      <td>0.0</td>\n",
       "      <td>0.205834</td>\n",
       "      <td>0.0</td>\n",
       "      <td>0</td>\n",
       "    </tr>\n",
       "    <tr>\n",
       "      <th>22</th>\n",
       "      <td>chr1</td>\n",
       "      <td>1291377</td>\n",
       "      <td>55139</td>\n",
       "      <td>55139</td>\n",
       "      <td>0.242629</td>\n",
       "      <td>0.247084</td>\n",
       "      <td>8.714793e-10</td>\n",
       "      <td>182.0</td>\n",
       "      <td>1.818</td>\n",
       "      <td>0.445055</td>\n",
       "      <td>0.109890</td>\n",
       "      <td>0.087055</td>\n",
       "      <td>0.310983</td>\n",
       "      <td>0.0</td>\n",
       "      <td>0.178631</td>\n",
       "      <td>0.0</td>\n",
       "      <td>0.042368</td>\n",
       "      <td>0.0</td>\n",
       "      <td>0.205834</td>\n",
       "      <td>0.0</td>\n",
       "      <td>0</td>\n",
       "    </tr>\n",
       "    <tr>\n",
       "      <th>...</th>\n",
       "      <td>...</td>\n",
       "      <td>...</td>\n",
       "      <td>...</td>\n",
       "      <td>...</td>\n",
       "      <td>...</td>\n",
       "      <td>...</td>\n",
       "      <td>...</td>\n",
       "      <td>...</td>\n",
       "      <td>...</td>\n",
       "      <td>...</td>\n",
       "      <td>...</td>\n",
       "      <td>...</td>\n",
       "      <td>...</td>\n",
       "      <td>...</td>\n",
       "      <td>...</td>\n",
       "      <td>...</td>\n",
       "      <td>...</td>\n",
       "      <td>...</td>\n",
       "      <td>...</td>\n",
       "      <td>...</td>\n",
       "      <td>...</td>\n",
       "    </tr>\n",
       "    <tr>\n",
       "      <th>24165</th>\n",
       "      <td>chrX</td>\n",
       "      <td>156023260</td>\n",
       "      <td>49469650</td>\n",
       "      <td>1835187</td>\n",
       "      <td>-0.667568</td>\n",
       "      <td>0.212712</td>\n",
       "      <td>0.000000e+00</td>\n",
       "      <td>25.0</td>\n",
       "      <td>0.950</td>\n",
       "      <td>0.880000</td>\n",
       "      <td>0.760000</td>\n",
       "      <td>0.023226</td>\n",
       "      <td>0.155058</td>\n",
       "      <td>0.0</td>\n",
       "      <td>0.141056</td>\n",
       "      <td>0.0</td>\n",
       "      <td>0.015260</td>\n",
       "      <td>0.0</td>\n",
       "      <td>0.123530</td>\n",
       "      <td>0.0</td>\n",
       "      <td>0</td>\n",
       "    </tr>\n",
       "    <tr>\n",
       "      <th>24166</th>\n",
       "      <td>chrX</td>\n",
       "      <td>156023266</td>\n",
       "      <td>49469656</td>\n",
       "      <td>1835193</td>\n",
       "      <td>-0.655721</td>\n",
       "      <td>0.212684</td>\n",
       "      <td>0.000000e+00</td>\n",
       "      <td>25.0</td>\n",
       "      <td>0.930</td>\n",
       "      <td>0.880000</td>\n",
       "      <td>0.760000</td>\n",
       "      <td>0.000000</td>\n",
       "      <td>0.155058</td>\n",
       "      <td>0.0</td>\n",
       "      <td>0.141056</td>\n",
       "      <td>0.0</td>\n",
       "      <td>0.015260</td>\n",
       "      <td>0.0</td>\n",
       "      <td>0.123530</td>\n",
       "      <td>0.0</td>\n",
       "      <td>0</td>\n",
       "    </tr>\n",
       "    <tr>\n",
       "      <th>24167</th>\n",
       "      <td>chrX</td>\n",
       "      <td>156024203</td>\n",
       "      <td>49469886</td>\n",
       "      <td>1835423</td>\n",
       "      <td>0.148033</td>\n",
       "      <td>0.211628</td>\n",
       "      <td>0.000000e+00</td>\n",
       "      <td>53.0</td>\n",
       "      <td>0.392</td>\n",
       "      <td>0.132075</td>\n",
       "      <td>0.735850</td>\n",
       "      <td>0.747925</td>\n",
       "      <td>0.155058</td>\n",
       "      <td>0.0</td>\n",
       "      <td>0.141056</td>\n",
       "      <td>0.0</td>\n",
       "      <td>0.015260</td>\n",
       "      <td>0.0</td>\n",
       "      <td>0.123530</td>\n",
       "      <td>0.0</td>\n",
       "      <td>0</td>\n",
       "    </tr>\n",
       "    <tr>\n",
       "      <th>24168</th>\n",
       "      <td>chrX</td>\n",
       "      <td>156024239</td>\n",
       "      <td>49469922</td>\n",
       "      <td>1835459</td>\n",
       "      <td>0.160322</td>\n",
       "      <td>0.211463</td>\n",
       "      <td>0.000000e+00</td>\n",
       "      <td>56.0</td>\n",
       "      <td>0.203</td>\n",
       "      <td>0.267857</td>\n",
       "      <td>0.464286</td>\n",
       "      <td>0.135782</td>\n",
       "      <td>0.155058</td>\n",
       "      <td>0.0</td>\n",
       "      <td>0.141056</td>\n",
       "      <td>0.0</td>\n",
       "      <td>0.015260</td>\n",
       "      <td>0.0</td>\n",
       "      <td>0.123530</td>\n",
       "      <td>0.0</td>\n",
       "      <td>0</td>\n",
       "    </tr>\n",
       "    <tr>\n",
       "      <th>24169</th>\n",
       "      <td>chrX</td>\n",
       "      <td>156024251</td>\n",
       "      <td>49469934</td>\n",
       "      <td>1835471</td>\n",
       "      <td>0.164918</td>\n",
       "      <td>0.211408</td>\n",
       "      <td>0.000000e+00</td>\n",
       "      <td>54.0</td>\n",
       "      <td>0.304</td>\n",
       "      <td>0.111111</td>\n",
       "      <td>0.777778</td>\n",
       "      <td>0.156746</td>\n",
       "      <td>0.155058</td>\n",
       "      <td>0.0</td>\n",
       "      <td>0.141056</td>\n",
       "      <td>0.0</td>\n",
       "      <td>0.015260</td>\n",
       "      <td>0.0</td>\n",
       "      <td>0.123530</td>\n",
       "      <td>0.0</td>\n",
       "      <td>0</td>\n",
       "    </tr>\n",
       "  </tbody>\n",
       "</table>\n",
       "<p>24014 rows × 21 columns</p>\n",
       "</div>"
      ],
      "text/plain": [
       "        Chr        Pos  FullExonPos  ExonPos  log2ratio  log2ratiomean  \\\n",
       "18     chr1    1054900        37368    37368  -0.069236       0.346636   \n",
       "19     chr1    1055000        37468    37468  -0.066106       0.346110   \n",
       "20     chr1    1055037        37505    37505  -0.031916       0.346188   \n",
       "21     chr1    1071823        37706    37706   0.337613       0.346937   \n",
       "22     chr1    1291377        55139    55139   0.242629       0.247084   \n",
       "...     ...        ...          ...      ...        ...            ...   \n",
       "24165  chrX  156023260     49469650  1835187  -0.667568       0.212712   \n",
       "24166  chrX  156023266     49469656  1835193  -0.655721       0.212684   \n",
       "24167  chrX  156024203     49469886  1835423   0.148033       0.211628   \n",
       "24168  chrX  156024239     49469922  1835459   0.160322       0.211463   \n",
       "24169  chrX  156024251     49469934  1835471   0.164918       0.211408   \n",
       "\n",
       "       log2ratiomeanDiff  Depth  EBscore       VAF    absVAF  deltaVAF  \\\n",
       "18          3.945632e-03  147.0    0.044  0.421769  0.156462  0.056079   \n",
       "19          3.457801e-03   98.0    0.919  0.489796  0.020408  0.068027   \n",
       "20          3.524551e-03   86.0    0.840  0.476744  0.046512  0.013052   \n",
       "21          3.793557e-03  109.0    0.007  0.532110  0.064220  0.055366   \n",
       "22          8.714793e-10  182.0    1.818  0.445055  0.109890  0.087055   \n",
       "...                  ...    ...      ...       ...       ...       ...   \n",
       "24165       0.000000e+00   25.0    0.950  0.880000  0.760000  0.023226   \n",
       "24166       0.000000e+00   25.0    0.930  0.880000  0.760000  0.000000   \n",
       "24167       0.000000e+00   53.0    0.392  0.132075  0.735850  0.747925   \n",
       "24168       0.000000e+00   56.0    0.203  0.267857  0.464286  0.135782   \n",
       "24169       0.000000e+00   54.0    0.304  0.111111  0.777778  0.156746   \n",
       "\n",
       "       absVAFmean  absVAFmeanDiff    VAFstd  VAFstdDiff  deltaVAFvar  \\\n",
       "18       0.310983             0.0  0.178631         0.0     0.042368   \n",
       "19       0.310983             0.0  0.178631         0.0     0.042368   \n",
       "20       0.310983             0.0  0.178631         0.0     0.042368   \n",
       "21       0.310983             0.0  0.178631         0.0     0.042368   \n",
       "22       0.310983             0.0  0.178631         0.0     0.042368   \n",
       "...           ...             ...       ...         ...          ...   \n",
       "24165    0.155058             0.0  0.141056         0.0     0.015260   \n",
       "24166    0.155058             0.0  0.141056         0.0     0.015260   \n",
       "24167    0.155058             0.0  0.141056         0.0     0.015260   \n",
       "24168    0.155058             0.0  0.141056         0.0     0.015260   \n",
       "24169    0.155058             0.0  0.141056         0.0     0.015260   \n",
       "\n",
       "       deltaVAFvarDiff  deltaVAFstd  deltaVAFstdDiff  dbscan  \n",
       "18                 0.0     0.205834              0.0       0  \n",
       "19                 0.0     0.205834              0.0       0  \n",
       "20                 0.0     0.205834              0.0       0  \n",
       "21                 0.0     0.205834              0.0       0  \n",
       "22                 0.0     0.205834              0.0       0  \n",
       "...                ...          ...              ...     ...  \n",
       "24165              0.0     0.123530              0.0       0  \n",
       "24166              0.0     0.123530              0.0       0  \n",
       "24167              0.0     0.123530              0.0       0  \n",
       "24168              0.0     0.123530              0.0       0  \n",
       "24169              0.0     0.123530              0.0       0  \n",
       "\n",
       "[24014 rows x 21 columns]"
      ]
     },
     "execution_count": 14,
     "metadata": {},
     "output_type": "execute_result"
    }
   ],
   "source": [
    "snp_df['dbscan'] = labels\n",
    "snp_df"
   ]
  },
  {
   "cell_type": "code",
   "execution_count": 15,
   "metadata": {
    "ExecuteTime": {
     "end_time": "2020-10-30T16:11:51.074393Z",
     "start_time": "2020-10-30T16:11:50.324458Z"
    }
   },
   "outputs": [],
   "source": [
    "snp_df.to_csv(os.path.join(output_path, f'cluster/{sample}.dbscan.csv'), sep='\\t', index=False)"
   ]
  },
  {
   "cell_type": "code",
   "execution_count": null,
   "metadata": {
    "ExecuteTime": {
     "end_time": "2020-10-29T19:00:16.459062Z",
     "start_time": "2020-10-29T19:00:16.454940Z"
    }
   },
   "outputs": [],
   "source": [
    "counts[np.argmax(counts)]"
   ]
  },
  {
   "cell_type": "markdown",
   "metadata": {},
   "source": [
    "+ #### DBSCAN seems to be best fitted for removing the center mass as the spread is hard to guess\n",
    "    * perform a grid search on eps and min_samples to find the maximum center mass with just one cluster\n",
    "    * better!: perform this grid search on multi-dimensional data"
   ]
  },
  {
   "cell_type": "code",
   "execution_count": null,
   "metadata": {
    "ExecuteTime": {
     "end_time": "2020-10-29T18:33:09.819042Z",
     "start_time": "2020-10-29T18:33:09.812401Z"
    }
   },
   "outputs": [],
   "source": [
    "def fit_DBSCAN(X, max_cluster=1, eps=np.logspace(-1,1,10), sample_fracs=np.logspace(-3,-1,10)):\n",
    "    max_counts = 0\n",
    "    for sample_frac in sample_fracs:\n",
    "        for ep in eps:\n",
    "            # sample_fraction up to all samples if wanted\n",
    "            ms = min(X.shape[0], int(X.shape[0] * sample_frac))\n",
    "            model = DBSCAN(eps=ep, min_samples=ms)\n",
    "            labels = model.fit_predict(X)\n",
    "            cluster, counts = np.unique(labels, return_counts=True)\n",
    "            # get the number of clusters \n",
    "            cluster_count = len(cluster[cluster != -1])\n",
    "            # get the size of cluster 0\n",
    "            #! maybe use better with largest cluster\n",
    "            cluster_size = counts[np.argmax(counts)]\n",
    "            if cluster_count:\n",
    "                if cluster_size > max_counts:\n",
    "                    best_model = model\n",
    "                    print(f\"Best model: ep:{round(ep,2)}|min_samples:{ms}>> {cluster_count} clusters | cluster0: {cluster_size}\")\n",
    "                    if (cluster_count <= max_cluster):\n",
    "                        best_limit_model = model      \n",
    "                        print(f\"BEST model: ep:{round(ep,2)}|min_samples:{ms}>> {cluster_count} clusters | cluster0: {cluster_size}\")\n",
    "    return best_model, best_limit_model"
   ]
  },
  {
   "cell_type": "code",
   "execution_count": null,
   "metadata": {
    "ExecuteTime": {
     "end_time": "2020-10-29T18:45:25.241478Z",
     "start_time": "2020-10-29T18:33:10.465523Z"
    }
   },
   "outputs": [],
   "source": [
    "best_model, best_limit_model = fit_DBSCAN(X, max_cluster=1)"
   ]
  },
  {
   "cell_type": "code",
   "execution_count": null,
   "metadata": {},
   "outputs": [],
   "source": []
  },
  {
   "cell_type": "code",
   "execution_count": null,
   "metadata": {
    "ExecuteTime": {
     "end_time": "2020-10-29T19:38:55.661022Z",
     "start_time": "2020-10-29T19:38:45.246489Z"
    }
   },
   "outputs": [],
   "source": [
    "labels = best_model.fit_predict(X)\n",
    "plt.scatter(X['log2ratiomean'], X['absVAF'], c=labels, s=1, cmap='viridis')"
   ]
  },
  {
   "cell_type": "code",
   "execution_count": null,
   "metadata": {
    "ExecuteTime": {
     "end_time": "2020-10-29T19:01:18.641224Z",
     "start_time": "2020-10-29T19:01:18.636612Z"
    }
   },
   "outputs": [],
   "source": [
    "np.unique(labels)"
   ]
  },
  {
   "cell_type": "code",
   "execution_count": null,
   "metadata": {
    "ExecuteTime": {
     "end_time": "2020-10-29T18:58:37.942768Z",
     "start_time": "2020-10-29T18:58:28.844551Z"
    }
   },
   "outputs": [],
   "source": [
    "labels = best_limit_model.fit_predict(X)\n",
    "plt.scatter(X['log2ratiomean'], X['absVAF'], c=labels, s=1, cmap='viridis')"
   ]
  },
  {
   "cell_type": "code",
   "execution_count": null,
   "metadata": {
    "ExecuteTime": {
     "end_time": "2020-10-29T18:59:49.832306Z",
     "start_time": "2020-10-29T18:59:49.827153Z"
    }
   },
   "outputs": [],
   "source": [
    "np.unique(labels)"
   ]
  },
  {
   "cell_type": "code",
   "execution_count": null,
   "metadata": {},
   "outputs": [],
   "source": []
  },
  {
   "cell_type": "code",
   "execution_count": null,
   "metadata": {
    "ExecuteTime": {
     "end_time": "2020-10-29T07:10:19.677814Z",
     "start_time": "2020-10-29T07:10:19.647656Z"
    }
   },
   "outputs": [],
   "source": [
    "snp_df['DBID'] = labels\n",
    "snp_df"
   ]
  },
  {
   "cell_type": "code",
   "execution_count": null,
   "metadata": {
    "ExecuteTime": {
     "end_time": "2020-10-29T07:10:28.649883Z",
     "start_time": "2020-10-29T07:10:28.621978Z"
    }
   },
   "outputs": [],
   "source": [
    "cnv_df = snp_df.query('DBID > 0')\n",
    "cnv_df"
   ]
  },
  {
   "cell_type": "code",
   "execution_count": null,
   "metadata": {
    "ExecuteTime": {
     "end_time": "2020-10-29T07:16:37.699619Z",
     "start_time": "2020-10-29T07:16:37.692699Z"
    }
   },
   "outputs": [],
   "source": [
    "fig_params = dict(\n",
    "    figsize=(24,8),\n",
    "    colormap='coolwarm_r',\n",
    "    color_chroms=True,\n",
    "    ylim=(0,1),\n",
    "    cov_offset=.1,  # how much log2ratio=0 is shifted above SNP-data\n",
    "    cov_height=.5,\n",
    "    label_size=13\n",
    ")\n",
    "\n",
    "log2 = dict(\n",
    "        title='log2ratio',\n",
    "        plot_type='scatter',   # ['line', 'scatter']\n",
    "        data='log2ratio',\n",
    "        plot_args=dict(\n",
    "            linewidth=0.3,\n",
    "            color='black',\n",
    "            s=0.2,\n",
    "            alpha=.7\n",
    "        )\n",
    "    )\n",
    "\n",
    "log2mean = dict(\n",
    "        title='rollinglog2ratio',\n",
    "        plot_type='line',   # ['line', 'scatter']\n",
    "        data='log2ratiomean',\n",
    "        plot_args=dict(\n",
    "            linewidth=1,\n",
    "            color='yellow',\n",
    "            alpha=.7\n",
    "        )\n",
    "    )\n",
    "\n",
    "absvaf = dict(\n",
    "        title='absVAF',\n",
    "        plot_type='scatter',  # ['line', 'scatter']\n",
    "        data='absVAF',\n",
    "        cluster={'DBID', 'blue'}\n",
    "        plot_args=dict(\n",
    "            s=1,\n",
    "            c=snp_df.query('Chr in @chroms')['DBID'],\n",
    "            alpha=.7\n",
    "        )\n",
    "    )\n",
    "\n",
    "chroms = ['chr5', 'chr7','chr8', 'chr11', 'chr17']\n",
    "r1 = 'chr17:3Mb-9Mb'\n",
    "\n",
    "fig, ax, df, chrom_df = plot_snp(snp_df, snp_plots=[absvaf], cov_plots=[log2, log2mean], chroms=chroms, region='', **fig_params)"
   ]
  },
  {
   "cell_type": "markdown",
   "metadata": {},
   "source": [
    "+ #### GMM clustering runs best for fitting the center mass\n",
    "    * clusters vary depending on init clusters"
   ]
  },
  {
   "cell_type": "code",
   "execution_count": null,
   "metadata": {
    "ExecuteTime": {
     "end_time": "2020-10-29T20:07:28.472547Z",
     "start_time": "2020-10-29T20:07:28.447403Z"
    }
   },
   "outputs": [],
   "source": [
    "from sklearn.mixture import GaussianMixture as GMM\n",
    "\n",
    "X = merge[['log2ratiomean', 'VAF']]\n",
    "X\n",
    "choice = range(5)\n",
    "fig, axes = plt.subplots(1, len(choice), figsize=(20,5))\n",
    "for i, components in enumerate(choice):\n",
    "    gmm = GMM(n_components=3, covariance_type='diag', n_init=2)\n",
    "    labels = gmm.fit_predict(X)\n",
    "    _, counts = np.unique(labels, return_counts=True)\n",
    "    print(np.max(counts))\n",
    "    _ = axes[i].scatter(X['log2ratiomean'], X['VAF'], c=labels, s=1)\n",
    "    # print(f'{components} components - AIC:', gmm.aic(X))\n",
    "    # print(f'{components} components - BIC:', gmm.bic(X))"
   ]
  },
  {
   "cell_type": "markdown",
   "metadata": {},
   "source": [
    "+ increasing n_init to 20 does the job:"
   ]
  },
  {
   "cell_type": "code",
   "execution_count": null,
   "metadata": {
    "ExecuteTime": {
     "end_time": "2020-10-28T10:57:27.687791Z",
     "start_time": "2020-10-28T10:57:19.683641Z"
    }
   },
   "outputs": [],
   "source": [
    "choice = range(5)\n",
    "fig, axes = plt.subplots(1, len(choice), figsize=(20,5))\n",
    "for i, components in enumerate(choice):\n",
    "    gmm = GMM(n_components=3, covariance_type='diag', n_init=25)\n",
    "    labels = gmm.fit_predict(X)\n",
    "    _, counts = np.unique(labels, return_counts=True)\n",
    "    print(np.max(counts))\n",
    "    _ = axes[i].scatter(X['log2ratiomean'], X['VAF'], c=labels, s=1)\n",
    "    # print(f'{components} components - AIC:', gmm.aic(X))\n",
    "    # print(f'{components} components - BIC:', gmm.bic(X))"
   ]
  },
  {
   "cell_type": "markdown",
   "metadata": {
    "ExecuteTime": {
     "end_time": "2020-10-26T17:59:34.654063Z",
     "start_time": "2020-10-26T17:59:34.649723Z"
    }
   },
   "source": [
    "+ get_centers computes the means from the best fit centers"
   ]
  },
  {
   "cell_type": "code",
   "execution_count": null,
   "metadata": {
    "ExecuteTime": {
     "end_time": "2020-10-28T12:00:53.126987Z",
     "start_time": "2020-10-28T12:00:52.793086Z"
    }
   },
   "outputs": [],
   "source": [
    "from sklearn.mixture import GaussianMixture as GMM\n",
    "\n",
    "def get_centers(merge_df, runs=25, comps=3, VAF_limits=(0.05, 0.95), exclude_X=True):\n",
    "    '''\n",
    "    use GMM to identify the center cluster and get the means from that\n",
    "    because GMM occasionally does not identify the center cluster,\n",
    "    I let the GMM proceed several times and minimize the center cluster\n",
    "    next, the center cluster can be identified as the maximum center\n",
    "    '''\n",
    "    VAFmin, VAFmax = VAF_limits\n",
    "    # fit the centers to the data \n",
    "    if exclude_X:\n",
    "        merge_df = merge_df.query('Chr != \"chrX\"')     \n",
    "    X = merge_df.query('@VAFmin < VAF < @VAFmax and log2ratiomean == log2ratiomean')[['log2ratiomean', 'VAF']]\n",
    "\n",
    "    gmm = GMM(n_components=comps, covariance_type='diag', n_init=runs).fit(X)\n",
    "    labels = gmm.predict(X)\n",
    "    # get the size of the \n",
    "    _, counts = np.unique(labels, return_counts=True)\n",
    "    maxcount = np.max(counts)\n",
    "    centers = pd.DataFrame(gmm.means_, columns=['log2ratio', 'VAF'])\n",
    "    # get mean_cov and meanVAF from largest cluster\n",
    "    meanCov, meanVAF = centers.loc[np.argmax(counts)]\n",
    "    size = maxcount\n",
    "            \n",
    "    print(f'GMM using {runs} inits: center size {size} meanVAF = {round(meanVAF, 2)} meanCov={round(meanCov, 2)}')\n",
    "    \n",
    "    return meanCov, meanVAF, centers"
   ]
  },
  {
   "cell_type": "code",
   "execution_count": null,
   "metadata": {
    "ExecuteTime": {
     "end_time": "2020-10-28T12:00:53.484840Z",
     "start_time": "2020-10-28T12:00:53.456063Z"
    }
   },
   "outputs": [],
   "source": [
    "meanCov, meanVAF, centers = get_centers(merge)\n",
    "meanVAF"
   ]
  },
  {
   "cell_type": "code",
   "execution_count": null,
   "metadata": {},
   "outputs": [],
   "source": []
  }
 ],
 "metadata": {
  "kernelspec": {
   "display_name": "Python 3",
   "language": "python",
   "name": "python3"
  },
  "language_info": {
   "codemirror_mode": {
    "name": "ipython",
    "version": 3
   },
   "file_extension": ".py",
   "mimetype": "text/x-python",
   "name": "python",
   "nbconvert_exporter": "python",
   "pygments_lexer": "ipython3",
   "version": "3.8.6"
  },
  "varInspector": {
   "cols": {
    "lenName": 16,
    "lenType": 16,
    "lenVar": 40
   },
   "kernels_config": {
    "python": {
     "delete_cmd_postfix": "",
     "delete_cmd_prefix": "del ",
     "library": "var_list.py",
     "varRefreshCmd": "print(var_dic_list())"
    },
    "r": {
     "delete_cmd_postfix": ") ",
     "delete_cmd_prefix": "rm(",
     "library": "var_list.r",
     "varRefreshCmd": "cat(var_dic_list()) "
    }
   },
   "types_to_exclude": [
    "module",
    "function",
    "builtin_function_or_method",
    "instance",
    "_Feature"
   ],
   "window_display": false
  }
 },
 "nbformat": 4,
 "nbformat_minor": 4
}
