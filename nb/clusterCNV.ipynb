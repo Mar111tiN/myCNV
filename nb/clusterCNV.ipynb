{
 "cells": [
  {
   "cell_type": "markdown",
   "metadata": {},
   "source": [
    "## SETUP"
   ]
  },
  {
   "cell_type": "code",
   "execution_count": 3,
   "metadata": {
    "ExecuteTime": {
     "end_time": "2020-11-14T06:33:33.856102Z",
     "start_time": "2020-11-14T06:33:33.791638Z"
    }
   },
   "outputs": [],
   "source": [
    "# HOME\n",
    "import os\n",
    "import matplotlib as mpl\n",
    "import matplotlib.pyplot as plt\n",
    "# use seaborn plotting defaults\n",
    "import seaborn as sns; sns.set()\n",
    "\n",
    "# get the code\n",
    "import sys\n",
    "sys.path.append('../scripts')\n",
    "from codeCNV.plot import plot_genomic, plot_snp, plot_2d, plot_3d\n",
    "from script_utils import show_output\n",
    "\n",
    "home = '/Users/mahtin'\n",
    "# home = '/Users/martinscience'\n",
    "# standard paths\n",
    "testdata = os.path.join(home,\"Dropbox/Icke/Work/somVar/testdata\")\n",
    "static_path = os.path.join(home, \"Dropbox/Icke/Work/static\")\n",
    "cluster_path = os.path.join(home, \"mount\")\n",
    "tooldata = os.path.join(home, \"Dropbox/Icke/Work/somVar/tooldata\")\n",
    "\n",
    "# load the config\n",
    "# edit config directly in yaml file\n",
    "import yaml\n",
    "config_file = '../config/config_devel.yaml'\n",
    "def get_config(config_file, param):\n",
    "        with open(config_file) as file:\n",
    "        # The FullLoader parameter handles the conversion from YAML\n",
    "        # scalar values to Python the dictionary format\n",
    "            config = yaml.load(file, Loader=yaml.FullLoader)['CNV'][param]\n",
    "        return config\n",
    "config = get_config(config_file, 'cluster')\n",
    "\n",
    "cnvdata = os.path.join(tooldata, \"myCNVdata\")\n",
    "output_path = os.path.join(cnvdata, \"output\")\n"
   ]
  },
  {
   "cell_type": "markdown",
   "metadata": {},
   "source": [
    "###  get the sample"
   ]
  },
  {
   "cell_type": "code",
   "execution_count": 13,
   "metadata": {
    "ExecuteTime": {
     "end_time": "2020-11-14T06:34:33.707238Z",
     "start_time": "2020-11-14T06:34:33.623434Z"
    }
   },
   "outputs": [
    {
     "data": {
      "text/html": [
       "<div>\n",
       "<style scoped>\n",
       "    .dataframe tbody tr th:only-of-type {\n",
       "        vertical-align: middle;\n",
       "    }\n",
       "\n",
       "    .dataframe tbody tr th {\n",
       "        vertical-align: top;\n",
       "    }\n",
       "\n",
       "    .dataframe thead th {\n",
       "        text-align: right;\n",
       "    }\n",
       "</style>\n",
       "<table border=\"1\" class=\"dataframe\">\n",
       "  <thead>\n",
       "    <tr style=\"text-align: right;\">\n",
       "      <th></th>\n",
       "      <th>Chr</th>\n",
       "      <th>Pos</th>\n",
       "      <th>FullExonPos</th>\n",
       "      <th>ExonPos</th>\n",
       "      <th>log2ratio</th>\n",
       "      <th>log2ratiomean</th>\n",
       "      <th>VAF</th>\n",
       "      <th>absVAF</th>\n",
       "      <th>absVAFmean</th>\n",
       "      <th>covCNV</th>\n",
       "      <th>covCNVcore</th>\n",
       "      <th>covCenter</th>\n",
       "      <th>covCentercore</th>\n",
       "      <th>snpCNV</th>\n",
       "      <th>snpCNVcore</th>\n",
       "      <th>snpCenter</th>\n",
       "      <th>snpCentercore</th>\n",
       "    </tr>\n",
       "  </thead>\n",
       "  <tbody>\n",
       "    <tr>\n",
       "      <th>0</th>\n",
       "      <td>chr1</td>\n",
       "      <td>965125</td>\n",
       "      <td>20103</td>\n",
       "      <td>20127</td>\n",
       "      <td>0.563300</td>\n",
       "      <td>0.669793</td>\n",
       "      <td>0.476056</td>\n",
       "      <td>0.007785</td>\n",
       "      <td>0.063388</td>\n",
       "      <td>2.0</td>\n",
       "      <td>1.0</td>\n",
       "      <td>0.0</td>\n",
       "      <td>0.0</td>\n",
       "      <td>0</td>\n",
       "      <td>0</td>\n",
       "      <td>1</td>\n",
       "      <td>1</td>\n",
       "    </tr>\n",
       "    <tr>\n",
       "      <th>1</th>\n",
       "      <td>chr1</td>\n",
       "      <td>980388</td>\n",
       "      <td>24855</td>\n",
       "      <td>24855</td>\n",
       "      <td>0.499602</td>\n",
       "      <td>0.612727</td>\n",
       "      <td>0.437656</td>\n",
       "      <td>0.069015</td>\n",
       "      <td>0.065166</td>\n",
       "      <td>2.0</td>\n",
       "      <td>1.0</td>\n",
       "      <td>0.0</td>\n",
       "      <td>0.0</td>\n",
       "      <td>0</td>\n",
       "      <td>0</td>\n",
       "      <td>1</td>\n",
       "      <td>1</td>\n",
       "    </tr>\n",
       "    <tr>\n",
       "      <th>2</th>\n",
       "      <td>chr1</td>\n",
       "      <td>982263</td>\n",
       "      <td>25925</td>\n",
       "      <td>25938</td>\n",
       "      <td>0.638731</td>\n",
       "      <td>0.647699</td>\n",
       "      <td>0.385580</td>\n",
       "      <td>0.173167</td>\n",
       "      <td>0.064314</td>\n",
       "      <td>2.0</td>\n",
       "      <td>1.0</td>\n",
       "      <td>0.0</td>\n",
       "      <td>0.0</td>\n",
       "      <td>0</td>\n",
       "      <td>0</td>\n",
       "      <td>1</td>\n",
       "      <td>1</td>\n",
       "    </tr>\n",
       "    <tr>\n",
       "      <th>3</th>\n",
       "      <td>chr1</td>\n",
       "      <td>1048922</td>\n",
       "      <td>33815</td>\n",
       "      <td>33815</td>\n",
       "      <td>0.477162</td>\n",
       "      <td>0.665248</td>\n",
       "      <td>0.491166</td>\n",
       "      <td>0.038005</td>\n",
       "      <td>0.058439</td>\n",
       "      <td>2.0</td>\n",
       "      <td>1.0</td>\n",
       "      <td>0.0</td>\n",
       "      <td>0.0</td>\n",
       "      <td>0</td>\n",
       "      <td>0</td>\n",
       "      <td>1</td>\n",
       "      <td>1</td>\n",
       "    </tr>\n",
       "    <tr>\n",
       "      <th>4</th>\n",
       "      <td>chr1</td>\n",
       "      <td>1049886</td>\n",
       "      <td>34640</td>\n",
       "      <td>34640</td>\n",
       "      <td>0.531363</td>\n",
       "      <td>0.668527</td>\n",
       "      <td>0.478022</td>\n",
       "      <td>0.011717</td>\n",
       "      <td>0.059002</td>\n",
       "      <td>2.0</td>\n",
       "      <td>1.0</td>\n",
       "      <td>0.0</td>\n",
       "      <td>0.0</td>\n",
       "      <td>0</td>\n",
       "      <td>0</td>\n",
       "      <td>1</td>\n",
       "      <td>1</td>\n",
       "    </tr>\n",
       "    <tr>\n",
       "      <th>...</th>\n",
       "      <td>...</td>\n",
       "      <td>...</td>\n",
       "      <td>...</td>\n",
       "      <td>...</td>\n",
       "      <td>...</td>\n",
       "      <td>...</td>\n",
       "      <td>...</td>\n",
       "      <td>...</td>\n",
       "      <td>...</td>\n",
       "      <td>...</td>\n",
       "      <td>...</td>\n",
       "      <td>...</td>\n",
       "      <td>...</td>\n",
       "      <td>...</td>\n",
       "      <td>...</td>\n",
       "      <td>...</td>\n",
       "      <td>...</td>\n",
       "    </tr>\n",
       "    <tr>\n",
       "      <th>19672</th>\n",
       "      <td>chrX</td>\n",
       "      <td>155491696</td>\n",
       "      <td>49462052</td>\n",
       "      <td>1827589</td>\n",
       "      <td>0.385687</td>\n",
       "      <td>-0.156839</td>\n",
       "      <td>0.610687</td>\n",
       "      <td>0.277047</td>\n",
       "      <td>0.163347</td>\n",
       "      <td>0.0</td>\n",
       "      <td>0.0</td>\n",
       "      <td>1824.0</td>\n",
       "      <td>1.0</td>\n",
       "      <td>0</td>\n",
       "      <td>0</td>\n",
       "      <td>573</td>\n",
       "      <td>1</td>\n",
       "    </tr>\n",
       "    <tr>\n",
       "      <th>19673</th>\n",
       "      <td>chrX</td>\n",
       "      <td>155774618</td>\n",
       "      <td>49464550</td>\n",
       "      <td>1830087</td>\n",
       "      <td>-0.499063</td>\n",
       "      <td>-0.177734</td>\n",
       "      <td>0.485380</td>\n",
       "      <td>0.026433</td>\n",
       "      <td>0.144904</td>\n",
       "      <td>0.0</td>\n",
       "      <td>0.0</td>\n",
       "      <td>1824.0</td>\n",
       "      <td>1.0</td>\n",
       "      <td>0</td>\n",
       "      <td>0</td>\n",
       "      <td>573</td>\n",
       "      <td>1</td>\n",
       "    </tr>\n",
       "    <tr>\n",
       "      <th>19674</th>\n",
       "      <td>chrX</td>\n",
       "      <td>156022033</td>\n",
       "      <td>49468799</td>\n",
       "      <td>1834336</td>\n",
       "      <td>1.394193</td>\n",
       "      <td>-0.193103</td>\n",
       "      <td>0.761905</td>\n",
       "      <td>0.579483</td>\n",
       "      <td>0.173068</td>\n",
       "      <td>0.0</td>\n",
       "      <td>0.0</td>\n",
       "      <td>1824.0</td>\n",
       "      <td>1.0</td>\n",
       "      <td>0</td>\n",
       "      <td>0</td>\n",
       "      <td>573</td>\n",
       "      <td>1</td>\n",
       "    </tr>\n",
       "    <tr>\n",
       "      <th>19675</th>\n",
       "      <td>chrX</td>\n",
       "      <td>156023203</td>\n",
       "      <td>49469593</td>\n",
       "      <td>1835130</td>\n",
       "      <td>-0.614469</td>\n",
       "      <td>-0.193519</td>\n",
       "      <td>0.471910</td>\n",
       "      <td>0.000507</td>\n",
       "      <td>0.251825</td>\n",
       "      <td>0.0</td>\n",
       "      <td>0.0</td>\n",
       "      <td>1824.0</td>\n",
       "      <td>1.0</td>\n",
       "      <td>0</td>\n",
       "      <td>0</td>\n",
       "      <td>0</td>\n",
       "      <td>0</td>\n",
       "    </tr>\n",
       "    <tr>\n",
       "      <th>19676</th>\n",
       "      <td>chrX</td>\n",
       "      <td>156023244</td>\n",
       "      <td>49469634</td>\n",
       "      <td>1835171</td>\n",
       "      <td>-0.631798</td>\n",
       "      <td>-0.193573</td>\n",
       "      <td>0.800000</td>\n",
       "      <td>0.655673</td>\n",
       "      <td>0.280520</td>\n",
       "      <td>0.0</td>\n",
       "      <td>0.0</td>\n",
       "      <td>1824.0</td>\n",
       "      <td>1.0</td>\n",
       "      <td>0</td>\n",
       "      <td>0</td>\n",
       "      <td>0</td>\n",
       "      <td>0</td>\n",
       "    </tr>\n",
       "  </tbody>\n",
       "</table>\n",
       "<p>19677 rows × 17 columns</p>\n",
       "</div>"
      ],
      "text/plain": [
       "        Chr        Pos  FullExonPos  ExonPos  log2ratio  log2ratiomean  \\\n",
       "0      chr1     965125        20103    20127   0.563300       0.669793   \n",
       "1      chr1     980388        24855    24855   0.499602       0.612727   \n",
       "2      chr1     982263        25925    25938   0.638731       0.647699   \n",
       "3      chr1    1048922        33815    33815   0.477162       0.665248   \n",
       "4      chr1    1049886        34640    34640   0.531363       0.668527   \n",
       "...     ...        ...          ...      ...        ...            ...   \n",
       "19672  chrX  155491696     49462052  1827589   0.385687      -0.156839   \n",
       "19673  chrX  155774618     49464550  1830087  -0.499063      -0.177734   \n",
       "19674  chrX  156022033     49468799  1834336   1.394193      -0.193103   \n",
       "19675  chrX  156023203     49469593  1835130  -0.614469      -0.193519   \n",
       "19676  chrX  156023244     49469634  1835171  -0.631798      -0.193573   \n",
       "\n",
       "            VAF    absVAF  absVAFmean  covCNV  covCNVcore  covCenter  \\\n",
       "0      0.476056  0.007785    0.063388     2.0         1.0        0.0   \n",
       "1      0.437656  0.069015    0.065166     2.0         1.0        0.0   \n",
       "2      0.385580  0.173167    0.064314     2.0         1.0        0.0   \n",
       "3      0.491166  0.038005    0.058439     2.0         1.0        0.0   \n",
       "4      0.478022  0.011717    0.059002     2.0         1.0        0.0   \n",
       "...         ...       ...         ...     ...         ...        ...   \n",
       "19672  0.610687  0.277047    0.163347     0.0         0.0     1824.0   \n",
       "19673  0.485380  0.026433    0.144904     0.0         0.0     1824.0   \n",
       "19674  0.761905  0.579483    0.173068     0.0         0.0     1824.0   \n",
       "19675  0.471910  0.000507    0.251825     0.0         0.0     1824.0   \n",
       "19676  0.800000  0.655673    0.280520     0.0         0.0     1824.0   \n",
       "\n",
       "       covCentercore  snpCNV  snpCNVcore  snpCenter  snpCentercore  \n",
       "0                0.0       0           0          1              1  \n",
       "1                0.0       0           0          1              1  \n",
       "2                0.0       0           0          1              1  \n",
       "3                0.0       0           0          1              1  \n",
       "4                0.0       0           0          1              1  \n",
       "...              ...     ...         ...        ...            ...  \n",
       "19672            1.0       0           0        573              1  \n",
       "19673            1.0       0           0        573              1  \n",
       "19674            1.0       0           0        573              1  \n",
       "19675            1.0       0           0          0              0  \n",
       "19676            1.0       0           0          0              0  \n",
       "\n",
       "[19677 rows x 17 columns]"
      ]
     },
     "execution_count": 13,
     "metadata": {},
     "output_type": "execute_result"
    }
   ],
   "source": [
    "sample = \"02_A\"\n",
    "\n",
    "cluster_df = pd.read_csv(os.path.join(output_path, f'CNV/{sample}.cluster'), sep='\\t')\n",
    "cluster_df"
   ]
  },
  {
   "cell_type": "markdown",
   "metadata": {},
   "source": [
    "### strategy\n",
    "+ get the means and sigma from the center_df\n",
    "+ adjust absVAF and log2ratio of CNV_df\n",
    "+ plot\n",
    "+ find most likely purity by llh2d_mask"
   ]
  },
  {
   "cell_type": "code",
   "execution_count": 14,
   "metadata": {
    "ExecuteTime": {
     "end_time": "2020-11-14T06:34:38.769095Z",
     "start_time": "2020-11-14T06:34:38.764409Z"
    }
   },
   "outputs": [],
   "source": [
    "def center_data(cluster_df):\n",
    "    '''\n",
    "    get the center_df containing only points belonging to both Centercores\n",
    "    '''\n",
    "    \n",
    "    cols = ['log2ratio', 'log2ratiomean', 'absVAF', 'absVAFmean']\n",
    "    \n",
    "    # get the center_df with points belonging to both Centercores\n",
    "    center_df = cluster_df.query('covCentercore + snpCentercore == 2').copy()\n",
    "    # get the mean and std for relevant columns\n",
    "    center_params = center_df[cols].agg(['mean', 'std']).T\n",
    "    # get the cnv_df with at least one CNVcore per point\n",
    "    cnv_df = cluster_df.query('covCNVcore + snpCNVcore > 0').copy()\n",
    "    \n",
    "    for col in cols:\n",
    "        center_df.loc[:, col] = center_df[col] - center_params.loc[col, 'mean']\n",
    "        cnv_df.loc[:, col] = cnv_df[col] - center_params.loc[col, 'mean']\n",
    "    return cnv_df, center_df, center_params"
   ]
  },
  {
   "cell_type": "code",
   "execution_count": 15,
   "metadata": {
    "ExecuteTime": {
     "end_time": "2020-11-14T06:34:39.297264Z",
     "start_time": "2020-11-14T06:34:39.269941Z"
    }
   },
   "outputs": [
    {
     "data": {
      "text/html": [
       "<div>\n",
       "<style scoped>\n",
       "    .dataframe tbody tr th:only-of-type {\n",
       "        vertical-align: middle;\n",
       "    }\n",
       "\n",
       "    .dataframe tbody tr th {\n",
       "        vertical-align: top;\n",
       "    }\n",
       "\n",
       "    .dataframe thead th {\n",
       "        text-align: right;\n",
       "    }\n",
       "</style>\n",
       "<table border=\"1\" class=\"dataframe\">\n",
       "  <thead>\n",
       "    <tr style=\"text-align: right;\">\n",
       "      <th></th>\n",
       "      <th>mean</th>\n",
       "      <th>std</th>\n",
       "    </tr>\n",
       "  </thead>\n",
       "  <tbody>\n",
       "    <tr>\n",
       "      <th>log2ratio</th>\n",
       "      <td>-0.085347</td>\n",
       "      <td>0.359786</td>\n",
       "    </tr>\n",
       "    <tr>\n",
       "      <th>log2ratiomean</th>\n",
       "      <td>-0.124009</td>\n",
       "      <td>0.099946</td>\n",
       "    </tr>\n",
       "    <tr>\n",
       "      <th>absVAF</th>\n",
       "      <td>0.086971</td>\n",
       "      <td>0.129386</td>\n",
       "    </tr>\n",
       "    <tr>\n",
       "      <th>absVAFmean</th>\n",
       "      <td>0.086090</td>\n",
       "      <td>0.034142</td>\n",
       "    </tr>\n",
       "  </tbody>\n",
       "</table>\n",
       "</div>"
      ],
      "text/plain": [
       "                   mean       std\n",
       "log2ratio     -0.085347  0.359786\n",
       "log2ratiomean -0.124009  0.099946\n",
       "absVAF         0.086971  0.129386\n",
       "absVAFmean     0.086090  0.034142"
      ]
     },
     "execution_count": 15,
     "metadata": {},
     "output_type": "execute_result"
    }
   ],
   "source": [
    "cnv_df, center_df, center_params = center_data(cluster_df)\n",
    "center_params"
   ]
  },
  {
   "cell_type": "code",
   "execution_count": 19,
   "metadata": {
    "ExecuteTime": {
     "end_time": "2020-11-14T06:39:40.867590Z",
     "start_time": "2020-11-14T06:39:40.663230Z"
    }
   },
   "outputs": [
    {
     "data": {
      "image/png": "[encoded data removed]",
      "text/plain": [
       "<Figure size 360x360 with 1 Axes>"
      ]
     },
     "metadata": {},
     "output_type": "display_data"
    }
   ],
   "source": [
    "xcol = 'VAF'\n",
    "ycol = 'log2ratio'\n",
    "plot_2d(center_df, df2=cnv_df, xcol=xcol, ycol=ycol)"
   ]
  },
  {
   "cell_type": "code",
   "execution_count": 26,
   "metadata": {
    "ExecuteTime": {
     "end_time": "2020-11-14T06:42:43.151395Z",
     "start_time": "2020-11-14T06:42:42.951350Z"
    }
   },
   "outputs": [
    {
     "data": {
      "image/png": "[encoded data removed]",
      "text/plain": [
       "<Figure size 360x360 with 1 Axes>"
      ]
     },
     "metadata": {},
     "output_type": "display_data"
    }
   ],
   "source": [
    "xcol = 'absVAFmean'\n",
    "ycol = 'log2ratio'\n",
    "plot_2d(center_df, df2=cnv_df, xcol=xcol, ycol=ycol)"
   ]
  },
  {
   "cell_type": "code",
   "execution_count": null,
   "metadata": {},
   "outputs": [],
   "source": []
  },
  {
   "cell_type": "markdown",
   "metadata": {},
   "source": [
    "### llh2d"
   ]
  },
  {
   "cell_type": "code",
   "execution_count": 20,
   "metadata": {
    "ExecuteTime": {
     "end_time": "2020-11-14T06:40:30.140319Z",
     "start_time": "2020-11-14T06:40:30.119155Z"
    }
   },
   "outputs": [
    {
     "data": {
      "text/html": [
       "<div>\n",
       "<style scoped>\n",
       "    .dataframe tbody tr th:only-of-type {\n",
       "        vertical-align: middle;\n",
       "    }\n",
       "\n",
       "    .dataframe tbody tr th {\n",
       "        vertical-align: top;\n",
       "    }\n",
       "\n",
       "    .dataframe thead th {\n",
       "        text-align: right;\n",
       "    }\n",
       "</style>\n",
       "<table border=\"1\" class=\"dataframe\">\n",
       "  <thead>\n",
       "    <tr style=\"text-align: right;\">\n",
       "      <th></th>\n",
       "      <th>Chr</th>\n",
       "      <th>Pos</th>\n",
       "      <th>FullExonPos</th>\n",
       "      <th>ExonPos</th>\n",
       "      <th>log2ratio</th>\n",
       "      <th>log2ratiomean</th>\n",
       "      <th>VAF</th>\n",
       "      <th>absVAF</th>\n",
       "      <th>absVAFmean</th>\n",
       "      <th>covCNV</th>\n",
       "      <th>covCNVcore</th>\n",
       "      <th>covCenter</th>\n",
       "      <th>covCentercore</th>\n",
       "      <th>snpCNV</th>\n",
       "      <th>snpCNVcore</th>\n",
       "      <th>snpCenter</th>\n",
       "      <th>snpCentercore</th>\n",
       "    </tr>\n",
       "  </thead>\n",
       "  <tbody>\n",
       "    <tr>\n",
       "      <th>0</th>\n",
       "      <td>chr1</td>\n",
       "      <td>965125</td>\n",
       "      <td>20103</td>\n",
       "      <td>20127</td>\n",
       "      <td>0.648646</td>\n",
       "      <td>0.793802</td>\n",
       "      <td>0.476056</td>\n",
       "      <td>-0.079186</td>\n",
       "      <td>-0.022703</td>\n",
       "      <td>2.0</td>\n",
       "      <td>1.0</td>\n",
       "      <td>0.0</td>\n",
       "      <td>0.0</td>\n",
       "      <td>0</td>\n",
       "      <td>0</td>\n",
       "      <td>1</td>\n",
       "      <td>1</td>\n",
       "    </tr>\n",
       "    <tr>\n",
       "      <th>1</th>\n",
       "      <td>chr1</td>\n",
       "      <td>980388</td>\n",
       "      <td>24855</td>\n",
       "      <td>24855</td>\n",
       "      <td>0.584948</td>\n",
       "      <td>0.736736</td>\n",
       "      <td>0.437656</td>\n",
       "      <td>-0.017957</td>\n",
       "      <td>-0.020924</td>\n",
       "      <td>2.0</td>\n",
       "      <td>1.0</td>\n",
       "      <td>0.0</td>\n",
       "      <td>0.0</td>\n",
       "      <td>0</td>\n",
       "      <td>0</td>\n",
       "      <td>1</td>\n",
       "      <td>1</td>\n",
       "    </tr>\n",
       "    <tr>\n",
       "      <th>2</th>\n",
       "      <td>chr1</td>\n",
       "      <td>982263</td>\n",
       "      <td>25925</td>\n",
       "      <td>25938</td>\n",
       "      <td>0.724078</td>\n",
       "      <td>0.771708</td>\n",
       "      <td>0.385580</td>\n",
       "      <td>0.086195</td>\n",
       "      <td>-0.021777</td>\n",
       "      <td>2.0</td>\n",
       "      <td>1.0</td>\n",
       "      <td>0.0</td>\n",
       "      <td>0.0</td>\n",
       "      <td>0</td>\n",
       "      <td>0</td>\n",
       "      <td>1</td>\n",
       "      <td>1</td>\n",
       "    </tr>\n",
       "    <tr>\n",
       "      <th>3</th>\n",
       "      <td>chr1</td>\n",
       "      <td>1048922</td>\n",
       "      <td>33815</td>\n",
       "      <td>33815</td>\n",
       "      <td>0.562509</td>\n",
       "      <td>0.789257</td>\n",
       "      <td>0.491166</td>\n",
       "      <td>-0.048966</td>\n",
       "      <td>-0.027651</td>\n",
       "      <td>2.0</td>\n",
       "      <td>1.0</td>\n",
       "      <td>0.0</td>\n",
       "      <td>0.0</td>\n",
       "      <td>0</td>\n",
       "      <td>0</td>\n",
       "      <td>1</td>\n",
       "      <td>1</td>\n",
       "    </tr>\n",
       "    <tr>\n",
       "      <th>4</th>\n",
       "      <td>chr1</td>\n",
       "      <td>1049886</td>\n",
       "      <td>34640</td>\n",
       "      <td>34640</td>\n",
       "      <td>0.616710</td>\n",
       "      <td>0.792536</td>\n",
       "      <td>0.478022</td>\n",
       "      <td>-0.075254</td>\n",
       "      <td>-0.027088</td>\n",
       "      <td>2.0</td>\n",
       "      <td>1.0</td>\n",
       "      <td>0.0</td>\n",
       "      <td>0.0</td>\n",
       "      <td>0</td>\n",
       "      <td>0</td>\n",
       "      <td>1</td>\n",
       "      <td>1</td>\n",
       "    </tr>\n",
       "    <tr>\n",
       "      <th>...</th>\n",
       "      <td>...</td>\n",
       "      <td>...</td>\n",
       "      <td>...</td>\n",
       "      <td>...</td>\n",
       "      <td>...</td>\n",
       "      <td>...</td>\n",
       "      <td>...</td>\n",
       "      <td>...</td>\n",
       "      <td>...</td>\n",
       "      <td>...</td>\n",
       "      <td>...</td>\n",
       "      <td>...</td>\n",
       "      <td>...</td>\n",
       "      <td>...</td>\n",
       "      <td>...</td>\n",
       "      <td>...</td>\n",
       "      <td>...</td>\n",
       "    </tr>\n",
       "    <tr>\n",
       "      <th>19664</th>\n",
       "      <td>chrX</td>\n",
       "      <td>154428737</td>\n",
       "      <td>49402439</td>\n",
       "      <td>1767976</td>\n",
       "      <td>0.608312</td>\n",
       "      <td>0.632760</td>\n",
       "      <td>0.419890</td>\n",
       "      <td>0.017575</td>\n",
       "      <td>0.238146</td>\n",
       "      <td>1016.0</td>\n",
       "      <td>1.0</td>\n",
       "      <td>0.0</td>\n",
       "      <td>0.0</td>\n",
       "      <td>0</td>\n",
       "      <td>0</td>\n",
       "      <td>573</td>\n",
       "      <td>0</td>\n",
       "    </tr>\n",
       "    <tr>\n",
       "      <th>19665</th>\n",
       "      <td>chrX</td>\n",
       "      <td>154438187</td>\n",
       "      <td>49404678</td>\n",
       "      <td>1770203</td>\n",
       "      <td>0.239560</td>\n",
       "      <td>0.597567</td>\n",
       "      <td>0.453376</td>\n",
       "      <td>-0.049397</td>\n",
       "      <td>0.239414</td>\n",
       "      <td>1016.0</td>\n",
       "      <td>1.0</td>\n",
       "      <td>0.0</td>\n",
       "      <td>0.0</td>\n",
       "      <td>0</td>\n",
       "      <td>0</td>\n",
       "      <td>573</td>\n",
       "      <td>0</td>\n",
       "    </tr>\n",
       "    <tr>\n",
       "      <th>19666</th>\n",
       "      <td>chrX</td>\n",
       "      <td>154438830</td>\n",
       "      <td>49405112</td>\n",
       "      <td>1770649</td>\n",
       "      <td>0.770138</td>\n",
       "      <td>0.592142</td>\n",
       "      <td>0.442396</td>\n",
       "      <td>-0.027437</td>\n",
       "      <td>0.240017</td>\n",
       "      <td>1016.0</td>\n",
       "      <td>1.0</td>\n",
       "      <td>0.0</td>\n",
       "      <td>0.0</td>\n",
       "      <td>0</td>\n",
       "      <td>0</td>\n",
       "      <td>573</td>\n",
       "      <td>0</td>\n",
       "    </tr>\n",
       "    <tr>\n",
       "      <th>19667</th>\n",
       "      <td>chrX</td>\n",
       "      <td>154450358</td>\n",
       "      <td>49408477</td>\n",
       "      <td>1774014</td>\n",
       "      <td>0.386832</td>\n",
       "      <td>0.567458</td>\n",
       "      <td>0.438111</td>\n",
       "      <td>-0.018867</td>\n",
       "      <td>0.238815</td>\n",
       "      <td>1016.0</td>\n",
       "      <td>1.0</td>\n",
       "      <td>0.0</td>\n",
       "      <td>0.0</td>\n",
       "      <td>0</td>\n",
       "      <td>0</td>\n",
       "      <td>573</td>\n",
       "      <td>0</td>\n",
       "    </tr>\n",
       "    <tr>\n",
       "      <th>19668</th>\n",
       "      <td>chrX</td>\n",
       "      <td>154485691</td>\n",
       "      <td>49417704</td>\n",
       "      <td>1783241</td>\n",
       "      <td>0.749422</td>\n",
       "      <td>0.589157</td>\n",
       "      <td>0.948164</td>\n",
       "      <td>0.865030</td>\n",
       "      <td>0.203479</td>\n",
       "      <td>1016.0</td>\n",
       "      <td>1.0</td>\n",
       "      <td>0.0</td>\n",
       "      <td>0.0</td>\n",
       "      <td>0</td>\n",
       "      <td>0</td>\n",
       "      <td>573</td>\n",
       "      <td>0</td>\n",
       "    </tr>\n",
       "  </tbody>\n",
       "</table>\n",
       "<p>4688 rows × 17 columns</p>\n",
       "</div>"
      ],
      "text/plain": [
       "        Chr        Pos  FullExonPos  ExonPos  log2ratio  log2ratiomean  \\\n",
       "0      chr1     965125        20103    20127   0.648646       0.793802   \n",
       "1      chr1     980388        24855    24855   0.584948       0.736736   \n",
       "2      chr1     982263        25925    25938   0.724078       0.771708   \n",
       "3      chr1    1048922        33815    33815   0.562509       0.789257   \n",
       "4      chr1    1049886        34640    34640   0.616710       0.792536   \n",
       "...     ...        ...          ...      ...        ...            ...   \n",
       "19664  chrX  154428737     49402439  1767976   0.608312       0.632760   \n",
       "19665  chrX  154438187     49404678  1770203   0.239560       0.597567   \n",
       "19666  chrX  154438830     49405112  1770649   0.770138       0.592142   \n",
       "19667  chrX  154450358     49408477  1774014   0.386832       0.567458   \n",
       "19668  chrX  154485691     49417704  1783241   0.749422       0.589157   \n",
       "\n",
       "            VAF    absVAF  absVAFmean  covCNV  covCNVcore  covCenter  \\\n",
       "0      0.476056 -0.079186   -0.022703     2.0         1.0        0.0   \n",
       "1      0.437656 -0.017957   -0.020924     2.0         1.0        0.0   \n",
       "2      0.385580  0.086195   -0.021777     2.0         1.0        0.0   \n",
       "3      0.491166 -0.048966   -0.027651     2.0         1.0        0.0   \n",
       "4      0.478022 -0.075254   -0.027088     2.0         1.0        0.0   \n",
       "...         ...       ...         ...     ...         ...        ...   \n",
       "19664  0.419890  0.017575    0.238146  1016.0         1.0        0.0   \n",
       "19665  0.453376 -0.049397    0.239414  1016.0         1.0        0.0   \n",
       "19666  0.442396 -0.027437    0.240017  1016.0         1.0        0.0   \n",
       "19667  0.438111 -0.018867    0.238815  1016.0         1.0        0.0   \n",
       "19668  0.948164  0.865030    0.203479  1016.0         1.0        0.0   \n",
       "\n",
       "       covCentercore  snpCNV  snpCNVcore  snpCenter  snpCentercore  \n",
       "0                0.0       0           0          1              1  \n",
       "1                0.0       0           0          1              1  \n",
       "2                0.0       0           0          1              1  \n",
       "3                0.0       0           0          1              1  \n",
       "4                0.0       0           0          1              1  \n",
       "...              ...     ...         ...        ...            ...  \n",
       "19664            0.0       0           0        573              0  \n",
       "19665            0.0       0           0        573              0  \n",
       "19666            0.0       0           0        573              0  \n",
       "19667            0.0       0           0        573              0  \n",
       "19668            0.0       0           0        573              0  \n",
       "\n",
       "[4688 rows x 17 columns]"
      ]
     },
     "execution_count": 20,
     "metadata": {},
     "output_type": "execute_result"
    }
   ],
   "source": [
    "center_params"
   ]
  },
  {
   "cell_type": "code",
   "execution_count": null,
   "metadata": {},
   "outputs": [],
   "source": [
    "def llh(data, mean, sigma):\n",
    "    '''\n",
    "    compute the density function for a given gaussian\n",
    "    takes a pd.Series or np.array\n",
    "    '''\n",
    "    \n",
    "    \n",
    "    \n",
    "    # get the fixed term\n",
    "    s = np.sqrt(2 * np.pi) * sigma\n",
    "    return np.exp((data - mean)**2 / (-2*(sigma**2))) / s\n"
   ]
  },
  {
   "cell_type": "code",
   "execution_count": null,
   "metadata": {},
   "outputs": [],
   "source": [
    "def llh2d(data, mean, sigma):\n",
    "    '''\n",
    "    compute the density function for a given gaussian\n",
    "    takes a pd.Series or np.array\n",
    "    '''\n",
    "    \n",
    "    s = np.sqrt(2 * np.pi) * sigma\n",
    "    return np.exp((data - mean)**2 / (-2*(sigma**2))) / s\n",
    "\n",
    "\n"
   ]
  },
  {
   "cell_type": "code",
   "execution_count": null,
   "metadata": {
    "ExecuteTime": {
     "end_time": "2020-11-06T14:40:06.938244Z",
     "start_time": "2020-11-06T14:40:06.347842Z"
    }
   },
   "outputs": [],
   "source": [
    "log2 = dict(\n",
    "        title='log2ratio',\n",
    "        plot_type='scatter',   # ['line', 'scatter']\n",
    "        data='log2ratio',\n",
    "        plot_args=dict(\n",
    "            linewidth=0.3,\n",
    "            color='black',\n",
    "            s=0.2,\n",
    "            alpha=.7\n",
    "        )\n",
    "    )\n",
    "\n",
    "log2mean = dict(\n",
    "        title='rollinglog2ratio',\n",
    "        plot_type='line',   # ['line', 'scatter']\n",
    "        data='log2ratiomean',\n",
    "        plot_args=dict(\n",
    "            linewidth=1,\n",
    "            color='yellow',\n",
    "            alpha=.7\n",
    "        )\n",
    "    )\n",
    "vaf = dict(\n",
    "        title='VAF',\n",
    "        plot_type='scatter',   # ['line', 'scatter']\n",
    "        data='VAF',\n",
    "        plot_args=dict(\n",
    "            linewidth=0.5,\n",
    "            color='blue',\n",
    "            s=2,\n",
    "            alpha=.4\n",
    "        ))\n",
    "\n",
    "\n",
    "absvafmean = dict(\n",
    "        title='deltaVAFvar',\n",
    "        plot_type='line',   # ['line', 'scatter']\n",
    "        data='absVAFmean',\n",
    "        plot_args=dict(\n",
    "            linewidth=1,\n",
    "            color='green',\n",
    "            alpha=.7\n",
    "        )\n",
    "    )\n",
    "deltavafvar = dict(\n",
    "        title='deltaVAFvar',\n",
    "        plot_type='line',   # ['line', 'scatter']\n",
    "        data='deltaVAFvar',\n",
    "        plot_args=dict(\n",
    "            linewidth=1,\n",
    "            color='blue',\n",
    "            alpha=.7\n",
    "        )\n",
    "    )\n",
    "\n",
    "vafstd = dict(\n",
    "        title='VAFstd',\n",
    "        plot_type='line',   # ['line', 'scatter']\n",
    "        data='VAFstd',\n",
    "        plot_args=dict(\n",
    "            linewidth=2,\n",
    "            color='brown',\n",
    "            alpha=1\n",
    "        )\n",
    "    )\n",
    "\n",
    "fig_params = dict(\n",
    "    figsize=(44,8),\n",
    "    colormap='coolwarm_r',\n",
    "    color_chroms=True,\n",
    "    ylim=(0,1),\n",
    "    cov_offset=.1,  # how much log2ratio=0 is shifted above SNP-data\n",
    "    cov_height=.5,\n",
    "    label_size=13\n",
    ")\n",
    "\n",
    "chroms = ['chr5', 'chr7','chr8', 'chr11', 'chr17']\n",
    "r1 = 'chr17:3Mb-9Mb'\n",
    "\n",
    "sample = \"02_B\"\n",
    "snp_df = pd.read_csv(os.path.join(output_path, f'CNV/{sample}.roll.snp'), sep='\\t').dropna()\n",
    "\n",
    "\n",
    "_ = plot_snp(snp_df, snp_plots=[vaf, absvafmean, vafstd], cov_plots=[log2, log2mean], chroms='all', region='', **fig_params)"
   ]
  },
  {
   "cell_type": "markdown",
   "metadata": {},
   "source": [
    "## finding the weird traces (like in chr7)"
   ]
  },
  {
   "cell_type": "code",
   "execution_count": null,
   "metadata": {
    "ExecuteTime": {
     "end_time": "2020-11-06T14:40:12.244296Z",
     "start_time": "2020-11-06T14:40:11.767320Z"
    }
   },
   "outputs": [],
   "source": [
    "vaf = dict(\n",
    "        title='VAF',\n",
    "        plot_type='scatter',   # ['line', 'scatter']\n",
    "        data='VAF',\n",
    "        plot_args=dict(\n",
    "            linewidth=0.5,\n",
    "            color='blue',\n",
    "            s=5,\n",
    "            alpha=1\n",
    "        ))\n",
    "tchroms = ['chr1', 'chr7', 'chr11', 'chr13', 'chr16', 'chr17', 'chr19', 'chr20', 'chr22', 'chrX']\n",
    "_ = plot_snp(snp_df, snp_plots=[vaf, deltavafvar], cov_plots=[log2, log2mean], chroms=tchroms, region='chr7:101034000-101036000', **fig_params)"
   ]
  },
  {
   "cell_type": "code",
   "execution_count": null,
   "metadata": {
    "ExecuteTime": {
     "end_time": "2020-11-06T14:40:13.191009Z",
     "start_time": "2020-11-06T14:40:13.184437Z"
    }
   },
   "outputs": [],
   "source": [
    "def region_query(region):\n",
    "    '''\n",
    "    function \n",
    "    '''\n",
    "\n",
    "    def convert(pos):\n",
    "        if pos.endswith('Mb'):\n",
    "            pos = int(float(pos.replace('Mb', '')) * 1e6)\n",
    "        elif pos.endswith('kb'):\n",
    "            pos = int(float(pos.replace('kb', '')) * 1000)\n",
    "        else:\n",
    "            pos = int(pos)\n",
    "        return pos\n",
    "\n",
    "    split = region.split(':')\n",
    "    chrom = split[0]\n",
    "\n",
    "    # if start and are used\n",
    "    if len(split) > 1 and '-' in split[1]:\n",
    "        se = split[1].split('-')\n",
    "        start = convert(se[0])\n",
    "        end = convert(se[1])\n",
    "    else:\n",
    "        start = 0\n",
    "        end = 1e10\n",
    "    return f'(Chr == \"{chrom}\" and {start} < Pos < {end})'\n",
    "\n",
    "def r_query(df, region_list):\n",
    "    '''\n",
    "    returns an or-combined pandas query for the regions in the list\n",
    "    '''\n",
    "    \n",
    "    r_query = \" or \".join([region_query(chrom) for chrom in [chr1, chr7, chr17]])\n",
    "    return df.query(r_query)"
   ]
  },
  {
   "cell_type": "markdown",
   "metadata": {},
   "source": [
    "### make bad_df from suspicious regions"
   ]
  },
  {
   "cell_type": "code",
   "execution_count": null,
   "metadata": {
    "ExecuteTime": {
     "end_time": "2020-11-06T14:40:16.739520Z",
     "start_time": "2020-11-06T14:40:16.728411Z"
    }
   },
   "outputs": [],
   "source": [
    "chr1 = 'chr1:12790000-12800000'\n",
    "chr7 = 'chr7:101034000-101036000'\n",
    "chr17 = 'chr17:21415000-21416000'\n",
    "\n",
    "bad_df = r_query(snp_df, [chr1, chr7, chr17])"
   ]
  },
  {
   "cell_type": "markdown",
   "metadata": {},
   "source": [
    "### look where the bad stuff lies"
   ]
  },
  {
   "cell_type": "code",
   "execution_count": null,
   "metadata": {
    "ExecuteTime": {
     "end_time": "2020-11-06T14:40:18.033984Z",
     "start_time": "2020-11-06T14:40:17.875266Z"
    }
   },
   "outputs": [],
   "source": [
    "xcol = 'log2ratiomean'\n",
    "ycol = 'deltaVAFvar'\n",
    "plot_2d(snp_df, df2=bad_df, xcol=xcol, ycol=ycol)"
   ]
  },
  {
   "cell_type": "code",
   "execution_count": null,
   "metadata": {
    "ExecuteTime": {
     "end_time": "2020-11-03T16:02:44.027425Z",
     "start_time": "2020-11-03T16:02:43.882371Z"
    }
   },
   "outputs": [],
   "source": [
    "plot_2d(snp_df, 'log2ratiomean', 'absVAFmean', df2=bad_df)"
   ]
  },
  {
   "cell_type": "code",
   "execution_count": null,
   "metadata": {
    "ExecuteTime": {
     "end_time": "2020-11-03T16:03:37.548489Z",
     "start_time": "2020-11-03T16:03:37.504411Z"
    }
   },
   "outputs": [],
   "source": [
    "colx = 'VAF'\n",
    "coly = 'deltaVAFvar'\n",
    "colz = 'log2ratiomean'\n",
    "\n",
    "%matplotlib notebook\n",
    "%matplotlib notebook\n",
    "\n",
    "fig, ax = plot_3d(snp_df, df2=bad_df, xcol=colx, ycol=coly, zcol=colz, figsize=(15,15))\n",
    "fig"
   ]
  },
  {
   "cell_type": "markdown",
   "metadata": {},
   "source": [
    "## clustering strategy\n",
    "\n",
    "* unsupervised training\n",
    "    + #### filter out below-average in log2ratio or deltaVAFvar\n",
    "    + #### creating a visualisation for clusters on genomic data\n",
    "    + #### clean filtered df with KDE\n",
    "    + #### cluster filtered df with GMM\n",
    "    + #### cluster background with low-stringency filter\n",
    "* supervised clustering of full data "
   ]
  },
  {
   "cell_type": "markdown",
   "metadata": {},
   "source": [
    "### filter out below average\n",
    "+ make a relative cutoff for all values of special data columns below a certain threshold"
   ]
  },
  {
   "cell_type": "code",
   "execution_count": null,
   "metadata": {
    "ExecuteTime": {
     "end_time": "2020-11-03T06:09:08.358883Z",
     "start_time": "2020-11-03T06:09:08.353839Z"
    }
   },
   "outputs": [],
   "source": [
    "def filter_threshold(snp_df, threshs={}):\n",
    "    '''\n",
    "    takes threshold dict {'log2ratio': [0.5, True], 'deltaVAFvar': [0.075, True]}\n",
    "    and returns \n",
    "    '''\n",
    "    df = snp_df.copy()\n",
    "    # mask is boolean series stating if snp is background\n",
    "    df['cnv'] = False\n",
    "    mask = df['cnv']\n",
    "    for col in threshs.keys():      \n",
    "        thresh = threshs[col][0] if threshs[col][1] else threshs[col][0] * df[col].max()\n",
    "        col_mask = np.abs(df[col]) > thresh\n",
    "        mask = mask | col_mask\n",
    "    df['cnv'] = mask.astype(int)\n",
    "    return df\n",
    "\n",
    "\n",
    "def split_df_by_thresholds(df, thresholds={}):\n",
    "    \n",
    "    # get the stringent from the threshold dict\n",
    "    cnv_thresholds = {}\n",
    "    for col in thresholds.keys():\n",
    "        cnv_thresholds[col] = thresholds[col][::2]\n",
    "    filter_df = filter_threshold(snp_df, threshs=cnv_thresholds).query('cnv == 1')\n",
    "    \n",
    "    # get the center mass\n",
    "    center_thresholds = {}\n",
    "    for col in thresholds.keys():\n",
    "        center_thresholds[col] = thresholds[col][1:]\n",
    "    center_df = filter_threshold(snp_df, threshs=center_thresholds).query('cnv == 0')\n",
    "\n",
    "    return filter_df, center_df"
   ]
  },
  {
   "cell_type": "code",
   "execution_count": null,
   "metadata": {
    "ExecuteTime": {
     "end_time": "2020-11-03T06:09:09.085591Z",
     "start_time": "2020-11-03T06:09:09.012521Z"
    }
   },
   "outputs": [],
   "source": [
    "config = get_config(config_file)\n",
    "config\n",
    "filter_df, center_df = split_df_by_thresholds(snp_df.query('Chr != \"chrX\"'), thresholds=config['thresholds'])\n",
    "plot_3d(center_df, df2=filter_df, xcol='log2ratiomean', ycol='absVAFmean', zcol='deltaVAFvar');\n",
    "fig"
   ]
  },
  {
   "cell_type": "markdown",
   "metadata": {},
   "source": [
    "### KDE for cleaning up the filter_df"
   ]
  },
  {
   "cell_type": "code",
   "execution_count": null,
   "metadata": {
    "ExecuteTime": {
     "end_time": "2020-11-03T05:30:45.686963Z",
     "start_time": "2020-11-03T05:30:45.064590Z"
    }
   },
   "outputs": [],
   "source": [
    "from sklearn.neighbors import KernelDensity\n",
    "from sklearn.model_selection import GridSearchCV\n",
    "from sklearn.model_selection import LeaveOneOut\n",
    "\n",
    "def clean_KDE(filter_df, cols, cleanup_density=0.25):\n",
    "    # prepare the matrix\n",
    "    df = filter_df.copy()\n",
    "    X = df[cols]\n",
    "    # gridsearch the best density params\n",
    "    bandwidths = np.logspace(-2, 0, 25)\n",
    "    grid = GridSearchCV(KernelDensity(kernel='gaussian'),\n",
    "                    {'bandwidth': bandwidths},\n",
    "                    cv=7)\n",
    "    grid.fit(X)\n",
    "    # fit best model to data\n",
    "    kde = grid.best_estimator_\n",
    "    _ = kde.fit(X)\n",
    "    # get the densities for the samples\n",
    "    df['density'] = kde.score_samples(X)\n",
    "    # determine the threshold\n",
    "    thresh = df['density'].min() + (df['density'].max() -  df['density'].min()) * cleanup_density\n",
    "    return df.query('density < @thresh')"
   ]
  },
  {
   "cell_type": "code",
   "execution_count": null,
   "metadata": {},
   "outputs": [],
   "source": [
    "df = filter_df.copy()"
   ]
  },
  {
   "cell_type": "code",
   "execution_count": null,
   "metadata": {},
   "outputs": [],
   "source": []
  },
  {
   "cell_type": "code",
   "execution_count": null,
   "metadata": {},
   "outputs": [],
   "source": []
  },
  {
   "cell_type": "code",
   "execution_count": null,
   "metadata": {
    "ExecuteTime": {
     "end_time": "2020-11-02T15:06:03.446505Z",
     "start_time": "2020-11-02T15:06:01.870948Z"
    }
   },
   "outputs": [],
   "source": [
    "# get the matrix\n",
    "select_cols = ['log2ratiomean', 'absVAFmean', 'deltaVAFvar']\n",
    "\n",
    "clean_df = clean_KDE(filter_df, cols=select_cols, cleanup_density=.75)\n",
    "plot_3d(filter_df, df2=clean_df, xcol='log2ratiomean', ycol='absVAF', zcol='deltaVAFvar');"
   ]
  },
  {
   "cell_type": "markdown",
   "metadata": {},
   "source": [
    "## fit this cleaned set with GMM"
   ]
  },
  {
   "cell_type": "code",
   "execution_count": null,
   "metadata": {
    "ExecuteTime": {
     "end_time": "2020-11-01T14:56:58.307793Z",
     "start_time": "2020-11-01T14:56:58.304124Z"
    }
   },
   "outputs": [],
   "source": [
    "select_cols = ['log2ratiomean', 'absVAF', 'deltaVAFvar']\n",
    "X = cleaned_df[select_cols]"
   ]
  },
  {
   "cell_type": "code",
   "execution_count": null,
   "metadata": {
    "ExecuteTime": {
     "end_time": "2020-11-01T15:34:38.122198Z",
     "start_time": "2020-11-01T15:34:37.809791Z"
    }
   },
   "outputs": [],
   "source": [
    "from sklearn.mixture import GaussianMixture as GMM\n",
    "from sklearn.metrics import silhouette_score as ssc\n",
    "labels = GMM(n_components=2, covariance_type='diag', n_init=20).fit_predict(X)\n",
    "%matplotlib inline\n",
    "fig, ax = plt.subplots()\n",
    "\n",
    "xcol = 'log2ratiomean'\n",
    "ycol = 'deltaVAFvar'\n",
    "_ = ax.scatter(X[xcol], X[ycol], c=labels, s=1, cmap='viridis')\n",
    "_ = ax.set_xlabel(xcol, fontsize=10)\n",
    "_ = ax.set_ylabel(ycol, fontsize=10)\n",
    "\n",
    "print('Silhouette score: ', ssc(X, labels, metric='euclidean'))"
   ]
  },
  {
   "cell_type": "markdown",
   "metadata": {
    "ExecuteTime": {
     "end_time": "2020-11-01T15:01:30.306604Z",
     "start_time": "2020-11-01T15:01:30.090948Z"
    }
   },
   "source": [
    "### find the optimal components"
   ]
  },
  {
   "cell_type": "code",
   "execution_count": null,
   "metadata": {
    "ExecuteTime": {
     "end_time": "2020-11-01T15:36:56.492446Z",
     "start_time": "2020-11-01T15:36:54.447366Z"
    }
   },
   "outputs": [],
   "source": [
    "n_components = np.arange(2, 10)\n",
    "models = [GMM(n, covariance_type='full', n_init=20).fit(X)\n",
    "          for n in n_components]\n",
    "fig, ax = plt.subplots()\n",
    "_ = ax.plot(n_components, [m.bic(X) for m in models], label='BIC')\n",
    "_ = ax.plot(n_components, [m.aic(X) for m in models], label='AIC')\n",
    "_ = ax.plot(n_components, [ssc(X, m.predict(X), metric='euclidean') * -5000 for m in models], label='SilScore')\n",
    "_ = ax.legend(loc='best')\n",
    "_ = ax.set_xlabel('n_components');"
   ]
  },
  {
   "cell_type": "code",
   "execution_count": null,
   "metadata": {
    "ExecuteTime": {
     "end_time": "2020-11-01T15:40:05.780551Z",
     "start_time": "2020-11-01T15:40:05.541070Z"
    }
   },
   "outputs": [],
   "source": [
    "from sklearn.cluster import DBSCAN\n",
    "select_cols = ['log2ratiomean', 'absVAF', 'deltaVAFvar']\n",
    "X = filter_df[select_cols]\n",
    "rows = X.shape[0]\n",
    "ep=0.2\n",
    "ms = int(rows/20)\n",
    "\n",
    "labels = DBSCAN(eps=ep, min_samples=ms).fit_predict(X)\n",
    "plt.scatter(X['log2ratiomean'], X['absVAF'], c=labels, s=1, cmap='viridis')\n",
    "np.unique(labels)"
   ]
  },
  {
   "cell_type": "code",
   "execution_count": null,
   "metadata": {},
   "outputs": [],
   "source": []
  },
  {
   "cell_type": "code",
   "execution_count": null,
   "metadata": {},
   "outputs": [],
   "source": []
  },
  {
   "cell_type": "markdown",
   "metadata": {},
   "source": [
    "## DBSCAN for finding the clusters and reducing noise"
   ]
  },
  {
   "cell_type": "code",
   "execution_count": null,
   "metadata": {},
   "outputs": [],
   "source": []
  },
  {
   "cell_type": "code",
   "execution_count": null,
   "metadata": {},
   "outputs": [],
   "source": []
  },
  {
   "cell_type": "code",
   "execution_count": null,
   "metadata": {},
   "outputs": [],
   "source": []
  },
  {
   "cell_type": "code",
   "execution_count": null,
   "metadata": {},
   "outputs": [],
   "source": []
  },
  {
   "cell_type": "code",
   "execution_count": null,
   "metadata": {
    "ExecuteTime": {
     "end_time": "2020-10-31T07:07:37.106422Z",
     "start_time": "2020-10-31T07:07:36.916671Z"
    }
   },
   "outputs": [],
   "source": [
    "from sklearn.cluster import DBSCAN\n",
    "\n",
    "# get the matrix\n",
    "allcols = ['log2ratiomean', 'VAF', 'absVAF', 'deltaVAFstd', 'deltaVAFvar', 'VAFstd']\n",
    "select_cols = ['log2ratiomean', 'absVAF', 'deltaVAFvar']\n",
    "X = filter_df[select_cols]\n",
    "rows = X.shape[0]\n",
    "\n",
    "ep=0.1\n",
    "ms = int(rows/20)\n",
    "\n",
    "labels = DBSCAN(eps=ep, min_samples=ms).fit_predict(X)\n",
    "plt.scatter(X['log2ratiomean'], X['absVAF'], c=labels, s=1, cmap='viridis')\n",
    "cluster, counts = np.unique(labels, return_counts=True)\n",
    "cluster_count = len(cluster[cluster != -1])\n",
    "cluster_size = counts[np.argmax(counts)]\n",
    "cluster_id = cluster[np.argmax(counts)]\n",
    "print(f\"ep:{round(ep,2)}|min_samples:{ms}>> {cluster_count} clusters | cluster{cluster_id}: {cluster_size}\")"
   ]
  },
  {
   "cell_type": "code",
   "execution_count": null,
   "metadata": {},
   "outputs": [],
   "source": []
  },
  {
   "cell_type": "code",
   "execution_count": null,
   "metadata": {
    "ExecuteTime": {
     "end_time": "2020-10-31T07:18:05.837864Z",
     "start_time": "2020-10-31T07:18:05.831437Z"
    }
   },
   "outputs": [],
   "source": [
    "def fit_DBSCAN(X, max_cluster=1, eps=np.logspace(-1,1,10), sample_fracs=np.logspace(-3,-1,10)):\n",
    "    max_counts = 0\n",
    "    for sample_frac in sample_fracs:\n",
    "        for ep in eps:\n",
    "            # sample_fraction up to all samples if wanted\n",
    "            ms = min(X.shape[0], int(X.shape[0] * sample_frac))\n",
    "            model = DBSCAN(eps=ep, min_samples=ms)\n",
    "            labels = model.fit_predict(X)\n",
    "            cluster, counts = np.unique(labels, return_counts=True)\n",
    "            # get the number of clusters \n",
    "            cluster_count = len(cluster[cluster != -1])\n",
    "            # get the size of cluster 0\n",
    "            #! maybe use better with largest cluster\n",
    "            cluster_size = counts[np.argmax(counts)]\n",
    "            if cluster_count:\n",
    "                if cluster_size > max_counts:\n",
    "                    best_model = model\n",
    "                    print(f\"Best model: ep:{round(ep,2)}|min_samples:{ms}>> {cluster_count} clusters | cluster0: {cluster_size}\")\n",
    "                    if (cluster_count <= max_cluster):\n",
    "                        best_limit_model = model      \n",
    "                        print(f\"BEST model: ep:{round(ep,2)}|min_samples:{ms}>> {cluster_count} clusters | cluster0: {cluster_size}\")\n",
    "    return best_model, best_limit_model"
   ]
  },
  {
   "cell_type": "code",
   "execution_count": null,
   "metadata": {
    "ExecuteTime": {
     "end_time": "2020-10-31T07:18:27.691924Z",
     "start_time": "2020-10-31T07:18:27.138800Z"
    }
   },
   "outputs": [],
   "source": [
    "best_model, best_limit_model = fit_DBSCAN(X, max_cluster=3)"
   ]
  },
  {
   "cell_type": "code",
   "execution_count": null,
   "metadata": {
    "ExecuteTime": {
     "end_time": "2020-10-31T07:18:56.406528Z",
     "start_time": "2020-10-31T07:18:56.220303Z"
    }
   },
   "outputs": [],
   "source": [
    "labels = best_model.fit_predict(X)\n",
    "plt.scatter(X['log2ratiomean'], X['absVAF'], c=labels, s=1, cmap='viridis')"
   ]
  },
  {
   "cell_type": "code",
   "execution_count": null,
   "metadata": {},
   "outputs": [],
   "source": []
  },
  {
   "cell_type": "code",
   "execution_count": null,
   "metadata": {},
   "outputs": [],
   "source": []
  },
  {
   "cell_type": "code",
   "execution_count": null,
   "metadata": {},
   "outputs": [],
   "source": []
  },
  {
   "cell_type": "code",
   "execution_count": null,
   "metadata": {},
   "outputs": [],
   "source": []
  },
  {
   "cell_type": "code",
   "execution_count": null,
   "metadata": {},
   "outputs": [],
   "source": []
  },
  {
   "cell_type": "markdown",
   "metadata": {},
   "source": [
    "### GMM"
   ]
  },
  {
   "cell_type": "code",
   "execution_count": null,
   "metadata": {
    "ExecuteTime": {
     "end_time": "2020-10-31T07:02:13.361689Z",
     "start_time": "2020-10-31T07:02:13.355500Z"
    }
   },
   "outputs": [],
   "source": [
    "# get the matrix from the df\n",
    "allcols = ['log2ratiomean', 'VAF', 'absVAF', 'deltaVAFstd', 'deltaVAFvar', 'VAFstd']\n",
    "select_cols = ['log2ratiomean', 'absVAF', 'deltaVAFvar']\n",
    "X = filter_df[select_cols]\n",
    "rows = X.shape[0]\n",
    "X.shape"
   ]
  },
  {
   "cell_type": "markdown",
   "metadata": {},
   "source": [
    "+ #### GMM clustering runs best for fitting the center mass\n",
    "    * clusters vary depending on init clusters"
   ]
  },
  {
   "cell_type": "code",
   "execution_count": null,
   "metadata": {
    "ExecuteTime": {
     "end_time": "2020-10-31T07:02:16.098118Z",
     "start_time": "2020-10-31T07:02:14.974165Z"
    }
   },
   "outputs": [],
   "source": [
    "from sklearn.mixture import GaussianMixture as GMM\n",
    "\n",
    "choice = range(5)\n",
    "fig, axes = plt.subplots(1, len(choice), figsize=(20,5))\n",
    "for i, components in enumerate(choice):\n",
    "    gmm = GMM(n_components=3, covariance_type='diag', n_init=20)\n",
    "    labels = gmm.fit_predict(X)\n",
    "    _, counts = np.unique(labels, return_counts=True)\n",
    "    print(np.max(counts))\n",
    "    _ = axes[i].scatter(X['log2ratiomean'], X['absVAF'], c=labels, s=1)\n",
    "    # print(f'{components} components - AIC:', gmm.aic(X))\n",
    "    # print(f'{components} components - BIC:', gmm.bic(X))"
   ]
  },
  {
   "cell_type": "code",
   "execution_count": null,
   "metadata": {},
   "outputs": [],
   "source": [
    "from sklearn.mixture import GaussianMixture as GMM\n",
    "\n",
    "def get_centers(df, runs=25, comps=3, exclude_X=True, cols=['log2ratiomean', 'VAF']):\n",
    "    '''\n",
    "    use GMM to identify the center cluster and get the means from that\n",
    "    because GMM occasionally does not identify the center cluster,\n",
    "    I let the GMM proceed several times and minimize the center cluster\n",
    "    next, the center cluster can be identified as the maximum center\n",
    "    '''\n",
    "    VAFmin, VAFmax = VAF_limits\n",
    "    # fit the centers to the data \n",
    "    if exclude_X:\n",
    "        df = df.query('Chr != \"chrX\"')     \n",
    "    X = df[cols]\n",
    "\n",
    "    gmm = GMM(n_components=comps, covariance_type='diag', n_init=runs).fit(X)\n",
    "    labels = gmm.predict(X)\n",
    "    # get the size of the \n",
    "    cluster_id, counts = np.unique(labels, return_counts=True)\n",
    "    \n",
    "    print(cluster_id, counts, gmm.means_)\n",
    "    maxcount = np.max(counts)\n",
    "    centers = pd.DataFrame(gmm.means_, columns=['log2ratio', 'VAF'])\n",
    "    # get mean_cov and meanVAF from largest cluster\n",
    "    meanCov, meanVAF = centers.loc[np.argmax(counts)]\n",
    "    size = maxcount\n",
    "            \n",
    "    print(f'GMM using {runs} inits: center size {size} meanVAF = {round(meanVAF, 2)} meanCov={round(meanCov, 2)}')\n",
    "    \n",
    "    return meanCov, meanVAF, centers"
   ]
  },
  {
   "cell_type": "code",
   "execution_count": null,
   "metadata": {},
   "outputs": [],
   "source": []
  },
  {
   "cell_type": "code",
   "execution_count": null,
   "metadata": {},
   "outputs": [],
   "source": []
  },
  {
   "cell_type": "code",
   "execution_count": null,
   "metadata": {},
   "outputs": [],
   "source": []
  },
  {
   "cell_type": "markdown",
   "metadata": {},
   "source": [
    "### DBSCAN"
   ]
  },
  {
   "cell_type": "code",
   "execution_count": null,
   "metadata": {
    "ExecuteTime": {
     "end_time": "2020-10-30T16:05:23.872063Z",
     "start_time": "2020-10-30T16:05:23.868821Z"
    }
   },
   "outputs": [],
   "source": [
    "24000 / 200"
   ]
  },
  {
   "cell_type": "code",
   "execution_count": null,
   "metadata": {
    "ExecuteTime": {
     "end_time": "2020-10-31T07:02:27.008832Z",
     "start_time": "2020-10-31T07:02:26.821520Z"
    }
   },
   "outputs": [],
   "source": []
  },
  {
   "cell_type": "markdown",
   "metadata": {},
   "source": [
    "### loading labels back into df"
   ]
  },
  {
   "cell_type": "code",
   "execution_count": null,
   "metadata": {
    "ExecuteTime": {
     "end_time": "2020-10-30T16:08:03.314466Z",
     "start_time": "2020-10-30T16:08:03.275738Z"
    }
   },
   "outputs": [],
   "source": [
    "snp_df['dbscan'] = labels\n",
    "snp_df"
   ]
  },
  {
   "cell_type": "code",
   "execution_count": null,
   "metadata": {
    "ExecuteTime": {
     "end_time": "2020-10-30T16:11:51.074393Z",
     "start_time": "2020-10-30T16:11:50.324458Z"
    }
   },
   "outputs": [],
   "source": [
    "snp_df.to_csv(os.path.join(output_path, f'cluster/{sample}.dbscan.csv'), sep='\\t', index=False)"
   ]
  },
  {
   "cell_type": "code",
   "execution_count": null,
   "metadata": {
    "ExecuteTime": {
     "end_time": "2020-10-29T19:00:16.459062Z",
     "start_time": "2020-10-29T19:00:16.454940Z"
    }
   },
   "outputs": [],
   "source": [
    "counts[np.argmax(counts)]"
   ]
  },
  {
   "cell_type": "markdown",
   "metadata": {},
   "source": [
    "+ #### DBSCAN seems to be best fitted for removing the center mass as the spread is hard to guess\n",
    "    * perform a grid search on eps and min_samples to find the maximum center mass with just one cluster\n",
    "    * better!: perform this grid search on multi-dimensional data"
   ]
  },
  {
   "cell_type": "code",
   "execution_count": null,
   "metadata": {
    "ExecuteTime": {
     "end_time": "2020-10-29T18:33:09.819042Z",
     "start_time": "2020-10-29T18:33:09.812401Z"
    }
   },
   "outputs": [],
   "source": []
  },
  {
   "cell_type": "code",
   "execution_count": null,
   "metadata": {
    "ExecuteTime": {
     "end_time": "2020-10-29T18:45:25.241478Z",
     "start_time": "2020-10-29T18:33:10.465523Z"
    }
   },
   "outputs": [],
   "source": []
  },
  {
   "cell_type": "code",
   "execution_count": null,
   "metadata": {},
   "outputs": [],
   "source": []
  },
  {
   "cell_type": "code",
   "execution_count": null,
   "metadata": {
    "ExecuteTime": {
     "end_time": "2020-10-29T19:38:55.661022Z",
     "start_time": "2020-10-29T19:38:45.246489Z"
    }
   },
   "outputs": [],
   "source": []
  },
  {
   "cell_type": "code",
   "execution_count": null,
   "metadata": {
    "ExecuteTime": {
     "end_time": "2020-10-29T19:01:18.641224Z",
     "start_time": "2020-10-29T19:01:18.636612Z"
    }
   },
   "outputs": [],
   "source": [
    "np.unique(labels)"
   ]
  },
  {
   "cell_type": "code",
   "execution_count": null,
   "metadata": {
    "ExecuteTime": {
     "end_time": "2020-10-29T18:58:37.942768Z",
     "start_time": "2020-10-29T18:58:28.844551Z"
    }
   },
   "outputs": [],
   "source": [
    "labels = best_limit_model.fit_predict(X)\n",
    "plt.scatter(X['log2ratiomean'], X['absVAF'], c=labels, s=1, cmap='viridis')"
   ]
  },
  {
   "cell_type": "code",
   "execution_count": null,
   "metadata": {
    "ExecuteTime": {
     "end_time": "2020-10-29T18:59:49.832306Z",
     "start_time": "2020-10-29T18:59:49.827153Z"
    }
   },
   "outputs": [],
   "source": [
    "np.unique(labels)"
   ]
  },
  {
   "cell_type": "code",
   "execution_count": null,
   "metadata": {},
   "outputs": [],
   "source": []
  },
  {
   "cell_type": "code",
   "execution_count": null,
   "metadata": {
    "ExecuteTime": {
     "end_time": "2020-10-29T07:10:19.677814Z",
     "start_time": "2020-10-29T07:10:19.647656Z"
    }
   },
   "outputs": [],
   "source": [
    "snp_df['DBID'] = labels\n",
    "snp_df"
   ]
  },
  {
   "cell_type": "code",
   "execution_count": null,
   "metadata": {
    "ExecuteTime": {
     "end_time": "2020-10-29T07:10:28.649883Z",
     "start_time": "2020-10-29T07:10:28.621978Z"
    }
   },
   "outputs": [],
   "source": [
    "cnv_df = snp_df.query('DBID > 0')\n",
    "cnv_df"
   ]
  },
  {
   "cell_type": "code",
   "execution_count": null,
   "metadata": {
    "ExecuteTime": {
     "end_time": "2020-10-29T07:16:37.699619Z",
     "start_time": "2020-10-29T07:16:37.692699Z"
    }
   },
   "outputs": [],
   "source": [
    "fig_params = dict(\n",
    "    figsize=(24,8),\n",
    "    colormap='coolwarm_r',\n",
    "    color_chroms=True,\n",
    "    ylim=(0,1),\n",
    "    cov_offset=.1,  # how much log2ratio=0 is shifted above SNP-data\n",
    "    cov_height=.5,\n",
    "    label_size=13\n",
    ")\n",
    "\n",
    "log2 = dict(\n",
    "        title='log2ratio',\n",
    "        plot_type='scatter',   # ['line', 'scatter']\n",
    "        data='log2ratio',\n",
    "        plot_args=dict(\n",
    "            linewidth=0.3,\n",
    "            color='black',\n",
    "            s=0.2,\n",
    "            alpha=.7\n",
    "        )\n",
    "    )\n",
    "\n",
    "log2mean = dict(\n",
    "        title='rollinglog2ratio',\n",
    "        plot_type='line',   # ['line', 'scatter']\n",
    "        data='log2ratiomean',\n",
    "        plot_args=dict(\n",
    "            linewidth=1,\n",
    "            color='yellow',\n",
    "            alpha=.7\n",
    "        )\n",
    "    )\n",
    "\n",
    "absvaf = dict(\n",
    "        title='absVAF',\n",
    "        plot_type='scatter',  # ['line', 'scatter']\n",
    "        data='absVAF',\n",
    "        cluster={'DBID', 'blue'}\n",
    "        plot_args=dict(\n",
    "            s=1,\n",
    "            c=snp_df.query('Chr in @chroms')['DBID'],\n",
    "            alpha=.7\n",
    "        )\n",
    "    )\n",
    "\n",
    "chroms = ['chr5', 'chr7','chr8', 'chr11', 'chr17']\n",
    "r1 = 'chr17:3Mb-9Mb'\n",
    "\n",
    "fig, ax, df, chrom_df = plot_snp(snp_df, snp_plots=[absvaf], cov_plots=[log2, log2mean], chroms=chroms, region='', **fig_params)"
   ]
  },
  {
   "cell_type": "markdown",
   "metadata": {},
   "source": [
    "+ increasing n_init to 20 does the job:"
   ]
  },
  {
   "cell_type": "code",
   "execution_count": null,
   "metadata": {
    "ExecuteTime": {
     "end_time": "2020-10-28T10:57:27.687791Z",
     "start_time": "2020-10-28T10:57:19.683641Z"
    }
   },
   "outputs": [],
   "source": [
    "choice = range(5)\n",
    "fig, axes = plt.subplots(1, len(choice), figsize=(20,5))\n",
    "for i, components in enumerate(choice):\n",
    "    gmm = GMM(n_components=3, covariance_type='diag', n_init=25)\n",
    "    labels = gmm.fit_predict(X)\n",
    "    _, counts = np.unique(labels, return_counts=True)\n",
    "    print(np.max(counts))\n",
    "    _ = axes[i].scatter(X['log2ratiomean'], X['VAF'], c=labels, s=1)\n",
    "    # print(f'{components} components - AIC:', gmm.aic(X))\n",
    "    # print(f'{components} components - BIC:', gmm.bic(X))"
   ]
  }
 ],
 "metadata": {
  "kernelspec": {
   "display_name": "Python 3",
   "language": "python",
   "name": "python3"
  },
  "language_info": {
   "codemirror_mode": {
    "name": "ipython",
    "version": 3
   },
   "file_extension": ".py",
   "mimetype": "text/x-python",
   "name": "python",
   "nbconvert_exporter": "python",
   "pygments_lexer": "ipython3",
   "version": "3.8.6"
  },
  "varInspector": {
   "cols": {
    "lenName": 16,
    "lenType": 16,
    "lenVar": 40
   },
   "kernels_config": {
    "python": {
     "delete_cmd_postfix": "",
     "delete_cmd_prefix": "del ",
     "library": "var_list.py",
     "varRefreshCmd": "print(var_dic_list())"
    },
    "r": {
     "delete_cmd_postfix": ") ",
     "delete_cmd_prefix": "rm(",
     "library": "var_list.r",
     "varRefreshCmd": "cat(var_dic_list()) "
    }
   },
   "types_to_exclude": [
    "module",
    "function",
    "builtin_function_or_method",
    "instance",
    "_Feature"
   ],
   "window_display": false
  }
 },
 "nbformat": 4,
 "nbformat_minor": 4
}
