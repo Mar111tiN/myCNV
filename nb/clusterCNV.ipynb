{
 "cells": [
  {
   "cell_type": "code",
   "execution_count": null,
   "metadata": {
    "ExecuteTime": {
     "end_time": "2020-10-29T20:17:12.842484Z",
     "start_time": "2020-10-29T20:17:12.834460Z"
    }
   },
   "outputs": [],
   "source": [
    "# HOME\n",
    "import os\n",
    "import matplotlib as mpl\n",
    "import matplotlib.pyplot as plt\n",
    "# use seaborn plotting defaults\n",
    "import seaborn as sns; sns.set()\n",
    "\n",
    "\n",
    "# get the code\n",
    "import sys\n",
    "sys.path.append('../code')\n",
    "from plot import plot_snp\n",
    "\n",
    "home = '/Users/mahtin'\n",
    "home = '/Users/martinscience'\n",
    "# standard paths\n",
    "testdata = os.path.join(home,\"Dropbox/Icke/Work/somVar/testdata\")\n",
    "static_path = os.path.join(home, \"Dropbox/Icke/Work/static\")\n",
    "cluster_path = os.path.join(home, \"mount\")\n",
    "tooldata = os.path.join(home, \"Dropbox/Icke/Work/somVar/tooldata\")\n",
    "\n",
    "# tool-specific paths\n",
    "shell_path = \"../shell\"\n",
    "# \n",
    "cnvdata = os.path.join(tooldata, \"myCNVdata\")\n",
    "output_path = os.path.join(cnvdata, \"output\")\n",
    "\n",
    "# the path to the input data\n",
    "cnv_path = os.path.join(cnvdata, \"cnv\")\n",
    "cnvPON_path = cnv_path = os.path.join(cnvdata, \"chromCov\")\n",
    "cnv_path = os.path.join(cluster_path, \"scratch/develop/PONcoverage/cnv\")\n",
    "cnvPON_path = os.path.join(cluster_path, \"scratch/develop/PONcoverage/chromCov\")"
   ]
  },
  {
   "cell_type": "code",
   "execution_count": null,
   "metadata": {
    "ExecuteTime": {
     "end_time": "2020-10-29T20:17:13.965592Z",
     "start_time": "2020-10-29T20:17:13.961258Z"
    }
   },
   "outputs": [],
   "source": [
    "cnvPON_path"
   ]
  },
  {
   "cell_type": "markdown",
   "metadata": {},
   "source": [
    "## get the coverage and SNP data"
   ]
  },
  {
   "cell_type": "code",
   "execution_count": null,
   "metadata": {
    "ExecuteTime": {
     "end_time": "2020-10-29T20:17:20.864485Z",
     "start_time": "2020-10-29T20:17:20.766881Z"
    }
   },
   "outputs": [],
   "source": [
    "sample = \"01_A\"\n",
    "snp_df = pd.read_csv(os.path.join(output_path, f'rollingCNV/{sample}.snp.csv'), sep='\\t')"
   ]
  },
  {
   "cell_type": "code",
   "execution_count": null,
   "metadata": {
    "ExecuteTime": {
     "end_time": "2020-10-29T20:17:21.424302Z",
     "start_time": "2020-10-29T20:17:21.397739Z"
    }
   },
   "outputs": [],
   "source": [
    "snp_df = snp_df.dropna()\n",
    "snp_df"
   ]
  },
  {
   "cell_type": "markdown",
   "metadata": {},
   "source": [
    "## clustering strategy\n",
    "\n",
    "+ #### try removing the main cluster using GMM / or adding the cluster label to the parameters\n",
    "+ #### creating a visualisation for clusters on genomic data\n",
    "+ #### try half-maximum cutoff for all metrices"
   ]
  },
  {
   "cell_type": "code",
   "execution_count": null,
   "metadata": {
    "ExecuteTime": {
     "end_time": "2020-10-29T20:12:33.549996Z",
     "start_time": "2020-10-29T20:12:33.389967Z"
    }
   },
   "outputs": [],
   "source": [
    "plt.scatter(snp_df['log2ratiomean'], snp_df['absVAF'], s=.1);"
   ]
  },
  {
   "cell_type": "markdown",
   "metadata": {},
   "source": [
    "### DBSCAN"
   ]
  },
  {
   "cell_type": "code",
   "execution_count": null,
   "metadata": {
    "ExecuteTime": {
     "end_time": "2020-10-29T19:57:41.503862Z",
     "start_time": "2020-10-29T19:57:41.499507Z"
    }
   },
   "outputs": [],
   "source": [
    "24000 / 200"
   ]
  },
  {
   "cell_type": "code",
   "execution_count": null,
   "metadata": {
    "ExecuteTime": {
     "end_time": "2020-10-29T20:16:28.933921Z",
     "start_time": "2020-10-29T20:16:24.157256Z"
    }
   },
   "outputs": [],
   "source": [
    "from sklearn.cluster import DBSCAN\n",
    "\n",
    "# get the matrix\n",
    "allcols = ['log2ratiomean', 'VAF', 'absVAF', 'deltaVAFstd', 'deltaVAFvar', 'VAFstd']\n",
    "select_cols = ['log2ratiomean', 'absVAF', 'deltaVAFvar']\n",
    "X = snp_df[select_cols]\n",
    "rows = X.shape[0]\n",
    "\n",
    "ep=0.2\n",
    "ms = int(rows/500)\n",
    "\n",
    "labels = DBSCAN(eps=ep, min_samples=ms).fit_predict(X)\n",
    "plt.scatter(X['log2ratiomean'], X['absVAF'], c=labels, s=1, cmap='viridis')\n",
    "cluster, counts = np.unique(labels, return_counts=True)\n",
    "cluster_count = len(cluster[cluster != -1])\n",
    "cluster_size = counts[np.argmax(counts)]\n",
    "cluster_id = cluster[np.argmax(counts)]\n",
    "print(f\"ep:{round(ep,2)}|min_samples:{ms}>> {cluster_count} clusters | cluster{cluster_id}: {cluster_size}\")"
   ]
  },
  {
   "cell_type": "code",
   "execution_count": null,
   "metadata": {},
   "outputs": [],
   "source": []
  },
  {
   "cell_type": "code",
   "execution_count": null,
   "metadata": {
    "ExecuteTime": {
     "end_time": "2020-10-29T19:00:16.459062Z",
     "start_time": "2020-10-29T19:00:16.454940Z"
    }
   },
   "outputs": [],
   "source": [
    "counts[np.argmax(counts)]"
   ]
  },
  {
   "cell_type": "markdown",
   "metadata": {},
   "source": [
    "+ #### DBSCAN seems to be best fitted for removing the center mass as the spread is hard to guess\n",
    "    * perform a grid search on eps and min_samples to find the maximum center mass with just one cluster\n",
    "    * better!: perform this grid search on multi-dimensional data"
   ]
  },
  {
   "cell_type": "code",
   "execution_count": null,
   "metadata": {
    "ExecuteTime": {
     "end_time": "2020-10-29T18:33:09.819042Z",
     "start_time": "2020-10-29T18:33:09.812401Z"
    }
   },
   "outputs": [],
   "source": [
    "def fit_DBSCAN(X, max_cluster=1, eps=np.logspace(-1,1,10), sample_fracs=np.logspace(-3,-1,10)):\n",
    "    max_counts = 0\n",
    "    for sample_frac in sample_fracs:\n",
    "        for ep in eps:\n",
    "            # sample_fraction up to all samples if wanted\n",
    "            ms = min(X.shape[0], int(X.shape[0] * sample_frac))\n",
    "            model = DBSCAN(eps=ep, min_samples=ms)\n",
    "            labels = model.fit_predict(X)\n",
    "            cluster, counts = np.unique(labels, return_counts=True)\n",
    "            # get the number of clusters \n",
    "            cluster_count = len(cluster[cluster != -1])\n",
    "            # get the size of cluster 0\n",
    "            #! maybe use better with largest cluster\n",
    "            cluster_size = counts[np.argmax(counts)]\n",
    "            if cluster_count:\n",
    "                if cluster_size > max_counts:\n",
    "                    best_model = model\n",
    "                    print(f\"Best model: ep:{round(ep,2)}|min_samples:{ms}>> {cluster_count} clusters | cluster0: {cluster_size}\")\n",
    "                    if (cluster_count <= max_cluster):\n",
    "                        best_limit_model = model      \n",
    "                        print(f\"BEST model: ep:{round(ep,2)}|min_samples:{ms}>> {cluster_count} clusters | cluster0: {cluster_size}\")\n",
    "    return best_model, best_limit_model"
   ]
  },
  {
   "cell_type": "code",
   "execution_count": null,
   "metadata": {
    "ExecuteTime": {
     "end_time": "2020-10-29T18:45:25.241478Z",
     "start_time": "2020-10-29T18:33:10.465523Z"
    }
   },
   "outputs": [],
   "source": [
    "best_model, best_limit_model = fit_DBSCAN(X, max_cluster=1)"
   ]
  },
  {
   "cell_type": "code",
   "execution_count": null,
   "metadata": {},
   "outputs": [],
   "source": []
  },
  {
   "cell_type": "code",
   "execution_count": null,
   "metadata": {
    "ExecuteTime": {
     "end_time": "2020-10-29T19:38:55.661022Z",
     "start_time": "2020-10-29T19:38:45.246489Z"
    }
   },
   "outputs": [],
   "source": [
    "labels = best_model.fit_predict(X)\n",
    "plt.scatter(X['log2ratiomean'], X['absVAF'], c=labels, s=1, cmap='viridis')"
   ]
  },
  {
   "cell_type": "code",
   "execution_count": null,
   "metadata": {
    "ExecuteTime": {
     "end_time": "2020-10-29T19:01:18.641224Z",
     "start_time": "2020-10-29T19:01:18.636612Z"
    }
   },
   "outputs": [],
   "source": [
    "np.unique(labels)"
   ]
  },
  {
   "cell_type": "code",
   "execution_count": null,
   "metadata": {
    "ExecuteTime": {
     "end_time": "2020-10-29T18:58:37.942768Z",
     "start_time": "2020-10-29T18:58:28.844551Z"
    }
   },
   "outputs": [],
   "source": [
    "labels = best_limit_model.fit_predict(X)\n",
    "plt.scatter(X['log2ratiomean'], X['absVAF'], c=labels, s=1, cmap='viridis')"
   ]
  },
  {
   "cell_type": "code",
   "execution_count": null,
   "metadata": {
    "ExecuteTime": {
     "end_time": "2020-10-29T18:59:49.832306Z",
     "start_time": "2020-10-29T18:59:49.827153Z"
    }
   },
   "outputs": [],
   "source": [
    "np.unique(labels)"
   ]
  },
  {
   "cell_type": "code",
   "execution_count": null,
   "metadata": {},
   "outputs": [],
   "source": []
  },
  {
   "cell_type": "code",
   "execution_count": null,
   "metadata": {
    "ExecuteTime": {
     "end_time": "2020-10-29T07:10:19.677814Z",
     "start_time": "2020-10-29T07:10:19.647656Z"
    }
   },
   "outputs": [],
   "source": [
    "snp_df['DBID'] = labels\n",
    "snp_df"
   ]
  },
  {
   "cell_type": "code",
   "execution_count": null,
   "metadata": {
    "ExecuteTime": {
     "end_time": "2020-10-29T07:10:28.649883Z",
     "start_time": "2020-10-29T07:10:28.621978Z"
    }
   },
   "outputs": [],
   "source": [
    "cnv_df = snp_df.query('DBID > 0')\n",
    "cnv_df"
   ]
  },
  {
   "cell_type": "code",
   "execution_count": null,
   "metadata": {
    "ExecuteTime": {
     "end_time": "2020-10-29T07:16:37.699619Z",
     "start_time": "2020-10-29T07:16:37.692699Z"
    }
   },
   "outputs": [],
   "source": [
    "fig_params = dict(\n",
    "    figsize=(24,8),\n",
    "    colormap='coolwarm_r',\n",
    "    color_chroms=True,\n",
    "    ylim=(0,1),\n",
    "    cov_offset=.1,  # how much log2ratio=0 is shifted above SNP-data\n",
    "    cov_height=.5,\n",
    "    label_size=13\n",
    ")\n",
    "\n",
    "log2 = dict(\n",
    "        title='log2ratio',\n",
    "        plot_type='scatter',   # ['line', 'scatter']\n",
    "        data='log2ratio',\n",
    "        plot_args=dict(\n",
    "            linewidth=0.3,\n",
    "            color='black',\n",
    "            s=0.2,\n",
    "            alpha=.7\n",
    "        )\n",
    "    )\n",
    "\n",
    "log2mean = dict(\n",
    "        title='rollinglog2ratio',\n",
    "        plot_type='line',   # ['line', 'scatter']\n",
    "        data='log2ratiomean',\n",
    "        plot_args=dict(\n",
    "            linewidth=1,\n",
    "            color='yellow',\n",
    "            alpha=.7\n",
    "        )\n",
    "    )\n",
    "\n",
    "absvaf = dict(\n",
    "        title='absVAF',\n",
    "        plot_type='scatter',  # ['line', 'scatter']\n",
    "        data='absVAF',\n",
    "        cluster={'DBID', 'blue'}\n",
    "        plot_args=dict(\n",
    "            s=1,\n",
    "            c=snp_df.query('Chr in @chroms')['DBID'],\n",
    "            alpha=.7\n",
    "        )\n",
    "    )\n",
    "\n",
    "chroms = ['chr5', 'chr7','chr8', 'chr11', 'chr17']\n",
    "r1 = 'chr17:3Mb-9Mb'\n",
    "\n",
    "fig, ax, df, chrom_df = plot_snp(snp_df, snp_plots=[absvaf], cov_plots=[log2, log2mean], chroms=chroms, region='', **fig_params)"
   ]
  },
  {
   "cell_type": "markdown",
   "metadata": {},
   "source": [
    "+ #### GMM clustering runs best for fitting the center mass\n",
    "    * clusters vary depending on init clusters"
   ]
  },
  {
   "cell_type": "code",
   "execution_count": null,
   "metadata": {
    "ExecuteTime": {
     "end_time": "2020-10-29T20:07:28.472547Z",
     "start_time": "2020-10-29T20:07:28.447403Z"
    }
   },
   "outputs": [],
   "source": [
    "from sklearn.mixture import GaussianMixture as GMM\n",
    "\n",
    "X = merge[['log2ratiomean', 'VAF']]\n",
    "X\n",
    "choice = range(5)\n",
    "fig, axes = plt.subplots(1, len(choice), figsize=(20,5))\n",
    "for i, components in enumerate(choice):\n",
    "    gmm = GMM(n_components=3, covariance_type='diag', n_init=2)\n",
    "    labels = gmm.fit_predict(X)\n",
    "    _, counts = np.unique(labels, return_counts=True)\n",
    "    print(np.max(counts))\n",
    "    _ = axes[i].scatter(X['log2ratiomean'], X['VAF'], c=labels, s=1)\n",
    "    # print(f'{components} components - AIC:', gmm.aic(X))\n",
    "    # print(f'{components} components - BIC:', gmm.bic(X))"
   ]
  },
  {
   "cell_type": "markdown",
   "metadata": {},
   "source": [
    "+ increasing n_init to 20 does the job:"
   ]
  },
  {
   "cell_type": "code",
   "execution_count": null,
   "metadata": {
    "ExecuteTime": {
     "end_time": "2020-10-28T10:57:27.687791Z",
     "start_time": "2020-10-28T10:57:19.683641Z"
    }
   },
   "outputs": [],
   "source": [
    "choice = range(5)\n",
    "fig, axes = plt.subplots(1, len(choice), figsize=(20,5))\n",
    "for i, components in enumerate(choice):\n",
    "    gmm = GMM(n_components=3, covariance_type='diag', n_init=25)\n",
    "    labels = gmm.fit_predict(X)\n",
    "    _, counts = np.unique(labels, return_counts=True)\n",
    "    print(np.max(counts))\n",
    "    _ = axes[i].scatter(X['log2ratiomean'], X['VAF'], c=labels, s=1)\n",
    "    # print(f'{components} components - AIC:', gmm.aic(X))\n",
    "    # print(f'{components} components - BIC:', gmm.bic(X))"
   ]
  },
  {
   "cell_type": "markdown",
   "metadata": {
    "ExecuteTime": {
     "end_time": "2020-10-26T17:59:34.654063Z",
     "start_time": "2020-10-26T17:59:34.649723Z"
    }
   },
   "source": [
    "+ get_centers computes the means from the best fit centers"
   ]
  },
  {
   "cell_type": "code",
   "execution_count": null,
   "metadata": {
    "ExecuteTime": {
     "end_time": "2020-10-28T12:00:53.126987Z",
     "start_time": "2020-10-28T12:00:52.793086Z"
    }
   },
   "outputs": [],
   "source": [
    "from sklearn.mixture import GaussianMixture as GMM\n",
    "\n",
    "def get_centers(merge_df, runs=25, comps=3, VAF_limits=(0.05, 0.95), exclude_X=True):\n",
    "    '''\n",
    "    use GMM to identify the center cluster and get the means from that\n",
    "    because GMM occasionally does not identify the center cluster,\n",
    "    I let the GMM proceed several times and minimize the center cluster\n",
    "    next, the center cluster can be identified as the maximum center\n",
    "    '''\n",
    "    VAFmin, VAFmax = VAF_limits\n",
    "    # fit the centers to the data \n",
    "    if exclude_X:\n",
    "        merge_df = merge_df.query('Chr != \"chrX\"')     \n",
    "    X = merge_df.query('@VAFmin < VAF < @VAFmax and log2ratiomean == log2ratiomean')[['log2ratiomean', 'VAF']]\n",
    "\n",
    "    gmm = GMM(n_components=comps, covariance_type='diag', n_init=runs).fit(X)\n",
    "    labels = gmm.predict(X)\n",
    "    # get the size of the \n",
    "    _, counts = np.unique(labels, return_counts=True)\n",
    "    maxcount = np.max(counts)\n",
    "    centers = pd.DataFrame(gmm.means_, columns=['log2ratio', 'VAF'])\n",
    "    # get mean_cov and meanVAF from largest cluster\n",
    "    meanCov, meanVAF = centers.loc[np.argmax(counts)]\n",
    "    size = maxcount\n",
    "            \n",
    "    print(f'GMM using {runs} inits: center size {size} meanVAF = {round(meanVAF, 2)} meanCov={round(meanCov, 2)}')\n",
    "    \n",
    "    return meanCov, meanVAF, centers"
   ]
  },
  {
   "cell_type": "code",
   "execution_count": null,
   "metadata": {
    "ExecuteTime": {
     "end_time": "2020-10-28T12:00:53.484840Z",
     "start_time": "2020-10-28T12:00:53.456063Z"
    }
   },
   "outputs": [],
   "source": [
    "meanCov, meanVAF, centers = get_centers(merge)\n",
    "meanVAF"
   ]
  },
  {
   "cell_type": "code",
   "execution_count": null,
   "metadata": {},
   "outputs": [],
   "source": []
  }
 ],
 "metadata": {
  "kernelspec": {
   "display_name": "Python 3",
   "language": "python",
   "name": "python3"
  },
  "language_info": {
   "codemirror_mode": {
    "name": "ipython",
    "version": 3
   },
   "file_extension": ".py",
   "mimetype": "text/x-python",
   "name": "python",
   "nbconvert_exporter": "python",
   "pygments_lexer": "ipython3",
   "version": "3.8.6"
  },
  "varInspector": {
   "cols": {
    "lenName": 16,
    "lenType": 16,
    "lenVar": 40
   },
   "kernels_config": {
    "python": {
     "delete_cmd_postfix": "",
     "delete_cmd_prefix": "del ",
     "library": "var_list.py",
     "varRefreshCmd": "print(var_dic_list())"
    },
    "r": {
     "delete_cmd_postfix": ") ",
     "delete_cmd_prefix": "rm(",
     "library": "var_list.r",
     "varRefreshCmd": "cat(var_dic_list()) "
    }
   },
   "types_to_exclude": [
    "module",
    "function",
    "builtin_function_or_method",
    "instance",
    "_Feature"
   ],
   "window_display": false
  }
 },
 "nbformat": 4,
 "nbformat_minor": 4
}
