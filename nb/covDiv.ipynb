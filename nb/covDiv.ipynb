{
 "cells": [
  {
   "cell_type": "markdown",
   "metadata": {},
   "source": [
    "# using the PON coverage, calculate the coverage difference of tumor samples "
   ]
  },
  {
   "cell_type": "code",
   "execution_count": null,
   "metadata": {
    "ExecuteTime": {
     "end_time": "2020-09-28T11:41:37.161443Z",
     "start_time": "2020-09-28T11:41:37.158717Z"
    }
   },
   "outputs": [],
   "source": [
    "# get the code\n",
    "import sys\n",
    "sys.path.append('../code')\n",
    "# from coverage import get_coverage"
   ]
  },
  {
   "cell_type": "markdown",
   "metadata": {},
   "source": [
    "### prepare the files"
   ]
  },
  {
   "cell_type": "code",
   "execution_count": 34,
   "metadata": {
    "ExecuteTime": {
     "end_time": "2020-10-02T14:45:52.944705Z",
     "start_time": "2020-10-02T14:45:52.939847Z"
    }
   },
   "outputs": [],
   "source": [
    "# set the paths\n",
    "home = '/Users/mahtin'\n",
    "home = '/Users/martinscience'\n",
    "testdata = os.path.join(home,\"Dropbox/Icke/Work/somVar/testdata\")\n",
    "tooldata = os.path.join(home, \"Dropbox/Icke/Work/somVar/tooldata\")\n",
    "cnvdata = os.path.join(tooldata, \"myCNVdata\")\n",
    "static_path = os.path.join(home, \"Dropbox/Icke/Work/static\")\n",
    "output_path = os.path.join(cnvdata, \"output\", \"covDif\")\n",
    "\n",
    "cnv_path = os.path.join(cnvdata, \"cnv\")\n"
   ]
  },
  {
   "cell_type": "code",
   "execution_count": 35,
   "metadata": {
    "ExecuteTime": {
     "end_time": "2020-10-02T14:46:00.694765Z",
     "start_time": "2020-10-02T14:46:00.690688Z"
    }
   },
   "outputs": [
    {
     "data": {
      "text/plain": [
       "'/Users/martinscience/Dropbox/Icke/Work/somVar/tooldata/myCNVdata/output/covDif'"
      ]
     },
     "execution_count": 35,
     "metadata": {},
     "output_type": "execute_result"
    }
   ],
   "source": [
    "output_path"
   ]
  },
  {
   "cell_type": "code",
   "execution_count": 36,
   "metadata": {
    "ExecuteTime": {
     "end_time": "2020-10-02T14:46:10.898184Z",
     "start_time": "2020-10-02T14:46:10.895242Z"
    }
   },
   "outputs": [],
   "source": [
    "sample = \"01_A\"\n",
    "chrom = \"chr7\""
   ]
  },
  {
   "cell_type": "markdown",
   "metadata": {},
   "source": [
    "### merge sample coverage with Pon coverage"
   ]
  },
  {
   "cell_type": "code",
   "execution_count": null,
   "metadata": {},
   "outputs": [],
   "source": [
    "def get_combined_sample_coverage(sample):"
   ]
  },
  {
   "cell_type": "code",
   "execution_count": 37,
   "metadata": {
    "ExecuteTime": {
     "end_time": "2020-10-02T14:46:11.895696Z",
     "start_time": "2020-10-02T14:46:11.886637Z"
    }
   },
   "outputs": [],
   "source": [
    "def get_merged_coverage(sample, chrom):\n",
    "    # load the sample coverage and normalize over all samples\n",
    "    sample_cov_file = f\"{cnvdata}/cnv/{sample}.{chrom}.cov\"\n",
    "    sample_df = pd.read_csv(sample_cov_file, sep='\\t', compression=\"gzip\")\n",
    "    sample_df['Coverage'] = sample_df['Coverage'] / sample_df['Coverage'].mean() * 100\n",
    "    \n",
    "    # load the PON coverage and modify columns\n",
    "    pon_cov_file = f\"{cnvdata}/chromCov/{chrom}.filtered.csv.gz\"\n",
    "    pon_df = pd.read_csv(pon_cov_file, sep='\\t', compression=\"gzip\").loc[:,['Chr', 'Pos', 'ExonPos', 'meanCov', 'medianCov', 'std']]\n",
    "    # column rename\n",
    "    trans_dict = {col:f\"PON{col}\" for col in pon_df.columns[3:]}\n",
    "    pon_df = pon_df.rename(columns=trans_dict)\n",
    "\n",
    "    # merge sample with PON coverage\n",
    "    sample_df = sample_df.merge(pon_df, on=['Chr', 'Pos', 'ExonPos'], how=\"inner\").loc[:,['Chr', 'Pos', 'ExonPos', 'Coverage','PONmeanCov', 'PONmedianCov', 'PONstd']]\n",
    "    return sample_df"
   ]
  },
  {
   "cell_type": "code",
   "execution_count": 38,
   "metadata": {
    "ExecuteTime": {
     "end_time": "2020-10-02T14:46:13.285100Z",
     "start_time": "2020-10-02T14:46:12.952792Z"
    }
   },
   "outputs": [
    {
     "data": {
      "text/html": [
       "<div>\n",
       "<style scoped>\n",
       "    .dataframe tbody tr th:only-of-type {\n",
       "        vertical-align: middle;\n",
       "    }\n",
       "\n",
       "    .dataframe tbody tr th {\n",
       "        vertical-align: top;\n",
       "    }\n",
       "\n",
       "    .dataframe thead th {\n",
       "        text-align: right;\n",
       "    }\n",
       "</style>\n",
       "<table border=\"1\" class=\"dataframe\">\n",
       "  <thead>\n",
       "    <tr style=\"text-align: right;\">\n",
       "      <th></th>\n",
       "      <th>Chr</th>\n",
       "      <th>Pos</th>\n",
       "      <th>ExonPos</th>\n",
       "      <th>Coverage</th>\n",
       "      <th>PONmeanCov</th>\n",
       "      <th>PONmedianCov</th>\n",
       "      <th>PONstd</th>\n",
       "    </tr>\n",
       "  </thead>\n",
       "  <tbody>\n",
       "    <tr>\n",
       "      <th>0</th>\n",
       "      <td>chr7</td>\n",
       "      <td>208900</td>\n",
       "      <td>2041</td>\n",
       "      <td>71.048445</td>\n",
       "      <td>61.537552</td>\n",
       "      <td>62.149501</td>\n",
       "      <td>9.206471</td>\n",
       "    </tr>\n",
       "    <tr>\n",
       "      <th>1</th>\n",
       "      <td>chr7</td>\n",
       "      <td>208950</td>\n",
       "      <td>2091</td>\n",
       "      <td>67.225313</td>\n",
       "      <td>58.693629</td>\n",
       "      <td>59.729337</td>\n",
       "      <td>10.734254</td>\n",
       "    </tr>\n",
       "    <tr>\n",
       "      <th>2</th>\n",
       "      <td>chr7</td>\n",
       "      <td>209000</td>\n",
       "      <td>2141</td>\n",
       "      <td>46.276389</td>\n",
       "      <td>36.962805</td>\n",
       "      <td>37.316476</td>\n",
       "      <td>7.557877</td>\n",
       "    </tr>\n",
       "    <tr>\n",
       "      <th>3</th>\n",
       "      <td>chr7</td>\n",
       "      <td>246500</td>\n",
       "      <td>2302</td>\n",
       "      <td>75.859202</td>\n",
       "      <td>94.631901</td>\n",
       "      <td>94.767394</td>\n",
       "      <td>19.408199</td>\n",
       "    </tr>\n",
       "    <tr>\n",
       "      <th>4</th>\n",
       "      <td>chr7</td>\n",
       "      <td>248300</td>\n",
       "      <td>2339</td>\n",
       "      <td>137.547134</td>\n",
       "      <td>110.864497</td>\n",
       "      <td>110.864497</td>\n",
       "      <td>18.346218</td>\n",
       "    </tr>\n",
       "    <tr>\n",
       "      <th>...</th>\n",
       "      <td>...</td>\n",
       "      <td>...</td>\n",
       "      <td>...</td>\n",
       "      <td>...</td>\n",
       "      <td>...</td>\n",
       "      <td>...</td>\n",
       "      <td>...</td>\n",
       "    </tr>\n",
       "    <tr>\n",
       "      <th>29875</th>\n",
       "      <td>chr7</td>\n",
       "      <td>159144250</td>\n",
       "      <td>2422935</td>\n",
       "      <td>41.655640</td>\n",
       "      <td>42.409291</td>\n",
       "      <td>40.179004</td>\n",
       "      <td>12.173417</td>\n",
       "    </tr>\n",
       "    <tr>\n",
       "      <th>29876</th>\n",
       "      <td>chr7</td>\n",
       "      <td>159144700</td>\n",
       "      <td>2423384</td>\n",
       "      <td>53.319220</td>\n",
       "      <td>49.407998</td>\n",
       "      <td>47.497280</td>\n",
       "      <td>19.564811</td>\n",
       "    </tr>\n",
       "    <tr>\n",
       "      <th>29877</th>\n",
       "      <td>chr7</td>\n",
       "      <td>159144750</td>\n",
       "      <td>2423434</td>\n",
       "      <td>43.795843</td>\n",
       "      <td>41.184198</td>\n",
       "      <td>39.315711</td>\n",
       "      <td>15.846882</td>\n",
       "    </tr>\n",
       "    <tr>\n",
       "      <th>29878</th>\n",
       "      <td>chr7</td>\n",
       "      <td>159144800</td>\n",
       "      <td>2423484</td>\n",
       "      <td>36.654876</td>\n",
       "      <td>32.596834</td>\n",
       "      <td>30.363157</td>\n",
       "      <td>13.023941</td>\n",
       "    </tr>\n",
       "    <tr>\n",
       "      <th>29879</th>\n",
       "      <td>chr7</td>\n",
       "      <td>159144850</td>\n",
       "      <td>2423534</td>\n",
       "      <td>26.517626</td>\n",
       "      <td>20.101706</td>\n",
       "      <td>19.605139</td>\n",
       "      <td>8.379436</td>\n",
       "    </tr>\n",
       "  </tbody>\n",
       "</table>\n",
       "<p>29880 rows × 7 columns</p>\n",
       "</div>"
      ],
      "text/plain": [
       "        Chr        Pos  ExonPos    Coverage  PONmeanCov  PONmedianCov  \\\n",
       "0      chr7     208900     2041   71.048445   61.537552     62.149501   \n",
       "1      chr7     208950     2091   67.225313   58.693629     59.729337   \n",
       "2      chr7     209000     2141   46.276389   36.962805     37.316476   \n",
       "3      chr7     246500     2302   75.859202   94.631901     94.767394   \n",
       "4      chr7     248300     2339  137.547134  110.864497    110.864497   \n",
       "...     ...        ...      ...         ...         ...           ...   \n",
       "29875  chr7  159144250  2422935   41.655640   42.409291     40.179004   \n",
       "29876  chr7  159144700  2423384   53.319220   49.407998     47.497280   \n",
       "29877  chr7  159144750  2423434   43.795843   41.184198     39.315711   \n",
       "29878  chr7  159144800  2423484   36.654876   32.596834     30.363157   \n",
       "29879  chr7  159144850  2423534   26.517626   20.101706     19.605139   \n",
       "\n",
       "          PONstd  \n",
       "0       9.206471  \n",
       "1      10.734254  \n",
       "2       7.557877  \n",
       "3      19.408199  \n",
       "4      18.346218  \n",
       "...          ...  \n",
       "29875  12.173417  \n",
       "29876  19.564811  \n",
       "29877  15.846882  \n",
       "29878  13.023941  \n",
       "29879   8.379436  \n",
       "\n",
       "[29880 rows x 7 columns]"
      ]
     },
     "execution_count": 38,
     "metadata": {},
     "output_type": "execute_result"
    }
   ],
   "source": [
    "sample_df = get_merged_coverage(sample, chrom)\n",
    "sample_df"
   ]
  },
  {
   "cell_type": "code",
   "execution_count": 39,
   "metadata": {
    "ExecuteTime": {
     "end_time": "2020-10-02T14:46:17.329863Z",
     "start_time": "2020-10-02T14:46:17.326019Z"
    }
   },
   "outputs": [],
   "source": [
    "import numpy as np\n",
    "\n",
    "sample_df['log2ratio'] = np.log2(sample_df['Coverage'] / sample_df['PONmeanCov'])"
   ]
  },
  {
   "cell_type": "code",
   "execution_count": 44,
   "metadata": {
    "ExecuteTime": {
     "end_time": "2020-10-02T14:47:38.177558Z",
     "start_time": "2020-10-02T14:47:37.915348Z"
    }
   },
   "outputs": [],
   "source": [
    "outfile = os.path.join(output_path, f\"{sample}.{chrom}.covDif\")\n",
    "sample_df.to_csv(outfile, sep='\\t', index=False)"
   ]
  },
  {
   "cell_type": "code",
   "execution_count": 45,
   "metadata": {
    "ExecuteTime": {
     "end_time": "2020-10-02T14:49:05.305035Z",
     "start_time": "2020-10-02T14:49:05.289609Z"
    }
   },
   "outputs": [
    {
     "data": {
      "text/html": [
       "<div>\n",
       "<style scoped>\n",
       "    .dataframe tbody tr th:only-of-type {\n",
       "        vertical-align: middle;\n",
       "    }\n",
       "\n",
       "    .dataframe tbody tr th {\n",
       "        vertical-align: top;\n",
       "    }\n",
       "\n",
       "    .dataframe thead th {\n",
       "        text-align: right;\n",
       "    }\n",
       "</style>\n",
       "<table border=\"1\" class=\"dataframe\">\n",
       "  <thead>\n",
       "    <tr style=\"text-align: right;\">\n",
       "      <th></th>\n",
       "      <th>Chr</th>\n",
       "      <th>Pos</th>\n",
       "      <th>ExonPos</th>\n",
       "      <th>Coverage</th>\n",
       "      <th>PONmeanCov</th>\n",
       "      <th>PONmedianCov</th>\n",
       "      <th>PONstd</th>\n",
       "      <th>log2ratio</th>\n",
       "    </tr>\n",
       "  </thead>\n",
       "  <tbody>\n",
       "    <tr>\n",
       "      <th>0</th>\n",
       "      <td>chr7</td>\n",
       "      <td>208900</td>\n",
       "      <td>2041</td>\n",
       "      <td>71.048445</td>\n",
       "      <td>61.537552</td>\n",
       "      <td>62.149501</td>\n",
       "      <td>9.206471</td>\n",
       "      <td>0.207336</td>\n",
       "    </tr>\n",
       "    <tr>\n",
       "      <th>1</th>\n",
       "      <td>chr7</td>\n",
       "      <td>208950</td>\n",
       "      <td>2091</td>\n",
       "      <td>67.225313</td>\n",
       "      <td>58.693629</td>\n",
       "      <td>59.729337</td>\n",
       "      <td>10.734254</td>\n",
       "      <td>0.195801</td>\n",
       "    </tr>\n",
       "    <tr>\n",
       "      <th>2</th>\n",
       "      <td>chr7</td>\n",
       "      <td>209000</td>\n",
       "      <td>2141</td>\n",
       "      <td>46.276389</td>\n",
       "      <td>36.962805</td>\n",
       "      <td>37.316476</td>\n",
       "      <td>7.557877</td>\n",
       "      <td>0.324202</td>\n",
       "    </tr>\n",
       "    <tr>\n",
       "      <th>3</th>\n",
       "      <td>chr7</td>\n",
       "      <td>246500</td>\n",
       "      <td>2302</td>\n",
       "      <td>75.859202</td>\n",
       "      <td>94.631901</td>\n",
       "      <td>94.767394</td>\n",
       "      <td>19.408199</td>\n",
       "      <td>-0.319002</td>\n",
       "    </tr>\n",
       "    <tr>\n",
       "      <th>4</th>\n",
       "      <td>chr7</td>\n",
       "      <td>248300</td>\n",
       "      <td>2339</td>\n",
       "      <td>137.547134</td>\n",
       "      <td>110.864497</td>\n",
       "      <td>110.864497</td>\n",
       "      <td>18.346218</td>\n",
       "      <td>0.311129</td>\n",
       "    </tr>\n",
       "    <tr>\n",
       "      <th>...</th>\n",
       "      <td>...</td>\n",
       "      <td>...</td>\n",
       "      <td>...</td>\n",
       "      <td>...</td>\n",
       "      <td>...</td>\n",
       "      <td>...</td>\n",
       "      <td>...</td>\n",
       "      <td>...</td>\n",
       "    </tr>\n",
       "    <tr>\n",
       "      <th>29875</th>\n",
       "      <td>chr7</td>\n",
       "      <td>159144250</td>\n",
       "      <td>2422935</td>\n",
       "      <td>41.655640</td>\n",
       "      <td>42.409291</td>\n",
       "      <td>40.179004</td>\n",
       "      <td>12.173417</td>\n",
       "      <td>-0.025869</td>\n",
       "    </tr>\n",
       "    <tr>\n",
       "      <th>29876</th>\n",
       "      <td>chr7</td>\n",
       "      <td>159144700</td>\n",
       "      <td>2423384</td>\n",
       "      <td>53.319220</td>\n",
       "      <td>49.407998</td>\n",
       "      <td>47.497280</td>\n",
       "      <td>19.564811</td>\n",
       "      <td>0.109911</td>\n",
       "    </tr>\n",
       "    <tr>\n",
       "      <th>29877</th>\n",
       "      <td>chr7</td>\n",
       "      <td>159144750</td>\n",
       "      <td>2423434</td>\n",
       "      <td>43.795843</td>\n",
       "      <td>41.184198</td>\n",
       "      <td>39.315711</td>\n",
       "      <td>15.846882</td>\n",
       "      <td>0.088703</td>\n",
       "    </tr>\n",
       "    <tr>\n",
       "      <th>29878</th>\n",
       "      <td>chr7</td>\n",
       "      <td>159144800</td>\n",
       "      <td>2423484</td>\n",
       "      <td>36.654876</td>\n",
       "      <td>32.596834</td>\n",
       "      <td>30.363157</td>\n",
       "      <td>13.023941</td>\n",
       "      <td>0.169273</td>\n",
       "    </tr>\n",
       "    <tr>\n",
       "      <th>29879</th>\n",
       "      <td>chr7</td>\n",
       "      <td>159144850</td>\n",
       "      <td>2423534</td>\n",
       "      <td>26.517626</td>\n",
       "      <td>20.101706</td>\n",
       "      <td>19.605139</td>\n",
       "      <td>8.379436</td>\n",
       "      <td>0.399634</td>\n",
       "    </tr>\n",
       "  </tbody>\n",
       "</table>\n",
       "<p>29880 rows × 8 columns</p>\n",
       "</div>"
      ],
      "text/plain": [
       "        Chr        Pos  ExonPos    Coverage  PONmeanCov  PONmedianCov  \\\n",
       "0      chr7     208900     2041   71.048445   61.537552     62.149501   \n",
       "1      chr7     208950     2091   67.225313   58.693629     59.729337   \n",
       "2      chr7     209000     2141   46.276389   36.962805     37.316476   \n",
       "3      chr7     246500     2302   75.859202   94.631901     94.767394   \n",
       "4      chr7     248300     2339  137.547134  110.864497    110.864497   \n",
       "...     ...        ...      ...         ...         ...           ...   \n",
       "29875  chr7  159144250  2422935   41.655640   42.409291     40.179004   \n",
       "29876  chr7  159144700  2423384   53.319220   49.407998     47.497280   \n",
       "29877  chr7  159144750  2423434   43.795843   41.184198     39.315711   \n",
       "29878  chr7  159144800  2423484   36.654876   32.596834     30.363157   \n",
       "29879  chr7  159144850  2423534   26.517626   20.101706     19.605139   \n",
       "\n",
       "          PONstd  log2ratio  \n",
       "0       9.206471   0.207336  \n",
       "1      10.734254   0.195801  \n",
       "2       7.557877   0.324202  \n",
       "3      19.408199  -0.319002  \n",
       "4      18.346218   0.311129  \n",
       "...          ...        ...  \n",
       "29875  12.173417  -0.025869  \n",
       "29876  19.564811   0.109911  \n",
       "29877  15.846882   0.088703  \n",
       "29878  13.023941   0.169273  \n",
       "29879   8.379436   0.399634  \n",
       "\n",
       "[29880 rows x 8 columns]"
      ]
     },
     "execution_count": 45,
     "metadata": {},
     "output_type": "execute_result"
    }
   ],
   "source": [
    "sample_df"
   ]
  },
  {
   "cell_type": "code",
   "execution_count": null,
   "metadata": {},
   "outputs": [],
   "source": []
  },
  {
   "cell_type": "code",
   "execution_count": null,
   "metadata": {},
   "outputs": [],
   "source": [
    "cov_df['ploidy'] = cov_df['normCov'] / cov_df['PONmeanCov'] * 2\n",
    "cov_df.query('ploidy > 100')"
   ]
  },
  {
   "cell_type": "markdown",
   "metadata": {},
   "source": [
    "### filter out certain stuff before applying rolling average"
   ]
  },
  {
   "cell_type": "code",
   "execution_count": null,
   "metadata": {},
   "outputs": [],
   "source": [
    "select_df = cov_df.query('ploidy < 100')\n",
    "select_df['rollingPloidy'] = select_df['ploidy'].rolling(500).mean()\n",
    "select_df.to_csv(f\"{cnvdata}/output/{bam_file}.diff.csv\", sep='\\t', index=False)"
   ]
  },
  {
   "cell_type": "code",
   "execution_count": null,
   "metadata": {},
   "outputs": [],
   "source": []
  },
  {
   "cell_type": "code",
   "execution_count": null,
   "metadata": {},
   "outputs": [],
   "source": []
  }
 ],
 "metadata": {
  "kernelspec": {
   "display_name": "Python 3",
   "language": "python",
   "name": "python3"
  },
  "language_info": {
   "codemirror_mode": {
    "name": "ipython",
    "version": 3
   },
   "file_extension": ".py",
   "mimetype": "text/x-python",
   "name": "python",
   "nbconvert_exporter": "python",
   "pygments_lexer": "ipython3",
   "version": "3.8.5"
  },
  "varInspector": {
   "cols": {
    "lenName": 16,
    "lenType": 16,
    "lenVar": 40
   },
   "kernels_config": {
    "python": {
     "delete_cmd_postfix": "",
     "delete_cmd_prefix": "del ",
     "library": "var_list.py",
     "varRefreshCmd": "print(var_dic_list())"
    },
    "r": {
     "delete_cmd_postfix": ") ",
     "delete_cmd_prefix": "rm(",
     "library": "var_list.r",
     "varRefreshCmd": "cat(var_dic_list()) "
    }
   },
   "types_to_exclude": [
    "module",
    "function",
    "builtin_function_or_method",
    "instance",
    "_Feature"
   ],
   "window_display": false
  }
 },
 "nbformat": 4,
 "nbformat_minor": 4
}
