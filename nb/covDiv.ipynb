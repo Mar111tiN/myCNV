{
 "cells": [
  {
   "cell_type": "markdown",
   "metadata": {},
   "source": [
    "# using the PON coverage, calculate the coverage difference of tumor samples "
   ]
  },
  {
   "cell_type": "code",
   "execution_count": 1,
   "metadata": {
    "ExecuteTime": {
     "end_time": "2020-09-28T11:41:37.161443Z",
     "start_time": "2020-09-28T11:41:37.158717Z"
    }
   },
   "outputs": [],
   "source": [
    "# get the code\n",
    "import sys\n",
    "sys.path.append('../code')\n",
    "from coverage import get_coverage"
   ]
  },
  {
   "cell_type": "markdown",
   "metadata": {},
   "source": [
    "### prepare the files"
   ]
  },
  {
   "cell_type": "code",
   "execution_count": 13,
   "metadata": {
    "ExecuteTime": {
     "end_time": "2020-09-28T11:41:37.790276Z",
     "start_time": "2020-09-28T11:41:37.787433Z"
    }
   },
   "outputs": [],
   "source": [
    "# set the paths\n",
    "home = '/Users/mahtin'\n",
    "home = '/Users/martinscience'\n",
    "testdata = f\"{home}/Dropbox/Icke/Work/somVar/testdata\"\n",
    "tooldata = f\"{home}/Dropbox/Icke/Work/somVar/tooldata\"\n",
    "\n",
    "cnvdata = f\"{tooldata}/myCNVdata\"\n",
    "\n",
    "output_path = f\"{cnvdata}/output\""
   ]
  },
  {
   "cell_type": "code",
   "execution_count": 14,
   "metadata": {},
   "outputs": [
    {
     "data": {
      "text/plain": [
       "'/Users/martinscience/Dropbox/Icke/Work/somVar/tooldata/myCNVdata'"
      ]
     },
     "execution_count": 14,
     "metadata": {},
     "output_type": "execute_result"
    }
   ],
   "source": [
    "cnvdata"
   ]
  },
  {
   "cell_type": "code",
   "execution_count": 24,
   "metadata": {
    "ExecuteTime": {
     "end_time": "2020-09-28T11:47:37.219908Z",
     "start_time": "2020-09-28T11:47:37.216174Z"
    }
   },
   "outputs": [
    {
     "data": {
      "text/html": [
       "<div>\n",
       "<style scoped>\n",
       "    .dataframe tbody tr th:only-of-type {\n",
       "        vertical-align: middle;\n",
       "    }\n",
       "\n",
       "    .dataframe tbody tr th {\n",
       "        vertical-align: top;\n",
       "    }\n",
       "\n",
       "    .dataframe thead th {\n",
       "        text-align: right;\n",
       "    }\n",
       "</style>\n",
       "<table border=\"1\" class=\"dataframe\">\n",
       "  <thead>\n",
       "    <tr style=\"text-align: right;\">\n",
       "      <th></th>\n",
       "      <th>Chr</th>\n",
       "      <th>Pos</th>\n",
       "      <th>ExonPos</th>\n",
       "      <th>Coverage</th>\n",
       "      <th>meanCov</th>\n",
       "      <th>medianCov</th>\n",
       "      <th>std</th>\n",
       "    </tr>\n",
       "  </thead>\n",
       "  <tbody>\n",
       "    <tr>\n",
       "      <th>0</th>\n",
       "      <td>chr7</td>\n",
       "      <td>208900</td>\n",
       "      <td>2041</td>\n",
       "      <td>340.27</td>\n",
       "      <td>62.506986</td>\n",
       "      <td>62.506986</td>\n",
       "      <td>8.098135</td>\n",
       "    </tr>\n",
       "    <tr>\n",
       "      <th>1</th>\n",
       "      <td>chr7</td>\n",
       "      <td>208950</td>\n",
       "      <td>2091</td>\n",
       "      <td>321.96</td>\n",
       "      <td>59.648168</td>\n",
       "      <td>59.798555</td>\n",
       "      <td>7.916760</td>\n",
       "    </tr>\n",
       "    <tr>\n",
       "      <th>2</th>\n",
       "      <td>chr7</td>\n",
       "      <td>209000</td>\n",
       "      <td>2141</td>\n",
       "      <td>221.63</td>\n",
       "      <td>37.648584</td>\n",
       "      <td>37.493645</td>\n",
       "      <td>6.896189</td>\n",
       "    </tr>\n",
       "    <tr>\n",
       "      <th>3</th>\n",
       "      <td>chr7</td>\n",
       "      <td>246500</td>\n",
       "      <td>2302</td>\n",
       "      <td>363.31</td>\n",
       "      <td>96.456188</td>\n",
       "      <td>96.716537</td>\n",
       "      <td>17.548990</td>\n",
       "    </tr>\n",
       "    <tr>\n",
       "      <th>4</th>\n",
       "      <td>chr7</td>\n",
       "      <td>248300</td>\n",
       "      <td>2339</td>\n",
       "      <td>658.75</td>\n",
       "      <td>111.014898</td>\n",
       "      <td>111.014898</td>\n",
       "      <td>15.119444</td>\n",
       "    </tr>\n",
       "    <tr>\n",
       "      <th>...</th>\n",
       "      <td>...</td>\n",
       "      <td>...</td>\n",
       "      <td>...</td>\n",
       "      <td>...</td>\n",
       "      <td>...</td>\n",
       "      <td>...</td>\n",
       "      <td>...</td>\n",
       "    </tr>\n",
       "    <tr>\n",
       "      <th>29875</th>\n",
       "      <td>chr7</td>\n",
       "      <td>159144250</td>\n",
       "      <td>2422935</td>\n",
       "      <td>199.50</td>\n",
       "      <td>40.974579</td>\n",
       "      <td>39.189834</td>\n",
       "      <td>10.229816</td>\n",
       "    </tr>\n",
       "    <tr>\n",
       "      <th>29876</th>\n",
       "      <td>chr7</td>\n",
       "      <td>159144700</td>\n",
       "      <td>2423384</td>\n",
       "      <td>255.36</td>\n",
       "      <td>45.594039</td>\n",
       "      <td>45.594039</td>\n",
       "      <td>15.218426</td>\n",
       "    </tr>\n",
       "    <tr>\n",
       "      <th>29877</th>\n",
       "      <td>chr7</td>\n",
       "      <td>159144750</td>\n",
       "      <td>2423434</td>\n",
       "      <td>209.75</td>\n",
       "      <td>38.186303</td>\n",
       "      <td>38.186303</td>\n",
       "      <td>12.604047</td>\n",
       "    </tr>\n",
       "    <tr>\n",
       "      <th>29878</th>\n",
       "      <td>chr7</td>\n",
       "      <td>159144800</td>\n",
       "      <td>2423484</td>\n",
       "      <td>175.55</td>\n",
       "      <td>30.157172</td>\n",
       "      <td>30.157172</td>\n",
       "      <td>10.423255</td>\n",
       "    </tr>\n",
       "    <tr>\n",
       "      <th>29879</th>\n",
       "      <td>chr7</td>\n",
       "      <td>159144850</td>\n",
       "      <td>2423534</td>\n",
       "      <td>127.00</td>\n",
       "      <td>19.179232</td>\n",
       "      <td>19.108572</td>\n",
       "      <td>7.251982</td>\n",
       "    </tr>\n",
       "  </tbody>\n",
       "</table>\n",
       "<p>29880 rows × 7 columns</p>\n",
       "</div>"
      ],
      "text/plain": [
       "        Chr        Pos  ExonPos  Coverage     meanCov   medianCov        std\n",
       "0      chr7     208900     2041    340.27   62.506986   62.506986   8.098135\n",
       "1      chr7     208950     2091    321.96   59.648168   59.798555   7.916760\n",
       "2      chr7     209000     2141    221.63   37.648584   37.493645   6.896189\n",
       "3      chr7     246500     2302    363.31   96.456188   96.716537  17.548990\n",
       "4      chr7     248300     2339    658.75  111.014898  111.014898  15.119444\n",
       "...     ...        ...      ...       ...         ...         ...        ...\n",
       "29875  chr7  159144250  2422935    199.50   40.974579   39.189834  10.229816\n",
       "29876  chr7  159144700  2423384    255.36   45.594039   45.594039  15.218426\n",
       "29877  chr7  159144750  2423434    209.75   38.186303   38.186303  12.604047\n",
       "29878  chr7  159144800  2423484    175.55   30.157172   30.157172  10.423255\n",
       "29879  chr7  159144850  2423534    127.00   19.179232   19.108572   7.251982\n",
       "\n",
       "[29880 rows x 7 columns]"
      ]
     },
     "execution_count": 24,
     "metadata": {},
     "output_type": "execute_result"
    }
   ],
   "source": [
    "sample = \"01_A\"\n",
    "chrom = \"chr7\"\n",
    "sample_cov_file = f\"{cnvdata}/cnv/{sample}.{chrom}.cov\"\n",
    "pon_cov_file = f\"{output_path}/PONcoverage/PON_coverage.{chrom}.removed.csv\"\n",
    "sample_df = pd.read_csv(sample_cov_file, sep='\\t', compression=\"gzip\")\n",
    "pon_df = pd.read_csv(pon_cov_file, sep='\\t').loc[:,['Chr', 'Pos', 'ExonPos', 'meanCov', 'medianCov', 'std']]\n",
    "sample_df = sample_df.merge(pon_df, on=['Chr', 'Pos', 'ExonPos'], how=\"inner\").loc[:,['Chr', 'Pos', 'ExonPos', 'Coverage','meanCov', 'medianCov', 'std']]\n",
    "sample_df"
   ]
  },
  {
   "cell_type": "code",
   "execution_count": 91,
   "metadata": {},
   "outputs": [
    {
     "data": {
      "text/html": [
       "<div>\n",
       "<style scoped>\n",
       "    .dataframe tbody tr th:only-of-type {\n",
       "        vertical-align: middle;\n",
       "    }\n",
       "\n",
       "    .dataframe tbody tr th {\n",
       "        vertical-align: top;\n",
       "    }\n",
       "\n",
       "    .dataframe thead th {\n",
       "        text-align: right;\n",
       "    }\n",
       "</style>\n",
       "<table border=\"1\" class=\"dataframe\">\n",
       "  <thead>\n",
       "    <tr style=\"text-align: right;\">\n",
       "      <th></th>\n",
       "      <th>Chr</th>\n",
       "      <th>Pos</th>\n",
       "      <th>Coverage</th>\n",
       "      <th>ExonPos</th>\n",
       "      <th>normCov</th>\n",
       "      <th>PONmeanCov</th>\n",
       "      <th>PONstd</th>\n",
       "      <th>ploidy</th>\n",
       "    </tr>\n",
       "  </thead>\n",
       "  <tbody>\n",
       "    <tr>\n",
       "      <th>14637</th>\n",
       "      <td>chr7</td>\n",
       "      <td>63558600</td>\n",
       "      <td>0.28</td>\n",
       "      <td>734206</td>\n",
       "      <td>0.115322</td>\n",
       "      <td>0.000000</td>\n",
       "      <td>0.000000</td>\n",
       "      <td>inf</td>\n",
       "    </tr>\n",
       "    <tr>\n",
       "      <th>14638</th>\n",
       "      <td>chr7</td>\n",
       "      <td>63558650</td>\n",
       "      <td>1.27</td>\n",
       "      <td>734256</td>\n",
       "      <td>0.523068</td>\n",
       "      <td>0.000000</td>\n",
       "      <td>0.000000</td>\n",
       "      <td>inf</td>\n",
       "    </tr>\n",
       "    <tr>\n",
       "      <th>17583</th>\n",
       "      <td>chr7</td>\n",
       "      <td>74736650</td>\n",
       "      <td>0.28</td>\n",
       "      <td>890591</td>\n",
       "      <td>0.115322</td>\n",
       "      <td>0.000000</td>\n",
       "      <td>0.000000</td>\n",
       "      <td>inf</td>\n",
       "    </tr>\n",
       "    <tr>\n",
       "      <th>29288</th>\n",
       "      <td>chr7</td>\n",
       "      <td>102560750</td>\n",
       "      <td>0.10</td>\n",
       "      <td>1492453</td>\n",
       "      <td>0.041186</td>\n",
       "      <td>0.000000</td>\n",
       "      <td>0.000000</td>\n",
       "      <td>inf</td>\n",
       "    </tr>\n",
       "    <tr>\n",
       "      <th>29307</th>\n",
       "      <td>chr7</td>\n",
       "      <td>102567950</td>\n",
       "      <td>0.47</td>\n",
       "      <td>1493407</td>\n",
       "      <td>0.193576</td>\n",
       "      <td>0.000000</td>\n",
       "      <td>0.000000</td>\n",
       "      <td>inf</td>\n",
       "    </tr>\n",
       "    <tr>\n",
       "      <th>29447</th>\n",
       "      <td>chr7</td>\n",
       "      <td>102690450</td>\n",
       "      <td>0.93</td>\n",
       "      <td>1504604</td>\n",
       "      <td>0.383034</td>\n",
       "      <td>0.000000</td>\n",
       "      <td>0.000000</td>\n",
       "      <td>inf</td>\n",
       "    </tr>\n",
       "    <tr>\n",
       "      <th>39830</th>\n",
       "      <td>chr7</td>\n",
       "      <td>142038500</td>\n",
       "      <td>1.88</td>\n",
       "      <td>2030881</td>\n",
       "      <td>0.774305</td>\n",
       "      <td>0.009261</td>\n",
       "      <td>0.047220</td>\n",
       "      <td>167.224732</td>\n",
       "    </tr>\n",
       "    <tr>\n",
       "      <th>40138</th>\n",
       "      <td>chr7</td>\n",
       "      <td>142870450</td>\n",
       "      <td>0.06</td>\n",
       "      <td>2084479</td>\n",
       "      <td>0.024712</td>\n",
       "      <td>0.000000</td>\n",
       "      <td>0.000000</td>\n",
       "      <td>inf</td>\n",
       "    </tr>\n",
       "    <tr>\n",
       "      <th>41061</th>\n",
       "      <td>chr7</td>\n",
       "      <td>144183600</td>\n",
       "      <td>0.77</td>\n",
       "      <td>2149014</td>\n",
       "      <td>0.317136</td>\n",
       "      <td>0.003504</td>\n",
       "      <td>0.017865</td>\n",
       "      <td>181.034222</td>\n",
       "    </tr>\n",
       "  </tbody>\n",
       "</table>\n",
       "</div>"
      ],
      "text/plain": [
       "        Chr        Pos  Coverage  ExonPos   normCov  PONmeanCov    PONstd  \\\n",
       "14637  chr7   63558600      0.28   734206  0.115322    0.000000  0.000000   \n",
       "14638  chr7   63558650      1.27   734256  0.523068    0.000000  0.000000   \n",
       "17583  chr7   74736650      0.28   890591  0.115322    0.000000  0.000000   \n",
       "29288  chr7  102560750      0.10  1492453  0.041186    0.000000  0.000000   \n",
       "29307  chr7  102567950      0.47  1493407  0.193576    0.000000  0.000000   \n",
       "29447  chr7  102690450      0.93  1504604  0.383034    0.000000  0.000000   \n",
       "39830  chr7  142038500      1.88  2030881  0.774305    0.009261  0.047220   \n",
       "40138  chr7  142870450      0.06  2084479  0.024712    0.000000  0.000000   \n",
       "41061  chr7  144183600      0.77  2149014  0.317136    0.003504  0.017865   \n",
       "\n",
       "           ploidy  \n",
       "14637         inf  \n",
       "14638         inf  \n",
       "17583         inf  \n",
       "29288         inf  \n",
       "29307         inf  \n",
       "29447         inf  \n",
       "39830  167.224732  \n",
       "40138         inf  \n",
       "41061  181.034222  "
      ]
     },
     "execution_count": 91,
     "metadata": {},
     "output_type": "execute_result"
    }
   ],
   "source": [
    "cov_df['ploidy'] = cov_df['normCov'] / cov_df['PONmeanCov'] * 2\n",
    "cov_df.query('ploidy > 100')"
   ]
  },
  {
   "cell_type": "markdown",
   "metadata": {},
   "source": [
    "### filter out certain stuff before applying rolling average"
   ]
  },
  {
   "cell_type": "code",
   "execution_count": 98,
   "metadata": {},
   "outputs": [
    {
     "name": "stderr",
     "output_type": "stream",
     "text": [
      "<ipython-input-98-946f9ca0fd86>:2: SettingWithCopyWarning: \n",
      "A value is trying to be set on a copy of a slice from a DataFrame.\n",
      "Try using .loc[row_indexer,col_indexer] = value instead\n",
      "\n",
      "See the caveats in the documentation: https://pandas.pydata.org/pandas-docs/stable/user_guide/indexing.html#returning-a-view-versus-a-copy\n",
      "  select_df['rollingPloidy'] = select_df['ploidy'].rolling(500).mean()\n"
     ]
    }
   ],
   "source": [
    "select_df = cov_df.query('ploidy < 100')\n",
    "select_df['rollingPloidy'] = select_df['ploidy'].rolling(500).mean()\n",
    "select_df.to_csv(f\"{cnvdata}/output/{bam_file}.diff.csv\", sep='\\t', index=False)"
   ]
  },
  {
   "cell_type": "code",
   "execution_count": 80,
   "metadata": {},
   "outputs": [],
   "source": []
  },
  {
   "cell_type": "code",
   "execution_count": null,
   "metadata": {},
   "outputs": [],
   "source": []
  }
 ],
 "metadata": {
  "kernelspec": {
   "display_name": "Python 3",
   "language": "python",
   "name": "python3"
  },
  "language_info": {
   "codemirror_mode": {
    "name": "ipython",
    "version": 3
   },
   "file_extension": ".py",
   "mimetype": "text/x-python",
   "name": "python",
   "nbconvert_exporter": "python",
   "pygments_lexer": "ipython3",
   "version": "3.8.5"
  },
  "varInspector": {
   "cols": {
    "lenName": 16,
    "lenType": 16,
    "lenVar": 40
   },
   "kernels_config": {
    "python": {
     "delete_cmd_postfix": "",
     "delete_cmd_prefix": "del ",
     "library": "var_list.py",
     "varRefreshCmd": "print(var_dic_list())"
    },
    "r": {
     "delete_cmd_postfix": ") ",
     "delete_cmd_prefix": "rm(",
     "library": "var_list.r",
     "varRefreshCmd": "cat(var_dic_list()) "
    }
   },
   "types_to_exclude": [
    "module",
    "function",
    "builtin_function_or_method",
    "instance",
    "_Feature"
   ],
   "window_display": false
  }
 },
 "nbformat": 4,
 "nbformat_minor": 4
}
