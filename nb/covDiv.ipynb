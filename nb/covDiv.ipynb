{
 "cells": [
  {
   "cell_type": "markdown",
   "metadata": {},
   "source": [
    "# using the PON coverage, calculate the coverage difference of tumor samples "
   ]
  },
  {
   "cell_type": "code",
   "execution_count": 1,
   "metadata": {
    "ExecuteTime": {
     "end_time": "2020-09-28T11:41:37.161443Z",
     "start_time": "2020-09-28T11:41:37.158717Z"
    }
   },
   "outputs": [],
   "source": [
    "# get the code\n",
    "import sys\n",
    "sys.path.append('../code')\n",
    "from coverage import get_coverage"
   ]
  },
  {
   "cell_type": "markdown",
   "metadata": {},
   "source": [
    "### prepare the files"
   ]
  },
  {
   "cell_type": "code",
   "execution_count": 11,
   "metadata": {
    "ExecuteTime": {
     "end_time": "2020-09-28T11:41:37.790276Z",
     "start_time": "2020-09-28T11:41:37.787433Z"
    }
   },
   "outputs": [],
   "source": [
    "# set the paths\n",
    "home = '/Users/mahtin'\n",
    "home = '/Users/martinscience'\n",
    "testdata = f\"{home}/Dropbox/Icke/Work/somVar/testdata\"\n",
    "tooldata = f\"{home}/Dropbox/Icke/Work/somVar/tooldata\"\n",
    "cnvdata = f\"{tooldata}/myCNVdata\"\n",
    "shell_path = \"../shell\"\n",
    "static_path = f\"{home}/Dropbox/Icke/Work/static\"\n",
    "bed_path = f\"{static_path}/bed_files/SureSelect/hg38\""
   ]
  },
  {
   "cell_type": "markdown",
   "metadata": {},
   "source": [
    "### make the config"
   ]
  },
  {
   "cell_type": "code",
   "execution_count": 12,
   "metadata": {
    "ExecuteTime": {
     "end_time": "2020-09-28T11:47:37.219908Z",
     "start_time": "2020-09-28T11:47:37.216174Z"
    }
   },
   "outputs": [],
   "source": [
    "# shell paths\n",
    "mawk_tools = ['bamCoverage', 'filterBed', 'rollingCoverage']\n",
    "mawk_tool_dict = {tool:f\"{shell_path}/{tool}.mawk\" for tool in mawk_tools}\n",
    "config = {\n",
    "    'rollingWindowSize': 100,\n",
    "    'bedfile': f\"{bed_path}/SS_HAEv7_hg38_Covered.bed\",\n",
    "    'q': 20\n",
    "}\n",
    "# add tool shell paths to config\n",
    "config.update(mawk_tool_dict)\n"
   ]
  },
  {
   "cell_type": "code",
   "execution_count": 4,
   "metadata": {},
   "outputs": [
    {
     "name": "stdout",
     "output_type": "stream",
     "text": [
      "ls: f/Users/martinscience/Dropbox/Icke/Work/somVar/testdata/bam: No such file or directory\r\n"
     ]
    }
   ],
   "source": [
    "ls f\"{testdata}/bam\""
   ]
  },
  {
   "cell_type": "code",
   "execution_count": 5,
   "metadata": {
    "ExecuteTime": {
     "end_time": "2020-09-28T11:47:40.022463Z",
     "start_time": "2020-09-28T11:47:39.579702Z"
    }
   },
   "outputs": [
    {
     "name": "stdout",
     "output_type": "stream",
     "text": [
      "\u001b[1m$ samtools view -q 20 /Users/martinscience/Dropbox/Icke/Work/somVar/testdata/bam/003_A.chr7.bam chr7 | ../shell/bamCoverage.mawk | ../shell/rollingCoverage.mawk 100 | ../shell/filterBed.mawk /Users/martinscience/Dropbox/Icke/Work/static/bed_files/SureSelect/hg38/SS_HAEv7_hg38_Covered.bed chr7 1\u001b[0m\n"
     ]
    }
   ],
   "source": [
    "bam_file = f\"{testdata}/bam/003_A.bam\"\n",
    "chrom = \"chr7\"\n",
    "bam_chrom_file = bam_file.replace(\".bam\", f\".{chrom}.bam\")\n",
    "\n",
    "cov_df = get_coverage(bam_chrom_file, chrom, config)"
   ]
  },
  {
   "cell_type": "code",
   "execution_count": 6,
   "metadata": {},
   "outputs": [
    {
     "data": {
      "text/html": [
       "<div>\n",
       "<style scoped>\n",
       "    .dataframe tbody tr th:only-of-type {\n",
       "        vertical-align: middle;\n",
       "    }\n",
       "\n",
       "    .dataframe tbody tr th {\n",
       "        vertical-align: top;\n",
       "    }\n",
       "\n",
       "    .dataframe thead th {\n",
       "        text-align: right;\n",
       "    }\n",
       "</style>\n",
       "<table border=\"1\" class=\"dataframe\">\n",
       "  <thead>\n",
       "    <tr style=\"text-align: right;\">\n",
       "      <th></th>\n",
       "      <th>Chr</th>\n",
       "      <th>Pos</th>\n",
       "      <th>Coverage</th>\n",
       "      <th>ExonPos</th>\n",
       "    </tr>\n",
       "  </thead>\n",
       "  <tbody>\n",
       "    <tr>\n",
       "      <th>0</th>\n",
       "      <td>chr7</td>\n",
       "      <td>35350</td>\n",
       "      <td>24.26</td>\n",
       "      <td>967</td>\n",
       "    </tr>\n",
       "    <tr>\n",
       "      <th>1</th>\n",
       "      <td>chr7</td>\n",
       "      <td>35400</td>\n",
       "      <td>22.36</td>\n",
       "      <td>1017</td>\n",
       "    </tr>\n",
       "    <tr>\n",
       "      <th>2</th>\n",
       "      <td>chr7</td>\n",
       "      <td>35450</td>\n",
       "      <td>12.33</td>\n",
       "      <td>1067</td>\n",
       "    </tr>\n",
       "    <tr>\n",
       "      <th>3</th>\n",
       "      <td>chr7</td>\n",
       "      <td>36200</td>\n",
       "      <td>1.58</td>\n",
       "      <td>1112</td>\n",
       "    </tr>\n",
       "    <tr>\n",
       "      <th>4</th>\n",
       "      <td>chr7</td>\n",
       "      <td>36250</td>\n",
       "      <td>4.58</td>\n",
       "      <td>1162</td>\n",
       "    </tr>\n",
       "    <tr>\n",
       "      <th>...</th>\n",
       "      <td>...</td>\n",
       "      <td>...</td>\n",
       "      <td>...</td>\n",
       "      <td>...</td>\n",
       "    </tr>\n",
       "    <tr>\n",
       "      <th>46496</th>\n",
       "      <td>chr7</td>\n",
       "      <td>159144650</td>\n",
       "      <td>473.44</td>\n",
       "      <td>2423334</td>\n",
       "    </tr>\n",
       "    <tr>\n",
       "      <th>46497</th>\n",
       "      <td>chr7</td>\n",
       "      <td>159144700</td>\n",
       "      <td>357.99</td>\n",
       "      <td>2423384</td>\n",
       "    </tr>\n",
       "    <tr>\n",
       "      <th>46498</th>\n",
       "      <td>chr7</td>\n",
       "      <td>159144750</td>\n",
       "      <td>271.64</td>\n",
       "      <td>2423434</td>\n",
       "    </tr>\n",
       "    <tr>\n",
       "      <th>46499</th>\n",
       "      <td>chr7</td>\n",
       "      <td>159144800</td>\n",
       "      <td>212.69</td>\n",
       "      <td>2423484</td>\n",
       "    </tr>\n",
       "    <tr>\n",
       "      <th>46500</th>\n",
       "      <td>chr7</td>\n",
       "      <td>159144850</td>\n",
       "      <td>158.91</td>\n",
       "      <td>2423534</td>\n",
       "    </tr>\n",
       "  </tbody>\n",
       "</table>\n",
       "<p>46501 rows × 4 columns</p>\n",
       "</div>"
      ],
      "text/plain": [
       "        Chr        Pos  Coverage  ExonPos\n",
       "0      chr7      35350     24.26      967\n",
       "1      chr7      35400     22.36     1017\n",
       "2      chr7      35450     12.33     1067\n",
       "3      chr7      36200      1.58     1112\n",
       "4      chr7      36250      4.58     1162\n",
       "...     ...        ...       ...      ...\n",
       "46496  chr7  159144650    473.44  2423334\n",
       "46497  chr7  159144700    357.99  2423384\n",
       "46498  chr7  159144750    271.64  2423434\n",
       "46499  chr7  159144800    212.69  2423484\n",
       "46500  chr7  159144850    158.91  2423534\n",
       "\n",
       "[46501 rows x 4 columns]"
      ]
     },
     "execution_count": 6,
     "metadata": {},
     "output_type": "execute_result"
    }
   ],
   "source": [
    "cov_df"
   ]
  },
  {
   "cell_type": "code",
   "execution_count": 14,
   "metadata": {},
   "outputs": [
    {
     "data": {
      "text/html": [
       "<div>\n",
       "<style scoped>\n",
       "    .dataframe tbody tr th:only-of-type {\n",
       "        vertical-align: middle;\n",
       "    }\n",
       "\n",
       "    .dataframe tbody tr th {\n",
       "        vertical-align: top;\n",
       "    }\n",
       "\n",
       "    .dataframe thead th {\n",
       "        text-align: right;\n",
       "    }\n",
       "</style>\n",
       "<table border=\"1\" class=\"dataframe\">\n",
       "  <thead>\n",
       "    <tr style=\"text-align: right;\">\n",
       "      <th></th>\n",
       "      <th>Unnamed: 0</th>\n",
       "      <th>Chr</th>\n",
       "      <th>Pos</th>\n",
       "      <th>ExonPos</th>\n",
       "      <th>meanCov</th>\n",
       "      <th>std</th>\n",
       "    </tr>\n",
       "  </thead>\n",
       "  <tbody>\n",
       "    <tr>\n",
       "      <th>0</th>\n",
       "      <td>0</td>\n",
       "      <td>chr7</td>\n",
       "      <td>35350</td>\n",
       "      <td>967</td>\n",
       "      <td>7.714566</td>\n",
       "      <td>8.019915</td>\n",
       "    </tr>\n",
       "    <tr>\n",
       "      <th>1</th>\n",
       "      <td>1</td>\n",
       "      <td>chr7</td>\n",
       "      <td>35400</td>\n",
       "      <td>1017</td>\n",
       "      <td>11.643514</td>\n",
       "      <td>13.194251</td>\n",
       "    </tr>\n",
       "    <tr>\n",
       "      <th>2</th>\n",
       "      <td>2</td>\n",
       "      <td>chr7</td>\n",
       "      <td>35450</td>\n",
       "      <td>1067</td>\n",
       "      <td>12.112316</td>\n",
       "      <td>14.815315</td>\n",
       "    </tr>\n",
       "    <tr>\n",
       "      <th>3</th>\n",
       "      <td>3</td>\n",
       "      <td>chr7</td>\n",
       "      <td>36200</td>\n",
       "      <td>1112</td>\n",
       "      <td>7.552480</td>\n",
       "      <td>10.131597</td>\n",
       "    </tr>\n",
       "    <tr>\n",
       "      <th>4</th>\n",
       "      <td>4</td>\n",
       "      <td>chr7</td>\n",
       "      <td>36250</td>\n",
       "      <td>1162</td>\n",
       "      <td>6.778501</td>\n",
       "      <td>8.852529</td>\n",
       "    </tr>\n",
       "    <tr>\n",
       "      <th>...</th>\n",
       "      <td>...</td>\n",
       "      <td>...</td>\n",
       "      <td>...</td>\n",
       "      <td>...</td>\n",
       "      <td>...</td>\n",
       "      <td>...</td>\n",
       "    </tr>\n",
       "    <tr>\n",
       "      <th>47121</th>\n",
       "      <td>47121</td>\n",
       "      <td>chr7</td>\n",
       "      <td>159144650</td>\n",
       "      <td>2423334</td>\n",
       "      <td>154.801458</td>\n",
       "      <td>64.090454</td>\n",
       "    </tr>\n",
       "    <tr>\n",
       "      <th>47122</th>\n",
       "      <td>47122</td>\n",
       "      <td>chr7</td>\n",
       "      <td>159144700</td>\n",
       "      <td>2423384</td>\n",
       "      <td>123.519995</td>\n",
       "      <td>50.822211</td>\n",
       "    </tr>\n",
       "    <tr>\n",
       "      <th>47123</th>\n",
       "      <td>47123</td>\n",
       "      <td>chr7</td>\n",
       "      <td>159144750</td>\n",
       "      <td>2423434</td>\n",
       "      <td>102.960494</td>\n",
       "      <td>41.161186</td>\n",
       "    </tr>\n",
       "    <tr>\n",
       "      <th>47124</th>\n",
       "      <td>47124</td>\n",
       "      <td>chr7</td>\n",
       "      <td>159144800</td>\n",
       "      <td>2423484</td>\n",
       "      <td>81.492084</td>\n",
       "      <td>33.819413</td>\n",
       "    </tr>\n",
       "    <tr>\n",
       "      <th>47125</th>\n",
       "      <td>47125</td>\n",
       "      <td>chr7</td>\n",
       "      <td>159144850</td>\n",
       "      <td>2423534</td>\n",
       "      <td>52.827648</td>\n",
       "      <td>25.070253</td>\n",
       "    </tr>\n",
       "  </tbody>\n",
       "</table>\n",
       "<p>47126 rows × 6 columns</p>\n",
       "</div>"
      ],
      "text/plain": [
       "       Unnamed: 0   Chr        Pos  ExonPos     meanCov        std\n",
       "0               0  chr7      35350      967    7.714566   8.019915\n",
       "1               1  chr7      35400     1017   11.643514  13.194251\n",
       "2               2  chr7      35450     1067   12.112316  14.815315\n",
       "3               3  chr7      36200     1112    7.552480  10.131597\n",
       "4               4  chr7      36250     1162    6.778501   8.852529\n",
       "...           ...   ...        ...      ...         ...        ...\n",
       "47121       47121  chr7  159144650  2423334  154.801458  64.090454\n",
       "47122       47122  chr7  159144700  2423384  123.519995  50.822211\n",
       "47123       47123  chr7  159144750  2423434  102.960494  41.161186\n",
       "47124       47124  chr7  159144800  2423484   81.492084  33.819413\n",
       "47125       47125  chr7  159144850  2423534   52.827648  25.070253\n",
       "\n",
       "[47126 rows x 6 columns]"
      ]
     },
     "execution_count": 14,
     "metadata": {},
     "output_type": "execute_result"
    }
   ],
   "source": [
    "chrom = \"chr7\"\n",
    "chrom_cov_file = f\"{cnvdata}/chromCov/{chrom}.bedCov\"\n",
    "pd.read_csv(chrom_cov_file, sep='\\t')"
   ]
  },
  {
   "cell_type": "code",
   "execution_count": null,
   "metadata": {},
   "outputs": [],
   "source": []
  }
 ],
 "metadata": {
  "kernelspec": {
   "display_name": "Python 3",
   "language": "python",
   "name": "python3"
  },
  "language_info": {
   "codemirror_mode": {
    "name": "ipython",
    "version": 3
   },
   "file_extension": ".py",
   "mimetype": "text/x-python",
   "name": "python",
   "nbconvert_exporter": "python",
   "pygments_lexer": "ipython3",
   "version": "3.8.5"
  },
  "varInspector": {
   "cols": {
    "lenName": 16,
    "lenType": 16,
    "lenVar": 40
   },
   "kernels_config": {
    "python": {
     "delete_cmd_postfix": "",
     "delete_cmd_prefix": "del ",
     "library": "var_list.py",
     "varRefreshCmd": "print(var_dic_list())"
    },
    "r": {
     "delete_cmd_postfix": ") ",
     "delete_cmd_prefix": "rm(",
     "library": "var_list.r",
     "varRefreshCmd": "cat(var_dic_list()) "
    }
   },
   "types_to_exclude": [
    "module",
    "function",
    "builtin_function_or_method",
    "instance",
    "_Feature"
   ],
   "window_display": false
  }
 },
 "nbformat": 4,
 "nbformat_minor": 4
}
