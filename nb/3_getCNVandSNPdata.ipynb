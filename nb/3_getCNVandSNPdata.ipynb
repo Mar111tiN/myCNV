{
 "cells": [
  {
   "cell_type": "markdown",
   "metadata": {},
   "source": [
    "## combining chromosome SNP data per sample into WES SNP data\n",
    "### also add EB data if available to filter out bad SNPs"
   ]
  },
  {
   "cell_type": "code",
   "execution_count": 1,
   "metadata": {
    "ExecuteTime": {
     "end_time": "2020-12-15T11:13:07.969242Z",
     "start_time": "2020-12-15T11:13:07.963425Z"
    }
   },
   "outputs": [],
   "source": [
    "import os\n",
    "# HOME\n",
    "home = '/Users/mahtin'\n",
    "home = '/Users/martinscience'\n",
    "# standard paths\n",
    "testdata = os.path.join(home,\"Dropbox/Icke/Work/somVar/testdata\")\n",
    "static_path = os.path.join(home, \"Dropbox/Icke/Work/static\")\n",
    "cluster_path = os.path.join(home, \"mount\")\n",
    "tooldata = os.path.join(home, \"Dropbox/Icke/Work/somVar/tooldata\")\n",
    "\n",
    "# \n",
    "cnvdata = os.path.join(tooldata, \"myCNVdata\")\n",
    "output_path = os.path.join(cnvdata, \"output\")\n",
    "\n",
    "# the path to the input data\n",
    "cnv_path = os.path.join(cnvdata, \"cnv\")\n",
    "cnvPON_path = cnv_path = os.path.join(cnvdata, \"chromCov\")\n",
    "cnv_path = os.path.join(cluster_path, \"scratch/develop/PONcoverage/cnv\")\n",
    "cnvPON_path = os.path.join(cluster_path, \"scratch/develop/PONcoverage/chromCov\")"
   ]
  },
  {
   "cell_type": "code",
   "execution_count": null,
   "metadata": {
    "ExecuteTime": {
     "end_time": "2020-12-15T11:13:08.220211Z",
     "start_time": "2020-12-15T11:13:07.516Z"
    }
   },
   "outputs": [],
   "source": [
    "ls ../scripts"
   ]
  },
  {
   "cell_type": "code",
   "execution_count": 2,
   "metadata": {
    "ExecuteTime": {
     "end_time": "2020-12-15T11:13:08.658360Z",
     "start_time": "2020-12-15T11:13:08.648187Z"
    }
   },
   "outputs": [
    {
     "data": {
      "text/plain": [
       "'/Users/martinscience/mount'"
      ]
     },
     "execution_count": 2,
     "metadata": {},
     "output_type": "execute_result"
    }
   ],
   "source": [
    "cluster_path"
   ]
  },
  {
   "cell_type": "markdown",
   "metadata": {},
   "source": [
    "# get the code"
   ]
  },
  {
   "cell_type": "code",
   "execution_count": 4,
   "metadata": {
    "ExecuteTime": {
     "end_time": "2020-12-15T11:13:37.018652Z",
     "start_time": "2020-12-15T11:13:37.009636Z"
    }
   },
   "outputs": [],
   "source": [
    "# get the code\n",
    "import sys\n",
    "sys.path.append('../scripts')\n",
    "from script_utils import show_output\n",
    "from codeCNV.combineCNVdata import get_covNsnp"
   ]
  },
  {
   "cell_type": "code",
   "execution_count": null,
   "metadata": {
    "ExecuteTime": {
     "end_time": "2020-12-15T11:12:20.585846Z",
     "start_time": "2020-12-15T11:12:20.552325Z"
    }
   },
   "outputs": [],
   "source": [
    "sample = \"01_A\"\n",
    "snp_df, cov_df = get_covNsnp(sample, sample_cnv_path=cnv_path, PON_cnv_path=cnvPON_path, verbose=False)\n",
    "snp_df.to_csv(os.path.join(output_path, 'heteroSNP/01_A.snp'), sep='\\t', index=False)\n",
    "cov_df.to_csv(os.path.join(output_path, 'covDif/01_A.cov'), sep='\\t', index=False)"
   ]
  },
  {
   "cell_type": "code",
   "execution_count": null,
   "metadata": {
    "ExecuteTime": {
     "end_time": "2020-10-14T08:15:29.226133Z",
     "start_time": "2020-10-14T08:15:29.210596Z"
    }
   },
   "outputs": [],
   "source": [
    "snp_df[:10]"
   ]
  },
  {
   "cell_type": "code",
   "execution_count": null,
   "metadata": {
    "ExecuteTime": {
     "end_time": "2020-10-14T08:15:29.807375Z",
     "start_time": "2020-10-14T08:15:29.795649Z"
    }
   },
   "outputs": [],
   "source": [
    "cov_df[:10]"
   ]
  },
  {
   "cell_type": "markdown",
   "metadata": {},
   "source": [
    "# A) combine the data from individual chroms into exom df"
   ]
  },
  {
   "cell_type": "markdown",
   "metadata": {},
   "source": [
    "## 1) coverage: merge sample coverage with Pon coverage"
   ]
  },
  {
   "cell_type": "markdown",
   "metadata": {},
   "source": [
    "### make full ExomCoords\n",
    "+ get the last coords of the chromosome\n",
    "+ make a running sum\n",
    "+ add that to the ExonPos"
   ]
  },
  {
   "cell_type": "code",
   "execution_count": null,
   "metadata": {
    "ExecuteTime": {
     "end_time": "2020-10-26T15:13:22.377784Z",
     "start_time": "2020-10-26T15:13:22.087913Z"
    }
   },
   "outputs": [],
   "source": [
    "chrom = 'chr2'\n",
    "sample = \"01_A\"\n",
    "pon_cov = pd.read_csv(os.path.join(cnvPON_path, f\"{chrom}.filtered.csv.gz\"), sep='\\t', compression=\"gzip\")\n",
    "pon_cov"
   ]
  },
  {
   "cell_type": "code",
   "execution_count": null,
   "metadata": {
    "ExecuteTime": {
     "end_time": "2020-10-26T15:13:23.356724Z",
     "start_time": "2020-10-26T15:13:23.249620Z"
    }
   },
   "outputs": [],
   "source": [
    "sample_cov = pd.read_csv(os.path.join(cnv_path, f\"{sample}.{chrom}.cov\"), sep='\\t', compression=\"gzip\")\n",
    "sample_cov"
   ]
  },
  {
   "cell_type": "code",
   "execution_count": null,
   "metadata": {
    "ExecuteTime": {
     "end_time": "2020-10-26T15:13:24.384564Z",
     "start_time": "2020-10-26T15:13:24.373758Z"
    }
   },
   "outputs": [],
   "source": [
    "def combine_Covdata(sample, sample_cnv_path=\"\", PON_cnv_path=\"\", verbose=False, filtered=True):\n",
    "    \n",
    "    cover_dfs = []\n",
    "    chrom_list = [f\"chr{chrom + 1}\" for chrom in range(22)] + ['chrX']\n",
    "    for chrom in chrom_list:\n",
    "        # reading sampleCoverage\n",
    "        sample_cov_file = os.path.join(sample_cnv_path, f\"{sample}.{chrom}.cov\")\n",
    "        if not os.path.isfile(sample_cov_file):\n",
    "            print(\"No file\", sample_cov_file)\n",
    "            continue\n",
    "        if verbose:\n",
    "            print(f\"Reading coverage from {chrom} of sample {sample} from {sample_cov_file}.\")\n",
    "        cov_df = pd.read_csv(sample_cov_file, sep='\\t', compression=\"gzip\")\n",
    "        \n",
    "        #reading PONcoverage\n",
    "        full_or_filtered = \"filtered\" if filtered else \"full\"\n",
    "        pon_cov_file = os.path.join(PON_cnv_path, f\"{chrom}.{full_or_filtered}.csv.gz\")\n",
    "        if not os.path.isfile(pon_cov_file):\n",
    "            print(\"No file\", pon_cov_file)\n",
    "            continue\n",
    "        if verbose:\n",
    "            print(f\"Reading PON coverage of {chrom} from file {pon_cov_file}.\")\n",
    "        pon_df = pd.read_csv(pon_cov_file, sep='\\t', compression=\"gzip\").loc[:,['Chr', 'Pos', 'FullExonPos', 'ExonPos', 'meanCov', 'medianCov', 'std']]\n",
    "        # column rename\n",
    "        trans_dict = {col:f\"PON{col}\" for col in pon_df.columns[4:]}\n",
    "        pon_df = pon_df.rename(columns=trans_dict)\n",
    "        # merge sample with PON coverage\n",
    "        sample_df = cov_df.merge(pon_df, on=['Chr', 'Pos', 'ExonPos'], how=\"outer\").loc[:,['Chr', 'Pos', 'FullExonPos', 'ExonPos', 'Coverage','PONmeanCov', 'PONmedianCov', 'PONstd']]\n",
    "        \n",
    "        ##### here recover missing FullExonPos from margin\n",
    "        # get \n",
    "        exon_start, full_start = sample_df.iloc[0][['ExonPos', 'FullExonPos']]\n",
    "        offset = full_start - exon_start\n",
    "        sample_df.loc[sample_df['FullExonPos'] != sample_df['FullExonPos'], 'FullExonPos'] = sample_df['ExonPos'] + offset\n",
    "        sample_df.loc[:, 'FullExonPos'] = sample_df.loc[:, 'FullExonPos'].astype(int)\n",
    "        cover_dfs.append(sample_df)  \n",
    "    # combine chrom data\n",
    "    cover_df = pd.concat(cover_dfs)\n",
    "    \n",
    "    # normalize the coverage\n",
    "    cover_df['Coverage'] = cover_df['Coverage'].fillna(0)\n",
    "    mean_cov = sample_df['Coverage'].mean()\n",
    "    cover_df.loc[:, 'Coverage'] = (cover_df['Coverage'] / mean_cov * 100)\n",
    "    # loggable are the coverages, where log2ratio can be computed\n",
    "    loggable = (cover_df['PONmeanCov'] * cover_df['Coverage'] != 0)\n",
    "    cover_df.loc[loggable, 'log2ratio'] = np.log2(cover_df.loc[loggable, 'Coverage'] / cover_df.loc[loggable, 'PONmeanCov'])\n",
    "    # mark regions without PON coverage as 0\n",
    "    cover_df.loc[~loggable, 'log2ratio'] = np.nan\n",
    "    return cover_df"
   ]
  },
  {
   "cell_type": "code",
   "execution_count": null,
   "metadata": {
    "ExecuteTime": {
     "end_time": "2020-10-26T15:13:29.781798Z",
     "start_time": "2020-10-26T15:13:25.302855Z"
    }
   },
   "outputs": [],
   "source": [
    "sample = \"01_A\"\n",
    "cov_df = combine_Covdata(sample, sample_cnv_path=cnv_path, PON_cnv_path=cnvPON_path, filtered=True)\n",
    "cov_df"
   ]
  },
  {
   "cell_type": "code",
   "execution_count": null,
   "metadata": {
    "ExecuteTime": {
     "end_time": "2020-10-14T08:31:13.439348Z",
     "start_time": "2020-10-14T08:31:13.424674Z"
    }
   },
   "outputs": [],
   "source": [
    "cov_df['Coverage'].mean()"
   ]
  },
  {
   "cell_type": "code",
   "execution_count": null,
   "metadata": {
    "ExecuteTime": {
     "end_time": "2020-10-14T08:31:16.201255Z",
     "start_time": "2020-10-14T08:31:16.135688Z"
    }
   },
   "outputs": [],
   "source": [
    "cov_df.query('Chr == \"chr2\"').sort_values('FullExonPos')"
   ]
  },
  {
   "cell_type": "markdown",
   "metadata": {},
   "source": [
    "## 2) heteroSNP: combine all snp for a sample into one df with corresponding EBscore"
   ]
  },
  {
   "cell_type": "code",
   "execution_count": null,
   "metadata": {
    "ExecuteTime": {
     "end_time": "2020-10-26T15:13:52.657981Z",
     "start_time": "2020-10-26T15:13:52.650411Z"
    }
   },
   "outputs": [],
   "source": [
    "import os\n",
    "chrom_list = [f\"chr{chrom + 1}\" for chrom in range(22)] + ['chrX']\n",
    "\n",
    "\n",
    "def combine_SNPdata(sample, sample_cnv_path=\"\", verbose=False):\n",
    "    snp_dfs = []\n",
    "    file_base = os.path.join(sample_cnv_path, sample)\n",
    "    for chrom in chrom_list:\n",
    "        # reading SNP\n",
    "        file = f\"{file_base}.{chrom}.snp\"\n",
    "        if not os.path.isfile(file):\n",
    "            print('No file', file)\n",
    "            continue\n",
    "        if verbose:\n",
    "            print(f\"Reading SNP VAF from {chrom} of sample {sample} from {file}.\")\n",
    "        snp_df = pd.read_csv(file, sep='\\t')\n",
    "        snp_df[['Alt', 'AltDepth']] = snp_df['Alt'].str.extract(r\"([AGCT])([0-9]+)\")\n",
    "        \n",
    "        #reading snpEB\n",
    "        file = f\"{file_base}.{chrom}.snpEB\"\n",
    "        if not os.path.isfile(file):\n",
    "            print('No file', file)\n",
    "            continue\n",
    "        if verbose:\n",
    "            print(f\"Reading SNP EBscores from {chrom} of sample {sample} from {file}.\")\n",
    "        snpEB_df = pd.read_csv(file, sep='\\t').loc[:,['Chr', 'Start', 'Ref','Alt', 'EBscore', 'PoN-Alt']]\n",
    "        snp_df = snp_df.merge(snpEB_df, on=['Chr', 'Start', 'Ref', 'Alt'])\n",
    "        \n",
    "        snp_dfs.append(snp_df)\n",
    "    snp_df = pd.concat(snp_dfs).reset_index(drop=True)\n",
    "    return snp_df.loc[:, [\"Chr\", \"Start\", \"ExonPos\", \"Ref\", \"Depth\", \"Alt\", \"VAF\", \"EBscore\", \"PoN-Alt\"]]"
   ]
  },
  {
   "cell_type": "code",
   "execution_count": null,
   "metadata": {
    "ExecuteTime": {
     "end_time": "2020-10-26T15:14:00.100509Z",
     "start_time": "2020-10-26T15:13:53.887190Z"
    }
   },
   "outputs": [],
   "source": [
    "sample = \"01_A\"\n",
    "snp_df = combine_SNPdata(sample, sample_cnv_path=cnv_path)\n",
    "snp_df"
   ]
  },
  {
   "cell_type": "code",
   "execution_count": null,
   "metadata": {
    "ExecuteTime": {
     "end_time": "2020-10-09T09:03:50.580060Z",
     "start_time": "2020-10-09T09:03:50.503202Z"
    }
   },
   "outputs": [],
   "source": [
    "snp_df, _, _ = centerVAF(snp_df)\n",
    "snp_df"
   ]
  },
  {
   "cell_type": "code",
   "execution_count": null,
   "metadata": {
    "ExecuteTime": {
     "end_time": "2020-10-09T09:03:50.825879Z",
     "start_time": "2020-10-09T09:03:50.813819Z"
    }
   },
   "outputs": [],
   "source": [
    "snp_df.query('0.05 < VAF < 0.95')['VAF'].mean()"
   ]
  },
  {
   "cell_type": "code",
   "execution_count": null,
   "metadata": {
    "ExecuteTime": {
     "end_time": "2020-10-09T09:03:51.242163Z",
     "start_time": "2020-10-09T09:03:51.229926Z"
    }
   },
   "outputs": [],
   "source": [
    "snp_df.query('0.05 < VAF < 0.95')['orgVAF'].mean()"
   ]
  },
  {
   "cell_type": "markdown",
   "metadata": {},
   "source": [
    "### get the exome coordinates for snp_df from the cov_df\n",
    "+ cov_df is more complete\n",
    "+ needed to have a common coordinate system"
   ]
  },
  {
   "cell_type": "code",
   "execution_count": null,
   "metadata": {
    "ExecuteTime": {
     "end_time": "2020-10-09T09:03:51.956329Z",
     "start_time": "2020-10-09T09:03:51.942347Z"
    }
   },
   "outputs": [],
   "source": [
    "snp_df[:10]"
   ]
  },
  {
   "cell_type": "code",
   "execution_count": null,
   "metadata": {
    "ExecuteTime": {
     "end_time": "2020-10-09T09:03:52.414429Z",
     "start_time": "2020-10-09T09:03:52.402176Z"
    }
   },
   "outputs": [],
   "source": [
    "cov_df[:10]"
   ]
  },
  {
   "cell_type": "code",
   "execution_count": null,
   "metadata": {
    "ExecuteTime": {
     "end_time": "2020-10-09T04:13:28.691761Z",
     "start_time": "2020-10-09T04:13:28.676774Z"
    }
   },
   "outputs": [],
   "source": [
    "cov_df"
   ]
  },
  {
   "cell_type": "markdown",
   "metadata": {},
   "source": [
    "## combine SNP data and covData"
   ]
  },
  {
   "cell_type": "code",
   "execution_count": null,
   "metadata": {
    "ExecuteTime": {
     "end_time": "2020-10-26T15:15:48.899920Z",
     "start_time": "2020-10-26T15:15:48.896586Z"
    }
   },
   "outputs": [],
   "source": [
    "def get_covNsnp(sample, sample_cnv_path='', PON_cnv_path='', verbose=False, centerSNP=False):\n",
    "    '''\n",
    "    load the coverage_data for a sample and the heteroSNP data and apply the same fullExonCoords\n",
    "    '''\n",
    "    show_output(f'Loading coverage data for sample {sample}')\n",
    "    cov_df = combine_Covdata(\n",
    "        sample, sample_cnv_path=sample_cnv_path, PON_cnv_path=PON_cnv_path, verbose=verbose)\n",
    "    show_output(f'Loading SNP data for sample {sample}')\n",
    "    snp_df = combine_SNPdata(\n",
    "        sample, sample_cnv_path=sample_cnv_path, verbose=verbose)\n",
    "    show_output(f\"Finished loading sample {sample}\", color=\"success\")\n",
    "    return snp_df, cov_df"
   ]
  },
  {
   "cell_type": "code",
   "execution_count": null,
   "metadata": {
    "ExecuteTime": {
     "end_time": "2020-10-26T15:15:59.980839Z",
     "start_time": "2020-10-26T15:15:50.561212Z"
    }
   },
   "outputs": [],
   "source": [
    "sample = \"01_A\"\n",
    "snp_df, cov_df = get_covNsnp(sample, sample_cnv_path=cnv_path, PON_cnv_path=cnvPON_path, verbose=False)"
   ]
  },
  {
   "cell_type": "code",
   "execution_count": null,
   "metadata": {
    "ExecuteTime": {
     "end_time": "2020-10-26T15:16:03.400190Z",
     "start_time": "2020-10-26T15:16:03.388064Z"
    }
   },
   "outputs": [],
   "source": [
    "snp_df[:10]"
   ]
  },
  {
   "cell_type": "code",
   "execution_count": null,
   "metadata": {
    "ExecuteTime": {
     "end_time": "2020-10-26T15:16:05.576472Z",
     "start_time": "2020-10-26T15:16:05.564137Z"
    }
   },
   "outputs": [],
   "source": [
    "cov_df[:10]"
   ]
  }
 ],
 "metadata": {
  "kernelspec": {
   "display_name": "Python 3",
   "language": "python",
   "name": "python3"
  },
  "language_info": {
   "codemirror_mode": {
    "name": "ipython",
    "version": 3
   },
   "file_extension": ".py",
   "mimetype": "text/x-python",
   "name": "python",
   "nbconvert_exporter": "python",
   "pygments_lexer": "ipython3",
   "version": "3.8.6"
  },
  "varInspector": {
   "cols": {
    "lenName": 16,
    "lenType": 16,
    "lenVar": 40
   },
   "kernels_config": {
    "python": {
     "delete_cmd_postfix": "",
     "delete_cmd_prefix": "del ",
     "library": "var_list.py",
     "varRefreshCmd": "print(var_dic_list())"
    },
    "r": {
     "delete_cmd_postfix": ") ",
     "delete_cmd_prefix": "rm(",
     "library": "var_list.r",
     "varRefreshCmd": "cat(var_dic_list()) "
    }
   },
   "types_to_exclude": [
    "module",
    "function",
    "builtin_function_or_method",
    "instance",
    "_Feature"
   ],
   "window_display": false
  }
 },
 "nbformat": 4,
 "nbformat_minor": 4
}
