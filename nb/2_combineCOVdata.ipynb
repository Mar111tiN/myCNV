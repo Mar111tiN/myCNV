{
 "cells": [
  {
   "cell_type": "markdown",
   "metadata": {},
   "source": [
    "# adding GC data, combine the chroms and add the PON coverage for log2ratio"
   ]
  },
  {
   "cell_type": "code",
   "execution_count": null,
   "metadata": {
    "ExecuteTime": {
     "end_time": "2021-05-25T14:09:24.611810Z",
     "start_time": "2021-05-25T14:09:24.605625Z"
    }
   },
   "outputs": [],
   "source": [
    "# get the code\n",
    "import sys\n",
    "import os\n",
    "sys.path.append('../code')\n",
    "\n",
    "\n",
    "# HOME\n",
    "home = '/Users/mahtin'\n",
    "home = '/Users/martinscience'\n",
    "\n",
    "# standard paths\n",
    "static = os.path.join(home, \"Dropbox/Icke/Work/static\")\n",
    "cluster_path = os.path.join(home, \"mount\")\n",
    "tooldata = os.path.join(home, \"Dropbox/Icke/Work/somVar/tooldata\")\n",
    "testdata = os.path.join(home,\"Dropbox/Icke/Work/somVar/testdata\")\n",
    "\n",
    " \n",
    "cnvdata = os.path.join(tooldata, \"myCNVdata\")\n",
    "output_path = os.path.join(cnvdata, \"output\")\n",
    "\n",
    "# the path to the input data\n",
    "cnv_path = os.path.join(cnvdata, \"cnv\")\n",
    "PONCOV_path = cnv_path = os.path.join(cnvdata, \"chromCov\")"
   ]
  },
  {
   "cell_type": "markdown",
   "metadata": {},
   "source": [
    "### get the config\n",
    "+ use the get_CNVconfig util function to update the general configs with the appropriate"
   ]
  },
  {
   "cell_type": "code",
   "execution_count": null,
   "metadata": {
    "ExecuteTime": {
     "end_time": "2021-05-25T14:09:24.654179Z",
     "start_time": "2021-05-25T14:09:24.619200Z"
    }
   },
   "outputs": [],
   "source": [
    "from script_utils_CNV import get_CNVconfig\n",
    "CNVconfig = get_CNVconfig(\n",
    "    \"../config/config_CNV.yaml\", \n",
    "    local_config=dict(\n",
    "        mawk_path=\"../shell\",\n",
    "        bed_file=os.path.join(static, \"bed_files/SureSelect/hg38/SS_HAEv7_hg38_Padded.bed\"),\n",
    "        genome_split_path=os.path.join(static, \"genome/gatk/hg38/split\"),\n",
    "        gc_split_path=os.path.join(static, \"genome/gatk/hg38/split\"),\n",
    "        genmap_split_path=os.path.join(\"annotation/genmap/hg38/split\"),\n",
    "        pon_cov_path=os.path.join(cnvdata, \"chromCov\")\n",
    "    ))"
   ]
  },
  {
   "cell_type": "markdown",
   "metadata": {},
   "source": [
    "## A) get coverage data"
   ]
  },
  {
   "cell_type": "markdown",
   "metadata": {
    "ExecuteTime": {
     "end_time": "2021-05-25T13:42:52.827350Z",
     "start_time": "2021-05-25T13:41:48.106492Z"
    }
   },
   "source": [
    "from CNV_raw import get_rawCNV\n",
    "\n",
    "cov_df = get_rawCNV(\n",
    "    clean_TN_pileup_file=os.path.join(cnvdata, \"cleanpileup/03_A-B.chr7.gz\"),\n",
    "    chrom=\"chr7\",\n",
    "    SNP_output=os.path.join(output_path, \"pile2CNV/03_A-B.chr7.snp\"),\n",
    "    config=CNVconfig\n",
    ")\n",
    "\n",
    "\n",
    "cov_df.to_csv(os.path.join(output_path, \"pile2CNV/03_A-B.chr7.rawcov.gz\"), sep=\"\\t\", index=False, compression=\"gzip\")\n",
    "cov_df"
   ]
  },
  {
   "cell_type": "code",
   "execution_count": null,
   "metadata": {
    "ExecuteTime": {
     "end_time": "2021-05-25T14:09:29.817548Z",
     "start_time": "2021-05-25T14:09:29.614072Z"
    }
   },
   "outputs": [],
   "source": [
    "cov_df = pd.read_csv(os.path.join(output_path, \"pile2CNV/03_A-B.chr7.rawcov.gz\"), sep=\"\\t\", compression=\"gzip\")\n",
    "cov_df"
   ]
  },
  {
   "cell_type": "code",
   "execution_count": null,
   "metadata": {
    "ExecuteTime": {
     "end_time": "2021-05-25T14:09:31.580202Z",
     "start_time": "2021-05-25T14:09:31.575891Z"
    }
   },
   "outputs": [],
   "source": [
    "from script_utils_CNV import show_output\n",
    "\n",
    "def addGCratio(cov_df, chrom=\"\", config={}):\n",
    "    '''\n",
    "    adds the GCdata to the coverage data\n",
    "    '''\n",
    "    \n",
    "    # load GC data for that chromosome\n",
    "    gc_file = os.path.join(config['gc_split_path'], f\"{chrom}.gc100-10.gz\")\n",
    "    try:      \n",
    "        gc_df = pd.read_csv(gc_file, sep=\"\\t\", compression=\"gzip\")\n",
    "        show_output(f\"Loading GC data for {chrom} from {gc_file}\")\n",
    "    except Exception as e:\n",
    "        show_output(f\"{e}: Could not load GC data for {chrom} from {gc_file}\", color=\"warning\")\n",
    "        return\n",
    "    cov_df = cov_df.merge(gc_df, on=\"Start\", how=\"left\")\n",
    "    return cov_df\n",
    "    "
   ]
  },
  {
   "cell_type": "code",
   "execution_count": null,
   "metadata": {
    "ExecuteTime": {
     "end_time": "2021-05-25T14:10:07.827849Z",
     "start_time": "2021-05-25T14:10:00.092125Z"
    }
   },
   "outputs": [],
   "source": [
    "df = addGCratio(cov_df, chrom=\"chr7\", config=CNVconfig)\n",
    "df"
   ]
  },
  {
   "cell_type": "markdown",
   "metadata": {},
   "source": [
    "### do all chroms\n"
   ]
  },
  {
   "cell_type": "code",
   "execution_count": null,
   "metadata": {},
   "outputs": [],
   "source": []
  },
  {
   "cell_type": "markdown",
   "metadata": {},
   "source": [
    "##  Visualize GC bias"
   ]
  },
  {
   "cell_type": "code",
   "execution_count": null,
   "metadata": {
    "ExecuteTime": {
     "end_time": "2021-05-25T14:09:47.300880Z",
     "start_time": "2021-05-25T14:09:47.285821Z"
    }
   },
   "outputs": [],
   "source": [
    "import matplotlib.pyplot as plt"
   ]
  },
  {
   "cell_type": "code",
   "execution_count": null,
   "metadata": {
    "ExecuteTime": {
     "end_time": "2021-05-25T14:17:50.285589Z",
     "start_time": "2021-05-25T14:17:50.068664Z"
    }
   },
   "outputs": [],
   "source": [
    "fig, ax = plt.subplots(figsize=(10,10))\n",
    "ax.scatter(df['GC/AT'], df['Cov1'], s=0.1, alpha=.01)"
   ]
  },
  {
   "cell_type": "markdown",
   "metadata": {},
   "source": [
    "## C) coverage: merge sample coverage with Pon coverage"
   ]
  },
  {
   "cell_type": "code",
   "execution_count": null,
   "metadata": {},
   "outputs": [],
   "source": [
    "chrom_list = [f\"chr{c + 1}\" for c in range(22)] + ['chrX']\n",
    "\n",
    "def include_PONcov(sample, sample_cnv_path=\"\", PON_cnv_path=\"\", verbose=False, filtered=True):\n",
    "    \n",
    "    cover_dfs = []\n",
    "    \n",
    "    \n",
    "    for chrom in chrom_list:\n",
    "        # reading sampleCoverage\n",
    "        sample_cov_file = os.path.join(sample_cnv_path, f\"{sample}.{chrom}.cov\")\n",
    "        if not os.path.isfile(sample_cov_file):\n",
    "            print(\"No file\", sample_cov_file)\n",
    "            continue\n",
    "        if verbose:\n",
    "            print(f\"Reading coverage from {chrom} of sample {sample} from {sample_cov_file}.\")\n",
    "        cov_df = pd.read_csv(sample_cov_file, sep='\\t', compression=\"gzip\")\n",
    "        \n",
    "        #reading PONcoverage\n",
    "        full_or_filtered = \"filtered\" if filtered else \"full\"\n",
    "        pon_cov_file = os.path.join(PON_cnv_path, f\"{chrom}.{full_or_filtered}.csv.gz\")\n",
    "        if not os.path.isfile(pon_cov_file):\n",
    "            print(\"No file\", pon_cov_file)\n",
    "            continue\n",
    "        if verbose:\n",
    "            print(f\"Reading PON coverage of {chrom} from file {pon_cov_file}.\")\n",
    "        pon_df = pd.read_csv(pon_cov_file, sep='\\t', compression=\"gzip\").loc[:,['Chr', 'Pos', 'FullExonPos', 'ExonPos', 'meanCov', 'medianCov', 'std']]\n",
    "        # column rename\n",
    "        trans_dict = {col:f\"PON{col}\" for col in pon_df.columns[4:]}\n",
    "        pon_df = pon_df.rename(columns=trans_dict)\n",
    "        # merge sample with PON coverage\n",
    "        sample_df = cov_df.merge(pon_df, on=['Chr', 'Pos', 'ExonPos'], how=\"outer\").loc[:,['Chr', 'Pos', 'FullExonPos', 'ExonPos', 'Coverage','PONmeanCov', 'PONmedianCov', 'PONstd']]\n",
    "        \n",
    "        ##### here recover missing FullExonPos from margin\n",
    "        # get \n",
    "        exon_start, full_start = sample_df.iloc[0][['ExonPos', 'FullExonPos']]\n",
    "        offset = full_start - exon_start\n",
    "        sample_df.loc[sample_df['FullExonPos'] != s ample_df['FullExonPos'], 'FullExonPos'] = sample_df['ExonPos'] + offset\n",
    "        sample_df.loc[:, 'FullExonPos'] = sample_df.loc[:, 'FullExonPos'].astype(int)\n",
    "        cover_dfs.append(sample_df)  \n",
    "    # combine chrom data\n",
    "    cover_df = pd.concat(cover_dfs)\n",
    "    \n",
    "    # normalize the coverage\n",
    "    cover_df['Coverage'] = cover_df['Coverage'].fillna(0)\n",
    "    mean_cov = sample_df['Coverage'].mean()\n",
    "    cover_df.loc[:, 'Coverage'] = (cover_df['Coverage'] / mean_cov * 100)\n",
    "    # loggable are the coverages, where log2ratio can be computed\n",
    "    loggable = (cover_df['PONmeanCov'] * cover_df['Coverage'] != 0)\n",
    "    cover_df.loc[loggable, 'log2ratio'] = np.log2(cover_df.loc[loggable, 'Coverage'] / cover_df.loc[loggable, 'PONmeanCov'])\n",
    "    # mark regions without PON coverage as 0\n",
    "    cover_df.loc[~loggable, 'log2ratio'] = np.nan\n",
    "    return cover_df"
   ]
  },
  {
   "cell_type": "code",
   "execution_count": null,
   "metadata": {},
   "outputs": [],
   "source": [
    "def include_PONcov(cov_df, PON_cov_path=\"\", config={}):\n",
    "    '''\n",
    "    adds the PON coverage per coverage_chrom_df\n",
    "    normalization is performed afterwards on combined df\n",
    "    '''\n",
    "    \n",
    "    # reading sampleCoverage\n",
    "    PON_cov_file = os.path.join(PON_cov_path, f\"{chrom}.filtered.csv.gz\")\n",
    "    # check file existence\n",
    "    if not os.path.isfile(PON_cov_file):\n",
    "        show_output(f\"PON coverage file {PON_cov_file} not found\", color=\"warning\")\n",
    "        return\n",
    "    if verbose:\n",
    "        print(f\"Reading PON coverage of {chrom} from {PON_cov_file}.\")\n",
    "        PON_df = pd.read_csv(PON_cov_file, sep='\\t', compression=\"gzip\").loc[:,['Chr', 'Pos', 'FullExonPos', 'ExonPos', 'meanCov', 'medianCov', 'std']]\n",
    "        \n",
    "        # column rename\n",
    "        trans_dict = {col:f\"PON{col}\" for col in PON_df.columns[4:]}\n",
    "        pon_df = pon_df.rename(columns=trans_dict)\n",
    "        # merge sample with PON coverage\n",
    "        sample_df = cov_df.merge(PON_df, on=['Chr', 'Pos', 'ExonPos'], how=\"outer\").loc[:,['Chr', 'Pos', 'FullExonPos', 'ExonPos', 'Coverage','PONmeanCov', 'PONmedianCov', 'PONstd']]\n",
    "        \n",
    "        ##### here recover missing FullExonPos from margin\n",
    "        # get \n",
    "        exon_start, full_start = sample_df.iloc[0][['ExonPos', 'FullExonPos']]\n",
    "        offset = full_start - exon_start\n",
    "        sample_df.loc[sample_df['FullExonPos'] != s ample_df['FullExonPos'], 'FullExonPos'] = sample_df['ExonPos'] + offset\n",
    "        sample_df.loc[:, 'FullExonPos'] = sample_df.loc[:, 'FullExonPos'].astype(int)\n",
    "        cover_dfs.append(sample_df)  \n",
    "    # combine chrom data\n",
    "    cover_df = pd.concat(cover_dfs)\n",
    "    \n",
    "    # normalize the coverage\n",
    "    cover_df['Coverage'] = cover_df['Coverage'].fillna(0)\n",
    "    mean_cov = sample_df['Coverage'].mean()\n",
    "    cover_df.loc[:, 'Coverage'] = (cover_df['Coverage'] / mean_cov * 100)\n",
    "    # loggable are the coverages, where log2ratio can be computed\n",
    "    loggable = (cover_df['PONmeanCov'] * cover_df['Coverage'] != 0)\n",
    "    cover_df.loc[loggable, 'log2ratio'] = np.log2(cover_df.loc[loggable, 'Coverage'] / cover_df.loc[loggable, 'PONmeanCov'])\n",
    "    # mark regions without PON coverage as 0\n",
    "    cover_df.loc[~loggable, 'log2ratio'] = np.nan\n",
    "    return cover_df"
   ]
  },
  {
   "cell_type": "markdown",
   "metadata": {},
   "source": [
    "### run the PON includer"
   ]
  },
  {
   "cell_type": "code",
   "execution_count": null,
   "metadata": {},
   "outputs": [],
   "source": [
    "CNVconfig = get_CNVconfig(\n",
    "    \"../config/config_CNV.yaml\", \n",
    "    local_config=dict(\n",
    "        mawk_path=\"../shell\",\n",
    "        bed_file=os.path.join(static, \"bed_files/SureSelect/hg38/SS_HAEv7_hg38_Padded.bed\"),\n",
    "        genome_split_path=os.path.join(static, \"genome/gatk/hg38/split\"),\n",
    "        pon_cov_path=os.path.join(cnvdata, \"chromCov\")\n",
    "    ))"
   ]
  }
 ],
 "metadata": {
  "kernelspec": {
   "display_name": "Python 3",
   "language": "python",
   "name": "python3"
  },
  "language_info": {
   "codemirror_mode": {
    "name": "ipython",
    "version": 3
   },
   "file_extension": ".py",
   "mimetype": "text/x-python",
   "name": "python",
   "nbconvert_exporter": "python",
   "pygments_lexer": "ipython3",
   "version": "3.8.6"
  },
  "varInspector": {
   "cols": {
    "lenName": 16,
    "lenType": 16,
    "lenVar": 40
   },
   "kernels_config": {
    "python": {
     "delete_cmd_postfix": "",
     "delete_cmd_prefix": "del ",
     "library": "var_list.py",
     "varRefreshCmd": "print(var_dic_list())"
    },
    "r": {
     "delete_cmd_postfix": ") ",
     "delete_cmd_prefix": "rm(",
     "library": "var_list.r",
     "varRefreshCmd": "cat(var_dic_list()) "
    }
   },
   "types_to_exclude": [
    "module",
    "function",
    "builtin_function_or_method",
    "instance",
    "_Feature"
   ],
   "window_display": false
  }
 },
 "nbformat": 4,
 "nbformat_minor": 4
}
